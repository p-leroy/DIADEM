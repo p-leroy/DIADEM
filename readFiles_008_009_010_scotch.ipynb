{
 "cells": [
  {
   "cell_type": "markdown",
   "metadata": {},
   "source": [
    "# Init"
   ]
  },
  {
   "cell_type": "code",
   "execution_count": 1,
   "metadata": {},
   "outputs": [],
   "source": [
    "import numpy as np\n",
    "import matplotlib.pyplot as plt\n",
    "%matplotlib qt5"
   ]
  },
  {
   "cell_type": "code",
   "execution_count": 2,
   "metadata": {},
   "outputs": [],
   "source": [
    "from scipy import interpolate\n",
    "from mpl_toolkits.axes_grid1 import make_axes_locatable"
   ]
  },
  {
   "cell_type": "code",
   "execution_count": 3,
   "metadata": {},
   "outputs": [],
   "source": [
    "%load_ext autoreload\n",
    "%autoreload 2"
   ]
  },
  {
   "cell_type": "code",
   "execution_count": 4,
   "metadata": {},
   "outputs": [],
   "source": [
    "from toolsdiadem import tools as dia"
   ]
  },
  {
   "cell_type": "code",
   "execution_count": 5,
   "metadata": {},
   "outputs": [],
   "source": [
    "root_dir = \"/home/pleroy/DATA/DIADEM/bfu\"\n",
    "# 008 ===== 7l -45\n",
    "dir_008 = \"/20181011/008_7l_05l_-45_scotch\"\n",
    "pre_008 = \"ey\"\n",
    "dat_008 = root_dir + dir_008 + \"/\" + pre_008\n",
    "# 009 ===== 7l +45\n",
    "dir_009 = \"/20181012/009_7l_05l_+45_scotch\"\n",
    "pre_009 = \"ey\"\n",
    "dat_009 = root_dir + dir_009 + \"/\" + pre_009\n",
    "# 010 ===== 7l -45\n",
    "dir_010 = \"/20181012/010_3l_05l_+45_scotch\"\n",
    "pre_010 = \"ey\"\n",
    "dat_010 = root_dir + dir_010 + \"/\" + pre_010"
   ]
  },
  {
   "cell_type": "code",
   "execution_count": 6,
   "metadata": {},
   "outputs": [],
   "source": [
    "x0y0 = (211, 244.5)"
   ]
  },
  {
   "cell_type": "markdown",
   "metadata": {},
   "source": [
    "# Get frequencies and y values"
   ]
  },
  {
   "cell_type": "markdown",
   "metadata": {},
   "source": [
    "## Get Nf and Ny"
   ]
  },
  {
   "cell_type": "code",
   "execution_count": 7,
   "metadata": {},
   "outputs": [
    {
     "name": "stdout",
     "output_type": "stream",
     "text": [
      "/home/pleroy/DATA/DIADEM/bfu/20181011/008_7l_05l_-45_scotch\n",
      "Nf = 9, Ny = 81\n"
     ]
    }
   ],
   "source": [
    "Nf, Ny = dia.get_Nf_Ny(root_dir + dir_008)"
   ]
  },
  {
   "cell_type": "markdown",
   "metadata": {},
   "source": [
    "## Get f and y"
   ]
  },
  {
   "cell_type": "code",
   "execution_count": 4,
   "metadata": {},
   "outputs": [
    {
     "ename": "NameError",
     "evalue": "name 'dia' is not defined",
     "output_type": "error",
     "traceback": [
      "\u001b[0;31m---------------------------------------------------------------------------\u001b[0m",
      "\u001b[0;31mNameError\u001b[0m                                 Traceback (most recent call last)",
      "\u001b[0;32m<ipython-input-4-692b620b506b>\u001b[0m in \u001b[0;36m<module>\u001b[0;34m\u001b[0m\n\u001b[0;32m----> 1\u001b[0;31m \u001b[0mf\u001b[0m \u001b[0;34m=\u001b[0m \u001b[0mdia\u001b[0m\u001b[0;34m.\u001b[0m\u001b[0mgetF\u001b[0m\u001b[0;34m(\u001b[0m \u001b[0mNf\u001b[0m\u001b[0;34m,\u001b[0m \u001b[0mdat_00\u001b[0m\u001b[0;34m,\u001b[0m \u001b[0mroot_dir\u001b[0m\u001b[0;34m)\u001b[0m\u001b[0;34m\u001b[0m\u001b[0;34m\u001b[0m\u001b[0m\n\u001b[0m\u001b[1;32m      2\u001b[0m \u001b[0my\u001b[0m \u001b[0;34m=\u001b[0m \u001b[0mdia\u001b[0m\u001b[0;34m.\u001b[0m\u001b[0mgetY\u001b[0m\u001b[0;34m(\u001b[0m \u001b[0mNy\u001b[0m\u001b[0;34m,\u001b[0m \u001b[0mdat_00\u001b[0m\u001b[0;34m,\u001b[0m \u001b[0mroot_dir\u001b[0m\u001b[0;34m)\u001b[0m\u001b[0;34m\u001b[0m\u001b[0;34m\u001b[0m\u001b[0m\n",
      "\u001b[0;31mNameError\u001b[0m: name 'dia' is not defined"
     ]
    }
   ],
   "source": [
    "f = dia.getF( Nf, dat_00, root_dir)\n",
    "y = dia.getY( Ny, dat_00, root_dir)"
   ]
  },
  {
   "cell_type": "markdown",
   "metadata": {},
   "source": [
    "# Get amplitudes and phases"
   ]
  },
  {
   "cell_type": "code",
   "execution_count": 9,
   "metadata": {},
   "outputs": [],
   "source": [
    "fi = 0\n",
    "yi = 0\n",
    "x0, amp0 = dia.get_x_val(dat_008, fi, yi, \".amp\")\n",
    "x0_setpoints = np.arange(23.4, 398.6 + 4.69, 4.69)\n",
    "Nx = x0.size\n",
    "# (left, right, bottom, top)\n",
    "extent = [ x0[-1], x0[0], y[-1], y[0] ]\n",
    "extent = [ x0[-1]-x0y0[0], x0[0]-x0y0[0], y[-1]-x0y0[1], y[0]-x0y0[1] ]\n",
    "cmap='jet'"
   ]
  },
  {
   "cell_type": "code",
   "execution_count": 10,
   "metadata": {},
   "outputs": [
    {
     "data": {
      "text/plain": [
       "((80,), (81,), (81, 80), (81, 80))"
      ]
     },
     "execution_count": 10,
     "metadata": {},
     "output_type": "execute_result"
    }
   ],
   "source": [
    "X0, Y = np.meshgrid(x0, y)\n",
    "x0.shape, y.shape, X0.shape, Y.shape"
   ]
  },
  {
   "cell_type": "code",
   "execution_count": 11,
   "metadata": {},
   "outputs": [
    {
     "name": "stdout",
     "output_type": "stream",
     "text": [
      "get data for f = 32.0\n"
     ]
    }
   ],
   "source": [
    "fi = 4\n",
    "print(\"get data for f = {}\".format(f[fi]))\n",
    "\n",
    "ampAndPhaArrays = {}\n",
    "ampAndPhaArrays[\"00\"] = ( *dia.getAmpPhaArrays(Nx, Ny, fi, dat_00), dir_00, pre_00 )"
   ]
  },
  {
   "cell_type": "code",
   "execution_count": 12,
   "metadata": {},
   "outputs": [],
   "source": [
    "allAmpArrays = ( [ampAndPhaArrays[i][0] for i in ampAndPhaArrays.keys()])\n",
    "vmaxAll = np.amax(allAmpArrays)\n",
    "vminAll = np.amin(allAmpArrays)\n",
    "myVmax = 10\n",
    "myVmin = -40\n",
    "cmap='viridis'"
   ]
  },
  {
   "cell_type": "code",
   "execution_count": 13,
   "metadata": {},
   "outputs": [],
   "source": [
    "import parula as par"
   ]
  },
  {
   "cell_type": "code",
   "execution_count": 14,
   "metadata": {},
   "outputs": [
    {
     "data": {
      "text/plain": [
       "Text(0.5,1,'amplitudes\\n/20181011/008_7l_05l_-45_scotch/ey')"
      ]
     },
     "execution_count": 14,
     "metadata": {},
     "output_type": "execute_result"
    }
   ],
   "source": [
    "plt.figure()\n",
    "plt.imshow(ampAndPhaArrays[\"008\"][0], extent=extent, cmap=cmap )\n",
    "title = \"amplitudes\\n\" + dir_008 + \"/\" + pre_008\n",
    "plt.gca().set_aspect(\"equal\")\n",
    "plt.colorbar()\n",
    "plt.title(title)"
   ]
  },
  {
   "cell_type": "code",
   "execution_count": null,
   "metadata": {},
   "outputs": [],
   "source": [
    "plt.figure()\n",
    "plt.imshow(ampAndPhaArrays[\"008\"][1], extent=extent)\n",
    "title = \"amplitudes\"\n",
    "plt.colorbar()"
   ]
  },
  {
   "cell_type": "code",
   "execution_count": null,
   "metadata": {},
   "outputs": [],
   "source": [
    "plt.figure()\n",
    "plt.pcolor(X0, Y, ampAndPhaArrays[\"008\"][0], vmin=myVmin, vmax=myVmax)\n",
    "plt.gca().set_aspect('equal')\n",
    "plt.colorbar()\n",
    "plt.title(\"pcolor\")"
   ]
  },
  {
   "cell_type": "code",
   "execution_count": null,
   "metadata": {},
   "outputs": [],
   "source": [
    "def addSubPlotAmp(sub, nb, extent, vmin, vmax, cmap, k=0):\n",
    "    ax = plt.subplot(sub)\n",
    "    if k == 0:\n",
    "        ampArray = ampAndPhaArrays[nb][0]\n",
    "    else:\n",
    "        ampArray = np.rot90(ampAndPhaArrays[nb][0], k=k)\n",
    "    im = ax.imshow(ampArray, extent=extent, vmin=vmin, vmax=vmax, cmap=cmap)\n",
    "    title = \"amplitude\\n\" + ampAndPhaArrays[nb][2] + \"/\" + ampAndPhaArrays[nb][3]\n",
    "    divider = make_axes_locatable(ax)\n",
    "    cax = divider.append_axes(\"right\", size=\"5%\", pad=\"5%\")\n",
    "    plt.colorbar(im, cax=cax)\n",
    "    ax.set_title(title)\n",
    "    ax.grid(color='k',linestyle='--')\n",
    "    \n",
    "def addSubPlotPha(sub, nb, cmap, k=0):\n",
    "    plt.subplot(sub)\n",
    "    if k == 0:\n",
    "        ampArray = ampAndPhaArrays[nb][1]\n",
    "    else:\n",
    "        ampArray = np.rot90(ampAndPhaArrays[nb][1],k=k)\n",
    "    plt.imshow(ampArray, cmap=cmap)\n",
    "    title = \"phase\\n\" + ampAndPhaArrays[nb][2] + \"/\" + ampAndPhaArrays[nb][3]\n",
    "    plt.colorbar()\n",
    "    plt.title(title)"
   ]
  },
  {
   "cell_type": "code",
   "execution_count": null,
   "metadata": {},
   "outputs": [],
   "source": [
    "plt.figure()\n",
    "\n",
    "addSubPlotAmp(121, \"008\", extent, myVmin, myVmax, cmap)\n",
    "addSubPlotAmp(122, \"009\", extent, myVmin, myVmax, cmap, -1)"
   ]
  },
  {
   "cell_type": "code",
   "execution_count": null,
   "metadata": {},
   "outputs": [],
   "source": [
    "plt.figure()\n",
    "\n",
    "addSubPlotPha(121, \"008\", cmap)\n",
    "addSubPlotPha(122, \"009\", cmap)"
   ]
  },
  {
   "cell_type": "markdown",
   "metadata": {},
   "source": [
    "# Manipulate data"
   ]
  },
  {
   "cell_type": "code",
   "execution_count": null,
   "metadata": {},
   "outputs": [],
   "source": [
    "c_ey = dia.getComplex(ampAndPhaArrays['009'][0],ampAndPhaArrays['009'][1])\n",
    "c_ey_alt = c_ey - c_ey[0,0]\n",
    "vmax = np.amax(20*np.log10(np.abs(c_ey)))\n",
    "vmin = np.amin(20*np.log10(np.abs(c_ey)))"
   ]
  },
  {
   "cell_type": "code",
   "execution_count": null,
   "metadata": {},
   "outputs": [],
   "source": [
    "np.amin(c_ey), np.amin(np.real(c_ey)), np.amin(np.imag(c_ey))"
   ]
  },
  {
   "cell_type": "code",
   "execution_count": null,
   "metadata": {},
   "outputs": [],
   "source": [
    "np.where(np.abs(c_ey) == np.amin(np.abs(c_ey)))"
   ]
  },
  {
   "cell_type": "code",
   "execution_count": null,
   "metadata": {},
   "outputs": [],
   "source": [
    "c_ey[63,68]"
   ]
  },
  {
   "cell_type": "code",
   "execution_count": null,
   "metadata": {},
   "outputs": [],
   "source": [
    "fig, ((ax0,ax1), (ax2,ax3)) = plt.subplots(2,2)\n",
    "\n",
    "im0 = ax0.pcolor(20*np.log10(np.abs(np.real(c_ey))), vmin=vmin, vmax=vmax)\n",
    "dia.addColorBar(im0, ax0)\n",
    "\n",
    "im1 = ax1.pcolor(20*np.log10(np.abs(np.imag(c_ey))), vmin=vmin, vmax=vmax)\n",
    "dia.addColorBar(im1, ax1)\n",
    "\n",
    "im2 = ax2.pcolor(20*np.log10(np.abs(np.real(c_ey_alt))), vmin=vmin, vmax=vmax)\n",
    "dia.addColorBar(im2, ax2)\n",
    "\n",
    "im3 = ax3.pcolor(20*np.log10(np.abs(np.imag(c_ey_alt))), vmin=vmin, vmax=vmax)\n",
    "dia.addColorBar(im3, ax3)"
   ]
  },
  {
   "cell_type": "code",
   "execution_count": null,
   "metadata": {},
   "outputs": [],
   "source": [
    "row = 0\n",
    "\n",
    "fig, (ax0,ax1) = plt.subplots(2,1)\n",
    "\n",
    "ax0.plot(20*np.log10(np.abs(np.real(c_ey[row,:]))))\n",
    "ax0.plot(20*np.log10(np.abs(np.real(c_ey_alt[row,:]))))\n",
    "plt.grid()\n",
    "\n",
    "ax1.plot(20*np.log10(np.abs(np.imag(c_ey[row,:]))))\n",
    "ax1.plot(20*np.log10(np.abs(np.imag(c_ey_alt[row,:]))))\n",
    "plt.grid()"
   ]
  },
  {
   "cell_type": "markdown",
   "metadata": {},
   "source": [
    "# Save data"
   ]
  },
  {
   "cell_type": "code",
   "execution_count": null,
   "metadata": {},
   "outputs": [],
   "source": [
    "dia.saveData(root_dir, \"008\", ampAndPhaArrays, X0, Y)\n",
    "dia.saveData(root_dir, \"009\", ampAndPhaArrays, X0, Y)\n",
    "dia.saveData(root_dir, \"010\", ampAndPhaArrays, X0, Y)"
   ]
  },
  {
   "cell_type": "code",
   "execution_count": null,
   "metadata": {},
   "outputs": [],
   "source": [
    "ampAndPhaArrays['010'][0].shape"
   ]
  },
  {
   "cell_type": "code",
   "execution_count": null,
   "metadata": {},
   "outputs": [],
   "source": []
  }
 ],
 "metadata": {
  "kernelspec": {
   "display_name": "Python 3",
   "language": "python",
   "name": "python3"
  },
  "language_info": {
   "codemirror_mode": {
    "name": "ipython",
    "version": 3
   },
   "file_extension": ".py",
   "mimetype": "text/x-python",
   "name": "python",
   "nbconvert_exporter": "python",
   "pygments_lexer": "ipython3",
   "version": "3.7.2"
  },
  "toc": {
   "base_numbering": 1,
   "nav_menu": {},
   "number_sections": true,
   "sideBar": true,
   "skip_h1_title": false,
   "title_cell": "Table of Contents",
   "title_sidebar": "Contents",
   "toc_cell": false,
   "toc_position": {},
   "toc_section_display": true,
   "toc_window_display": true
  }
 },
 "nbformat": 4,
 "nbformat_minor": 2
}
