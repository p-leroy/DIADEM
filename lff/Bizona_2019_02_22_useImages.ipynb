{
 "cells": [
  {
   "cell_type": "code",
   "execution_count": 1,
   "metadata": {},
   "outputs": [],
   "source": [
    "import numpy as np\n",
    "import matplotlib.pyplot as plt"
   ]
  },
  {
   "cell_type": "code",
   "execution_count": 2,
   "metadata": {},
   "outputs": [],
   "source": [
    "%matplotlib qt5"
   ]
  },
  {
   "cell_type": "code",
   "execution_count": 3,
   "metadata": {},
   "outputs": [],
   "source": [
    "from mpl_toolkits.axes_grid1 import AxesGrid"
   ]
  },
  {
   "cell_type": "code",
   "execution_count": 4,
   "metadata": {},
   "outputs": [],
   "source": [
    "import pickle as pk"
   ]
  },
  {
   "cell_type": "code",
   "execution_count": 5,
   "metadata": {},
   "outputs": [],
   "source": [
    "%load_ext autoreload\n",
    "%autoreload 2"
   ]
  },
  {
   "cell_type": "markdown",
   "metadata": {},
   "source": [
    "# Custom tools"
   ]
  },
  {
   "cell_type": "code",
   "execution_count": 6,
   "metadata": {},
   "outputs": [],
   "source": [
    "import sys"
   ]
  },
  {
   "cell_type": "code",
   "execution_count": 7,
   "metadata": {},
   "outputs": [],
   "source": [
    "sys.path.insert(0, \"/home/pleroy/DEV/DIADEM\")\n",
    "import toolsdiadem.tools as dia\n",
    "import toolsdiadem.posargb as gb"
   ]
  },
  {
   "cell_type": "code",
   "execution_count": 9,
   "metadata": {},
   "outputs": [],
   "source": [
    "date = \"2019_02_22\"\n",
    "base_path = \"/home/pleroy/DATA/DIADEM/lff/Bizona_2019_02_22/Raw_data\"\n",
    "prefix = \"Volume_sol\"\n",
    "nbDir = 12\n",
    "RxTx = [\"21\", \"31\", \"32\", \"41\", \"42\", \"43\"]"
   ]
  },
  {
   "cell_type": "markdown",
   "metadata": {},
   "source": [
    "# Get heights"
   ]
  },
  {
   "cell_type": "code",
   "execution_count": 10,
   "metadata": {},
   "outputs": [],
   "source": [
    "heights = {}\n",
    "for k in range(1, nbDir+1):\n",
    "    filename = base_path + f\"/{prefix}_{k}/PoSAR.cfg\"\n",
    "    CFG = gb.readCfg( filename )\n",
    "    heights[f\"{k}\"] = CFG[\"H_nom\"]"
   ]
  },
  {
   "cell_type": "code",
   "execution_count": 11,
   "metadata": {},
   "outputs": [
    {
     "data": {
      "text/plain": [
       "{'1': 3.5,\n",
       " '2': 3.42,\n",
       " '3': 3.34,\n",
       " '4': 3.26,\n",
       " '5': 3.18,\n",
       " '6': 3.1,\n",
       " '7': 3.02,\n",
       " '8': 2.94,\n",
       " '9': 2.86,\n",
       " '10': 2.78,\n",
       " '11': 2.7,\n",
       " '12': 2.62}"
      ]
     },
     "execution_count": 11,
     "metadata": {},
     "output_type": "execute_result"
    }
   ],
   "source": [
    "heights"
   ]
  },
  {
   "cell_type": "code",
   "execution_count": 12,
   "metadata": {},
   "outputs": [],
   "source": [
    "def plotImgMosaic( imgOrig, extent, origin='upper', T=0 ):\n",
    "    fig = plt.figure()\n",
    "    grid = AxesGrid(fig, 111,  # similar to subplot(111)\n",
    "                    nrows_ncols=(3, 2),\n",
    "                    axes_pad=0.0,\n",
    "                    share_all=True,\n",
    "                    label_mode=\"all\",\n",
    "                    cbar_location=\"top\",\n",
    "                    cbar_mode=\"single\",\n",
    "                   )\n",
    "    \n",
    "    img = dict(imgOrig)\n",
    "\n",
    "    for im in img:\n",
    "        img[im] = np.squeeze(img[im])\n",
    "        if T:\n",
    "            img[im] = img[im].T\n",
    "    \n",
    "    ij = \"21\"\n",
    "    toPlot = 20 * np.log10( np.abs( img[ij] ) )\n",
    "    im = grid[0].imshow(toPlot, cmap='jet', extent=extent, origin=origin)\n",
    "    grid[0].set_ylabel(ij)\n",
    "\n",
    "    ij = \"41\"\n",
    "    toPlot = 20 * np.log10( np.abs( img[ij] ) )\n",
    "    im = grid[1].imshow(toPlot, cmap='jet', extent=extent, origin=origin)\n",
    "    grid[1].set_ylabel(ij)\n",
    "    grid[1].yaxis.set_ticks_position('right')\n",
    "    grid[1].yaxis.set_label_position('right')\n",
    "\n",
    "    ij = \"31\"\n",
    "    toPlot = 20 * np.log10( np.abs( img[ij] ) )\n",
    "    im = grid[2].imshow(toPlot, cmap='jet', extent=extent, origin=origin)\n",
    "    grid[2].set_ylabel(ij)\n",
    "\n",
    "    ij = \"42\"\n",
    "    toPlot = 20 * np.log10( np.abs( img[ij] ) )\n",
    "    im = grid[3].imshow(toPlot, cmap='jet', extent=extent, origin=origin)\n",
    "    grid[3].set_ylabel(ij)\n",
    "    grid[3].yaxis.set_ticks_position('right')\n",
    "    grid[3].yaxis.set_label_position('right')\n",
    "\n",
    "    ij = \"32\"\n",
    "    toPlot = 20 * np.log10( np.abs( img[ij] ) )\n",
    "    im = grid[4].imshow(toPlot, cmap='jet', extent=extent, origin=origin)\n",
    "    grid[4].set_ylabel(ij)\n",
    "\n",
    "    ij = \"43\"\n",
    "    toPlot = 20 * np.log10( np.abs( img[ij] ) )\n",
    "    im = grid[5].imshow(toPlot, cmap='jet', extent=extent, origin=origin)\n",
    "    grid[5].set_ylabel(ij)\n",
    "    grid[5].yaxis.set_ticks_position('right')\n",
    "    grid[5].yaxis.set_label_position('right')\n",
    "\n",
    "    grid.cbar_axes[0].colorbar(im)\n",
    "    \n",
    "    return fig, grid"
   ]
  },
  {
   "cell_type": "markdown",
   "metadata": {},
   "source": [
    "# zCut"
   ]
  },
  {
   "cell_type": "code",
   "execution_count": null,
   "metadata": {},
   "outputs": [],
   "source": [
    "xMin = -1.5\n",
    "xMax = 1.5\n",
    "yMin = 0\n",
    "yMax = 7\n",
    "extent_yx = [yMin, yMax, xMin, xMax]"
   ]
  },
  {
   "cell_type": "code",
   "execution_count": null,
   "metadata": {},
   "outputs": [],
   "source": [
    "hRef   = 3.500\n",
    "zCut   = 0.000\n",
    "with open(base_path + f\"/{date}_hRef{hRef:.3f}_zCut{zCut:.3f}.dat\", 'rb') as file:\n",
    "    img = pk.load(file)"
   ]
  },
  {
   "cell_type": "code",
   "execution_count": null,
   "metadata": {},
   "outputs": [],
   "source": [
    "fig, grid = plotImgMosaic(img[hRef], extent=extent_yx, origin='lower')\n",
    "title = f\"{date} ground range, hRef = {hRef}, zCut = {zCut}\"\n",
    "fig.suptitle(title)"
   ]
  },
  {
   "cell_type": "markdown",
   "metadata": {},
   "source": [
    "# xCut"
   ]
  },
  {
   "cell_type": "code",
   "execution_count": null,
   "metadata": {},
   "outputs": [],
   "source": [
    "yMin = 0\n",
    "yMax = 7\n",
    "zMin = -0.5\n",
    "zMax = 1.5\n",
    "extent_yz = [yMin, yMax, zMin, zMax]"
   ]
  },
  {
   "cell_type": "code",
   "execution_count": null,
   "metadata": {},
   "outputs": [],
   "source": [
    "hRef   = 3.500\n",
    "xCut   = 0.000\n",
    "with open(base_path + f\"/{date}_hRef{hRef:.3f}_xCut{xCut:.3f}.dat\", 'rb') as file:\n",
    "    img = pk.load(file)"
   ]
  },
  {
   "cell_type": "code",
   "execution_count": null,
   "metadata": {},
   "outputs": [],
   "source": [
    "fig, grid = plotImgMosaic(img[hRef], extent=extent_yz, origin='lower', T=1)\n",
    "title = f\"{date} xCut = {xCut}\"\n",
    "fig.suptitle(title)"
   ]
  },
  {
   "cell_type": "markdown",
   "metadata": {},
   "source": [
    "# Tomography"
   ]
  },
  {
   "cell_type": "code",
   "execution_count": null,
   "metadata": {},
   "outputs": [],
   "source": [
    "hRef   = 3.500\n",
    "xCut   = 0.000\n",
    "xMin = -0.1\n",
    "xMax = 0.1\n",
    "img_h = {}\n",
    "for idx in heights:\n",
    "    hRef = heights[idx]\n",
    "    print(base_path + f\"/{date}_hRef{hRef:.3f}_x{xMin:.3f}_{xMax:.3f}.dat\")\n",
    "    with open(base_path + f\"/{date}_hRef{hRef:.3f}_x{xMin:.3f}_{xMax:.3f}.dat\", 'rb') as file:\n",
    "        (imgGeom, img_h[hRef]) = pk.load( file )"
   ]
  },
  {
   "cell_type": "code",
   "execution_count": null,
   "metadata": {},
   "outputs": [],
   "source": [
    "(xMin, xMax, dx, yMin, yMax, dy, zMin, zMax, dz) = imgGeom\n",
    "nbX = int( (xMax-xMin) / dx ) + 1\n",
    "nbY = int( (yMax-yMin) / dy ) + 1\n",
    "nbZ = int( (zMax-zMin) / dz ) + 1\n",
    "idx0_x = int( nbX / 2 )"
   ]
  },
  {
   "cell_type": "markdown",
   "metadata": {},
   "source": [
    "## Monostatic"
   ]
  },
  {
   "cell_type": "code",
   "execution_count": null,
   "metadata": {},
   "outputs": [],
   "source": [
    "imgSum  = np.zeros( (nbY, nbZ), dtype=complex)\n",
    "imgSumC = np.zeros( (nbY, nbZ), dtype=complex)\n",
    "amp     = np.zeros( (nbY, nbZ), dtype=complex)\n",
    "idxx = idx0_x\n",
    "aver = 0\n",
    "\n",
    "for height in heights:\n",
    "    for ij in [\"21\", \"31\", \"32\"]:\n",
    "        z3 = heights[height]\n",
    "        imgSum +=         img_h[z3][ij][idxx,:,:]\n",
    "        amp    += np.abs( img_h[z3][ij][idxx,:,:] )\n",
    "        aver += 1\n",
    "imgSum = imgSum / aver\n",
    "print(f\"aver = {aver}\")"
   ]
  },
  {
   "cell_type": "code",
   "execution_count": null,
   "metadata": {},
   "outputs": [],
   "source": [
    "#imgSumNorm = imgSum / amp\n",
    "toPlot = 20 * np.log10( np.abs( imgSum ).T )\n",
    "\n",
    "fig, ax = plt.subplots(1,1)\n",
    "im = ax.imshow(toPlot, cmap='jet', origin='lower', extent=extent_yz)\n",
    "dia.addColorBar( im, ax, aspect=\"equal\" )"
   ]
  },
  {
   "cell_type": "markdown",
   "metadata": {},
   "source": [
    "## Bistatic"
   ]
  },
  {
   "cell_type": "code",
   "execution_count": null,
   "metadata": {},
   "outputs": [],
   "source": [
    "biz_imgSum  = np.zeros( (nbY, nbZ), dtype=complex)\n",
    "biz_imgSumC = np.zeros( (nbY, nbZ), dtype=complex)\n",
    "biz_amp     = np.zeros( (nbY, nbZ), dtype=complex)\n",
    "idxx = idx0_x\n",
    "aver = 0\n",
    "\n",
    "for idx in heights:\n",
    "    for ij in [\"41\", \"42\", \"43\"]:\n",
    "        z3 = heights[idx]\n",
    "        if z3 != 3.5:\n",
    "            if ij != \"41\":\n",
    "                biz_imgSum +=         img_h[z3][ij][idxx,:,:]\n",
    "                biz_amp    += np.abs( img_h[z3][ij][idxx,:,:] )\n",
    "                aver += 1\n",
    "        else:\n",
    "            biz_imgSum +=         img_h[z3][ij][idxx,:,:]\n",
    "            biz_amp    += np.abs( img_h[z3][ij][idxx,:,:] )\n",
    "            aver += 1\n",
    "biz_imgSum = biz_imgSum / aver\n",
    "print(f\"aver = {aver}\")"
   ]
  },
  {
   "cell_type": "code",
   "execution_count": null,
   "metadata": {},
   "outputs": [],
   "source": [
    "img_h[z3][ij].shape"
   ]
  },
  {
   "cell_type": "code",
   "execution_count": null,
   "metadata": {},
   "outputs": [],
   "source": [
    "#biz_imgSumNorm = biz_imgSum / biz_amp\n",
    "toPlot = 20 * np.log10( np.abs(biz_imgSum).T )\n",
    "\n",
    "fig, ax = plt.subplots(1,1)\n",
    "im = ax.imshow(toPlot, cmap='jet', origin='lower', extent=extent_yz)\n",
    "dia.addColorBar( im, ax, aspect=\"equal\" )"
   ]
  },
  {
   "cell_type": "markdown",
   "metadata": {},
   "source": [
    " ## Bistatic sum along x"
   ]
  },
  {
   "cell_type": "code",
   "execution_count": null,
   "metadata": {},
   "outputs": [],
   "source": [
    "biz_amp_i = np.zeros( (nbY, nbZ), dtype=float )\n",
    "\n",
    "for xn in range(21):\n",
    "    biz_imgSum  = np.zeros( (nbY, nbZ), dtype=complex )\n",
    "    # compute the coherent sum\n",
    "    for idx in heights:\n",
    "        for ij in [\"41\", \"42\", \"43\"]:\n",
    "            z3 = heights[idx]\n",
    "            if z3 != 3.5:\n",
    "                if ij != \"41\":\n",
    "                    biz_imgSum +=         img_h[z3][ij][xn,:,:]\n",
    "            else:\n",
    "                biz_imgSum +=         img_h[z3][ij][xn,:,:]\n",
    "    # compute the non coherent sum\n",
    "    biz_amp_i = biz_amp_i + biz_imgSum ** 2"
   ]
  },
  {
   "cell_type": "code",
   "execution_count": null,
   "metadata": {},
   "outputs": [],
   "source": [
    "toPlot = 10 * np.log10( np.abs(biz_amp_i).T )\n",
    "\n",
    "fig, ax = plt.subplots(1,1)\n",
    "im = ax.imshow(toPlot, cmap='jet', origin='lower', extent=extent_yz)\n",
    "dia.addColorBar( im, ax, aspect=\"equal\" )"
   ]
  },
  {
   "cell_type": "markdown",
   "metadata": {},
   "source": [
    "## Plot bistatic and monostatic"
   ]
  },
  {
   "cell_type": "code",
   "execution_count": null,
   "metadata": {},
   "outputs": [],
   "source": [
    "fig, grid = dia.plotImgMosaicMonoBi( imgSum.T, biz_imgSum.T, extent_yz, origin='lower' )\n",
    "title = date\n",
    "fig.suptitle(title)"
   ]
  },
  {
   "cell_type": "code",
   "execution_count": null,
   "metadata": {},
   "outputs": [],
   "source": []
  }
 ],
 "metadata": {
  "kernelspec": {
   "display_name": "Python 3",
   "language": "python",
   "name": "python3"
  },
  "language_info": {
   "codemirror_mode": {
    "name": "ipython",
    "version": 3
   },
   "file_extension": ".py",
   "mimetype": "text/x-python",
   "name": "python",
   "nbconvert_exporter": "python",
   "pygments_lexer": "ipython3",
   "version": "3.7.1"
  },
  "toc": {
   "base_numbering": 1,
   "nav_menu": {},
   "number_sections": true,
   "sideBar": true,
   "skip_h1_title": false,
   "title_cell": "Table of Contents",
   "title_sidebar": "Contents",
   "toc_cell": false,
   "toc_position": {},
   "toc_section_display": true,
   "toc_window_display": true
  },
  "varInspector": {
   "cols": {
    "lenName": 16,
    "lenType": 16,
    "lenVar": 40
   },
   "kernels_config": {
    "python": {
     "delete_cmd_postfix": "",
     "delete_cmd_prefix": "del ",
     "library": "var_list.py",
     "varRefreshCmd": "print(var_dic_list())"
    },
    "r": {
     "delete_cmd_postfix": ") ",
     "delete_cmd_prefix": "rm(",
     "library": "var_list.r",
     "varRefreshCmd": "cat(var_dic_list()) "
    }
   },
   "oldHeight": 734.85,
   "position": {
    "height": "756.85px",
    "left": "1180px",
    "right": "21px",
    "top": "53px",
    "width": "516px"
   },
   "types_to_exclude": [
    "module",
    "function",
    "builtin_function_or_method",
    "instance",
    "_Feature"
   ],
   "varInspector_section_display": "block",
   "window_display": false
  }
 },
 "nbformat": 4,
 "nbformat_minor": 2
}
