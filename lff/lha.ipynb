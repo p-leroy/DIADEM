{
 "cells": [
  {
   "cell_type": "markdown",
   "metadata": {},
   "source": [
    "# Init"
   ]
  },
  {
   "cell_type": "code",
   "execution_count": 1,
   "metadata": {},
   "outputs": [],
   "source": [
    "import scipy.io as sio\n",
    "import numpy as np\n",
    "import matplotlib.pyplot as plt"
   ]
  },
  {
   "cell_type": "code",
   "execution_count": 2,
   "metadata": {},
   "outputs": [],
   "source": [
    "%matplotlib qt5"
   ]
  },
  {
   "cell_type": "code",
   "execution_count": 3,
   "metadata": {},
   "outputs": [],
   "source": [
    "import sys, time"
   ]
  },
  {
   "cell_type": "code",
   "execution_count": 4,
   "metadata": {},
   "outputs": [],
   "source": [
    "sys.path.insert(0, \"/home/pleroy/DEV/processing/PoSAR-MC\")"
   ]
  },
  {
   "cell_type": "code",
   "execution_count": 5,
   "metadata": {},
   "outputs": [],
   "source": [
    "from backprojection.loadbackprojection import *\n",
    "libraryFilename = \"/home/pleroy/DEV/processing/PoSAR-MC/backprojection/ccpp/libbackprojection/liblibbackprojection.so\"\n",
    "lib = LibBackProjection( libraryFilename )"
   ]
  },
  {
   "cell_type": "code",
   "execution_count": 6,
   "metadata": {},
   "outputs": [],
   "source": [
    "sys.path.insert(0, \"/home/pleroy/DEV/DIADEM\")\n",
    "import toolsdiadem.tools as dia"
   ]
  },
  {
   "cell_type": "code",
   "execution_count": 7,
   "metadata": {},
   "outputs": [],
   "source": [
    "cmap=\"jet\""
   ]
  },
  {
   "cell_type": "markdown",
   "metadata": {},
   "source": [
    "# Prepare data"
   ]
  },
  {
   "cell_type": "code",
   "execution_count": 8,
   "metadata": {},
   "outputs": [],
   "source": [
    "c0 = 3e8\n",
    "Fmax = 6.44e9\n",
    "Fmin = 4.6e9\n",
    "dir_1_couche_sable = \"/home/pleroy/DATA/DIADEM/lff/Mesures_sable_Harkati/1_couche_sable\"\n",
    "dir_2_couches = \"/home/pleroy/DATA/DIADEM/lff/Mesures_sable_Harkati/2_couches\"\n",
    "dir_scene_vide = \"/home/pleroy/DATA/DIADEM/lff/Mesures_sable_Harkati/scene_vide\""
   ]
  },
  {
   "cell_type": "code",
   "execution_count": 9,
   "metadata": {},
   "outputs": [],
   "source": [
    "data_scene_vide = sio.loadmat(dir_scene_vide + \"/RD.mat\")\n",
    "RD_scene_vide = data_scene_vide['RD']\n",
    "\n",
    "data_1_couche_sable = sio.loadmat(dir_1_couche_sable + \"/RD.mat\")\n",
    "RD_1_couche_sable = data_1_couche_sable['RD']\n",
    "\n",
    "data_2_couches = sio.loadmat(dir_2_couches + \"/RD.mat\")\n",
    "RD_2_couches = data_2_couches['RD']"
   ]
  },
  {
   "cell_type": "code",
   "execution_count": 10,
   "metadata": {},
   "outputs": [
    {
     "name": "stdout",
     "output_type": "stream",
     "text": [
      "Na0 = 36, Nf = 401\n"
     ]
    }
   ],
   "source": [
    "Na0, Nf = RD_1_couche_sable.shape\n",
    "print(f\"Na0 = {Na0}, Nf = {Nf}\")"
   ]
  },
  {
   "cell_type": "code",
   "execution_count": 11,
   "metadata": {},
   "outputs": [],
   "source": [
    "f = np.linspace(Fmin, Fmax, Nf)"
   ]
  },
  {
   "cell_type": "code",
   "execution_count": 12,
   "metadata": {},
   "outputs": [
    {
     "name": "stdout",
     "output_type": "stream",
     "text": [
      "kc = 231.221, d_rg = 0.082\n"
     ]
    }
   ],
   "source": [
    "kc = 4 * np.pi / c0 * f[int(Nf/2)]\n",
    "Bf = Fmax - Fmin \n",
    "d_rg = c0 / 2 / Bf  #range resolution\n",
    "print(f\"kc = {kc:.3f}, d_rg = {d_rg:.3f}\")"
   ]
  },
  {
   "cell_type": "code",
   "execution_count": 13,
   "metadata": {},
   "outputs": [
    {
     "ename": "NameError",
     "evalue": "name 'RD0' is not defined",
     "output_type": "error",
     "traceback": [
      "\u001b[0;31m---------------------------------------------------------------------------\u001b[0m",
      "\u001b[0;31mNameError\u001b[0m                                 Traceback (most recent call last)",
      "\u001b[0;32m<ipython-input-13-686e3d491c86>\u001b[0m in \u001b[0;36m<module>\u001b[0;34m\u001b[0m\n\u001b[1;32m      3\u001b[0m \u001b[0max\u001b[0m\u001b[0;34m.\u001b[0m\u001b[0mplot\u001b[0m\u001b[0;34m(\u001b[0m \u001b[0;36m20\u001b[0m \u001b[0;34m*\u001b[0m \u001b[0mnp\u001b[0m\u001b[0;34m.\u001b[0m\u001b[0mlog10\u001b[0m\u001b[0;34m(\u001b[0m \u001b[0mnp\u001b[0m\u001b[0;34m.\u001b[0m\u001b[0mabs\u001b[0m\u001b[0;34m(\u001b[0m \u001b[0mnp\u001b[0m\u001b[0;34m.\u001b[0m\u001b[0mfft\u001b[0m\u001b[0;34m.\u001b[0m\u001b[0mifft\u001b[0m\u001b[0;34m(\u001b[0m \u001b[0mRD_1_couche_sable\u001b[0m\u001b[0;34m[\u001b[0m\u001b[0midx\u001b[0m\u001b[0;34m,\u001b[0m\u001b[0;34m:\u001b[0m\u001b[0;34m]\u001b[0m \u001b[0;34m)\u001b[0m \u001b[0;34m)\u001b[0m \u001b[0;34m)\u001b[0m\u001b[0;34m,\u001b[0m \u001b[0mlabel\u001b[0m\u001b[0;34m=\u001b[0m\u001b[0;34mf\"1_couche_sable, idx={idx}\"\u001b[0m \u001b[0;34m)\u001b[0m\u001b[0;34m\u001b[0m\u001b[0;34m\u001b[0m\u001b[0m\n\u001b[1;32m      4\u001b[0m \u001b[0max\u001b[0m\u001b[0;34m.\u001b[0m\u001b[0mplot\u001b[0m\u001b[0;34m(\u001b[0m \u001b[0;36m20\u001b[0m \u001b[0;34m*\u001b[0m \u001b[0mnp\u001b[0m\u001b[0;34m.\u001b[0m\u001b[0mlog10\u001b[0m\u001b[0;34m(\u001b[0m \u001b[0mnp\u001b[0m\u001b[0;34m.\u001b[0m\u001b[0mabs\u001b[0m\u001b[0;34m(\u001b[0m \u001b[0mnp\u001b[0m\u001b[0;34m.\u001b[0m\u001b[0mfft\u001b[0m\u001b[0;34m.\u001b[0m\u001b[0mifft\u001b[0m\u001b[0;34m(\u001b[0m \u001b[0mRD_scene_vide\u001b[0m\u001b[0;34m[\u001b[0m\u001b[0midx\u001b[0m\u001b[0;34m,\u001b[0m\u001b[0;34m:\u001b[0m\u001b[0;34m]\u001b[0m \u001b[0;34m)\u001b[0m \u001b[0;34m)\u001b[0m \u001b[0;34m)\u001b[0m\u001b[0;34m,\u001b[0m \u001b[0mlabel\u001b[0m\u001b[0;34m=\u001b[0m\u001b[0;34mf\"scene_vide, idx={idx}\"\u001b[0m \u001b[0;34m)\u001b[0m\u001b[0;34m\u001b[0m\u001b[0;34m\u001b[0m\u001b[0m\n\u001b[0;32m----> 5\u001b[0;31m \u001b[0max\u001b[0m\u001b[0;34m.\u001b[0m\u001b[0mplot\u001b[0m\u001b[0;34m(\u001b[0m \u001b[0;36m20\u001b[0m \u001b[0;34m*\u001b[0m \u001b[0mnp\u001b[0m\u001b[0;34m.\u001b[0m\u001b[0mlog10\u001b[0m\u001b[0;34m(\u001b[0m \u001b[0mnp\u001b[0m\u001b[0;34m.\u001b[0m\u001b[0mabs\u001b[0m\u001b[0;34m(\u001b[0m \u001b[0mnp\u001b[0m\u001b[0;34m.\u001b[0m\u001b[0mfft\u001b[0m\u001b[0;34m.\u001b[0m\u001b[0mifft\u001b[0m\u001b[0;34m(\u001b[0m \u001b[0mRD0\u001b[0m\u001b[0;34m[\u001b[0m\u001b[0midx\u001b[0m\u001b[0;34m,\u001b[0m\u001b[0;34m:\u001b[0m\u001b[0;34m]\u001b[0m \u001b[0;34m)\u001b[0m \u001b[0;34m)\u001b[0m \u001b[0;34m)\u001b[0m\u001b[0;34m,\u001b[0m \u001b[0mlabel\u001b[0m\u001b[0;34m=\u001b[0m\u001b[0;34mf\"RD0, idx={idx}\"\u001b[0m \u001b[0;34m)\u001b[0m\u001b[0;34m\u001b[0m\u001b[0;34m\u001b[0m\u001b[0m\n\u001b[0m\u001b[1;32m      6\u001b[0m \u001b[0max\u001b[0m\u001b[0;34m.\u001b[0m\u001b[0mgrid\u001b[0m\u001b[0;34m(\u001b[0m\u001b[0;34m)\u001b[0m\u001b[0;34m\u001b[0m\u001b[0;34m\u001b[0m\u001b[0m\n\u001b[1;32m      7\u001b[0m \u001b[0max\u001b[0m\u001b[0;34m.\u001b[0m\u001b[0mlegend\u001b[0m\u001b[0;34m(\u001b[0m\u001b[0;34m)\u001b[0m\u001b[0;34m\u001b[0m\u001b[0;34m\u001b[0m\u001b[0m\n",
      "\u001b[0;31mNameError\u001b[0m: name 'RD0' is not defined"
     ]
    }
   ],
   "source": [
    "im, ax = plt.subplots(1,1)\n",
    "idx = 1\n",
    "ax.plot( 20 * np.log10( np.abs( np.fft.ifft( RD_1_couche_sable[idx,:] ) ) ), label=f\"1_couche_sable, idx={idx}\" )\n",
    "ax.plot( 20 * np.log10( np.abs( np.fft.ifft( RD_scene_vide[idx,:] ) ) ), label=f\"scene_vide, idx={idx}\" )\n",
    "ax.plot( 20 * np.log10( np.abs( np.fft.ifft( RD0[idx,:] ) ) ), label=f\"RD0, idx={idx}\" )\n",
    "ax.grid()\n",
    "ax.legend()"
   ]
  },
  {
   "cell_type": "markdown",
   "metadata": {},
   "source": [
    "# Select mode and data"
   ]
  },
  {
   "cell_type": "code",
   "execution_count": 14,
   "metadata": {},
   "outputs": [
    {
     "name": "stdout",
     "output_type": "stream",
     "text": [
      "mode = mono, Na = 30, ind = [ 1  2  3  4  5  7  8  9 10 11 13 14 15 16 17 19 20 21 22 23 25 26 27 28\n",
      " 29 31 32 33 34 35]\n"
     ]
    }
   ],
   "source": [
    "#mode = \"biz\"\n",
    "mode = \"mono\"\n",
    "#RD0 = np.flipud( RD_1_couche_sable - RD_scene_vide )\n",
    "RD0 = np.flipud( RD_2_couches - RD_scene_vide )\n",
    "#RD0 = np.flipud( RD_scene_vide )\n",
    "\n",
    "H = 3.10 - 0.425 + 0.25    #elevation of antenna #1\n",
    "d0 = 2.5e-2\n",
    "NTx = 6\n",
    "\n",
    "y_Tx = np.ones( (6, 1) ) * 0\n",
    "z_Tx = (H + 0.425 + np.array( [ 0, 4, 8, 12, 16, 20 ] ) * d0).reshape(-1,1)\n",
    "\n",
    "if mode == \"mono\":\n",
    "    NRx = 5\n",
    "    # Rx\n",
    "    x_Rx = np.ones( (NRx, 1) ) * 0\n",
    "    y_Rx = np.ones( (NRx, 1) ) * 0\n",
    "    z_Rx = (H + np.array( [ 6, 24, 30, 48, 54 ] ) * d0).reshape(-1,1)\n",
    "    # Tx\n",
    "    x_Tx = np.ones( (NTx, 1) ) * 0.25\n",
    "    # RD\n",
    "    ind = np.setdiff1d( np.arange(Na0), np.arange(NTx) * NTx )\n",
    "    RD = RD0[ind,:]\n",
    "    Na = ind.shape[0]\n",
    "else:\n",
    "    NRx = 1\n",
    "    # Rx\n",
    "    x_Rx = np.ones( (NRx, 1) ) * 0\n",
    "    y_Rx = np.ones( (NRx, 1) ) * 6\n",
    "    z_Rx = np.ones( (NRx, 1) ) * 3.1\n",
    "    # Tx\n",
    "    x_Tx = np.ones( (NTx, 1) ) * 0\n",
    "    # RD\n",
    "    ind = np.arange(NTx) * NTx\n",
    "    RD = RD0[ind,:]\n",
    "    Na = ind.shape[0]\n",
    "    \n",
    "print(f\"mode = {mode}, Na = {Na}, ind = {ind}\")"
   ]
  },
  {
   "cell_type": "code",
   "execution_count": 15,
   "metadata": {},
   "outputs": [],
   "source": [
    "xyzRx = np.zeros( (Na, 5) )\n",
    "xyzTx = np.zeros( (Na, 5) )"
   ]
  },
  {
   "cell_type": "code",
   "execution_count": 16,
   "metadata": {},
   "outputs": [],
   "source": [
    "pos = 0\n",
    "\n",
    "for Tx in range( NTx ):\n",
    "\n",
    "    for Rx in range( NRx ):\n",
    "    \n",
    "        xyzTx[pos, 2] = x_Tx[ Tx ]\n",
    "        xyzTx[pos, 3] = y_Tx[ Tx ]\n",
    "        xyzTx[pos, 4] = z_Tx[ Tx ]\n",
    "        \n",
    "        xyzRx[pos, 2] = x_Rx[ Rx ]\n",
    "        xyzRx[pos, 3] = y_Rx[ Rx ]\n",
    "        xyzRx[pos, 4] = z_Rx[ Rx ]\n",
    "        \n",
    "        pos = pos + 1"
   ]
  },
  {
   "cell_type": "markdown",
   "metadata": {},
   "source": [
    "typedef struct{\n",
    "    double rampNumber;\n",
    "    double timeStamp;\n",
    "    double x;\n",
    "    double y;\n",
    "    double z;\n",
    "} MyPosition;"
   ]
  },
  {
   "cell_type": "markdown",
   "metadata": {},
   "source": [
    "# Scene parameters"
   ]
  },
  {
   "cell_type": "code",
   "execution_count": 17,
   "metadata": {},
   "outputs": [],
   "source": [
    "hScene = -1\n",
    "\n",
    "dx = 0.01\n",
    "dy = 0.01\n",
    "dz = 0.01\n",
    "xMin = 0.125\n",
    "xMax = 0.125\n",
    "yMin = 0\n",
    "yMax = 7\n",
    "zMin = 0\n",
    "zMax = 5\n",
    "\n",
    "x = np.arange(xMin, xMax+1e-9, dx)\n",
    "y = np.arange(yMin, yMax+1e-9, dy)\n",
    "z = np.arange(zMin, zMax+1e-9, dz)\n",
    "nbX = x.size\n",
    "nbY = y.size\n",
    "nbZ = z.size\n",
    "\n",
    "# lefg right bottom top\n",
    "extent_yz = [yMin, yMax, zMin, zMax]\n",
    "extent_yx = [yMin, yMax, xMin, xMax]"
   ]
  },
  {
   "cell_type": "code",
   "execution_count": 18,
   "metadata": {},
   "outputs": [
    {
     "name": "stdout",
     "output_type": "stream",
     "text": [
      "Nf = 401, Naz = 1, delay = 0\n",
      "range from 0.00m to 32.68m, resolution = 8.152e-02m, oversampled = 8.152e-03m\n"
     ]
    }
   ],
   "source": [
    "overSamplingRatio = 10\n",
    "d_shift = 0\n",
    "rangeResolution = d_rg\n",
    "Nover   = overSamplingRatio * Nf\n",
    "r_base  = np.arange( Nf ) * rangeResolution - d_shift\n",
    "r_over  = np.arange( Nover ) * rangeResolution / overSamplingRatio - d_shift\n",
    "dr_over = r_over[1] - r_over[0]\n",
    "\n",
    "print( f\"Nf = {Nf}, Naz = 1, delay = {d_shift}\" )\n",
    "print( f\"range from {r_over[0]:.2f}m to {r_over[-1]:.2f}m, \"\n",
    "      + f\"resolution = {rangeResolution:.3e}m, oversampled = {rangeResolution / overSamplingRatio:.3e}m\" )"
   ]
  },
  {
   "cell_type": "code",
   "execution_count": 19,
   "metadata": {},
   "outputs": [],
   "source": [
    "myParameters           = MyParametersPoSAR_GB()\n",
    "myParameters.Nx        = nbX\n",
    "myParameters.Ny        = nbY\n",
    "myParameters.Nz        = nbZ\n",
    "myParameters.Nover     = r_over.size\n",
    "myParameters.dx        = dr_over\n",
    "myParameters.Naz       = 1\n",
    "myParameters.Nf        = Nf\n",
    "myParameters.phi_a_deg = 60 # 20° => 7.4cm\n",
    "myParameters.kc        = kc"
   ]
  },
  {
   "cell_type": "markdown",
   "metadata": {},
   "source": [
    "# Focusing"
   ]
  },
  {
   "cell_type": "code",
   "execution_count": 20,
   "metadata": {},
   "outputs": [
    {
     "name": "stdout",
     "output_type": "stream",
     "text": [
      "focusedImg.shape = (1, 701, 501)\n",
      "execution time = 1.0622837543487549\n"
     ]
    }
   ],
   "source": [
    "t = time.time()\n",
    "\n",
    "focusedImg = np.zeros( (nbX, nbY, nbZ), dtype=complex )\n",
    "print( \"focusedImg.shape = {}\".format( focusedImg.shape ) )\n",
    "im = np.zeros( (Na, nbY, nbZ), dtype=complex )\n",
    "\n",
    "for loop in range(Na):\n",
    "    sr = np.fft.ifftshift( RD[loop,:] )\n",
    "    focusedImg.fill(0);\n",
    "    lib.so.backProjectionOmpGroundRange_PoSAR_GB_lha( x, y, z,\n",
    "                                                     r_over,\n",
    "                                                     sr.reshape(sr.size),\n",
    "                                                     xyzRx[loop], xyzTx[loop],\n",
    "                                                     focusedImg.reshape(focusedImg.size),\n",
    "                                                     myParameters)\n",
    "    im[loop,:,:] = focusedImg.squeeze()\n",
    "\n",
    "elapsed = time.time() - t\n",
    "print(\"execution time = \" + str(elapsed))"
   ]
  },
  {
   "cell_type": "markdown",
   "metadata": {},
   "source": [
    "# Plot image"
   ]
  },
  {
   "cell_type": "code",
   "execution_count": 21,
   "metadata": {},
   "outputs": [
    {
     "data": {
      "text/plain": [
       "(701, 501)"
      ]
     },
     "execution_count": 21,
     "metadata": {},
     "output_type": "execute_result"
    }
   ],
   "source": [
    "tom = np.sum(im, axis=0)\n",
    "tom.shape"
   ]
  },
  {
   "cell_type": "code",
   "execution_count": 22,
   "metadata": {},
   "outputs": [
    {
     "data": {
      "text/plain": [
       "Text(0.5, 1.0, 'mode mono')"
      ]
     },
     "execution_count": 22,
     "metadata": {},
     "output_type": "execute_result"
    }
   ],
   "source": [
    "toPlot = 10 * np.log10( np.abs(tom)**2 )\n",
    "#toPlot = np.abs(tom)**2\n",
    "vmax = np.amax(toPlot)\n",
    "\n",
    "fig, ax = plt.subplots(1,1)\n",
    "im = ax.pcolormesh(y, z, toPlot.T, cmap=cmap, vmin=vmax-35, vmax=vmax)\n",
    "dia.addColorBar( im, ax, aspect=\"equal\" )\n",
    "ax.set_title(\"mode \" + mode)"
   ]
  },
  {
   "cell_type": "code",
   "execution_count": null,
   "metadata": {},
   "outputs": [],
   "source": []
  },
  {
   "cell_type": "code",
   "execution_count": null,
   "metadata": {},
   "outputs": [],
   "source": []
  }
 ],
 "metadata": {
  "kernelspec": {
   "display_name": "Python 3",
   "language": "python",
   "name": "python3"
  },
  "language_info": {
   "codemirror_mode": {
    "name": "ipython",
    "version": 3
   },
   "file_extension": ".py",
   "mimetype": "text/x-python",
   "name": "python",
   "nbconvert_exporter": "python",
   "pygments_lexer": "ipython3",
   "version": "3.7.3"
  },
  "toc": {
   "base_numbering": 1,
   "nav_menu": {},
   "number_sections": true,
   "sideBar": true,
   "skip_h1_title": false,
   "title_cell": "Table of Contents",
   "title_sidebar": "Contents",
   "toc_cell": false,
   "toc_position": {},
   "toc_section_display": true,
   "toc_window_display": true
  },
  "varInspector": {
   "cols": {
    "lenName": 16,
    "lenType": 16,
    "lenVar": 40
   },
   "kernels_config": {
    "python": {
     "delete_cmd_postfix": "",
     "delete_cmd_prefix": "del ",
     "library": "var_list.py",
     "varRefreshCmd": "print(var_dic_list())"
    },
    "r": {
     "delete_cmd_postfix": ") ",
     "delete_cmd_prefix": "rm(",
     "library": "var_list.r",
     "varRefreshCmd": "cat(var_dic_list()) "
    }
   },
   "types_to_exclude": [
    "module",
    "function",
    "builtin_function_or_method",
    "instance",
    "_Feature"
   ],
   "window_display": false
  }
 },
 "nbformat": 4,
 "nbformat_minor": 2
}
