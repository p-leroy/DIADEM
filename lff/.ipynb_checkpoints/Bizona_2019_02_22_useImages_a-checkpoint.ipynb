{
 "cells": [
  {
   "cell_type": "code",
   "execution_count": 1,
   "metadata": {},
   "outputs": [],
   "source": [
    "import numpy as np\n",
    "import matplotlib.pyplot as plt"
   ]
  },
  {
   "cell_type": "code",
   "execution_count": 2,
   "metadata": {},
   "outputs": [],
   "source": [
    "%matplotlib qt5"
   ]
  },
  {
   "cell_type": "code",
   "execution_count": 211,
   "metadata": {},
   "outputs": [],
   "source": [
    "from mpl_toolkits.axes_grid1 import AxesGrid\n",
    "from mpl_toolkits.axes_grid1 import make_axes_locatable"
   ]
  },
  {
   "cell_type": "code",
   "execution_count": 4,
   "metadata": {},
   "outputs": [],
   "source": [
    "import pickle as pk"
   ]
  },
  {
   "cell_type": "code",
   "execution_count": 5,
   "metadata": {},
   "outputs": [],
   "source": [
    "%load_ext autoreload\n",
    "%autoreload 2"
   ]
  },
  {
   "cell_type": "markdown",
   "metadata": {},
   "source": [
    "# Custom tools"
   ]
  },
  {
   "cell_type": "code",
   "execution_count": 6,
   "metadata": {},
   "outputs": [],
   "source": [
    "import sys"
   ]
  },
  {
   "cell_type": "code",
   "execution_count": 34,
   "metadata": {},
   "outputs": [],
   "source": [
    "sys.path.insert(0, \"/home/pleroy/DEV/DIADEM\")\n",
    "import toolsdiadem.tools as dia\n",
    "import toolsdiadem.posargb as gb\n",
    "sys.path.insert(0, \"/home/pleroy/DEV/processing/focalization_python\")\n",
    "from posarutils.process.filtering import box_filter\n",
    "from posarutils.process.filtering import filter2"
   ]
  },
  {
   "cell_type": "code",
   "execution_count": 8,
   "metadata": {},
   "outputs": [],
   "source": [
    "date = \"2019_03_04\"\n",
    "base_path = \"/home/pleroy/DATA/DIADEM/lff/Bizona/\" + date\n",
    "prefix = \"sand_trunk_vol_\"\n",
    "nbDir = 11\n",
    "RxTx = [\"21\", \"31\", \"32\", \"41\", \"42\", \"43\"]"
   ]
  },
  {
   "cell_type": "markdown",
   "metadata": {},
   "source": [
    "# Get heights"
   ]
  },
  {
   "cell_type": "code",
   "execution_count": 9,
   "metadata": {},
   "outputs": [],
   "source": [
    "heights = {}\n",
    "for k in range(1, nbDir+1):\n",
    "    filename = base_path + f\"/{prefix}{k}/PoSAR.cfg\"\n",
    "    CFG = gb.readCfg( filename )\n",
    "    heights[f\"{k}\"] = CFG[\"H_nom\"]"
   ]
  },
  {
   "cell_type": "code",
   "execution_count": 10,
   "metadata": {},
   "outputs": [
    {
     "data": {
      "text/plain": [
       "{'1': 3.41,\n",
       " '2': 3.33,\n",
       " '3': 3.25,\n",
       " '4': 3.17,\n",
       " '5': 3.09,\n",
       " '6': 3.01,\n",
       " '7': 2.93,\n",
       " '8': 2.85,\n",
       " '9': 2.77,\n",
       " '10': 2.69,\n",
       " '11': 2.61}"
      ]
     },
     "execution_count": 10,
     "metadata": {},
     "output_type": "execute_result"
    }
   ],
   "source": [
    "heights"
   ]
  },
  {
   "cell_type": "markdown",
   "metadata": {},
   "source": [
    "# zCut"
   ]
  },
  {
   "cell_type": "code",
   "execution_count": 187,
   "metadata": {},
   "outputs": [],
   "source": [
    "zCut   = 0.000\n",
    "\n",
    "for idx in heights:\n",
    "    hRef = heights[idx]\n",
    "    filename = base_path + f\"/{date}_hRef{hRef:.3f}_z{zCut:.3f}.dat\"\n",
    "    with open(filename, 'rb') as file:\n",
    "        (imgGeom, img_h_zCut[hRef]) = pk.load( file )"
   ]
  },
  {
   "cell_type": "code",
   "execution_count": 188,
   "metadata": {},
   "outputs": [],
   "source": [
    "(xMin, xMax, dx, yMin, yMax, dy, zMin, zMax, dz) = imgGeom\n",
    "nbX = int( (xMax-xMin) / dx ) + 1\n",
    "nbY = int( (yMax-yMin) / dy ) + 1\n",
    "nbZ = int( (zMax-zMin) / dz ) + 1\n",
    "extent_yx = [yMin, yMax, xMin, xMax]\n",
    "x = np.arange(xMin,xMax+1e-9,dx)\n",
    "y = np.arange(yMin,yMax+1e-9,dy)"
   ]
  },
  {
   "cell_type": "code",
   "execution_count": 158,
   "metadata": {},
   "outputs": [
    {
     "data": {
      "text/plain": [
       "Text(0.5, 0.98, '2019_03_04 ground range, hRef = 3.41, zCut = 0.0')"
      ]
     },
     "execution_count": 158,
     "metadata": {},
     "output_type": "execute_result"
    }
   ],
   "source": [
    "fig, grid = dia.plotImgMosaic(img_h_zCut[hRef], extent=extent_yx, origin='lower')\n",
    "title = f\"{date} ground range, hRef = {hRef}, zCut = {zCut}\"\n",
    "fig.suptitle(title)"
   ]
  },
  {
   "cell_type": "code",
   "execution_count": 159,
   "metadata": {},
   "outputs": [],
   "source": [
    "indexes = np.where((x<-0.15) & (x>-0.25))[0]"
   ]
  },
  {
   "cell_type": "code",
   "execution_count": 160,
   "metadata": {},
   "outputs": [
    {
     "data": {
      "text/plain": [
       "(10,)"
      ]
     },
     "execution_count": 160,
     "metadata": {},
     "output_type": "execute_result"
    }
   ],
   "source": [
    "indexes.shape"
   ]
  },
  {
   "cell_type": "code",
   "execution_count": 161,
   "metadata": {},
   "outputs": [
    {
     "data": {
      "text/plain": [
       "(11, 701, 201)"
      ]
     },
     "execution_count": 161,
     "metadata": {},
     "output_type": "execute_result"
    }
   ],
   "source": [
    "img_h[hRef][\"32\"].shape"
   ]
  },
  {
   "cell_type": "code",
   "execution_count": 56,
   "metadata": {},
   "outputs": [],
   "source": [
    "fig, ax = plt.subplots(1,1)\n",
    "for xn in indexes:\n",
    "    ij = \"32\"\n",
    "    toPlot = 20 * np.log10( np.abs( img_h[hRef][ij][xn,:,0] ) )\n",
    "    ax.plot( y, toPlot, label=f\"{xn}, x = {x[xn]:.3f}\" )\n",
    "ax.legend()\n",
    "ax.grid()"
   ]
  },
  {
   "cell_type": "markdown",
   "metadata": {},
   "source": [
    "## Correlation\n",
    "\n",
    "$$ \\left(C_i = \\sum_j{I_{i+k-j} W_j}\\right) $$"
   ]
  },
  {
   "cell_type": "code",
   "execution_count": 162,
   "metadata": {},
   "outputs": [],
   "source": [
    "filt = np.ones((5,5))\n",
    "filt = k / np.sum(k)"
   ]
  },
  {
   "cell_type": "code",
   "execution_count": 197,
   "metadata": {},
   "outputs": [],
   "source": [
    "im1 = img_h_zCut[3.41][\"21\"][:,:,0]\n",
    "im2 = img_h_zCut[3.41][\"31\"][:,:,0]\n",
    "im3 = img_h_zCut[3.41][\"32\"][:,:,0]\n",
    "im4 = img_h_zCut[3.41][\"41\"][:,:,0]\n",
    "im5 = img_h_zCut[3.41][\"42\"][:,:,0]\n",
    "im6 = img_h_zCut[3.41][\"43\"][:,:,0]\n",
    "I1  = filter2( filt, np.abs(im1)**2 )\n",
    "I2  = filter2( filt, np.abs(im2)**2 )\n",
    "I3  = filter2( filt, np.abs(im3)**2 )\n",
    "I4  = filter2( filt, np.abs(im4)**2 )\n",
    "I5  = filter2( filt, np.abs(im5)**2 )\n",
    "I6  = filter2( filt, np.abs(im6)**2 )\n",
    "I12 = filter2( filt, im1 * np.conj(im2) ) / ( I1 * I2 )**0.5\n",
    "I13 = filter2( filt, im1 * np.conj(im3) ) / ( I1 * I3 )**0.5\n",
    "I23 = filter2( filt, im2 * np.conj(im3) ) / ( I2 * I3 )**0.5\n",
    "I45 = filter2( filt, im4 * np.conj(im5) ) / ( I4 * I5 )**0.5\n",
    "I46 = filter2( filt, im4 * np.conj(im6) ) / ( I4 * I6 )**0.5\n",
    "I56 = filter2( filt, im5 * np.conj(im6) ) / ( I5 * I6 )**0.5"
   ]
  },
  {
   "cell_type": "code",
   "execution_count": 173,
   "metadata": {},
   "outputs": [],
   "source": [
    "fig, ax = plt.subplots(1,1)\n",
    "toPlot = 10 * np.log10( I1 )\n",
    "im = ax.imshow(toPlot, origin='lower', cmap='jet', extent=extent_yx)\n",
    "dia.addColorBar( im, ax, aspect=\"equal\" )"
   ]
  },
  {
   "cell_type": "code",
   "execution_count": 174,
   "metadata": {},
   "outputs": [],
   "source": [
    "fig, ax = plt.subplots(1,1)\n",
    "toPlot = np.abs( I12 )\n",
    "np.amin( toPlot ), np.amax( toPlot )\n",
    "im = ax.imshow(toPlot, origin='lower', cmap='gray', extent=extent_yx, vmin=0, vmax=1)\n",
    "dia.addColorBar( im, ax, aspect=\"equal\" )"
   ]
  },
  {
   "cell_type": "code",
   "execution_count": 166,
   "metadata": {},
   "outputs": [],
   "source": [
    "fig, ax = plt.subplots(1,1)\n",
    "toPlot = 10 * np.log10( I4 )\n",
    "im = ax.imshow(toPlot, origin='lower', cmap='jet', extent=extent_yx)\n",
    "dia.addColorBar( im, ax, aspect=\"equal\" )"
   ]
  },
  {
   "cell_type": "code",
   "execution_count": 167,
   "metadata": {},
   "outputs": [],
   "source": [
    "fig, ax = plt.subplots(1,1)\n",
    "toPlot = np.abs( I56 )\n",
    "im = ax.imshow(toPlot, origin='lower', cmap='gray', extent=extent_yx)\n",
    "dia.addColorBar( im, ax, aspect=\"equal\" )"
   ]
  },
  {
   "cell_type": "code",
   "execution_count": 190,
   "metadata": {},
   "outputs": [
    {
     "data": {
      "text/plain": [
       "66218.33424434825"
      ]
     },
     "execution_count": 190,
     "metadata": {},
     "output_type": "execute_result"
    }
   ],
   "source": [
    "np.amax((I1,I2))"
   ]
  },
  {
   "cell_type": "code",
   "execution_count": 237,
   "metadata": {},
   "outputs": [
    {
     "name": "stdout",
     "output_type": "stream",
     "text": [
      "min = -26.80, max = 48.21\n"
     ]
    }
   ],
   "source": [
    "fig, grid = dia.plotImgMosaicAutoCross(I1, I2, I3, I12, I13, I23, extent_yx, origin='lower', vmin=0, vmax=50)"
   ]
  },
  {
   "cell_type": "markdown",
   "metadata": {},
   "source": [
    "# xCut"
   ]
  },
  {
   "cell_type": "code",
   "execution_count": 250,
   "metadata": {},
   "outputs": [
    {
     "ename": "FileNotFoundError",
     "evalue": "[Errno 2] No such file or directory: '/home/pleroy/DATA/DIADEM/lff/Bizona/2019_03_04/2019_03_04_hRef3.500_xCut0.000.dat'",
     "output_type": "error",
     "traceback": [
      "\u001b[0;31m---------------------------------------------------------------------------\u001b[0m",
      "\u001b[0;31mFileNotFoundError\u001b[0m                         Traceback (most recent call last)",
      "\u001b[0;32m<ipython-input-250-09aca7c07306>\u001b[0m in \u001b[0;36m<module>\u001b[0;34m\u001b[0m\n\u001b[1;32m      1\u001b[0m \u001b[0mhRef\u001b[0m   \u001b[0;34m=\u001b[0m \u001b[0;36m3.500\u001b[0m\u001b[0;34m\u001b[0m\u001b[0;34m\u001b[0m\u001b[0m\n\u001b[1;32m      2\u001b[0m \u001b[0mxCut\u001b[0m   \u001b[0;34m=\u001b[0m \u001b[0;36m0.000\u001b[0m\u001b[0;34m\u001b[0m\u001b[0;34m\u001b[0m\u001b[0m\n\u001b[0;32m----> 3\u001b[0;31m \u001b[0;32mwith\u001b[0m \u001b[0mopen\u001b[0m\u001b[0;34m(\u001b[0m\u001b[0mbase_path\u001b[0m \u001b[0;34m+\u001b[0m \u001b[0;34mf\"/{date}_hRef{hRef:.3f}_xCut{xCut:.3f}.dat\"\u001b[0m\u001b[0;34m,\u001b[0m \u001b[0;34m'rb'\u001b[0m\u001b[0;34m)\u001b[0m \u001b[0;32mas\u001b[0m \u001b[0mfile\u001b[0m\u001b[0;34m:\u001b[0m\u001b[0;34m\u001b[0m\u001b[0;34m\u001b[0m\u001b[0m\n\u001b[0m\u001b[1;32m      4\u001b[0m     \u001b[0mimg_h_zCut\u001b[0m \u001b[0;34m=\u001b[0m \u001b[0mpk\u001b[0m\u001b[0;34m.\u001b[0m\u001b[0mload\u001b[0m\u001b[0;34m(\u001b[0m\u001b[0mfile\u001b[0m\u001b[0;34m)\u001b[0m\u001b[0;34m\u001b[0m\u001b[0;34m\u001b[0m\u001b[0m\n",
      "\u001b[0;31mFileNotFoundError\u001b[0m: [Errno 2] No such file or directory: '/home/pleroy/DATA/DIADEM/lff/Bizona/2019_03_04/2019_03_04_hRef3.500_xCut0.000.dat'"
     ]
    }
   ],
   "source": [
    "hRef   = 3.500\n",
    "xCut   = 0.000\n",
    "with open(base_path + f\"/{date}_hRef{hRef:.3f}_xCut{xCut:.3f}.dat\", 'rb') as file:\n",
    "    img_h_zCut = pk.load(file)"
   ]
  },
  {
   "cell_type": "code",
   "execution_count": null,
   "metadata": {},
   "outputs": [],
   "source": [
    "fig, grid = plotImgMosaic(img_h_zCut[hRef], extent=extent_yz, origin='lower', T=1)\n",
    "title = f\"{date} xCut = {xCut}\"\n",
    "fig.suptitle(title)"
   ]
  },
  {
   "cell_type": "markdown",
   "metadata": {},
   "source": [
    "# Tomography"
   ]
  },
  {
   "cell_type": "code",
   "execution_count": 385,
   "metadata": {},
   "outputs": [],
   "source": [
    "vmin = -10\n",
    "vmax = 50"
   ]
  },
  {
   "cell_type": "code",
   "execution_count": 376,
   "metadata": {},
   "outputs": [
    {
     "name": "stdout",
     "output_type": "stream",
     "text": [
      "/home/pleroy/DATA/DIADEM/lff/Bizona/2019_03_04/2019_03_04_hRef3.410_x-0.250_-0.150_newDelay.dat\n",
      "/home/pleroy/DATA/DIADEM/lff/Bizona/2019_03_04/2019_03_04_hRef3.330_x-0.250_-0.150_newDelay.dat\n",
      "/home/pleroy/DATA/DIADEM/lff/Bizona/2019_03_04/2019_03_04_hRef3.250_x-0.250_-0.150_newDelay.dat\n",
      "/home/pleroy/DATA/DIADEM/lff/Bizona/2019_03_04/2019_03_04_hRef3.170_x-0.250_-0.150_newDelay.dat\n",
      "/home/pleroy/DATA/DIADEM/lff/Bizona/2019_03_04/2019_03_04_hRef3.090_x-0.250_-0.150_newDelay.dat\n",
      "/home/pleroy/DATA/DIADEM/lff/Bizona/2019_03_04/2019_03_04_hRef3.010_x-0.250_-0.150_newDelay.dat\n",
      "/home/pleroy/DATA/DIADEM/lff/Bizona/2019_03_04/2019_03_04_hRef2.930_x-0.250_-0.150_newDelay.dat\n",
      "/home/pleroy/DATA/DIADEM/lff/Bizona/2019_03_04/2019_03_04_hRef2.850_x-0.250_-0.150_newDelay.dat\n",
      "/home/pleroy/DATA/DIADEM/lff/Bizona/2019_03_04/2019_03_04_hRef2.770_x-0.250_-0.150_newDelay.dat\n",
      "/home/pleroy/DATA/DIADEM/lff/Bizona/2019_03_04/2019_03_04_hRef2.690_x-0.250_-0.150_newDelay.dat\n",
      "/home/pleroy/DATA/DIADEM/lff/Bizona/2019_03_04/2019_03_04_hRef2.610_x-0.250_-0.150_newDelay.dat\n"
     ]
    }
   ],
   "source": [
    "xCut   = 0.000\n",
    "\n",
    "if 1:\n",
    "    xMin = -0.25\n",
    "    xMax = -0.15\n",
    "    xCut = -0.2\n",
    "else:\n",
    "    xMin = -1.\n",
    "    xMax = -0.9\n",
    "    xCut = -0.95\n",
    "img_h = {}\n",
    "for idx in heights:\n",
    "    hRef = heights[idx]\n",
    "    filename = base_path + f\"/{date}_hRef{hRef:.3f}_x{xMin:.3f}_{xMax:.3f}_newDelay.dat\"\n",
    "    print(filename)\n",
    "    with open(filename, 'rb') as file:\n",
    "        (imgGeom, img_h[hRef]) = pk.load( file )"
   ]
  },
  {
   "cell_type": "code",
   "execution_count": 377,
   "metadata": {},
   "outputs": [
    {
     "name": "stdout",
     "output_type": "stream",
     "text": [
      "x[idx0_x] = -0.200\n"
     ]
    }
   ],
   "source": [
    "(xMin, xMax, dx, yMin, yMax, dy, zMin, zMax, dz) = imgGeom\n",
    "nbX = int( (xMax-xMin) / dx ) + 1\n",
    "nbY = int( (yMax-yMin) / dy ) + 1\n",
    "nbZ = int( (zMax-zMin) / dz ) + 1\n",
    "idx0_x = int( nbX / 2 )\n",
    "extent_yz = [yMin, yMax, zMin, zMax]\n",
    "x = np.arange(xMin,xMax+1e-9,dx)\n",
    "y = np.arange(yMin,yMax+1e-9,dy)\n",
    "z = np.arange(zMin,zMax+1e-9,dz)\n",
    "print(f\"x[idx0_x] = {x[idx0_x]:.3f}\")"
   ]
  },
  {
   "cell_type": "markdown",
   "metadata": {},
   "source": [
    "## Monostatic"
   ]
  },
  {
   "cell_type": "code",
   "execution_count": 378,
   "metadata": {},
   "outputs": [
    {
     "name": "stdout",
     "output_type": "stream",
     "text": [
      "x = -0.19999999999999996, aver = 33, -73.0 48.6\n"
     ]
    }
   ],
   "source": [
    "imgSum  = np.zeros( (nbY, nbZ), dtype=complex)\n",
    "imgSumC = np.zeros( (nbY, nbZ), dtype=complex)\n",
    "amp     = np.zeros( (nbY, nbZ), dtype=complex)\n",
    "idxx = idx0_x\n",
    "aver = 0\n",
    "\n",
    "for height in heights:\n",
    "    for ij in [\"21\", \"31\", \"32\"]:\n",
    "        z3 = heights[height]\n",
    "        imgSum +=         img_h[z3][ij][idxx,:,:]\n",
    "        amp    += np.abs( img_h[z3][ij][idxx,:,:] )\n",
    "        aver += 1\n",
    "imgSum = imgSum / aver\n",
    "min_imgSum = np.amin( 20 * np.log10( np.abs( imgSum ) ) )\n",
    "max_imgSum = np.amax( 20 * np.log10( np.abs( imgSum ) ) )\n",
    "xSum = x[idxx]\n",
    "print(f\"x = {xSum}, aver = {aver}, {min_imgSum:.1f} {max_imgSum:.1f}\")"
   ]
  },
  {
   "cell_type": "code",
   "execution_count": 387,
   "metadata": {},
   "outputs": [
    {
     "data": {
      "text/plain": [
       "Text(0.5, 1.0, '2019_03_04 monostatic x = -0.200')"
      ]
     },
     "execution_count": 387,
     "metadata": {},
     "output_type": "execute_result"
    }
   ],
   "source": [
    "#imgSumNorm = imgSum / amp\n",
    "toPlot = 20 * np.log10( np.abs( imgSum ).T )\n",
    "fig, ax = plt.subplots(1,1)\n",
    "im = ax.imshow(toPlot, cmap='jet', origin='lower', extent=extent_yz, vmin=vmin, vmax=vmax)\n",
    "dia.addColorBar( im, ax, aspect=\"equal\" )\n",
    "title = date + f\" monostatic x = {x[idx0_x]:.3f}\"\n",
    "ax.set_title(title)"
   ]
  },
  {
   "cell_type": "markdown",
   "metadata": {},
   "source": [
    "## Bistatic"
   ]
  },
  {
   "cell_type": "code",
   "execution_count": 380,
   "metadata": {},
   "outputs": [
    {
     "name": "stdout",
     "output_type": "stream",
     "text": [
      "x = -0.200, aver = 22, min = -59.6, max = 50.6\n"
     ]
    }
   ],
   "source": [
    "biz_imgSum  = np.zeros( (nbY, nbZ), dtype=complex)\n",
    "biz_imgSumC = np.zeros( (nbY, nbZ), dtype=complex)\n",
    "biz_amp     = np.zeros( (nbY, nbZ), dtype=complex)\n",
    "idxx = idx0_x\n",
    "aver = 0\n",
    "\n",
    "for idx in heights:\n",
    "    for ij in [\"41\", \"42\", \"43\"]:\n",
    "        z3 = heights[idx]\n",
    "        if z3 != 3.5:\n",
    "            if ij != \"41\":\n",
    "                biz_imgSum +=         img_h[z3][ij][idxx,:,:]\n",
    "                biz_amp    += np.abs( img_h[z3][ij][idxx,:,:] )\n",
    "                aver+=1\n",
    "        else:\n",
    "            biz_imgSum +=         img_h[z3][ij][idxx,:,:]\n",
    "            biz_amp    += np.abs( img_h[z3][ij][idxx,:,:] )\n",
    "            aver+=1\n",
    "biz_imgSum = biz_imgSum / aver\n",
    "min_biz_imgSum = np.amin( 20 * np.log10( np.abs( biz_imgSum ) ) )\n",
    "max_biz_imgSum = np.amax( 20 * np.log10( np.abs( biz_imgSum ) ) )\n",
    "xBizSum = x[idxx]\n",
    "print(f\"x = {xBizSum:.3f}, aver = {aver}, min = {min_biz_imgSum:.1f}, max = {max_biz_imgSum:.1f}\")"
   ]
  },
  {
   "cell_type": "code",
   "execution_count": 386,
   "metadata": {},
   "outputs": [
    {
     "data": {
      "text/plain": [
       "Text(0.5, 1.0, '2019_03_04 bistatic x = -0.20')"
      ]
     },
     "execution_count": 386,
     "metadata": {},
     "output_type": "execute_result"
    }
   ],
   "source": [
    "#biz_imgSumNorm = biz_imgSum / biz_amp\n",
    "toPlot = 20 * np.log10( np.abs(biz_imgSum).T )\n",
    "fig, ax = plt.subplots(1,1)\n",
    "im = ax.imshow(toPlot, cmap='jet', origin='lower', extent=extent_yz, vmin=vmin, vmax=vmax )\n",
    "dia.addColorBar( im, ax, aspect=\"equal\" )\n",
    "title = date + f\" bistatic x = {x[idx0_x]:.2f}\"\n",
    "ax.set_title(title)"
   ]
  },
  {
   "cell_type": "markdown",
   "metadata": {},
   "source": [
    "## Plot Mono Bi 2D Tomo"
   ]
  },
  {
   "cell_type": "code",
   "execution_count": 390,
   "metadata": {},
   "outputs": [
    {
     "name": "stdout",
     "output_type": "stream",
     "text": [
      "vmin = -52.72, vmax = 71.88\n"
     ]
    },
    {
     "data": {
      "text/plain": [
       "Text(0.5, 0.98, '2019_03_04 x=-0.20 z=0.0')"
      ]
     },
     "execution_count": 390,
     "metadata": {},
     "output_type": "execute_result"
    }
   ],
   "source": [
    "fig, grid0, grid1 = dia.plotImgMosaicMonoBi2DTomo( img_h_zCut[3.41][\"21\"], img_h_zCut[3.41][\"41\"], \n",
    "                                                  imgSum.T, biz_imgSum.T, \n",
    "                                                  extent_yx, extent_yz, vmin=vmin, vmax=vmax )\n",
    "fig.suptitle(date + f\" x={xSum:.2f} z={zCut}\")"
   ]
  },
  {
   "cell_type": "markdown",
   "metadata": {},
   "source": [
    "## Monostatic incoherent sum (along x)"
   ]
  },
  {
   "cell_type": "code",
   "execution_count": 391,
   "metadata": {},
   "outputs": [
    {
     "name": "stdout",
     "output_type": "stream",
     "text": [
      "aver = 363, -31.9dB 58.7dB\n"
     ]
    }
   ],
   "source": [
    "amp_i = np.zeros( (nbY, nbZ), dtype=float )\n",
    "aver = 0\n",
    "\n",
    "for xn in range(nbX):\n",
    "    imgSum  = np.zeros( (nbY, nbZ), dtype=complex )\n",
    "    # compute the coherent sum for the considered xn\n",
    "    for idx in heights:\n",
    "        for ij in [\"21\", \"31\", \"32\"]:\n",
    "            z3 = heights[idx]\n",
    "            imgSum += img_h[z3][ij][xn,:,:]\n",
    "            aver+=1\n",
    "    # compute the non coherent sum\n",
    "    amp_i = amp_i + imgSum ** 2\n",
    "amp_i = (amp_i / aver)**0.5\n",
    "min_amp_i = np.amin( 20 * np.log10( np.abs( amp_i ) ) )\n",
    "max_amp_i = np.amax( 20 * np.log10( np.abs( amp_i ) ) )\n",
    "print(f\"aver = {aver}, {min_amp_i:.1f}dB {max_amp_i:.1f}dB\")"
   ]
  },
  {
   "cell_type": "code",
   "execution_count": 392,
   "metadata": {},
   "outputs": [
    {
     "data": {
      "text/plain": [
       "Text(0.5, 1.0, '2019_03_04 monostatic\\nsum intensities along x from -0.25 to -0.15, dx = 0.01')"
      ]
     },
     "execution_count": 392,
     "metadata": {},
     "output_type": "execute_result"
    }
   ],
   "source": [
    "toPlot = 20 * np.log10( np.abs(amp_i).T )\n",
    "\n",
    "fig, ax = plt.subplots(1,1)\n",
    "im = ax.imshow(toPlot, cmap='jet', origin='lower', extent=extent_yz, vmin=vmin, vmax=vmax)\n",
    "dia.addColorBar( im, ax, aspect=\"equal\" )\n",
    "title = f\"{date} monostatic\\nsum intensities along x from {xMin} to {xMax}, dx = {dx}\"\n",
    "ax.set_title(title)"
   ]
  },
  {
   "cell_type": "markdown",
   "metadata": {},
   "source": [
    " ## Bistatic incoherent sum (along x)"
   ]
  },
  {
   "cell_type": "code",
   "execution_count": 393,
   "metadata": {},
   "outputs": [
    {
     "name": "stdout",
     "output_type": "stream",
     "text": [
      "aver = 242, -14.4 62.6\n"
     ]
    }
   ],
   "source": [
    "biz_amp_i = np.zeros( (nbY, nbZ), dtype=float )\n",
    "aver = 0\n",
    "\n",
    "for xn in range(nbX):\n",
    "    biz_imgSum  = np.zeros( (nbY, nbZ), dtype=complex )\n",
    "    # compute the coherent sum for the considered xn\n",
    "    for idx in heights:\n",
    "        for ij in [\"41\", \"42\", \"43\"]:\n",
    "            z3 = heights[idx]\n",
    "            if z3 != 3.5:\n",
    "                if ij != \"41\":\n",
    "                    biz_imgSum += img_h[z3][ij][xn,:,:]\n",
    "                    aver+=1\n",
    "            else:\n",
    "                biz_imgSum += img_h[z3][ij][xn,:,:]\n",
    "                aver+=1\n",
    "    # compute the non coherent sum\n",
    "    biz_amp_i = biz_amp_i + biz_imgSum ** 2\n",
    "biz_amp_i = (biz_amp_i / aver)**0.5\n",
    "min_biz_amp_i = np.amin( 20 * np.log10( np.abs( biz_amp_i ) ) )\n",
    "max_biz_amp_i = np.amax( 20 * np.log10( np.abs( biz_amp_i ) ) )\n",
    "print(f\"aver = {aver}, {min_biz_amp_i:.1f} {max_biz_amp_i:.1f}\")"
   ]
  },
  {
   "cell_type": "code",
   "execution_count": 394,
   "metadata": {},
   "outputs": [
    {
     "data": {
      "text/plain": [
       "Text(0.5, 1.0, '2019_03_04 bistatic\\nsum intensities along x from -0.25 to -0.15, dx = 0.01')"
      ]
     },
     "execution_count": 394,
     "metadata": {},
     "output_type": "execute_result"
    }
   ],
   "source": [
    "toPlot = 20 * np.log10( np.abs(biz_amp_i).T )\n",
    "\n",
    "fig, ax = plt.subplots(1,1)\n",
    "im = ax.imshow(toPlot, cmap='jet', origin='lower', extent=extent_yz, vmin=vmin, vmax=vmax)\n",
    "dia.addColorBar( im, ax, aspect=\"equal\" )\n",
    "title = f\"{date} bistatic\\nsum intensities along x from {xMin} to {xMax}, dx = {dx}\"\n",
    "ax.set_title(title)"
   ]
  },
  {
   "cell_type": "markdown",
   "metadata": {},
   "source": [
    "## Plot bistatic and monostatic"
   ]
  },
  {
   "cell_type": "code",
   "execution_count": null,
   "metadata": {},
   "outputs": [],
   "source": [
    "fig, grid = dia.plotImgMosaicMonoBi( imgSum.T, biz_imgSum.T, extent_yz, origin='lower',vmin=20,vmax=65 )\n",
    "title = date + f\"yz cut at {x[idx0_x]:.3f}\"\n",
    "fig.suptitle(title)"
   ]
  }
 ],
 "metadata": {
  "kernelspec": {
   "display_name": "Python 3",
   "language": "python",
   "name": "python3"
  },
  "language_info": {
   "codemirror_mode": {
    "name": "ipython",
    "version": 3
   },
   "file_extension": ".py",
   "mimetype": "text/x-python",
   "name": "python",
   "nbconvert_exporter": "python",
   "pygments_lexer": "ipython3",
   "version": "3.7.1"
  },
  "toc": {
   "base_numbering": 1,
   "nav_menu": {},
   "number_sections": true,
   "sideBar": true,
   "skip_h1_title": false,
   "title_cell": "Table of Contents",
   "title_sidebar": "Contents",
   "toc_cell": false,
   "toc_position": {
    "height": "calc(100% - 180px)",
    "left": "10px",
    "top": "150px",
    "width": "336px"
   },
   "toc_section_display": true,
   "toc_window_display": true
  },
  "varInspector": {
   "cols": {
    "lenName": 16,
    "lenType": 16,
    "lenVar": 40
   },
   "kernels_config": {
    "python": {
     "delete_cmd_postfix": "",
     "delete_cmd_prefix": "del ",
     "library": "var_list.py",
     "varRefreshCmd": "print(var_dic_list())"
    },
    "r": {
     "delete_cmd_postfix": ") ",
     "delete_cmd_prefix": "rm(",
     "library": "var_list.r",
     "varRefreshCmd": "cat(var_dic_list()) "
    }
   },
   "oldHeight": 734.85,
   "position": {
    "height": "756.85px",
    "left": "1180px",
    "right": "21px",
    "top": "53px",
    "width": "516px"
   },
   "types_to_exclude": [
    "module",
    "function",
    "builtin_function_or_method",
    "instance",
    "_Feature"
   ],
   "varInspector_section_display": "block",
   "window_display": false
  }
 },
 "nbformat": 4,
 "nbformat_minor": 2
}
