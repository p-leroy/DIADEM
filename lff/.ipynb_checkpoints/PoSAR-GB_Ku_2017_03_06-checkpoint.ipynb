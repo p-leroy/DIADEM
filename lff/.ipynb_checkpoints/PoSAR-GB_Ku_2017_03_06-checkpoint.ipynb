{
 "cells": [
  {
   "cell_type": "markdown",
   "metadata": {},
   "source": [
    "# Init"
   ]
  },
  {
   "cell_type": "code",
   "execution_count": 1,
   "metadata": {},
   "outputs": [],
   "source": [
    "import time, sys\n",
    "%load_ext autoreload\n",
    "%autoreload 2"
   ]
  },
  {
   "cell_type": "markdown",
   "metadata": {},
   "source": [
    "## Custom tools"
   ]
  },
  {
   "cell_type": "code",
   "execution_count": 2,
   "metadata": {},
   "outputs": [],
   "source": [
    "sys.path.insert(0, \"/home/pleroy/DEV/processing/PoSAR-MC\")\n",
    "import posarmctools.readdata as readdata"
   ]
  },
  {
   "cell_type": "code",
   "execution_count": 3,
   "metadata": {},
   "outputs": [],
   "source": [
    "sys.path.insert(0, \"/home/pleroy/DEV/DIADEM\")\n",
    "import toolsdiadem.tools as dia\n",
    "import toolsdiadem.posargb as gb"
   ]
  },
  {
   "cell_type": "code",
   "execution_count": 4,
   "metadata": {},
   "outputs": [],
   "source": [
    "i_CFG = 0\n",
    "i_RD = 1\n",
    "i_CAL = 2\n",
    "i_f = 3\n",
    "\n",
    "i_x = 2\n",
    "i_y = 3\n",
    "i_z = 4\n",
    "\n",
    "# antenna locations on the plate\n",
    "xMin  = -1.50\n",
    "xMax  = 1.50\n",
    "Dx1   = 0.224\n",
    "Dx2   = 0.168\n",
    "h     = 0.04"
   ]
  },
  {
   "cell_type": "code",
   "execution_count": 5,
   "metadata": {},
   "outputs": [],
   "source": [
    "from backprojection.loadbackprojection import *\n",
    "libraryFilename = \"/home/pleroy/DEV/processing/PoSAR-MC/backprojection/ccpp/libbackprojection/liblibbackprojection.so\"\n",
    "lib = LibBackProjection( libraryFilename )"
   ]
  },
  {
   "cell_type": "markdown",
   "metadata": {},
   "source": [
    "## Numpy"
   ]
  },
  {
   "cell_type": "code",
   "execution_count": 6,
   "metadata": {},
   "outputs": [],
   "source": [
    "import numpy as np\n",
    "import matplotlib.pyplot as plt\n",
    "%matplotlib qt\n",
    "# 'GTK', 'GTKAgg', 'GTKCairo', 'GTK3Agg', 'GTK3Cairo', 'MacOSX', 'nbAgg', 'Qt4Agg', 'Qt4Cairo', \n",
    "# 'Qt5Agg', 'Qt5Cairo', 'TkAgg', 'TkCairo', 'WebAgg', 'WX', 'WXAgg', 'WXCairo', 'agg', 'cairo', \n",
    "# 'gdk', 'pdf', 'pgf', 'ps', 'svg', 'template'"
   ]
  },
  {
   "cell_type": "markdown",
   "metadata": {},
   "source": [
    "## Data paths"
   ]
  },
  {
   "cell_type": "code",
   "execution_count": 7,
   "metadata": {},
   "outputs": [],
   "source": [
    "base_path = \"/home/pleroy/DATA/DIADEM/lff/Tromso_renomme\"\n",
    "# 1m70\n",
    "base_170 = \"/Kattfjord_200313/Kattfjord_X_VVVV_200313/X_VVVV_200313_1m70\"\n",
    "path_170 = base_path + base_170\n",
    "# 1m82\n",
    "base_182 = \"/Kattfjord_200313/Kattfjord_X_VVVV_200313/X_VVVV_200313_1m82\"\n",
    "path_182 = base_path + base_182\n",
    "# 2m30\n",
    "base_230 = \"/Kattfjord_200313/Kattfjord_X_VVVV_200313/X_VVVV_200313_2m30\"\n",
    "path_230 = base_path + base_230"
   ]
  },
  {
   "cell_type": "code",
   "execution_count": 8,
   "metadata": {},
   "outputs": [],
   "source": [
    "prefix = base_path + \"/Kattfjord_200313/Kattfjord_X_VVVV_200313/X_VVVV_200313_\"\n",
    "suffix = [\"1m70\", \"1m82\", \"1m94\", \"2m06\", \"2m18\", \"2m30\"]\n",
    "ant = [\"s21\", \"s31\", \"s32\", \"s41\", \"s42\", \"s43\"]\n",
    "Ant = [\"S21\", \"S31\", \"S32\", \"S41\", \"S42\", \"S43\"]"
   ]
  },
  {
   "cell_type": "markdown",
   "metadata": {},
   "source": [
    "# Read separate files"
   ]
  },
  {
   "cell_type": "markdown",
   "metadata": {},
   "source": [
    "## Read configuration"
   ]
  },
  {
   "cell_type": "code",
   "execution_count": 10,
   "metadata": {},
   "outputs": [],
   "source": [
    "CFG = gb.readCfg( path_170 + \"/\" +  \"PoSAR.cfg\")"
   ]
  },
  {
   "cell_type": "markdown",
   "metadata": {},
   "source": [
    "## Read data"
   ]
  },
  {
   "cell_type": "code",
   "execution_count": null,
   "metadata": {},
   "outputs": [],
   "source": [
    "c = gb.readFile( path_170 + \"/s21.dat\", CFG['Npos'], CFG['Nf'] )"
   ]
  },
  {
   "cell_type": "code",
   "execution_count": null,
   "metadata": {},
   "outputs": [],
   "source": [
    "fix, (ax0, ax1) = plt.subplots(1,2)\n",
    "\n",
    "im = ax0.imshow(20 * np.log10( np.abs( c ) ) )\n",
    "dia.addColorBar(im, ax0)\n",
    "\n",
    "im = ax1.imshow( np.unwrap( np.angle(c), axis = 1 ) )\n",
    "dia.addColorBar(im, ax1)"
   ]
  },
  {
   "cell_type": "code",
   "execution_count": null,
   "metadata": {},
   "outputs": [],
   "source": [
    "angle = np.angle(c[125,:])\n",
    "fig, ax = plt.subplots(1,1)\n",
    "ax.plot( angle, '.-' )\n",
    "ax.plot( np.unwrap(angle) )\n",
    "ax.grid()"
   ]
  },
  {
   "cell_type": "markdown",
   "metadata": {},
   "source": [
    "## Read calibration"
   ]
  },
  {
   "cell_type": "markdown",
   "metadata": {},
   "source": [
    "## Read positions"
   ]
  },
  {
   "cell_type": "code",
   "execution_count": 12,
   "metadata": {},
   "outputs": [],
   "source": [
    "ant_pos = gb.readPos( path_170 + \"/track_S21.dat\", CFG[\"Npos\"] )"
   ]
  },
  {
   "cell_type": "code",
   "execution_count": 13,
   "metadata": {},
   "outputs": [
    {
     "data": {
      "text/plain": [
       "Text(0.5,1,'/Kattfjord_200313/Kattfjord_X_VVVV_200313/X_VVVV_200313_1m70\\nS21')"
      ]
     },
     "execution_count": 13,
     "metadata": {},
     "output_type": "execute_result"
    }
   ],
   "source": [
    "fig, ax = plt.subplots(1,1)\n",
    "ax.plot(ant_pos.Txx, '.-', label=f\"Txx\")\n",
    "ax.plot(ant_pos.Txy, '.-', label=f\"Txy\")\n",
    "ax.plot(ant_pos.Txz, '.-', label=f\"Txz\")\n",
    "ax.plot(ant_pos.Rxx, '.-', label=f\"Rxx\")\n",
    "ax.plot(ant_pos.Rxy, '.-', label=f\"Rxy\")\n",
    "ax.plot(ant_pos.Rxz, '.-', label=f\"Rxz\")\n",
    "ax.legend()\n",
    "ax.grid()\n",
    "title = base_170 + \"\\nS21\"\n",
    "ax.set_title(title)"
   ]
  },
  {
   "cell_type": "markdown",
   "metadata": {},
   "source": [
    "# read_PoSAR_data"
   ]
  },
  {
   "cell_type": "code",
   "execution_count": null,
   "metadata": {},
   "outputs": [],
   "source": [
    "vmax=-70\n",
    "vmin=-130"
   ]
  },
  {
   "cell_type": "markdown",
   "metadata": {},
   "source": [
    "## Kattfjord 1m70"
   ]
  },
  {
   "cell_type": "code",
   "execution_count": null,
   "metadata": {},
   "outputs": [],
   "source": [
    "CFG_170, RD_170, CAL_170, ant_pos_170, f_170 = gb.readData( path_170, \"s21.dat\", cal_name=\"\" )"
   ]
  },
  {
   "cell_type": "code",
   "execution_count": null,
   "metadata": {},
   "outputs": [],
   "source": [
    "f_base = f_170 - CFG_170[\"Fmin\"]\n",
    "r = np.arange(f_base.size) * CFG_170[\"delta_sr\"]\n",
    "az = (ant_pos.Txx + ant_pos.Txz)/2"
   ]
  },
  {
   "cell_type": "code",
   "execution_count": null,
   "metadata": {},
   "outputs": [],
   "source": [
    "hanning = np.hanning( CFG_170[\"Nf\"] )\n",
    "coupling_RD = np.average(RD_170, 0)\n",
    "ifft_RD = np.fft.ifft( RD_170 )\n",
    "ifft_RD_withHanning = np.fft.ifft( RD_170 * hanning )\n",
    "ifft_RD_withoutCoupling = np.fft.ifft( RD_170 - coupling_RD )"
   ]
  },
  {
   "cell_type": "code",
   "execution_count": null,
   "metadata": {},
   "outputs": [],
   "source": [
    "fig, (ax0, ax1) = plt.subplots(1,2,sharex=True,sharey=True)\n",
    "\n",
    "im = ax0.pcolor( r, az, 20 * np.log10( np.abs( ifft_RD_withHanning ) ), cmap='jet', vmax=vmax,vmin=vmin  )\n",
    "dia.addColorBar(im, ax0, 'auto')\n",
    "\n",
    "im = ax1.pcolor( r, az, np.angle( ifft_RD_withHanning ), cmap='jet' )\n",
    "dia.addColorBar(im, ax1, 'auto')\n",
    "\n",
    "fig.suptitle(base_170 + \"\\ns21 with hanning\")"
   ]
  },
  {
   "cell_type": "code",
   "execution_count": null,
   "metadata": {},
   "outputs": [],
   "source": [
    "fig, (ax0, ax1) = plt.subplots(1,2,sharex=True,sharey=True)\n",
    "\n",
    "im = ax0.pcolor( r, az, 20 * np.log10( np.abs( ifft_RD ) ), cmap='jet' )\n",
    "dia.addColorBar(im, ax0, 'auto')\n",
    "\n",
    "im = ax1.pcolor( r, az, np.angle( ifft_RD ), cmap='jet' )\n",
    "dia.addColorBar(im, ax1, 'auto')\n",
    "\n",
    "fig.suptitle(base_170 + \"\\ns21 raw data\")"
   ]
  },
  {
   "cell_type": "code",
   "execution_count": null,
   "metadata": {},
   "outputs": [],
   "source": [
    "fig, (ax0, ax1) = plt.subplots(1,2,sharex=True,sharey=True)\n",
    "\n",
    "im = ax0.pcolor( r, az, 20 * np.log10( np.abs( ifft_RD_withoutCoupling ) ), cmap='jet' )\n",
    "dia.addColorBar(im, ax0, 'auto')\n",
    "\n",
    "im = ax1.pcolor( r, az, np.angle( ifft_RD_withoutCoupling ), cmap='jet' )\n",
    "dia.addColorBar(im, ax1, 'auto')\n",
    "\n",
    "fig.suptitle(base_170 + \"\\ns21 without coupling\")"
   ]
  },
  {
   "cell_type": "markdown",
   "metadata": {},
   "source": [
    "## Kattfjord 1m82"
   ]
  },
  {
   "cell_type": "code",
   "execution_count": null,
   "metadata": {},
   "outputs": [],
   "source": [
    "CFG_182, RD_182, CAL_182, ant_pos_182, f_182 = gb.readData( path_182, \"s21.dat\", cal_name=\"\" )"
   ]
  },
  {
   "cell_type": "code",
   "execution_count": null,
   "metadata": {},
   "outputs": [],
   "source": [
    "hanning_182 = np.hanning( CFG[\"Nf\"] )\n",
    "ifft_182 = np.fft.ifft( RD_182 * hanning )"
   ]
  },
  {
   "cell_type": "code",
   "execution_count": null,
   "metadata": {},
   "outputs": [],
   "source": [
    "fig, (ax0, ax1) = plt.subplots(1,2,sharex=True,sharey=True)\n",
    "\n",
    "im = ax0.pcolor( r, az, 20 * np.log10( np.abs( ifft_182 ) ), cmap='jet' )\n",
    "dia.addColorBar(im, ax0, 'auto')\n",
    "\n",
    "im = ax1.pcolor( r, az, np.angle( ifft_182 ), cmap='jet' )\n",
    "dia.addColorBar(im, ax1, 'auto')\n",
    "\n",
    "fig.suptitle(base_182 + \"\\ns21 with hanning\")"
   ]
  },
  {
   "cell_type": "markdown",
   "metadata": {},
   "source": [
    "## Kattfljord 2m30"
   ]
  },
  {
   "cell_type": "markdown",
   "metadata": {},
   "source": [
    "### Read data"
   ]
  },
  {
   "cell_type": "code",
   "execution_count": null,
   "metadata": {},
   "outputs": [],
   "source": [
    "read_230 = gb.readData( prefix + \"2m30\", \"s21.dat\" )\n",
    "ant_pos_230 = gb.readPos( path_230 + \"/track_S21.dat\", read_230[i_CFG][\"Npos\"] )"
   ]
  },
  {
   "cell_type": "code",
   "execution_count": null,
   "metadata": {},
   "outputs": [],
   "source": [
    "az_230 = (ant_pos_230.Txx + ant_pos_230.Txz)/2\n",
    "f_base_230 = read_230[i_f] - read_230[i_CFG][\"Fmin\"]\n",
    "r_230 = np.arange(f_base_230.size) * read_230[i_CFG][\"delta_sr\"]\n",
    "\n",
    "xyz_230      = np.zeros((read_230[i_CFG][\"Npos\"],5))\n",
    "xyz_230[:,0] = np.arange(read_230[i_CFG][\"Npos\"]) # rampNumber\n",
    "xyz_230[:,1] = np.zeros(read_230[i_CFG][\"Npos\"])  # timeStamp\n",
    "xyz_230[:,2] = (ant_pos_230.Txx + ant_pos_230.Txz)/2\n",
    "xyz_230[:,3] = (ant_pos_230.Rxx + ant_pos_230.Rxy)/2\n",
    "xyz_230[:,4] = (ant_pos_230.Txy + ant_pos_230.Rxz)/2"
   ]
  },
  {
   "cell_type": "markdown",
   "metadata": {},
   "source": [
    "### Proces data"
   ]
  },
  {
   "cell_type": "code",
   "execution_count": null,
   "metadata": {},
   "outputs": [],
   "source": [
    "hanning_230 = np.hanning( read_230[i_CFG][\"Nf\"] )\n",
    "ifft_230 = np.fft.ifft( read_230[i_RD] * hanning_230 )"
   ]
  },
  {
   "cell_type": "code",
   "execution_count": null,
   "metadata": {},
   "outputs": [],
   "source": [
    "fig, (ax0, ax1) = plt.subplots(1,2,sharex=True,sharey=True)\n",
    "\n",
    "im = ax0.pcolor( r_230, az_230, 20 * np.log10( np.abs( ifft_230 ) ), cmap='jet', vmax=vmax,vmin=vmin )\n",
    "dia.addColorBar(im, ax0, 'auto')\n",
    "\n",
    "im = ax1.pcolor( r_230, az_230, np.angle( ifft_230 ), cmap='jet' )\n",
    "dia.addColorBar(im, ax1, 'auto')\n",
    "\n",
    "fig.suptitle(base_230 + \"\\ns21 with hanning\")"
   ]
  },
  {
   "cell_type": "code",
   "execution_count": null,
   "metadata": {},
   "outputs": [],
   "source": [
    "fig, ax = plt.subplots(1,1)\n",
    "ax.plot(ant_pos_230.Txx, '.-', label=f\"Txx\")\n",
    "ax.plot(ant_pos_230.Txy, '.-', label=f\"Txy\")\n",
    "ax.plot(ant_pos_230.Txz, '.-', label=f\"Txz\")\n",
    "ax.plot(ant_pos_230.Rxx, '.-', label=f\"Rxx\")\n",
    "ax.plot(ant_pos_230.Rxy, '.-', label=f\"Rxy\")\n",
    "ax.plot(ant_pos_230.Rxz, '.-', label=f\"Rxz\")\n",
    "#\n",
    "ax.plot(xyz_230[:,2], 'x', label=f\"pos x\")\n",
    "ax.plot(xyz_230[:,3], 'x', label=f\"pos y\")\n",
    "ax.plot(xyz_230[:,4], 'x', label=f\"pos z\")\n",
    "ax.legend()\n",
    "ax.grid()\n",
    "title = base_230 + \"\\nS21\"\n",
    "ax.set_title(title)"
   ]
  },
  {
   "cell_type": "markdown",
   "metadata": {},
   "source": [
    "### r ka"
   ]
  },
  {
   "cell_type": "code",
   "execution_count": null,
   "metadata": {},
   "outputs": [],
   "source": [
    "r_ka_230 = np.fft.fftshift( np.fft.fft( np.fft.ifft( np.fft.ifftshift(RD,axes=0), axis=1 ), axis=0 ), axes=0 )"
   ]
  },
  {
   "cell_type": "code",
   "execution_count": null,
   "metadata": {},
   "outputs": [],
   "source": [
    "diff_az = np.diff(az_230)\n",
    "np.mean(diff_az), np.std(diff_az)\n",
    "daz = 0.012"
   ]
  },
  {
   "cell_type": "code",
   "execution_count": null,
   "metadata": {},
   "outputs": [],
   "source": [
    "ka = np.fft.fftshift(np.fft.fftfreq(read_230[0][\"Npos\"],daz)) * 2 * np.pi"
   ]
  },
  {
   "cell_type": "code",
   "execution_count": null,
   "metadata": {},
   "outputs": [],
   "source": [
    "fig, (ax0, ax1) = plt.subplots(1,2,sharex=True,sharey=True)\n",
    "\n",
    "im = ax0.pcolor( r, ka, 20 * np.log10( np.abs( r_ka_230 ) ), cmap='jet' )\n",
    "dia.addColorBar(im, ax0, 'auto')\n",
    "ax0.set_xlabel('r')\n",
    "ax0.set_ylabel('ka')\n",
    "\n",
    "im = ax1.pcolor( r, ka, np.angle( r_ka_230 ), cmap='jet' )\n",
    "dia.addColorBar(im, ax1, 'auto')\n",
    "ax1.set_xlabel('r')\n",
    "ax1.set_ylabel('ka')\n",
    "\n",
    "fig.suptitle(base_230 + \"\\ns21 (r,ka)\")"
   ]
  },
  {
   "cell_type": "markdown",
   "metadata": {},
   "source": [
    "# Build positions"
   ]
  },
  {
   "cell_type": "code",
   "execution_count": null,
   "metadata": {},
   "outputs": [],
   "source": [
    "zRail   = gb.getZRail( \"2m30\" )\n",
    "xyz_dic = gb.buildPos(xMin, xMax, Npos, Dx1, Dx2, h, zRail )"
   ]
  },
  {
   "cell_type": "code",
   "execution_count": null,
   "metadata": {},
   "outputs": [],
   "source": [
    "fig, ax = plt.subplots(1,1)\n",
    "for sij in ant:\n",
    "    ax.plot( (xyz_dic[sij][0,i_x])+1.5, xyz_dic[sij][0,i_z], 'o', label=sij )\n",
    "ax.legend()\n",
    "ax.grid()\n",
    "ax.set_title( f\"data recorded in the files, (Dx1+2*Dx2)/2 = {offsetx}\" )"
   ]
  },
  {
   "cell_type": "code",
   "execution_count": null,
   "metadata": {},
   "outputs": [],
   "source": [
    "fig, ax = plt.subplots(1,1)\n",
    "for sij in ant:\n",
    "    ax.plot( (xyz_dic[sij][:,i_x]), xyz_dic[sij][:,i_z], 'o', label=sij )\n",
    "ax.legend()\n",
    "ax.grid()\n",
    "ax.set_title(\"data recorded in the files\")"
   ]
  },
  {
   "cell_type": "markdown",
   "metadata": {},
   "source": [
    "# Define geometry"
   ]
  },
  {
   "cell_type": "code",
   "execution_count": null,
   "metadata": {},
   "outputs": [],
   "source": [
    "hScene = -1\n",
    "\n",
    "dx = 0.01\n",
    "dy = 0.01\n",
    "dz = 0.01\n",
    "xMin = -1.5\n",
    "xMax = 1.5\n",
    "yMin = 0\n",
    "yMax = 15\n",
    "zMin = 2.42\n",
    "zMax = 2.42+dz\n",
    "\n",
    "x = np.arange(xMin, xMax+1e-9, dx)\n",
    "y = np.arange(yMin, yMax+1e-9, dy)\n",
    "z = np.arange(zMin, zMax+1e-9, dz)\n",
    "\n",
    "nbX = x.size\n",
    "nbY = y.size\n",
    "nbZ = z.size\n",
    "\n",
    "sceneX, sceneY, sceneZ = np.meshgrid(x,y,z,indexing='ij')"
   ]
  },
  {
   "cell_type": "code",
   "execution_count": null,
   "metadata": {},
   "outputs": [],
   "source": [
    "sceneX.shape, x.shape, y.shape, z.shape"
   ]
  },
  {
   "cell_type": "code",
   "execution_count": null,
   "metadata": {},
   "outputs": [],
   "source": [
    "print( f\"center of the scene ( {np.mean(x):.2f}, {np.mean(y):.2f}, {np.mean(z):.2f} )\")"
   ]
  },
  {
   "cell_type": "markdown",
   "metadata": {},
   "source": [
    "# Focalization"
   ]
  },
  {
   "cell_type": "markdown",
   "metadata": {},
   "source": [
    "## Backprojection"
   ]
  },
  {
   "cell_type": "code",
   "execution_count": null,
   "metadata": {},
   "outputs": [],
   "source": [
    "lib.reload()"
   ]
  },
  {
   "cell_type": "code",
   "execution_count": null,
   "metadata": {},
   "outputs": [],
   "source": [
    "Npos = gb.readCfg( prefix + \"1m70/PoSAR.cfg\" )[\"Npos\"]\n",
    "print( f\"Npos = {Npos}\" )"
   ]
  },
  {
   "cell_type": "code",
   "execution_count": null,
   "metadata": {},
   "outputs": [],
   "source": [
    "read = gb.readData( prefix + \"2m30\", \"s21.dat\" )\n",
    "sr = read[i_RD][:,0:read[i_CFG][\"Nf\"]-1]\n",
    "rangeResolution = read[i_CFG][\"delta_sr\"]\n",
    "Naz = sr.shape[0]\n",
    "Nf  = sr.shape[1]\n",
    "\n",
    "h_asString = \"2m30\"\n",
    "zRail = gb.getZRail( h_asString )\n",
    "xyz_dic = gb.buildPos(xMin, xMax, Naz, Dx1, Dx2, h, zRail )\n",
    "xyzAntI = xyz_dic[\"1\"]\n",
    "xyzAntJ = xyz_dic[\"2\"]\n",
    "\n",
    "overSamplingRatio = 10\n",
    "Nover = overSamplingRatio * Nf\n",
    "r_base  = np.arange( Nf ) * rangeResolution\n",
    "r_over  = np.arange( Nover ) * rangeResolution / overSamplingRatio\n",
    "dr_over = r_over[1] - r_over[0]\n",
    "\n",
    "print( f\"Nf = {Nf}, Naz = {Naz}\" )\n",
    "print( f\"range from {r_over[0]:.2f}m to {r_over[-1]:.2f}m, \"\n",
    "      + f\"resolution = {rangeResolution:.3e}m, oversampled = {rangeResolution / overSamplingRatio:.3e}m\" )"
   ]
  },
  {
   "cell_type": "code",
   "execution_count": null,
   "metadata": {},
   "outputs": [],
   "source": [
    "myParameters           = MyParametersPoSAR_GB()\n",
    "myParameters.Nx        = nbX\n",
    "myParameters.Ny        = nbY\n",
    "myParameters.Nz        = nbZ\n",
    "myParameters.Nover     = r_over.size\n",
    "myParameters.dx        = dr_over\n",
    "myParameters.Naz       = Naz\n",
    "myParameters.Nf        = Nf\n",
    "myParameters.phi_a_deg = 10 # 20° => 7.4cm\n",
    "myParameters.kc        = read[i_CFG][\"kc\"]"
   ]
  },
  {
   "cell_type": "code",
   "execution_count": null,
   "metadata": {},
   "outputs": [],
   "source": [
    "t = time.time()\n",
    "\n",
    "focusedImg_a  = np.zeros( sceneX.shape, dtype=complex )\n",
    "print( \"focusedImg_a.shape = {}\".format( focusedImg_a.shape ) )\n",
    "\n",
    "lib.so.backProjectionOmpGroundRange_PoSAR_GB_a( x,\n",
    "                                               y,\n",
    "                                               z,\n",
    "                                               r_over,\n",
    "                                               sr.reshape(sr.size),\n",
    "                                               xyzAntI.reshape(xyzAntI.size),\n",
    "                                               xyzAntJ.reshape(xyzAntJ.size),\n",
    "                                               focusedImg_a.reshape(focusedImg_a.size),\n",
    "                                               myParameters)\n",
    "\n",
    "elapsed = time.time() - t\n",
    "print(\"execution time = \" + str(elapsed))"
   ]
  },
  {
   "cell_type": "code",
   "execution_count": null,
   "metadata": {},
   "outputs": [],
   "source": [
    "t = time.time()\n",
    "\n",
    "focusedImg  = np.zeros( sceneX.shape, dtype=complex )\n",
    "print( \"focusedImg.shape = {}\".format( focusedImg.shape ) )\n",
    "\n",
    "lib.so.backProjectionOmpGroundRange_PoSAR_GB( sceneX.reshape(sceneX.size),\n",
    "                                             sceneY.reshape(sceneY.size),\n",
    "                                             sceneZ.reshape(sceneZ.size),\n",
    "                                             r_over,\n",
    "                                             sr.reshape(sr.size),\n",
    "                                             xyz.reshape(xyz.size), \n",
    "                                             focusedImg.reshape(focusedImg.size),\n",
    "                                             myParameters)\n",
    "\n",
    "elapsed = time.time() - t\n",
    "print(\"execution time = \" + str(elapsed))"
   ]
  },
  {
   "cell_type": "code",
   "execution_count": null,
   "metadata": {},
   "outputs": [],
   "source": [
    "t = time.time()\n",
    "\n",
    "focusedImgAlt  = np.zeros( sceneX.shape, dtype=complex )\n",
    "print( \"focusedImgAlt.shape = {}\".format( focusedImgAlt.shape ) )\n",
    "\n",
    "lib.so.backProjectionOmpGroundRange_PoSAR_GBalt( x,\n",
    "                                                y,\n",
    "                                                z,\n",
    "                                                r_over,\n",
    "                                                sr.reshape(sr.size),\n",
    "                                                xyz.reshape(xyz.size), \n",
    "                                                focusedImgAlt.reshape(focusedImgAlt.size),\n",
    "                                                myParameters)\n",
    "\n",
    "elapsed = time.time() - t\n",
    "print(\"execution time = \" + str(elapsed))"
   ]
  },
  {
   "cell_type": "markdown",
   "metadata": {},
   "source": [
    "## Plot focused images"
   ]
  },
  {
   "cell_type": "code",
   "execution_count": null,
   "metadata": {},
   "outputs": [],
   "source": [
    "cmap='jet'"
   ]
  },
  {
   "cell_type": "markdown",
   "metadata": {},
   "source": [
    "### focusedImg_a"
   ]
  },
  {
   "cell_type": "code",
   "execution_count": null,
   "metadata": {},
   "outputs": [],
   "source": [
    "toPlot = 20 * np.log10( np.abs( focusedImg_a[:,:,1] ) )\n",
    "\n",
    "fig, ax = plt.subplots(1,1)\n",
    "im = ax.pcolor(y, x, toPlot, cmap=cmap)\n",
    "dia.addColorBar( im, ax, aspect=\"auto\" )"
   ]
  },
  {
   "cell_type": "code",
   "execution_count": null,
   "metadata": {},
   "outputs": [],
   "source": [
    "toPlot = 20 * np.log10( np.abs( focusedImg_a[50,:,:].T ) )\n",
    "\n",
    "fig, ax = plt.subplots(1,1)\n",
    "im = ax.pcolor(y, z, toPlot, cmap=cmap)\n",
    "dia.addColorBar( im, ax, aspect=\"auto\" )"
   ]
  },
  {
   "cell_type": "markdown",
   "metadata": {},
   "source": [
    "### focusedImg"
   ]
  },
  {
   "cell_type": "code",
   "execution_count": null,
   "metadata": {},
   "outputs": [],
   "source": [
    "toPlot = 20 * np.log10( np.abs( focusedImg[:,:,1] ) )\n",
    "\n",
    "fig, ax = plt.subplots(1,1)\n",
    "im = ax.pcolor(y, x, toPlot, cmap=cmap )\n",
    "dia.addColorBar( im, ax, aspect=\"auto\" )"
   ]
  },
  {
   "cell_type": "code",
   "execution_count": null,
   "metadata": {},
   "outputs": [],
   "source": [
    "toPlot = 20 * np.log10( np.abs( focusedImg[150,:,:].T ) )\n",
    "\n",
    "fig, ax = plt.subplots(1,1)\n",
    "im = ax.pcolor(y, z, toPlot, cmap=cmap)\n",
    "dia.addColorBar( im, ax, aspect=\"auto\" )"
   ]
  },
  {
   "cell_type": "markdown",
   "metadata": {},
   "source": [
    "### focusedImgAlt"
   ]
  },
  {
   "cell_type": "code",
   "execution_count": null,
   "metadata": {},
   "outputs": [],
   "source": [
    "toPlot = 20 * np.log10( np.abs( focusedImgAlt[:,:,1] ) )\n",
    "\n",
    "fig, ax = plt.subplots(1,1)\n",
    "im = ax.pcolor(y, x, toPlot, cmap=cmap)\n",
    "dia.addColorBar( im, ax, aspect=\"auto\" )"
   ]
  },
  {
   "cell_type": "markdown",
   "metadata": {},
   "source": [
    "# Process all"
   ]
  },
  {
   "cell_type": "markdown",
   "metadata": {},
   "source": [
    "## Define geometry"
   ]
  },
  {
   "cell_type": "code",
   "execution_count": null,
   "metadata": {},
   "outputs": [],
   "source": [
    "hScene = -1\n",
    "\n",
    "dx = 0.01\n",
    "dy = 0.01\n",
    "dz = 0.01\n",
    "xMin = -0.5\n",
    "xMax = 0.5\n",
    "yMin = 0\n",
    "yMax = 7.5\n",
    "zMin = -2.5\n",
    "zMax = 1\n",
    "\n",
    "x = np.arange(xMin, xMax+1e-9, dx)\n",
    "y = np.arange(yMin, yMax+1e-9, dy)\n",
    "z = np.arange(zMin, zMax+1e-9, dz)\n",
    "\n",
    "nbX = x.size\n",
    "nbY = y.size\n",
    "nbZ = z.size\n",
    "centerX = int( nbX / 2 )\n",
    "centerY = int( nbY / 2 )\n",
    "centerZ = int( nbZ / 2 )\n",
    "\n",
    "sceneX, sceneY, sceneZ = np.meshgrid(x,y,z,indexing='ij')"
   ]
  },
  {
   "cell_type": "code",
   "execution_count": null,
   "metadata": {},
   "outputs": [],
   "source": [
    "x.shape, y.shape, z.shape"
   ]
  },
  {
   "cell_type": "code",
   "execution_count": null,
   "metadata": {},
   "outputs": [],
   "source": [
    "myParameters           = MyParametersPoSAR_GB()\n",
    "myParameters.Nx        = nbX\n",
    "myParameters.Ny        = nbY\n",
    "myParameters.Nz        = nbZ\n",
    "myParameters.phi_a_deg = 10 # 10° => 4.3cm"
   ]
  },
  {
   "cell_type": "markdown",
   "metadata": {},
   "source": [
    "## Focalization"
   ]
  },
  {
   "cell_type": "code",
   "execution_count": null,
   "metadata": {},
   "outputs": [],
   "source": [
    "suffix"
   ]
  },
  {
   "cell_type": "code",
   "execution_count": null,
   "metadata": {},
   "outputs": [],
   "source": [
    "Npos = gb.readCfg( prefix + \"1m70/PoSAR.cfg\" )[\"Npos\"]\n",
    "print( f\"Npos = {Npos}\" )"
   ]
  },
  {
   "cell_type": "code",
   "execution_count": null,
   "metadata": {},
   "outputs": [],
   "source": [
    "coupling = np.average( sr, axis = 0 )"
   ]
  },
  {
   "cell_type": "code",
   "execution_count": null,
   "metadata": {},
   "outputs": [],
   "source": [
    "(sr - coupling).shape"
   ]
  },
  {
   "cell_type": "code",
   "execution_count": null,
   "metadata": {},
   "outputs": [],
   "source": [
    "img_h = {}\n",
    "\n",
    "for h_asString in [\"2m30\"]:\n",
    "    \n",
    "    zRail   = gb.getZRail( h_asString )\n",
    "    xyz_dic = gb.buildPos(xMin, xMax, Npos, Dx1, Dx2, h, zRail )\n",
    "    print( f\"h_asString = {h_asString}, zRail = {zRail}\" )\n",
    "    \n",
    "    img_sij = {}\n",
    "    \n",
    "    for sij in ant:\n",
    "\n",
    "        data_dir = prefix + h_asString\n",
    "        read = gb.readData( data_dir, f\"{sij}.dat\" )\n",
    "\n",
    "        antI, antJ = sij.split(\"s\")[1][0], sij.split(\"s\")[1][1]\n",
    "        xyzAntI = xyz_dic[ antI ]\n",
    "        xyzAntJ = xyz_dic[ antJ ]\n",
    "        hAver = ( xyzAntI[0,i_z] + xyzAntJ[0,i_z] ) / 2\n",
    "    \n",
    "        sr  = read[i_RD][:,0:read[i_CFG][\"Nf\"]-1]\n",
    "        Naz = sr.shape[0]\n",
    "        Nf  = sr.shape[1]\n",
    "        rangeResolution = read[i_CFG][\"delta_sr\"]\n",
    "        overSamplingRatio = 10\n",
    "        Nover   = overSamplingRatio * Nf\n",
    "        r_base  = np.arange( Nf ) * rangeResolution\n",
    "        r_over  = np.arange( Nover ) * rangeResolution / overSamplingRatio\n",
    "        dr_over = r_over[1] - r_over[0]\n",
    "    \n",
    "        myParameters.Nover     = r_over.size\n",
    "        myParameters.dx        = dr_over\n",
    "        myParameters.Naz       = Naz\n",
    "        myParameters.Nf        = Nf\n",
    "        myParameters.kc        = read[i_CFG][\"kc\"]\n",
    "    \n",
    "        t = time.time()\n",
    "    \n",
    "        focusedImg  = np.zeros( sceneX.shape, dtype=complex )\n",
    "        print( f\"focusedImg.shape = {focusedImg.shape} *** focalization antenna {sij}, h = {hAver:.2f}\"\n",
    "             + f\" [ {antI}, {antJ} ]\" )\n",
    "\n",
    "        lib.so.backProjectionOmpGroundRange_PoSAR_GB_a( x,\n",
    "                                                       y,\n",
    "                                                       z,\n",
    "                                                       r_over,\n",
    "                                                       sr.reshape(sr.size),\n",
    "                                                       xyzAntI.reshape(xyzAntI.size),\n",
    "                                                       xyzAntJ.reshape(xyzAntJ.size),\n",
    "                                                       focusedImg.reshape(focusedImg.size),\n",
    "                                                       myParameters)\n",
    "\n",
    "        elapsed = time.time() - t\n",
    "        print(\"execution time = \" + str(elapsed))\n",
    "        img_sij[sij] = focusedImg\n",
    "    img_h[h_asString] = img_sij"
   ]
  },
  {
   "cell_type": "markdown",
   "metadata": {},
   "source": [
    "## Plot focused images"
   ]
  },
  {
   "cell_type": "code",
   "execution_count": null,
   "metadata": {},
   "outputs": [],
   "source": [
    "cmap='jet'"
   ]
  },
  {
   "cell_type": "code",
   "execution_count": null,
   "metadata": {},
   "outputs": [],
   "source": [
    "sij = \"s21\"\n",
    "idxz = 300\n",
    "toPlot = 20 * np.log10( np.abs( img_h[\"2m30\"][sij][:,:,idxz]) )\n",
    "\n",
    "fig, ax = plt.subplots(1,1)\n",
    "im = ax.pcolor(y, x, toPlot, cmap=cmap )\n",
    "dia.addColorBar( im, ax, aspect=\"auto\" )\n",
    "fig.suptitle(f\"{sij} z={z[idxz]:.2f}\")"
   ]
  },
  {
   "cell_type": "code",
   "execution_count": null,
   "metadata": {},
   "outputs": [],
   "source": [
    "sij = \"s31\"\n",
    "idxz = 250\n",
    "toPlot = 20 * np.log10( np.abs( img_h[\"2m30\"][sij][:,:,idxz]) )\n",
    "\n",
    "fig, ax = plt.subplots(1,1)\n",
    "im = ax.pcolor(y, x, toPlot, cmap=cmap )\n",
    "dia.addColorBar( im, ax, aspect=\"auto\" )\n",
    "fig.suptitle(f\"{sij} z={z[idxz]:.2f}\")"
   ]
  },
  {
   "cell_type": "code",
   "execution_count": null,
   "metadata": {},
   "outputs": [],
   "source": [
    "sij = \"s31\"\n",
    "idxz = 300\n",
    "toPlot = 20 * np.log10( np.abs( img_h[\"2m30\"][sij][:,:,idxz]) )\n",
    "\n",
    "fig, ax = plt.subplots(1,1)\n",
    "im = ax.pcolor(y, x, toPlot, cmap=cmap )\n",
    "dia.addColorBar( im, ax, aspect=\"auto\" )\n",
    "fig.suptitle(f\"{sij} z={z[idxz]:.2f}\")"
   ]
  },
  {
   "cell_type": "code",
   "execution_count": null,
   "metadata": {},
   "outputs": [],
   "source": [
    "sij = \"s31\"\n",
    "idxx = centerX\n",
    "toPlot = 20 * np.log10( np.abs( img_h[\"2m30\"][sij][idxx,:,:].T ) )\n",
    "\n",
    "fig, ax = plt.subplots(1,1)\n",
    "im = ax.pcolor(y, z, toPlot, cmap=cmap)\n",
    "dia.addColorBar( im, ax, aspect=\"auto\" )\n",
    "fig.suptitle(f\"{sij} x={x[idxx]:.2f}\")"
   ]
  },
  {
   "cell_type": "code",
   "execution_count": null,
   "metadata": {},
   "outputs": [],
   "source": [
    "sij = \"s21\"\n",
    "idxx = centerX\n",
    "toPlot = 20 * np.log10( np.abs( img_h[\"2m30\"][sij][idxx,:,:].T ) )\n",
    "\n",
    "fig, ax = plt.subplots(1,1)\n",
    "im = ax.pcolor(y, z, toPlot, cmap=cmap)\n",
    "dia.addColorBar( im, ax, aspect=\"auto\" )\n",
    "fig.suptitle(f\"{sij} x={x[idxx]:.2f}\")"
   ]
  },
  {
   "cell_type": "markdown",
   "metadata": {},
   "source": [
    "## sum images"
   ]
  },
  {
   "cell_type": "markdown",
   "metadata": {},
   "source": [
    "### along x"
   ]
  },
  {
   "cell_type": "code",
   "execution_count": null,
   "metadata": {},
   "outputs": [],
   "source": [
    "idxx = centerX\n",
    "sumImg = np.zeros( img_h[\"2m30\"][\"s21\"][0,:,:].shape, dtype=complex )\n",
    "\n",
    "for h_asString in [\"2m30\"]:\n",
    "    for sij in ant:\n",
    "        sumImg += img_h[h_asString][sij][ idxx, :, : ]"
   ]
  },
  {
   "cell_type": "code",
   "execution_count": null,
   "metadata": {},
   "outputs": [],
   "source": [
    "toPlot = 20 * np.log10( np.abs( sumImg.T ) )\n",
    "\n",
    "fig, ax = plt.subplots(1,1)\n",
    "im = ax.pcolor(y, z, toPlot, cmap=cmap)\n",
    "dia.addColorBar( im, ax, aspect=\"auto\" )\n",
    "fig.suptitle(f\"x = {x[idxx]:.2f}\")"
   ]
  },
  {
   "cell_type": "markdown",
   "metadata": {},
   "source": [
    "### along z"
   ]
  },
  {
   "cell_type": "code",
   "execution_count": null,
   "metadata": {},
   "outputs": [],
   "source": []
  }
 ],
 "metadata": {
  "kernelspec": {
   "display_name": "Python 3",
   "language": "python",
   "name": "python3"
  },
  "language_info": {
   "codemirror_mode": {
    "name": "ipython",
    "version": 3
   },
   "file_extension": ".py",
   "mimetype": "text/x-python",
   "name": "python",
   "nbconvert_exporter": "python",
   "pygments_lexer": "ipython3",
   "version": "3.7.2"
  },
  "toc": {
   "base_numbering": 1,
   "nav_menu": {},
   "number_sections": true,
   "sideBar": true,
   "skip_h1_title": false,
   "title_cell": "Table of Contents",
   "title_sidebar": "Contents",
   "toc_cell": false,
   "toc_position": {
    "height": "calc(100% - 180px)",
    "left": "10px",
    "top": "150px",
    "width": "343.4px"
   },
   "toc_section_display": true,
   "toc_window_display": true
  }
 },
 "nbformat": 4,
 "nbformat_minor": 2
}
