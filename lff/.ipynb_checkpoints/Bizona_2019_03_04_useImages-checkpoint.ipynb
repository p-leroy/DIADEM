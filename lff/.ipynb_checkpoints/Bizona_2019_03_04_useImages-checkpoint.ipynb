{
 "cells": [
  {
   "cell_type": "code",
   "execution_count": 1,
   "metadata": {},
   "outputs": [],
   "source": [
    "import numpy as np\n",
    "import matplotlib.pyplot as plt"
   ]
  },
  {
   "cell_type": "code",
   "execution_count": 2,
   "metadata": {},
   "outputs": [],
   "source": [
    "%matplotlib qt5"
   ]
  },
  {
   "cell_type": "code",
   "execution_count": 3,
   "metadata": {},
   "outputs": [],
   "source": [
    "from mpl_toolkits.axes_grid1 import AxesGrid"
   ]
  },
  {
   "cell_type": "code",
   "execution_count": 4,
   "metadata": {},
   "outputs": [],
   "source": [
    "import pickle as pk"
   ]
  },
  {
   "cell_type": "code",
   "execution_count": 5,
   "metadata": {},
   "outputs": [],
   "source": [
    "%load_ext autoreload\n",
    "%autoreload 2"
   ]
  },
  {
   "cell_type": "markdown",
   "metadata": {},
   "source": [
    "# Custom tools"
   ]
  },
  {
   "cell_type": "code",
   "execution_count": 6,
   "metadata": {},
   "outputs": [],
   "source": [
    "import sys"
   ]
  },
  {
   "cell_type": "code",
   "execution_count": 11,
   "metadata": {},
   "outputs": [],
   "source": [
    "sys.path.insert(0, \"/home/pleroy/DEV/DIADEM\")\n",
    "import toolsdiadem.tools as dia\n",
    "import toolsdiadem.posargb as gb\n",
    "sys.path.insert(0, \"/home/pleroy/DEV/processing/focalization_python\")\n",
    "from posarutils.process.filtering import box_filter\n",
    "from posarutils.process.filtering import filter2"
   ]
  },
  {
   "cell_type": "code",
   "execution_count": 8,
   "metadata": {},
   "outputs": [],
   "source": [
    "date = \"2019_03_04\"\n",
    "base_path = \"/home/pleroy/DATA/DIADEM/lff/Bizona/\" + date\n",
    "prefix = \"sand_trunk_vol_\"\n",
    "nbDir = 11\n",
    "RxTx = [\"21\", \"31\", \"32\", \"41\", \"42\", \"43\"]"
   ]
  },
  {
   "cell_type": "markdown",
   "metadata": {},
   "source": [
    "# Get heights"
   ]
  },
  {
   "cell_type": "code",
   "execution_count": 9,
   "metadata": {},
   "outputs": [],
   "source": [
    "heights = {}\n",
    "for k in range(1, nbDir+1):\n",
    "    filename = base_path + f\"/{prefix}{k}/PoSAR.cfg\"\n",
    "    CFG = gb.readCfg( filename )\n",
    "    heights[f\"{k}\"] = CFG[\"H_nom\"]"
   ]
  },
  {
   "cell_type": "code",
   "execution_count": 10,
   "metadata": {},
   "outputs": [
    {
     "data": {
      "text/plain": [
       "{'1': 3.41,\n",
       " '2': 3.33,\n",
       " '3': 3.25,\n",
       " '4': 3.17,\n",
       " '5': 3.09,\n",
       " '6': 3.01,\n",
       " '7': 2.93,\n",
       " '8': 2.85,\n",
       " '9': 2.77,\n",
       " '10': 2.69,\n",
       " '11': 2.61}"
      ]
     },
     "execution_count": 10,
     "metadata": {},
     "output_type": "execute_result"
    }
   ],
   "source": [
    "heights"
   ]
  },
  {
   "cell_type": "markdown",
   "metadata": {},
   "source": [
    "# zCut"
   ]
  },
  {
   "cell_type": "code",
   "execution_count": null,
   "metadata": {},
   "outputs": [],
   "source": [
    "hRef   = 3.41\n",
    "zCut   = 0.000\n",
    "img_h = {}\n",
    "with open(base_path + f\"/{date}_hRef{hRef:.3f}_z{zCut:.3f}.dat\", 'rb') as file:\n",
    "    (imgGeom, img_h[hRef]) = pk.load( file )"
   ]
  },
  {
   "cell_type": "code",
   "execution_count": null,
   "metadata": {},
   "outputs": [],
   "source": [
    "(xMin, xMax, dx, yMin, yMax, dy, zMin, zMax, dz) = imgGeom\n",
    "nbX = int( (xMax-xMin) / dx ) + 1\n",
    "nbY = int( (yMax-yMin) / dy ) + 1\n",
    "nbZ = int( (zMax-zMin) / dz ) + 1\n",
    "extent_yx = [yMin, yMax, xMin, xMax]\n",
    "x = np.arange(xMin,xMax+1e-9,dx)\n",
    "y = np.arange(yMin,yMax+1e-9,dy)"
   ]
  },
  {
   "cell_type": "code",
   "execution_count": null,
   "metadata": {},
   "outputs": [],
   "source": [
    "fig, grid = dia.plotImgMosaic(img_h[hRef], extent=extent_yx, origin='lower')\n",
    "title = f\"{date} ground range, hRef = {hRef}, zCut = {zCut}\"\n",
    "fig.suptitle(title)"
   ]
  },
  {
   "cell_type": "code",
   "execution_count": null,
   "metadata": {},
   "outputs": [],
   "source": [
    "indexes = np.where((x<-0.15) & (x>-0.25))[0]"
   ]
  },
  {
   "cell_type": "code",
   "execution_count": null,
   "metadata": {},
   "outputs": [],
   "source": [
    "indexes.shape"
   ]
  },
  {
   "cell_type": "code",
   "execution_count": null,
   "metadata": {},
   "outputs": [],
   "source": [
    "img_h[hRef][\"32\"].shape"
   ]
  },
  {
   "cell_type": "code",
   "execution_count": null,
   "metadata": {},
   "outputs": [],
   "source": [
    "fig, ax = plt.subplots(1,1)\n",
    "for xn in indexes:\n",
    "    ij = \"32\"\n",
    "    toPlot = 20 * np.log10( np.abs( img_h[hRef][ij][xn,:,0] ) )\n",
    "    ax.plot( y, toPlot, label=f\"{xn}, x = {x[xn]:.3f}\" )\n",
    "ax.legend()\n",
    "ax.grid()"
   ]
  },
  {
   "cell_type": "markdown",
   "metadata": {},
   "source": [
    "# xCut"
   ]
  },
  {
   "cell_type": "code",
   "execution_count": null,
   "metadata": {},
   "outputs": [],
   "source": [
    "hRef   = 3.500\n",
    "xCut   = 0.000\n",
    "with open(base_path + f\"/{date}_hRef{hRef:.3f}_xCut{xCut:.3f}.dat\", 'rb') as file:\n",
    "    img = pk.load(file)"
   ]
  },
  {
   "cell_type": "code",
   "execution_count": null,
   "metadata": {},
   "outputs": [],
   "source": [
    "fig, grid = plotImgMosaic(img[hRef], extent=extent_yz, origin='lower', T=1)\n",
    "title = f\"{date} xCut = {xCut}\"\n",
    "fig.suptitle(title)"
   ]
  },
  {
   "cell_type": "markdown",
   "metadata": {},
   "source": [
    "# Tomography"
   ]
  },
  {
   "cell_type": "code",
   "execution_count": 26,
   "metadata": {},
   "outputs": [
    {
     "name": "stdout",
     "output_type": "stream",
     "text": [
      "/home/pleroy/DATA/DIADEM/lff/Bizona/2019_03_04/2019_03_04_hRef3.410_x-0.250_-0.150.dat\n",
      "/home/pleroy/DATA/DIADEM/lff/Bizona/2019_03_04/2019_03_04_hRef3.330_x-0.250_-0.150.dat\n",
      "/home/pleroy/DATA/DIADEM/lff/Bizona/2019_03_04/2019_03_04_hRef3.250_x-0.250_-0.150.dat\n",
      "/home/pleroy/DATA/DIADEM/lff/Bizona/2019_03_04/2019_03_04_hRef3.170_x-0.250_-0.150.dat\n",
      "/home/pleroy/DATA/DIADEM/lff/Bizona/2019_03_04/2019_03_04_hRef3.090_x-0.250_-0.150.dat\n",
      "/home/pleroy/DATA/DIADEM/lff/Bizona/2019_03_04/2019_03_04_hRef3.010_x-0.250_-0.150.dat\n",
      "/home/pleroy/DATA/DIADEM/lff/Bizona/2019_03_04/2019_03_04_hRef2.930_x-0.250_-0.150.dat\n",
      "/home/pleroy/DATA/DIADEM/lff/Bizona/2019_03_04/2019_03_04_hRef2.850_x-0.250_-0.150.dat\n",
      "/home/pleroy/DATA/DIADEM/lff/Bizona/2019_03_04/2019_03_04_hRef2.770_x-0.250_-0.150.dat\n",
      "/home/pleroy/DATA/DIADEM/lff/Bizona/2019_03_04/2019_03_04_hRef2.690_x-0.250_-0.150.dat\n",
      "/home/pleroy/DATA/DIADEM/lff/Bizona/2019_03_04/2019_03_04_hRef2.610_x-0.250_-0.150.dat\n"
     ]
    }
   ],
   "source": [
    "xCut   = 0.000\n",
    "xMin = -0.25\n",
    "xMax = -0.15\n",
    "img_h = {}\n",
    "for idx in heights:\n",
    "    hRef = heights[idx]\n",
    "    filename = base_path + f\"/{date}_hRef{hRef:.3f}_x{xMin:.3f}_{xMax:.3f}.dat\"\n",
    "    print(filename)\n",
    "    with open(filename, 'rb') as file:\n",
    "        (imgGeom, img_h[hRef]) = pk.load( file )"
   ]
  },
  {
   "cell_type": "code",
   "execution_count": 23,
   "metadata": {},
   "outputs": [
    {
     "name": "stdout",
     "output_type": "stream",
     "text": [
      "x[idx0_x] = -0.200\n"
     ]
    }
   ],
   "source": [
    "(xMin, xMax, dx, yMin, yMax, dy, zMin, zMax, dz) = imgGeom\n",
    "nbX = int( (xMax-xMin) / dx ) + 1\n",
    "nbY = int( (yMax-yMin) / dy ) + 1\n",
    "nbZ = int( (zMax-zMin) / dz ) + 1\n",
    "idx0_x = int( nbX / 2 )\n",
    "extent_yz = [yMin, yMax, zMin, zMax]\n",
    "x = np.arange(xMin,xMax+1e-9,dx)\n",
    "y = np.arange(yMin,yMax+1e-9,dy)\n",
    "z = np.arange(zMin,zMax+1e-9,dz)\n",
    "print(f\"x[idx0_x] = {x[idx0_x]:.3f}\")"
   ]
  },
  {
   "cell_type": "markdown",
   "metadata": {},
   "source": [
    "## Monostatic"
   ]
  },
  {
   "cell_type": "code",
   "execution_count": null,
   "metadata": {},
   "outputs": [],
   "source": [
    "imgSum  = np.zeros( (nbY, nbZ), dtype=complex)\n",
    "imgSumC = np.zeros( (nbY, nbZ), dtype=complex)\n",
    "amp     = np.zeros( (nbY, nbZ), dtype=complex)\n",
    "idxx = idx0_x\n",
    "aver = 0\n",
    "\n",
    "for height in heights:\n",
    "    for ij in [\"21\", \"31\", \"32\"]:\n",
    "        z3 = heights[height]\n",
    "        imgSum +=         img_h[z3][ij][idxx,:,:]\n",
    "        amp    += np.abs( img_h[z3][ij][idxx,:,:] )\n",
    "        aver += 1\n",
    "imgSum = imgSum / aver\n",
    "min_imgSum = np.amin( 20 * np.log10( np.abs( imgSum ) ) )\n",
    "max_imgSum = np.amax( 20 * np.log10( np.abs( imgSum ) ) )\n",
    "print(f\"aver = {aver}, {min_imgSum:.1f} {max_imgSum:.1f}\")"
   ]
  },
  {
   "cell_type": "code",
   "execution_count": null,
   "metadata": {},
   "outputs": [],
   "source": [
    "#imgSumNorm = imgSum / amp\n",
    "toPlot = 20 * np.log10( np.abs( imgSum ).T )\n",
    "fig, ax = plt.subplots(1,1)\n",
    "im = ax.imshow(toPlot, cmap='jet', origin='lower', extent=extent_yz)\n",
    "dia.addColorBar( im, ax, aspect=\"equal\" )\n",
    "title = date + f\" monostatic x = {x[idx0_x]:.3f}\"\n",
    "ax.set_title(title)"
   ]
  },
  {
   "cell_type": "markdown",
   "metadata": {},
   "source": [
    "## Bistatic"
   ]
  },
  {
   "cell_type": "code",
   "execution_count": 24,
   "metadata": {},
   "outputs": [
    {
     "name": "stdout",
     "output_type": "stream",
     "text": [
      "aver = 22, -43.7 51.5\n"
     ]
    }
   ],
   "source": [
    "biz_imgSum  = np.zeros( (nbY, nbZ), dtype=complex)\n",
    "biz_imgSumC = np.zeros( (nbY, nbZ), dtype=complex)\n",
    "biz_amp     = np.zeros( (nbY, nbZ), dtype=complex)\n",
    "idxx = idx0_x\n",
    "aver = 0\n",
    "\n",
    "for idx in heights:\n",
    "    for ij in [\"41\", \"42\", \"43\"]:\n",
    "        z3 = heights[idx]\n",
    "        if z3 != 3.5:\n",
    "            if ij != \"41\":\n",
    "                biz_imgSum +=         img_h[z3][ij][idxx,:,:]\n",
    "                biz_amp    += np.abs( img_h[z3][ij][idxx,:,:] )\n",
    "                aver+=1\n",
    "        else:\n",
    "            biz_imgSum +=         img_h[z3][ij][idxx,:,:]\n",
    "            biz_amp    += np.abs( img_h[z3][ij][idxx,:,:] )\n",
    "            aver+=1\n",
    "biz_imgSum = biz_imgSum / aver\n",
    "min_biz_imgSum = np.amin( 20 * np.log10( np.abs( biz_imgSum ) ) )\n",
    "max_biz_imgSum = np.amax( 20 * np.log10( np.abs( biz_imgSum ) ) )\n",
    "print(f\"aver = {aver}, {min_biz_imgSum:.1f} {max_biz_imgSum:.1f}\")"
   ]
  },
  {
   "cell_type": "code",
   "execution_count": 25,
   "metadata": {},
   "outputs": [
    {
     "data": {
      "text/plain": [
       "Text(0.5, 1.0, '2019_03_04 monostatic x = -0.200')"
      ]
     },
     "execution_count": 25,
     "metadata": {},
     "output_type": "execute_result"
    }
   ],
   "source": [
    "#biz_imgSumNorm = biz_imgSum / biz_amp\n",
    "toPlot = 20 * np.log10( np.abs(biz_imgSum).T )\n",
    "fig, ax = plt.subplots(1,1)\n",
    "im = ax.imshow(toPlot, cmap='jet', origin='lower', extent=extent_yz)\n",
    "dia.addColorBar( im, ax, aspect=\"equal\" )\n",
    "title = date + f\" monostatic x = {x[idx0_x]:.3f}\"\n",
    "ax.set_title(title)"
   ]
  },
  {
   "cell_type": "markdown",
   "metadata": {},
   "source": [
    " ## Bistatic sum along x"
   ]
  },
  {
   "cell_type": "code",
   "execution_count": null,
   "metadata": {},
   "outputs": [],
   "source": [
    "biz_amp_i = np.zeros( (nbY, nbZ), dtype=float )\n",
    "aver = 0\n",
    "\n",
    "for xn in range(nbX):\n",
    "    biz_imgSum  = np.zeros( (nbY, nbZ), dtype=complex )\n",
    "    # compute the coherent sum for the considered xn\n",
    "    for idx in heights:\n",
    "        for ij in [\"41\", \"42\", \"43\"]:\n",
    "            z3 = heights[idx]\n",
    "            if z3 != 3.5:\n",
    "                if ij != \"41\":\n",
    "                    biz_imgSum += img_h[z3][ij][xn,:,:]\n",
    "                    aver+=1\n",
    "            else:\n",
    "                biz_imgSum += img_h[z3][ij][xn,:,:]\n",
    "                aver+=1\n",
    "    # compute the non coherent sum\n",
    "    biz_amp_i = biz_amp_i + biz_imgSum ** 2\n",
    "biz_amp_i = (biz_amp_i / aver)**0.5\n",
    "min_biz_amp_i = np.amin( 20 * np.log10( np.abs( biz_amp_i ) ) )\n",
    "max_biz_amp_i = np.amax( 20 * np.log10( np.abs( biz_amp_i ) ) )\n",
    "print(f\"aver = {aver}, {min_biz_amp_i:.1f} {max_biz_amp_i:.1f}\")"
   ]
  },
  {
   "cell_type": "code",
   "execution_count": null,
   "metadata": {},
   "outputs": [],
   "source": [
    "toPlot = 20 * np.log10( np.abs(biz_amp_i).T )\n",
    "\n",
    "fig, ax = plt.subplots(1,1)\n",
    "im = ax.imshow(toPlot, cmap='jet', origin='lower', extent=extent_yz)\n",
    "dia.addColorBar( im, ax, aspect=\"equal\" )\n",
    "title = f\"{date} bistatic\\nsum intensities along x from {xMin} to {xMax}, dx = {dx}\"\n",
    "ax.set_title(title)"
   ]
  },
  {
   "cell_type": "markdown",
   "metadata": {},
   "source": [
    "## Plot bistatic and monostatic"
   ]
  },
  {
   "cell_type": "code",
   "execution_count": null,
   "metadata": {},
   "outputs": [],
   "source": [
    "fig, grid = dia.plotImgMosaicMonoBi( imgSum.T, biz_imgSum.T, extent_yz, origin='lower',vmin=20,vmax=65 )\n",
    "title = date + f\"yz cut at {x[idx0_x]:.3f}\"\n",
    "fig.suptitle(title)"
   ]
  },
  {
   "cell_type": "markdown",
   "metadata": {},
   "source": [
    "# Correlation\n",
    "\n",
    "$$ \\left(C_i = \\sum_j{I_{i+k-j} W_j}\\right) $$"
   ]
  },
  {
   "cell_type": "code",
   "execution_count": null,
   "metadata": {},
   "outputs": [],
   "source": [
    "box_filter"
   ]
  },
  {
   "cell_type": "code",
   "execution_count": null,
   "metadata": {},
   "outputs": [],
   "source": [
    "from scipy import ndimage"
   ]
  },
  {
   "cell_type": "code",
   "execution_count": 30,
   "metadata": {},
   "outputs": [],
   "source": [
    "k = np.ones((5,5))\n",
    "k = k / np.sum(k)"
   ]
  },
  {
   "cell_type": "code",
   "execution_count": 33,
   "metadata": {},
   "outputs": [
    {
     "ename": "NameError",
     "evalue": "name 'filter2' is not defined",
     "output_type": "error",
     "traceback": [
      "\u001b[0;31m---------------------------------------------------------------------------\u001b[0m",
      "\u001b[0;31mNameError\u001b[0m                                 Traceback (most recent call last)",
      "\u001b[0;32m<ipython-input-33-b5cd6130375e>\u001b[0m in \u001b[0;36m<module>\u001b[0;34m\u001b[0m\n\u001b[0;32m----> 1\u001b[0;31m \u001b[0mauto21\u001b[0m \u001b[0;34m=\u001b[0m \u001b[0mfilter2\u001b[0m\u001b[0;34m(\u001b[0m\u001b[0mimg_h\u001b[0m\u001b[0;34m[\u001b[0m\u001b[0;36m3.41\u001b[0m\u001b[0;34m]\u001b[0m\u001b[0;34m[\u001b[0m\u001b[0;34m\"21\"\u001b[0m\u001b[0;34m]\u001b[0m\u001b[0;34m**\u001b[0m\u001b[0;36m2\u001b[0m\u001b[0;34m,\u001b[0m \u001b[0mk\u001b[0m\u001b[0;34m)\u001b[0m\u001b[0;34m\u001b[0m\u001b[0;34m\u001b[0m\u001b[0m\n\u001b[0m",
      "\u001b[0;31mNameError\u001b[0m: name 'filter2' is not defined"
     ]
    }
   ],
   "source": [
    "auto21 = filter2(img_h[3.41][\"21\"]**2, k)"
   ]
  },
  {
   "cell_type": "code",
   "execution_count": null,
   "metadata": {},
   "outputs": [],
   "source": []
  }
 ],
 "metadata": {
  "kernelspec": {
   "display_name": "Python 3",
   "language": "python",
   "name": "python3"
  },
  "language_info": {
   "codemirror_mode": {
    "name": "ipython",
    "version": 3
   },
   "file_extension": ".py",
   "mimetype": "text/x-python",
   "name": "python",
   "nbconvert_exporter": "python",
   "pygments_lexer": "ipython3",
   "version": "3.7.1"
  },
  "toc": {
   "base_numbering": 1,
   "nav_menu": {},
   "number_sections": true,
   "sideBar": true,
   "skip_h1_title": false,
   "title_cell": "Table of Contents",
   "title_sidebar": "Contents",
   "toc_cell": false,
   "toc_position": {},
   "toc_section_display": true,
   "toc_window_display": true
  },
  "varInspector": {
   "cols": {
    "lenName": 16,
    "lenType": 16,
    "lenVar": 40
   },
   "kernels_config": {
    "python": {
     "delete_cmd_postfix": "",
     "delete_cmd_prefix": "del ",
     "library": "var_list.py",
     "varRefreshCmd": "print(var_dic_list())"
    },
    "r": {
     "delete_cmd_postfix": ") ",
     "delete_cmd_prefix": "rm(",
     "library": "var_list.r",
     "varRefreshCmd": "cat(var_dic_list()) "
    }
   },
   "oldHeight": 734.85,
   "position": {
    "height": "756.85px",
    "left": "1180px",
    "right": "21px",
    "top": "53px",
    "width": "516px"
   },
   "types_to_exclude": [
    "module",
    "function",
    "builtin_function_or_method",
    "instance",
    "_Feature"
   ],
   "varInspector_section_display": "block",
   "window_display": false
  }
 },
 "nbformat": 4,
 "nbformat_minor": 2
}
