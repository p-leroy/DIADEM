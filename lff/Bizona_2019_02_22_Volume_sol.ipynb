{
 "cells": [
  {
   "cell_type": "markdown",
   "metadata": {},
   "source": [
    "# Init"
   ]
  },
  {
   "cell_type": "code",
   "execution_count": null,
   "metadata": {},
   "outputs": [],
   "source": [
    "import time, sys\n",
    "%load_ext autoreload\n",
    "%autoreload 2"
   ]
  },
  {
   "cell_type": "code",
   "execution_count": null,
   "metadata": {},
   "outputs": [],
   "source": [
    "import pickle as pk"
   ]
  },
  {
   "cell_type": "markdown",
   "metadata": {},
   "source": [
    "## Custom tools"
   ]
  },
  {
   "cell_type": "code",
   "execution_count": null,
   "metadata": {},
   "outputs": [],
   "source": [
    "sys.path.insert(0, \"/home/pleroy/DEV/processing/PoSAR-MC\")\n",
    "import posarmctools.readdata as readdata"
   ]
  },
  {
   "cell_type": "code",
   "execution_count": null,
   "metadata": {},
   "outputs": [],
   "source": [
    "sys.path.insert(0, \"/home/pleroy/DEV/processing/focalization_python\")\n",
    "import posarutils.process.disp_PoSAR_img as disp"
   ]
  },
  {
   "cell_type": "code",
   "execution_count": null,
   "metadata": {},
   "outputs": [],
   "source": [
    "sys.path.insert(0, \"/home/pleroy/DEV/DIADEM\")\n",
    "import toolsdiadem.tools as dia\n",
    "import toolsdiadem.posargb as gb"
   ]
  },
  {
   "cell_type": "code",
   "execution_count": null,
   "metadata": {},
   "outputs": [],
   "source": [
    "i_CFG = 0\n",
    "i_RD = 1\n",
    "i_CAL = 2\n",
    "i_f = 3\n",
    "\n",
    "i_x = 2\n",
    "i_y = 3\n",
    "i_z = 4\n",
    "\n",
    "# antenna locations on the plate\n",
    "Dx1   = 0.224\n",
    "Dx2   = 0.168\n",
    "h     = 0.04\n",
    "# positions of the box in x\n",
    "xMinTrail  = -1.50\n",
    "xMaxTrail  = 1.493751\n",
    "# bizona\n",
    "x_biz_offset = 0\n",
    "y_biz_offset = 6.4\n",
    "z_biz_offset = 3\n",
    "biz_offset = (x_biz_offset, y_biz_offset, z_biz_offset)"
   ]
  },
  {
   "cell_type": "code",
   "execution_count": null,
   "metadata": {},
   "outputs": [],
   "source": [
    "from backprojection.loadbackprojection import *\n",
    "libraryFilename = \"/home/pleroy/DEV/processing/PoSAR-MC/backprojection/ccpp/libbackprojection/liblibbackprojection.so\"\n",
    "lib = LibBackProjection( libraryFilename )"
   ]
  },
  {
   "cell_type": "markdown",
   "metadata": {},
   "source": [
    "## Numpy"
   ]
  },
  {
   "cell_type": "code",
   "execution_count": null,
   "metadata": {},
   "outputs": [],
   "source": [
    "import numpy as np\n",
    "import matplotlib.pyplot as plt"
   ]
  },
  {
   "cell_type": "code",
   "execution_count": null,
   "metadata": {},
   "outputs": [],
   "source": [
    "%matplotlib qt5"
   ]
  },
  {
   "cell_type": "markdown",
   "metadata": {},
   "source": [
    "## Data paths"
   ]
  },
  {
   "cell_type": "code",
   "execution_count": null,
   "metadata": {},
   "outputs": [],
   "source": [
    "date = \"2019_02_22\"\n",
    "base_path = \"/home/pleroy/DATA/DIADEM/lff/Bizona_22_02_19/Raw_data\"\n",
    "prefix = \"Volume_sol_\"\n",
    "nbDir = 12\n",
    "RxTx = [\"21\", \"31\", \"32\", \"41\", \"42\", \"43\"]"
   ]
  },
  {
   "cell_type": "code",
   "execution_count": null,
   "metadata": {},
   "outputs": [],
   "source": [
    "heights = {}\n",
    "for k in range(1, nbDir+1):\n",
    "    filename = base_path + f\"/{prefix}{k}/PoSAR.cfg\"\n",
    "    CFG = gb.readCfg( filename )\n",
    "    heights[f\"{k}\"] = CFG[\"H_nom\"]"
   ]
  },
  {
   "cell_type": "code",
   "execution_count": null,
   "metadata": {},
   "outputs": [],
   "source": [
    "heights"
   ]
  },
  {
   "cell_type": "markdown",
   "metadata": {},
   "source": [
    "# Read separate files"
   ]
  },
  {
   "cell_type": "markdown",
   "metadata": {},
   "source": [
    "## Read configuration"
   ]
  },
  {
   "cell_type": "code",
   "execution_count": null,
   "metadata": {},
   "outputs": [],
   "source": [
    "CFG = gb.readCfg( base_path + f\"/{prefix}1/PoSAR.cfg\")"
   ]
  },
  {
   "cell_type": "code",
   "execution_count": null,
   "metadata": {},
   "outputs": [],
   "source": [
    "CFG"
   ]
  },
  {
   "cell_type": "markdown",
   "metadata": {},
   "source": [
    "## Read data"
   ]
  },
  {
   "cell_type": "code",
   "execution_count": null,
   "metadata": {},
   "outputs": [],
   "source": [
    "c = gb.readFile( base_path + f\"/Volume_sol_1/S21.dat\", CFG['Npos'], CFG['Nf'] )"
   ]
  },
  {
   "cell_type": "code",
   "execution_count": null,
   "metadata": {},
   "outputs": [],
   "source": [
    "fix, (ax0, ax1) = plt.subplots(1,2)\n",
    "\n",
    "im = ax0.imshow(20 * np.log10( np.abs( c ) ) )\n",
    "dia.addColorBar(im, ax0)\n",
    "\n",
    "im = ax1.imshow( np.unwrap( np.angle(c), axis = 1 ) )\n",
    "dia.addColorBar(im, ax1)"
   ]
  },
  {
   "cell_type": "code",
   "execution_count": null,
   "metadata": {},
   "outputs": [],
   "source": [
    "angle = np.angle(c[125,:])\n",
    "fig, ax = plt.subplots(1,1)\n",
    "ax.plot( angle, '.-' )\n",
    "ax.plot( np.unwrap(angle) )\n",
    "ax.grid()"
   ]
  },
  {
   "cell_type": "markdown",
   "metadata": {},
   "source": [
    "## Read positions"
   ]
  },
  {
   "cell_type": "code",
   "execution_count": null,
   "metadata": {},
   "outputs": [],
   "source": [
    "data_dir = f\"{prefix}1\"\n",
    "ant_pos = gb.readPos( base_path + f\"/{data_dir}/track_S21.dat\" )"
   ]
  },
  {
   "cell_type": "code",
   "execution_count": null,
   "metadata": {},
   "outputs": [],
   "source": [
    "fig, ax = plt.subplots(1,1)\n",
    "ax.plot(ant_pos.Txx, '.-', label=f\"Txx\")\n",
    "ax.plot(ant_pos.Txy, '.-', label=f\"Txy\")\n",
    "ax.plot(ant_pos.Txz, '.-', label=f\"Txz\")\n",
    "ax.plot(ant_pos.Rxx, '.-', label=f\"Rxx\")\n",
    "ax.plot(ant_pos.Rxy, '.-', label=f\"Rxy\")\n",
    "ax.plot(ant_pos.Rxz, '.-', label=f\"Rxz\")\n",
    "ax.legend()\n",
    "ax.grid()\n",
    "title = data_dir + \"\\nS21\"\n",
    "ax.set_title(title)"
   ]
  },
  {
   "cell_type": "markdown",
   "metadata": {},
   "source": [
    "# read_PoSAR_data"
   ]
  },
  {
   "cell_type": "code",
   "execution_count": null,
   "metadata": {},
   "outputs": [],
   "source": [
    "vmax=-70\n",
    "vmin=-130"
   ]
  },
  {
   "cell_type": "markdown",
   "metadata": {},
   "source": [
    "## Sand_trunk_vol_biz_1 3.45m"
   ]
  },
  {
   "cell_type": "code",
   "execution_count": null,
   "metadata": {},
   "outputs": [],
   "source": [
    "data_idx = 1\n",
    "path_1 = base_path + f\"/{prefix}{data_idx}\""
   ]
  },
  {
   "cell_type": "code",
   "execution_count": null,
   "metadata": {},
   "outputs": [],
   "source": [
    "CFG_1, RD_1, CAL_1, f_1 = gb.readData( path_1, \"S21.dat\", cal_name=\"\" )"
   ]
  },
  {
   "cell_type": "code",
   "execution_count": null,
   "metadata": {},
   "outputs": [],
   "source": [
    "f_1"
   ]
  },
  {
   "cell_type": "code",
   "execution_count": null,
   "metadata": {},
   "outputs": [],
   "source": [
    "f_base = f_1 - CFG_1[\"Fmin\"]\n",
    "r = np.arange(f_base.size) * CFG_1[\"delta_sr\"]\n",
    "az = (ant_pos.Txx + ant_pos.Txz)/2"
   ]
  },
  {
   "cell_type": "code",
   "execution_count": null,
   "metadata": {},
   "outputs": [],
   "source": [
    "hanning = np.hanning( CFG_1[\"Nf\"] )\n",
    "coupling_RD = np.average(RD_1, 0)\n",
    "ifft_RD = np.fft.ifft( RD_1 )\n",
    "ifft_RD_withHanning = np.fft.ifft( RD_1 * hanning )\n",
    "ifft_RD_withoutCoupling = np.fft.ifft( RD_1 - coupling_RD )"
   ]
  },
  {
   "cell_type": "code",
   "execution_count": null,
   "metadata": {},
   "outputs": [],
   "source": [
    "fig, (ax0, ax1) = plt.subplots(1,2,sharex=True,sharey=True)\n",
    "\n",
    "im = ax0.pcolormesh( r, az, 20 * np.log10( np.abs( ifft_RD_withHanning ) ), cmap='jet', vmax=vmax,vmin=vmin  )\n",
    "dia.addColorBar(im, ax0, 'auto')\n",
    "\n",
    "im = ax1.pcolormesh( r, az, np.angle( ifft_RD_withHanning ), cmap='jet' )\n",
    "dia.addColorBar(im, ax1, 'auto')\n",
    "\n",
    "fig.suptitle(path_1 + \"\\ns21 with hanning\")"
   ]
  },
  {
   "cell_type": "code",
   "execution_count": null,
   "metadata": {},
   "outputs": [],
   "source": [
    "fig, (ax0, ax1) = plt.subplots(1,2,sharex=True,sharey=True)\n",
    "\n",
    "im = ax0.pcolormesh( r, az, 20 * np.log10( np.abs( ifft_RD ) ), cmap='jet' )\n",
    "dia.addColorBar(im, ax0, 'auto')\n",
    "\n",
    "im = ax1.pcolormesh( r, az, np.angle( ifft_RD ), cmap='jet' )\n",
    "dia.addColorBar(im, ax1, 'auto')\n",
    "\n",
    "fig.suptitle(path_1 + \"\\ns21 raw data\")"
   ]
  },
  {
   "cell_type": "code",
   "execution_count": null,
   "metadata": {},
   "outputs": [],
   "source": [
    "fig, (ax0, ax1) = plt.subplots(1,2,sharex=True,sharey=True)\n",
    "\n",
    "im = ax0.pcolormesh( r, az, 20 * np.log10( np.abs( ifft_RD_withoutCoupling ) ), cmap='jet' )\n",
    "dia.addColorBar(im, ax0, 'auto')\n",
    "\n",
    "im = ax1.pcolormesh( r, az, np.angle( ifft_RD_withoutCoupling ), cmap='jet' )\n",
    "dia.addColorBar(im, ax1, 'auto')\n",
    "\n",
    "fig.suptitle(path_1 + \"\\ns21 without coupling\")"
   ]
  },
  {
   "cell_type": "markdown",
   "metadata": {},
   "source": [
    "## Volume_sol_2 3.42m"
   ]
  },
  {
   "cell_type": "markdown",
   "metadata": {},
   "source": [
    "### Read data"
   ]
  },
  {
   "cell_type": "code",
   "execution_count": null,
   "metadata": {},
   "outputs": [],
   "source": [
    "data_idx = 2\n",
    "path_2 = base_path + f\"/{prefix}{data_idx}\""
   ]
  },
  {
   "cell_type": "code",
   "execution_count": null,
   "metadata": {},
   "outputs": [],
   "source": [
    "read_2 = gb.readData( path_2, \"S21.dat\" )\n",
    "ant_pos_2 = gb.readPos( path_2 + \"/track_S21.dat\" )"
   ]
  },
  {
   "cell_type": "code",
   "execution_count": null,
   "metadata": {},
   "outputs": [],
   "source": [
    "az_2 = (ant_pos_2.Txx + ant_pos_2.Txz)/2\n",
    "f_base_2 = read_2[i_f] - read_2[i_CFG][\"Fmin\"]\n",
    "r_2 = np.arange(f_base_2.size) * read_2[i_CFG][\"delta_sr\"]"
   ]
  },
  {
   "cell_type": "markdown",
   "metadata": {},
   "source": [
    "### Proces data"
   ]
  },
  {
   "cell_type": "code",
   "execution_count": null,
   "metadata": {},
   "outputs": [],
   "source": [
    "hanning_2 = np.hanning( read_2[i_CFG][\"Nf\"] )\n",
    "ifft_2 = np.fft.ifft( read_2[i_RD] * hanning_2 )"
   ]
  },
  {
   "cell_type": "code",
   "execution_count": null,
   "metadata": {},
   "outputs": [],
   "source": [
    "fig, (ax0, ax1) = plt.subplots(1,2,sharex=True,sharey=True)\n",
    "\n",
    "im = ax0.pcolormesh( r_2, az_2, 20 * np.log10( np.abs( ifft_2 ) ), cmap='jet', vmax=vmax,vmin=vmin )\n",
    "dia.addColorBar(im, ax0, 'auto')\n",
    "\n",
    "im = ax1.pcolormesh( r_2, az_2, np.angle( ifft_2 ), cmap='jet' )\n",
    "dia.addColorBar(im, ax1, 'auto')\n",
    "\n",
    "fig.suptitle(path_2 + \"\\ns21 with hanning\")"
   ]
  },
  {
   "cell_type": "code",
   "execution_count": null,
   "metadata": {},
   "outputs": [],
   "source": [
    "fig, ax = plt.subplots(1,1)\n",
    "ax.plot(ant_pos_2.Txx, '.-', label=f\"Txx\")\n",
    "ax.plot(ant_pos_2.Txy, '.-', label=f\"Txy\")\n",
    "ax.plot(ant_pos_2.Txz, '.-', label=f\"Txz\")\n",
    "ax.plot(ant_pos_2.Rxx, '.-', label=f\"Rxx\")\n",
    "ax.plot(ant_pos_2.Rxy, '.-', label=f\"Rxy\")\n",
    "ax.plot(ant_pos_2.Rxz, '.-', label=f\"Rxz\")\n",
    "#\n",
    "ax.plot(xyz_2[:,2], 'x', label=f\"pos x\")\n",
    "ax.plot(xyz_2[:,3], 'x', label=f\"pos y\")\n",
    "ax.plot(xyz_2[:,4], 'x', label=f\"pos z\")\n",
    "ax.legend()\n",
    "ax.grid()\n",
    "title = path_2 + \"\\nS21\"\n",
    "ax.set_title(title)"
   ]
  },
  {
   "cell_type": "markdown",
   "metadata": {},
   "source": [
    "### r ka"
   ]
  },
  {
   "cell_type": "code",
   "execution_count": null,
   "metadata": {},
   "outputs": [],
   "source": [
    "r_ka_2 = np.fft.fftshift( \n",
    "    np.fft.fft( np.fft.ifft( np.fft.ifftshift(read_2[i_RD],axes=0), axis=1 ), axis=0 ), axes=0 )"
   ]
  },
  {
   "cell_type": "code",
   "execution_count": null,
   "metadata": {},
   "outputs": [],
   "source": [
    "diff_az = np.diff(az_2)\n",
    "np.mean(diff_az), np.std(diff_az)\n",
    "daz = 0.012"
   ]
  },
  {
   "cell_type": "code",
   "execution_count": null,
   "metadata": {},
   "outputs": [],
   "source": [
    "ka = np.fft.fftshift(np.fft.fftfreq(read_2[i_CFG][\"Npos\"],daz)) * 2 * np.pi"
   ]
  },
  {
   "cell_type": "code",
   "execution_count": null,
   "metadata": {},
   "outputs": [],
   "source": [
    "fig, (ax0, ax1) = plt.subplots(1,2,sharex=True,sharey=True)\n",
    "\n",
    "im = ax0.pcolor( r, ka, 20 * np.log10( np.abs( r_ka_2 ) ), cmap='jet' )\n",
    "dia.addColorBar(im, ax0, 'auto')\n",
    "ax0.set_xlabel('r')\n",
    "ax0.set_ylabel('ka')\n",
    "\n",
    "im = ax1.pcolor( r, ka, np.angle( r_ka_2 ), cmap='jet' )\n",
    "dia.addColorBar(im, ax1, 'auto')\n",
    "ax1.set_xlabel('r')\n",
    "ax1.set_ylabel('ka')\n",
    "\n",
    "fig.suptitle(path_2 + \"\\ns21 (r,ka)\")"
   ]
  },
  {
   "cell_type": "markdown",
   "metadata": {},
   "source": [
    "# Build positions"
   ]
  },
  {
   "cell_type": "code",
   "execution_count": null,
   "metadata": {},
   "outputs": [],
   "source": [
    "data_idx = 1\n",
    "data_path = base_path + f\"/Volume_sol_{data_idx}\"\n",
    "Npos  = CFG[\"Npos\"]\n",
    "zRail = heights[f\"{data_idx}\"]\n",
    "xyz_dic = gb.buildPos( xMinTrail, xMaxTrail, Npos, Dx1, Dx2, h, zRail )\n",
    "xyz_dicUsingTrack = gb.buildPosUsingTrack( data_path + \"/track_S\" , Dx1, Dx2, h, zRail, verbose=1, bizona=biz_offset )\n",
    "ant_pos21 = gb.readPos( data_path + \"/track_S21.dat\" )\n",
    "ant_pos43 = gb.readPos( data_path + \"/track_S43.dat\" )"
   ]
  },
  {
   "cell_type": "code",
   "execution_count": null,
   "metadata": {},
   "outputs": [],
   "source": [
    "fig, ax = plt.subplots(1,1)\n",
    "for a in [\"1\", \"2\", \"3\", \"4\"]:\n",
    "    ax.plot( xyz_dic[a][:,i_x], xyz_dic[a][:,i_z], 'o', label=f\"antenna {a}, xyz_dic\" )\n",
    "    ax.plot( xyz_dicUsingTrack[a][:,i_x], xyz_dicUsingTrack[a][:,i_z], 'x', label=f\"antenna {a}, xyz_dicUsingTrack\" )\n",
    "ax.plot( ant_pos21.Txx, ant_pos21.Txz, '.', label=\"antenna 1, ant_pos read positions\" )\n",
    "ax.plot( ant_pos21.Rxx, ant_pos21.Rxz, '.', label=\"antenna 2, ant_pos read positions\" )\n",
    "ax.plot( ant_pos43.Txx, ant_pos43.Txz, '.', label=\"antenna 3, ant_pos read positions\" )\n",
    "ax.plot( ant_pos43.Rxx, ant_pos43.Rxz, '.', label=\"antenna 4, ant_pos read positions\" )\n",
    "ax.legend()\n",
    "ax.grid()\n",
    "ax.set_title( f\"positions computed\" )"
   ]
  },
  {
   "cell_type": "code",
   "execution_count": null,
   "metadata": {},
   "outputs": [],
   "source": [
    "fig, ax = plt.subplots(1,1)\n",
    "a = \"3\"\n",
    "ax.plot( xyz_dicUsingTrack[a][:,i_x], 'o', label=f\"antenna {a}, xyz_dicUsingTrack\" )\n",
    "ax.plot( xyz_dicUsingTrack[a][:,i_y], 'o', label=f\"antenna {a}, xyz_dicUsingTrack\" )\n",
    "ax.plot( xyz_dicUsingTrack[a][:,i_z], 'o', label=f\"antenna {a}, xyz_dicUsingTrack\" )\n",
    "ax.legend()\n",
    "ax.grid()\n",
    "ax.set_title( f\"positions computed\" )"
   ]
  },
  {
   "cell_type": "code",
   "execution_count": null,
   "metadata": {},
   "outputs": [],
   "source": [
    "fig, ax = plt.subplots(1,1)\n",
    "for a in [\"1\", \"2\", \"3\", \"4\"]:\n",
    "    ax.plot( xyz_dicUsingTrack[a][:,i_x], 'o', label=f\"X antenna {a}, xyz_dicUsingTrack\" )\n",
    "    ax.plot( xyz_dicUsingTrack[a][:,i_y], 'o', label=f\"Y antenna {a}, xyz_dicUsingTrack\" )\n",
    "    ax.plot( xyz_dicUsingTrack[a][:,i_z], 'o', label=f\"Z antenna {a}, xyz_dicUsingTrack\" )\n",
    "ax.legend()\n",
    "ax.grid()\n",
    "ax.set_title( f\"positions computed\" )"
   ]
  },
  {
   "cell_type": "code",
   "execution_count": null,
   "metadata": {},
   "outputs": [],
   "source": [
    "fig, ax = plt.subplots(1,1)\n",
    "ax.plot( ant_pos.Txz, 'o', label=\"antenna 1, ant_pos read positions\" )\n",
    "ax.legend()\n",
    "ax.grid()\n",
    "ax.set_title( f\"positions computed\" )"
   ]
  },
  {
   "cell_type": "code",
   "execution_count": null,
   "metadata": {},
   "outputs": [],
   "source": [
    "path_1 = base_path + \"/Volume_sol_1\"\n",
    "path_2 = base_path + \"/Volume_sol_2\"\n",
    "path_3 = base_path + \"/Volume_sol_3\"\n",
    "\n",
    "ant_pos_S21_1 = gb.readPos( path_1 + \"/track_S21.dat\" )\n",
    "ant_pos_S21_2 = gb.readPos( path_2 + \"/track_S21.dat\" )\n",
    "ant_pos_S21_3 = gb.readPos( path_3 + \"/track_S21.dat\" )\n",
    "\n",
    "z1 = heights[\"1\"]\n",
    "xyz_1 = gb.buildPosUsingTrack( path_1 + \"/track_S\" , Dx1, Dx2, h, z1 )\n",
    "z1 = heights[\"2\"]\n",
    "xyz_2 = gb.buildPosUsingTrack( path_2 + \"/track_S\" , Dx1, Dx2, h, z1 )\n",
    "z1 = heights[\"3\"]\n",
    "xyz_3 = gb.buildPosUsingTrack( path_3 + \"/track_S\" , Dx1, Dx2, h, z1 )"
   ]
  },
  {
   "cell_type": "code",
   "execution_count": null,
   "metadata": {},
   "outputs": [],
   "source": [
    "fig, ax = plt.subplots(1,1)\n",
    "\n",
    "ax.plot( ant_pos_S21_1.Txx, ant_pos_S21_1.Txz, '.', label=\"antenna 1, ant_pos_1\" )\n",
    "ax.plot( ant_pos_S21_2.Txx, ant_pos_S21_2.Txz, '.', label=\"antenna 1, ant_pos_2\" )\n",
    "ax.plot( ant_pos_S21_3.Txx, ant_pos_S21_3.Txz, '.', label=\"antenna 1, ant_pos_3\" )\n",
    "\n",
    "ax.plot( xyz_1[\"1\"][:,i_x], xyz_1[\"1\"][:,i_z], 'x', label=\"antenna 1, xyz_1\" )\n",
    "ax.plot( xyz_2[\"1\"][:,i_x], xyz_2[\"1\"][:,i_z], 'x', label=\"antenna 1, xyz_2\" )\n",
    "ax.plot( xyz_3[\"1\"][:,i_x], xyz_3[\"1\"][:,i_z], 'x', label=\"antenna 1, xyz_3\" )\n",
    "\n",
    "ax.legend()\n",
    "ax.grid()\n",
    "ax.set_title( f\"positions computed\" )"
   ]
  },
  {
   "cell_type": "markdown",
   "metadata": {},
   "source": [
    "# Define geometry"
   ]
  },
  {
   "cell_type": "code",
   "execution_count": null,
   "metadata": {},
   "outputs": [],
   "source": [
    "hScene = -1\n",
    "\n",
    "dx = 0.01\n",
    "dy = 0.01\n",
    "dz = 0.01\n",
    "xMin = -1.5\n",
    "xMax = 1.5\n",
    "yMin = 0\n",
    "yMax = 7\n",
    "zMin = -0.5\n",
    "zMax = 1.5\n",
    "\n",
    "x = np.arange(xMin, xMax+1e-9, dx)\n",
    "y = np.arange(yMin, yMax+1e-9, dy)\n",
    "z = np.arange(zMin, zMax+1e-9, dz)\n",
    "idx0_x = int( np.size(x)/2 )\n",
    "idx0_y = int( np.size(y)/2 )\n",
    "idx0_z = int( np.size(z)/2 )\n",
    "nbX = x.size\n",
    "nbY = y.size\n",
    "nbZ = z.size\n",
    "\n",
    "# lefg right bottom top\n",
    "extent_yz = [yMin, yMax, zMin, zMax]\n",
    "extent_yx = [yMin, yMax, xMin, xMax]"
   ]
  },
  {
   "cell_type": "code",
   "execution_count": null,
   "metadata": {},
   "outputs": [],
   "source": [
    "x.shape, y.shape, z.shape"
   ]
  },
  {
   "cell_type": "code",
   "execution_count": null,
   "metadata": {},
   "outputs": [],
   "source": [
    "print( f\"center of the scene ( {np.mean(x):.2f}, {np.mean(y):.2f}, {np.mean(z):.2f} )\")"
   ]
  },
  {
   "cell_type": "markdown",
   "metadata": {},
   "source": [
    "# Focalization"
   ]
  },
  {
   "cell_type": "code",
   "execution_count": null,
   "metadata": {},
   "outputs": [],
   "source": [
    "lib.reload()"
   ]
  },
  {
   "cell_type": "markdown",
   "metadata": {},
   "source": [
    "## Backprojection"
   ]
  },
  {
   "cell_type": "code",
   "execution_count": null,
   "metadata": {},
   "outputs": [],
   "source": [
    "data_idx = 1\n",
    "path_xxx = base_path + f\"/{prefix}{data_idx}\"\n",
    "ij = \"21\"\n",
    "d_shift = 0.2\n",
    "overSamplingRatio = 10\n",
    "\n",
    "read = gb.readData( path_xxx, f\"S{ij}.dat\" )\n",
    "sr = np.fft.ifftshift( read[i_RD][:,0:read[i_CFG][\"Nf\"]-1], axes=1 )\n",
    "rangeResolution = read[i_CFG][\"delta_sr\"]\n",
    "Naz = sr.shape[0]\n",
    "Nf  = sr.shape[1]\n",
    "\n",
    "Rx, Tx = ij[0], ij[1]\n",
    "z1 = heights[f\"{data_idx}\"]\n",
    "xyz_dic = gb.buildPosUsingTrack( path_xxx + \"/track_S\" , Dx1, Dx2, h, z1, bizona=biz_offset )\n",
    "xyzAntI = xyz_dic[ Rx ]\n",
    "xyzAntJ = xyz_dic[ Tx ]\n",
    "\n",
    "Nover   = overSamplingRatio * Nf\n",
    "r_base  = np.arange( Nf ) * rangeResolution - d_shift\n",
    "r_over  = np.arange( Nover ) * rangeResolution / overSamplingRatio - d_shift\n",
    "dr_over = r_over[1] - r_over[0]\n",
    "\n",
    "print( f\"Nf = {Nf}, Naz = {Naz}\" )\n",
    "print( f\"range from {r_over[0]:.2f}m to {r_over[-1]:.2f}m, \"\n",
    "      + f\"resolution = {rangeResolution:.3e}m, oversampled = {rangeResolution / overSamplingRatio:.3e}m\" )"
   ]
  },
  {
   "cell_type": "code",
   "execution_count": null,
   "metadata": {},
   "outputs": [],
   "source": [
    "myParameters           = MyParametersPoSAR_GB()\n",
    "myParameters.Nx        = nbX\n",
    "myParameters.Ny        = nbY\n",
    "myParameters.Nz        = nbZ\n",
    "myParameters.Nover     = r_over.size\n",
    "myParameters.dx        = dr_over\n",
    "myParameters.Naz       = Naz\n",
    "myParameters.Nf        = Nf\n",
    "myParameters.phi_a_deg = 60 # 20° => 7.4cm\n",
    "myParameters.kc        = read[i_CFG][\"kc\"]"
   ]
  },
  {
   "cell_type": "code",
   "execution_count": null,
   "metadata": {},
   "outputs": [],
   "source": [
    "t = time.time()\n",
    "\n",
    "focusedImg_a  = focusedImg  = np.zeros( (nbX, nbY, nbZ), dtype=complex )\n",
    "print( \"focusedImg_a.shape = {}\".format( focusedImg_a.shape ) )\n",
    "\n",
    "lib.so.backProjectionOmpGroundRange_PoSAR_GB_a( x,\n",
    "                                               y,\n",
    "                                               z,\n",
    "                                               r_over,\n",
    "                                               sr.reshape(sr.size),\n",
    "                                               xyzAntI.reshape(xyzAntI.size),\n",
    "                                               xyzAntJ.reshape(xyzAntJ.size),\n",
    "                                               focusedImg_a.reshape(focusedImg_a.size),\n",
    "                                               myParameters)\n",
    "\n",
    "elapsed = time.time() - t\n",
    "print(\"execution time = \" + str(elapsed))"
   ]
  },
  {
   "cell_type": "markdown",
   "metadata": {},
   "source": [
    "## Plot focused images"
   ]
  },
  {
   "cell_type": "code",
   "execution_count": null,
   "metadata": {},
   "outputs": [],
   "source": [
    "cmap='jet'"
   ]
  },
  {
   "cell_type": "markdown",
   "metadata": {},
   "source": [
    "### focusedImg_a"
   ]
  },
  {
   "cell_type": "markdown",
   "metadata": {},
   "source": [
    "#### yz"
   ]
  },
  {
   "cell_type": "code",
   "execution_count": null,
   "metadata": {},
   "outputs": [],
   "source": [
    "toPlot = 20 * np.log10( np.abs( focusedImg_a[idx0_x,:,:].T ) )\n",
    "\n",
    "fig, ax = plt.subplots(1,1)\n",
    "im = ax.pcolor(y, z, toPlot, cmap=cmap)\n",
    "dia.addColorBar( im, ax, aspect=\"equal\" )"
   ]
  },
  {
   "cell_type": "code",
   "execution_count": null,
   "metadata": {},
   "outputs": [],
   "source": [
    "toPlot = 20 * np.log10( np.abs( focusedImg_a[idx0_x,:,:].T ) )\n",
    "\n",
    "fig, ax = plt.subplots(1,1)\n",
    "im = ax.imshow(toPlot, origin='lower', cmap=cmap, extent=extent_yz)\n",
    "dia.addColorBar( im, ax, aspect=\"equal\" )"
   ]
  },
  {
   "cell_type": "code",
   "execution_count": null,
   "metadata": {},
   "outputs": [],
   "source": [
    "from mpl_toolkits.axes_grid1 import AxesGrid"
   ]
  },
  {
   "cell_type": "code",
   "execution_count": null,
   "metadata": {},
   "outputs": [],
   "source": [
    "fig = plt.figure()\n",
    "grid = AxesGrid(fig, 111,  # similar to subplot(111)\n",
    "                nrows_ncols=(2, 2),\n",
    "                axes_pad=0.0,\n",
    "                share_all=True,\n",
    "                label_mode=\"L\",\n",
    "                cbar_location=\"top\",\n",
    "                cbar_mode=\"single\",\n",
    "               )\n",
    "\n",
    "for i in range(4):\n",
    "    im = grid[i].imshow(toPlot, cmap=cmap, extent = extent_yx)\n",
    "    #plt.colorbar(im, cax = grid.cbar_axes[0])\n",
    "grid.cbar_axes[0].colorbar(im)\n",
    "\n",
    "for cax in grid.cbar_axes:\n",
    "    cax.toggle_label(False)\n"
   ]
  },
  {
   "cell_type": "code",
   "execution_count": null,
   "metadata": {},
   "outputs": [],
   "source": [
    "toPlot = 20 * np.log10( np.abs( focusedImg_a[50,:,:].T ) )\n",
    "\n",
    "fig, ax = plt.subplots(1,1)\n",
    "im = ax.pcolor(y, z, toPlot, cmap=cmap)\n",
    "dia.addColorBar( im, ax, aspect=\"auto\" )"
   ]
  },
  {
   "cell_type": "markdown",
   "metadata": {},
   "source": [
    "#### yx"
   ]
  },
  {
   "cell_type": "code",
   "execution_count": null,
   "metadata": {},
   "outputs": [],
   "source": [
    "toPlot = 20 * np.log10( np.abs( focusedImg_a[:,:,0] ) )\n",
    "\n",
    "fig, ax = plt.subplots(1,1)\n",
    "im = ax.imshow(toPlot, origin='lower', cmap=cmap, extent=extent_yx)\n",
    "dia.addColorBar( im, ax, aspect=\"equal\" )"
   ]
  },
  {
   "cell_type": "code",
   "execution_count": null,
   "metadata": {},
   "outputs": [],
   "source": [
    "opt = disp.OPTt()\n",
    "opt.db = 1\n",
    "opt.med_dyn = 100\n",
    "opt.title = f\"Synthesized image: hRail = {z1}, Rx = {Rx}, Tx = {Tx}\\nground range, dB  d_gr={dy}, d_az={dx}\"\n",
    "disp.disp_PoSAR_img( focusedImg_a[:,:,0], opt, 0, 0, [yMin,yMax,xMax,xMin] ) # left, right, bottom, top = extent\n",
    "ax = plt.gca()\n",
    "ax.invert_xaxis()\n",
    "ax.set_aspect(\"equal\")\n",
    "ax.yaxis.set_ticks_position(\"left\")"
   ]
  },
  {
   "cell_type": "markdown",
   "metadata": {},
   "source": [
    "# Process all"
   ]
  },
  {
   "cell_type": "markdown",
   "metadata": {},
   "source": [
    "## Define geometry"
   ]
  },
  {
   "cell_type": "code",
   "execution_count": null,
   "metadata": {},
   "outputs": [],
   "source": [
    "hScene = -1\n",
    "\n",
    "dx = 0.01\n",
    "dy = 0.01\n",
    "dz = 0.01\n",
    "xMin = -0.1\n",
    "xMax = 0.1\n",
    "yMin = 0\n",
    "yMax = 7\n",
    "zMin = -0.5\n",
    "zMax = 1.5\n",
    "\n",
    "imgGeom = (xMin, xMax, dx, yMin, yMax, dy, zMin, zMax, dz)\n",
    "\n",
    "x = np.arange(xMin, xMax+1e-9, dx)\n",
    "y = np.arange(yMin, yMax+1e-9, dy)\n",
    "z = np.arange(zMin, zMax+1e-9, dz)\n",
    "idx0_x = int( np.size(x)/2 )\n",
    "idx0_y = int( np.size(y)/2 )\n",
    "idx0_z = int( np.size(z)/2 )\n",
    "nbX = x.size\n",
    "nbY = y.size\n",
    "nbZ = z.size\n",
    "\n",
    "# lefg right bottom top\n",
    "extent_yz = [yMin, yMax, zMin, zMax]\n",
    "extent_yx = [yMin, yMax, xMin, xMax]"
   ]
  },
  {
   "cell_type": "code",
   "execution_count": null,
   "metadata": {},
   "outputs": [],
   "source": [
    "myParameters           = MyParametersPoSAR_GB()\n",
    "myParameters.Nx        = nbX\n",
    "myParameters.Ny        = nbY\n",
    "myParameters.Nz        = nbZ\n",
    "myParameters.phi_a_deg = 60 # 10° => 4.3cm"
   ]
  },
  {
   "cell_type": "code",
   "execution_count": null,
   "metadata": {},
   "outputs": [],
   "source": [
    "d_shift = 0.2\n",
    "overSamplingRatio = 10\n",
    "\n",
    "img_h = {}\n",
    "\n",
    "print( f\"focusedImg.shape = ({nbX}, {nbY}, {nbZ})\")\n",
    "\n",
    "for data_idx in range(1, 12+1):\n",
    "    \n",
    "    path_xxx = base_path + f\"/{prefix}{data_idx}\"\n",
    "    z1 = heights[f\"{data_idx}\"]\n",
    "    xyz_dic = gb.buildPosUsingTrack( path_xxx + \"/track_S\" , Dx1, Dx2, h, z1, verbose=1, bizona=biz_offset )\n",
    "    print( f\"z1 = {z1}\" )\n",
    "    \n",
    "    img_ij = {}\n",
    "    \n",
    "    for ij in RxTx:\n",
    "\n",
    "        Rx, Tx = ij[0], ij[1]\n",
    "        xyzRx = xyz_dic[ Rx ]\n",
    "        xyzTx = xyz_dic[ Tx ]\n",
    "        hAver = ( xyzRx[0,i_z] + xyzTx[0,i_z] ) / 2\n",
    "    \n",
    "        read = gb.readData( path_xxx, f\"S{ij}.dat\" )\n",
    "        \n",
    "        sr = np.fft.fftshift( read[i_RD][:,0:read[i_CFG][\"Nf\"]-1], axes=1 )\n",
    "        rangeResolution = read[i_CFG][\"delta_sr\"]\n",
    "        Naz = sr.shape[0]\n",
    "        Nf  = sr.shape[1]\n",
    "    \n",
    "        Nover   = overSamplingRatio * Nf\n",
    "        r_base  = np.arange( Nf ) * rangeResolution - d_shift\n",
    "        r_over  = np.arange( Nover ) * rangeResolution / overSamplingRatio - d_shift\n",
    "        dr_over = r_over[1] - r_over[0]\n",
    "    \n",
    "        myParameters.Nover     = r_over.size\n",
    "        myParameters.dx        = dr_over\n",
    "        myParameters.Naz       = Naz\n",
    "        myParameters.Nf        = Nf\n",
    "        myParameters.kc        = read[i_CFG][\"kc\"]\n",
    "    \n",
    "        t = time.time()\n",
    "    \n",
    "        focusedImg  = np.zeros( (nbX, nbY, nbZ), dtype=complex )\n",
    "        \n",
    "        lib.so.backProjectionOmpGroundRange_PoSAR_GB_a( x,\n",
    "                                                       y,\n",
    "                                                       z,\n",
    "                                                       r_over,\n",
    "                                                       sr.reshape(sr.size),\n",
    "                                                       xyzRx.reshape(xyzRx.size),\n",
    "                                                       xyzTx.reshape(xyzTx.size),\n",
    "                                                       focusedImg.reshape(focusedImg.size),\n",
    "                                                       myParameters)\n",
    "\n",
    "        elapsed = time.time() - t\n",
    "        print( f\"hAver = {hAver:.3f}, (Rx,Tx) = ({Rx},{Tx}), execution time = {elapsed:.1f}\")\n",
    "        img_ij[ij] = focusedImg\n",
    "    img_h[z1] = img_ij"
   ]
  },
  {
   "cell_type": "code",
   "execution_count": null,
   "metadata": {},
   "outputs": [],
   "source": [
    "for idx in heights:\n",
    "    hRef = heights[idx]\n",
    "    print(hRef)\n",
    "    with open(base_path + f\"/{date}_hRef{hRef:.3f}_x{xMin:.3f}_{xMax:.3f}.dat\", 'wb') as file:\n",
    "        pk.dump((imgGeom, img_h[hRef]), file)"
   ]
  },
  {
   "cell_type": "code",
   "execution_count": null,
   "metadata": {},
   "outputs": [],
   "source": [
    "np.save(base_path + f\"/{date}_h{z1}_{ij}\", focusedImg.reshape(nbY,nbX))"
   ]
  },
  {
   "cell_type": "code",
   "execution_count": null,
   "metadata": {},
   "outputs": [],
   "source": [
    "focusedImg.reshape(nbY,nbX).shape"
   ]
  },
  {
   "cell_type": "code",
   "execution_count": null,
   "metadata": {},
   "outputs": [],
   "source": [
    "fig, ax = plt.subplots(1,1)\n",
    "ax.plot( xyzRx[:, i_x], label=f\"x Rx {Rx}\" )\n",
    "ax.plot( xyzRx[:, i_y], label=f\"y Rx {Rx}\" )\n",
    "ax.plot( xyzRx[:, i_z], label=f\"z Rx {Rx}\" )\n",
    "ax.plot( xyzTx[:, i_x], 'x', label=f\"x Tx {Tx}\" )\n",
    "ax.plot( xyzTx[:, i_y], 'x', label=f\"y Tx {Tx}\" )\n",
    "ax.plot( xyzTx[:, i_z], 'x', label=f\"z Tx {Tx}\" )\n",
    "ax.legend()\n",
    "ax.grid()"
   ]
  },
  {
   "cell_type": "code",
   "execution_count": null,
   "metadata": {},
   "outputs": [],
   "source": [
    "(2*Dx2+Dx1)/2-1.5"
   ]
  },
  {
   "cell_type": "markdown",
   "metadata": {},
   "source": [
    "## Plot"
   ]
  },
  {
   "cell_type": "code",
   "execution_count": null,
   "metadata": {},
   "outputs": [],
   "source": [
    "opt = disp.OPTt()\n",
    "opt.db = 1\n",
    "opt.med_dyn = 100"
   ]
  },
  {
   "cell_type": "markdown",
   "metadata": {},
   "source": [
    "## yz"
   ]
  },
  {
   "cell_type": "code",
   "execution_count": null,
   "metadata": {},
   "outputs": [],
   "source": [
    "height = 3.5\n",
    "Rx = \"2\"\n",
    "Tx = \"1\"\n",
    "toPlot = 20 * np.log10( np.abs( img_h[height][f\"{Rx}{Tx}\"][idx0_x,:,:] ) )\n",
    "\n",
    "opt.title = f\"Synthesized image: {height}, Rx = {Rx}, Tx = {Tx}\\nground range, dB  d_gr={dy}, d_az={dx}\"\n",
    "disp.disp_PoSAR_img( toPlot, opt, 0, 0, [yMin,yMax,zMin,zMax] ) # left, right, bottom, top = extent\n",
    "ax = plt.gca()\n",
    "ax.invert_xaxis()\n",
    "ax.set_aspect(\"auto\")\n",
    "ax.yaxis.set_ticks_position(\"left\")"
   ]
  },
  {
   "cell_type": "code",
   "execution_count": null,
   "metadata": {},
   "outputs": [],
   "source": [
    "height = 3.5\n",
    "Rx = \"2\"\n",
    "Tx = \"1\"\n",
    "toPlot = 20 * np.log10( np.abs( img_h[height][f\"{Rx}{Tx}\"][idx0_x,:,:] ) ).T\n",
    "\n",
    "fig, ax = plt.subplots(1,1)\n",
    "im = ax.pcolor(y, z, toPlot, cmap='jet')\n",
    "dia.addColorBar( im, ax, aspect=\"equal\" )"
   ]
  },
  {
   "cell_type": "markdown",
   "metadata": {},
   "source": [
    "## yx"
   ]
  },
  {
   "cell_type": "code",
   "execution_count": null,
   "metadata": {},
   "outputs": [],
   "source": [
    "height = heights['1']\n",
    "Rx = \"4\"\n",
    "Tx = \"3\""
   ]
  },
  {
   "cell_type": "code",
   "execution_count": null,
   "metadata": {},
   "outputs": [],
   "source": [
    "toPlot = img_h[height][f\"{Rx}{Tx}\"][:,:,idx0_z]\n",
    "\n",
    "opt.title = f\"{date}, h = {height}, Rx = {Rx}, Tx = {Tx}\\nground range, dB  d_gr={dy}, d_az={dx}\"\n",
    "disp.disp_PoSAR_img( toPlot, opt, 0, 0, [yMin,yMax,xMax,xMin] ) # left, right, bottom, top = extent\n",
    "ax = plt.gca()\n",
    "ax.invert_xaxis()\n",
    "ax.set_aspect(\"equal\")\n",
    "ax.xaxis.set_ticks_position(\"bottom\")\n",
    "ax.yaxis.set_ticks_position(\"left\")\n",
    "ax.grid()\n",
    "plt.title( opt.title )"
   ]
  },
  {
   "cell_type": "code",
   "execution_count": null,
   "metadata": {},
   "outputs": [],
   "source": [
    "toPlot = 20 * np.log10( np.abs( img_h[height][f\"{Rx}{Tx}\"][:,:,idx0_z] ) )\n",
    "\n",
    "fig, ax = plt.subplots(1,1)\n",
    "im = ax.pcolormesh(y, x, toPlot, cmap='jet')\n",
    "dia.addColorBar( im, ax, aspect=\"equal\" )\n",
    "ax.invert_yaxis()\n",
    "title = f\"{date}, h = {height}, Rx = {Rx}, Tx = {Tx}\\nground range, dB  d_gr={dy}, d_az={dx}\"\n",
    "ax.set_title(title)"
   ]
  },
  {
   "cell_type": "code",
   "execution_count": null,
   "metadata": {},
   "outputs": [],
   "source": [
    "fig, ((ax0,ax1),(ax2,ax3)) = plt.subplots(2,2)\n",
    "\n",
    "IJ = \"41\"\n",
    "toPlot = 20 * np.log10( np.abs( img_h[height][IJ][:,:,idx0_z] ) )\n",
    "im = ax0.pcolormesh(y, x, toPlot, cmap='jet')\n",
    "dia.addColorBar( im, ax0, aspect=\"equal\" )\n",
    "ax0.set_title(IJ)\n",
    "\n",
    "IJ = \"43\"\n",
    "toPlot = 20 * np.log10( np.abs( img_h[height][IJ][:,:,idx0_z] ) )\n",
    "im = ax1.pcolormesh(y, x, toPlot, cmap='jet')\n",
    "dia.addColorBar( im, ax1, aspect=\"equal\" )\n",
    "ax1.set_title(IJ)\n",
    "\n",
    "IJ = \"43\"\n",
    "toPlot = 20 * np.log10( np.abs( img_h[height][IJ][:,:,idx0_z] ) )\n",
    "im = ax2.pcolormesh(y, x, toPlot, cmap='jet')\n",
    "dia.addColorBar( im, ax2, aspect=\"equal\" )\n",
    "ax2.set_title(IJ)\n",
    "\n",
    "IJ = \"21\"\n",
    "toPlot = 20 * np.log10( np.abs( img_h[height][IJ][:,:,idx0_z] ) )\n",
    "im = ax3.pcolormesh(y, x, toPlot, cmap='jet')\n",
    "dia.addColorBar( im, ax3, aspect=\"equal\" )\n",
    "ax3.set_title(IJ)\n",
    "\n",
    "title = f\"{date}, h = {height}\\nground range, dB  d_gr={dy}, d_az={dx}\"\n",
    "fig.suptitle(title)"
   ]
  },
  {
   "cell_type": "markdown",
   "metadata": {},
   "source": [
    "## Sum"
   ]
  },
  {
   "cell_type": "code",
   "execution_count": null,
   "metadata": {},
   "outputs": [],
   "source": [
    "imgSum = np.zeros(img_h[\"171cm\"][\"21\"][x0,:,:].shape, dtype=complex)\n",
    "imgSumC = np.zeros(img_h[\"171cm\"][\"21\"][x0,:,:].shape, dtype=complex)\n",
    "amp = np.zeros(img_h[\"171cm\"][\"21\"][x0,:,:].shape, dtype=complex)\n",
    "idxx = x0\n",
    "\n",
    "for height in heights:\n",
    "    for ij in RxTx:\n",
    "        imgSum +=         img_h[height][ij][idxx,:,:]\n",
    "        amp    += np.abs( img_h[height][ij][idxx,:,:] )"
   ]
  },
  {
   "cell_type": "code",
   "execution_count": null,
   "metadata": {},
   "outputs": [],
   "source": [
    "#imgSum /= amp\n",
    "#toPlot = 20 * np.log10( np.abs( imgSum.T) )\n",
    "toPlot = np.abs( imgSum.T)\n",
    "\n",
    "fig, ax = plt.subplots(1,1)\n",
    "im = ax.pcolor(y, z, toPlot, cmap='jet')\n",
    "dia.addColorBar( im, ax, aspect=\"equal\" )"
   ]
  },
  {
   "cell_type": "markdown",
   "metadata": {},
   "source": [
    "### Monostatic"
   ]
  },
  {
   "cell_type": "code",
   "execution_count": null,
   "metadata": {},
   "outputs": [],
   "source": [
    "imgSum  = np.zeros( (nbY, nbZ), dtype=complex)\n",
    "imgSumC = np.zeros( (nbY, nbZ), dtype=complex)\n",
    "amp     = np.zeros( (nbY, nbZ), dtype=complex)\n",
    "idxx = idx0_x\n",
    "\n",
    "for height in heights:\n",
    "    for ij in [\"21\", \"31\", \"32\"]:\n",
    "        z3 = heights[height]\n",
    "        imgSum +=         img_h[z3][ij][idxx,:,:]\n",
    "        amp    += np.abs( img_h[z3][ij][idxx,:,:] )"
   ]
  },
  {
   "cell_type": "code",
   "execution_count": null,
   "metadata": {},
   "outputs": [],
   "source": [
    "imgSumNorm = imgSum / amp\n",
    "toPlot = np.abs( imgSumNorm.T)\n",
    "\n",
    "fig, ax = plt.subplots(1,1)\n",
    "im = ax.pcolormesh(y, z, toPlot, cmap='jet')\n",
    "dia.addColorBar( im, ax, aspect=\"equal\" )"
   ]
  },
  {
   "cell_type": "markdown",
   "metadata": {},
   "source": [
    "### Bistatic"
   ]
  },
  {
   "cell_type": "code",
   "execution_count": null,
   "metadata": {},
   "outputs": [],
   "source": [
    "biz_imgSum  = np.zeros( (nbY, nbZ), dtype=complex)\n",
    "biz_imgSumC = np.zeros( (nbY, nbZ), dtype=complex)\n",
    "biz_amp     = np.zeros( (nbY, nbZ), dtype=complex)\n",
    "idxx = idx0_x\n",
    "\n",
    "for height in heights:\n",
    "    for ij in [\"41\", \"42\", \"43\"]:\n",
    "        z3 = heights[height]\n",
    "        if z3 != 3.5:\n",
    "            if ij != \"41\":\n",
    "                biz_imgSum +=         img_h[z3][ij][idxx,:,:]\n",
    "                biz_amp    += np.abs( img_h[z3][ij][idxx,:,:] )\n",
    "        else:\n",
    "            biz_imgSum +=         img_h[z3][ij][idxx,:,:]\n",
    "            biz_amp    += np.abs( img_h[z3][ij][idxx,:,:] )"
   ]
  },
  {
   "cell_type": "code",
   "execution_count": null,
   "metadata": {},
   "outputs": [],
   "source": [
    "biz_imgSumNorm = biz_imgSum / biz_amp\n",
    "toPlot = np.abs( biz_imgSumNorm.T)\n",
    "\n",
    "fig, ax = plt.subplots(1,1)\n",
    "im = ax.pcolormesh(y, z, toPlot, cmap='jet')\n",
    "dia.addColorBar( im, ax, aspect=\"equal\" )"
   ]
  }
 ],
 "metadata": {
  "kernelspec": {
   "display_name": "Python 3",
   "language": "python",
   "name": "python3"
  },
  "language_info": {
   "codemirror_mode": {
    "name": "ipython",
    "version": 3
   },
   "file_extension": ".py",
   "mimetype": "text/x-python",
   "name": "python",
   "nbconvert_exporter": "python",
   "pygments_lexer": "ipython3",
   "version": "3.7.1"
  },
  "toc": {
   "base_numbering": 1,
   "nav_menu": {},
   "number_sections": true,
   "sideBar": true,
   "skip_h1_title": false,
   "title_cell": "Table of Contents",
   "title_sidebar": "Contents",
   "toc_cell": false,
   "toc_position": {
    "height": "calc(100% - 180px)",
    "left": "10px",
    "top": "150px",
    "width": "290.4px"
   },
   "toc_section_display": true,
   "toc_window_display": true
  },
  "varInspector": {
   "cols": {
    "lenName": 16,
    "lenType": 16,
    "lenVar": 40
   },
   "kernels_config": {
    "python": {
     "delete_cmd_postfix": "",
     "delete_cmd_prefix": "del ",
     "library": "var_list.py",
     "varRefreshCmd": "print(var_dic_list())"
    },
    "r": {
     "delete_cmd_postfix": ") ",
     "delete_cmd_prefix": "rm(",
     "library": "var_list.r",
     "varRefreshCmd": "cat(var_dic_list()) "
    }
   },
   "oldHeight": 122.85,
   "position": {
    "height": "371.85px",
    "left": "1298px",
    "right": "53px",
    "top": "190px",
    "width": "366px"
   },
   "types_to_exclude": [
    "module",
    "function",
    "builtin_function_or_method",
    "instance",
    "_Feature"
   ],
   "varInspector_section_display": "block",
   "window_display": false
  }
 },
 "nbformat": 4,
 "nbformat_minor": 2
}
