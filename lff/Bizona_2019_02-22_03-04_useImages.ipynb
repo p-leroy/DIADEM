{
 "cells": [
  {
   "cell_type": "code",
   "execution_count": 1,
   "metadata": {},
   "outputs": [],
   "source": [
    "import numpy as np\n",
    "import matplotlib.pyplot as plt"
   ]
  },
  {
   "cell_type": "code",
   "execution_count": 2,
   "metadata": {},
   "outputs": [],
   "source": [
    "%matplotlib qt5"
   ]
  },
  {
   "cell_type": "code",
   "execution_count": 3,
   "metadata": {},
   "outputs": [],
   "source": [
    "from mpl_toolkits.axes_grid1 import AxesGrid\n",
    "from mpl_toolkits.axes_grid1 import make_axes_locatable\n",
    "from matplotlib.ticker import MaxNLocator"
   ]
  },
  {
   "cell_type": "code",
   "execution_count": 4,
   "metadata": {},
   "outputs": [],
   "source": [
    "import pickle as pk"
   ]
  },
  {
   "cell_type": "code",
   "execution_count": 5,
   "metadata": {},
   "outputs": [],
   "source": [
    "%load_ext autoreload\n",
    "%autoreload 2"
   ]
  },
  {
   "cell_type": "markdown",
   "metadata": {},
   "source": [
    "# Custom tools"
   ]
  },
  {
   "cell_type": "code",
   "execution_count": 6,
   "metadata": {},
   "outputs": [],
   "source": [
    "import sys"
   ]
  },
  {
   "cell_type": "code",
   "execution_count": 7,
   "metadata": {},
   "outputs": [],
   "source": [
    "sys.path.insert(0, \"/home/pleroy/DEV/DIADEM\")\n",
    "import toolsdiadem.tools as dia\n",
    "import toolsdiadem.posargb as gb\n",
    "sys.path.insert(0, \"/home/pleroy/DEV/processing/focalization_python\")\n",
    "from posarutils.process.filtering import box_filter\n",
    "from posarutils.process.filtering import filter2"
   ]
  },
  {
   "cell_type": "code",
   "execution_count": 8,
   "metadata": {},
   "outputs": [],
   "source": [
    "day0 = \"2019_02_22\"\n",
    "dir0 = f\"/home/pleroy/DATA/DIADEM/lff/Bizona_{day0}/Raw_data\" \n",
    "pre0 = \"Volume_sol\"\n",
    "nbDir0 = 12\n",
    "\n",
    "day1 = \"2019_03_04\"\n",
    "dir1 = \"/home/pleroy/DATA/DIADEM/lff/Bizona/\" + day1\n",
    "pre1 = \"sand_trunk_vol\"\n",
    "nbDir1 = 11\n",
    "\n",
    "RxTx = [\"21\", \"31\", \"32\", \"41\", \"42\", \"43\"]"
   ]
  },
  {
   "cell_type": "markdown",
   "metadata": {},
   "source": [
    "# Load images"
   ]
  },
  {
   "cell_type": "code",
   "execution_count": 9,
   "metadata": {},
   "outputs": [],
   "source": [
    "def getMinMaxdB(img):\n",
    "    mindB = np.amin( 20 * np.log10( np.abs( img ) ) )\n",
    "    maxdB = np.amax( 20 * np.log10( np.abs( img ) ) )\n",
    "    return mindB, maxdB"
   ]
  },
  {
   "cell_type": "code",
   "execution_count": 10,
   "metadata": {},
   "outputs": [],
   "source": [
    "filename = dir0 + f\"/{day0}_3D_mono.dat\"\n",
    "with open(filename, 'rb') as file:\n",
    "    (geomMono0, imgMono0) = pk.load( file )\n",
    "    \n",
    "filename = dir0 + f\"/{day0}_3D_bi.dat\"\n",
    "with open(filename, 'rb') as file:\n",
    "    (geomBi0, imgBi0) = pk.load( file )\n",
    "\n",
    "filename = dir1 + f\"/{day1}_3D_mono.dat\"\n",
    "with open(filename, 'rb') as file:\n",
    "    (geomMono1, imgMono1) = pk.load( file )\n",
    "\n",
    "filename = dir1 + f\"/{day1}_3D_bi.dat\"\n",
    "with open(filename, 'rb') as file:\n",
    "    (geomBi1, imgBi1) = pk.load( file )"
   ]
  },
  {
   "cell_type": "code",
   "execution_count": 11,
   "metadata": {},
   "outputs": [
    {
     "name": "stderr",
     "output_type": "stream",
     "text": [
      "/home/pleroy/anaconda3/lib/python3.7/site-packages/ipykernel_launcher.py:2: RuntimeWarning: divide by zero encountered in log10\n",
      "  \n",
      "/home/pleroy/anaconda3/lib/python3.7/site-packages/ipykernel_launcher.py:3: RuntimeWarning: divide by zero encountered in log10\n",
      "  This is separate from the ipykernel package so we can avoid doing imports until\n"
     ]
    }
   ],
   "source": [
    "minMono0, maxMono0 = getMinMaxdB( imgMono0 )\n",
    "minMono1, maxMono1 = getMinMaxdB( imgMono1 )\n",
    "minBi0, maxBi0     = getMinMaxdB( imgBi0 )\n",
    "minBi1, maxBi1     = getMinMaxdB( imgBi1 )"
   ]
  },
  {
   "cell_type": "code",
   "execution_count": 12,
   "metadata": {},
   "outputs": [
    {
     "name": "stdout",
     "output_type": "stream",
     "text": [
      "Mono0 -112.5 32.3\n",
      "Mono1 -95.4 48.1\n",
      "Bi0 -inf 56.3\n",
      "Bi1 -inf 68.3\n"
     ]
    }
   ],
   "source": [
    "print( f\"Mono0 {minMono0:.1f} {maxMono0:.1f}\\nMono1 {minMono1:.1f} {maxMono1:.1f}\\n\"\n",
    "      + f\"Bi0 {minBi0:.1f} {maxBi0:.1f}\\nBi1 {minBi1:.1f} {maxBi1:.1f}\" )"
   ]
  },
  {
   "cell_type": "code",
   "execution_count": 13,
   "metadata": {},
   "outputs": [
    {
     "data": {
      "text/plain": [
       "((-1.5, 1.5, 0.01, 0, 7, 0.01, -0.5, 1.5, 0.01),\n",
       " (-1.5, 1.5, 0.01, 0, 7, 0.01, -0.5, 1.5, 0.01),\n",
       " (-1.5, 1.5, 0.01, 0, 7, 0.01, -0.5, 1.5, 0.01),\n",
       " (-1.5, 1.5, 0.01, 0, 7, 0.01, -0.5, 1.5, 0.01))"
      ]
     },
     "execution_count": 13,
     "metadata": {},
     "output_type": "execute_result"
    }
   ],
   "source": [
    "geomBi0, geomBi1, geomMono0, geomMono1"
   ]
  },
  {
   "cell_type": "code",
   "execution_count": 14,
   "metadata": {},
   "outputs": [],
   "source": [
    "(xMin, xMax, dx, yMin, yMax, dy, zMin, zMax, dz) = geomBi0\n",
    "nbX = int( (xMax-xMin) / dx ) + 1\n",
    "nbY = int( (yMax-yMin) / dy ) + 1\n",
    "nbZ = int( (zMax-zMin) / dz ) + 1\n",
    "extent_yx = [yMin, yMax, xMin, xMax]\n",
    "extent_yz = [yMin, yMax, zMin, zMax]\n",
    "extent_xz = [xMin, xMax, zMin, zMax]\n",
    "x = np.arange(xMin,xMax+1e-9,dx)\n",
    "y = np.arange(yMin,yMax+1e-9,dy)\n",
    "z = np.arange(zMin,zMax+1e-9,dz)"
   ]
  },
  {
   "cell_type": "markdown",
   "metadata": {},
   "source": [
    "# zCut"
   ]
  },
  {
   "cell_type": "code",
   "execution_count": 15,
   "metadata": {},
   "outputs": [],
   "source": [
    "def plotMosaicComparison(mono0, mono1, bi0, bi1, vmin, vmax, extent, origin='upper'):\n",
    "\n",
    "    fig = plt.figure()\n",
    "    grid = AxesGrid(fig, 111,  # similar to subplot(111)\n",
    "                    nrows_ncols=(2, 2),\n",
    "                    axes_pad=0.0,\n",
    "                    share_all=True,\n",
    "                    label_mode=\"all\",\n",
    "                    cbar_location=\"top\",\n",
    "                    cbar_mode=\"single\",\n",
    "                    )\n",
    "\n",
    "    toPlot = 20 * np.log10( np.abs( np.squeeze( mono0 ) ) )\n",
    "    im = grid[0].imshow(toPlot, cmap='jet', extent=extent, origin=origin, vmin=vmin, vmax=vmax)\n",
    "    grid[0].set_ylabel(\"monostatic\")\n",
    "\n",
    "    toPlot = 20 * np.log10( np.abs( np.squeeze( mono1 ) ) )\n",
    "    im = grid[1].imshow(toPlot, cmap='jet', extent=extent, origin=origin, vmin=vmin, vmax=vmax)\n",
    "    grid[1].set_ylabel(\"monostatic\")\n",
    "    grid[1].yaxis.set_ticks_position('right')\n",
    "    grid[1].yaxis.set_label_position('right')\n",
    "\n",
    "    toPlot = 20 * np.log10( np.abs( np.squeeze( bi0 ) ) )\n",
    "    im = grid[2].imshow(toPlot, cmap='jet', extent=extent, origin=origin, vmin=vmin, vmax=vmax)\n",
    "    grid[2].set_ylabel(\"bistatic\")\n",
    "\n",
    "    toPlot = 20 * np.log10( np.abs( np.squeeze( bi1 ) ) )\n",
    "    im = grid[3].imshow(toPlot, cmap='jet', extent=extent, origin=origin, vmin=vmin, vmax=vmax)\n",
    "    grid[3].set_ylabel(\"bistatic\")\n",
    "    grid[3].yaxis.set_ticks_position('right')\n",
    "    grid[3].yaxis.set_label_position('right')\n",
    "\n",
    "    grid.cbar_axes[0].colorbar(im)\n",
    "\n",
    "    for ax in grid:\n",
    "            ax.xaxis.set_major_locator(MaxNLocator(prune='upper', integer=True))\n",
    "            ax.yaxis.set_major_locator(MaxNLocator(prune='upper', integer=True))\n",
    "            \n",
    "    return fig, grid"
   ]
  },
  {
   "cell_type": "code",
   "execution_count": 84,
   "metadata": {},
   "outputs": [],
   "source": [
    "zCut   = -0.03\n",
    "iz0 = np.where((z<zCut+dz) & (z>=zCut))[0]"
   ]
  },
  {
   "cell_type": "code",
   "execution_count": 85,
   "metadata": {},
   "outputs": [
    {
     "data": {
      "text/plain": [
       "Text(0.5, 1.0, '2019_03_04 sand_trunk_vol\\ncut at z=-0.03')"
      ]
     },
     "execution_count": 85,
     "metadata": {},
     "output_type": "execute_result"
    }
   ],
   "source": [
    "fig, ax = plt.subplots(1,1)\n",
    "toPlot = 10 * np.log10( np.abs( np.squeeze(imgMono1[:,:,iz0]) ) )\n",
    "im = ax.imshow(toPlot, origin='lower', cmap='jet', extent=extent_yx)\n",
    "dia.addColorBar( im, ax, aspect=\"equal\" )\n",
    "ax.invert_yaxis()\n",
    "ax.set_xlim( 1, 6 )\n",
    "#im.set_clim(-30,20)\n",
    "title = f\"{day1} {pre1}\\ncut at z={zCut:.2f}\"\n",
    "ax.set_title(title)"
   ]
  },
  {
   "cell_type": "code",
   "execution_count": 90,
   "metadata": {},
   "outputs": [
    {
     "data": {
      "text/plain": [
       "1.4832396974191326"
      ]
     },
     "execution_count": 90,
     "metadata": {},
     "output_type": "execute_result"
    }
   ],
   "source": [
    "2.2**0.5"
   ]
  },
  {
   "cell_type": "code",
   "execution_count": 73,
   "metadata": {},
   "outputs": [],
   "source": [
    "fig, ax = plt.subplots(1,1)\n",
    "toPlot = 10 * np.log10( np.abs( np.squeeze(imgMono0[:,:,iz0]) ) )\n",
    "im = ax.imshow(toPlot, origin='lower', cmap='jet', extent=extent_yx)\n",
    "dia.addColorBar( im, ax, aspect=\"equal\" )\n",
    "ax.invert_yaxis()\n",
    "ax.set_xlim( 1, 6 )\n",
    "im.set_clim(-30,15)"
   ]
  },
  {
   "cell_type": "code",
   "execution_count": 59,
   "metadata": {},
   "outputs": [],
   "source": [
    "fig, ax = plt.subplots(1,1)\n",
    "toPlot = 10 * np.log10( np.abs( np.squeeze(imgBi0[:,:,iz0]) ) )\n",
    "im = ax.imshow(toPlot, origin='lower', cmap='jet', extent=extent_yx)\n",
    "dia.addColorBar( im, ax, aspect=\"equal\" )"
   ]
  },
  {
   "cell_type": "code",
   "execution_count": null,
   "metadata": {},
   "outputs": [],
   "source": [
    "fig, ax = plt.subplots(1,1)\n",
    "toPlot = 10 * np.log10( np.abs( np.squeeze(imgBi1[:,:,iz0]) ) )\n",
    "im = ax.imshow(toPlot, origin='lower', cmap='jet', extent=extent_yx)\n",
    "dia.addColorBar( im, ax, aspect=\"equal\" )"
   ]
  },
  {
   "cell_type": "code",
   "execution_count": null,
   "metadata": {},
   "outputs": [],
   "source": [
    "vmin=-20\n",
    "vmax=50\n",
    "fig, grid = plotMosaicComparison( imgMono0[:,:,iz0], imgMono1[:,:,iz0], imgBi0[:,:,iz0], imgBi1[:,:,iz0],\n",
    "                                 vmin, vmax, extent_yx, origin='lower' )\n",
    "title = f\"{day0} {pre0}\\n{day1} {pre1}\\ncut at z={zCut:.2f}\"\n",
    "fig.suptitle(title)"
   ]
  },
  {
   "cell_type": "markdown",
   "metadata": {},
   "source": [
    "# xCut"
   ]
  },
  {
   "cell_type": "code",
   "execution_count": 21,
   "metadata": {},
   "outputs": [],
   "source": [
    "xCut = -0.3\n",
    "ix0 = np.where((x<xCut+dx) & (x>=xCut))[0]"
   ]
  },
  {
   "cell_type": "code",
   "execution_count": 22,
   "metadata": {},
   "outputs": [
    {
     "data": {
      "text/plain": [
       "Text(0.5, 0.98, '2019_02_22 Volume_sol\\n2019_03_04 sand_trunk_vol\\ncut at x=-0.30')"
      ]
     },
     "execution_count": 22,
     "metadata": {},
     "output_type": "execute_result"
    }
   ],
   "source": [
    "vmin=-20\n",
    "vmax=50\n",
    "fig, grid = plotMosaicComparison( imgMono0[ix0,:,:].T, imgMono1[ix0,:,:].T, imgBi0[ix0,:,:].T, imgBi1[ix0,:,:].T,\n",
    "                                 vmin, vmax, extent_yz, origin='lower' )\n",
    "title = f\"{day0} {pre0}\\n{day1} {pre1}\\ncut at x={xCut:.2f}\"\n",
    "fig.suptitle(title)"
   ]
  },
  {
   "cell_type": "markdown",
   "metadata": {},
   "source": [
    "# yCut"
   ]
  },
  {
   "cell_type": "code",
   "execution_count": null,
   "metadata": {},
   "outputs": [],
   "source": [
    "yCut = 3.5\n",
    "iy0 = np.where((y<xCut+dy) & (y>=yCut))[0]"
   ]
  },
  {
   "cell_type": "code",
   "execution_count": null,
   "metadata": {},
   "outputs": [],
   "source": [
    "vmin=-20\n",
    "vmax=50\n",
    "fig, grid = plotMosaicComparison( imgMono0[:,iy0,:].T, imgMono1[:,iy0,:].T, imgBi0[:,iy0,:].T, imgBi1[:,iy0,:].T,\n",
    "                                 vmin, vmax, extent_yz, origin='lower' )\n",
    "title = f\"{day0} {pre0}\\n{day1} {pre1}\\ncut at x={xCut:.2f}\"\n",
    "fig.suptitle(title)"
   ]
  },
  {
   "cell_type": "markdown",
   "metadata": {},
   "source": [
    "# incoherent sum"
   ]
  },
  {
   "cell_type": "markdown",
   "metadata": {},
   "source": [
    "## monostatic"
   ]
  },
  {
   "cell_type": "markdown",
   "metadata": {},
   "source": [
    "### along z"
   ]
  },
  {
   "cell_type": "code",
   "execution_count": 38,
   "metadata": {},
   "outputs": [
    {
     "data": {
      "text/plain": [
       "(0, 200)"
      ]
     },
     "execution_count": 38,
     "metadata": {},
     "output_type": "execute_result"
    }
   ],
   "source": [
    "zCutStart = -0.5\n",
    "zCutStop = 1.5\n",
    "izStart = np.where( (z<zCutStart+dz) & (z>=zCutStart) )[0][0]\n",
    "izStop  = np.where( (z<zCutStop+dz)  & (z>=zCutStop) )[0][0]\n",
    "izStart, izStop"
   ]
  },
  {
   "cell_type": "code",
   "execution_count": 39,
   "metadata": {},
   "outputs": [],
   "source": [
    "toSum = np.abs( imgMono1 )**2\n",
    "imgSum = np.sum( toSum, axis=2 )"
   ]
  },
  {
   "cell_type": "code",
   "execution_count": 42,
   "metadata": {},
   "outputs": [
    {
     "data": {
      "text/plain": [
       "(1, 6)"
      ]
     },
     "execution_count": 42,
     "metadata": {},
     "output_type": "execute_result"
    }
   ],
   "source": [
    "toPlot = 10 * np.log10( imgSum )\n",
    "fig, ax = plt.subplots(1,1)\n",
    "im = ax.imshow(toPlot, cmap='jet', origin='lower', extent=extent_yx )\n",
    "dia.addColorBar( im, ax, aspect=\"equal\" )\n",
    "title = f\"{day0} {pre0}\\nmonostatic sum images\"\n",
    "ax.set_title(title)\n",
    "ax.invert_yaxis()\n",
    "ax.set_xlim( 1, 6 )"
   ]
  },
  {
   "cell_type": "markdown",
   "metadata": {},
   "source": [
    "### along x"
   ]
  },
  {
   "cell_type": "code",
   "execution_count": 43,
   "metadata": {},
   "outputs": [
    {
     "data": {
      "text/plain": [
       "(0, 300)"
      ]
     },
     "execution_count": 43,
     "metadata": {},
     "output_type": "execute_result"
    }
   ],
   "source": [
    "xCutStart = -1.5\n",
    "xCutStop = 1.5\n",
    "ixStart = np.where( (x<xCutStart+dx) & (x>=xCutStart) )[0][0]\n",
    "ixStop  = np.where( (x<xCutStop+dx)  & (x>=xCutStop) )[0][0]\n",
    "ixStart, ixStop"
   ]
  },
  {
   "cell_type": "code",
   "execution_count": 44,
   "metadata": {},
   "outputs": [],
   "source": [
    "toSum = np.abs( imgMono0[ixStart:ixStop, :, :] )**2\n",
    "monoSum0 = np.sum( toSum, axis=0 )\n",
    "toSum = np.abs( imgMono1[ixStart:ixStop, :, :] )**2\n",
    "monoSum1 = np.sum( toSum, axis=0 )"
   ]
  },
  {
   "cell_type": "code",
   "execution_count": 50,
   "metadata": {},
   "outputs": [
    {
     "data": {
      "text/plain": [
       "(1, 6)"
      ]
     },
     "execution_count": 50,
     "metadata": {},
     "output_type": "execute_result"
    }
   ],
   "source": [
    "toPlot = 10 * np.log10( monoSum1 )\n",
    "fig, ax = plt.subplots(1,1)\n",
    "im = ax.imshow(toPlot.T, cmap='jet', origin='lower', extent=extent_yz )\n",
    "dia.addColorBar( im, ax, aspect=\"equal\" )\n",
    "title = f\"{day0} {pre0}\\nmonostatic sum images\"\n",
    "ax.set_title(title)\n",
    "ax.set_xlim( 1, 6 )"
   ]
  },
  {
   "cell_type": "code",
   "execution_count": 48,
   "metadata": {},
   "outputs": [
    {
     "data": {
      "text/plain": [
       "Text(0.5, 1.0, '2019_03_04 sand_trunk_vol monostatic sum images x=-1.50 .. 1.50')"
      ]
     },
     "execution_count": 48,
     "metadata": {},
     "output_type": "execute_result"
    }
   ],
   "source": [
    "fig, ax = plt.subplots(2,1)\n",
    "\n",
    "toPlot = 10 * np.log10( monoSum0 )\n",
    "im = ax[0].imshow(toPlot.T, cmap='jet', origin='lower', extent=extent_yz, vmin=0, vmax=50 )\n",
    "dia.addColorBar( im, ax[0], aspect=\"equal\" )\n",
    "title = f\"{day0} {pre0} monostatic sum images x={xCutStart:.2f} .. {xCutStop:.2f}\"\n",
    "ax[0].set_title(title)\n",
    "\n",
    "toPlot = 10 * np.log10( monoSum1 )\n",
    "im = ax[1].imshow(toPlot.T, cmap='jet', origin='lower', extent=extent_yz, vmin=0, vmax=50 )\n",
    "dia.addColorBar( im, ax[1], aspect=\"equal\" )\n",
    "title = f\"{day1} {pre1} monostatic sum images x={xCutStart:.2f} .. {xCutStop:.2f}\"\n",
    "ax[1].set_title(title)"
   ]
  },
  {
   "cell_type": "markdown",
   "metadata": {},
   "source": [
    "## bistatic"
   ]
  },
  {
   "cell_type": "markdown",
   "metadata": {},
   "source": [
    "### along x"
   ]
  },
  {
   "cell_type": "code",
   "execution_count": null,
   "metadata": {},
   "outputs": [],
   "source": [
    "xCutStart = -0.1\n",
    "xCutStop = 0.1\n",
    "ixStart = np.where( (x<xCutStart+dx) & (x>=xCutStart) )[0][0]\n",
    "ixStop  = np.where( (x<xCutStop+dx)  & (x>=xCutStop) )[0][0]\n",
    "ixStart, ixStop"
   ]
  },
  {
   "cell_type": "code",
   "execution_count": null,
   "metadata": {},
   "outputs": [],
   "source": [
    "toSum = np.abs( imgBi0[ixStart:ixStop, :, :] )**2\n",
    "biSum0 = np.sum( toSum, axis=0 )\n",
    "toSum = np.abs( imgBi1[ixStart:ixStop, :, :] )**2\n",
    "biSum1 = np.sum( toSum, axis=0 )"
   ]
  },
  {
   "cell_type": "code",
   "execution_count": null,
   "metadata": {},
   "outputs": [],
   "source": [
    "fig, ax = plt.subplots(2,1)\n",
    "\n",
    "toPlot = 10 * np.log10( biSum0 )\n",
    "im = ax[0].imshow(toPlot.T, cmap='jet', origin='lower', extent=extent_yz, vmin=0, vmax=70 )\n",
    "dia.addColorBar( im, ax[0], aspect=\"equal\" )\n",
    "title = f\"{day0} {pre0}\\nbistatic sum images x={xCutStart:.2f} .. {xCutStop:.2f}\"\n",
    "ax[0].set_title(title)\n",
    "\n",
    "toPlot = 10 * np.log10( biSum1 )\n",
    "im = ax[1].imshow(toPlot.T, cmap='jet', origin='lower', extent=extent_yz, vmin=0, vmax=70 )\n",
    "dia.addColorBar( im, ax[1], aspect=\"equal\" )\n",
    "title = f\"{day1} {pre1}\\nbistatic sum images x={xCutStart:.2f} .. {xCutStop:.2f}\"\n",
    "ax[1].set_title(title)"
   ]
  },
  {
   "cell_type": "markdown",
   "metadata": {},
   "source": [
    "# xCut"
   ]
  },
  {
   "cell_type": "code",
   "execution_count": null,
   "metadata": {},
   "outputs": [],
   "source": [
    "hRef   = 3.500\n",
    "xCut   = 0.000\n",
    "with open(base_path + f\"/{date}_hRef{hRef:.3f}_xCut{xCut:.3f}.dat\", 'rb') as file:\n",
    "    img_h_zCut = pk.load(file)"
   ]
  },
  {
   "cell_type": "code",
   "execution_count": null,
   "metadata": {},
   "outputs": [],
   "source": [
    "fig, grid = plotImgMosaic(img_h_zCut[hRef], extent=extent_yz, origin='lower', T=1)\n",
    "title = f\"{date} xCut = {xCut}\"\n",
    "fig.suptitle(title)"
   ]
  },
  {
   "cell_type": "markdown",
   "metadata": {},
   "source": [
    "# Tomography"
   ]
  },
  {
   "cell_type": "markdown",
   "metadata": {},
   "source": [
    "## Monostatic"
   ]
  },
  {
   "cell_type": "code",
   "execution_count": null,
   "metadata": {},
   "outputs": [],
   "source": [
    "imgSum  = np.zeros( (nbY, nbZ), dtype=complex)\n",
    "imgSumC = np.zeros( (nbY, nbZ), dtype=complex)\n",
    "amp     = np.zeros( (nbY, nbZ), dtype=complex)\n",
    "idxx = idx0_x\n",
    "aver = 0\n",
    "\n",
    "for height in heights:\n",
    "    z3 = heights[height]\n",
    "    for ij in [\"21\", \"31\", \"32\"]:\n",
    "        imgSum +=         img_h[z3][ij][idxx,:,:]\n",
    "        amp    += np.abs( img_h[z3][ij][idxx,:,:] )\n",
    "        aver += 1\n",
    "imgSum = imgSum / aver\n",
    "min_imgSum = np.amin( 20 * np.log10( np.abs( imgSum ) ) )\n",
    "max_imgSum = np.amax( 20 * np.log10( np.abs( imgSum ) ) )\n",
    "xSum = x[idxx]\n",
    "print(f\"x = {xSum:.3f}, aver = {aver}, {min_imgSum:.1f} {max_imgSum:.1f}\")"
   ]
  },
  {
   "cell_type": "code",
   "execution_count": null,
   "metadata": {},
   "outputs": [],
   "source": [
    "#imgSumNorm = imgSum / amp\n",
    "toPlot = 20 * np.log10( np.abs( imgSum ).T )\n",
    "fig, ax = plt.subplots(1,1)\n",
    "im = ax.imshow(toPlot, cmap='jet', origin='lower', extent=extent_yz, vmin=vmin, vmax=vmax)\n",
    "dia.addColorBar( im, ax, aspect=\"equal\" )\n",
    "title = f\"{date} {prefix}\\nmonostatic x = {x[idx0_x]:.3f}\"\n",
    "ax.set_title(title)"
   ]
  },
  {
   "cell_type": "markdown",
   "metadata": {},
   "source": [
    "## Bistatic"
   ]
  },
  {
   "cell_type": "code",
   "execution_count": null,
   "metadata": {},
   "outputs": [],
   "source": [
    "biz_imgSum  = np.zeros( (nbY, nbZ), dtype=complex)\n",
    "biz_imgSumC = np.zeros( (nbY, nbZ), dtype=complex)\n",
    "biz_amp     = np.zeros( (nbY, nbZ), dtype=complex)\n",
    "idxx = idx0_x\n",
    "aver = 0\n",
    "\n",
    "for idx in heights:\n",
    "    for ij in [\"41\", \"42\", \"43\"]:\n",
    "        z3 = heights[idx]\n",
    "        if z3 != heights['1']:\n",
    "            if ij != \"41\":\n",
    "                biz_imgSum +=         img_h[z3][ij][idxx,:,:]\n",
    "                biz_amp    += np.abs( img_h[z3][ij][idxx,:,:] )\n",
    "                aver+=1\n",
    "        else:\n",
    "            biz_imgSum +=         img_h[z3][ij][idxx,:,:]\n",
    "            biz_amp    += np.abs( img_h[z3][ij][idxx,:,:] )\n",
    "            aver+=1\n",
    "biz_imgSum = biz_imgSum / aver\n",
    "min_biz_imgSum = np.amin( 20 * np.log10( np.abs( biz_imgSum ) ) )\n",
    "max_biz_imgSum = np.amax( 20 * np.log10( np.abs( biz_imgSum ) ) )\n",
    "xBizSum = x[idxx]\n",
    "print(f\"x = {xBizSum:.3f}, aver = {aver}, min = {min_biz_imgSum:.1f}, max = {max_biz_imgSum:.1f}\")"
   ]
  },
  {
   "cell_type": "code",
   "execution_count": null,
   "metadata": {},
   "outputs": [],
   "source": [
    "#biz_imgSumNorm = biz_imgSum / biz_amp\n",
    "toPlot = 20 * np.log10( np.abs(biz_imgSum).T )\n",
    "fig, ax = plt.subplots(1,1)\n",
    "im = ax.imshow(toPlot, cmap='jet', origin='lower', extent=extent_yz, vmin=vmin, vmax=vmax )\n",
    "dia.addColorBar( im, ax, aspect=\"equal\" )\n",
    "title = f\"{date} {prefix}\\nbistatic x = {x[idx0_x]:.2f}\"\n",
    "ax.set_title(title)"
   ]
  },
  {
   "cell_type": "markdown",
   "metadata": {},
   "source": [
    "## Plot Mono Bi 2D Tomo"
   ]
  },
  {
   "cell_type": "code",
   "execution_count": null,
   "metadata": {},
   "outputs": [],
   "source": [
    "fig, grid0, grid1 = dia.plotImgMosaicMonoBi2DTomo( img_h_zCut[3.41][\"21\"], img_h_zCut[3.41][\"41\"], \n",
    "                                                  imgSum.T, biz_imgSum.T, \n",
    "                                                  extent_yx, extent_yz, vmin=vmin, vmax=vmax )\n",
    "fig.suptitle(date + f\" x={xSum:.2f} z={zCut}\")"
   ]
  },
  {
   "cell_type": "markdown",
   "metadata": {},
   "source": [
    "## Monostatic incoherent sum (along x)"
   ]
  },
  {
   "cell_type": "code",
   "execution_count": null,
   "metadata": {},
   "outputs": [],
   "source": [
    "amp_i = np.zeros( (nbY, nbZ), dtype=float )\n",
    "aver = 0\n",
    "\n",
    "for xn in range(nbX):\n",
    "    imgSum  = np.zeros( (nbY, nbZ), dtype=complex )\n",
    "    # compute the coherent sum for the considered xn\n",
    "    for idx in heights:\n",
    "        for ij in [\"21\", \"31\", \"32\"]:\n",
    "            z3 = heights[idx]\n",
    "            imgSum += img_h[z3][ij][xn,:,:]\n",
    "            aver+=1\n",
    "    # compute the non coherent sum\n",
    "    amp_i = amp_i + imgSum ** 2\n",
    "amp_i = (amp_i / aver)**0.5\n",
    "min_amp_i = np.amin( 20 * np.log10( np.abs( amp_i ) ) )\n",
    "max_amp_i = np.amax( 20 * np.log10( np.abs( amp_i ) ) )\n",
    "print(f\"aver = {aver}, {min_amp_i:.1f}dB {max_amp_i:.1f}dB\")"
   ]
  },
  {
   "cell_type": "code",
   "execution_count": null,
   "metadata": {},
   "outputs": [],
   "source": [
    "toPlot = 20 * np.log10( np.abs(amp_i).T )\n",
    "\n",
    "fig, ax = plt.subplots(1,1)\n",
    "im = ax.imshow(toPlot, cmap='jet', origin='lower', extent=extent_yz, vmin=vmin, vmax=vmax)\n",
    "dia.addColorBar( im, ax, aspect=\"equal\" )\n",
    "title = f\"{date} monostatic\\nsum intensities along x from {xMin} to {xMax}, dx = {dx}\"\n",
    "ax.set_title(title)"
   ]
  },
  {
   "cell_type": "markdown",
   "metadata": {},
   "source": [
    " ## Bistatic incoherent sum (along x)"
   ]
  },
  {
   "cell_type": "code",
   "execution_count": null,
   "metadata": {},
   "outputs": [],
   "source": [
    "biz_amp_i = np.zeros( (nbY, nbZ), dtype=float )\n",
    "aver = 0\n",
    "\n",
    "for xn in range(nbX):\n",
    "    biz_imgSum  = np.zeros( (nbY, nbZ), dtype=complex )\n",
    "    # compute the coherent sum for the considered xn\n",
    "    for idx in heights:\n",
    "        for ij in [\"41\", \"42\", \"43\"]:\n",
    "            z3 = heights[idx]\n",
    "            if z3 != 3.5:\n",
    "                if ij != \"41\":\n",
    "                    biz_imgSum += img_h[z3][ij][xn,:,:]\n",
    "                    aver+=1\n",
    "            else:\n",
    "                biz_imgSum += img_h[z3][ij][xn,:,:]\n",
    "                aver+=1\n",
    "    # compute the non coherent sum\n",
    "    biz_amp_i = biz_amp_i + biz_imgSum ** 2\n",
    "biz_amp_i = (biz_amp_i / aver)**0.5\n",
    "min_biz_amp_i = np.amin( 20 * np.log10( np.abs( biz_amp_i ) ) )\n",
    "max_biz_amp_i = np.amax( 20 * np.log10( np.abs( biz_amp_i ) ) )\n",
    "print(f\"aver = {aver}, {min_biz_amp_i:.1f} {max_biz_amp_i:.1f}\")"
   ]
  },
  {
   "cell_type": "code",
   "execution_count": null,
   "metadata": {},
   "outputs": [],
   "source": [
    "toPlot = 20 * np.log10( np.abs(biz_amp_i).T )\n",
    "\n",
    "fig, ax = plt.subplots(1,1)\n",
    "im = ax.imshow(toPlot, cmap='jet', origin='lower', extent=extent_yz, vmin=vmin, vmax=vmax)\n",
    "dia.addColorBar( im, ax, aspect=\"equal\" )\n",
    "title = f\"{date} bistatic\\nsum intensities along x from {xMin} to {xMax}, dx = {dx}\"\n",
    "ax.set_title(title)"
   ]
  },
  {
   "cell_type": "markdown",
   "metadata": {},
   "source": [
    "## Plot bistatic and monostatic"
   ]
  },
  {
   "cell_type": "code",
   "execution_count": null,
   "metadata": {},
   "outputs": [],
   "source": [
    "fig, grid = dia.plotImgMosaicMonoBi( imgSum.T, biz_imgSum.T, extent_yz, origin='lower',vmin=20,vmax=65 )\n",
    "title = date + f\"yz cut at {x[idx0_x]:.3f}\"\n",
    "fig.suptitle(title)"
   ]
  }
 ],
 "metadata": {
  "kernelspec": {
   "display_name": "Python 3",
   "language": "python",
   "name": "python3"
  },
  "language_info": {
   "codemirror_mode": {
    "name": "ipython",
    "version": 3
   },
   "file_extension": ".py",
   "mimetype": "text/x-python",
   "name": "python",
   "nbconvert_exporter": "python",
   "pygments_lexer": "ipython3",
   "version": "3.7.1"
  },
  "toc": {
   "base_numbering": 1,
   "nav_menu": {},
   "number_sections": true,
   "sideBar": true,
   "skip_h1_title": false,
   "title_cell": "Table of Contents",
   "title_sidebar": "Contents",
   "toc_cell": false,
   "toc_position": {
    "height": "calc(100% - 180px)",
    "left": "10px",
    "top": "150px",
    "width": "336px"
   },
   "toc_section_display": true,
   "toc_window_display": true
  },
  "varInspector": {
   "cols": {
    "lenName": 16,
    "lenType": 16,
    "lenVar": 40
   },
   "kernels_config": {
    "python": {
     "delete_cmd_postfix": "",
     "delete_cmd_prefix": "del ",
     "library": "var_list.py",
     "varRefreshCmd": "print(var_dic_list())"
    },
    "r": {
     "delete_cmd_postfix": ") ",
     "delete_cmd_prefix": "rm(",
     "library": "var_list.r",
     "varRefreshCmd": "cat(var_dic_list()) "
    }
   },
   "oldHeight": 734.85,
   "position": {
    "height": "756.85px",
    "left": "1180px",
    "right": "21px",
    "top": "53px",
    "width": "516px"
   },
   "types_to_exclude": [
    "module",
    "function",
    "builtin_function_or_method",
    "instance",
    "_Feature"
   ],
   "varInspector_section_display": "block",
   "window_display": false
  }
 },
 "nbformat": 4,
 "nbformat_minor": 2
}
