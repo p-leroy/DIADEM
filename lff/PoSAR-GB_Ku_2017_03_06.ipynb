{
 "cells": [
  {
   "cell_type": "markdown",
   "metadata": {},
   "source": [
    "# Init"
   ]
  },
  {
   "cell_type": "code",
   "execution_count": 1,
   "metadata": {},
   "outputs": [],
   "source": [
    "import time, sys\n",
    "%load_ext autoreload\n",
    "%autoreload 2"
   ]
  },
  {
   "cell_type": "markdown",
   "metadata": {},
   "source": [
    "## Custom tools"
   ]
  },
  {
   "cell_type": "code",
   "execution_count": 2,
   "metadata": {},
   "outputs": [],
   "source": [
    "sys.path.insert(0, \"/home/pleroy/DEV/processing/PoSAR-MC\")\n",
    "import posarmctools.readdata as readdata"
   ]
  },
  {
   "cell_type": "code",
   "execution_count": 3,
   "metadata": {},
   "outputs": [],
   "source": [
    "sys.path.insert(0, \"/home/pleroy/DEV/processing/focalization_python\")\n",
    "import posarutils.process.disp_PoSAR_img as disp"
   ]
  },
  {
   "cell_type": "code",
   "execution_count": 4,
   "metadata": {},
   "outputs": [],
   "source": [
    "sys.path.insert(0, \"/home/pleroy/DEV/DIADEM\")\n",
    "import toolsdiadem.tools as dia\n",
    "import toolsdiadem.posargb as gb"
   ]
  },
  {
   "cell_type": "code",
   "execution_count": 5,
   "metadata": {},
   "outputs": [],
   "source": [
    "i_CFG = 0\n",
    "i_RD = 1\n",
    "i_CAL = 2\n",
    "i_f = 3\n",
    "\n",
    "i_x = 2\n",
    "i_y = 3\n",
    "i_z = 4\n",
    "\n",
    "# antenna locations on the plate\n",
    "Dx1   = 0.224\n",
    "Dx2   = 0.168\n",
    "h     = 0.04\n",
    "# positions of the box in x\n",
    "xMinTrail  = -1.50\n",
    "xMaxTrail  = 1.50"
   ]
  },
  {
   "cell_type": "code",
   "execution_count": 6,
   "metadata": {},
   "outputs": [],
   "source": [
    "from backprojection.loadbackprojection import *\n",
    "libraryFilename = \"/home/pleroy/DEV/processing/PoSAR-MC/backprojection/ccpp/libbackprojection/liblibbackprojection.so\"\n",
    "lib = LibBackProjection( libraryFilename )"
   ]
  },
  {
   "cell_type": "markdown",
   "metadata": {},
   "source": [
    "## Numpy"
   ]
  },
  {
   "cell_type": "code",
   "execution_count": 7,
   "metadata": {},
   "outputs": [],
   "source": [
    "import numpy as np\n",
    "import matplotlib.pyplot as plt"
   ]
  },
  {
   "cell_type": "code",
   "execution_count": 8,
   "metadata": {},
   "outputs": [],
   "source": [
    "%matplotlib qt"
   ]
  },
  {
   "cell_type": "markdown",
   "metadata": {},
   "source": [
    "## Data paths"
   ]
  },
  {
   "cell_type": "code",
   "execution_count": 53,
   "metadata": {},
   "outputs": [],
   "source": [
    "day = \"06_03_2017\"\n",
    "base_path = \"/home/pleroy/DATA/DIADEM/lff\" \\\n",
    "    + f\"/fromLHA/Mesure_prepa_Hambourg/Mesures_traitées/Mesures_Ku__traitées_{day}/mesureKu_originales_{day}\"\n",
    "prefix = base_path + \"/SHAM_ku_h_\"\n",
    "heights = [\"147cm\", \"159cm\", \"171cm\"]\n",
    "RxTx = [\"21\", \"31\", \"32\", \"41\", \"42\", \"43\"]\n",
    "path_147 = prefix + \"147cm\"\n",
    "path_159 = prefix + \"159cm\"\n",
    "path_171 = prefix + \"171cm\""
   ]
  },
  {
   "cell_type": "markdown",
   "metadata": {},
   "source": [
    "# Read separate files"
   ]
  },
  {
   "cell_type": "markdown",
   "metadata": {},
   "source": [
    "## Read configuration"
   ]
  },
  {
   "cell_type": "code",
   "execution_count": 54,
   "metadata": {},
   "outputs": [],
   "source": [
    "CFG = gb.readCfg( path_147 + \"/\" +  \"PoSAR.cfg\")"
   ]
  },
  {
   "cell_type": "code",
   "execution_count": 55,
   "metadata": {},
   "outputs": [
    {
     "data": {
      "text/plain": [
       "{'H_nom': 1.47,\n",
       " 'xamin_nom': -1.5,\n",
       " 'xamax_nom': 1.487967,\n",
       " 'Npos': 333,\n",
       " 'theta_c': 0.7853981633974483,\n",
       " 'theta_ap': 0.7853981633974483,\n",
       " 'phi_c': 0.0,\n",
       " 'phi_ap': 0.7853981633974483,\n",
       " 'Fmin': 12400000000.0,\n",
       " 'Fmax': 16400000000.0,\n",
       " 'Nf': 401,\n",
       " 'c': 300000000.0}"
      ]
     },
     "execution_count": 55,
     "metadata": {},
     "output_type": "execute_result"
    }
   ],
   "source": [
    "CFG"
   ]
  },
  {
   "cell_type": "markdown",
   "metadata": {},
   "source": [
    "## Read data"
   ]
  },
  {
   "cell_type": "code",
   "execution_count": null,
   "metadata": {},
   "outputs": [],
   "source": [
    "c = gb.readFile( path_147 + \"/S21.dat\", CFG['Npos'], CFG['Nf'] )"
   ]
  },
  {
   "cell_type": "code",
   "execution_count": null,
   "metadata": {},
   "outputs": [],
   "source": [
    "fix, (ax0, ax1) = plt.subplots(1,2)\n",
    "\n",
    "im = ax0.imshow(20 * np.log10( np.abs( c ) ) )\n",
    "dia.addColorBar(im, ax0)\n",
    "\n",
    "im = ax1.imshow( np.unwrap( np.angle(c), axis = 1 ) )\n",
    "dia.addColorBar(im, ax1)"
   ]
  },
  {
   "cell_type": "code",
   "execution_count": null,
   "metadata": {},
   "outputs": [],
   "source": [
    "angle = np.angle(c[125,:])\n",
    "fig, ax = plt.subplots(1,1)\n",
    "ax.plot( angle, '.-' )\n",
    "ax.plot( np.unwrap(angle) )\n",
    "ax.grid()"
   ]
  },
  {
   "cell_type": "markdown",
   "metadata": {},
   "source": [
    "## Read positions"
   ]
  },
  {
   "cell_type": "code",
   "execution_count": 28,
   "metadata": {},
   "outputs": [],
   "source": [
    "ij = \"41\"\n",
    "ant_pos = gb.readPos( path_171 + f\"/track_S{ij}.dat.old\" )"
   ]
  },
  {
   "cell_type": "code",
   "execution_count": 29,
   "metadata": {},
   "outputs": [
    {
     "data": {
      "text/plain": [
       "Text(0.5, 1.0, '/home/pleroy/DATA/DIADEM/lff/fromLHA/Mesure_prepa_Hambourg/Mesures_traitées/Mesures_Ku__traitées_06_03_2017/mesureKu_originales_06_03_2017/SHAM_ku_h_147cm\\nS41')"
      ]
     },
     "execution_count": 29,
     "metadata": {},
     "output_type": "execute_result"
    }
   ],
   "source": [
    "fig, ax = plt.subplots(1,1)\n",
    "ax.plot(ant_pos.Txx, '.-', label=f\"Txx\")\n",
    "ax.plot(ant_pos.Txy, '.-', label=f\"Txy\")\n",
    "ax.plot(ant_pos.Txz, '.-', label=f\"Txz\")\n",
    "ax.plot(ant_pos.Rxx, '.-', label=f\"Rxx\")\n",
    "ax.plot(ant_pos.Rxy, '.-', label=f\"Rxy\")\n",
    "ax.plot(ant_pos.Rxz, '.-', label=f\"Rxz\")\n",
    "ax.legend()\n",
    "ax.grid()\n",
    "title = path_147 + f\"\\nS{ij}\"\n",
    "ax.set_title(title)"
   ]
  },
  {
   "cell_type": "markdown",
   "metadata": {},
   "source": [
    "# read_PoSAR_data"
   ]
  },
  {
   "cell_type": "code",
   "execution_count": null,
   "metadata": {},
   "outputs": [],
   "source": [
    "vmax=-70\n",
    "vmin=-130"
   ]
  },
  {
   "cell_type": "markdown",
   "metadata": {},
   "source": [
    "## Ku 147cm"
   ]
  },
  {
   "cell_type": "code",
   "execution_count": null,
   "metadata": {},
   "outputs": [],
   "source": [
    "CFG_147, RD_147, CAL_147, f_147 = gb.readData( path_147, \"S21.dat\", cal_name=\"\" )"
   ]
  },
  {
   "cell_type": "code",
   "execution_count": null,
   "metadata": {},
   "outputs": [],
   "source": [
    "f_base = f_147 - CFG_147[\"Fmin\"]\n",
    "r = np.arange(f_base.size) * CFG_147[\"delta_sr\"]\n",
    "az = (ant_pos.Txx + ant_pos.Txz)/2"
   ]
  },
  {
   "cell_type": "code",
   "execution_count": null,
   "metadata": {},
   "outputs": [],
   "source": [
    "f_147.shape"
   ]
  },
  {
   "cell_type": "code",
   "execution_count": null,
   "metadata": {},
   "outputs": [],
   "source": [
    "hanning = np.hanning( CFG_147[\"Nf\"] )\n",
    "coupling_RD = np.average(RD_147, 0)\n",
    "ifft_RD = np.fft.ifft( RD_147 )\n",
    "ifft_RD_withHanning = np.fft.ifft( RD_147 * hanning )\n",
    "ifft_RD_withoutCoupling = np.fft.ifft( RD_147 - coupling_RD )"
   ]
  },
  {
   "cell_type": "code",
   "execution_count": null,
   "metadata": {},
   "outputs": [],
   "source": [
    "fig, (ax0, ax1) = plt.subplots(1,2,sharex=True,sharey=True)\n",
    "\n",
    "im = ax0.pcolor( r, az, 20 * np.log10( np.abs( ifft_RD_withHanning ) ), cmap='jet', vmax=vmax,vmin=vmin  )\n",
    "dia.addColorBar(im, ax0, 'auto')\n",
    "\n",
    "im = ax1.pcolor( r, az, np.angle( ifft_RD_withHanning ), cmap='jet' )\n",
    "dia.addColorBar(im, ax1, 'auto')\n",
    "\n",
    "fig.suptitle(path_147 + \"\\ns21 with hanning\")"
   ]
  },
  {
   "cell_type": "code",
   "execution_count": null,
   "metadata": {},
   "outputs": [],
   "source": [
    "fig, (ax0, ax1) = plt.subplots(1,2,sharex=True,sharey=True)\n",
    "\n",
    "im = ax0.pcolor( r, az, 20 * np.log10( np.abs( ifft_RD ) ), cmap='jet' )\n",
    "dia.addColorBar(im, ax0, 'auto')\n",
    "\n",
    "im = ax1.pcolor( r, az, np.angle( ifft_RD ), cmap='jet' )\n",
    "dia.addColorBar(im, ax1, 'auto')\n",
    "\n",
    "fig.suptitle(path_147 + \"\\ns21 raw data\")"
   ]
  },
  {
   "cell_type": "code",
   "execution_count": null,
   "metadata": {},
   "outputs": [],
   "source": [
    "fig, (ax0, ax1) = plt.subplots(1,2,sharex=True,sharey=True)\n",
    "\n",
    "im = ax0.pcolor( r, az, 20 * np.log10( np.abs( ifft_RD_withoutCoupling ) ), cmap='jet' )\n",
    "dia.addColorBar(im, ax0, 'auto')\n",
    "\n",
    "im = ax1.pcolor( r, az, np.angle( ifft_RD_withoutCoupling ), cmap='jet' )\n",
    "dia.addColorBar(im, ax1, 'auto')\n",
    "\n",
    "fig.suptitle(path_147 + \"\\ns21 without coupling\")"
   ]
  },
  {
   "cell_type": "markdown",
   "metadata": {},
   "source": [
    "## Ku 159cm"
   ]
  },
  {
   "cell_type": "markdown",
   "metadata": {},
   "source": [
    "### Read data"
   ]
  },
  {
   "cell_type": "code",
   "execution_count": null,
   "metadata": {},
   "outputs": [],
   "source": [
    "read_159 = gb.readData( prefix + \"159cm\", \"S21.dat\" )\n",
    "ant_pos_159 = gb.readPos( path_159 + \"/track_S21.dat\", read_159[i_CFG][\"Npos\"] )"
   ]
  },
  {
   "cell_type": "code",
   "execution_count": null,
   "metadata": {},
   "outputs": [],
   "source": [
    "az_159 = (ant_pos_159.Txx + ant_pos_159.Txz)/2\n",
    "f_base_159 = read_159[i_f] - read_159[i_CFG][\"Fmin\"]\n",
    "r_159 = np.arange(f_base_159.size) * read_159[i_CFG][\"delta_sr\"]\n",
    "\n"
   ]
  },
  {
   "cell_type": "markdown",
   "metadata": {},
   "source": [
    "### Proces data"
   ]
  },
  {
   "cell_type": "code",
   "execution_count": null,
   "metadata": {},
   "outputs": [],
   "source": [
    "hanning_159 = np.hanning( read_159[i_CFG][\"Nf\"] )\n",
    "ifft_159 = np.fft.ifft( read_159[i_RD] * hanning_159 )"
   ]
  },
  {
   "cell_type": "code",
   "execution_count": null,
   "metadata": {},
   "outputs": [],
   "source": [
    "fig, (ax0, ax1) = plt.subplots(1,2,sharex=True,sharey=True)\n",
    "\n",
    "im = ax0.pcolor( r_159, az_159, 20 * np.log10( np.abs( ifft_159 ) ), cmap='jet', vmax=vmax,vmin=vmin )\n",
    "dia.addColorBar(im, ax0, 'auto')\n",
    "\n",
    "im = ax1.pcolor( r_159, az_159, np.angle( ifft_159 ), cmap='jet' )\n",
    "dia.addColorBar(im, ax1, 'auto')\n",
    "\n",
    "fig.suptitle(path_159 + \"\\ns21 with hanning\")"
   ]
  },
  {
   "cell_type": "code",
   "execution_count": null,
   "metadata": {},
   "outputs": [],
   "source": [
    "fig, ax = plt.subplots(1,1)\n",
    "ax.plot(ant_pos_159.Txx, '.-', label=f\"Txx\")\n",
    "ax.plot(ant_pos_159.Txy, '.-', label=f\"Txy\")\n",
    "ax.plot(ant_pos_159.Txz, '.-', label=f\"Txz\")\n",
    "ax.plot(ant_pos_159.Rxx, '.-', label=f\"Rxx\")\n",
    "ax.plot(ant_pos_159.Rxy, '.-', label=f\"Rxy\")\n",
    "ax.plot(ant_pos_159.Rxz, '.-', label=f\"Rxz\")\n",
    "#\n",
    "ax.plot(xyz_159[:,2], 'x', label=f\"pos x\")\n",
    "ax.plot(xyz_159[:,3], 'x', label=f\"pos y\")\n",
    "ax.plot(xyz_159[:,4], 'x', label=f\"pos z\")\n",
    "ax.legend()\n",
    "ax.grid()\n",
    "title = path_159 + \"\\nS21\"\n",
    "ax.set_title(title)"
   ]
  },
  {
   "cell_type": "markdown",
   "metadata": {},
   "source": [
    "### r ka"
   ]
  },
  {
   "cell_type": "code",
   "execution_count": null,
   "metadata": {},
   "outputs": [],
   "source": [
    "r_ka_159 = np.fft.fftshift( \n",
    "    np.fft.fft( np.fft.ifft( np.fft.ifftshift(read_159[i_RD],axes=0), axis=1 ), axis=0 ), axes=0 )"
   ]
  },
  {
   "cell_type": "code",
   "execution_count": null,
   "metadata": {},
   "outputs": [],
   "source": [
    "diff_az = np.diff(az_159)\n",
    "np.mean(diff_az), np.std(diff_az)\n",
    "daz = 0.012"
   ]
  },
  {
   "cell_type": "code",
   "execution_count": null,
   "metadata": {},
   "outputs": [],
   "source": [
    "ka = np.fft.fftshift(np.fft.fftfreq(read_159[i_CFG][\"Npos\"],daz)) * 2 * np.pi"
   ]
  },
  {
   "cell_type": "code",
   "execution_count": null,
   "metadata": {},
   "outputs": [],
   "source": [
    "fig, (ax0, ax1) = plt.subplots(1,2,sharex=True,sharey=True)\n",
    "\n",
    "im = ax0.pcolor( r, ka, 20 * np.log10( np.abs( r_ka_159 ) ), cmap='jet' )\n",
    "dia.addColorBar(im, ax0, 'auto')\n",
    "ax0.set_xlabel('r')\n",
    "ax0.set_ylabel('ka')\n",
    "\n",
    "im = ax1.pcolor( r, ka, np.angle( r_ka_159 ), cmap='jet' )\n",
    "dia.addColorBar(im, ax1, 'auto')\n",
    "ax1.set_xlabel('r')\n",
    "ax1.set_ylabel('ka')\n",
    "\n",
    "fig.suptitle(path_159 + \"\\ns21 (r,ka)\")"
   ]
  },
  {
   "cell_type": "markdown",
   "metadata": {},
   "source": [
    "# Build positions"
   ]
  },
  {
   "cell_type": "code",
   "execution_count": null,
   "metadata": {},
   "outputs": [],
   "source": [
    "Npos = CFG[\"Npos\"]\n",
    "zRail   = gb.getZRail( \"147cm\", units=\"cm\" )\n",
    "xyz_dic = gb.buildPos( xMinTrail, xMaxTrail, Npos, Dx1, Dx2, h, zRail )\n",
    "xyz_dicUsingTrack = gb.buildPosUsingTrack( path_147 + \"/track_S\" , Dx1, Dx2, h, zRail, verbose=1 )\n",
    "ant_pos21 = gb.readPos( path_147 + \"/track_S21.dat\", CFG[\"Npos\"] )\n",
    "ant_pos43 = gb.readPos( path_147 + \"/track_S43.dat\", CFG[\"Npos\"] )"
   ]
  },
  {
   "cell_type": "code",
   "execution_count": null,
   "metadata": {},
   "outputs": [],
   "source": [
    "fig, ax = plt.subplots(1,1)\n",
    "for a in [\"1\", \"2\", \"3\", \"4\"]:\n",
    "    ax.plot( xyz_dic[a][:,i_x], xyz_dic[a][:,i_z], 'o', label=f\"antenna {a}, xyz_dic\" )\n",
    "    ax.plot( xyz_dicUsingTrack[a][:,i_x], xyz_dicUsingTrack[a][:,i_z], 'x', label=f\"antenna {a}, xyz_dicUsingTrack\" )\n",
    "ax.plot( ant_pos21.Txx, ant_pos21.Txz, '.', label=\"antenna 1, ant_pos read positions\" )\n",
    "ax.plot( ant_pos21.Rxx, ant_pos21.Rxz, '.', label=\"antenna 2, ant_pos read positions\" )\n",
    "ax.plot( ant_pos43.Txx, ant_pos43.Txz, '.', label=\"antenna 3, ant_pos read positions\" )\n",
    "ax.plot( ant_pos43.Rxx, ant_pos43.Rxz, '.', label=\"antenna 4, ant_pos read positions\" )\n",
    "ax.legend()\n",
    "ax.grid()\n",
    "ax.set_title( f\"positions computed\" )"
   ]
  },
  {
   "cell_type": "code",
   "execution_count": null,
   "metadata": {},
   "outputs": [],
   "source": [
    "fig, ax = plt.subplots(1,1)\n",
    "ax.plot( ant_pos.Txz, 'o', label=\"antenna 1, ant_pos read positions\" )\n",
    "ax.legend()\n",
    "ax.grid()\n",
    "ax.set_title( f\"positions computed\" )"
   ]
  },
  {
   "cell_type": "code",
   "execution_count": null,
   "metadata": {},
   "outputs": [],
   "source": [
    "ant_pos_147_21 = gb.readPos( path_147 + \"/track_S21.dat\", CFG[\"Npos\"] )\n",
    "ant_pos_159_21 = gb.readPos( path_159 + \"/track_S21.dat\", CFG[\"Npos\"] )\n",
    "ant_pos_171_21 = gb.readPos( path_171 + \"/track_S21.dat\", CFG[\"Npos\"] )\n",
    "\n",
    "z1 = gb.getZRail(\"147cm\", units=\"cm\")\n",
    "xyz_147 = gb.buildPosUsingTrack( path_147 + \"/track_S\" , Dx1, Dx2, h, z1 )\n",
    "z1 = gb.getZRail(\"159cm\", units=\"cm\")\n",
    "xyz_159 = gb.buildPosUsingTrack( path_159 + \"/track_S\" , Dx1, Dx2, h, z1 )\n",
    "z1 = gb.getZRail(\"171cm\", units=\"cm\")\n",
    "xyz_171 = gb.buildPosUsingTrack( path_171 + \"/track_S\" , Dx1, Dx2, h, z1 )"
   ]
  },
  {
   "cell_type": "code",
   "execution_count": null,
   "metadata": {},
   "outputs": [],
   "source": [
    "fig, ax = plt.subplots(1,1)\n",
    "\n",
    "ax.plot( ant_pos_147_21.Txx, ant_pos_147_21.Txz, '.', label=\"antenna 1, ant_pos_147\" )\n",
    "ax.plot( ant_pos_159_21.Txx, ant_pos_159_21.Txz, '.', label=\"antenna 1, ant_pos_159\" )\n",
    "ax.plot( ant_pos_159_21.Txx, ant_pos_171_21.Txz, '.', label=\"antenna 1, ant_pos_171\" )\n",
    "\n",
    "ax.plot( xyz_147[\"1\"][:,i_x], xyz_147[\"1\"][:,i_z], 'x', label=\"antenna 1, xyz_147\" )\n",
    "ax.plot( xyz_159[\"1\"][:,i_x], xyz_159[\"1\"][:,i_z], 'x', label=\"antenna 1, xyz_159\" )\n",
    "ax.plot( xyz_171[\"1\"][:,i_x], xyz_171[\"1\"][:,i_z], 'x', label=\"antenna 1, xyz_159\" )\n",
    "\n",
    "ax.legend()\n",
    "ax.grid()\n",
    "ax.set_title( f\"positions computed\" )"
   ]
  },
  {
   "cell_type": "markdown",
   "metadata": {},
   "source": [
    "# Define geometry"
   ]
  },
  {
   "cell_type": "code",
   "execution_count": 30,
   "metadata": {},
   "outputs": [],
   "source": [
    "hScene = -1\n",
    "\n",
    "dx = 0.01\n",
    "dy = 0.01\n",
    "dz = 0.01\n",
    "xMin = -1.5\n",
    "xMax = 1.5\n",
    "yMin = 0\n",
    "yMax = 7\n",
    "zMin = 0\n",
    "zMax = 0\n",
    "\n",
    "x = np.arange(xMin, xMax+1e-9, dx)\n",
    "y = np.arange(yMin, yMax+1e-9, dy)\n",
    "z = np.arange(zMin, zMax+1e-9, dz)\n",
    "\n",
    "nbX = x.size\n",
    "nbY = y.size\n",
    "nbZ = z.size"
   ]
  },
  {
   "cell_type": "code",
   "execution_count": 31,
   "metadata": {},
   "outputs": [
    {
     "data": {
      "text/plain": [
       "((301,), (701,), (1,))"
      ]
     },
     "execution_count": 31,
     "metadata": {},
     "output_type": "execute_result"
    }
   ],
   "source": [
    "x.shape, y.shape, z.shape"
   ]
  },
  {
   "cell_type": "code",
   "execution_count": 32,
   "metadata": {},
   "outputs": [
    {
     "name": "stdout",
     "output_type": "stream",
     "text": [
      "center of the scene ( 0.00, 3.50, 0.00 )\n"
     ]
    }
   ],
   "source": [
    "print( f\"center of the scene ( {np.mean(x):.2f}, {np.mean(y):.2f}, {np.mean(z):.2f} )\")"
   ]
  },
  {
   "cell_type": "markdown",
   "metadata": {},
   "source": [
    "# Focalization"
   ]
  },
  {
   "cell_type": "markdown",
   "metadata": {},
   "source": [
    "## Backprojection"
   ]
  },
  {
   "cell_type": "code",
   "execution_count": 33,
   "metadata": {},
   "outputs": [],
   "source": [
    "lib.reload()"
   ]
  },
  {
   "cell_type": "code",
   "execution_count": 67,
   "metadata": {},
   "outputs": [
    {
     "name": "stdout",
     "output_type": "stream",
     "text": [
      "Nf = 400, Naz = 333\n",
      "range from -0.20m to 14.80m, resolution = 3.750e-02m, oversampled = 3.750e-03m\n"
     ]
    }
   ],
   "source": [
    "h_asString = \"171cm\"\n",
    "path_xxx = prefix + h_asString\n",
    "ij = \"43\"\n",
    "d_shift = 0.2\n",
    "overSamplingRatio = 10\n",
    "\n",
    "read = gb.readData( path_xxx, f\"S{ij}.dat\" )\n",
    "sr = np.fft.ifftshift( read[i_RD][:,0:read[i_CFG][\"Nf\"]-1], axes=1 )\n",
    "rangeResolution = read[i_CFG][\"delta_sr\"]\n",
    "Naz = sr.shape[0]\n",
    "Nf  = sr.shape[1]\n",
    "\n",
    "Rx, Tx = ij[0], ij[1]\n",
    "z1 = gb.getZRail( h_asString, units=\"cm\" )\n",
    "xyz_dic = gb.buildPosUsingTrack( path_xxx + \"/track_S\" , Dx1, Dx2, h, z1 )\n",
    "xyzAntI = xyz_dic[ Rx ]\n",
    "xyzAntJ = xyz_dic[ Tx ]\n",
    "\n",
    "Nover   = overSamplingRatio * Nf\n",
    "r_base  = np.arange( Nf ) * rangeResolution - d_shift\n",
    "r_over  = np.arange( Nover ) * rangeResolution / overSamplingRatio - d_shift\n",
    "dr_over = r_over[1] - r_over[0]\n",
    "\n",
    "print( f\"Nf = {Nf}, Naz = {Naz}\" )\n",
    "print( f\"range from {r_over[0]:.2f}m to {r_over[-1]:.2f}m, \"\n",
    "      + f\"resolution = {rangeResolution:.3e}m, oversampled = {rangeResolution / overSamplingRatio:.3e}m\" )"
   ]
  },
  {
   "cell_type": "code",
   "execution_count": 68,
   "metadata": {},
   "outputs": [],
   "source": [
    "myParameters           = MyParametersPoSAR_GB()\n",
    "myParameters.Nx        = nbX\n",
    "myParameters.Ny        = nbY\n",
    "myParameters.Nz        = nbZ\n",
    "myParameters.Nover     = r_over.size\n",
    "myParameters.dx        = dr_over\n",
    "myParameters.Naz       = Naz\n",
    "myParameters.Nf        = Nf\n",
    "myParameters.phi_a_deg = 60 # 20° => 7.4cm\n",
    "myParameters.kc        = read[i_CFG][\"kc\"]"
   ]
  },
  {
   "cell_type": "code",
   "execution_count": 69,
   "metadata": {},
   "outputs": [
    {
     "name": "stdout",
     "output_type": "stream",
     "text": [
      "focusedImg_a.shape = (301, 701, 1)\n",
      "execution time = 0.9408564567565918\n"
     ]
    }
   ],
   "source": [
    "t = time.time()\n",
    "\n",
    "focusedImg_a  = focusedImg  = np.zeros( (nbX, nbY, nbZ), dtype=complex )\n",
    "print( \"focusedImg_a.shape = {}\".format( focusedImg_a.shape ) )\n",
    "\n",
    "lib.so.backProjectionOmpGroundRange_PoSAR_GB_a( x,\n",
    "                                               y,\n",
    "                                               z,\n",
    "                                               r_over,\n",
    "                                               sr.reshape(sr.size),\n",
    "                                               xyzAntI.reshape(xyzAntI.size),\n",
    "                                               xyzAntJ.reshape(xyzAntJ.size),\n",
    "                                               focusedImg_a.reshape(focusedImg_a.size),\n",
    "                                               myParameters)\n",
    "\n",
    "elapsed = time.time() - t\n",
    "print(\"execution time = \" + str(elapsed))"
   ]
  },
  {
   "cell_type": "markdown",
   "metadata": {},
   "source": [
    "## Plot focused images"
   ]
  },
  {
   "cell_type": "code",
   "execution_count": 70,
   "metadata": {},
   "outputs": [],
   "source": [
    "cmap='jet'"
   ]
  },
  {
   "cell_type": "markdown",
   "metadata": {},
   "source": [
    "### focusedImg_a"
   ]
  },
  {
   "cell_type": "code",
   "execution_count": 71,
   "metadata": {},
   "outputs": [
    {
     "data": {
      "text/plain": [
       "Text(0.5, 1.0, '06_03_2017 43')"
      ]
     },
     "execution_count": 71,
     "metadata": {},
     "output_type": "execute_result"
    }
   ],
   "source": [
    "toPlot = 20 * np.log10( np.abs( focusedImg_a[:,:,0] ) )\n",
    "\n",
    "fig, ax = plt.subplots(1,1)\n",
    "im = ax.pcolormesh(y, x, toPlot, cmap=cmap)\n",
    "dia.addColorBar( im, ax, aspect=\"equal\" )\n",
    "ax.invert_yaxis()\n",
    "ax.set_title( f\"{day} {ij}\" )"
   ]
  },
  {
   "cell_type": "code",
   "execution_count": null,
   "metadata": {},
   "outputs": [],
   "source": [
    "toPlot = 20 * np.log10( np.abs( focusedImg_a[50,:,:].T ) )\n",
    "\n",
    "fig, ax = plt.subplots(1,1)\n",
    "im = ax.pcolor(y, z, toPlot, cmap=cmap)\n",
    "dia.addColorBar( im, ax, aspect=\"auto\" )"
   ]
  },
  {
   "cell_type": "code",
   "execution_count": null,
   "metadata": {},
   "outputs": [],
   "source": [
    "opt = disp.OPTt()\n",
    "opt.db = 1\n",
    "opt.med_dyn = 100\n",
    "opt.title = f\"Synthesized image: {h_asString}, Rx = {Rx}, Tx = {Tx}\\nground range, dB  d_gr={dy}, d_az={dx}\"\n",
    "disp.disp_PoSAR_img( focusedImg_a[:,:,0], opt, 0, 0, [yMin,yMax,xMax,xMin] ) # left, right, bottom, top = extent\n",
    "ax = plt.gca()\n",
    "ax.invert_xaxis()\n",
    "ax.set_aspect(\"equal\")\n",
    "ax.yaxis.set_ticks_position(\"left\")"
   ]
  },
  {
   "cell_type": "code",
   "execution_count": null,
   "metadata": {},
   "outputs": [],
   "source": [
    "2**(np.ceil(np.log2(sr.shape[1]*8)))/sr.shape[1]"
   ]
  },
  {
   "cell_type": "markdown",
   "metadata": {},
   "source": [
    "# Process all"
   ]
  },
  {
   "cell_type": "code",
   "execution_count": null,
   "metadata": {},
   "outputs": [],
   "source": [
    "myParameters           = MyParametersPoSAR_GB()\n",
    "myParameters.Nx        = nbX\n",
    "myParameters.Ny        = nbY\n",
    "myParameters.Nz        = nbZ\n",
    "myParameters.phi_a_deg = 60 # 10° => 4.3cm"
   ]
  },
  {
   "cell_type": "code",
   "execution_count": null,
   "metadata": {},
   "outputs": [],
   "source": [
    "d_shift = 0.2\n",
    "overSamplingRatio = 10\n",
    "\n",
    "img_h = {}\n",
    "\n",
    "print( f\"focusedImg.shape = ({nbX}, {nbY}, {nbZ})\")\n",
    "\n",
    "for height in heights:\n",
    "    \n",
    "    path_xxx = prefix + height\n",
    "    z1 = gb.getZRail( height, units=\"cm\" )\n",
    "    xyz_dic = gb.buildPosUsingTrack( path_xxx + \"/track_S\" , Dx1, Dx2, h, z1, verbose=1 )\n",
    "    print( f\"height = {height}, z1 = {z1}\" )\n",
    "    \n",
    "    img_ij = {}\n",
    "    \n",
    "    for ij in RxTx:\n",
    "\n",
    "        Rx, Tx = ij[0], ij[1]\n",
    "        xyzRx = xyz_dic[ Rx ]\n",
    "        xyzTx = xyz_dic[ Tx ]\n",
    "        hAver = ( xyzRx[0,i_z] + xyzTx[0,i_z] ) / 2\n",
    "    \n",
    "        read = gb.readData( path_xxx, f\"S{ij}.dat\" )\n",
    "        \n",
    "        sr = np.fft.fftshift( read[i_RD][:,0:read[i_CFG][\"Nf\"]-1], axes=1 )\n",
    "        rangeResolution = read[i_CFG][\"delta_sr\"]\n",
    "        Naz = sr.shape[0]\n",
    "        Nf  = sr.shape[1]\n",
    "    \n",
    "        Nover   = overSamplingRatio * Nf\n",
    "        r_base  = np.arange( Nf ) * rangeResolution - d_shift\n",
    "        r_over  = np.arange( Nover ) * rangeResolution / overSamplingRatio - d_shift\n",
    "        dr_over = r_over[1] - r_over[0]\n",
    "    \n",
    "        myParameters.Nover     = r_over.size\n",
    "        myParameters.dx        = dr_over\n",
    "        myParameters.Naz       = Naz\n",
    "        myParameters.Nf        = Nf\n",
    "        myParameters.kc        = read[i_CFG][\"kc\"]\n",
    "    \n",
    "        t = time.time()\n",
    "    \n",
    "        focusedImg  = np.zeros( (nbX, nbY, nbZ), dtype=complex )\n",
    "        \n",
    "        lib.so.backProjectionOmpGroundRange_PoSAR_GB_a( x,\n",
    "                                                       y,\n",
    "                                                       z,\n",
    "                                                       r_over,\n",
    "                                                       sr.reshape(sr.size),\n",
    "                                                       xyzRx.reshape(xyzRx.size),\n",
    "                                                       xyzTx.reshape(xyzTx.size),\n",
    "                                                       focusedImg.reshape(focusedImg.size),\n",
    "                                                       myParameters)\n",
    "\n",
    "        elapsed = time.time() - t\n",
    "        print( f\"hAver = {hAver:.2f} (Rx,Tx) = ({Rx},{Tx}) execution time = {elapsed:.1f}\")\n",
    "        img_ij[ij] = focusedImg\n",
    "    img_h[height] = img_ij"
   ]
  },
  {
   "cell_type": "code",
   "execution_count": null,
   "metadata": {},
   "outputs": [],
   "source": [
    "img_h[\"171cm\"][\"21\"].strides"
   ]
  },
  {
   "cell_type": "code",
   "execution_count": null,
   "metadata": {},
   "outputs": [],
   "source": [
    "img_h[\"171cm\"][\"21\"].shape, img_h[\"171cm\"][\"21\"].dtype"
   ]
  },
  {
   "cell_type": "code",
   "execution_count": null,
   "metadata": {},
   "outputs": [],
   "source": [
    "301*301*16"
   ]
  },
  {
   "cell_type": "markdown",
   "metadata": {},
   "source": [
    "## Plot"
   ]
  },
  {
   "cell_type": "code",
   "execution_count": null,
   "metadata": {},
   "outputs": [],
   "source": [
    "opt = disp.OPTt()\n",
    "opt.db = 1\n",
    "opt.med_dyn = 100"
   ]
  },
  {
   "cell_type": "code",
   "execution_count": null,
   "metadata": {},
   "outputs": [],
   "source": [
    "x0 = np.amin( np.where( x >= -0.8 ) )\n",
    "z0 = np.amin( np.where( z >= 0 ) )"
   ]
  },
  {
   "cell_type": "code",
   "execution_count": null,
   "metadata": {},
   "outputs": [],
   "source": [
    "img_h[h_asString][\"21\"][0,:,:].shape"
   ]
  },
  {
   "cell_type": "code",
   "execution_count": null,
   "metadata": {},
   "outputs": [],
   "source": [
    "h_asString = \"171cm\"\n",
    "Rx = \"2\"\n",
    "Tx = \"1\"\n",
    "toPlot = 20 * np.log10( np.abs( img_h[h_asString][\"21\"][x0,:,:] ) )\n",
    "\n",
    "opt.title = f\"Synthesized image: {h_asString}, Rx = {Rx}, Tx = {Tx}\\nground range, dB  d_gr={dy}, d_az={dx}\"\n",
    "disp.disp_PoSAR_img( toPlot, opt, 0, 0, [yMin,yMax,zMin,zMax] ) # left, right, bottom, top = extent\n",
    "ax = plt.gca()\n",
    "ax.invert_xaxis()\n",
    "ax.set_aspect(\"auto\")\n",
    "ax.yaxis.set_ticks_position(\"left\")"
   ]
  },
  {
   "cell_type": "code",
   "execution_count": null,
   "metadata": {},
   "outputs": [],
   "source": [
    "h_asString = \"171cm\"\n",
    "Rx = \"2\"\n",
    "Tx = \"1\"\n",
    "toPlot = 20 * np.log10( np.abs( img_h[h_asString][\"21\"][x0,:,:] ) ).T\n",
    "\n",
    "fig, ax = plt.subplots(1,1)\n",
    "im = ax.pcolor(y, z, toPlot, cmap='jet')\n",
    "dia.addColorBar( im, ax, aspect=\"equal\" )"
   ]
  },
  {
   "cell_type": "code",
   "execution_count": null,
   "metadata": {},
   "outputs": [],
   "source": [
    "h_asString = \"171cm\"\n",
    "Rx = \"2\"\n",
    "Tx = \"1\"\n",
    "toPlot = img_h[h_asString][\"21\"][:,:,z0]\n",
    "\n",
    "opt.title = f\"Synthesized image: {h_asString}, Rx = {Rx}, Tx = {Tx}\\nground range, dB  d_gr={dy}, d_az={dx}\"\n",
    "disp.disp_PoSAR_img( toPlot, opt, 0, 0, [yMin,yMax,xMax,xMin] ) # left, right, bottom, top = extent\n",
    "ax = plt.gca()\n",
    "ax.invert_xaxis()\n",
    "ax.set_aspect(\"auto\")\n",
    "ax.xaxis.set_ticks_position(\"bottom\")\n",
    "ax.yaxis.set_ticks_position(\"left\")"
   ]
  },
  {
   "cell_type": "code",
   "execution_count": null,
   "metadata": {},
   "outputs": [],
   "source": [
    "h_asString = \"171cm\"\n",
    "Rx = \"2\"\n",
    "Tx = \"1\"\n",
    "toPlot = 20 * np.log10( np.abs( img_h[h_asString][\"21\"][:,:,z0] ) )\n",
    "\n",
    "fig, ax = plt.subplots(1,1)\n",
    "im = ax.pcolor(y, x, toPlot, cmap='jet')\n",
    "dia.addColorBar( im, ax, aspect=\"equal\" )\n",
    "ax.invert_yaxis()"
   ]
  },
  {
   "cell_type": "markdown",
   "metadata": {},
   "source": [
    "## Sum"
   ]
  },
  {
   "cell_type": "code",
   "execution_count": null,
   "metadata": {},
   "outputs": [],
   "source": [
    "imgSum = np.zeros(img_h[\"171cm\"][\"21\"][x0,:,:].shape, dtype=complex)\n",
    "imgSumC = np.zeros(img_h[\"171cm\"][\"21\"][x0,:,:].shape, dtype=complex)\n",
    "amp = np.zeros(img_h[\"171cm\"][\"21\"][x0,:,:].shape, dtype=complex)\n",
    "idxx = x0\n",
    "\n",
    "for height in heights:\n",
    "    \n",
    "    path_xxx = prefix + height\n",
    "    \n",
    "    for ij in RxTx:\n",
    "        imgSum +=         img_h[height][ij][idxx,:,:]\n",
    "        amp    += np.abs( img_h[height][ij][idxx,:,:] )"
   ]
  },
  {
   "cell_type": "code",
   "execution_count": null,
   "metadata": {},
   "outputs": [],
   "source": [
    "#imgSum /= amp\n",
    "#toPlot = 20 * np.log10( np.abs( imgSum.T) )\n",
    "toPlot = np.abs( imgSum.T)\n",
    "\n",
    "fig, ax = plt.subplots(1,1)\n",
    "im = ax.pcolor(y, z, toPlot, cmap='jet')\n",
    "dia.addColorBar( im, ax, aspect=\"equal\" )"
   ]
  },
  {
   "cell_type": "code",
   "execution_count": null,
   "metadata": {},
   "outputs": [],
   "source": []
  }
 ],
 "metadata": {
  "kernelspec": {
   "display_name": "Python 3",
   "language": "python",
   "name": "python3"
  },
  "language_info": {
   "codemirror_mode": {
    "name": "ipython",
    "version": 3
   },
   "file_extension": ".py",
   "mimetype": "text/x-python",
   "name": "python",
   "nbconvert_exporter": "python",
   "pygments_lexer": "ipython3",
   "version": "3.7.1"
  },
  "toc": {
   "base_numbering": 1,
   "nav_menu": {},
   "number_sections": true,
   "sideBar": true,
   "skip_h1_title": false,
   "title_cell": "Table of Contents",
   "title_sidebar": "Contents",
   "toc_cell": false,
   "toc_position": {
    "height": "calc(100% - 180px)",
    "left": "10px",
    "top": "150px",
    "width": "290.4px"
   },
   "toc_section_display": true,
   "toc_window_display": true
  },
  "varInspector": {
   "cols": {
    "lenName": 16,
    "lenType": 16,
    "lenVar": 40
   },
   "kernels_config": {
    "python": {
     "delete_cmd_postfix": "",
     "delete_cmd_prefix": "del ",
     "library": "var_list.py",
     "varRefreshCmd": "print(var_dic_list())"
    },
    "r": {
     "delete_cmd_postfix": ") ",
     "delete_cmd_prefix": "rm(",
     "library": "var_list.r",
     "varRefreshCmd": "cat(var_dic_list()) "
    }
   },
   "types_to_exclude": [
    "module",
    "function",
    "builtin_function_or_method",
    "instance",
    "_Feature"
   ],
   "window_display": false
  }
 },
 "nbformat": 4,
 "nbformat_minor": 2
}
