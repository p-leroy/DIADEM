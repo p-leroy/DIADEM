{
 "cells": [
  {
   "cell_type": "markdown",
   "metadata": {},
   "source": [
    "# Init"
   ]
  },
  {
   "cell_type": "code",
   "execution_count": 1,
   "metadata": {},
   "outputs": [],
   "source": [
    "import time, sys, os\n",
    "%load_ext autoreload\n",
    "%autoreload 2"
   ]
  },
  {
   "cell_type": "code",
   "execution_count": 2,
   "metadata": {},
   "outputs": [],
   "source": [
    "import pickle as pk"
   ]
  },
  {
   "cell_type": "markdown",
   "metadata": {},
   "source": [
    "## Custom tools"
   ]
  },
  {
   "cell_type": "code",
   "execution_count": 3,
   "metadata": {},
   "outputs": [],
   "source": [
    "sys.path.insert(0, \"/home/pleroy/DEV/processing/PoSAR-MC\")\n",
    "import posarmctools.readdata as readdata"
   ]
  },
  {
   "cell_type": "code",
   "execution_count": 4,
   "metadata": {},
   "outputs": [],
   "source": [
    "sys.path.insert(0, \"/home/pleroy/DEV/processing/focalization_python\")\n",
    "import posarutils.process.disp_PoSAR_img as disp"
   ]
  },
  {
   "cell_type": "code",
   "execution_count": 5,
   "metadata": {},
   "outputs": [],
   "source": [
    "sys.path.insert(0, \"/home/pleroy/DEV/DIADEM\")\n",
    "import toolsdiadem.tools as dia\n",
    "import toolsdiadem.posargb as gb"
   ]
  },
  {
   "cell_type": "code",
   "execution_count": 6,
   "metadata": {},
   "outputs": [],
   "source": [
    "i_CFG = 0\n",
    "i_RD = 1\n",
    "i_CAL = 2\n",
    "i_f = 3\n",
    "\n",
    "i_x = 2\n",
    "i_y = 3\n",
    "i_z = 4\n",
    "\n",
    "# antenna locations on the plate\n",
    "Dx1   = 0.224\n",
    "Dx2   = 0.168\n",
    "h     = 0.04\n",
    "# positions of the box in x\n",
    "xMinTrail  = -1.50\n",
    "xMaxTrail  = 1.493751\n",
    "# bizona\n",
    "x_biz_offset = 0\n",
    "y_biz_offset = 6.7\n",
    "z_biz_offset = 3\n",
    "biz_offset = (x_biz_offset, y_biz_offset, z_biz_offset)\n",
    "# delay\n",
    "#delays = {'1':0.1, '2':0.12, '3':0.12, '4':0.25}\n",
    "delays = {'1':0.1, '2':0.1, '3':0.1, '4':0.1}"
   ]
  },
  {
   "cell_type": "code",
   "execution_count": 7,
   "metadata": {},
   "outputs": [],
   "source": [
    "from backprojection.loadbackprojection import *\n",
    "libraryFilename = \"/home/pleroy/DEV/processing/PoSAR-MC/backprojection/ccpp/libbackprojection/liblibbackprojection.so\"\n",
    "lib = LibBackProjection( libraryFilename )"
   ]
  },
  {
   "cell_type": "markdown",
   "metadata": {},
   "source": [
    "## Numpy"
   ]
  },
  {
   "cell_type": "code",
   "execution_count": 8,
   "metadata": {},
   "outputs": [],
   "source": [
    "import numpy as np\n",
    "import matplotlib.pyplot as plt"
   ]
  },
  {
   "cell_type": "code",
   "execution_count": 9,
   "metadata": {},
   "outputs": [],
   "source": [
    "%matplotlib qt5"
   ]
  },
  {
   "cell_type": "markdown",
   "metadata": {},
   "source": [
    "## Data paths"
   ]
  },
  {
   "cell_type": "code",
   "execution_count": 10,
   "metadata": {},
   "outputs": [],
   "source": [
    "date = \"2019_03_04\"\n",
    "base_path = \"/home/pleroy/DATA/DIADEM/lff/Bizona/\" + date\n",
    "prefix = \"sand_trunk_vol\"\n",
    "nbDir = 11\n",
    "RxTx = [\"21\", \"31\", \"32\", \"41\", \"42\", \"43\"]"
   ]
  },
  {
   "cell_type": "code",
   "execution_count": 11,
   "metadata": {},
   "outputs": [],
   "source": [
    "heights = {}\n",
    "for k in range(1, nbDir+1):\n",
    "    filename = base_path + f\"/{prefix}_{k}/PoSAR.cfg\"\n",
    "    CFG = gb.readCfg( filename )\n",
    "    heights[f\"{k}\"] = CFG[\"H_nom\"]"
   ]
  },
  {
   "cell_type": "code",
   "execution_count": 12,
   "metadata": {},
   "outputs": [
    {
     "data": {
      "text/plain": [
       "{'1': 3.41,\n",
       " '2': 3.33,\n",
       " '3': 3.25,\n",
       " '4': 3.17,\n",
       " '5': 3.09,\n",
       " '6': 3.01,\n",
       " '7': 2.93,\n",
       " '8': 2.85,\n",
       " '9': 2.77,\n",
       " '10': 2.69,\n",
       " '11': 2.61}"
      ]
     },
     "execution_count": 12,
     "metadata": {},
     "output_type": "execute_result"
    }
   ],
   "source": [
    "heights"
   ]
  },
  {
   "cell_type": "markdown",
   "metadata": {},
   "source": [
    "# Read separate files"
   ]
  },
  {
   "cell_type": "markdown",
   "metadata": {},
   "source": [
    "## Read configuration"
   ]
  },
  {
   "cell_type": "code",
   "execution_count": 13,
   "metadata": {},
   "outputs": [],
   "source": [
    "CFG = gb.readCfg( base_path + f\"/{prefix}_1/PoSAR.cfg\")"
   ]
  },
  {
   "cell_type": "code",
   "execution_count": 14,
   "metadata": {},
   "outputs": [
    {
     "data": {
      "text/plain": [
       "{'H_nom': 3.41,\n",
       " 'xamin_nom': -1.5,\n",
       " 'xamax_nom': 1.493751,\n",
       " 'Npos': 500,\n",
       " 'theta_c': 0.7853981633974483,\n",
       " 'theta_ap': 0.7853981633974483,\n",
       " 'phi_c': 0.0,\n",
       " 'phi_ap': 0.7853981633974483,\n",
       " 'Fmin': 8199999999.999999,\n",
       " 'Fmax': 12400000000.0,\n",
       " 'Nf': 4001,\n",
       " 'c': 300000000.0}"
      ]
     },
     "execution_count": 14,
     "metadata": {},
     "output_type": "execute_result"
    }
   ],
   "source": [
    "CFG"
   ]
  },
  {
   "cell_type": "code",
   "execution_count": 15,
   "metadata": {},
   "outputs": [],
   "source": [
    "Npos = CFG[\"Npos\"]"
   ]
  },
  {
   "cell_type": "markdown",
   "metadata": {},
   "source": [
    "## Read positions"
   ]
  },
  {
   "cell_type": "code",
   "execution_count": 16,
   "metadata": {},
   "outputs": [],
   "source": [
    "data_idx = 1\n",
    "ij = \"41\""
   ]
  },
  {
   "cell_type": "code",
   "execution_count": 17,
   "metadata": {},
   "outputs": [],
   "source": [
    "data_dir = f\"{prefix}_{data_idx}\"\n",
    "ant_pos = gb.readPos( base_path + f\"/{data_dir}/track_S{ij}.dat\" )"
   ]
  },
  {
   "cell_type": "code",
   "execution_count": 22,
   "metadata": {},
   "outputs": [
    {
     "data": {
      "text/plain": [
       "Text(0.5, 1.0, 'sand_trunk_vol_1\\nS41')"
      ]
     },
     "execution_count": 22,
     "metadata": {},
     "output_type": "execute_result"
    }
   ],
   "source": [
    "fig, ax = plt.subplots(1,1)\n",
    "ax.plot(ant_pos.Txx, '.-', label=f\"Txx\")\n",
    "ax.plot(ant_pos.Txy, '.-', label=f\"Txy\")\n",
    "ax.plot(ant_pos.Txz, '.-', label=f\"Txz\")\n",
    "ax.plot(ant_pos.Rxx, '.-', label=f\"Rxx\")\n",
    "ax.plot(ant_pos.Rxy, '.-', label=f\"Rxy\")\n",
    "ax.plot(ant_pos.Rxz, '.-', label=f\"Rxz\")\n",
    "ax.legend()\n",
    "ax.grid()\n",
    "title = data_dir + f\"\\nS{ij}\"\n",
    "ax.set_title(title)"
   ]
  },
  {
   "cell_type": "markdown",
   "metadata": {},
   "source": [
    "## Read data"
   ]
  },
  {
   "cell_type": "code",
   "execution_count": 19,
   "metadata": {},
   "outputs": [],
   "source": [
    "data_idx = 1\n",
    "ij = \"41\""
   ]
  },
  {
   "cell_type": "code",
   "execution_count": 20,
   "metadata": {},
   "outputs": [],
   "source": [
    "z3 = heights[f\"{data_idx}\"]\n",
    "data = gb.readData( f\"{base_path}/{prefix}_{data_idx}\", f\"S{ij}.dat\" )"
   ]
  },
  {
   "cell_type": "code",
   "execution_count": 21,
   "metadata": {},
   "outputs": [],
   "source": [
    "f_base = data[i_f] - data[i_CFG][\"Fmin\"]\n",
    "r = np.arange(f_base.size) * data[i_CFG][\"delta_sr\"]\n",
    "az = (ant_pos.Txx + ant_pos.Txz)/2"
   ]
  },
  {
   "cell_type": "code",
   "execution_count": 23,
   "metadata": {},
   "outputs": [],
   "source": [
    "coupling_RD = np.average( data[i_RD], 0 )\n",
    "ifft_RD = np.fft.ifft( data[i_RD] )"
   ]
  },
  {
   "cell_type": "code",
   "execution_count": 24,
   "metadata": {},
   "outputs": [
    {
     "data": {
      "text/plain": [
       "<matplotlib.legend.Legend at 0x7f4de00b6470>"
      ]
     },
     "execution_count": 24,
     "metadata": {},
     "output_type": "execute_result"
    }
   ],
   "source": [
    "fig, ax = plt.subplots(1,1)\n",
    "\n",
    "im = ax.plot( r, 20 * np.log10( np.abs( coupling_RD ) ), label='coupling' )\n",
    "ix = int( Npos / 2 )\n",
    "im = ax.plot( r, 20 * np.log10( np.abs( ifft_RD[ix,:] ) ), label=f'[{ij}] ifft_RD z3={z3} ix={ix}' )\n",
    "ix = 0\n",
    "im = ax.plot( r, 20 * np.log10( np.abs( ifft_RD[ix,:] ) ), label=f'[{ij}] ifft_RD z3={z3} ix={ix}' )\n",
    "ix = -1\n",
    "im = ax.plot( r, 20 * np.log10( np.abs( ifft_RD[ix,:] ) ), label=f'[{ij}] ifft_RD z3={z3} ix={ix}' )\n",
    "ax.grid()\n",
    "ax.legend()"
   ]
  },
  {
   "cell_type": "code",
   "execution_count": 25,
   "metadata": {},
   "outputs": [
    {
     "data": {
      "text/plain": [
       "(500, 4001)"
      ]
     },
     "execution_count": 25,
     "metadata": {},
     "output_type": "execute_result"
    }
   ],
   "source": [
    "ifft_RD.shape"
   ]
  },
  {
   "cell_type": "code",
   "execution_count": 26,
   "metadata": {},
   "outputs": [
    {
     "data": {
      "text/plain": [
       "Text(0.5, 0.98, '2019_03_04 sand_trunk_vol [41] z3=3.41 raw data')"
      ]
     },
     "execution_count": 26,
     "metadata": {},
     "output_type": "execute_result"
    }
   ],
   "source": [
    "fig, (ax0, ax1) = plt.subplots(1,2,sharex=True,sharey=True)\n",
    "\n",
    "im = ax0.pcolormesh( r, az, 20 * np.log10( np.abs( ifft_RD ) ), cmap='jet' )\n",
    "dia.addColorBar(im, ax0, 'auto')\n",
    "\n",
    "im = ax1.pcolormesh( r, az, np.angle( ifft_RD ), cmap='jet' )\n",
    "dia.addColorBar(im, ax1, 'auto')\n",
    "\n",
    "fig.suptitle( f\"{date} {prefix} [{ij}] z3={z3} raw data\" )"
   ]
  },
  {
   "cell_type": "markdown",
   "metadata": {},
   "source": [
    "# Build positions"
   ]
  },
  {
   "cell_type": "code",
   "execution_count": 27,
   "metadata": {},
   "outputs": [
    {
     "name": "stdout",
     "output_type": "stream",
     "text": [
      "read 500 positions in file:\n",
      "/home/pleroy/DATA/DIADEM/lff/Bizona/2019_03_04/sand_trunk_vol_1/track_S21.dat\n"
     ]
    }
   ],
   "source": [
    "data_idx = 1\n",
    "#data_path = base_path + f\"/Volume_sol_{data_idx}\"\n",
    "data_path = base_path + f\"/sand_trunk_vol_{data_idx}\"\n",
    "Npos  = CFG[\"Npos\"]\n",
    "zRail = heights[f\"{data_idx}\"]\n",
    "xyz_dic = gb.buildPos( xMinTrail, xMaxTrail, Npos, Dx1, Dx2, h, zRail )\n",
    "xyz_dicUsingTrack = gb.buildPosUsingTrack( data_path + \"/track_S\" , Dx1, Dx2, h, zRail, verbose=1, bizona=biz_offset )\n",
    "ant_pos21 = gb.readPos( data_path + \"/track_S21.dat\" )\n",
    "ant_pos43 = gb.readPos( data_path + \"/track_S43.dat\" )"
   ]
  },
  {
   "cell_type": "code",
   "execution_count": 31,
   "metadata": {},
   "outputs": [
    {
     "data": {
      "text/plain": [
       "Text(0.5, 1.0, 'positions computed')"
      ]
     },
     "execution_count": 31,
     "metadata": {},
     "output_type": "execute_result"
    }
   ],
   "source": [
    "fig, ax = plt.subplots(1,1)\n",
    "for a in [\"1\", \"2\", \"3\", \"4\"]:\n",
    "    ax.plot( xyz_dic[a][:,i_x], xyz_dic[a][:,i_z], 'o', label=f\"antenna {a}, xyz_dic\" )\n",
    "    ax.plot( xyz_dicUsingTrack[a][:,i_x], xyz_dicUsingTrack[a][:,i_z], 'x', label=f\"antenna {a}, xyz_dicUsingTrack\" )\n",
    "ax.plot( ant_pos21.Txx, ant_pos21.Txz, '.', label=\"antenna 1, ant_pos read positions\" )\n",
    "ax.plot( ant_pos21.Rxx, ant_pos21.Rxz, '.', label=\"antenna 2, ant_pos read positions\" )\n",
    "ax.plot( ant_pos43.Txx, ant_pos43.Txz, '.', label=\"antenna 3, ant_pos read positions\" )\n",
    "ax.plot( ant_pos43.Rxx, ant_pos43.Rxz, '.', label=\"antenna 4, ant_pos read positions\" )\n",
    "ax.legend()\n",
    "ax.grid()\n",
    "ax.set_title( f\"positions computed\" )"
   ]
  },
  {
   "cell_type": "code",
   "execution_count": 29,
   "metadata": {},
   "outputs": [
    {
     "data": {
      "text/plain": [
       "Text(0.5, 1.0, 'positions computed')"
      ]
     },
     "execution_count": 29,
     "metadata": {},
     "output_type": "execute_result"
    }
   ],
   "source": [
    "fig, ax = plt.subplots(1,1)\n",
    "a = \"3\"\n",
    "ax.plot( xyz_dicUsingTrack[a][:,i_x], 'o', label=f\"antenna {a}, xyz_dicUsingTrack\" )\n",
    "ax.plot( xyz_dicUsingTrack[a][:,i_y], 'o', label=f\"antenna {a}, xyz_dicUsingTrack\" )\n",
    "ax.plot( xyz_dicUsingTrack[a][:,i_z], 'o', label=f\"antenna {a}, xyz_dicUsingTrack\" )\n",
    "ax.legend()\n",
    "ax.grid()\n",
    "ax.set_title( f\"positions computed\" )"
   ]
  },
  {
   "cell_type": "code",
   "execution_count": 32,
   "metadata": {},
   "outputs": [
    {
     "data": {
      "text/plain": [
       "Text(0.5, 1.0, 'positions computed')"
      ]
     },
     "execution_count": 32,
     "metadata": {},
     "output_type": "execute_result"
    }
   ],
   "source": [
    "fig, ax = plt.subplots(1,1)\n",
    "for a in [\"1\", \"2\", \"3\", \"4\"]:\n",
    "    ax.plot( xyz_dicUsingTrack[a][:,i_x], 'o', label=f\"X antenna {a}, xyz_dicUsingTrack\" )\n",
    "    ax.plot( xyz_dicUsingTrack[a][:,i_y], 'o', label=f\"Y antenna {a}, xyz_dicUsingTrack\" )\n",
    "    ax.plot( xyz_dicUsingTrack[a][:,i_z], 'o', label=f\"Z antenna {a}, xyz_dicUsingTrack\" )\n",
    "ax.legend()\n",
    "ax.grid()\n",
    "ax.set_title( f\"positions computed\" )"
   ]
  },
  {
   "cell_type": "code",
   "execution_count": 33,
   "metadata": {},
   "outputs": [
    {
     "data": {
      "text/plain": [
       "Text(0.5, 1.0, 'positions computed')"
      ]
     },
     "execution_count": 33,
     "metadata": {},
     "output_type": "execute_result"
    }
   ],
   "source": [
    "fig, ax = plt.subplots(1,1)\n",
    "ax.plot( ant_pos.Txz, 'o', label=\"antenna 1, ant_pos read positions\" )\n",
    "ax.legend()\n",
    "ax.grid()\n",
    "ax.set_title( f\"positions computed\" )"
   ]
  },
  {
   "cell_type": "code",
   "execution_count": 34,
   "metadata": {},
   "outputs": [],
   "source": [
    "#path_1 = base_path + \"/Volume_sol_1\"\n",
    "#path_2 = base_path + \"/Volume_sol_2\"\n",
    "#path_3 = base_path + \"/Volume_sol_3\"\n",
    "\n",
    "path_1 = base_path + \"/sand_trunk_vol_1\"\n",
    "path_2 = base_path + \"/sand_trunk_vol_2\"\n",
    "path_3 = base_path + \"/sand_trunk_vol_3\"\n",
    "\n",
    "ant_pos_S21_1 = gb.readPos( path_1 + \"/track_S21.dat\" )\n",
    "ant_pos_S21_2 = gb.readPos( path_2 + \"/track_S21.dat\" )\n",
    "ant_pos_S21_3 = gb.readPos( path_3 + \"/track_S21.dat\" )\n",
    "\n",
    "z1 = heights[\"1\"]\n",
    "xyz_1 = gb.buildPosUsingTrack( path_1 + \"/track_S\" , Dx1, Dx2, h, z1 )\n",
    "z1 = heights[\"2\"]\n",
    "xyz_2 = gb.buildPosUsingTrack( path_2 + \"/track_S\" , Dx1, Dx2, h, z1 )\n",
    "z1 = heights[\"3\"]\n",
    "xyz_3 = gb.buildPosUsingTrack( path_3 + \"/track_S\" , Dx1, Dx2, h, z1 )"
   ]
  },
  {
   "cell_type": "code",
   "execution_count": 35,
   "metadata": {},
   "outputs": [
    {
     "data": {
      "text/plain": [
       "Text(0.5, 1.0, 'positions computed')"
      ]
     },
     "execution_count": 35,
     "metadata": {},
     "output_type": "execute_result"
    }
   ],
   "source": [
    "fig, ax = plt.subplots(1,1)\n",
    "\n",
    "ax.plot( ant_pos_S21_1.Txx, ant_pos_S21_1.Txz, '.', label=\"antenna 1, ant_pos_1\" )\n",
    "ax.plot( ant_pos_S21_2.Txx, ant_pos_S21_2.Txz, '.', label=\"antenna 1, ant_pos_2\" )\n",
    "ax.plot( ant_pos_S21_3.Txx, ant_pos_S21_3.Txz, '.', label=\"antenna 1, ant_pos_3\" )\n",
    "\n",
    "ax.plot( xyz_1[\"1\"][:,i_x], xyz_1[\"1\"][:,i_z], 'x', label=\"antenna 1, xyz_1\" )\n",
    "ax.plot( xyz_2[\"1\"][:,i_x], xyz_2[\"1\"][:,i_z], 'x', label=\"antenna 1, xyz_2\" )\n",
    "ax.plot( xyz_3[\"1\"][:,i_x], xyz_3[\"1\"][:,i_z], 'x', label=\"antenna 1, xyz_3\" )\n",
    "\n",
    "ax.legend()\n",
    "ax.grid()\n",
    "ax.set_title( f\"positions computed\" )"
   ]
  },
  {
   "cell_type": "markdown",
   "metadata": {},
   "source": [
    "# Focalization"
   ]
  },
  {
   "cell_type": "code",
   "execution_count": 36,
   "metadata": {},
   "outputs": [],
   "source": [
    "lib.reload()"
   ]
  },
  {
   "cell_type": "markdown",
   "metadata": {},
   "source": [
    "## Define geometry"
   ]
  },
  {
   "cell_type": "code",
   "execution_count": 37,
   "metadata": {},
   "outputs": [],
   "source": [
    "hScene = -1\n",
    "\n",
    "dx = 0.01\n",
    "dy = 0.01\n",
    "dz = 0.01\n",
    "xMin = -0.2\n",
    "xMax = -0.2\n",
    "yMin = 0\n",
    "yMax = 7\n",
    "zMin = -0.5\n",
    "zMax = 1.5\n",
    "\n",
    "x = np.arange(xMin, xMax+1e-9, dx)\n",
    "y = np.arange(yMin, yMax+1e-9, dy)\n",
    "z = np.arange(zMin, zMax+1e-9, dz)\n",
    "idx0_x = int( np.size(x)/2 )\n",
    "idx0_y = int( np.size(y)/2 )\n",
    "idx0_z = int( np.size(z)/2 )\n",
    "nbX = x.size\n",
    "nbY = y.size\n",
    "nbZ = z.size\n",
    "\n",
    "# lefg right bottom top\n",
    "extent_yz = [yMin, yMax, zMin, zMax]\n",
    "extent_yx = [yMin, yMax, xMin, xMax]"
   ]
  },
  {
   "cell_type": "code",
   "execution_count": 38,
   "metadata": {},
   "outputs": [
    {
     "data": {
      "text/plain": [
       "((1,), (701,), (201,))"
      ]
     },
     "execution_count": 38,
     "metadata": {},
     "output_type": "execute_result"
    }
   ],
   "source": [
    "x.shape, y.shape, z.shape"
   ]
  },
  {
   "cell_type": "code",
   "execution_count": 39,
   "metadata": {},
   "outputs": [
    {
     "name": "stdout",
     "output_type": "stream",
     "text": [
      "center of the scene ( -0.20, 3.50, 0.50 )\n"
     ]
    }
   ],
   "source": [
    "print( f\"center of the scene ( {np.mean(x):.2f}, {np.mean(y):.2f}, {np.mean(z):.2f} )\")"
   ]
  },
  {
   "cell_type": "markdown",
   "metadata": {},
   "source": [
    "## Backprojection"
   ]
  },
  {
   "cell_type": "code",
   "execution_count": 40,
   "metadata": {},
   "outputs": [
    {
     "name": "stdout",
     "output_type": "stream",
     "text": [
      "Nf = 4000, Naz = 500, delay = 0.2\n",
      "range from -0.20m to 142.65m, resolution = 3.571e-02m, oversampled = 3.571e-03m\n"
     ]
    }
   ],
   "source": [
    "data_idx = 1\n",
    "path_xxx = base_path + f\"/{prefix}_{data_idx}\"\n",
    "ij = \"41\"\n",
    "shiftI = delays[ij[0]]\n",
    "shiftJ = delays[ij[1]]\n",
    "d_shift = shiftI + shiftJ\n",
    "overSamplingRatio = 10\n",
    "\n",
    "read = gb.readData( path_xxx, f\"S{ij}.dat\" )\n",
    "sr = np.fft.ifftshift( read[i_RD][:,0:read[i_CFG][\"Nf\"]-1], axes=1 )\n",
    "rangeResolution = read[i_CFG][\"delta_sr\"]\n",
    "Naz = sr.shape[0]\n",
    "Nf  = sr.shape[1]\n",
    "\n",
    "Rx, Tx = ij[0], ij[1]\n",
    "z1 = heights[f\"{data_idx}\"]\n",
    "xyz_dic = gb.buildPosUsingTrack( path_xxx + \"/track_S\" , Dx1, Dx2, h, z1, bizona=biz_offset )\n",
    "xyzAntI = xyz_dic[ Rx ]\n",
    "xyzAntJ = xyz_dic[ Tx ]\n",
    "\n",
    "Nover   = overSamplingRatio * Nf\n",
    "r_base  = np.arange( Nf ) * rangeResolution - d_shift\n",
    "r_over  = np.arange( Nover ) * rangeResolution / overSamplingRatio - d_shift\n",
    "dr_over = r_over[1] - r_over[0]\n",
    "\n",
    "print( f\"Nf = {Nf}, Naz = {Naz}, delay = {d_shift}\" )\n",
    "print( f\"range from {r_over[0]:.2f}m to {r_over[-1]:.2f}m, \"\n",
    "      + f\"resolution = {rangeResolution:.3e}m, oversampled = {rangeResolution / overSamplingRatio:.3e}m\" )"
   ]
  },
  {
   "cell_type": "code",
   "execution_count": 56,
   "metadata": {},
   "outputs": [
    {
     "data": {
      "text/plain": [
       "(500, 5)"
      ]
     },
     "execution_count": 56,
     "metadata": {},
     "output_type": "execute_result"
    }
   ],
   "source": [
    "xyzAntI.shape"
   ]
  },
  {
   "cell_type": "code",
   "execution_count": 41,
   "metadata": {},
   "outputs": [],
   "source": [
    "myParameters           = MyParametersPoSAR_GB()\n",
    "myParameters.Nx        = nbX\n",
    "myParameters.Ny        = nbY\n",
    "myParameters.Nz        = nbZ\n",
    "myParameters.Nover     = r_over.size\n",
    "myParameters.dx        = dr_over\n",
    "myParameters.Naz       = Naz\n",
    "myParameters.Nf        = Nf\n",
    "myParameters.phi_a_deg = 60 # 20° => 7.4cm\n",
    "myParameters.kc        = read[i_CFG][\"kc\"]"
   ]
  },
  {
   "cell_type": "code",
   "execution_count": 42,
   "metadata": {},
   "outputs": [
    {
     "name": "stdout",
     "output_type": "stream",
     "text": [
      "focusedImg_a.shape = (1, 701, 201)\n",
      "execution time = 7.494150161743164\n"
     ]
    }
   ],
   "source": [
    "t = time.time()\n",
    "\n",
    "focusedImg_a = np.zeros( (nbX, nbY, nbZ), dtype=complex )\n",
    "print( \"focusedImg_a.shape = {}\".format( focusedImg_a.shape ) )\n",
    "\n",
    "lib.so.backProjectionOmpGroundRange_PoSAR_GB_a( x,\n",
    "                                               y,\n",
    "                                               z,\n",
    "                                               r_over,\n",
    "                                               sr.reshape(sr.size),\n",
    "                                               xyzAntI.reshape(xyzAntI.size),\n",
    "                                               xyzAntJ.reshape(xyzAntJ.size),\n",
    "                                               focusedImg_a.reshape(focusedImg_a.size),\n",
    "                                               myParameters)\n",
    "\n",
    "elapsed = time.time() - t\n",
    "print(\"execution time = \" + str(elapsed))"
   ]
  },
  {
   "cell_type": "markdown",
   "metadata": {},
   "source": [
    "## Plot focused images"
   ]
  },
  {
   "cell_type": "code",
   "execution_count": 43,
   "metadata": {},
   "outputs": [],
   "source": [
    "cmap='jet'"
   ]
  },
  {
   "cell_type": "markdown",
   "metadata": {},
   "source": [
    "### focusedImg_a"
   ]
  },
  {
   "cell_type": "markdown",
   "metadata": {},
   "source": [
    "#### yz"
   ]
  },
  {
   "cell_type": "code",
   "execution_count": 44,
   "metadata": {},
   "outputs": [],
   "source": [
    "toPlot = 20 * np.log10( np.abs( focusedImg_a[idx0_x,:,:].T ) )\n",
    "\n",
    "fig, ax = plt.subplots(1,1)\n",
    "im = ax.pcolor(y, z, toPlot, cmap=cmap)\n",
    "dia.addColorBar( im, ax, aspect=\"equal\" )"
   ]
  },
  {
   "cell_type": "code",
   "execution_count": 45,
   "metadata": {},
   "outputs": [],
   "source": [
    "toPlot = 20 * np.log10( np.abs( focusedImg_a[idx0_x,:,:].T ) )\n",
    "\n",
    "fig, ax = plt.subplots(1,1)\n",
    "im = ax.imshow(toPlot, origin='lower', cmap=cmap, extent=extent_yz)\n",
    "dia.addColorBar( im, ax, aspect=\"equal\" )"
   ]
  },
  {
   "cell_type": "code",
   "execution_count": 46,
   "metadata": {},
   "outputs": [],
   "source": [
    "from mpl_toolkits.axes_grid1 import AxesGrid"
   ]
  },
  {
   "cell_type": "code",
   "execution_count": 47,
   "metadata": {},
   "outputs": [
    {
     "name": "stderr",
     "output_type": "stream",
     "text": [
      "/home/pleroy/anaconda3/lib/python3.7/site-packages/ipykernel_launcher.py:12: UserWarning: Attempting to set identical bottom == top == -0.2 results in singular transformations; automatically expanding.\n",
      "  if sys.path[0] == '':\n"
     ]
    }
   ],
   "source": [
    "fig = plt.figure()\n",
    "grid = AxesGrid(fig, 111,  # similar to subplot(111)\n",
    "                nrows_ncols=(2, 2),\n",
    "                axes_pad=0.0,\n",
    "                share_all=True,\n",
    "                label_mode=\"L\",\n",
    "                cbar_location=\"top\",\n",
    "                cbar_mode=\"single\",\n",
    "               )\n",
    "\n",
    "for i in range(4):\n",
    "    im = grid[i].imshow(toPlot, cmap=cmap, extent = extent_yx)\n",
    "    #plt.colorbar(im, cax = grid.cbar_axes[0])\n",
    "grid.cbar_axes[0].colorbar(im)\n",
    "\n",
    "for cax in grid.cbar_axes:\n",
    "    cax.toggle_label(False)\n"
   ]
  },
  {
   "cell_type": "code",
   "execution_count": 48,
   "metadata": {},
   "outputs": [
    {
     "ename": "IndexError",
     "evalue": "index 50 is out of bounds for axis 0 with size 1",
     "output_type": "error",
     "traceback": [
      "\u001b[0;31m---------------------------------------------------------------------------\u001b[0m",
      "\u001b[0;31mIndexError\u001b[0m                                Traceback (most recent call last)",
      "\u001b[0;32m<ipython-input-48-8e94b2704243>\u001b[0m in \u001b[0;36m<module>\u001b[0;34m\u001b[0m\n\u001b[0;32m----> 1\u001b[0;31m \u001b[0mtoPlot\u001b[0m \u001b[0;34m=\u001b[0m \u001b[0;36m20\u001b[0m \u001b[0;34m*\u001b[0m \u001b[0mnp\u001b[0m\u001b[0;34m.\u001b[0m\u001b[0mlog10\u001b[0m\u001b[0;34m(\u001b[0m \u001b[0mnp\u001b[0m\u001b[0;34m.\u001b[0m\u001b[0mabs\u001b[0m\u001b[0;34m(\u001b[0m \u001b[0mfocusedImg_a\u001b[0m\u001b[0;34m[\u001b[0m\u001b[0;36m50\u001b[0m\u001b[0;34m,\u001b[0m\u001b[0;34m:\u001b[0m\u001b[0;34m,\u001b[0m\u001b[0;34m:\u001b[0m\u001b[0;34m]\u001b[0m\u001b[0;34m.\u001b[0m\u001b[0mT\u001b[0m \u001b[0;34m)\u001b[0m \u001b[0;34m)\u001b[0m\u001b[0;34m\u001b[0m\u001b[0;34m\u001b[0m\u001b[0m\n\u001b[0m\u001b[1;32m      2\u001b[0m \u001b[0;34m\u001b[0m\u001b[0m\n\u001b[1;32m      3\u001b[0m \u001b[0mfig\u001b[0m\u001b[0;34m,\u001b[0m \u001b[0max\u001b[0m \u001b[0;34m=\u001b[0m \u001b[0mplt\u001b[0m\u001b[0;34m.\u001b[0m\u001b[0msubplots\u001b[0m\u001b[0;34m(\u001b[0m\u001b[0;36m1\u001b[0m\u001b[0;34m,\u001b[0m\u001b[0;36m1\u001b[0m\u001b[0;34m)\u001b[0m\u001b[0;34m\u001b[0m\u001b[0;34m\u001b[0m\u001b[0m\n\u001b[1;32m      4\u001b[0m \u001b[0mim\u001b[0m \u001b[0;34m=\u001b[0m \u001b[0max\u001b[0m\u001b[0;34m.\u001b[0m\u001b[0mpcolor\u001b[0m\u001b[0;34m(\u001b[0m\u001b[0my\u001b[0m\u001b[0;34m,\u001b[0m \u001b[0mz\u001b[0m\u001b[0;34m,\u001b[0m \u001b[0mtoPlot\u001b[0m\u001b[0;34m,\u001b[0m \u001b[0mcmap\u001b[0m\u001b[0;34m=\u001b[0m\u001b[0mcmap\u001b[0m\u001b[0;34m)\u001b[0m\u001b[0;34m\u001b[0m\u001b[0;34m\u001b[0m\u001b[0m\n\u001b[1;32m      5\u001b[0m \u001b[0mdia\u001b[0m\u001b[0;34m.\u001b[0m\u001b[0maddColorBar\u001b[0m\u001b[0;34m(\u001b[0m \u001b[0mim\u001b[0m\u001b[0;34m,\u001b[0m \u001b[0max\u001b[0m\u001b[0;34m,\u001b[0m \u001b[0maspect\u001b[0m\u001b[0;34m=\u001b[0m\u001b[0;34m\"auto\"\u001b[0m \u001b[0;34m)\u001b[0m\u001b[0;34m\u001b[0m\u001b[0;34m\u001b[0m\u001b[0m\n",
      "\u001b[0;31mIndexError\u001b[0m: index 50 is out of bounds for axis 0 with size 1"
     ]
    }
   ],
   "source": [
    "toPlot = 20 * np.log10( np.abs( focusedImg_a[50,:,:].T ) )\n",
    "\n",
    "fig, ax = plt.subplots(1,1)\n",
    "im = ax.pcolor(y, z, toPlot, cmap=cmap)\n",
    "dia.addColorBar( im, ax, aspect=\"auto\" )"
   ]
  },
  {
   "cell_type": "markdown",
   "metadata": {},
   "source": [
    "#### yx"
   ]
  },
  {
   "cell_type": "code",
   "execution_count": 49,
   "metadata": {},
   "outputs": [
    {
     "name": "stderr",
     "output_type": "stream",
     "text": [
      "/home/pleroy/anaconda3/lib/python3.7/site-packages/ipykernel_launcher.py:4: UserWarning: Attempting to set identical bottom == top == -0.2 results in singular transformations; automatically expanding.\n",
      "  after removing the cwd from sys.path.\n"
     ]
    },
    {
     "data": {
      "text/plain": [
       "Text(0.5, 1.0, '2019_03_04 41, delay = 0.2')"
      ]
     },
     "execution_count": 49,
     "metadata": {},
     "output_type": "execute_result"
    }
   ],
   "source": [
    "toPlot = 20 * np.log10( np.abs( focusedImg_a[:,:,0] ) )\n",
    "\n",
    "fig, ax = plt.subplots(1,1)\n",
    "im = ax.imshow(toPlot, origin='lower', cmap=cmap, extent=extent_yx)\n",
    "dia.addColorBar( im, ax, aspect=\"equal\" )\n",
    "title = date + f\" {ij}, delay = {d_shift}\"\n",
    "ax.set_title(title)"
   ]
  },
  {
   "cell_type": "code",
   "execution_count": 50,
   "metadata": {},
   "outputs": [
    {
     "name": "stdout",
     "output_type": "stream",
     "text": [
      "db 1\n",
      "mod 0\n",
      "med_dyn 100\n",
      "cmap jet\n",
      "title Synthesized image: hRail = 3.41, Rx = 4, Tx = 1\n",
      "ground range, dB  d_gr=0.01, d_az=0.01\n"
     ]
    },
    {
     "name": "stderr",
     "output_type": "stream",
     "text": [
      "/home/pleroy/DEV/processing/focalization_python/posarutils/process/disp_PoSAR_img.py:46: UserWarning: Attempting to set identical bottom == top == -0.2 results in singular transformations; automatically expanding.\n",
      "  plt.imshow( disp_im, extent=im_extent, cmap=cmap )\n"
     ]
    }
   ],
   "source": [
    "opt = disp.OPTt()\n",
    "opt.db = 1\n",
    "opt.med_dyn = 100\n",
    "opt.title = f\"Synthesized image: hRail = {z1}, Rx = {Rx}, Tx = {Tx}\\nground range, dB  d_gr={dy}, d_az={dx}\"\n",
    "disp.disp_PoSAR_img( focusedImg_a[:,:,0], opt, 0, 0, [yMin,yMax,xMax,xMin] ) # left, right, bottom, top = extent\n",
    "ax = plt.gca()\n",
    "ax.invert_xaxis()\n",
    "ax.set_aspect(\"equal\")\n",
    "ax.yaxis.set_ticks_position(\"left\")"
   ]
  },
  {
   "cell_type": "markdown",
   "metadata": {},
   "source": [
    "# Process all"
   ]
  },
  {
   "cell_type": "code",
   "execution_count": 51,
   "metadata": {},
   "outputs": [],
   "source": [
    "lib.reload()"
   ]
  },
  {
   "cell_type": "markdown",
   "metadata": {},
   "source": [
    "## Define geometry"
   ]
  },
  {
   "cell_type": "code",
   "execution_count": 52,
   "metadata": {},
   "outputs": [],
   "source": [
    "hScene = -1\n",
    "\n",
    "dx = 0.01\n",
    "dy = 0.01\n",
    "dz = 0.01\n",
    "xMin = -0.2\n",
    "xMax = -0.2\n",
    "yMin = 0\n",
    "yMax = 7\n",
    "zMin = -0.5\n",
    "zMax = 1.5\n",
    "\n",
    "imgGeom = (xMin, xMax, dx, yMin, yMax, dy, zMin, zMax, dz)\n",
    "\n",
    "x = np.arange(xMin, xMax+1e-9, dx)\n",
    "y = np.arange(yMin, yMax+1e-9, dy)\n",
    "z = np.arange(zMin, zMax+1e-9, dz)\n",
    "idx0_x = int( np.size(x)/2 )\n",
    "idx0_y = int( np.size(y)/2 )\n",
    "idx0_z = int( np.size(z)/2 )\n",
    "nbX = x.size\n",
    "nbY = y.size\n",
    "nbZ = z.size\n",
    "\n",
    "# lefg right bottom top\n",
    "extent_yz = [yMin, yMax, zMin, zMax]\n",
    "extent_yx = [yMin, yMax, xMin, xMax]"
   ]
  },
  {
   "cell_type": "code",
   "execution_count": 53,
   "metadata": {},
   "outputs": [],
   "source": [
    "x_biz_offset = 0\n",
    "y_biz_offset = 6.40\n",
    "z_biz_offset = 3\n",
    "biz_offset = (x_biz_offset, y_biz_offset, z_biz_offset)"
   ]
  },
  {
   "cell_type": "code",
   "execution_count": 54,
   "metadata": {},
   "outputs": [],
   "source": [
    "myParameters           = MyParametersPoSAR_GB()\n",
    "myParameters.Nx        = nbX\n",
    "myParameters.Ny        = nbY\n",
    "myParameters.Nz        = nbZ\n",
    "myParameters.phi_a_deg = 60 # 10° => 4.3cm"
   ]
  },
  {
   "cell_type": "code",
   "execution_count": 55,
   "metadata": {},
   "outputs": [
    {
     "name": "stdout",
     "output_type": "stream",
     "text": [
      "focusedImg.shape = (1, 701, 201)\n",
      "read 500 positions in file:\n",
      "/home/pleroy/DATA/DIADEM/lff/Bizona/2019_03_04/sand_trunk_vol_1/track_S21.dat\n",
      "z1 = 3.41\n",
      "hAver = 3.470, (Rx,Tx) = (2,1), execution time = 7.4, delay = 0.200\n",
      "hAver = 3.450, (Rx,Tx) = (3,1), execution time = 7.3, delay = 0.200\n",
      "hAver = 3.430, (Rx,Tx) = (3,2), execution time = 7.3, delay = 0.200\n",
      "hAver = 3.245, (Rx,Tx) = (4,1), execution time = 7.4, delay = 0.200\n",
      "hAver = 3.225, (Rx,Tx) = (4,2), execution time = 7.5, delay = 0.200\n",
      "hAver = 3.205, (Rx,Tx) = (4,3), execution time = 7.3, delay = 0.200\n",
      "read 500 positions in file:\n",
      "/home/pleroy/DATA/DIADEM/lff/Bizona/2019_03_04/sand_trunk_vol_2/track_S21.dat\n",
      "z1 = 3.33\n",
      "hAver = 3.390, (Rx,Tx) = (2,1), execution time = 7.4, delay = 0.200\n",
      "hAver = 3.370, (Rx,Tx) = (3,1), execution time = 7.3, delay = 0.200\n",
      "hAver = 3.350, (Rx,Tx) = (3,2), execution time = 7.3, delay = 0.200\n",
      "hAver = 3.205, (Rx,Tx) = (4,1), execution time = 7.4, delay = 0.200\n",
      "hAver = 3.185, (Rx,Tx) = (4,2), execution time = 7.3, delay = 0.200\n",
      "hAver = 3.165, (Rx,Tx) = (4,3), execution time = 7.3, delay = 0.200\n",
      "read 500 positions in file:\n",
      "/home/pleroy/DATA/DIADEM/lff/Bizona/2019_03_04/sand_trunk_vol_3/track_S21.dat\n",
      "z1 = 3.25\n",
      "hAver = 3.310, (Rx,Tx) = (2,1), execution time = 7.3, delay = 0.200\n",
      "hAver = 3.290, (Rx,Tx) = (3,1), execution time = 7.2, delay = 0.200\n",
      "hAver = 3.270, (Rx,Tx) = (3,2), execution time = 7.2, delay = 0.200\n",
      "hAver = 3.165, (Rx,Tx) = (4,1), execution time = 7.4, delay = 0.200\n",
      "hAver = 3.145, (Rx,Tx) = (4,2), execution time = 7.6, delay = 0.200\n",
      "hAver = 3.125, (Rx,Tx) = (4,3), execution time = 7.2, delay = 0.200\n",
      "read 500 positions in file:\n",
      "/home/pleroy/DATA/DIADEM/lff/Bizona/2019_03_04/sand_trunk_vol_4/track_S21.dat\n",
      "z1 = 3.17\n",
      "hAver = 3.230, (Rx,Tx) = (2,1), execution time = 7.3, delay = 0.200\n",
      "hAver = 3.210, (Rx,Tx) = (3,1), execution time = 7.3, delay = 0.200\n",
      "hAver = 3.190, (Rx,Tx) = (3,2), execution time = 7.3, delay = 0.200\n",
      "hAver = 3.125, (Rx,Tx) = (4,1), execution time = 7.4, delay = 0.200\n",
      "hAver = 3.105, (Rx,Tx) = (4,2), execution time = 7.3, delay = 0.200\n",
      "hAver = 3.085, (Rx,Tx) = (4,3), execution time = 7.2, delay = 0.200\n",
      "read 500 positions in file:\n",
      "/home/pleroy/DATA/DIADEM/lff/Bizona/2019_03_04/sand_trunk_vol_5/track_S21.dat\n",
      "z1 = 3.09\n",
      "hAver = 3.150, (Rx,Tx) = (2,1), execution time = 7.3, delay = 0.200\n",
      "hAver = 3.130, (Rx,Tx) = (3,1), execution time = 7.2, delay = 0.200\n",
      "hAver = 3.110, (Rx,Tx) = (3,2), execution time = 7.2, delay = 0.200\n",
      "hAver = 3.085, (Rx,Tx) = (4,1), execution time = 7.3, delay = 0.200\n",
      "hAver = 3.065, (Rx,Tx) = (4,2), execution time = 7.3, delay = 0.200\n",
      "hAver = 3.045, (Rx,Tx) = (4,3), execution time = 7.2, delay = 0.200\n",
      "read 500 positions in file:\n",
      "/home/pleroy/DATA/DIADEM/lff/Bizona/2019_03_04/sand_trunk_vol_6/track_S21.dat\n",
      "z1 = 3.01\n",
      "hAver = 3.070, (Rx,Tx) = (2,1), execution time = 7.5, delay = 0.200\n",
      "hAver = 3.050, (Rx,Tx) = (3,1), execution time = 7.2, delay = 0.200\n",
      "hAver = 3.030, (Rx,Tx) = (3,2), execution time = 7.2, delay = 0.200\n",
      "hAver = 3.045, (Rx,Tx) = (4,1), execution time = 7.4, delay = 0.200\n",
      "hAver = 3.025, (Rx,Tx) = (4,2), execution time = 7.3, delay = 0.200\n",
      "hAver = 3.005, (Rx,Tx) = (4,3), execution time = 7.2, delay = 0.200\n",
      "read 500 positions in file:\n",
      "/home/pleroy/DATA/DIADEM/lff/Bizona/2019_03_04/sand_trunk_vol_7/track_S21.dat\n",
      "z1 = 2.93\n",
      "hAver = 2.990, (Rx,Tx) = (2,1), execution time = 7.3, delay = 0.200\n",
      "hAver = 2.970, (Rx,Tx) = (3,1), execution time = 7.2, delay = 0.200\n",
      "hAver = 2.950, (Rx,Tx) = (3,2), execution time = 7.2, delay = 0.200\n",
      "hAver = 3.005, (Rx,Tx) = (4,1), execution time = 7.3, delay = 0.200\n",
      "hAver = 2.985, (Rx,Tx) = (4,2), execution time = 7.3, delay = 0.200\n",
      "hAver = 2.965, (Rx,Tx) = (4,3), execution time = 7.2, delay = 0.200\n",
      "read 500 positions in file:\n",
      "/home/pleroy/DATA/DIADEM/lff/Bizona/2019_03_04/sand_trunk_vol_8/track_S21.dat\n",
      "z1 = 2.85\n",
      "hAver = 2.910, (Rx,Tx) = (2,1), execution time = 7.2, delay = 0.200\n",
      "hAver = 2.890, (Rx,Tx) = (3,1), execution time = 7.1, delay = 0.200\n",
      "hAver = 2.870, (Rx,Tx) = (3,2), execution time = 7.1, delay = 0.200\n",
      "hAver = 2.965, (Rx,Tx) = (4,1), execution time = 7.3, delay = 0.200\n",
      "hAver = 2.945, (Rx,Tx) = (4,2), execution time = 7.5, delay = 0.200\n",
      "hAver = 2.925, (Rx,Tx) = (4,3), execution time = 7.1, delay = 0.200\n",
      "read 500 positions in file:\n",
      "/home/pleroy/DATA/DIADEM/lff/Bizona/2019_03_04/sand_trunk_vol_9/track_S21.dat\n",
      "z1 = 2.77\n",
      "hAver = 2.830, (Rx,Tx) = (2,1), execution time = 7.2, delay = 0.200\n",
      "hAver = 2.810, (Rx,Tx) = (3,1), execution time = 7.1, delay = 0.200\n",
      "hAver = 2.790, (Rx,Tx) = (3,2), execution time = 7.1, delay = 0.200\n",
      "hAver = 2.925, (Rx,Tx) = (4,1), execution time = 7.3, delay = 0.200\n",
      "hAver = 2.905, (Rx,Tx) = (4,2), execution time = 7.2, delay = 0.200\n",
      "hAver = 2.885, (Rx,Tx) = (4,3), execution time = 7.1, delay = 0.200\n",
      "read 500 positions in file:\n",
      "/home/pleroy/DATA/DIADEM/lff/Bizona/2019_03_04/sand_trunk_vol_10/track_S21.dat\n",
      "z1 = 2.69\n",
      "hAver = 2.750, (Rx,Tx) = (2,1), execution time = 7.1, delay = 0.200\n",
      "hAver = 2.730, (Rx,Tx) = (3,1), execution time = 7.0, delay = 0.200\n",
      "hAver = 2.710, (Rx,Tx) = (3,2), execution time = 7.0, delay = 0.200\n",
      "hAver = 2.885, (Rx,Tx) = (4,1), execution time = 7.3, delay = 0.200\n",
      "hAver = 2.865, (Rx,Tx) = (4,2), execution time = 7.2, delay = 0.200\n",
      "hAver = 2.845, (Rx,Tx) = (4,3), execution time = 7.1, delay = 0.200\n",
      "read 500 positions in file:\n",
      "/home/pleroy/DATA/DIADEM/lff/Bizona/2019_03_04/sand_trunk_vol_11/track_S21.dat\n",
      "z1 = 2.61\n",
      "hAver = 2.670, (Rx,Tx) = (2,1), execution time = 7.1, delay = 0.200\n",
      "hAver = 2.650, (Rx,Tx) = (3,1), execution time = 7.0, delay = 0.200\n",
      "hAver = 2.630, (Rx,Tx) = (3,2), execution time = 7.0, delay = 0.200\n",
      "hAver = 2.845, (Rx,Tx) = (4,1), execution time = 7.4, delay = 0.200\n",
      "hAver = 2.825, (Rx,Tx) = (4,2), execution time = 7.2, delay = 0.200\n",
      "hAver = 2.805, (Rx,Tx) = (4,3), execution time = 7.1, delay = 0.200\n"
     ]
    }
   ],
   "source": [
    "overSamplingRatio = 10\n",
    "\n",
    "img_h = {}\n",
    "\n",
    "print( f\"focusedImg.shape = ({nbX}, {nbY}, {nbZ})\")\n",
    "\n",
    "for data_idx in range(1, nbDir+1):\n",
    "    \n",
    "    path_xxx = base_path + f\"/{prefix}_{data_idx}\"\n",
    "    z1 = heights[f\"{data_idx}\"]\n",
    "    xyz_dic = gb.buildPosUsingTrack( path_xxx + \"/track_S\" , Dx1, Dx2, h, z1, verbose=1, bizona=biz_offset )\n",
    "    print( f\"z1 = {z1}\" )\n",
    "    \n",
    "    img_ij = {}\n",
    "    \n",
    "    for ij in RxTx:\n",
    "\n",
    "        Rx, Tx = ij[0], ij[1]\n",
    "        xyzRx = xyz_dic[ Rx ]\n",
    "        xyzTx = xyz_dic[ Tx ]\n",
    "        hAver = ( xyzRx[0,i_z] + xyzTx[0,i_z] ) / 2\n",
    "    \n",
    "        read = gb.readData( path_xxx, f\"S{ij}.dat\" )\n",
    "        \n",
    "        sr = np.fft.fftshift( read[i_RD][:,0:read[i_CFG][\"Nf\"]-1], axes=1 )\n",
    "        rangeResolution = read[i_CFG][\"delta_sr\"]\n",
    "        Naz = sr.shape[0]\n",
    "        Nf  = sr.shape[1]\n",
    "    \n",
    "        Nover   = overSamplingRatio * Nf\n",
    "        shiftI = delays[ij[0]]\n",
    "        shiftJ = delays[ij[1]]\n",
    "        d_shift = shiftI + shiftJ\n",
    "        r_base  = np.arange( Nf ) * rangeResolution - d_shift\n",
    "        r_over  = np.arange( Nover ) * rangeResolution / overSamplingRatio - d_shift\n",
    "        dr_over = r_over[1] - r_over[0]\n",
    "    \n",
    "        myParameters.Nover     = r_over.size\n",
    "        myParameters.dx        = dr_over\n",
    "        myParameters.Naz       = Naz\n",
    "        myParameters.Nf        = Nf\n",
    "        myParameters.kc        = read[i_CFG][\"kc\"]\n",
    "    \n",
    "        t = time.time()\n",
    "    \n",
    "        focusedImg  = np.zeros( (nbX, nbY, nbZ), dtype=complex )\n",
    "        \n",
    "        lib.so.backProjectionOmpGroundRange_PoSAR_GB_a( x,\n",
    "                                                       y,\n",
    "                                                       z,\n",
    "                                                       r_over,\n",
    "                                                       sr.reshape(sr.size),\n",
    "                                                       xyzRx.reshape(xyzRx.size),\n",
    "                                                       xyzTx.reshape(xyzTx.size),\n",
    "                                                       focusedImg.reshape(focusedImg.size),\n",
    "                                                       myParameters)\n",
    "\n",
    "        elapsed = time.time() - t\n",
    "        print( f\"hAver = {hAver:.3f}, (Rx,Tx) = ({Rx},{Tx}), execution time = {elapsed:.1f}, delay = {d_shift:.3f}\")\n",
    "        img_ij[ij] = focusedImg\n",
    "    img_h[z1] = img_ij"
   ]
  },
  {
   "cell_type": "markdown",
   "metadata": {},
   "source": [
    "## save images"
   ]
  },
  {
   "cell_type": "code",
   "execution_count": null,
   "metadata": {},
   "outputs": [],
   "source": [
    "if z.size == 1:\n",
    "    for idx in heights:\n",
    "        hRef = heights[idx]\n",
    "        print(hRef)\n",
    "        with open(base_path + f\"/{date}_hRef{hRef:.3f}_z{zMin:.3f}.dat\", 'wb') as file:\n",
    "            pk.dump((imgGeom, img_h[hRef]), file)\n",
    "if x.size == 1:\n",
    "    try:\n",
    "        newDir = base_path + f\"/x{xMin:.3f}\"\n",
    "        # Create target Directory\n",
    "        os.mkdir(newDir)\n",
    "        print( \"Directory \" , newDir, \" Created \" ) \n",
    "    except FileExistsError:\n",
    "        print( \"Directory \" , newDir, \" already exists\" )\n",
    "    for idx in heights:\n",
    "        hRef = heights[idx]\n",
    "        print(hRef)\n",
    "        filename = newDir + f\"/hRef{hRef:.3f}-{x_biz_offset:.2f}-{y_biz_offset:.2f}-{z_biz_offset:.2f}.dat\"\n",
    "        with open( filename, 'wb' ) as file:\n",
    "            pk.dump((imgGeom, img_h[hRef]), file)\n",
    "else:\n",
    "    for idx in heights:\n",
    "        hRef = heights[idx]\n",
    "        print(hRef)\n",
    "        with open(base_path + f\"/{date}_hRef{hRef:.3f}_x{xMin:.3f}_{xMax:.3f}.dat\", 'wb') as file:\n",
    "            pk.dump((imgGeom, img_h[hRef]), file)"
   ]
  },
  {
   "cell_type": "markdown",
   "metadata": {},
   "source": [
    "# Process all tomo 3D"
   ]
  },
  {
   "cell_type": "markdown",
   "metadata": {},
   "source": [
    "## Define geometry"
   ]
  },
  {
   "cell_type": "code",
   "execution_count": null,
   "metadata": {},
   "outputs": [],
   "source": [
    "hScene = -1\n",
    "\n",
    "dx = 0.01\n",
    "dy = 0.01\n",
    "dz = 0.01\n",
    "xMin = -1.5\n",
    "xMax = 1.5\n",
    "yMin = 0\n",
    "yMax = 7\n",
    "zMin = 0.0\n",
    "zMax = 0.0\n",
    "\n",
    "imgGeom = (xMin, xMax, dx, yMin, yMax, dy, zMin, zMax, dz)\n",
    "\n",
    "x = np.arange(xMin, xMax+1e-9, dx)\n",
    "y = np.arange(yMin, yMax+1e-9, dy)\n",
    "z = np.arange(zMin, zMax+1e-9, dz)\n",
    "idx0_x = int( np.size(x)/2 )\n",
    "idx0_y = int( np.size(y)/2 )\n",
    "idx0_z = int( np.size(z)/2 )\n",
    "nbX = x.size\n",
    "nbY = y.size\n",
    "nbZ = z.size\n",
    "\n",
    "# lefg right bottom top\n",
    "extent_yz = [yMin, yMax, zMin, zMax]\n",
    "extent_yx = [yMin, yMax, xMin, xMax]"
   ]
  },
  {
   "cell_type": "markdown",
   "metadata": {},
   "source": [
    "## Focusing"
   ]
  },
  {
   "cell_type": "code",
   "execution_count": null,
   "metadata": {},
   "outputs": [],
   "source": [
    "myParameters           = MyParametersPoSAR_GB()\n",
    "myParameters.Nx        = nbX\n",
    "myParameters.Ny        = nbY\n",
    "myParameters.Nz        = nbZ\n",
    "myParameters.phi_a_deg = 60 # 10° => 4.3cm"
   ]
  },
  {
   "cell_type": "code",
   "execution_count": null,
   "metadata": {},
   "outputs": [],
   "source": [
    "overSamplingRatio = 10\n",
    "\n",
    "img_h = {}\n",
    "\n",
    "imgMono  = np.zeros((nbX, nbY, nbZ), dtype=complex)\n",
    "imgBi    = np.zeros((nbX, nbY, nbZ), dtype=complex)\n",
    "averMono = 0\n",
    "averBi   = 0\n",
    "\n",
    "print( f\"focusedImg.shape = ({nbX}, {nbY}, {nbZ})\")\n",
    "\n",
    "for data_idx in range(1, nbDir+1):\n",
    "    \n",
    "    path_xxx = base_path + f\"/{prefix}_{data_idx}\"\n",
    "    z3 = heights[f\"{data_idx}\"]\n",
    "    xyz_dic = gb.buildPosUsingTrack( path_xxx + \"/track_S\" , Dx1, Dx2, h, z3, verbose=1, bizona=biz_offset )\n",
    "    print( f\"z3 = {z3}\" )\n",
    "    \n",
    "    img_ij = {}\n",
    "    \n",
    "    for ij in RxTx:\n",
    "\n",
    "        Rx, Tx = ij[0], ij[1]\n",
    "        xyzRx = xyz_dic[ Rx ]\n",
    "        xyzTx = xyz_dic[ Tx ]\n",
    "        hAver = ( xyzRx[0,i_z] + xyzTx[0,i_z] ) / 2\n",
    "    \n",
    "        read = gb.readData( path_xxx, f\"S{ij}.dat\" )\n",
    "        \n",
    "        sr = np.fft.fftshift( read[i_RD][:,0:read[i_CFG][\"Nf\"]-1], axes=1 )\n",
    "        rangeResolution = read[i_CFG][\"delta_sr\"]\n",
    "        Naz = sr.shape[0]\n",
    "        Nf  = sr.shape[1]\n",
    "    \n",
    "        Nover   = overSamplingRatio * Nf\n",
    "        shiftI = delays[ij[0]]\n",
    "        shiftJ = delays[ij[1]]\n",
    "        d_shift = shiftI + shiftJ\n",
    "        r_base  = np.arange( Nf ) * rangeResolution - d_shift\n",
    "        r_over  = np.arange( Nover ) * rangeResolution / overSamplingRatio - d_shift\n",
    "        dr_over = r_over[1] - r_over[0]\n",
    "    \n",
    "        myParameters.Nover     = r_over.size\n",
    "        myParameters.dx        = dr_over\n",
    "        myParameters.Naz       = Naz\n",
    "        myParameters.Nf        = Nf\n",
    "        myParameters.kc        = read[i_CFG][\"kc\"]\n",
    "    \n",
    "        t = time.time()\n",
    "    \n",
    "        focusedImg  = np.zeros( (nbX, nbY, nbZ), dtype=complex )\n",
    "        \n",
    "        lib.so.backProjectionOmpGroundRange_PoSAR_GB_a( x,\n",
    "                                                       y,\n",
    "                                                       z,\n",
    "                                                       r_over,\n",
    "                                                       sr.reshape(sr.size),\n",
    "                                                       xyzRx.reshape(xyzRx.size),\n",
    "                                                       xyzTx.reshape(xyzTx.size),\n",
    "                                                       focusedImg.reshape(focusedImg.size),\n",
    "                                                       myParameters)\n",
    "\n",
    "        elapsed = time.time() - t\n",
    "        print( f\"hAver = {hAver:.3f}, (Rx,Tx) = ({Rx},{Tx}), execution time = {elapsed:.1f}, delay = {d_shift:.3f}\")\n",
    "        if ij in [\"21\", \"31\", \"32\"]:\n",
    "            imgMono  += focusedImg\n",
    "            averMono += 1\n",
    "        if ij in [\"41\", \"42\", \"43\"]:\n",
    "            if z3 != heights['1']:\n",
    "                if ij != \"41\":\n",
    "                    imgBi  += focusedImg\n",
    "                    averBi += 1\n",
    "            else:\n",
    "                imgBi  += focusedImg\n",
    "                averBi += 1\n",
    "imgBi   /= averBi\n",
    "imgMono /= averMono"
   ]
  },
  {
   "cell_type": "code",
   "execution_count": null,
   "metadata": {},
   "outputs": [],
   "source": [
    "with open(base_path + f\"/{date}_3D_mono.dat\", 'wb') as file:\n",
    "    pk.dump((imgGeom, imgMono), file)\n",
    "with open(base_path + f\"/{date}_3D_bi.dat\", 'wb') as file:\n",
    "    pk.dump((imgGeom, imgBi), file)"
   ]
  },
  {
   "cell_type": "code",
   "execution_count": null,
   "metadata": {},
   "outputs": [],
   "source": [
    "with open(base_path + f\"/{date}_3D_mono_{imgMono.dtype}.bin\", 'wb') as file:\n",
    "    imgMono.tofile( file )\n",
    "with open(base_path + f\"/{date}_3D_bi_{imgBi.dtype}.bin\", 'wb') as file:\n",
    "    imgBi.tofile( file )"
   ]
  },
  {
   "cell_type": "markdown",
   "metadata": {},
   "source": [
    "## Plot tomo mono"
   ]
  },
  {
   "cell_type": "code",
   "execution_count": null,
   "metadata": {},
   "outputs": [],
   "source": [
    "toPlot = 20 * np.log10( np.abs( np.squeeze(imgMono) ).T )\n",
    "fig, ax = plt.subplots(1,1)\n",
    "im = ax.imshow(toPlot, cmap='jet', origin='lower', extent=extent_yz)\n",
    "dia.addColorBar( im, ax, aspect=\"equal\" )\n",
    "title = f\"{date} {prefix}\\nmonostatic x = {x[idx0_x]:.2f}\"\n",
    "ax.set_title(title)"
   ]
  },
  {
   "cell_type": "markdown",
   "metadata": {},
   "source": [
    "## Plot tomo bi"
   ]
  },
  {
   "cell_type": "code",
   "execution_count": null,
   "metadata": {},
   "outputs": [],
   "source": [
    "toPlot = 20 * np.log10( np.abs( np.squeeze( imgBi ) ).T )\n",
    "fig, ax = plt.subplots(1,1)\n",
    "im = ax.imshow(toPlot, cmap='jet', origin='lower', extent=extent_yz )\n",
    "dia.addColorBar( im, ax, aspect=\"equal\" )\n",
    "title = f\"{date} {prefix}\\nbistatic x = {x[idx0_x]:.2f}\"\n",
    "ax.set_title(title)"
   ]
  },
  {
   "cell_type": "code",
   "execution_count": null,
   "metadata": {},
   "outputs": [],
   "source": []
  }
 ],
 "metadata": {
  "kernelspec": {
   "display_name": "Python 3",
   "language": "python",
   "name": "python3"
  },
  "language_info": {
   "codemirror_mode": {
    "name": "ipython",
    "version": 3
   },
   "file_extension": ".py",
   "mimetype": "text/x-python",
   "name": "python",
   "nbconvert_exporter": "python",
   "pygments_lexer": "ipython3",
   "version": "3.7.3"
  },
  "toc": {
   "base_numbering": 1,
   "nav_menu": {},
   "number_sections": true,
   "sideBar": true,
   "skip_h1_title": false,
   "title_cell": "Table of Contents",
   "title_sidebar": "Contents",
   "toc_cell": false,
   "toc_position": {
    "height": "calc(100% - 180px)",
    "left": "10px",
    "top": "150px",
    "width": "290.4px"
   },
   "toc_section_display": true,
   "toc_window_display": true
  },
  "varInspector": {
   "cols": {
    "lenName": 16,
    "lenType": 16,
    "lenVar": 40
   },
   "kernels_config": {
    "python": {
     "delete_cmd_postfix": "",
     "delete_cmd_prefix": "del ",
     "library": "var_list.py",
     "varRefreshCmd": "print(var_dic_list())"
    },
    "r": {
     "delete_cmd_postfix": ") ",
     "delete_cmd_prefix": "rm(",
     "library": "var_list.r",
     "varRefreshCmd": "cat(var_dic_list()) "
    }
   },
   "oldHeight": 122.85,
   "position": {
    "height": "371.85px",
    "left": "1298px",
    "right": "53px",
    "top": "190px",
    "width": "366px"
   },
   "types_to_exclude": [
    "module",
    "function",
    "builtin_function_or_method",
    "instance",
    "_Feature"
   ],
   "varInspector_section_display": "block",
   "window_display": false
  }
 },
 "nbformat": 4,
 "nbformat_minor": 2
}
