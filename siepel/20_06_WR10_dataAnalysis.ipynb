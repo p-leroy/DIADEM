{
 "cells": [
  {
   "cell_type": "markdown",
   "metadata": {},
   "source": [
    "# Init"
   ]
  },
  {
   "cell_type": "code",
   "execution_count": 1,
   "metadata": {},
   "outputs": [],
   "source": [
    "import configparser, sys\n",
    "\n",
    "import numpy as np\n",
    "import matplotlib.pyplot as plt\n",
    "from scipy.signal import kaiser\n",
    "\n",
    "sys.path.insert(0, \"../\")\n",
    "import toolsdiadem.tools as dia\n",
    "import toolsdiadem.ser as ser\n",
    "from toolsdiadem.ConfigSer import ConfigSer\n",
    "from toolsdiadem.Gate import Gate"
   ]
  },
  {
   "cell_type": "code",
   "execution_count": 2,
   "metadata": {},
   "outputs": [],
   "source": [
    "%matplotlib qt5\n",
    "%load_ext autoreload\n",
    "%autoreload 2"
   ]
  },
  {
   "cell_type": "code",
   "execution_count": 67,
   "metadata": {},
   "outputs": [
    {
     "name": "stdout",
     "output_type": "stream",
     "text": [
      "C:/Users/pleroy/Documents/CAMILL/SER/WR15_v2/WR10_plaqueSupport.ini\n",
      "nb_elev 41\n",
      "nb_freq 2801\n",
      "nb_ssb 4\n",
      "el0 0.65\n",
      "az0 -0.44\n",
      "base_path C:/Users/pleroy/Documents/CAMILL/SER/WR15_v2\n",
      "out_path C:/Users/pleroy/Documents/CAMILL/SER/WR15_v2/processing/wr10\n",
      "gateWidth 500.0\n",
      "gateCenter 6650.0\n",
      "C:/Users/pleroy/Documents/CAMILL/SER/WR15_v2/WR10_plaqueRef.ini\n",
      "nb_elev 41\n",
      "nb_freq 2801\n",
      "nb_ssb 4\n",
      "el0 0.275\n",
      "az0 -0.44\n",
      "base_path C:/Users/pleroy/Documents/CAMILL/SER/WR15_v2\n",
      "out_path C:/Users/pleroy/Documents/CAMILL/SER/WR15_v2/processing/wr10\n",
      "gateWidth 0.0\n",
      "gateCenter 0.0\n"
     ]
    }
   ],
   "source": [
    "cmap='jet'\n",
    "configFilename = f\"C:/Users/pleroy/Documents/CAMILL/SER/WR15_v2/WR10_plaqueSupport.ini\"\n",
    "configRef = f\"C:/Users/pleroy/Documents/CAMILL/SER/WR15_v2/WR10_plaqueRef.ini\"\n",
    "conf = ConfigSer(configFilename)\n",
    "confRef = ConfigSer(configRef)\n",
    "conf.printConfig()\n",
    "confRef.printConfig()\n",
    "\n",
    "centerFreq = 92.5\n",
    "bandWidth = 17.4\n",
    "idxElevation = 21 # elevation correspondant au maximum releve avec la plaque support\n",
    "vmin = -90\n",
    "vmax = -40"
   ]
  },
  {
   "cell_type": "markdown",
   "metadata": {},
   "source": [
    "## Fond de chambre"
   ]
  },
  {
   "cell_type": "code",
   "execution_count": 58,
   "metadata": {},
   "outputs": [
    {
     "name": "stdout",
     "output_type": "stream",
     "text": [
      "C:/Users/pleroy/Documents/CAMILL/SER/WR15_v2/processing/wr10/data/S11_fond_de_chambre.txt\n"
     ]
    }
   ],
   "source": [
    "file_f2c = f\"{conf.out_path}/data/S11_fond_de_chambre.txt\"\n",
    "tmp = np.loadtxt(file_f2c, skiprows=1)\n",
    "print(file_f2c)\n",
    "S11_f2c = tmp[:,1] + 1j * tmp[:,2]"
   ]
  },
  {
   "cell_type": "code",
   "execution_count": 59,
   "metadata": {},
   "outputs": [
    {
     "data": {
      "text/plain": [
       "<matplotlib.legend.Legend at 0x223ee7a5b48>"
      ]
     },
     "execution_count": 59,
     "metadata": {},
     "output_type": "execute_result"
    }
   ],
   "source": [
    "fig, ax = plt.subplots(1,1)\n",
    "plt.plot(ser.dB(np.fft.ifft(S11_f2c)), label=\"fond de chambre\")\n",
    "plt.grid()\n",
    "plt.legend()"
   ]
  },
  {
   "cell_type": "markdown",
   "metadata": {},
   "source": [
    "## Probe"
   ]
  },
  {
   "cell_type": "code",
   "execution_count": 60,
   "metadata": {},
   "outputs": [],
   "source": [
    "tmp = np.loadtxt(f\"{conf.out_path}/data/S11_probe_interpolated.txt\")\n",
    "S11_probe = tmp[:,1] + 1j * tmp[:,2]\n",
    "freq_probe = tmp[:,0]"
   ]
  },
  {
   "cell_type": "markdown",
   "metadata": {},
   "source": [
    "## Plaque de référence"
   ]
  },
  {
   "cell_type": "code",
   "execution_count": 61,
   "metadata": {},
   "outputs": [],
   "source": [
    "# THE DATA STORED AFTER PROCESSING ARE ALERADY CONJUGATED\n",
    "tmp = np.loadtxt(f\"{conf.out_path}/data/S11_plaque_ref_from_scan.txt\", skiprows=1)\n",
    "S11_reference = tmp[:,1] + 1j * tmp[:,2]\n",
    "freq_all = tmp[:,0]\n",
    "d = np.linspace(0, 300 / (freq_all[1] - freq_all[0]), conf.nb_freq) * 0.5"
   ]
  },
  {
   "cell_type": "code",
   "execution_count": 62,
   "metadata": {},
   "outputs": [
    {
     "data": {
      "text/plain": [
       "<matplotlib.legend.Legend at 0x223eec133c8>"
      ]
     },
     "execution_count": 62,
     "metadata": {},
     "output_type": "execute_result"
    }
   ],
   "source": [
    "fig, ax = plt.subplots(1,1)\n",
    "plt.plot(ser.dB(np.fft.ifft(S11_reference)), label=\"reference\" )\n",
    "plt.plot(ser.dB(np.fft.ifft(S11_f2c)), label=\"fond de chambre\" )\n",
    "plt.grid()\n",
    "plt.legend()"
   ]
  },
  {
   "cell_type": "code",
   "execution_count": 63,
   "metadata": {},
   "outputs": [
    {
     "data": {
      "text/plain": [
       "Text(0.5, 1.0, 'time domain')"
      ]
     },
     "execution_count": 63,
     "metadata": {},
     "output_type": "execute_result"
    }
   ],
   "source": [
    "fig, ax = plt.subplots(1,1)\n",
    "ax.plot(d, ser.dB(np.fft.ifft(S11_reference)), label=\"reference\")\n",
    "ax.plot(d, ser.dB(np.fft.ifft(S11_f2c)), label=\"f2c\")\n",
    "ax.plot(d, ser.dB(np.fft.ifft(S11_probe)), label=\"probe\")\n",
    "ax.plot(d, ser.dB(np.fft.ifft(S11_reference - S11_probe)), label=\"reference - probe\")\n",
    "ax.plot(d, ser.dB(np.fft.ifft(S11_reference - S11_f2c)), label=\"reference - f2c\")\n",
    "ax.grid()\n",
    "ax.legend()\n",
    "ax.set_xlabel(\"[m]\")\n",
    "ax.set_ylabel(\"[dB]\")\n",
    "ax.set_title( \"time domain\" )"
   ]
  },
  {
   "cell_type": "markdown",
   "metadata": {},
   "source": [
    "# Réflectivité\n",
    "ref: ser4siepel_multiband_scan_elev_Reflectivite.sce"
   ]
  },
  {
   "cell_type": "code",
   "execution_count": 10,
   "metadata": {},
   "outputs": [
    {
     "name": "stdout",
     "output_type": "stream",
     "text": [
      "gateSize 233\n"
     ]
    }
   ],
   "source": [
    "myGate = Gate(d, width=conf.gateWidth, center=conf.gateCenter)\n",
    "gate = myGate.gateLLC"
   ]
  },
  {
   "cell_type": "markdown",
   "metadata": {},
   "source": [
    "## Lecture des données"
   ]
  },
  {
   "cell_type": "code",
   "execution_count": 41,
   "metadata": {},
   "outputs": [],
   "source": [
    "date, absorbant = \"20200715\", \"039_W_u\"\n",
    "#date, absorbant = \"20200715\", \"040_W_u_v2\"\n",
    "dir_abs = f\"{conf.base_path}/{date}/{absorbant}\"\n",
    "freq_abs, S11_abs = ser.getData_ssb(conf.nb_elev, conf.nb_freq, conf.nb_ssb, dir_abs, tag=\"WR10_\")"
   ]
  },
  {
   "cell_type": "markdown",
   "metadata": {},
   "source": [
    "## Calcul de la réflectivité"
   ]
  },
  {
   "cell_type": "code",
   "execution_count": 42,
   "metadata": {},
   "outputs": [],
   "source": [
    "reflectivite = ser.getReflectivite(S11_abs, S11_reference, S11_f2c, gate)"
   ]
  },
  {
   "cell_type": "code",
   "execution_count": 43,
   "metadata": {},
   "outputs": [
    {
     "name": "stdout",
     "output_type": "stream",
     "text": [
      "valMax = -54.70 valMin = -90.00\n"
     ]
    }
   ],
   "source": [
    "toPlot = np.zeros((conf.nb_elev, conf.nb_freq))\n",
    "gatebis  = 0.0 * gate\n",
    "gatebis[np.where(np.abs(freq_abs - centerFreq) < bandWidth)] = 1.0\n",
    "toPlot = 20 * np.log10(1e-12 + np.abs(reflectivite * gatebis))\n",
    "\n",
    "valMin = -90\n",
    "toPlot = 0.5 * (np.abs(toPlot - valMin) + toPlot - valMin) + valMin\n",
    "valMax = np.amax(toPlot)\n",
    "valMin = np.amin(toPlot)\n",
    "print(f\"valMax = {valMax:.2f} valMin = {valMin:.2f}\")\n",
    "\n",
    "fig, ax = plt.subplots(1, 1)\n",
    "im = plt.pcolormesh(conf.elevation, np.flip(freq_abs), np.rot90(toPlot), cmap=cmap, vmin=vmin, vmax=vmax)\n",
    "title = f\"Réflectivité absorbant {absorbant}, {date}\"\n",
    "ax.set_title(title)\n",
    "ax.set_xlabel(\"Elévation [°]\")\n",
    "ax.set_ylabel(\"Fréquence [GHz]\")\n",
    "dia.addColorBar(im, ax, aspect='auto')"
   ]
  },
  {
   "cell_type": "code",
   "execution_count": 25,
   "metadata": {},
   "outputs": [],
   "source": [
    "descriptor = f\"{absorbant}_{date}\"\n",
    "filename = f\"{conf.out_path}/data/reflectivite_{descriptor}\"\n",
    "np.save( filename, reflectivite )"
   ]
  },
  {
   "cell_type": "code",
   "execution_count": 30,
   "metadata": {},
   "outputs": [
    {
     "data": {
      "text/plain": [
       "Text(0, 0.5, 'réflectivité [dB]')"
      ]
     },
     "execution_count": 30,
     "metadata": {},
     "output_type": "execute_result"
    }
   ],
   "source": [
    "fig, ax = plt.subplots(1,1)\n",
    "ax.plot(freq_abs, toPlot[idxElevation, :])\n",
    "ax.grid()\n",
    "title = f\"Réflectivité [{absorbant}]\"\n",
    "ax.set_title(title)\n",
    "ax.set_xlabel(\"f [GHz]\")\n",
    "ax.set_ylabel(\"réflectivité [dB]\")"
   ]
  },
  {
   "cell_type": "code",
   "execution_count": 31,
   "metadata": {},
   "outputs": [
    {
     "data": {
      "text/plain": [
       "[<matplotlib.lines.Line2D at 0x223ee94f508>]"
      ]
     },
     "execution_count": 31,
     "metadata": {},
     "output_type": "execute_result"
    }
   ],
   "source": [
    "fig, ax = plt.subplots(1,1)\n",
    "ax.plot(gatebis)"
   ]
  },
  {
   "cell_type": "code",
   "execution_count": 34,
   "metadata": {},
   "outputs": [],
   "source": [
    "np.save( f\"{conf.out_path}/data/freq_WR10\", freq_abs )\n",
    "np.save( f\"{conf.out_path}/data/elevation_WR10\", conf.elevation )"
   ]
  },
  {
   "cell_type": "markdown",
   "metadata": {},
   "source": [
    "# Tous les absorbants"
   ]
  },
  {
   "cell_type": "code",
   "execution_count": 69,
   "metadata": {},
   "outputs": [
    {
     "name": "stdout",
     "output_type": "stream",
     "text": [
      "======= 038_E_20200715 =======\n",
      "======= 040_W_u_v2_20200715 =======\n",
      "======= 041_V_u_20200715 =======\n",
      "======= 042_G_20200715 =======\n",
      "======= 043_L_20200715 =======\n",
      "======= 044_M_20200715 =======\n",
      "======= 045_X_20200715 =======\n",
      "======= 046_O_20200715 =======\n",
      "======= 047_N_20200715 =======\n",
      "======= 048_K_20200715 =======\n"
     ]
    }
   ],
   "source": [
    "idx = np.where(np.abs(freq_abs - centerFreq) < bandWidth)\n",
    "idxAlt = np.where(np.abs(freq_abs - centerFreq) >= bandWidth)\n",
    "\n",
    "dic_stats = {}\n",
    "toPlot = np.zeros((conf.nb_elev, conf.nb_freq))\n",
    "\n",
    "gate = myGate.gateLLC\n",
    "date = \"20200715\" # 09, 15, 16\n",
    "\n",
    "for absorbant in conf.dic_dir[date]:\n",
    "    \n",
    "    seq = 0\n",
    "    flag_gate = 1\n",
    "    data_dir = f\"{conf.base_path}/{date}/{absorbant}\"\n",
    "    descriptor = f\"{absorbant}_{date}\"\n",
    "    \n",
    "    print(f\"======= {descriptor} =======\")\n",
    "    \n",
    "    ############## 16 07 2020 ##############\n",
    "    ############## 16 07 2020 ##############\n",
    "    \n",
    "    freq_abs, S11 = ser.getData_ssb(conf.nb_elev, conf.nb_freq, conf.nb_ssb, data_dir, tag=\"WR10_\")\n",
    "            \n",
    "    #=============\n",
    "    # REFLECTIVITE\n",
    "    reflectivite = ser.getReflectivite(S11, S11_reference, S11_f2c, gate)\n",
    "    np.save( \n",
    "        f\"{conf.out_path}/data/reflectivite/{descriptor}\",\n",
    "        reflectivite \n",
    "    )\n",
    "    \n",
    "    # drop lower and higher frequencies values\n",
    "    toPlot[:,idx] = 20 * np.log10(1e-12 + np.abs( reflectivite[:,idx]))\n",
    "    toPlot[:,idxAlt] = -90\n",
    "\n",
    "    fig, ax = plt.subplots( 1, 1 )\n",
    "    im = ax.pcolormesh(conf.elevation, np.flip( freq_abs ), np.rot90(toPlot), cmap=cmap, vmin=vmin, vmax=vmax)\n",
    "    title = f\"Réflectivité [{descriptor}]\"\n",
    "    ax.set_title(title)\n",
    "    ax.set_xlabel( \"Elévation [°]\" )\n",
    "    ax.set_ylabel( \"Fréquence [GHz]\" )\n",
    "    dia.addColorBar(  im, ax, aspect='auto' )\n",
    "    fig.savefig(\n",
    "        f\"{conf.out_path}/plot/reflectivite/reflectivite_{descriptor}.png\"\n",
    "    )\n",
    "\n",
    "    #======\n",
    "    # STATS\n",
    "    valMax = np.amax( toPlot )\n",
    "    valMin = np.amin( toPlot )\n",
    "\n",
    "    absReflectivite   = np.abs( reflectivite )\n",
    "    reflectiviteMoy   = np.average( absReflectivite[:,idx] )\n",
    "    reflectiviteSigma = np.std( absReflectivite[:,idx] )\n",
    "\n",
    "    reflectiviteMoy_dB   = 20 * np.log10( np.abs( reflectiviteMoy ) )\n",
    "    reflectiviteSigma_dB = 20 * np.log10( np.abs( reflectiviteSigma ) )\n",
    "        \n",
    "    #==========\n",
    "    # HISTOGRAM\n",
    "    fig, ax = plt.subplots(1,1)\n",
    "    ax.hist((absReflectivite[:,idx]).flatten(), 50, label=\"histogramme (valeurs linéaires)\")\n",
    "    ax.grid()\n",
    "    title = f\"Réflectivité, histogramme [{descriptor}]\"\n",
    "    ax.set_title(title)\n",
    "    ax.legend()\n",
    "    fig.savefig(\n",
    "        f\"{conf.out_path}/plot/hist/hist_{descriptor}.png\"\n",
    "    )\n",
    "        \n",
    "    #===========\n",
    "    # PLOT WRT F\n",
    "    fig, ax = plt.subplots(1,1)\n",
    "    ax.plot( freq_abs, toPlot[ idxElevation, : ] )\n",
    "    ax.grid()\n",
    "    title = f\"Réflectivité [{descriptor}]\"\n",
    "    ax.set_title(title)\n",
    "    ax.set_xlabel(\"f [GHz]\")\n",
    "    ax.set_ylabel(\"réflectivité [dB]\")\n",
    "    fig.savefig(\n",
    "        f\"{conf.out_path}/plot/reflectivite_vs_f/reflectivite_vs_f_{descriptor}.png\"\n",
    "    )\n",
    "    \n",
    "    plt.close(\"all\")\n",
    "    \n",
    "    dic_stats[f\"{descriptor}\"] = (valMax, valMin, reflectiviteMoy, reflectiviteSigma, reflectiviteMoy_dB)"
   ]
  },
  {
   "cell_type": "code",
   "execution_count": null,
   "metadata": {},
   "outputs": [],
   "source": [
    "for absorbant in dic_stats.keys():\n",
    "    stats = dic_stats[absorbant]\n",
    "    print(f\"{absorbant} {stats[0]:.2f} {stats[1]:.2f} {stats[2]:.6f} {stats[3]:.6f} {stats[4]:.2f}\")"
   ]
  },
  {
   "cell_type": "markdown",
   "metadata": {},
   "source": [
    "# Remove all"
   ]
  },
  {
   "cell_type": "code",
   "execution_count": null,
   "metadata": {},
   "outputs": [],
   "source": [
    "for root, dirs, files in os.walk(f\"{base_path}/processing\"):\n",
    "    for f in files:\n",
    "        if f.endswith(\".png\") or f.endswith(\".npy\"):\n",
    "            os.remove(os.path.join(root, f)) # remove or unlink does the same"
   ]
  },
  {
   "cell_type": "code",
   "execution_count": null,
   "metadata": {},
   "outputs": [],
   "source": [
    "os.walk(f\"{base_path}/processing\")"
   ]
  },
  {
   "cell_type": "markdown",
   "metadata": {},
   "source": [
    "# getAzSlRoElPolFFPolCATR"
   ]
  },
  {
   "cell_type": "code",
   "execution_count": null,
   "metadata": {},
   "outputs": [],
   "source": [
    "el = ser.getAzSlRoElPolFFPolCATR( \"/home/pleroy/DATA/DIADEM/SIEPEL/SER/WR10/190910/Plaque\" )[:,3]\n",
    "print(f\"elevation goes from {np.amin(el)} to {np.amax(el)}\")"
   ]
  },
  {
   "cell_type": "code",
   "execution_count": null,
   "metadata": {},
   "outputs": [],
   "source": []
  }
 ],
 "metadata": {
  "kernelspec": {
   "display_name": "Python 3",
   "language": "python",
   "name": "python3"
  },
  "language_info": {
   "codemirror_mode": {
    "name": "ipython",
    "version": 3
   },
   "file_extension": ".py",
   "mimetype": "text/x-python",
   "name": "python",
   "nbconvert_exporter": "python",
   "pygments_lexer": "ipython3",
   "version": "3.7.6"
  },
  "toc": {
   "base_numbering": 1,
   "nav_menu": {},
   "number_sections": true,
   "sideBar": true,
   "skip_h1_title": false,
   "title_cell": "Table of Contents",
   "title_sidebar": "Contents",
   "toc_cell": false,
   "toc_position": {
    "height": "calc(100% - 180px)",
    "left": "10px",
    "top": "150px",
    "width": "253.4px"
   },
   "toc_section_display": true,
   "toc_window_display": true
  },
  "varInspector": {
   "cols": {
    "lenName": 16,
    "lenType": 16,
    "lenVar": 40
   },
   "kernels_config": {
    "python": {
     "delete_cmd_postfix": "",
     "delete_cmd_prefix": "del ",
     "library": "var_list.py",
     "varRefreshCmd": "print(var_dic_list())"
    },
    "r": {
     "delete_cmd_postfix": ") ",
     "delete_cmd_prefix": "rm(",
     "library": "var_list.r",
     "varRefreshCmd": "cat(var_dic_list()) "
    }
   },
   "types_to_exclude": [
    "module",
    "function",
    "builtin_function_or_method",
    "instance",
    "_Feature"
   ],
   "window_display": false
  }
 },
 "nbformat": 4,
 "nbformat_minor": 2
}
