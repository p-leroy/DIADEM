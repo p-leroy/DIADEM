{
 "cells": [
  {
   "cell_type": "markdown",
   "metadata": {},
   "source": [
    "# Init"
   ]
  },
  {
   "cell_type": "code",
   "execution_count": 1,
   "metadata": {},
   "outputs": [],
   "source": [
    "import numpy as np\n",
    "import matplotlib.pyplot as plt"
   ]
  },
  {
   "cell_type": "code",
   "execution_count": 2,
   "metadata": {},
   "outputs": [],
   "source": [
    "%matplotlib qt5"
   ]
  },
  {
   "cell_type": "code",
   "execution_count": 3,
   "metadata": {},
   "outputs": [],
   "source": [
    "import sys"
   ]
  },
  {
   "cell_type": "code",
   "execution_count": 77,
   "metadata": {},
   "outputs": [],
   "source": [
    "sys.path.insert(0, \"/home/pleroy/DEV/DIADEM\")\n",
    "import toolsdiadem.tools as dia\n",
    "import toolsdiadem.ser as ser"
   ]
  },
  {
   "cell_type": "code",
   "execution_count": 78,
   "metadata": {},
   "outputs": [
    {
     "name": "stdout",
     "output_type": "stream",
     "text": [
      "The autoreload extension is already loaded. To reload it, use:\n",
      "  %reload_ext autoreload\n"
     ]
    }
   ],
   "source": [
    "%load_ext autoreload\n",
    "%autoreload 2"
   ]
  },
  {
   "cell_type": "code",
   "execution_count": 5,
   "metadata": {},
   "outputs": [],
   "source": [
    "cmap='jet'"
   ]
  },
  {
   "cell_type": "code",
   "execution_count": null,
   "metadata": {},
   "outputs": [],
   "source": [
    "base_path = \"/home/pleroy/DATA/DIADEM/SIEPEL/SER/WR15\"\n",
    "dic_dir = {\"190130\" : [\"absC\"],\n",
    "           \"190131\" : [\"absAHP12\", \"absB\", \"absD\", \"absJ\"],\n",
    "           \"190201\" : [\"absA\", \"absAHP20\", \"absE\", \"absG\", \"absM\"],\n",
    "           \"190204\" : [\"absAHP9\", \"absAHP30\", \"absAHP45\", \"absH\", \"absI\", \"absK\", \"absL\", \"absN\", \"absO\", \"absU\"]}"
   ]
  },
  {
   "cell_type": "code",
   "execution_count": 6,
   "metadata": {},
   "outputs": [],
   "source": [
    "dir_A     = \"/home/pleroy/DATA/DIADEM/SIEPEL/SER/WR15/190201/absA\"\n",
    "dir_C     = \"/home/pleroy/DATA/DIADEM/SIEPEL/SER/WR15/190128/absC\"\n",
    "dir_AHP9  = \"/home/pleroy/DATA/DIADEM/SIEPEL/SER/WR15/190204/absAHP9\"\n",
    "dir_AHP45 = \"/home/pleroy/DATA/DIADEM/SIEPEL/SER/WR15/190204/absAHP45\""
   ]
  },
  {
   "cell_type": "markdown",
   "metadata": {},
   "source": [
    "# Fond de chambre"
   ]
  },
  {
   "cell_type": "code",
   "execution_count": 7,
   "metadata": {},
   "outputs": [],
   "source": [
    "dir_fondDeChambre = \"/home/pleroy/DATA/DIADEM/SIEPEL/SER/WR15\"\n",
    "tmp = np.loadtxt(\"S11_fond_de_chambre.txt\", skiprows=1)\n",
    "S11_fondDeChambre = tmp[:,1] + 1j * tmp[:,2]"
   ]
  },
  {
   "cell_type": "code",
   "execution_count": 8,
   "metadata": {},
   "outputs": [
    {
     "data": {
      "text/plain": [
       "<matplotlib.legend.Legend at 0x7f61fc754be0>"
      ]
     },
     "execution_count": 8,
     "metadata": {},
     "output_type": "execute_result"
    }
   ],
   "source": [
    "fig, ax = plt.subplots(1,1)\n",
    "plt.plot( 20 * np.log10( np.abs( np.fft.ifft( S11_fondDeChambre ) ) ), label=\"fond de chambre\" )\n",
    "plt.grid()\n",
    "plt.legend()"
   ]
  },
  {
   "cell_type": "markdown",
   "metadata": {},
   "source": [
    "# Plaque de référence"
   ]
  },
  {
   "cell_type": "code",
   "execution_count": 12,
   "metadata": {},
   "outputs": [],
   "source": [
    "dir_plaqueDeReference = \"/home/pleroy/DATA/DIADEM/SIEPEL/SER/WR15/190129/caracterisation/plaque_ref\"\n",
    "freq_all, S11_plaque_ref = ser.getFreqAndS11( dir_plaqueDeReference )"
   ]
  },
  {
   "cell_type": "markdown",
   "metadata": {},
   "source": [
    "# Réflectivité\n",
    "ref: ser4siepel_multiband_scan_elev_Reflectivite.sce"
   ]
  },
  {
   "cell_type": "markdown",
   "metadata": {},
   "source": [
    "## Initialisation des variables"
   ]
  },
  {
   "cell_type": "code",
   "execution_count": 13,
   "metadata": {},
   "outputs": [],
   "source": [
    "nb_elev = 41\n",
    "nb_freq = 2001\n",
    "\n",
    "elevation        = np.linspace( 0.76 - 1.0, 0.76 + 1.0, nb_elev )\n",
    "data_S11         = np.zeros( (nb_elev, nb_freq), dtype=complex )\n",
    "data_S11_td      = np.zeros( (nb_elev, nb_freq), dtype=complex )\n",
    "data_S11_tg      = np.zeros( (nb_elev, nb_freq), dtype=complex )\n",
    "S11_minus_moy    = np.zeros( (nb_elev, nb_freq), dtype=complex )\n",
    "S11_minus_moy_td = np.zeros( (nb_elev, nb_freq), dtype=complex )\n",
    "S11_minus_moy_tg = np.zeros( (nb_elev, nb_freq), dtype=complex )\n",
    "reflectivite     = np.zeros( (nb_elev, nb_freq), dtype=complex )\n",
    "S11_moy          = np.zeros( nb_freq,            dtype=complex )\n",
    "S11_moy_square   = np.zeros( nb_freq,            dtype=complex )"
   ]
  },
  {
   "cell_type": "markdown",
   "metadata": {},
   "source": [
    "## Lecture des données et time gating"
   ]
  },
  {
   "cell_type": "code",
   "execution_count": 91,
   "metadata": {},
   "outputs": [],
   "source": [
    "seq = 0\n",
    "flag_gate = 1\n",
    "data_dir = dir_AHP45\n",
    "\n",
    "for ielev in range(nb_elev):\n",
    "    freq_all, S11_all = ser.getFreqAndS11( data_dir, seq0=seq, verbose=0 )\n",
    "    seq = seq + 3\n",
    "    data_S11[ ielev, : ] = S11_all\n",
    "    \n",
    "d = np.linspace( 0, 300 / ( freq_all[1] - freq_all[0] ), len(freq_all) ) * 0.5"
   ]
  },
  {
   "cell_type": "code",
   "execution_count": 92,
   "metadata": {},
   "outputs": [],
   "source": [
    "gate = ser.getWindow( d, center, width, id=\"llc\" )"
   ]
  },
  {
   "cell_type": "code",
   "execution_count": 97,
   "metadata": {},
   "outputs": [],
   "source": [
    "S11_moy     = np.average( data_S11, axis=0 )\n",
    "S11_moy_td  = np.fft.ifft( S11_moy )\n",
    "S11_moy_tg  = S11_moy_td * gate\n",
    "data_S11_td = np.fft.ifft( data_S11, axis=1 )\n",
    "data_S11_tg = data_S11_td * gate\n",
    "data_S11_tg_kaiser = data_S11_td * window"
   ]
  },
  {
   "cell_type": "code",
   "execution_count": 98,
   "metadata": {},
   "outputs": [
    {
     "name": "stderr",
     "output_type": "stream",
     "text": [
      "/home/pleroy/anaconda3/lib/python3.7/site-packages/ipykernel_launcher.py:4: RuntimeWarning: divide by zero encountered in log10\n",
      "  after removing the cwd from sys.path.\n"
     ]
    }
   ],
   "source": [
    "fig, ax = plt.subplots(1,1)\n",
    "ax.plot( d, 20*np.log10( np.abs( data_S11_td[20,:] ) ), label=\"S11_moy_td\" )\n",
    "ax.plot( d, 20*np.log10( np.abs( data_S11_tg[20,:] ) ), label=\"S11_moy_tg\" )\n",
    "ax.plot( d, 20*np.log10( np.abs( data_S11_tg_kaiser[20,:] ) ), label=\"S11_moy_tg_kaiser\" )\n",
    "ax.legend()\n",
    "ax.grid()"
   ]
  },
  {
   "cell_type": "markdown",
   "metadata": {},
   "source": [
    "## Gate design\n",
    "\n",
    "scipy.signal.kaiser(M, beta, sym=True)\n",
    "\n",
    "**SYM** When True (default), generates a symmetric window, for use in filter design. When False, generates a periodic window, for use in spectral analysis"
   ]
  },
  {
   "cell_type": "code",
   "execution_count": 505,
   "metadata": {},
   "outputs": [
    {
     "name": "stdout",
     "output_type": "stream",
     "text": [
      "gateSize 166\n"
     ]
    }
   ],
   "source": [
    "myGate = np.zeros( d.shape )\n",
    "myWidth = 500\n",
    "gateSize = np.where( np.abs( d - center ) < myWidth )[0].shape[0]\n",
    "#myGate[ 0 : gateSize ] = 1.0\n",
    "myGate[ np.where( np.abs( d - center ) < myWidth ) ] = 1.0\n",
    "fftMyGate = np.fft.fft( myGate )\n",
    "print( f\"gateSize {gateSize}\" )"
   ]
  },
  {
   "cell_type": "code",
   "execution_count": 506,
   "metadata": {},
   "outputs": [],
   "source": [
    "fig, (ax0, ax1) = plt.subplots(2,1)\n",
    "\n",
    "ax0.plot( d, myGate )\n",
    "ax0.grid()\n",
    "\n",
    "ax1.plot( 20 * np.log10( np.abs( fftMyGate ) ) )\n",
    "ax1.grid()"
   ]
  },
  {
   "cell_type": "code",
   "execution_count": 590,
   "metadata": {},
   "outputs": [],
   "source": [
    "N = 2001\n",
    "beta = 6\n",
    "myWindow = np.zeros(nb_freq)\n",
    "myWindow[0] = 1\n",
    "myWindow[1:] = np.fft.fftshift( kaiser(N-1, beta, sym=True) )\n",
    "modMyWindow = 20 * np.log10( np.abs( myWindow ) )"
   ]
  },
  {
   "cell_type": "code",
   "execution_count": 594,
   "metadata": {},
   "outputs": [],
   "source": [
    "idx = np.where( modMyWindow > -6 )\n",
    "show = np.ones( nb_freq ) - 35\n",
    "show[ idx ] = -6\n",
    "normalization = np.ones( nb_freq )\n",
    "normalization[idx] = 1 / myWindow[idx]\n",
    "modNormalization = 20 * np.log10( np.abs( normalization ) )\n",
    "normalized = myWindow * normalization\n",
    "modNormalized = 20 * np.log10( np.abs( normalized ) )"
   ]
  },
  {
   "cell_type": "code",
   "execution_count": 595,
   "metadata": {},
   "outputs": [
    {
     "data": {
      "text/plain": [
       "<matplotlib.legend.Legend at 0x7f616d5b6fd0>"
      ]
     },
     "execution_count": 595,
     "metadata": {},
     "output_type": "execute_result"
    }
   ],
   "source": [
    "fig, ax = plt.subplots(1,1)\n",
    "ax.plot( fftMyWindow, label = 'fftMyWindow' )\n",
    "ax.plot( modNormalization, label = 'normalization' )\n",
    "ax.plot( modNormalized, label = 'normalized' )\n",
    "ax.plot( np.arange(nb_freq), show, 'r' )\n",
    "plt.grid()\n",
    "plt.legend()"
   ]
  },
  {
   "cell_type": "code",
   "execution_count": 603,
   "metadata": {},
   "outputs": [],
   "source": [
    "fftMyGateKaiser = np.fft.fft( myGate ) * myWindow\n",
    "myGateKaiser = np.fft.ifft( fftMyGateKaiser )"
   ]
  },
  {
   "cell_type": "code",
   "execution_count": 600,
   "metadata": {},
   "outputs": [
    {
     "data": {
      "text/plain": [
       "<matplotlib.legend.Legend at 0x7f616ca81e10>"
      ]
     },
     "execution_count": 600,
     "metadata": {},
     "output_type": "execute_result"
    }
   ],
   "source": [
    "fig, (ax0, ax1) = plt.subplots(2,1)\n",
    "ax0.plot( myWindow, '.', label='myWindow' )\n",
    "ax0.grid()\n",
    "ax0.legend()\n",
    "\n",
    "ax1.plot( 20 * np.log10( np.abs( fftMyGate ) ), label='fftshift fftMyGate' )\n",
    "ax1.plot( 20 * np.log10( np.abs( fftMyGateKaiser ) ), label='fftMyGateKaiser' )\n",
    "ax1.grid()\n",
    "ax1.legend()"
   ]
  },
  {
   "cell_type": "code",
   "execution_count": 604,
   "metadata": {},
   "outputs": [
    {
     "data": {
      "text/plain": [
       "<matplotlib.legend.Legend at 0x7f61702a7710>"
      ]
     },
     "execution_count": 604,
     "metadata": {},
     "output_type": "execute_result"
    }
   ],
   "source": [
    "fig, ax = plt.subplots(1,1)\n",
    "ax.plot( 20 * np.log10( np.abs( np.real( myGateKaiser ) ) ), '-', label='real' )\n",
    "ax.plot( 20 * np.log10( np.abs( np.imag( myGateKaiser ) ) ), '-', label='imag' )\n",
    "ax.plot( 20 * np.log10( np.abs(          myGateKaiser ) ), '.', label='abs')\n",
    "plt.grid()\n",
    "plt.legend()"
   ]
  },
  {
   "cell_type": "code",
   "execution_count": 563,
   "metadata": {},
   "outputs": [],
   "source": [
    "NKaiser = 200\n",
    "littleKaiser = kaiser(2*NKaiser, 6, sym=True)\n",
    "myWindowLittleKaiser = np.zeros(nb_freq)\n",
    "myWindowLittleKaiser[0] = 1\n",
    "myWindowLittleKaiser[1:NKaiser+1]      = littleKaiser[NKaiser:]\n",
    "myWindowLittleKaiser[nb_freq-NKaiser:] = littleKaiser[0:NKaiser]\n",
    "fftMyGateLittleKaiser = fftMyGate  * myWindowLittleKaiser\n",
    "myGateLittleKaiser = np.fft.ifft( fftMyGateLittleKaiser )"
   ]
  },
  {
   "cell_type": "code",
   "execution_count": 564,
   "metadata": {},
   "outputs": [
    {
     "data": {
      "text/plain": [
       "<matplotlib.legend.Legend at 0x7f617166eda0>"
      ]
     },
     "execution_count": 564,
     "metadata": {},
     "output_type": "execute_result"
    }
   ],
   "source": [
    "fig, ax = plt.subplots(1,1)\n",
    "ax.plot( 20 * np.log10( np.abs( np.real( myGateLittleKaiser ) ) ), '-', label='real' )\n",
    "ax.plot( 20 * np.log10( np.abs( np.imag( myGateLittleKaiser ) ) ), '-', label='imag' )\n",
    "ax.plot( 20 * np.log10( np.abs(          myGateLittleKaiser ) ), '.', label='abs')\n",
    "plt.grid()\n",
    "plt.legend()"
   ]
  },
  {
   "cell_type": "code",
   "execution_count": 558,
   "metadata": {},
   "outputs": [
    {
     "data": {
      "text/plain": [
       "<matplotlib.legend.Legend at 0x7f61723895f8>"
      ]
     },
     "execution_count": 558,
     "metadata": {},
     "output_type": "execute_result"
    }
   ],
   "source": [
    "fig, ax = plt.subplots(1,1)\n",
    "ax.plot( 20 * np.log10( np.abs( myGateKaiser ) ), '.-', label='myGateKaiser')\n",
    "ax.plot( 20 * np.log10( np.abs( myGateLittleKaiser ) ), '.-', label='myGateLittleKaiser')\n",
    "plt.grid()\n",
    "plt.legend()"
   ]
  },
  {
   "cell_type": "code",
   "execution_count": 525,
   "metadata": {},
   "outputs": [],
   "source": [
    "unity = np.ones( nb_freq )\n",
    "unityGated = unity * myGateLittleKaiser\n",
    "fftUnityGated = np.fft.fft( unityGated )"
   ]
  },
  {
   "cell_type": "code",
   "execution_count": 526,
   "metadata": {},
   "outputs": [
    {
     "name": "stderr",
     "output_type": "stream",
     "text": [
      "/home/pleroy/anaconda3/lib/python3.7/site-packages/ipykernel_launcher.py:7: RuntimeWarning: divide by zero encountered in log10\n",
      "  import sys\n"
     ]
    },
    {
     "data": {
      "text/plain": [
       "<matplotlib.legend.Legend at 0x7f617584feb8>"
      ]
     },
     "execution_count": 526,
     "metadata": {},
     "output_type": "execute_result"
    }
   ],
   "source": [
    "fig, (ax0, ax1) = plt.subplots(2,1)\n",
    "\n",
    "ax0.plot( d, 20 * np.log10( np.abs( unityGated ) ), label='unityGated' )\n",
    "ax0.grid()\n",
    "ax0.legend()\n",
    "\n",
    "ax1.plot( 20 * np.log10( np.abs( fftUnityGated ) ), label = 'fftUnityGated' )\n",
    "ax1.grid()\n",
    "ax1.legend()"
   ]
  },
  {
   "cell_type": "markdown",
   "metadata": {},
   "source": [
    "## Post normalization function"
   ]
  },
  {
   "cell_type": "code",
   "execution_count": 486,
   "metadata": {},
   "outputs": [],
   "source": [
    "unityFResponseKaiser = kaiser( nb_freq, 12, sym=False )"
   ]
  },
  {
   "cell_type": "code",
   "execution_count": 487,
   "metadata": {},
   "outputs": [],
   "source": [
    "# convolution with the gate response\n",
    "ifftUnityFResponseKaiser = np.fft.ifft( unityFResponseKaiser )\n",
    "conv = np.fft.fft( ifftUnityFResponseKaiser * myGateKaiser )"
   ]
  },
  {
   "cell_type": "code",
   "execution_count": 489,
   "metadata": {},
   "outputs": [
    {
     "data": {
      "text/plain": [
       "<matplotlib.legend.Legend at 0x7f6177e27ef0>"
      ]
     },
     "execution_count": 489,
     "metadata": {},
     "output_type": "execute_result"
    }
   ],
   "source": [
    "fig, ax = plt.subplots(1,1)\n",
    "ax.plot( 20 * np.log10( np.abs( ifftUnityFResponseKaiser ) ), '.-', label='conv')\n",
    "plt.grid()\n",
    "plt.legend()"
   ]
  },
  {
   "cell_type": "code",
   "execution_count": 477,
   "metadata": {},
   "outputs": [
    {
     "data": {
      "text/plain": [
       "<matplotlib.legend.Legend at 0x7f617f9a2208>"
      ]
     },
     "execution_count": 477,
     "metadata": {},
     "output_type": "execute_result"
    }
   ],
   "source": [
    "fig, ax = plt.subplots(1,1)\n",
    "ax.plot( 20 * np.log10( np.abs( conv ) ), '.-', label='conv')\n",
    "ax.plot( 20 * np.log10( np.abs( 1/conv ) ), '.-', label='1/conv')\n",
    "plt.grid()\n",
    "plt.legend()"
   ]
  },
  {
   "cell_type": "markdown",
   "metadata": {},
   "source": [
    "# Filter design"
   ]
  },
  {
   "cell_type": "markdown",
   "metadata": {},
   "source": [
    "beta Window shape\n",
    "\n",
    "* 0 \t Rectangular\n",
    "\n",
    "* 5 \t Similar to a Hamming\n",
    "\n",
    "* 6 \t Similar to a Hanning\n",
    "\n",
    "* 8.6  Similar to a Blackman\n",
    "\n",
    "$$\\beta=\\alpha\\pi$$"
   ]
  },
  {
   "cell_type": "code",
   "execution_count": 59,
   "metadata": {},
   "outputs": [],
   "source": [
    "center = 6650\n",
    "width = 500\n",
    "beta = 3 * np.pi\n",
    "window = np.zeros( nb_freq )\n",
    "idx = np.where( np.abs( d - center ) < width )"
   ]
  },
  {
   "cell_type": "code",
   "execution_count": 60,
   "metadata": {},
   "outputs": [],
   "source": [
    "window[idx] = np.kaiser(idx[0].shape[0], beta)"
   ]
  },
  {
   "cell_type": "code",
   "execution_count": 62,
   "metadata": {},
   "outputs": [],
   "source": [
    "fig, ax = plt.subplots(1,1)\n",
    "ax.plot(window)\n",
    "plt.grid()"
   ]
  },
  {
   "cell_type": "code",
   "execution_count": 39,
   "metadata": {},
   "outputs": [],
   "source": [
    "fig, (ax0, ax1) = plt.subplots(2,1)\n",
    "\n",
    "ax0.plot(gate_b0, label='gate_b0')\n",
    "ax0.plot(gate_b, label='gate_b')\n",
    "ax0.plot(gate_c, label='gate_c')\n",
    "ax0.legend()\n",
    "ax0.grid()\n",
    "\n",
    "ax1.plot(gate_a0, label='gate_a0')\n",
    "#ax1.plot(gate_a, label='gate_a')\n",
    "ax1.legend()\n",
    "ax1.grid()"
   ]
  },
  {
   "cell_type": "code",
   "execution_count": 32,
   "metadata": {},
   "outputs": [
    {
     "data": {
      "text/plain": [
       "30125.69359020951"
      ]
     },
     "execution_count": 32,
     "metadata": {},
     "output_type": "execute_result"
    }
   ],
   "source": [
    "offset"
   ]
  },
  {
   "cell_type": "markdown",
   "metadata": {},
   "source": [
    "## Kaiser filter"
   ]
  },
  {
   "cell_type": "markdown",
   "metadata": {},
   "source": [
    "### a"
   ]
  },
  {
   "cell_type": "code",
   "execution_count": 99,
   "metadata": {},
   "outputs": [],
   "source": [
    "fL = 0.1  # Cutoff frequency as a fraction of the sampling rate (in (0, 0.5)).\n",
    "fH = 0.4  # Cutoff frequency as a fraction of the sampling rate (in (0, 0.5)).\n",
    "b  = 0.08  # Transition band, as a fraction of the sampling rate (in (0, 0.5)).\n",
    "N  = int(np.ceil((4 / b)))\n",
    "if not N % 2:\n",
    "    N += 1  # Make sure that N is odd.\n",
    "n  = np.arange(N)\n",
    " \n",
    "# Compute a low-pass filter with cutoff frequency fH.\n",
    "hlpf = np.sinc(2 * fH * (n - (N - 1) / 2))\n",
    "hlpf = hlpf * np.blackman(N)\n",
    "hlpf = hlpf / np.sum(hlpf)\n",
    " \n",
    "# Compute a high-pass filter with cutoff frequency fL.\n",
    "hhpf = np.sinc(2 * fL * (n - (N - 1) / 2))\n",
    "hhpf = hhpf * np.blackman(N)\n",
    "hhpf = hhpf / np.sum(hhpf)\n",
    "hhpf = -hhpf\n",
    "hhpf[(N - 1) // 2] += 1\n",
    " \n",
    "# Convolve both filters.\n",
    "h = np.convolve(hlpf, hhpf)"
   ]
  },
  {
   "cell_type": "code",
   "execution_count": null,
   "metadata": {},
   "outputs": [],
   "source": []
  },
  {
   "cell_type": "code",
   "execution_count": 104,
   "metadata": {},
   "outputs": [
    {
     "data": {
      "text/plain": [
       "[<matplotlib.lines.Line2D at 0x7f61d09c0860>]"
      ]
     },
     "execution_count": 104,
     "metadata": {},
     "output_type": "execute_result"
    }
   ],
   "source": [
    "fig, ax = plt.subplots(1,1)\n",
    "ax.plot(np.abs(np.fft.fft(h)))"
   ]
  },
  {
   "cell_type": "markdown",
   "metadata": {},
   "source": [
    "### b"
   ]
  },
  {
   "cell_type": "code",
   "execution_count": 107,
   "metadata": {},
   "outputs": [],
   "source": [
    "fs = 1000.0\n",
    "cutoff = 175\n",
    "width = 24"
   ]
  },
  {
   "cell_type": "code",
   "execution_count": 108,
   "metadata": {},
   "outputs": [
    {
     "data": {
      "text/plain": [
       "(167, 6.20426)"
      ]
     },
     "execution_count": 108,
     "metadata": {},
     "output_type": "execute_result"
    }
   ],
   "source": [
    "numtaps, beta = kaiserord(65, width/(0.5*fs))\n",
    "numtaps, beta"
   ]
  },
  {
   "cell_type": "code",
   "execution_count": 109,
   "metadata": {},
   "outputs": [],
   "source": [
    "taps = firwin(numtaps, cutoff, window=('kaiser', beta), scale=False, nyq=0.5*fs)"
   ]
  },
  {
   "cell_type": "code",
   "execution_count": 110,
   "metadata": {},
   "outputs": [],
   "source": [
    "w, h = freqz(taps, worN=8000)\n",
    "w *= 0.5*fs/np.pi  # Convert w to Hz."
   ]
  },
  {
   "cell_type": "code",
   "execution_count": 111,
   "metadata": {},
   "outputs": [],
   "source": [
    "ideal = w < cutoff  # The \"ideal\" frequency response.\n",
    "deviation = np.abs(np.abs(h) - ideal)\n",
    "deviation[(w > cutoff - 0.5*width) & (w < cutoff + 0.5*width)] = np.nan"
   ]
  },
  {
   "cell_type": "code",
   "execution_count": 112,
   "metadata": {},
   "outputs": [],
   "source": [
    "plt.figure()\n",
    "plt.plot(w, 20*np.log10(np.abs(deviation)))\n",
    "plt.xlim(0, 0.5*fs)\n",
    "plt.ylim(-90, -60)\n",
    "plt.grid(alpha=0.25)\n",
    "plt.axhline(-65, color='r', ls='--', alpha=0.3)\n",
    "plt.xlabel('Frequency (Hz)')\n",
    "plt.ylabel('Deviation from ideal (dB)')\n",
    "plt.title('Lowpass Filter Frequency Response')\n",
    "plt.show()"
   ]
  },
  {
   "cell_type": "code",
   "execution_count": 130,
   "metadata": {},
   "outputs": [],
   "source": [
    "plt.figure()\n",
    "plt.plot(w, 20*np.log10(np.abs(h)),'o')\n",
    "plt.xlim(0, 0.5*fs)\n",
    "#plt.ylim(-90, -60)\n",
    "plt.grid(alpha=0.25)\n",
    "plt.axhline(-65, color='r', ls='--', alpha=0.3)\n",
    "plt.xlabel('Frequency (Hz)')\n",
    "plt.ylabel('Deviation from ideal (dB)')\n",
    "plt.title('Lowpass Filter Frequency Response')\n",
    "plt.show()"
   ]
  },
  {
   "cell_type": "markdown",
   "metadata": {},
   "source": [
    "### c"
   ]
  },
  {
   "cell_type": "code",
   "execution_count": 491,
   "metadata": {},
   "outputs": [
    {
     "name": "stdout",
     "output_type": "stream",
     "text": [
      "center 6650, width 500, gate size 166\n"
     ]
    }
   ],
   "source": [
    "print(f\"center {center}, width {myWidth}, gate size {gateSize}\")"
   ]
  },
  {
   "cell_type": "code",
   "execution_count": 501,
   "metadata": {},
   "outputs": [],
   "source": [
    "k = np.arange( nb_freq )"
   ]
  },
  {
   "cell_type": "code",
   "execution_count": 502,
   "metadata": {},
   "outputs": [],
   "source": [
    "tc = 166"
   ]
  },
  {
   "cell_type": "code",
   "execution_count": 503,
   "metadata": {},
   "outputs": [],
   "source": [
    "H = 2 * tc * np.sinc( 2 * tc * k )"
   ]
  },
  {
   "cell_type": "code",
   "execution_count": 504,
   "metadata": {},
   "outputs": [
    {
     "data": {
      "text/plain": [
       "[<matplotlib.lines.Line2D at 0x7f61778ac1d0>]"
      ]
     },
     "execution_count": 504,
     "metadata": {},
     "output_type": "execute_result"
    }
   ],
   "source": [
    "fig, ax = plt.subplots( 1, 1 )\n",
    "ax.plot( 20 * np.log10( np.abs( H ) ) )"
   ]
  },
  {
   "cell_type": "markdown",
   "metadata": {},
   "source": [
    "## Calcul de la réflectivité"
   ]
  },
  {
   "cell_type": "code",
   "execution_count": 85,
   "metadata": {},
   "outputs": [],
   "source": [
    "S11_plaque_ref_tg = np.fft.fft( np.fft.ifft( S11_plaque_ref - S11_fondDeChambre ) * gate )\n",
    "tab_freq = freq_all\n",
    "reflectivite = np.zeros( (nb_elev, nb_freq), dtype=complex )\n",
    "S11_minus_moy    = data_S11 - S11_fondDeChambre\n",
    "S11_minus_moy_td = np.fft.ifft( S11_minus_moy, axis=1 )\n",
    "S11_minus_moy_tg = np.fft.fft( S11_minus_moy_td * gate, axis=1 )\n",
    "reflectivite     = S11_minus_moy_tg / S11_plaque_ref_tg"
   ]
  },
  {
   "cell_type": "markdown",
   "metadata": {},
   "source": [
    "## Relecture des données de la réflectivité"
   ]
  },
  {
   "cell_type": "code",
   "execution_count": 86,
   "metadata": {},
   "outputs": [],
   "source": [
    "tmp = np.loadtxt(f\"{dir_AHP45}/Reflectivite_absAHP45.txt\", skiprows=1)\n",
    "refAbsAHP45 = tmp[:,1:]\n",
    "refAbsAHP45_f = tmp[:,0]"
   ]
  },
  {
   "cell_type": "code",
   "execution_count": 17,
   "metadata": {},
   "outputs": [],
   "source": [
    "vmin = -120\n",
    "vmax = -0\n",
    "fig, ax = plt.subplots( 1, 1 )\n",
    "im = plt.pcolormesh( elevation, np.flip( freq_all ), refAbsAHP45, vmin=vmin, vmax=vmax, cmap=cmap )\n",
    "\n",
    "title = f\"refAbsAHP45\"\n",
    "ax.set_title(title)\n",
    "ax.set_xlabel( \"Elévation [°]\" )\n",
    "ax.set_ylabel( \"Fréquence [GHz]\" )\n",
    "dia.addColorBar(  im, ax, aspect='auto' )"
   ]
  },
  {
   "cell_type": "code",
   "execution_count": 18,
   "metadata": {},
   "outputs": [],
   "source": [
    "fig, ax = plt.subplots( 1, 1 )\n",
    "im = plt.pcolormesh( elevation, np.flip( freq_all ), 20*np.log10(np.abs(reflectivite)).T, \n",
    "                    vmin=vmin, vmax=vmax, cmap=cmap )\n",
    "\n",
    "title = f\"réflectivite\"\n",
    "ax.set_title(title)\n",
    "ax.set_xlabel( \"Elévation [°]\" )\n",
    "ax.set_ylabel( \"Fréquence [GHz]\" )\n",
    "dia.addColorBar(  im, ax, aspect='auto' )"
   ]
  },
  {
   "cell_type": "code",
   "execution_count": 87,
   "metadata": {},
   "outputs": [],
   "source": [
    "fig, ax = plt.subplots( 1, 1 )\n",
    "ax.plot( refAbsAHP45[:,0], label=\"refAbsAHP45\" )\n",
    "ax.plot( 20*np.log10(np.abs(reflectivite)).T[:,0], label=\"réflectivite\" )\n",
    "ax.legend()\n",
    "ax.grid()"
   ]
  },
  {
   "cell_type": "markdown",
   "metadata": {},
   "source": [
    "# Plot"
   ]
  },
  {
   "cell_type": "markdown",
   "metadata": {},
   "source": [
    "## Coefficient de réflexion"
   ]
  },
  {
   "cell_type": "code",
   "execution_count": 20,
   "metadata": {},
   "outputs": [
    {
     "name": "stdout",
     "output_type": "stream",
     "text": [
      "valMax = -78.81 valMin = -140.00\n"
     ]
    },
    {
     "data": {
      "text/plain": [
       "Text(0.5, 0, 'Fréquence [GHz]')"
      ]
     },
     "execution_count": 20,
     "metadata": {},
     "output_type": "execute_result"
    }
   ],
   "source": [
    "cmap='jet'\n",
    "\n",
    "toPlot = 20 * np.log10( np.abs( ( S11_minus_moy_tg ) ) )\n",
    "\n",
    "valMin = -140\n",
    "toPlot = 0.5 * ( np.abs( toPlot - valMin ) + toPlot - valMin ) + valMin\n",
    "valMax = np.amax( toPlot )\n",
    "valMin = np.amin( toPlot )\n",
    "print( f\"valMax = {valMax:.2f} valMin = {valMin:.2f}\")\n",
    "\n",
    "fig, ax = plt.subplots( 1, 1 )\n",
    "im = plt.pcolormesh( freq_all, elevation, toPlot, cmap='jet' )\n",
    "dia.addColorBar(  im, ax, aspect='auto' )\n",
    "title = f\"Coefficient de reflexion absorbant\\n{data_dir}\"\n",
    "ax.set_title(title)\n",
    "ax.set_ylabel( \"Elévation [°]\" )\n",
    "ax.set_xlabel( \"Fréquence [GHz]\" )"
   ]
  },
  {
   "cell_type": "markdown",
   "metadata": {},
   "source": [
    "## Réflectivité de l'absorbant"
   ]
  },
  {
   "cell_type": "code",
   "execution_count": 22,
   "metadata": {},
   "outputs": [
    {
     "name": "stdout",
     "output_type": "stream",
     "text": [
      "valMax = -59.88 valMin = -90.00\n"
     ]
    }
   ],
   "source": [
    "toPlot = np.zeros( (len(elevation), len(tab_freq)) )\n",
    "gatebis  = 0.0 * gate\n",
    "gatebis[ np.where( np.abs( freq_all - 62.5 ) < 12.4 ) ] = 1.0\n",
    "for ielev in range( len( elevation ) ):\n",
    "    toPlot[ ielev, : ] = 20 * np.log10( 1e-12 + np.abs( reflectivite[ ielev, : ] * gatebis ) )\n",
    "\n",
    "valMin = -90\n",
    "toPlot = 0.5 * ( np.abs( toPlot - valMin ) + toPlot - valMin ) + valMin\n",
    "valMax = np.amax( toPlot )\n",
    "valMin = np.amin( toPlot )\n",
    "print( f\"valMax = {valMax:.2f} valMin = {valMin:.2f}\")\n",
    "     \n",
    "vmin = -80\n",
    "vmax = -0\n",
    "fig, ax = plt.subplots( 1, 1 )\n",
    "im = plt.pcolormesh( elevation, np.flip( freq_all ), np.rot90(toPlot), cmap=cmap )\n",
    "\n",
    "title = f\"Reflectivité absorbant\\n{data_dir}\"\n",
    "ax.set_title(title)\n",
    "ax.set_xlabel( \"Elévation [°]\" )\n",
    "ax.set_ylabel( \"Fréquence [GHz]\" )\n",
    "dia.addColorBar(  im, ax, aspect='auto' )"
   ]
  },
  {
   "cell_type": "markdown",
   "metadata": {},
   "source": [
    "# Gating"
   ]
  },
  {
   "cell_type": "code",
   "execution_count": 252,
   "metadata": {},
   "outputs": [],
   "source": [
    "mu, sigma = 0, 0.1 # mean and standard deviation\n",
    "nbPoints = 2000\n",
    "nbUnit = 100\n",
    "if 0:\n",
    "    s = np.zeros(nbPoints) + np.random.normal(mu, sigma, nbPoints)\n",
    "else:\n",
    "    s = np.zeros(nbPoints)\n",
    "s[500] = 1\n",
    "s[-500] = 1\n",
    "ifft_s = np.fft.ifft(s)"
   ]
  },
  {
   "cell_type": "code",
   "execution_count": 253,
   "metadata": {},
   "outputs": [
    {
     "data": {
      "text/plain": [
       "[<matplotlib.lines.Line2D at 0x7f61a67e0860>]"
      ]
     },
     "execution_count": 253,
     "metadata": {},
     "output_type": "execute_result"
    }
   ],
   "source": [
    "fig, ax = plt.subplots(1,1)\n",
    "#ax.plot(20*np.log10(np.abs(np.fft.ifftshift(ifft_s))))\n",
    "ax.plot(np.real(ifft_s))\n",
    "#ax.set_ylim(-100,0)"
   ]
  },
  {
   "cell_type": "code",
   "execution_count": 254,
   "metadata": {},
   "outputs": [
    {
     "data": {
      "text/plain": [
       "array([ 0.001-0.j,  0.   -0.j, -0.001-0.j, ...,  0.   +0.j, -0.001+0.j,\n",
       "        0.   +0.j])"
      ]
     },
     "execution_count": 254,
     "metadata": {},
     "output_type": "execute_result"
    }
   ],
   "source": [
    "ifft_s"
   ]
  },
  {
   "cell_type": "code",
   "execution_count": 164,
   "metadata": {},
   "outputs": [
    {
     "data": {
      "text/plain": [
       "200.01000000000002"
      ]
     },
     "execution_count": 164,
     "metadata": {},
     "output_type": "execute_result"
    }
   ],
   "source": [
    "1/np.amax(np.abs(ifft_s))"
   ]
  },
  {
   "cell_type": "code",
   "execution_count": 222,
   "metadata": {},
   "outputs": [],
   "source": [
    "minTime = -10\n",
    "maxTime = 10\n",
    "Fs = 10\n",
    "Ns = ( maxTime - minTime ) * Fs + 1\n",
    "time = np.linspace( minTime, maxTime, Ns )\n",
    "myGate = np.zeros(time.shape)\n",
    "myGate[ np.where( np.abs(time) < 1 ) ] = 1\n",
    "myGateFFT         = np.fft.fftshift( np.fft.fft( myGate ) )\n",
    "myGateFFTKaiser_a = myGateFFT * np.kaiser( Ns, 6 )\n",
    "myGateFFTKaiser_b = myGateFFT * np.kaiser( Ns, 3 )\n",
    "myNewGate_a = np.fft.ifft( np.fft.fftshift( myGateFFTKaiser_a ) )\n",
    "myNewGate_b = np.fft.ifft( np.fft.fftshift( myGateFFTKaiser_b ) )"
   ]
  },
  {
   "cell_type": "code",
   "execution_count": 223,
   "metadata": {},
   "outputs": [],
   "source": [
    "fig, ax = plt.subplots(1,1)\n",
    "#ax.plot(time, 20 * np.log10( np.abs( myGate ) ), label='myGate')\n",
    "ax.plot(time, 20 * np.log10( np.abs( myNewGate_a ) ), label='myNewGate_a')\n",
    "ax.plot(time, 20 * np.log10( np.abs( myNewGate_b ) ), label='myNewGate_b')\n",
    "plt.legend()\n",
    "plt.grid()"
   ]
  },
  {
   "cell_type": "code",
   "execution_count": 199,
   "metadata": {},
   "outputs": [],
   "source": [
    "fig, ax = plt.subplots(1,1)\n",
    "ax.plot(20*np.log10(np.abs(myGateFFT)), label='myGateFFT')\n",
    "ax.plot(20*np.log10(np.abs(myGateFFTKaiser)), label='myGateFFTKaiser')\n",
    "plt.legend()\n",
    "plt.grid()"
   ]
  },
  {
   "cell_type": "markdown",
   "metadata": {},
   "source": [
    "## Kaiser\n",
    "\n",
    "numtaps, beta = scipy.signal.kaiserord(ripple, width) Determine the filter window parameters for the Kaiser window method.\n",
    "\n",
    "beta = scipy.signal.kaiser_beta(a) Compute the Kaiser parameter beta, given the attenuation a.\n",
    "\n",
    "a = scipy.signal.kaiser_atten(numtaps, width) Compute the attenuation of a Kaiser FIR filter.\n",
    "\n",
    "**RIPPLE** Upper bound for the deviation (in dB) of the magnitude of the filter’s frequency response from that of the desired filter (not including frequencies in any transition intervals). That is, if w is the frequency expressed as a fraction of the Nyquist frequency, A(w) is the actual frequency response of the filter and D(w) is the desired frequency response, the design requirement is that: abs(A(w) - D(w))) < 10**(-ripple/20)\n",
    "\n",
    "**WIDTH** of transition region, normalized so that 1 corresponds to pi radians / sample. That is, the frequency is expressed as a fraction of the Nyquist frequency."
   ]
  },
  {
   "cell_type": "code",
   "execution_count": 356,
   "metadata": {},
   "outputs": [],
   "source": [
    "from scipy.signal import kaiser_atten, kaiser_beta, kaiserord, kaiser\n",
    "from scipy.signal import firwin, freqz"
   ]
  },
  {
   "cell_type": "code",
   "execution_count": 269,
   "metadata": {},
   "outputs": [
    {
     "data": {
      "text/plain": [
       "64.48099630593983"
      ]
     },
     "execution_count": 269,
     "metadata": {},
     "output_type": "execute_result"
    }
   ],
   "source": [
    "kaiser_atten(211, 0.0375)"
   ]
  },
  {
   "cell_type": "code",
   "execution_count": 274,
   "metadata": {},
   "outputs": [
    {
     "name": "stdout",
     "output_type": "stream",
     "text": [
      "beta values depending on desired sidelobe levels\n",
      "min 4.31, norm 6.53, wide 5.32, max 6.76\n"
     ]
    }
   ],
   "source": [
    "print( \"beta values depending on desired sidelobe levels\" )\n",
    "print( f\"min {kaiser_beta(48):.2f}, norm {kaiser_beta(68):.2f}, wide {kaiser_beta(57):.2f}, max {kaiser_beta(70):.2f}\")"
   ]
  },
  {
   "cell_type": "markdown",
   "metadata": {},
   "source": [
    "According to https://community.keysight.com/thread/26609 the order of the window is fixed to 6 for gating."
   ]
  },
  {
   "cell_type": "code",
   "execution_count": 281,
   "metadata": {},
   "outputs": [],
   "source": [
    "ripple = 10**(0.1/20)"
   ]
  },
  {
   "cell_type": "code",
   "execution_count": 282,
   "metadata": {},
   "outputs": [],
   "source": [
    "ripple_dB = 20*np.log10(ripple)"
   ]
  },
  {
   "cell_type": "code",
   "execution_count": 264,
   "metadata": {},
   "outputs": [
    {
     "name": "stdout",
     "output_type": "stream",
     "text": [
      "pass band ripple = -46.02 [dB], rejection = 65 [dB]\n"
     ]
    }
   ],
   "source": [
    "passBandRipple = 0.005\n",
    "rejection_dB = 65\n",
    "passBandRipple_dB = 20 * np.log10( passBandRipple )\n",
    "print( f\"pass band ripple = {passBandRipple_dB:.2f} [dB], rejection = {rejection_dB} [dB]\" )"
   ]
  },
  {
   "cell_type": "code",
   "execution_count": 255,
   "metadata": {},
   "outputs": [
    {
     "data": {
      "text/plain": [
       "(167, 6.20426)"
      ]
     },
     "execution_count": 255,
     "metadata": {},
     "output_type": "execute_result"
    }
   ],
   "source": [
    "fs = 1000.0\n",
    "cutoff = 175\n",
    "fs = \n",
    "ripple = 65\n",
    "width = 24\n",
    "numtaps, beta = kaiserord( ripple, width/(0.5*fs))\n",
    "numtaps, beta"
   ]
  },
  {
   "cell_type": "code",
   "execution_count": 256,
   "metadata": {},
   "outputs": [],
   "source": [
    "taps = firwin(numtaps, cutoff, window=('kaiser', beta), scale=False, nyq=0.5*fs)"
   ]
  },
  {
   "cell_type": "code",
   "execution_count": 257,
   "metadata": {},
   "outputs": [],
   "source": [
    "w, h = freqz(taps, worN=8000)\n",
    "w *= 0.5 * fs / np.pi  # Convert w to Hz."
   ]
  },
  {
   "cell_type": "code",
   "execution_count": 258,
   "metadata": {},
   "outputs": [
    {
     "data": {
      "text/plain": [
       "[<matplotlib.lines.Line2D at 0x7f61a66030b8>]"
      ]
     },
     "execution_count": 258,
     "metadata": {},
     "output_type": "execute_result"
    }
   ],
   "source": [
    "fig, ax = plt.subplots(1,1)\n",
    "ax.plot( w, 20 * np.log10( np.abs( h ) ), label='h'  )\n",
    "plt.grid()\n",
    "plt.legend()"
   ]
  },
  {
   "cell_type": "markdown",
   "metadata": {},
   "source": [
    "## Windowing\n",
    "The window settings balance response resolution versus dynamic range.\n",
    "\n",
    "* Minimum Window = Best Response Resolution\n",
    "* Maximum Window = Best Dynamic Range\n",
    "\n",
    "\n",
    "* Kaiser Beta  Changes window size using a Kaiser Beta value\n",
    "* Impulse Width  Changes window size using an Impulse Width value\n",
    "\n",
    "Minimum ±0.1 dB  -48 dB  1.4/Freq Span  2.8/Freq Span\n",
    "\n",
    "Normal  ±0.1 dB  -68 dB  2.8/Freq Span  5.6/Freq Span\n",
    "\n",
    "Wide    ±0.1 dB  -57 dB  4.4/Freq Span  8.8/Freq Span\n",
    "\n",
    "Maximum ±0.01 dB -70 dB 12.7/Freq Span 25.4/Freq Span"
   ]
  },
  {
   "cell_type": "code",
   "execution_count": null,
   "metadata": {},
   "outputs": [],
   "source": []
  }
 ],
 "metadata": {
  "kernelspec": {
   "display_name": "Python 3",
   "language": "python",
   "name": "python3"
  },
  "language_info": {
   "codemirror_mode": {
    "name": "ipython",
    "version": 3
   },
   "file_extension": ".py",
   "mimetype": "text/x-python",
   "name": "python",
   "nbconvert_exporter": "python",
   "pygments_lexer": "ipython3",
   "version": "3.7.1"
  },
  "toc": {
   "base_numbering": 1,
   "nav_menu": {},
   "number_sections": true,
   "sideBar": true,
   "skip_h1_title": false,
   "title_cell": "Table of Contents",
   "title_sidebar": "Contents",
   "toc_cell": false,
   "toc_position": {
    "height": "calc(100% - 180px)",
    "left": "10px",
    "top": "150px",
    "width": "343.4px"
   },
   "toc_section_display": true,
   "toc_window_display": true
  },
  "varInspector": {
   "cols": {
    "lenName": 16,
    "lenType": 16,
    "lenVar": 40
   },
   "kernels_config": {
    "python": {
     "delete_cmd_postfix": "",
     "delete_cmd_prefix": "del ",
     "library": "var_list.py",
     "varRefreshCmd": "print(var_dic_list())"
    },
    "r": {
     "delete_cmd_postfix": ") ",
     "delete_cmd_prefix": "rm(",
     "library": "var_list.r",
     "varRefreshCmd": "cat(var_dic_list()) "
    }
   },
   "types_to_exclude": [
    "module",
    "function",
    "builtin_function_or_method",
    "instance",
    "_Feature"
   ],
   "window_display": false
  }
 },
 "nbformat": 4,
 "nbformat_minor": 2
}
