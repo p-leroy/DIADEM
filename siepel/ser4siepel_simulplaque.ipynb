{
 "cells": [
  {
   "cell_type": "code",
   "execution_count": 1,
   "metadata": {},
   "outputs": [],
   "source": [
    "import numpy as np\n",
    "import matplotlib.pyplot as plt"
   ]
  },
  {
   "cell_type": "code",
   "execution_count": 2,
   "metadata": {},
   "outputs": [],
   "source": [
    "%matplotlib qt5"
   ]
  },
  {
   "cell_type": "markdown",
   "metadata": {},
   "source": [
    "A steering vector represents the set of phase delays a plane wave experiences, evaluated at a set of array elements (antennas). The phases are specified with respect to an arbitrary origin.\n",
    "\n",
    "For instance, suppose a plane wave is described by a wave vector k. If there are N elements in an antenna array, with element i having location given by:\n",
    "\n",
    "$$ r_i = ( x_i, y_i, z_i ) $$\n",
    "\n",
    "Then the steering vector is an Nx1 complex vector representing the relative phases at each antenna, and is given by:\n",
    "\n",
    "$$ v(k) = \\left[\\begin{array}{@{}c@{}}\n",
    "    e^{-jk.r_1} \\\\\n",
    "    e^{-jk.r_2} \\\\\n",
    "    \\vdots \\\\\n",
    "    e^{-jk.r_N}\n",
    "    \\end{array} \\right] $$\n",
    "    \n",
    "The steering vector is written as v(k), to make explicit that it depends on the frequency and propagation direction (which determine k) of the plane wave."
   ]
  },
  {
   "cell_type": "code",
   "execution_count": 3,
   "metadata": {},
   "outputs": [],
   "source": [
    "def steering_vector( k0, theta, phi, d, Matxy, rad=1 ): # llc\n",
    "    if rad == 1:\n",
    "        deg2rad = 1\n",
    "    else:\n",
    "        deg2rad = np.pi / 180.0\n",
    "    xsource = d * np.sin( deg2rad * theta) * np.cos( deg2rad * phi )\n",
    "    ysource = d * np.sin( deg2rad * theta) * np.sin( deg2rad * phi )\n",
    "    zsource = d * np.cos( deg2rad * theta)\n",
    "    Mat_dxy = np.abs( Matxy - ( xsource + 1j * ysource ) )\n",
    "    Mat_d   = np.abs( Mat_dxy + 1j * zsource )\n",
    "    Mat_theta = np.arctan( Mat_dxy / zsource )\n",
    "    A = np.exp( - 1j * k0 * Mat_d ) / Mat_d\n",
    "    return A"
   ]
  },
  {
   "cell_type": "code",
   "execution_count": 4,
   "metadata": {},
   "outputs": [],
   "source": [
    "def steervec( k0, theta, phi, d, column_x, row_y, rad=1 ): # ple\n",
    "    if rad == 1:\n",
    "        deg2rad = 1\n",
    "    else:\n",
    "        deg2rad = np.pi / 180.0\n",
    "    xsource = d * np.sin( deg2rad * theta) * np.cos( deg2rad * phi )\n",
    "    ysource = d * np.sin( deg2rad * theta) * np.sin( deg2rad * phi )\n",
    "    zsource = d * np.cos( deg2rad * theta)\n",
    "    Mat_dxy = ( (column_x-xsource)**2 + (row_y-ysource)**2 )**0.5\n",
    "    Mat_d = ( Mat_dxy**2 + zsource**2)**0.5\n",
    "    Mat_theta = np.arctan( Mat_dxy / zsource )\n",
    "    A = np.exp( - 1j * k0 * Mat_d ) / Mat_d\n",
    "    return A"
   ]
  },
  {
   "cell_type": "code",
   "execution_count": 5,
   "metadata": {},
   "outputs": [],
   "source": [
    "def steering_vector_planar( k0, x, y, z, Matxy ): # llc\n",
    "    xsource = x\n",
    "    ysource = y\n",
    "    zsource = z\n",
    "    Mat_dxy = np.abs( Matxy - ( xsource + 1j * ysource ) )\n",
    "    Mat_d   = np.abs( Mat_dxy + 1j * zsource )\n",
    "    Mat_theta = np.arctan( Mat_dxy / zsource )\n",
    "    A = np.exp( - 1j * k0 * Mat_d ) / Mat_d\n",
    "    return A"
   ]
  },
  {
   "cell_type": "code",
   "execution_count": 6,
   "metadata": {},
   "outputs": [],
   "source": [
    "deg2rad = np.pi / 180\n",
    "f = 50 # frequency [GHz]\n",
    "k0 = 2 * np.pi * f / 300.0"
   ]
  },
  {
   "cell_type": "markdown",
   "metadata": {},
   "source": [
    "# Plate"
   ]
  },
  {
   "cell_type": "code",
   "execution_count": 7,
   "metadata": {},
   "outputs": [],
   "source": [
    "# plate dimensions\n",
    "Lx = 300\n",
    "Ly = 300\n",
    "dx = 0.5 * 300 / f # c / ( 2 * f )\n",
    "dy = 0.5 * 300 / f # c / ( 2 * f )\n",
    "\n",
    "nbx = int( np.ceil( Lx / dx ) ) + 1\n",
    "nby = int( np.ceil( Ly / dy ) ) + 1\n",
    "tabx = np.linspace( -0.5 * Lx, 0.5 * Lx, nbx ).reshape(-1,1)\n",
    "taby = np.linspace( -0.5 * Ly, 0.5 * Ly, nby ).reshape(1,-1)\n",
    "Matxy = tabx + 1j * taby"
   ]
  },
  {
   "cell_type": "markdown",
   "metadata": {},
   "source": [
    "# Source"
   ]
  },
  {
   "cell_type": "markdown",
   "metadata": {},
   "source": [
    "## Parameters"
   ]
  },
  {
   "cell_type": "code",
   "execution_count": 8,
   "metadata": {},
   "outputs": [],
   "source": [
    "# source location\n",
    "d_source = 480000\n",
    "theta_source = -10.0\n",
    "phi_source = 0.0\n",
    "offset_source_x = 0.00\n",
    "# compute source position\n",
    "xsource = d_source * np.sin( deg2rad * theta_source) * np.cos( deg2rad * phi_source ) + offset_source_x\n",
    "ysource = d_source * np.sin( deg2rad * theta_source) * np.sin( deg2rad * phi_source )\n",
    "zsource = d_source * np.cos( deg2rad * theta_source)\n",
    "source = (xsource, ysource, zsource)\n",
    "\n",
    "# source aperture : cos(theta).^n_source\n",
    "n_source = 0"
   ]
  },
  {
   "cell_type": "markdown",
   "metadata": {},
   "source": [
    "## Steering vector"
   ]
  },
  {
   "cell_type": "code",
   "execution_count": 15,
   "metadata": {},
   "outputs": [],
   "source": [
    "rad = 0\n",
    "Mat_dxy = ( (tabx-xsource)**2 + (taby-ysource)**2 )**0.5\n",
    "Mat_d = ( Mat_dxy**2 + zsource**2)**0.5\n",
    "Mat_theta = np.arctan( Mat_dxy / zsource )\n",
    "steervec_aperture = steervec( k0, theta_source, phi_source, d_source, tabx, taby, rad )\n",
    "#steervec_aperture = steering_vector( k0, theta_source, phi_source, d_source, Matxy, rad )\n",
    "A_aperture = ( np.cos( Mat_theta ) ** n_source ) * steervec_aperture_ple"
   ]
  },
  {
   "cell_type": "markdown",
   "metadata": {},
   "source": [
    "# Observation"
   ]
  },
  {
   "cell_type": "code",
   "execution_count": 16,
   "metadata": {},
   "outputs": [],
   "source": [
    "theta_obs = np.linspace( -30, 30, 3001 )\n",
    "phi_obs = 0.0\n",
    "d_obs = d_source\n",
    "         \n",
    "E = np.zeros( theta_obs.size, dtype=complex )\n",
    "\n",
    "for i, theta in enumerate( theta_obs ):\n",
    "    A = steervec( k0, theta, phi_obs, d_obs, tabx, taby, rad=0 )\n",
    "    E[i] = np.sum( A_aperture * A )"
   ]
  },
  {
   "cell_type": "code",
   "execution_count": 17,
   "metadata": {},
   "outputs": [
    {
     "data": {
      "text/plain": [
       "Text(0, 0.5, 'observation[dB]')"
      ]
     },
     "execution_count": 17,
     "metadata": {},
     "output_type": "execute_result"
    }
   ],
   "source": [
    "fig, ax = plt.subplots(1,1)\n",
    "ax.plot( theta_obs, 20 * np.log10( np.abs( E ) ) )\n",
    "ax.grid()\n",
    "ax.set_xlabel(\"theta_obs [°]\")\n",
    "ax.set_ylabel(\"observation[dB]\")"
   ]
  },
  {
   "cell_type": "code",
   "execution_count": null,
   "metadata": {},
   "outputs": [],
   "source": []
  }
 ],
 "metadata": {
  "kernelspec": {
   "display_name": "Python 3",
   "language": "python",
   "name": "python3"
  },
  "language_info": {
   "codemirror_mode": {
    "name": "ipython",
    "version": 3
   },
   "file_extension": ".py",
   "mimetype": "text/x-python",
   "name": "python",
   "nbconvert_exporter": "python",
   "pygments_lexer": "ipython3",
   "version": "3.7.3"
  },
  "toc": {
   "base_numbering": 1,
   "nav_menu": {},
   "number_sections": true,
   "sideBar": true,
   "skip_h1_title": false,
   "title_cell": "Table of Contents",
   "title_sidebar": "Contents",
   "toc_cell": false,
   "toc_position": {
    "height": "calc(100% - 180px)",
    "left": "10px",
    "top": "150px",
    "width": "330.4px"
   },
   "toc_section_display": true,
   "toc_window_display": true
  },
  "varInspector": {
   "cols": {
    "lenName": 16,
    "lenType": 16,
    "lenVar": 40
   },
   "kernels_config": {
    "python": {
     "delete_cmd_postfix": "",
     "delete_cmd_prefix": "del ",
     "library": "var_list.py",
     "varRefreshCmd": "print(var_dic_list())"
    },
    "r": {
     "delete_cmd_postfix": ") ",
     "delete_cmd_prefix": "rm(",
     "library": "var_list.r",
     "varRefreshCmd": "cat(var_dic_list()) "
    }
   },
   "types_to_exclude": [
    "module",
    "function",
    "builtin_function_or_method",
    "instance",
    "_Feature"
   ],
   "window_display": false
  }
 },
 "nbformat": 4,
 "nbformat_minor": 2
}
