{
 "cells": [
  {
   "cell_type": "markdown",
   "metadata": {},
   "source": [
    "# Init"
   ]
  },
  {
   "cell_type": "code",
   "execution_count": null,
   "metadata": {},
   "outputs": [],
   "source": [
    "import os, sys, time\n",
    "\n",
    "import numpy as np\n",
    "import matplotlib.pyplot as plt\n",
    "\n",
    "config = \"bruz\"\n",
    "if config == \"ur1\":\n",
    "    sys.path.insert(0, \"../\")\n",
    "    siepelDir = \"C:/Users/pleroy/Documents/CAMILL/SER/WR15_v2\"\n",
    "elif config == \"bruz\":\n",
    "    sys.path.insert(0, \"/home/pleroy/DEV/DIADEM\")\n",
    "    siepelDir = \"/home/pleroy/DATA/CAMILL/WR15_v2\"\n",
    "\n",
    "import toolsdiadem.tools as dia\n",
    "import toolsdiadem.ser as ser\n",
    "from toolsdiadem.Probe import Probe\n",
    "from toolsdiadem.ConfigSer import ConfigSer"
   ]
  },
  {
   "cell_type": "code",
   "execution_count": null,
   "metadata": {},
   "outputs": [],
   "source": [
    "#%matplotlib qt5\n",
    "%load_ext autoreload\n",
    "%autoreload 2"
   ]
  },
  {
   "cell_type": "code",
   "execution_count": null,
   "metadata": {},
   "outputs": [],
   "source": [
    "cmap='jet'\n",
    "configSupport = os.path.join(siepelDir, \"wr10_plaqueSupport.ini\")\n",
    "conf = ConfigSer(configSupport)\n",
    "conf.printConfig()"
   ]
  },
  {
   "cell_type": "markdown",
   "metadata": {},
   "source": [
    "# Données de la probe"
   ]
  },
  {
   "cell_type": "code",
   "execution_count": null,
   "metadata": {},
   "outputs": [],
   "source": [
    "tmp = np.loadtxt(f\"{conf.out_path}/data/S11_probe_interpolated.txt\")\n",
    "S11_probe = tmp[:,1] + 1j * tmp[:,2]\n",
    "freq_probe = tmp[:,0] / 1e9\n",
    "d = np.linspace( 0, 300 / ( freq_probe[1] - freq_probe[0] ), freq_probe.size ) * 0.5"
   ]
  },
  {
   "cell_type": "markdown",
   "metadata": {},
   "source": [
    "# Calcul du fond de chambre\n",
    "ref: ser4siepel_multiband_scan_elev_F2C.sce"
   ]
  },
  {
   "cell_type": "code",
   "execution_count": null,
   "metadata": {},
   "outputs": [],
   "source": [
    "S11_f2c = ser.computeF2C(conf.base_path, conf.dic_dir, conf.nb_elev, conf.nb_freq, conf.nb_ssb, tag=\"WR10_\")"
   ]
  },
  {
   "cell_type": "code",
   "execution_count": null,
   "metadata": {},
   "outputs": [],
   "source": [
    "fig, ax = plt.subplots(1,1)\n",
    "ax.plot(d, ser.dB(np.fft.ifft(S11_f2c)), label=\"fond de chambre\" )\n",
    "ax.plot(d, ser.dB(np.fft.ifft(S11_probe)), label=\"probe\")\n",
    "ax.plot(d, ser.dB(np.fft.ifft(S11_f2c - S11_probe ) ), label=\"fond de chambre - probe\")\n",
    "ax.grid()\n",
    "ax.legend()\n",
    "ax.set_xlabel(\"[m]\")\n",
    "ax.set_ylabel(\"[dB]\")\n",
    "ax.set_title( \"time domain\" )"
   ]
  },
  {
   "cell_type": "markdown",
   "metadata": {},
   "source": [
    "# Sauvegarde des données"
   ]
  },
  {
   "cell_type": "code",
   "execution_count": null,
   "metadata": {},
   "outputs": [],
   "source": [
    "file_f2c = f\"{conf.out_path}/data/S11_fond_de_chambre.txt\"\n",
    "tmp[:,1] = np.real(S11_f2c)\n",
    "tmp[:,2] = np.imag(S11_f2c)\n",
    "np.savetxt(file_f2c, tmp, header=\"#GHz real imag\")\n",
    "print(file_f2c)"
   ]
  },
  {
   "cell_type": "code",
   "execution_count": null,
   "metadata": {},
   "outputs": [],
   "source": []
  },
  {
   "cell_type": "code",
   "execution_count": null,
   "metadata": {},
   "outputs": [],
   "source": []
  }
 ],
 "metadata": {
  "kernelspec": {
   "display_name": "Python 3",
   "language": "python",
   "name": "python3"
  },
  "language_info": {
   "codemirror_mode": {
    "name": "ipython",
    "version": 3
   },
   "file_extension": ".py",
   "mimetype": "text/x-python",
   "name": "python",
   "nbconvert_exporter": "python",
   "pygments_lexer": "ipython3",
   "version": "3.7.6"
  },
  "toc": {
   "base_numbering": 1,
   "nav_menu": {},
   "number_sections": true,
   "sideBar": true,
   "skip_h1_title": false,
   "title_cell": "Table of Contents",
   "title_sidebar": "Contents",
   "toc_cell": false,
   "toc_position": {
    "height": "calc(100% - 180px)",
    "left": "10px",
    "top": "150px",
    "width": "232.4px"
   },
   "toc_section_display": true,
   "toc_window_display": true
  },
  "varInspector": {
   "cols": {
    "lenName": 16,
    "lenType": 16,
    "lenVar": 40
   },
   "kernels_config": {
    "python": {
     "delete_cmd_postfix": "",
     "delete_cmd_prefix": "del ",
     "library": "var_list.py",
     "varRefreshCmd": "print(var_dic_list())"
    },
    "r": {
     "delete_cmd_postfix": ") ",
     "delete_cmd_prefix": "rm(",
     "library": "var_list.r",
     "varRefreshCmd": "cat(var_dic_list()) "
    }
   },
   "types_to_exclude": [
    "module",
    "function",
    "builtin_function_or_method",
    "instance",
    "_Feature"
   ],
   "window_display": false
  }
 },
 "nbformat": 4,
 "nbformat_minor": 4
}
