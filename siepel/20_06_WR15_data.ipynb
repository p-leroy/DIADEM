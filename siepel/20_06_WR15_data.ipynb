{
 "cells": [
  {
   "cell_type": "markdown",
   "metadata": {},
   "source": [
    "# Init"
   ]
  },
  {
   "cell_type": "code",
   "execution_count": 7,
   "metadata": {},
   "outputs": [],
   "source": [
    "import configparser, os, sys\n",
    "\n",
    "import numpy as np\n",
    "import matplotlib.pyplot as plt\n",
    "from scipy.signal import kaiser\n",
    "\n",
    "config = \"bruz\"\n",
    "if config == \"ur1\":\n",
    "    sys.path.insert(0, \"../\")\n",
    "    siepelDir = \"C:/Users/pleroy/Documents/CAMILL/SER/WR15_v2\"\n",
    "elif config == \"bruz\":\n",
    "    sys.path.insert(0, \"/home/pleroy/DEV/DIADEM\")\n",
    "    siepelDir = \"/home/pleroy/DATA/CAMILL/WR15_v2\"\n",
    "\n",
    "import toolsdiadem.tools as dia\n",
    "import toolsdiadem.ser as ser\n",
    "from toolsdiadem.ConfigSer import ConfigSer\n",
    "from toolsdiadem.Gate import Gate\n",
    "from toolsdiadem.Probe import Probe"
   ]
  },
  {
   "cell_type": "code",
   "execution_count": 2,
   "metadata": {},
   "outputs": [],
   "source": [
    "%matplotlib qt5\n",
    "%load_ext autoreload\n",
    "%autoreload 2"
   ]
  },
  {
   "cell_type": "code",
   "execution_count": 13,
   "metadata": {},
   "outputs": [
    {
     "name": "stdout",
     "output_type": "stream",
     "text": [
      "/home/pleroy/DATA/CAMILL/WR15_v2/wr15_plaqueSupport.ini\n",
      "nb_elev 41\n",
      "nb_freq 2001\n",
      "nb_ssb 3\n",
      "el0 0.7\n",
      "az0 -0.44\n",
      "base_path /home/pleroy/DATA/CAMILL/WR15_v2\n",
      "out_path /home/pleroy/DATA/CAMILL/WR15_v2/processing/wr15\n",
      "gateWidth 500.0\n",
      "gateCenter 6450.0\n",
      "/home/pleroy/DATA/CAMILL/WR15_v2/wr15_plaqueRef.ini\n",
      "nb_elev 41\n",
      "nb_freq 2001\n",
      "nb_ssb 3\n",
      "el0 0.31\n",
      "az0 -0.44\n",
      "base_path /home/pleroy/DATA/CAMILL/WR15_v2\n",
      "out_path /home/pleroy/DATA/CAMILL/WR15_v2/processing/wr15\n",
      "gateWidth 0.0\n",
      "gateCenter 0.0\n"
     ]
    }
   ],
   "source": [
    "cmap='jet'\n",
    "configSupport = os.path.join(siepelDir, \"wr15_plaqueSupport.ini\")\n",
    "configRef = os.path.join(siepelDir, \"wr15_plaqueRef.ini\")\n",
    "conf = ConfigSer(configSupport)\n",
    "confRef = ConfigSer(configRef)\n",
    "conf.printConfig()\n",
    "confRef.printConfig()\n",
    "\n",
    "centerFreq = 62.5\n",
    "bandWidth = 12.4\n",
    "idxElevation = 20\n",
    "valMin = -90\n",
    "vmin = -90\n",
    "vmax = -40"
   ]
  },
  {
   "cell_type": "code",
   "execution_count": 14,
   "metadata": {},
   "outputs": [],
   "source": [
    "withPlots = 0"
   ]
  },
  {
   "cell_type": "markdown",
   "metadata": {},
   "source": [
    "## Fond de chambre"
   ]
  },
  {
   "cell_type": "code",
   "execution_count": 15,
   "metadata": {},
   "outputs": [
    {
     "name": "stdout",
     "output_type": "stream",
     "text": [
      "/home/pleroy/DATA/CAMILL/WR15_v2/processing/wr15/data/WR15_S11_fond_de_chambre.txt\n"
     ]
    }
   ],
   "source": [
    "file_f2c = f\"{conf.out_path}/data/WR15_S11_fond_de_chambre.txt\"\n",
    "tmp = np.loadtxt(file_f2c, skiprows=1)\n",
    "print(file_f2c)\n",
    "S11_f2c = tmp[:,1] + 1j * tmp[:,2]"
   ]
  },
  {
   "cell_type": "markdown",
   "metadata": {},
   "source": [
    "## Probe"
   ]
  },
  {
   "cell_type": "code",
   "execution_count": 16,
   "metadata": {},
   "outputs": [
    {
     "name": "stdout",
     "output_type": "stream",
     "text": [
      "/home/pleroy/DATA/CAMILL/WR15_v2/S11FDC_WR15.s1p\n"
     ]
    }
   ],
   "source": [
    "file_probe = os.path.join(conf.base_path, \"S11FDC_WR15.s1p\")\n",
    "probe = Probe(file_probe)\n",
    "print(file_probe)"
   ]
  },
  {
   "cell_type": "markdown",
   "metadata": {},
   "source": [
    "## Plaque de référence"
   ]
  },
  {
   "cell_type": "code",
   "execution_count": 17,
   "metadata": {},
   "outputs": [
    {
     "name": "stdout",
     "output_type": "stream",
     "text": [
      "/home/pleroy/DATA/CAMILL/WR15_v2/processing/wr15/data/WR15_S11_plaque_ref.txt\n"
     ]
    }
   ],
   "source": [
    "file_ref = f\"{confRef.out_path}/data/WR15_S11_plaque_ref.txt\"\n",
    "tmp = np.loadtxt(file_ref, skiprows=1)\n",
    "S11_reference = tmp[:, 1] + 1j * tmp[:, 2]\n",
    "freq_reference = tmp[:, 0]\n",
    "print(file_ref)\n",
    "d = np.linspace(0, 300 / (freq_reference[1] - freq_reference[0]), conf.nb_freq) * 0.5"
   ]
  },
  {
   "cell_type": "code",
   "execution_count": 18,
   "metadata": {},
   "outputs": [
    {
     "data": {
      "text/plain": [
       "Text(0.5, 1.0, 'time domain, width 500 center 6450')"
      ]
     },
     "execution_count": 18,
     "metadata": {},
     "output_type": "execute_result"
    }
   ],
   "source": [
    "fig, ax = plt.subplots(1,1)\n",
    "ax.plot(d, ser.dB(np.fft.ifft(S11_reference)), label=\"reference\")\n",
    "ax.plot(d, ser.dB(np.fft.ifft(S11_f2c)), label=\"f2c\")\n",
    "ax.plot(d, ser.dB(np.fft.ifft(probe.S11)), label=\"probe\")\n",
    "ax.plot(d, ser.dB(np.fft.ifft(S11_reference - probe.S11)), label=\"reference - probe\")\n",
    "ax.plot(d, ser.dB(np.fft.ifft(S11_reference - S11_f2c)), label=\"reference - f2c\")\n",
    "ax.grid()\n",
    "ax.legend()\n",
    "ax.set_xlabel(\"[m]\")\n",
    "ax.set_ylabel(\"[dB]\")\n",
    "ax.set_title(f\"time domain, width {conf.gateWidth:.0f} center {conf.gateCenter:.0f}\")"
   ]
  },
  {
   "cell_type": "markdown",
   "metadata": {},
   "source": [
    "# Réflectivité\n",
    "ref: ser4siepel_multiband_scan_elev_Reflectivite.sce"
   ]
  },
  {
   "cell_type": "markdown",
   "metadata": {},
   "source": [
    "## Initialisation des variables"
   ]
  },
  {
   "cell_type": "code",
   "execution_count": 19,
   "metadata": {},
   "outputs": [],
   "source": [
    "data_S11         = np.zeros((conf.nb_elev, conf.nb_freq), dtype=complex)\n",
    "data_S11_td      = np.zeros((conf.nb_elev, conf.nb_freq), dtype=complex)\n",
    "data_S11_tg      = np.zeros((conf.nb_elev, conf.nb_freq), dtype=complex)\n",
    "S11_minus_moy    = np.zeros((conf.nb_elev, conf.nb_freq), dtype=complex)\n",
    "S11_minus_moy_td = np.zeros((conf.nb_elev, conf.nb_freq), dtype=complex)\n",
    "S11_minus_moy_tg = np.zeros((conf.nb_elev, conf.nb_freq), dtype=complex)\n",
    "reflectivite     = np.zeros((conf.nb_elev, conf.nb_freq), dtype=complex)\n",
    "S11_moy          = np.zeros(conf.nb_freq,            dtype=complex)\n",
    "S11_moy_square   = np.zeros(conf.nb_freq,            dtype=complex)"
   ]
  },
  {
   "cell_type": "markdown",
   "metadata": {},
   "source": [
    "## Lecture des données et time gating"
   ]
  },
  {
   "cell_type": "code",
   "execution_count": 20,
   "metadata": {},
   "outputs": [
    {
     "name": "stdout",
     "output_type": "stream",
     "text": [
      "gateSize 167\n"
     ]
    }
   ],
   "source": [
    "myGate = Gate(d, width=conf.gateWidth, center=conf.gateCenter)\n",
    "gate = myGate.gateLLC"
   ]
  },
  {
   "cell_type": "markdown",
   "metadata": {},
   "source": [
    "## Calcul de la réflectivité"
   ]
  },
  {
   "cell_type": "code",
   "execution_count": 36,
   "metadata": {},
   "outputs": [],
   "source": [
    "date, absorbant = \"20200703\", \"012_J\"\n",
    "date, absorbant = \"20200703\", \"014_N\"\n",
    "#date, absorbant = \"20200703\", \"013_0\"\n",
    "dir_abs = f\"{conf.base_path}/{date}/{absorbant}\"    \n",
    "freq_all, data_S11 = ser.getData_ssb(conf.nb_elev, conf.nb_freq, conf.nb_ssb, dir_abs)\n",
    "\n",
    "d = np.linspace(0, 300 / (freq_all[1] - freq_all[0]), conf.nb_freq) * 0.5"
   ]
  },
  {
   "cell_type": "code",
   "execution_count": 37,
   "metadata": {},
   "outputs": [],
   "source": [
    "reflectivite = ser.getReflectivite(data_S11, S11_reference, S11_f2c, myGate.gateLLC)"
   ]
  },
  {
   "cell_type": "code",
   "execution_count": 38,
   "metadata": {},
   "outputs": [],
   "source": [
    "S11_plaque_ref_tg = np.fft.fft(np.fft.ifft(S11_reference - S11_f2c) * gate)\n",
    "S11_minus_fdc = data_S11 - S11_f2c\n",
    "s11_minus_fdc_td = np.fft.ifft(S11_minus_fdc, axis=1)\n",
    "s11_minus_fdc_tg = s11_minus_fdc_td * gate\n",
    "S11_minus_fdc_tg = np.fft.fft(s11_minus_fdc_tg, axis=1)\n",
    "reflectivite = S11_minus_fdc_tg / S11_plaque_ref_tg\n",
    "\n",
    "s11_td = np.fft.ifft(data_S11, axis=1)\n",
    "s11_td_plaqueRef = np.fft.ifft(S11_reference)"
   ]
  },
  {
   "cell_type": "code",
   "execution_count": 39,
   "metadata": {},
   "outputs": [
    {
     "data": {
      "text/plain": [
       "Text(0.5, 1.0, '014_N 20200703, élévation 0.7°')"
      ]
     },
     "execution_count": 39,
     "metadata": {},
     "output_type": "execute_result"
    }
   ],
   "source": [
    "idx = 20\n",
    "plt.figure()\n",
    "plt.plot(d, ser.dB(s11_td[idx, :]), label=\"s11_td\")\n",
    "plt.plot(d, ser.dB(s11_td_plaqueRef), label=\"s11_td_plaqueRef\")\n",
    "plt.plot(d, ser.dB(s11_minus_fdc_td[idx, :]), label=\"s11_minus_fdc_td\")\n",
    "plt.plot(d, ser.dB(s11_minus_fdc_tg[idx, :]), label=\"s11_minus_fdc_tg\")\n",
    "plt.legend()\n",
    "plt.grid()\n",
    "plt.title(f\"{absorbant} {date}, élévation {conf.elevation[idx]}°\")"
   ]
  },
  {
   "cell_type": "markdown",
   "metadata": {},
   "source": [
    "## Plot"
   ]
  },
  {
   "cell_type": "code",
   "execution_count": 26,
   "metadata": {},
   "outputs": [
    {
     "name": "stdout",
     "output_type": "stream",
     "text": [
      "valMax = -36.59 valMin = -90.00\n"
     ]
    }
   ],
   "source": [
    "toPlot = np.zeros( (conf.nb_elev, conf.nb_freq) )\n",
    "gatebis  = 0.0 * myGate.gateLLC\n",
    "gatebis[np.where(np.abs(freq_all - centerFreq) < bandWidth)] = 1.0\n",
    "toPlot = 20 * np.log10(1e-12 + np.abs(reflectivite * gatebis))\n",
    "\n",
    "valMin = -90\n",
    "toPlot = 0.5 * (np.abs(toPlot - valMin) + toPlot - valMin) + valMin\n",
    "valMax = np.amax(toPlot)\n",
    "valMin = np.amin(toPlot)\n",
    "print( f\"valMax = {valMax:.2f} valMin = {valMin:.2f}\")\n",
    "     \n",
    "vmin = -80\n",
    "vmax = -0\n",
    "fig, ax = plt.subplots(1, 1)\n",
    "im = plt.pcolormesh(conf.elevation, np.flip(freq_all), np.rot90(toPlot), cmap=cmap)\n",
    "\n",
    "title = f\"Réflectivité absorbant\\n{dir_abs}\"\n",
    "ax.set_title(title)\n",
    "ax.set_xlabel(\"Elévation [°]\")\n",
    "ax.set_ylabel(\"Fréquence [GHz]\")\n",
    "dia.addColorBar( im, ax, aspect='auto')"
   ]
  },
  {
   "cell_type": "markdown",
   "metadata": {},
   "source": [
    "# Tous les absorbants"
   ]
  },
  {
   "cell_type": "markdown",
   "metadata": {},
   "source": [
    "20200701 = [\"000_A\", \"001_C\", \"002_E\", \"003_W\", \"004_V\", \"005_G\"]\n",
    "\n",
    "20200703 = [\"006_L\", \"007_M\", \"008_X\", \"009_H\", \"010_I\", \"011_K\", \"012_J\", \"013_O\", \"014_N\", \"015_D\", \"016_T\", \"017_AB_u\", \"018_N_u\"]"
   ]
  },
  {
   "cell_type": "code",
   "execution_count": 27,
   "metadata": {},
   "outputs": [],
   "source": [
    "np.save(f\"{conf.out_path}/data/freq_WR15\", freq_all)\n",
    "np.save(f\"{conf.out_path}/data/elevation_WR15\", conf.elevation)"
   ]
  },
  {
   "cell_type": "code",
   "execution_count": 29,
   "metadata": {},
   "outputs": [
    {
     "name": "stdout",
     "output_type": "stream",
     "text": [
      "======= 065_AC =======\n",
      "valMax = -31.69 valMin = -108.82\n",
      "moy = 0.004844, sigma = 0.004655\n",
      "moy = -46.30 [dB], sigma = -46.64 [dB]\n",
      "======= 066_AD =======\n",
      "valMax = -33.02 valMin = -102.31\n",
      "moy = 0.004401, sigma = 0.004287\n",
      "moy = -47.13 [dB], sigma = -47.36 [dB]\n"
     ]
    }
   ],
   "source": [
    "idx = np.where(np.abs(freq_all - centerFreq) < bandWidth)\n",
    "idxAlt = np.where(np.abs(freq_all - centerFreq) >= bandWidth)\n",
    "\n",
    "dic_stats = {}\n",
    "toPlot = np.zeros((conf.nb_elev, conf.nb_freq))\n",
    "\n",
    "gate = myGate.gateLLC\n",
    "date = \"20200703\" # 01, 03\n",
    "date = \"20200819\"\n",
    "\n",
    "for absorbant in conf.dic_dir[date]:\n",
    "\n",
    "    seq = 0\n",
    "    flag_gate = 1\n",
    "    data_dir = f\"{conf.base_path}/{date}/{absorbant}\"\n",
    "    descriptor = f\"{absorbant}_{date}\"\n",
    "    \n",
    "    print(f\"======= {absorbant} =======\")\n",
    "\n",
    "    for ielev in range(conf.nb_elev):\n",
    "        freq_all, S11_all = ser.getFreqAndS11(data_dir, conf.nb_ssb, seq0=seq, verbose=0)\n",
    "        seq = seq + 3\n",
    "        data_S11[ ielev, : ] = S11_all\n",
    "    \n",
    "    S11_plaque_ref_tg = np.fft.fft(np.fft.ifft(S11_reference - S11_f2c) * gate)\n",
    "    tab_freq = freq_all\n",
    "    S11_minus_moy    = data_S11 - S11_f2c\n",
    "    S11_minus_moy_td = np.fft.ifft(S11_minus_moy, axis=1)\n",
    "    S11_minus_moy_tg = np.fft.fft(S11_minus_moy_td * gate, axis=1)\n",
    "\n",
    "    #=============\n",
    "    # REFLECTIVITE\n",
    "    reflectivite = np.zeros((conf.nb_elev, conf.nb_freq), dtype=complex)\n",
    "    reflectivite = S11_minus_moy_tg / S11_plaque_ref_tg\n",
    "    np.save( \n",
    "        f\"{conf.out_path}/data/reflectivite/{descriptor}\",\n",
    "        reflectivite \n",
    "    )\n",
    "    \n",
    "    # drop lower and higher frequencies values\n",
    "    toPlot[:,idx] = 20 * np.log10(1e-12 + np.abs(reflectivite[:,idx]))\n",
    "    toPlot[:,idxAlt] = -90\n",
    "\n",
    "    fig, ax = plt.subplots( 1, 1 )\n",
    "    im = ax.pcolormesh(conf.elevation, np.flip(freq_all), np.rot90(toPlot), cmap=cmap, vmin=vmin, vmax=vmax)\n",
    "    title = f\"Réflectivité [{absorbant}]\"\n",
    "    ax.set_title(title)\n",
    "    ax.set_xlabel(\"Elévation [°]\")\n",
    "    ax.set_ylabel(\"Fréquence [GHz]\")\n",
    "    dia.addColorBar(im, ax, aspect='auto')\n",
    "    fig.savefig(\n",
    "        f\"{conf.out_path}/plot/reflectivite/reflectivite_{descriptor}.png\"\n",
    "    )\n",
    "\n",
    "    #======\n",
    "    # STATS\n",
    "    valMax = np.amax(toPlot)\n",
    "    valMin = np.amin(toPlot)\n",
    "    print(f\"valMax = {valMax:.2f} valMin = {valMin:.2f}\")\n",
    "\n",
    "    absReflectivite   = np.abs(reflectivite)\n",
    "    reflectiviteMoy   = np.average(absReflectivite[:,idx])\n",
    "    reflectiviteSigma = np.std(absReflectivite[:,idx])\n",
    "\n",
    "    reflectiviteMoy_dB   = 20 * np.log10(np.abs(reflectiviteMoy))\n",
    "    reflectiviteSigma_dB = 20 * np.log10(np.abs(reflectiviteSigma))\n",
    "    print(f\"moy = {reflectiviteMoy:.6f}, sigma = {reflectiviteSigma:.6f}\")\n",
    "    print(f\"moy = {reflectiviteMoy_dB:.2f} [dB], sigma = {reflectiviteSigma_dB:.2f} [dB]\")\n",
    "    \n",
    "    #==========\n",
    "    # HISTOGRAM\n",
    "    fig, ax = plt.subplots(1,1)\n",
    "    ax.hist((absReflectivite[:,idx]).flatten(), 50, label=\"histogramme (valeurs linéaires)\")\n",
    "    ax.grid()\n",
    "    title = f\"Réflectivité, histogramme [{absorbant}]\"\n",
    "    ax.set_title(title)\n",
    "    ax.legend()\n",
    "    fig.savefig(\n",
    "        f\"{conf.out_path}/plot/hist/hist_{descriptor}.png\"\n",
    "    )\n",
    "    \n",
    "    #=====\n",
    "    # PLOT\n",
    "    fig, ax = plt.subplots(1,1)\n",
    "    ax.plot( freq_all, toPlot[ idxElevation, : ] )\n",
    "    ax.grid()\n",
    "    title = f\"Réflectivité [{absorbant}]\"\n",
    "    ax.set_title(title)\n",
    "    ax.set_xlabel(\"f [GHz]\")\n",
    "    ax.set_ylabel(\"réflectivité [dB]\")\n",
    "    fig.savefig(\n",
    "        f\"{conf.out_path}/plot/reflectivite_vs_f/reflectivite_vs_f_{descriptor}.png\"\n",
    "    )\n",
    "    \n",
    "    plt.close(\"all\")\n",
    "    \n",
    "    dic_stats[f\"{descriptor}\"] = (valMax, valMin, reflectiviteMoy, reflectiviteSigma, reflectiviteMoy_dB)"
   ]
  },
  {
   "cell_type": "code",
   "execution_count": 30,
   "metadata": {},
   "outputs": [
    {
     "name": "stdout",
     "output_type": "stream",
     "text": [
      "065_AC_20200819 -31.69 -108.82 0.004844 0.004655 -46.30\n",
      "066_AD_20200819 -33.02 -102.31 0.004401 0.004287 -47.13\n"
     ]
    }
   ],
   "source": [
    "for absorbant in dic_stats.keys():\n",
    "    stats = dic_stats[absorbant]\n",
    "    print(f\"{absorbant} {stats[0]:.2f} {stats[1]:.2f} {stats[2]:.6f} {stats[3]:.6f} {stats[4]:.2f}\")"
   ]
  },
  {
   "cell_type": "code",
   "execution_count": null,
   "metadata": {},
   "outputs": [],
   "source": []
  }
 ],
 "metadata": {
  "kernelspec": {
   "display_name": "Python 3",
   "language": "python",
   "name": "python3"
  },
  "language_info": {
   "codemirror_mode": {
    "name": "ipython",
    "version": 3
   },
   "file_extension": ".py",
   "mimetype": "text/x-python",
   "name": "python",
   "nbconvert_exporter": "python",
   "pygments_lexer": "ipython3",
   "version": "3.8.5"
  },
  "toc": {
   "base_numbering": 1,
   "nav_menu": {},
   "number_sections": true,
   "sideBar": true,
   "skip_h1_title": false,
   "title_cell": "Table of Contents",
   "title_sidebar": "Contents",
   "toc_cell": false,
   "toc_position": {
    "height": "calc(100% - 180px)",
    "left": "10px",
    "top": "150px",
    "width": "253.4px"
   },
   "toc_section_display": true,
   "toc_window_display": true
  },
  "varInspector": {
   "cols": {
    "lenName": 16,
    "lenType": 16,
    "lenVar": 40
   },
   "kernels_config": {
    "python": {
     "delete_cmd_postfix": "",
     "delete_cmd_prefix": "del ",
     "library": "var_list.py",
     "varRefreshCmd": "print(var_dic_list())"
    },
    "r": {
     "delete_cmd_postfix": ") ",
     "delete_cmd_prefix": "rm(",
     "library": "var_list.r",
     "varRefreshCmd": "cat(var_dic_list()) "
    }
   },
   "types_to_exclude": [
    "module",
    "function",
    "builtin_function_or_method",
    "instance",
    "_Feature"
   ],
   "window_display": false
  }
 },
 "nbformat": 4,
 "nbformat_minor": 4
}
