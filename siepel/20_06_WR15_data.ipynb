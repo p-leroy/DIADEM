{
 "cells": [
  {
   "cell_type": "markdown",
   "metadata": {},
   "source": [
    "# Init"
   ]
  },
  {
   "cell_type": "code",
   "execution_count": 1,
   "metadata": {},
   "outputs": [],
   "source": [
    "import configparser, os, sys\n",
    "\n",
    "import numpy as np\n",
    "import matplotlib.pyplot as plt\n",
    "from scipy.signal import kaiser\n",
    "\n",
    "config = \"bruz\"\n",
    "if config == \"ur1\":\n",
    "    sys.path.insert(0, \"../\")\n",
    "    siepelDir = \"C:/Users/pleroy/Documents/CAMILL/SER/WR15_v2\"\n",
    "elif config == \"bruz\":\n",
    "    sys.path.insert(0, \"/home/pleroy/DEV/DIADEM\")\n",
    "    siepelDir = \"/home/pleroy/DATA/CAMILL/WR15_v2\"\n",
    "\n",
    "import toolsdiadem.tools as dia\n",
    "import toolsdiadem.ser as ser\n",
    "from toolsdiadem.ConfigSer import ConfigSer\n",
    "from toolsdiadem.Gate import Gate\n",
    "from toolsdiadem.Probe import Probe"
   ]
  },
  {
   "cell_type": "code",
   "execution_count": 2,
   "metadata": {},
   "outputs": [],
   "source": [
    "%matplotlib qt5\n",
    "%load_ext autoreload\n",
    "%autoreload 2"
   ]
  },
  {
   "cell_type": "code",
   "execution_count": 3,
   "metadata": {},
   "outputs": [
    {
     "name": "stdout",
     "output_type": "stream",
     "text": [
      "/home/pleroy/DATA/CAMILL/WR15_v2/wr15_plaqueSupport.ini\n",
      "nb_elev 41\n",
      "nb_freq 2001\n",
      "nb_ssb 3\n",
      "el0 0.7\n",
      "az0 -0.44\n",
      "base_path /home/pleroy/DATA/CAMILL/WR15_v2\n",
      "out_path /home/pleroy/DATA/CAMILL/WR15_v2/processing/wr15\n",
      "gateWidth 500.0\n",
      "gateCenter 6450.0\n",
      "/home/pleroy/DATA/CAMILL/WR15_v2/wr15_plaqueRef.ini\n",
      "nb_elev 41\n",
      "nb_freq 2001\n",
      "nb_ssb 3\n",
      "el0 0.31\n",
      "az0 -0.44\n",
      "base_path /home/pleroy/DATA/CAMILL/WR15_v2\n",
      "out_path /home/pleroy/DATA/CAMILL/WR15_v2/processing/wr15\n",
      "gateWidth 0.0\n",
      "gateCenter 0.0\n"
     ]
    }
   ],
   "source": [
    "cmap='jet'\n",
    "configSupport = os.path.join(siepelDir, \"wr15_plaqueSupport.ini\")\n",
    "configRef = os.path.join(siepelDir, \"wr15_plaqueRef.ini\")\n",
    "conf = ConfigSer(configSupport)\n",
    "confRef = ConfigSer(configRef)\n",
    "conf.printConfig()\n",
    "confRef.printConfig()\n",
    "\n",
    "centerFreq = 62.5\n",
    "bandWidth = 12.4\n",
    "idxElevation = 20\n",
    "valMin = -90\n",
    "vmin = -90\n",
    "vmax = -40"
   ]
  },
  {
   "cell_type": "code",
   "execution_count": 4,
   "metadata": {},
   "outputs": [],
   "source": [
    "withPlots = 0"
   ]
  },
  {
   "cell_type": "markdown",
   "metadata": {},
   "source": [
    "## Fond de chambre"
   ]
  },
  {
   "cell_type": "code",
   "execution_count": 5,
   "metadata": {},
   "outputs": [
    {
     "name": "stdout",
     "output_type": "stream",
     "text": [
      "/home/pleroy/DATA/CAMILL/WR15_v2/processing/wr15/data/WR15_S11_fond_de_chambre.txt\n"
     ]
    }
   ],
   "source": [
    "file_f2c = f\"{conf.out_path}/data/WR15_S11_fond_de_chambre.txt\"\n",
    "tmp = np.loadtxt(file_f2c, skiprows=1)\n",
    "print(file_f2c)\n",
    "S11_f2c = tmp[:,1] + 1j * tmp[:,2]"
   ]
  },
  {
   "cell_type": "markdown",
   "metadata": {},
   "source": [
    "## Probe"
   ]
  },
  {
   "cell_type": "code",
   "execution_count": 7,
   "metadata": {},
   "outputs": [
    {
     "name": "stdout",
     "output_type": "stream",
     "text": [
      "/home/pleroy/DATA/CAMILL/WR15_v2/S11FDC_WR15.s1p\n"
     ]
    }
   ],
   "source": [
    "file_probe = os.path.join(conf.base_path, \"S11FDC_WR15.s1p\")\n",
    "probe = Probe(file_probe)\n",
    "print(file_probe)"
   ]
  },
  {
   "cell_type": "markdown",
   "metadata": {},
   "source": [
    "## Plaque de référence"
   ]
  },
  {
   "cell_type": "code",
   "execution_count": 8,
   "metadata": {},
   "outputs": [
    {
     "name": "stdout",
     "output_type": "stream",
     "text": [
      "/home/pleroy/DATA/CAMILL/WR15_v2/processing/wr15/data/WR15_S11_plaque_ref.txt\n"
     ]
    }
   ],
   "source": [
    "file_ref = f\"{confRef.out_path}/data/WR15_S11_plaque_ref.txt\"\n",
    "tmp = np.loadtxt(file_ref, skiprows=1)\n",
    "S11_reference = tmp[:, 1] + 1j * tmp[:, 2]\n",
    "freq_reference = tmp[:, 0]\n",
    "print(file_ref)\n",
    "d = np.linspace(0, 300 / (freq_reference[1] - freq_reference[0]), conf.nb_freq) * 0.5"
   ]
  },
  {
   "cell_type": "code",
   "execution_count": 40,
   "metadata": {},
   "outputs": [
    {
     "data": {
      "text/plain": [
       "Text(0.5, 1.0, 'time domain, width 500 center 6450')"
      ]
     },
     "execution_count": 40,
     "metadata": {},
     "output_type": "execute_result"
    }
   ],
   "source": [
    "fig, ax = plt.subplots(1,1)\n",
    "ax.plot(d, ser.dB(np.fft.ifft(S11_reference)), label=\"reference\")\n",
    "ax.plot(d, ser.dB(np.fft.ifft(S11_f2c)), label=\"f2c\")\n",
    "ax.plot(d, ser.dB(np.fft.ifft(probe.S11)), label=\"probe\")\n",
    "ax.plot(d, ser.dB(np.fft.ifft(S11_reference - probe.S11)), label=\"reference - probe\")\n",
    "ax.plot(d, ser.dB(np.fft.ifft(S11_reference - S11_f2c)), label=\"reference - f2c\")\n",
    "ax.grid()\n",
    "ax.legend()\n",
    "ax.set_xlabel(\"[m]\")\n",
    "ax.set_ylabel(\"[dB]\")\n",
    "ax.set_title(f\"time domain, width {conf.gateWidth:.0f} center {conf.gateCenter:.0f}\")"
   ]
  },
  {
   "cell_type": "markdown",
   "metadata": {},
   "source": [
    "# Réflectivité\n",
    "ref: ser4siepel_multiband_scan_elev_Reflectivite.sce"
   ]
  },
  {
   "cell_type": "markdown",
   "metadata": {},
   "source": [
    "## Initialisation des variables"
   ]
  },
  {
   "cell_type": "code",
   "execution_count": 41,
   "metadata": {},
   "outputs": [],
   "source": [
    "data_S11         = np.zeros((conf.nb_elev, conf.nb_freq), dtype=complex)\n",
    "data_S11_td      = np.zeros((conf.nb_elev, conf.nb_freq), dtype=complex)\n",
    "data_S11_tg      = np.zeros((conf.nb_elev, conf.nb_freq), dtype=complex)\n",
    "S11_minus_moy    = np.zeros((conf.nb_elev, conf.nb_freq), dtype=complex)\n",
    "S11_minus_moy_td = np.zeros((conf.nb_elev, conf.nb_freq), dtype=complex)\n",
    "S11_minus_moy_tg = np.zeros((conf.nb_elev, conf.nb_freq), dtype=complex)\n",
    "reflectivite     = np.zeros((conf.nb_elev, conf.nb_freq), dtype=complex)\n",
    "S11_moy          = np.zeros(conf.nb_freq,            dtype=complex)\n",
    "S11_moy_square   = np.zeros(conf.nb_freq,            dtype=complex)"
   ]
  },
  {
   "cell_type": "markdown",
   "metadata": {},
   "source": [
    "## Lecture des données et time gating"
   ]
  },
  {
   "cell_type": "code",
   "execution_count": 42,
   "metadata": {},
   "outputs": [
    {
     "name": "stdout",
     "output_type": "stream",
     "text": [
      "gateSize 167\n"
     ]
    }
   ],
   "source": [
    "myGate = Gate(d, width=conf.gateWidth, center=conf.gateCenter)\n",
    "gate = myGate.gateLLC"
   ]
  },
  {
   "cell_type": "markdown",
   "metadata": {},
   "source": [
    "## Calcul de la réflectivité"
   ]
  },
  {
   "cell_type": "code",
   "execution_count": 54,
   "metadata": {},
   "outputs": [],
   "source": [
    "date, absorbant = \"20200701\", \"000_A\"\n",
    "#date, absorbant = \"20200703\", \"013_0\"\n",
    "dir_abs = f\"{conf.base_path}/{date}/{absorbant}\"    \n",
    "freq_all, data_S11 = ser.getData_ssb(conf.nb_elev, conf.nb_freq, conf.nb_ssb, data_dir)\n",
    "\n",
    "d = np.linspace(0, 300 / (freq_all[1] - freq_all[0]), conf.nb_freq) * 0.5"
   ]
  },
  {
   "cell_type": "code",
   "execution_count": 55,
   "metadata": {},
   "outputs": [],
   "source": [
    "reflectivite = ser.getReflectivite(data_S11, S11_reference, S11_f2c, myGate.gateLLC)"
   ]
  },
  {
   "cell_type": "code",
   "execution_count": 56,
   "metadata": {},
   "outputs": [],
   "source": [
    "S11_plaque_ref_tg = np.fft.fft(np.fft.ifft(S11_reference - S11_f2c) * gate)\n",
    "S11_minus_fdc = data_S11 - S11_f2c\n",
    "s11_minus_fdc_td = np.fft.ifft(S11_minus_fdc, axis=1)\n",
    "s11_minus_fdc_tg = s11_minus_fdc_td * gate\n",
    "S11_minus_fdc_tg = np.fft.fft(s11_minus_fdc_tg, axis=1)\n",
    "reflectivite = S11_minus_fdc_tg / S11_plaque_ref_tg\n",
    "\n",
    "s11_td = np.fft.ifft(data_S11, axis=1)\n",
    "s11_td_plaqueRef = np.fft.ifft(S11_reference)"
   ]
  },
  {
   "cell_type": "code",
   "execution_count": 57,
   "metadata": {},
   "outputs": [
    {
     "data": {
      "text/plain": [
       "Text(0.5, 1.0, '000_A 20200701, élévation 0.7°')"
      ]
     },
     "execution_count": 57,
     "metadata": {},
     "output_type": "execute_result"
    }
   ],
   "source": [
    "idx = 20\n",
    "plt.figure()\n",
    "plt.plot(d, ser.dB(s11_td[idx, :]), label=\"s11_td\")\n",
    "plt.plot(d, ser.dB(s11_td_plaqueRef), label=\"s11_td_plaqueRef\")\n",
    "plt.plot(d, ser.dB(s11_minus_fdc_td[idx, :]), label=\"s11_minus_fdc_td\")\n",
    "plt.plot(d, ser.dB(s11_minus_fdc_tg[idx, :]), label=\"s11_minus_fdc_tg\")\n",
    "plt.legend()\n",
    "plt.grid()\n",
    "plt.title(f\"{absorbant} {date}, élévation {conf.elevation[idx]}°\")"
   ]
  },
  {
   "cell_type": "markdown",
   "metadata": {},
   "source": [
    "## Plot"
   ]
  },
  {
   "cell_type": "code",
   "execution_count": 33,
   "metadata": {},
   "outputs": [
    {
     "name": "stdout",
     "output_type": "stream",
     "text": [
      "valMax = -36.59 valMin = -90.00\n"
     ]
    }
   ],
   "source": [
    "toPlot = np.zeros( (conf.nb_elev, conf.nb_freq) )\n",
    "gatebis  = 0.0 * myGate.gateLLC\n",
    "gatebis[np.where(np.abs(freq_all - centerFreq) < bandWidth)] = 1.0\n",
    "toPlot = 20 * np.log10(1e-12 + np.abs(reflectivite * gatebis))\n",
    "\n",
    "valMin = -90\n",
    "toPlot = 0.5 * (np.abs(toPlot - valMin) + toPlot - valMin) + valMin\n",
    "valMax = np.amax(toPlot)\n",
    "valMin = np.amin(toPlot)\n",
    "print( f\"valMax = {valMax:.2f} valMin = {valMin:.2f}\")\n",
    "     \n",
    "vmin = -80\n",
    "vmax = -0\n",
    "fig, ax = plt.subplots(1, 1)\n",
    "im = plt.pcolormesh(conf.elevation, np.flip(freq_all), np.rot90(toPlot), cmap=cmap)\n",
    "\n",
    "title = f\"Réflectivité absorbant\\n{data_dir}\"\n",
    "ax.set_title(title)\n",
    "ax.set_xlabel(\"Elévation [°]\")\n",
    "ax.set_ylabel(\"Fréquence [GHz]\")\n",
    "dia.addColorBar( im, ax, aspect='auto')"
   ]
  },
  {
   "cell_type": "markdown",
   "metadata": {},
   "source": [
    "# Tous les absorbants"
   ]
  },
  {
   "cell_type": "markdown",
   "metadata": {},
   "source": [
    "20200701 = [\"000_A\", \"001_C\", \"002_E\", \"003_W\", \"004_V\", \"005_G\"]\n",
    "\n",
    "20200703 = [\"006_L\", \"007_M\", \"008_X\", \"009_H\", \"010_I\", \"011_K\", \"012_J\", \"013_O\", \"014_N\", \"015_D\", \"016_T\", \"017_AB_u\", \"018_N_u\"]"
   ]
  },
  {
   "cell_type": "code",
   "execution_count": 34,
   "metadata": {},
   "outputs": [],
   "source": [
    "np.save(f\"{conf.out_path}/data/freq_WR15\", freq_all)\n",
    "np.save(f\"{conf.out_path}/data/elevation_WR15\", conf.elevation)"
   ]
  },
  {
   "cell_type": "code",
   "execution_count": 46,
   "metadata": {},
   "outputs": [
    {
     "name": "stdout",
     "output_type": "stream",
     "text": [
      "======= 006_L =======\n",
      "valMax = -54.12 valMin = -130.19\n",
      "moy = 0.000458, sigma = 0.000224\n",
      "moy = -66.79 [dB], sigma = -73.00 [dB]\n",
      "======= 007_M =======\n",
      "valMax = -58.86 valMin = -118.24\n",
      "moy = 0.000326, sigma = 0.000161\n",
      "moy = -69.73 [dB], sigma = -75.87 [dB]\n",
      "======= 008_X =======\n",
      "valMax = -58.54 valMin = -109.10\n",
      "moy = 0.000403, sigma = 0.000233\n",
      "moy = -67.90 [dB], sigma = -72.67 [dB]\n",
      "======= 009_H =======\n",
      "valMax = -57.81 valMin = -116.49\n",
      "moy = 0.000449, sigma = 0.000215\n",
      "moy = -66.95 [dB], sigma = -73.34 [dB]\n",
      "======= 010_I =======\n",
      "valMax = -55.47 valMin = -120.00\n",
      "moy = 0.000541, sigma = 0.000309\n",
      "moy = -65.34 [dB], sigma = -70.20 [dB]\n",
      "======= 011_K =======\n",
      "valMax = -61.61 valMin = -123.72\n",
      "moy = 0.000234, sigma = 0.000122\n",
      "moy = -72.61 [dB], sigma = -78.25 [dB]\n",
      "======= 012_J =======\n",
      "valMax = -56.76 valMin = -122.96\n",
      "moy = 0.000437, sigma = 0.000255\n",
      "moy = -67.19 [dB], sigma = -71.87 [dB]\n",
      "======= 013_O =======\n",
      "valMax = -56.60 valMin = -111.67\n",
      "moy = 0.000501, sigma = 0.000257\n",
      "moy = -66.01 [dB], sigma = -71.81 [dB]\n",
      "======= 014_N =======\n",
      "valMax = -55.65 valMin = -111.53\n",
      "moy = 0.000709, sigma = 0.000303\n",
      "moy = -62.99 [dB], sigma = -70.38 [dB]\n",
      "======= 015_D =======\n",
      "valMax = -65.15 valMin = -136.85\n",
      "moy = 0.000163, sigma = 0.000086\n",
      "moy = -75.76 [dB], sigma = -81.33 [dB]\n",
      "======= 016_T =======\n",
      "valMax = -61.47 valMin = -121.44\n",
      "moy = 0.000255, sigma = 0.000121\n",
      "moy = -71.86 [dB], sigma = -78.35 [dB]\n",
      "======= 017_AB_u =======\n",
      "valMax = -63.63 valMin = -124.15\n",
      "moy = 0.000171, sigma = 0.000097\n",
      "moy = -75.36 [dB], sigma = -80.28 [dB]\n",
      "======= 018_N_u =======\n",
      "valMax = -63.95 valMin = -119.73\n",
      "moy = 0.000177, sigma = 0.000094\n",
      "moy = -75.06 [dB], sigma = -80.53 [dB]\n"
     ]
    }
   ],
   "source": [
    "idx = np.where(np.abs(freq_all - centerFreq) < bandWidth)\n",
    "idxAlt = np.where(np.abs(freq_all - centerFreq) >= bandWidth)\n",
    "\n",
    "dic_stats = {}\n",
    "toPlot = np.zeros((conf.nb_elev, conf.nb_freq))\n",
    "\n",
    "gate = myGate.gateLLC\n",
    "date = \"20200703\" # 01, 03\n",
    "\n",
    "for absorbant in conf.dic_dir[date]:\n",
    "\n",
    "    seq = 0\n",
    "    flag_gate = 1\n",
    "    data_dir = f\"{conf.base_path}/{date}/{absorbant}\"\n",
    "    descriptor = f\"{absorbant}_{date}\"\n",
    "    \n",
    "    print(f\"======= {absorbant} =======\")\n",
    "\n",
    "    for ielev in range(conf.nb_elev):\n",
    "        freq_all, S11_all = ser.getFreqAndS11(data_dir, conf.nb_ssb, seq0=seq, verbose=0)\n",
    "        seq = seq + 3\n",
    "        data_S11[ ielev, : ] = S11_all\n",
    "    \n",
    "    S11_plaque_ref_tg = np.fft.fft(np.fft.ifft(S11_reference - S11_f2c) * gate)\n",
    "    tab_freq = freq_all\n",
    "    S11_minus_moy    = data_S11 - S11_f2c\n",
    "    S11_minus_moy_td = np.fft.ifft(S11_minus_moy, axis=1)\n",
    "    S11_minus_moy_tg = np.fft.fft(S11_minus_moy_td * gate, axis=1)\n",
    "\n",
    "    #=============\n",
    "    # REFLECTIVITE\n",
    "    reflectivite = np.zeros((conf.nb_elev, conf.nb_freq), dtype=complex)\n",
    "    reflectivite = S11_minus_moy_tg / S11_plaque_ref_tg\n",
    "    np.save( \n",
    "        f\"{conf.out_path}/data/reflectivite/{descriptor}\",\n",
    "        reflectivite \n",
    "    )\n",
    "    \n",
    "    # drop lower and higher frequencies values\n",
    "    toPlot[:,idx] = 20 * np.log10(1e-12 + np.abs(reflectivite[:,idx]))\n",
    "    toPlot[:,idxAlt] = -90\n",
    "\n",
    "    fig, ax = plt.subplots( 1, 1 )\n",
    "    im = ax.pcolormesh(conf.elevation, np.flip(freq_all), np.rot90(toPlot), cmap=cmap, vmin=vmin, vmax=vmax)\n",
    "    title = f\"Réflectivité [{absorbant}]\"\n",
    "    ax.set_title(title)\n",
    "    ax.set_xlabel(\"Elévation [°]\")\n",
    "    ax.set_ylabel(\"Fréquence [GHz]\")\n",
    "    dia.addColorBar(im, ax, aspect='auto')\n",
    "    fig.savefig(\n",
    "        f\"{conf.out_path}/plot/reflectivite/reflectivite_{descriptor}.png\"\n",
    "    )\n",
    "\n",
    "    #======\n",
    "    # STATS\n",
    "    valMax = np.amax(toPlot)\n",
    "    valMin = np.amin(toPlot)\n",
    "    print(f\"valMax = {valMax:.2f} valMin = {valMin:.2f}\")\n",
    "\n",
    "    absReflectivite   = np.abs(reflectivite)\n",
    "    reflectiviteMoy   = np.average(absReflectivite[:,idx])\n",
    "    reflectiviteSigma = np.std(absReflectivite[:,idx])\n",
    "\n",
    "    reflectiviteMoy_dB   = 20 * np.log10(np.abs(reflectiviteMoy))\n",
    "    reflectiviteSigma_dB = 20 * np.log10(np.abs(reflectiviteSigma))\n",
    "    print(f\"moy = {reflectiviteMoy:.6f}, sigma = {reflectiviteSigma:.6f}\")\n",
    "    print(f\"moy = {reflectiviteMoy_dB:.2f} [dB], sigma = {reflectiviteSigma_dB:.2f} [dB]\")\n",
    "    \n",
    "    #==========\n",
    "    # HISTOGRAM\n",
    "    fig, ax = plt.subplots(1,1)\n",
    "    ax.hist((absReflectivite[:,idx]).flatten(), 50, label=\"histogramme (valeurs linéaires)\")\n",
    "    ax.grid()\n",
    "    title = f\"Réflectivité, histogramme [{absorbant}]\"\n",
    "    ax.set_title(title)\n",
    "    ax.legend()\n",
    "    fig.savefig(\n",
    "        f\"{conf.out_path}/plot/hist/hist_{descriptor}.png\"\n",
    "    )\n",
    "    \n",
    "    #=====\n",
    "    # PLOT\n",
    "    fig, ax = plt.subplots(1,1)\n",
    "    ax.plot( freq_all, toPlot[ idxElevation, : ] )\n",
    "    ax.grid()\n",
    "    title = f\"Réflectivité [{absorbant}]\"\n",
    "    ax.set_title(title)\n",
    "    ax.set_xlabel(\"f [GHz]\")\n",
    "    ax.set_ylabel(\"réflectivité [dB]\")\n",
    "    fig.savefig(\n",
    "        f\"{conf.out_path}/plot/reflectivite_vs_f/reflectivite_vs_f_{descriptor}.png\"\n",
    "    )\n",
    "    \n",
    "    plt.close(\"all\")\n",
    "    \n",
    "    dic_stats[f\"{descriptor}\"] = (valMax, valMin, reflectiviteMoy, reflectiviteSigma, reflectiviteMoy_dB)"
   ]
  },
  {
   "cell_type": "code",
   "execution_count": 47,
   "metadata": {},
   "outputs": [
    {
     "name": "stdout",
     "output_type": "stream",
     "text": [
      "006_L_20200703 -54.12 -130.19 0.000458 0.000224 -66.79\n",
      "007_M_20200703 -58.86 -118.24 0.000326 0.000161 -69.73\n",
      "008_X_20200703 -58.54 -109.10 0.000403 0.000233 -67.90\n",
      "009_H_20200703 -57.81 -116.49 0.000449 0.000215 -66.95\n",
      "010_I_20200703 -55.47 -120.00 0.000541 0.000309 -65.34\n",
      "011_K_20200703 -61.61 -123.72 0.000234 0.000122 -72.61\n",
      "012_J_20200703 -56.76 -122.96 0.000437 0.000255 -67.19\n",
      "013_O_20200703 -56.60 -111.67 0.000501 0.000257 -66.01\n",
      "014_N_20200703 -55.65 -111.53 0.000709 0.000303 -62.99\n",
      "015_D_20200703 -65.15 -136.85 0.000163 0.000086 -75.76\n",
      "016_T_20200703 -61.47 -121.44 0.000255 0.000121 -71.86\n",
      "017_AB_u_20200703 -63.63 -124.15 0.000171 0.000097 -75.36\n",
      "018_N_u_20200703 -63.95 -119.73 0.000177 0.000094 -75.06\n"
     ]
    }
   ],
   "source": [
    "for absorbant in dic_stats.keys():\n",
    "    stats = dic_stats[absorbant]\n",
    "    print(f\"{absorbant} {stats[0]:.2f} {stats[1]:.2f} {stats[2]:.6f} {stats[3]:.6f} {stats[4]:.2f}\")"
   ]
  },
  {
   "cell_type": "code",
   "execution_count": null,
   "metadata": {},
   "outputs": [],
   "source": []
  }
 ],
 "metadata": {
  "kernelspec": {
   "display_name": "Python 3",
   "language": "python",
   "name": "python3"
  },
  "language_info": {
   "codemirror_mode": {
    "name": "ipython",
    "version": 3
   },
   "file_extension": ".py",
   "mimetype": "text/x-python",
   "name": "python",
   "nbconvert_exporter": "python",
   "pygments_lexer": "ipython3",
   "version": "3.8.3"
  },
  "toc": {
   "base_numbering": 1,
   "nav_menu": {},
   "number_sections": true,
   "sideBar": true,
   "skip_h1_title": false,
   "title_cell": "Table of Contents",
   "title_sidebar": "Contents",
   "toc_cell": false,
   "toc_position": {
    "height": "calc(100% - 180px)",
    "left": "10px",
    "top": "150px",
    "width": "253.4px"
   },
   "toc_section_display": true,
   "toc_window_display": true
  },
  "varInspector": {
   "cols": {
    "lenName": 16,
    "lenType": 16,
    "lenVar": 40
   },
   "kernels_config": {
    "python": {
     "delete_cmd_postfix": "",
     "delete_cmd_prefix": "del ",
     "library": "var_list.py",
     "varRefreshCmd": "print(var_dic_list())"
    },
    "r": {
     "delete_cmd_postfix": ") ",
     "delete_cmd_prefix": "rm(",
     "library": "var_list.r",
     "varRefreshCmd": "cat(var_dic_list()) "
    }
   },
   "types_to_exclude": [
    "module",
    "function",
    "builtin_function_or_method",
    "instance",
    "_Feature"
   ],
   "window_display": false
  }
 },
 "nbformat": 4,
 "nbformat_minor": 4
}
