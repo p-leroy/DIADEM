{
 "cells": [
  {
   "cell_type": "markdown",
   "metadata": {},
   "source": [
    "# Init"
   ]
  },
  {
   "cell_type": "code",
   "execution_count": null,
   "metadata": {},
   "outputs": [],
   "source": [
    "import numpy as np\n",
    "import matplotlib.pyplot as plt"
   ]
  },
  {
   "cell_type": "code",
   "execution_count": null,
   "metadata": {},
   "outputs": [],
   "source": [
    "%matplotlib qt5"
   ]
  },
  {
   "cell_type": "code",
   "execution_count": null,
   "metadata": {},
   "outputs": [],
   "source": [
    "%load_ext autoreload\n",
    "%autoreload 2"
   ]
  },
  {
   "cell_type": "code",
   "execution_count": null,
   "metadata": {},
   "outputs": [],
   "source": [
    "import sys\n",
    "sys.path.insert(0, \"../\")"
   ]
  },
  {
   "cell_type": "code",
   "execution_count": null,
   "metadata": {},
   "outputs": [],
   "source": [
    "from toolsdiadem import tools as dia"
   ]
  },
  {
   "cell_type": "code",
   "execution_count": null,
   "metadata": {},
   "outputs": [],
   "source": [
    "root_dir = \"/home/pleroy/DATA/DIADEM/SIEPEL\"\n",
    "# 00 =====\n",
    "dir_00 = \"/190116/abs_F\"\n",
    "pre_00 = \"Ev\"\n",
    "dat_00 = root_dir + dir_00 + \"/\" + pre_00\n",
    "# 01 =====\n",
    "dir_01 = \"/190115/abs_J\"\n",
    "pre_01 = \"Ev\"\n",
    "dat_01 = root_dir + dir_01 + \"/\" + pre_01\n",
    "# 02 =====\n",
    "dir_02 = \"/190115/plaque\"\n",
    "pre_02 = \"Ev\"\n",
    "dat_02 = root_dir + dir_02 + \"/\" + pre_02"
   ]
  },
  {
   "cell_type": "code",
   "execution_count": null,
   "metadata": {},
   "outputs": [],
   "source": [
    "x0y0 = (60, 415)"
   ]
  },
  {
   "cell_type": "code",
   "execution_count": null,
   "metadata": {},
   "outputs": [],
   "source": [
    "pi = np.pi"
   ]
  },
  {
   "cell_type": "markdown",
   "metadata": {},
   "source": [
    "# Get frequencies"
   ]
  },
  {
   "cell_type": "markdown",
   "metadata": {},
   "source": [
    "## Get Nf and Ny"
   ]
  },
  {
   "cell_type": "code",
   "execution_count": null,
   "metadata": {},
   "outputs": [],
   "source": [
    "Nf, Ny = dia.get_Nf_Ny(root_dir + dir_00)"
   ]
  },
  {
   "cell_type": "markdown",
   "metadata": {},
   "source": [
    "## Get f and y"
   ]
  },
  {
   "cell_type": "code",
   "execution_count": null,
   "metadata": {},
   "outputs": [],
   "source": [
    "f = dia.getF( Nf, dat_00, root_dir)\n",
    "y = dia.getY( Ny, dat_00, root_dir)"
   ]
  },
  {
   "cell_type": "code",
   "execution_count": null,
   "metadata": {},
   "outputs": [],
   "source": [
    "idx65GHz = np.where(f==65)[0][0]"
   ]
  },
  {
   "cell_type": "markdown",
   "metadata": {},
   "source": [
    "# Get amplitudes and phases"
   ]
  },
  {
   "cell_type": "code",
   "execution_count": null,
   "metadata": {},
   "outputs": [],
   "source": [
    "fi = idx65GHz\n",
    "yi = 0\n",
    "x0, amp0 = dia.get_x_val(dat_00, fi, yi, \".amp\")\n",
    "xF, ampF = dia.get_x_val(dat_00, fi, yi, \".amp\")\n",
    "xJ, ampJ = dia.get_x_val(dat_01, fi, yi, \".amp\")\n",
    "xPlaque, ampPlaque = dia.get_x_val(dat_02, fi, yi, \".amp\")\n",
    "Nx = x0.size\n",
    "# (left, right, bottom, top)\n",
    "extent = [ x0[-1], x0[0], y[-1], y[0] ]\n",
    "#extent = [ x0[-1]-x0y0[0], x0[0]-x0y0[0], y[-1]-x0y0[1], y[0]-x0y0[1] ]\n",
    "cmap='jet'"
   ]
  },
  {
   "cell_type": "code",
   "execution_count": null,
   "metadata": {},
   "outputs": [],
   "source": [
    "plt.figure()\n",
    "plt.plot(x0, label=\"x0\")\n",
    "plt.plot(xF, label=\"xF\")\n",
    "plt.plot(xJ, label=\"xJ\")\n",
    "plt.plot(xPlaque, label=\"xPlaque\")\n",
    "plt.legend()\n",
    "plt.grid"
   ]
  },
  {
   "cell_type": "code",
   "execution_count": null,
   "metadata": {},
   "outputs": [],
   "source": [
    "X0, Y = np.meshgrid(x0, y)\n",
    "x0.shape, y.shape, X0.shape, Y.shape"
   ]
  },
  {
   "cell_type": "code",
   "execution_count": null,
   "metadata": {},
   "outputs": [],
   "source": [
    "print(f\"get data for f = {f[fi]}\")\n",
    "\n",
    "ampAndPhaArrays = {}\n",
    "ampAndPhaArrays[\"F\"] = ( *dia.getAmpPhaArrays(Nx, Ny, fi, dat_00), dir_00, pre_00 )\n",
    "ampAndPhaArrays[\"J\"] = ( *dia.getAmpPhaArrays(Nx, Ny, fi, dat_01), dir_01, pre_01 )\n",
    "ampAndPhaArrays[\"plaque\"] = ( *dia.getAmpPhaArrays(Nx, Ny, fi, dat_02), dir_02, pre_02 )"
   ]
  },
  {
   "cell_type": "code",
   "execution_count": null,
   "metadata": {},
   "outputs": [],
   "source": [
    "allAmpArrays = ( [ampAndPhaArrays[i][0] for i in ampAndPhaArrays.keys()])\n",
    "vmaxAll = np.amax(allAmpArrays)\n",
    "vminAll = np.amin(allAmpArrays)\n",
    "myVmax = 10\n",
    "myVmin = -40\n",
    "cmap='jet'"
   ]
  },
  {
   "cell_type": "code",
   "execution_count": null,
   "metadata": {},
   "outputs": [],
   "source": [
    "plt.figure()\n",
    "plt.imshow(ampAndPhaArrays[\"F\"][0], extent=extent, cmap=cmap )\n",
    "title = \"amplitudes\\n\" + dir_00 + \"/\" + pre_00\n",
    "plt.gca().set_aspect(\"equal\")\n",
    "plt.colorbar()\n",
    "plt.title(title)"
   ]
  },
  {
   "cell_type": "code",
   "execution_count": null,
   "metadata": {},
   "outputs": [],
   "source": [
    "fig, ax = plt.subplots(1,1)\n",
    "im = ax.pcolor(x0, y,ampAndPhaArrays[\"plaque\"][0] )\n",
    "title = \"amplitudes\\n\" + dir_02 + \"/\" + pre_02\n",
    "dia.addColorBar(im,ax)\n",
    "ax.set_title(title)"
   ]
  },
  {
   "cell_type": "code",
   "execution_count": null,
   "metadata": {},
   "outputs": [],
   "source": [
    "plt.figure()\n",
    "plt.imshow(ampAndPhaArrays[\"F\"][1], extent=extent)\n",
    "title = \"phases\\n\" + dir_00 + \"/\" + pre_00\n",
    "plt.gca().set_aspect(\"equal\")\n",
    "plt.colorbar()\n",
    "plt.title(title)"
   ]
  },
  {
   "cell_type": "markdown",
   "metadata": {},
   "source": [
    "# Plot data"
   ]
  },
  {
   "cell_type": "code",
   "execution_count": null,
   "metadata": {},
   "outputs": [],
   "source": [
    "font = {'family' : 'normal',\n",
    "        'weight' : 'normal',\n",
    "        'size'   : 12}\n",
    "matplotlib.rc('font', **font)"
   ]
  },
  {
   "cell_type": "markdown",
   "metadata": {},
   "source": [
    "## abs F"
   ]
  },
  {
   "cell_type": "code",
   "execution_count": null,
   "metadata": {},
   "outputs": [],
   "source": [
    "fig, (ax0, ax1) = plt.subplots(1,2)\n",
    "\n",
    "title = dir_00 + \"/\" + pre_00 + f\"\\n{f[fi]} GHz\"\n",
    "fig.suptitle(title)\n",
    "\n",
    "im = ax0.pcolor(x0, y, ampAndPhaArrays[\"F\"][0])\n",
    "dia.addColorBar(im,ax0)\n",
    "ax0.set_title(\"amplitude\")\n",
    "\n",
    "im = ax1.pcolor(x0, y, ampAndPhaArrays[\"F\"][1])\n",
    "dia.addColorBar(im,ax1)\n",
    "ax1.set_title(\"phase\")"
   ]
  },
  {
   "cell_type": "markdown",
   "metadata": {},
   "source": [
    "## abs J"
   ]
  },
  {
   "cell_type": "code",
   "execution_count": null,
   "metadata": {},
   "outputs": [],
   "source": [
    "fig, (ax0, ax1) = plt.subplots(1,2)\n",
    "\n",
    "title = dir_01 + \"/\" + pre_01 + f\"\\n{f[fi]} GHz\"\n",
    "fig.suptitle(title)\n",
    "\n",
    "im = ax0.pcolor(x0, y, ampAndPhaArrays[\"J\"][0])\n",
    "dia.addColorBar(im,ax0)\n",
    "ax0.set_title(\"amplitude\")\n",
    "\n",
    "im = ax1.pcolor(x0, y, ampAndPhaArrays[\"J\"][1])\n",
    "dia.addColorBar(im,ax1)\n",
    "ax1.set_title(\"phase\")"
   ]
  },
  {
   "cell_type": "markdown",
   "metadata": {},
   "source": [
    "## plaque"
   ]
  },
  {
   "cell_type": "code",
   "execution_count": null,
   "metadata": {},
   "outputs": [],
   "source": [
    "fig, (ax0, ax1) = plt.subplots(1,2)\n",
    "\n",
    "title = dir_02 + \"/\" + pre_02 + f\"\\n{f[fi]} GHz\"\n",
    "fig.suptitle(title)\n",
    "\n",
    "im = ax0.pcolor(x0, y, ampAndPhaArrays[\"plaque\"][0])\n",
    "dia.addColorBar(im,ax0)\n",
    "ax0.set_title(\"amplitude\")\n",
    "\n",
    "im = ax1.pcolor(x0, y, ampAndPhaArrays[\"plaque\"][1])\n",
    "dia.addColorBar(im,ax1)\n",
    "ax1.set_title(\"phase\")"
   ]
  },
  {
   "cell_type": "code",
   "execution_count": null,
   "metadata": {},
   "outputs": [],
   "source": [
    "np.amax(x0)-np.amin(x0)"
   ]
  },
  {
   "cell_type": "code",
   "execution_count": null,
   "metadata": {},
   "outputs": [],
   "source": [
    "np.amax(y)-np.amin(y)"
   ]
  },
  {
   "cell_type": "code",
   "execution_count": null,
   "metadata": {},
   "outputs": [],
   "source": [
    "plt.figure()\n",
    "phaseToPlot = ampAndPhaArrays[\"J\"][1][20,:]\n",
    "plt.plot( phaseToPlot/180*pi )\n",
    "plt.grid()"
   ]
  },
  {
   "cell_type": "code",
   "execution_count": null,
   "metadata": {},
   "outputs": [],
   "source": [
    "plt.figure()\n",
    "phaseToPlot = ampAndPhaArrays[\"F\"][1][20,:]\n",
    "plt.plot( phaseToPlot/180*pi )\n",
    "plt.grid()"
   ]
  },
  {
   "cell_type": "markdown",
   "metadata": {},
   "source": [
    "# Get complex"
   ]
  },
  {
   "cell_type": "code",
   "execution_count": null,
   "metadata": {},
   "outputs": [],
   "source": [
    "c_Ev_F = dia.getComplex(ampAndPhaArrays['F'][0],ampAndPhaArrays['F'][1])\n",
    "c_Ev_J = dia.getComplex(ampAndPhaArrays['J'][0],ampAndPhaArrays['J'][1])"
   ]
  },
  {
   "cell_type": "code",
   "execution_count": null,
   "metadata": {},
   "outputs": [],
   "source": [
    "fig, ax = plt.subplots(1,1)\n",
    "ax.imshow( np.fft.fftshift( 20 * np.log10( np.abs( np.fft.fft2( c_Ev_F ) ) ) ) )\n",
    "dia.addColorBar(im,ax)\n",
    "ax.set_title(\"fft2 c_Ev_F\")"
   ]
  },
  {
   "cell_type": "code",
   "execution_count": null,
   "metadata": {},
   "outputs": [],
   "source": [
    "fig, ax = plt.subplots(1,1)\n",
    "ax.imshow( np.fft.fftshift( 20 * np.log10( np.abs( np.fft.fft2( c_Ev_J ) ) ) ) )\n",
    "dia.addColorBar(im,ax)\n",
    "ax.set_title(\"fft2 c_Ev_J\")"
   ]
  },
  {
   "cell_type": "code",
   "execution_count": null,
   "metadata": {},
   "outputs": [],
   "source": []
  }
 ],
 "metadata": {
  "kernelspec": {
   "display_name": "Python 3",
   "language": "python",
   "name": "python3"
  },
  "language_info": {
   "codemirror_mode": {
    "name": "ipython",
    "version": 3
   },
   "file_extension": ".py",
   "mimetype": "text/x-python",
   "name": "python",
   "nbconvert_exporter": "python",
   "pygments_lexer": "ipython3",
   "version": "3.7.3"
  },
  "toc": {
   "base_numbering": 1,
   "nav_menu": {},
   "number_sections": true,
   "sideBar": true,
   "skip_h1_title": false,
   "title_cell": "Table of Contents",
   "title_sidebar": "Contents",
   "toc_cell": false,
   "toc_position": {},
   "toc_section_display": true,
   "toc_window_display": true
  },
  "varInspector": {
   "cols": {
    "lenName": 16,
    "lenType": 16,
    "lenVar": 40
   },
   "kernels_config": {
    "python": {
     "delete_cmd_postfix": "",
     "delete_cmd_prefix": "del ",
     "library": "var_list.py",
     "varRefreshCmd": "print(var_dic_list())"
    },
    "r": {
     "delete_cmd_postfix": ") ",
     "delete_cmd_prefix": "rm(",
     "library": "var_list.r",
     "varRefreshCmd": "cat(var_dic_list()) "
    }
   },
   "types_to_exclude": [
    "module",
    "function",
    "builtin_function_or_method",
    "instance",
    "_Feature"
   ],
   "window_display": false
  }
 },
 "nbformat": 4,
 "nbformat_minor": 2
}
