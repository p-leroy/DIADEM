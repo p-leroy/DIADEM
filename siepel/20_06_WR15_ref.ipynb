{
 "cells": [
  {
   "cell_type": "markdown",
   "metadata": {},
   "source": [
    "# Init"
   ]
  },
  {
   "cell_type": "code",
   "execution_count": 1,
   "metadata": {},
   "outputs": [],
   "source": [
    "import os, sys\n",
    "\n",
    "import numpy as np\n",
    "import matplotlib.pyplot as plt\n",
    "\n",
    "config = \"bruz\"\n",
    "if config == \"ur1\":\n",
    "    sys.path.insert(0, \"../\")\n",
    "    siepelDir = \"C:/Users/pleroy/Documents/CAMILL/SER/WR15_v2\"\n",
    "elif config == \"bruz\":\n",
    "    sys.path.insert(0, \"/home/pleroy/DEV/DIADEM\")\n",
    "    siepelDir = \"/home/pleroy/DATA/CAMILL/WR15_v2\"\n",
    "\n",
    "import toolsdiadem.tools as dia\n",
    "import toolsdiadem.ser as ser\n",
    "from toolsdiadem.Probe import Probe\n",
    "from toolsdiadem.ConfigSer import ConfigSer"
   ]
  },
  {
   "cell_type": "code",
   "execution_count": 2,
   "metadata": {},
   "outputs": [],
   "source": [
    "%matplotlib qt5\n",
    "%load_ext autoreload\n",
    "%autoreload 2"
   ]
  },
  {
   "cell_type": "code",
   "execution_count": 3,
   "metadata": {},
   "outputs": [
    {
     "name": "stdout",
     "output_type": "stream",
     "text": [
      "/home/pleroy/DATA/CAMILL/WR15_v2/wr15_plaqueSupport.ini\n",
      "nb_elev 41\n",
      "nb_freq 2001\n",
      "nb_ssb 3\n",
      "el0 0.7\n",
      "az0 -0.44\n",
      "base_path /home/pleroy/DATA/CAMILL/WR15_v2\n",
      "out_path /home/pleroy/DATA/CAMILL/WR15_v2/processing/wr15\n",
      "gateWidth 500.0\n",
      "gateCenter 6450.0\n",
      "/home/pleroy/DATA/CAMILL/WR15_v2/wr15_plaqueRef.ini\n",
      "nb_elev 41\n",
      "nb_freq 2001\n",
      "nb_ssb 3\n",
      "el0 0.31\n",
      "az0 -0.44\n",
      "base_path /home/pleroy/DATA/CAMILL/WR15_v2\n",
      "out_path /home/pleroy/DATA/CAMILL/WR15_v2/processing/wr15\n",
      "gateWidth 0.0\n",
      "gateCenter 0.0\n"
     ]
    }
   ],
   "source": [
    "cmap='jet'\n",
    "configSupport = os.path.join(siepelDir, \"wr15_plaqueSupport.ini\")\n",
    "configRef = os.path.join(siepelDir, \"wr15_plaqueRef.ini\")\n",
    "confSupport = ConfigSer(configSupport)\n",
    "confRef = ConfigSer(configRef)\n",
    "confSupport.printConfig()\n",
    "confRef.printConfig()"
   ]
  },
  {
   "cell_type": "markdown",
   "metadata": {},
   "source": [
    "# Données de la sonde"
   ]
  },
  {
   "cell_type": "code",
   "execution_count": 6,
   "metadata": {},
   "outputs": [],
   "source": [
    "probe = Probe(os.path.join(confSupport.base_path, \"S11FDC_WR15.s1p\"))\n",
    "probe_2020_08_19 = Probe(os.path.join(confSupport.base_path, \"S11_PROBE_WR15_2020_08_19.s1p\"))\n",
    "probe_SUPPORT_AU_MAX_PLUS_ABS = Probe(os.path.join(confSupport.base_path, \"S11_SUPPORT_AU_MAX_PLUS_ABS_2020_08_19.s1p\"))\n",
    "probe_SUPPORT_AU_MAX_SANS_ABS = Probe(os.path.join(confSupport.base_path, \"S11_SUPPORT_AU_MAX_SANS_ABS_2020_08_19.s1p\"))\n",
    "probe_SUPPORT_A_ZERO_SANS_ABS = Probe(os.path.join(confSupport.base_path, \"S11_SUPPORT_A_ZERO_SANS_ABS_2020_08_19.s1p\"))"
   ]
  },
  {
   "cell_type": "code",
   "execution_count": 9,
   "metadata": {},
   "outputs": [],
   "source": [
    "fig, ax = plt.subplots(1,1)\n",
    "ax.plot(probe.d, ser.dB(np.fft.ifft(probe.S11)), label=f\"Probe\" )\n",
    "ax.plot(probe.d, ser.dB(np.fft.ifft(probe_2020_08_19.S11)), label=f\"SUPPORT_A_ZERO_PLUS_ABS, 2020_08_19\" )\n",
    "ax.plot(probe.d, ser.dB(np.fft.ifft(probe_SUPPORT_AU_MAX_PLUS_ABS.S11)), label=f\"SUPPORT_AU_MAX_PLUS_ABS, 2020_08_19\" )\n",
    "ax.plot(probe.d, ser.dB(np.fft.ifft(probe_SUPPORT_AU_MAX_SANS_ABS.S11)), label=f\"SUPPORT_AU_MAX_SANS_ABS, 2020_08_19\" )\n",
    "ax.plot(probe.d, ser.dB(np.fft.ifft(probe_SUPPORT_A_ZERO_SANS_ABS.S11)), label=f\"SUPPORT_A_ZERO_SANS_ABS, 2020_08_19\" )\n",
    "ax.legend()\n",
    "ax.grid()"
   ]
  },
  {
   "cell_type": "markdown",
   "metadata": {},
   "source": [
    "# Données des plaques"
   ]
  },
  {
   "cell_type": "markdown",
   "metadata": {},
   "source": [
    "## Référence"
   ]
  },
  {
   "cell_type": "code",
   "execution_count": null,
   "metadata": {},
   "outputs": [],
   "source": [
    "dir_ref = f\"{confRef.base_path}/20200706/026_plaqueRef\"\n",
    "freq_reference, S11_reference = ser.getData_ssb(confRef.nb_elev, confRef.nb_freq, confRef.nb_ssb, dir_ref)\n",
    "S11_reference_compensated = S11_reference - probe.S11"
   ]
  },
  {
   "cell_type": "code",
   "execution_count": null,
   "metadata": {},
   "outputs": [],
   "source": [
    "d = np.linspace(0, 300 / (freq_reference[1]-freq_reference[0]), confRef.nb_freq) * 0.5;"
   ]
  },
  {
   "cell_type": "code",
   "execution_count": null,
   "metadata": {},
   "outputs": [],
   "source": [
    "fig, (ax0, ax1) = plt.subplots(1,2)\n",
    "\n",
    "im = ax0.pcolormesh(confRef.elevation, freq_reference, ser.dB(S11_reference).T, cmap=cmap )\n",
    "title = f\"S11_reference\"\n",
    "ax0.set_title(title)\n",
    "ax0.set_xlabel( \"Elévation [°]\" )\n",
    "ax0.set_ylabel( \"Fréquence [GHz]\" )\n",
    "dia.addColorBar(  im, ax0, aspect='auto' )\n",
    "\n",
    "im = ax1.pcolormesh(confRef.elevation, freq_reference, ser.dB(S11_reference_compensated).T, cmap=cmap )\n",
    "title = f\"S11_reference_compensated\"\n",
    "ax1.set_title(title)\n",
    "ax1.set_xlabel( \"Elévation [°]\" )\n",
    "ax1.set_ylabel( \"Fréquence [GHz]\" )\n",
    "dia.addColorBar(  im, ax1, aspect='auto' )"
   ]
  },
  {
   "cell_type": "markdown",
   "metadata": {},
   "source": [
    "## Support"
   ]
  },
  {
   "cell_type": "code",
   "execution_count": null,
   "metadata": {},
   "outputs": [],
   "source": [
    "data_dir = f\"{confSupport.base_path}/20200701/plaqueSupport\"\n",
    "freq_support, S11_support = ser.getData_ssb(\n",
    "    confSupport.nb_elev, confSupport.nb_freq, confSupport.nb_ssb, data_dir)\n",
    "S11_support_compensated = S11_support - probe.S11"
   ]
  },
  {
   "cell_type": "code",
   "execution_count": null,
   "metadata": {},
   "outputs": [],
   "source": [
    "fig, (ax0, ax1) = plt.subplots(1,2)\n",
    "\n",
    "im = ax0.pcolormesh(confSupport.elevation, freq_support, ser.dB(S11_support).T, cmap=cmap )\n",
    "title = f\"S11_support\"\n",
    "ax0.set_title(title)\n",
    "ax0.set_xlabel( \"Elévation [°]\" )\n",
    "ax0.set_ylabel( \"Fréquence [GHz]\" )\n",
    "dia.addColorBar(  im, ax0, aspect='auto' )\n",
    "\n",
    "im = ax1.pcolormesh(confSupport.elevation, freq_support, ser.dB(S11_support_compensated).T, cmap=cmap )\n",
    "title = f\"S11_support_compensated\"\n",
    "ax1.set_title(title)\n",
    "ax1.set_xlabel( \"Elévation [°]\" )\n",
    "ax1.set_ylabel( \"Fréquence [GHz]\" )\n",
    "dia.addColorBar(  im, ax1, aspect='auto' )"
   ]
  },
  {
   "cell_type": "markdown",
   "metadata": {},
   "source": [
    "# Recherche de maximum"
   ]
  },
  {
   "cell_type": "code",
   "execution_count": null,
   "metadata": {},
   "outputs": [],
   "source": [
    "idx = np.where(abs(d - confSupport.gateCenter) < confSupport.gateWidth)[0]"
   ]
  },
  {
   "cell_type": "markdown",
   "metadata": {},
   "source": [
    "## Référence"
   ]
  },
  {
   "cell_type": "code",
   "execution_count": null,
   "metadata": {},
   "outputs": [],
   "source": [
    "maxVals = np.amax(np.abs(np.fft.ifft(S11_reference, axis=1))[:,idx], axis=1)\n",
    "maxElev = np.where(maxVals == np.amax(maxVals))\n",
    "print(f\"maxElev = {maxElev}\")\n",
    "iElevRef = maxElev[0][0]\n",
    "print(f\"[b] elevationPlaque at maximum: {confRef.elevation[iElevRef]:.2f}\")"
   ]
  },
  {
   "cell_type": "markdown",
   "metadata": {},
   "source": [
    "## Support"
   ]
  },
  {
   "cell_type": "code",
   "execution_count": null,
   "metadata": {},
   "outputs": [],
   "source": [
    "maxVals = np.amax(np.abs(np.fft.ifft(S11_support, axis=1))[:,idx], axis=1)\n",
    "maxElev = np.where(maxVals == np.amax(maxVals))\n",
    "print(f\"maxElev = {maxElev}\")\n",
    "iElevSupportMax = maxElev[0][0]\n",
    "print(f\"[b] elevationSupport at maximum: {confSupport.elevation[iElevSupportMax]:.2f}\")"
   ]
  },
  {
   "cell_type": "markdown",
   "metadata": {},
   "source": [
    "## Plot"
   ]
  },
  {
   "cell_type": "code",
   "execution_count": null,
   "metadata": {},
   "outputs": [],
   "source": [
    "ref_max = S11_reference[iElevRef,:]\n",
    "support_max = S11_support[iElevSupportMax,:]\n",
    "refComp_max = S11_reference_compensated[iElevRef,:]\n",
    "supportComp_max = S11_support_compensated[iElevSupportMax,:]"
   ]
  },
  {
   "cell_type": "code",
   "execution_count": null,
   "metadata": {},
   "outputs": [],
   "source": [
    "fig, ax = plt.subplots(1,1)\n",
    "ax.plot(d, ser.dB(np.fft.ifft(ref_max)), label=f\"ref_max, {confRef.elevation[iElevRef]:.2f}\")\n",
    "ax.plot(d, ser.dB(np.fft.ifft(refComp_max)), label=f\"refComp_max, {confRef.elevation[iElevRef]:.2f}\")\n",
    "ax.plot(d, ser.dB(np.fft.ifft(support_max)), label=f\"Support_max, {confSupport.elevation[iElevSupportMax]}\")\n",
    "ax.plot(d, ser.dB(np.fft.ifft(supportComp_max)), label=f\"SupportComp_max, {confSupport.elevation[iElevSupportMax]}\")\n",
    "ax.legend()\n",
    "ax.grid()"
   ]
  },
  {
   "cell_type": "markdown",
   "metadata": {},
   "source": [
    "# Save data"
   ]
  },
  {
   "cell_type": "code",
   "execution_count": null,
   "metadata": {},
   "outputs": [],
   "source": [
    "tmp = np.zeros((confRef.nb_freq, 3))\n",
    "tmp[:,0] = freq_reference\n",
    "tmp[:,1] = np.real(ref_max)\n",
    "tmp[:,2] = np.imag(ref_max)\n",
    "file_ref = f\"{confRef.out_path}/data/WR15_S11_plaque_ref.txt\"\n",
    "np.savetxt(file_ref, tmp, header=\"GHz real imag\")\n",
    "print(file_ref)"
   ]
  },
  {
   "cell_type": "code",
   "execution_count": null,
   "metadata": {},
   "outputs": [],
   "source": [
    "tmp = np.zeros((confRef.nb_freq, 3))\n",
    "tmp[:,0] = freq_reference\n",
    "tmp[:,1] = np.real(support_max)\n",
    "tmp[:,2] = np.imag(support_max)\n",
    "file_support = f\"{confSupport.out_path}/data/WR15_S11_plaque_support.txt\"\n",
    "np.savetxt(file_support, tmp, header=\"GHz real imag\")\n",
    "print(file_support)"
   ]
  },
  {
   "cell_type": "code",
   "execution_count": null,
   "metadata": {},
   "outputs": [],
   "source": []
  }
 ],
 "metadata": {
  "kernelspec": {
   "display_name": "Python 3",
   "language": "python",
   "name": "python3"
  },
  "language_info": {
   "codemirror_mode": {
    "name": "ipython",
    "version": 3
   },
   "file_extension": ".py",
   "mimetype": "text/x-python",
   "name": "python",
   "nbconvert_exporter": "python",
   "pygments_lexer": "ipython3",
   "version": "3.8.5"
  },
  "toc": {
   "base_numbering": 1,
   "nav_menu": {},
   "number_sections": true,
   "sideBar": true,
   "skip_h1_title": false,
   "title_cell": "Table of Contents",
   "title_sidebar": "Contents",
   "toc_cell": false,
   "toc_position": {
    "height": "calc(100% - 180px)",
    "left": "10px",
    "top": "150px",
    "width": "256.2px"
   },
   "toc_section_display": true,
   "toc_window_display": true
  },
  "varInspector": {
   "cols": {
    "lenName": 16,
    "lenType": 16,
    "lenVar": 40
   },
   "kernels_config": {
    "python": {
     "delete_cmd_postfix": "",
     "delete_cmd_prefix": "del ",
     "library": "var_list.py",
     "varRefreshCmd": "print(var_dic_list())"
    },
    "r": {
     "delete_cmd_postfix": ") ",
     "delete_cmd_prefix": "rm(",
     "library": "var_list.r",
     "varRefreshCmd": "cat(var_dic_list()) "
    }
   },
   "types_to_exclude": [
    "module",
    "function",
    "builtin_function_or_method",
    "instance",
    "_Feature"
   ],
   "window_display": false
  }
 },
 "nbformat": 4,
 "nbformat_minor": 4
}
