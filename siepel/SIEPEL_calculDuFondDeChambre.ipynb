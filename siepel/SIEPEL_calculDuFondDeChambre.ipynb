{
 "cells": [
  {
   "cell_type": "markdown",
   "metadata": {},
   "source": [
    "# Init"
   ]
  },
  {
   "cell_type": "code",
   "execution_count": 1,
   "metadata": {},
   "outputs": [],
   "source": [
    "import numpy as np\n",
    "import matplotlib.pyplot as plt"
   ]
  },
  {
   "cell_type": "code",
   "execution_count": 2,
   "metadata": {},
   "outputs": [],
   "source": [
    "%matplotlib qt5"
   ]
  },
  {
   "cell_type": "code",
   "execution_count": 3,
   "metadata": {},
   "outputs": [],
   "source": [
    "import sys"
   ]
  },
  {
   "cell_type": "code",
   "execution_count": 4,
   "metadata": {},
   "outputs": [],
   "source": [
    "sys.path.insert(0, \"/home/pleroy/DEV/DIADEM\")\n",
    "import toolsdiadem.tools as dia\n",
    "import toolsdiadem.ser as ser"
   ]
  },
  {
   "cell_type": "code",
   "execution_count": 5,
   "metadata": {},
   "outputs": [],
   "source": [
    "cmap='jet'"
   ]
  },
  {
   "cell_type": "code",
   "execution_count": 6,
   "metadata": {},
   "outputs": [],
   "source": [
    "base_path = \"/home/pleroy/DATA/DIADEM/SIEPEL/SER/WR15\"\n",
    "dic_dir = {\"190130\" : [\"absC\"],\n",
    "           \"190131\" : [\"absAHP12\", \"absB\", \"absD\", \"absJ\"],\n",
    "           \"190201\" : [\"absA\", \"absAHP20\", \"absE\", \"absG\", \"absM\"],\n",
    "           \"190204\" : [\"absAHP9\", \"absAHP30\", \"absAHP45\", \"absH\", \"absI\", \"absK\", \"absL\", \"absN\", \"absO\", \"absU\"]}"
   ]
  },
  {
   "cell_type": "code",
   "execution_count": 7,
   "metadata": {},
   "outputs": [
    {
     "name": "stdout",
     "output_type": "stream",
     "text": [
      "nbAbs = 20\n"
     ]
    }
   ],
   "source": [
    "nbAbs = 0\n",
    "for key in dic_dir:\n",
    "    nbAbs = nbAbs + len(dic_dir[key])\n",
    "print( f\"nbAbs = {nbAbs}\" )"
   ]
  },
  {
   "cell_type": "markdown",
   "metadata": {},
   "source": [
    "# Relecture des données"
   ]
  },
  {
   "cell_type": "code",
   "execution_count": 9,
   "metadata": {},
   "outputs": [],
   "source": [
    "dir_fondDeChambre = \"/home/pleroy/DATA/DIADEM/SIEPEL/SER/WR15\"\n",
    "tmp = np.loadtxt(f\"{base_path}/S11_fond_de_chambre.txt\", skiprows=1)\n",
    "S11_fondDeChambre = tmp[:,1] + 1j * tmp[:,2]"
   ]
  },
  {
   "cell_type": "code",
   "execution_count": 10,
   "metadata": {},
   "outputs": [
    {
     "data": {
      "text/plain": [
       "<matplotlib.legend.Legend at 0x7fc8d609da20>"
      ]
     },
     "execution_count": 10,
     "metadata": {},
     "output_type": "execute_result"
    }
   ],
   "source": [
    "fig, ax = plt.subplots(1,1)\n",
    "plt.plot( 20 * np.log10( np.abs( np.fft.ifft( S11_fondDeChambre ) ) ), label=\"fond de chambre\" )\n",
    "plt.grid()\n",
    "plt.legend()"
   ]
  },
  {
   "cell_type": "markdown",
   "metadata": {},
   "source": [
    "# Calcul du fond de chambre\n",
    "ref: ser4siepel_multiband_scan_elev_F2C.sce"
   ]
  },
  {
   "cell_type": "code",
   "execution_count": 11,
   "metadata": {},
   "outputs": [],
   "source": [
    "nb_elev = 41\n",
    "nb_freq = 2001\n",
    "elevation = np.linspace( 0.76 - 1.0, 0.76 + 1.0, nb_elev )\n",
    "\n",
    "tab_S11_moy      = np.zeros( (nbAbs, nb_freq),   dtype=complex )\n",
    "tab_S11_moy_td   = np.zeros( (nbAbs, nb_freq),   dtype=complex )\n",
    "tab_S11_moy_tg   = np.zeros( (nbAbs, nb_freq),   dtype=complex )\n",
    "\n",
    "data_S11         = np.zeros( (nb_elev, nb_freq), dtype=complex )\n",
    "data_S11_td      = np.zeros( (nb_elev, nb_freq), dtype=complex )\n",
    "data_S11_tg      = np.zeros( (nb_elev, nb_freq), dtype=complex )\n",
    "S11_minus_moy    = np.zeros( (nb_elev, nb_freq), dtype=complex )\n",
    "S11_minus_moy_td = np.zeros( (nb_elev, nb_freq), dtype=complex )\n",
    "S11_minus_moy_tg = np.zeros( (nb_elev, nb_freq), dtype=complex )\n",
    "reflectivite     = np.zeros( (nb_elev, nb_freq), dtype=complex )\n",
    "S11_moy          = np.zeros( nb_freq,            dtype=complex )\n",
    "S11_moy_square   = np.zeros( nb_freq,            dtype=complex )"
   ]
  },
  {
   "cell_type": "code",
   "execution_count": 12,
   "metadata": {},
   "outputs": [
    {
     "name": "stdout",
     "output_type": "stream",
     "text": [
      "190130\n",
      "absC\n",
      "190131\n",
      "absAHP12\n",
      "absB\n",
      "absD\n",
      "absJ\n",
      "190201\n",
      "absA\n",
      "absAHP20\n",
      "absE\n",
      "absG\n",
      "absM\n",
      "190204\n",
      "absAHP9\n",
      "absAHP30\n",
      "absAHP45\n",
      "absH\n",
      "absI\n",
      "absK\n",
      "absL\n",
      "absN\n",
      "absO\n",
      "absU\n"
     ]
    }
   ],
   "source": [
    "i_moy = 0\n",
    "for key in dic_dir:\n",
    "    print(key)\n",
    "    for absx in dic_dir[key]:\n",
    "        print(absx)\n",
    "        seq = 0\n",
    "        data_dir = f\"{base_path}/{key}/{absx}\" \n",
    "        S11_moy.fill( 0 )\n",
    "        S11_moy_square.fill( 0 )\n",
    "        \n",
    "        for ielev in range(0, nb_elev):\n",
    "            freq_all, S11_all = ser.getFreqAndS11( data_dir, seq0=seq, verbose=0 )\n",
    "            seq = seq + 3\n",
    "            S11_moy  = S11_moy + S11_all\n",
    "            S11_moy_square = S11_moy_square + S11_all * np.abs( S11_all )\n",
    "            d = np.linspace( 0, 300 / ( freq_all[1] - freq_all[0] ), len(freq_all) ) * 0.5\n",
    "            gate = 0 * d + 1e-6;\n",
    "            gate[ np.where( np.abs( d - 6650 ) < 500 ) ] = 1.0\n",
    "            tab_freq = freq_all\n",
    "        \n",
    "        S11_moy        = S11_moy / nb_elev\n",
    "        S11_moy_square = S11_moy_square / nb_elev\n",
    "        S11_moy_td     = np.fft.ifft( S11_moy )\n",
    "        S11_moy_tg     = S11_moy_td * gate\n",
    "\n",
    "        tab_S11_moy[ i_moy,:]    = S11_moy\n",
    "        tab_S11_moy_td[ i_moy,:] = S11_moy_td\n",
    "        tab_S11_moy_tg[ i_moy,:] = S11_moy_tg\n",
    "        \n",
    "        i_moy = i_moy + 1\n",
    "        \n",
    "S11_moy    = np.mean( tab_S11_moy,    axis=0 )\n",
    "S11_moy_td = np.mean( tab_S11_moy_td, axis=0 )\n",
    "S11_moy_tg = np.mean( tab_S11_moy_tg, axis=0 )"
   ]
  },
  {
   "cell_type": "code",
   "execution_count": 13,
   "metadata": {},
   "outputs": [
    {
     "data": {
      "text/plain": [
       "<matplotlib.legend.Legend at 0x7fc8d5938320>"
      ]
     },
     "execution_count": 13,
     "metadata": {},
     "output_type": "execute_result"
    }
   ],
   "source": [
    "fig, ax = plt.subplots( 1, 1 )\n",
    "ax.plot( 20 * np.log10( np.abs( S11_fondDeChambre ) ), label='S11_fondDeChambre' )\n",
    "ax.plot( 20 * np.log10( np.abs( S11_moy ) ), label='S11_moy' )\n",
    "ax.grid()\n",
    "ax.legend()"
   ]
  },
  {
   "cell_type": "code",
   "execution_count": 14,
   "metadata": {},
   "outputs": [],
   "source": [
    "tmp[:,1] = np.real( S11_moy )\n",
    "tmp[:,2] = np.imag( S11_moy )\n",
    "np.savetxt( \"S11_fond_de_chambre.txt\", tmp, header=\"#GHz real imag\")"
   ]
  },
  {
   "cell_type": "code",
   "execution_count": null,
   "metadata": {},
   "outputs": [],
   "source": []
  }
 ],
 "metadata": {
  "kernelspec": {
   "display_name": "Python 3",
   "language": "python",
   "name": "python3"
  },
  "language_info": {
   "codemirror_mode": {
    "name": "ipython",
    "version": 3
   },
   "file_extension": ".py",
   "mimetype": "text/x-python",
   "name": "python",
   "nbconvert_exporter": "python",
   "pygments_lexer": "ipython3",
   "version": "3.7.1"
  },
  "toc": {
   "base_numbering": 1,
   "nav_menu": {},
   "number_sections": true,
   "sideBar": true,
   "skip_h1_title": false,
   "title_cell": "Table of Contents",
   "title_sidebar": "Contents",
   "toc_cell": false,
   "toc_position": {
    "height": "calc(100% - 180px)",
    "left": "10px",
    "top": "150px",
    "width": "232.4px"
   },
   "toc_section_display": true,
   "toc_window_display": true
  },
  "varInspector": {
   "cols": {
    "lenName": 16,
    "lenType": 16,
    "lenVar": 40
   },
   "kernels_config": {
    "python": {
     "delete_cmd_postfix": "",
     "delete_cmd_prefix": "del ",
     "library": "var_list.py",
     "varRefreshCmd": "print(var_dic_list())"
    },
    "r": {
     "delete_cmd_postfix": ") ",
     "delete_cmd_prefix": "rm(",
     "library": "var_list.r",
     "varRefreshCmd": "cat(var_dic_list()) "
    }
   },
   "types_to_exclude": [
    "module",
    "function",
    "builtin_function_or_method",
    "instance",
    "_Feature"
   ],
   "window_display": false
  }
 },
 "nbformat": 4,
 "nbformat_minor": 2
}
