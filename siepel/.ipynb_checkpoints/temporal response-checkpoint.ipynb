{
 "cells": [
  {
   "cell_type": "code",
   "execution_count": 1,
   "metadata": {},
   "outputs": [],
   "source": [
    "import configparser, os, sys\n",
    "\n",
    "import numpy as np\n",
    "import matplotlib.pyplot as plt\n",
    "from scipy.signal import kaiser\n",
    "\n",
    "config = \"bruz\"\n",
    "if config == \"ur1\":\n",
    "    sys.path.insert(0, \"../\")\n",
    "    siepelDir = \"C:/Users/pleroy/Documents/CAMILL/SER/WR15_v2\"\n",
    "elif config == \"bruz\":\n",
    "    sys.path.insert(0, \"/home/pleroy/DEV/DIADEM\")\n",
    "    siepelDir = \"/home/pleroy/DATA/CAMILL/WR15_v2\"\n",
    "\n",
    "import toolsdiadem.tools as dia\n",
    "import toolsdiadem.ser as ser\n",
    "from toolsdiadem.ConfigSer import ConfigSer\n",
    "from toolsdiadem.Gate import Gate\n",
    "from toolsdiadem.Probe import Probe"
   ]
  },
  {
   "cell_type": "code",
   "execution_count": 29,
   "metadata": {},
   "outputs": [],
   "source": [
    "def addVLine(x, absorber, c=\"gray\"):\n",
    "    plt.axvline(x=x, label=f\"line at {x} ({absorber})\", c=c)"
   ]
  },
  {
   "cell_type": "code",
   "execution_count": 2,
   "metadata": {},
   "outputs": [],
   "source": [
    "%matplotlib qt5\n",
    "%load_ext autoreload\n",
    "%autoreload 2"
   ]
  },
  {
   "cell_type": "code",
   "execution_count": 3,
   "metadata": {},
   "outputs": [
    {
     "name": "stdout",
     "output_type": "stream",
     "text": [
      "/home/pleroy/DATA/CAMILL/WR15_v2/wr15_plaqueSupport.ini\n",
      "nb_elev 41\n",
      "nb_freq 2001\n",
      "nb_ssb 3\n",
      "el0 0.7\n",
      "az0 -0.44\n",
      "base_path /home/pleroy/DATA/CAMILL/WR15_v2\n",
      "out_path /home/pleroy/DATA/CAMILL/WR15_v2/processing/wr15\n",
      "gateWidth 500.0\n",
      "gateCenter 6450.0\n",
      "/home/pleroy/DATA/CAMILL/WR15_v2/wr10_plaqueSupport.ini\n",
      "nb_elev 41\n",
      "nb_freq 2801\n",
      "nb_ssb 4\n",
      "el0 0.65\n",
      "az0 -0.44\n",
      "base_path /home/pleroy/DATA/CAMILL/WR15_v2\n",
      "out_path /home/pleroy/DATA/CAMILL/WR15_v2/processing/wr10\n",
      "gateWidth 500.0\n",
      "gateCenter 6450.0\n"
     ]
    }
   ],
   "source": [
    "cmap='jet'\n",
    "configFilenameWr15 = os.path.join(siepelDir, \"wr15_plaqueSupport.ini\")\n",
    "configFilenameWr10 = os.path.join(siepelDir, \"wr10_plaqueSupport.ini\")\n",
    "conf15 = ConfigSer(configFilenameWr15)\n",
    "conf10 = ConfigSer(configFilenameWr10)\n",
    "conf15.printConfig()\n",
    "conf10.printConfig()\n",
    "\n",
    "iWR15 = 20\n",
    "iWR10 = 21\n",
    "\n",
    "vmin = -90\n",
    "vmax = -40\n",
    "cmap='jet'\n",
    "\n",
    "centerFreqWR15 = 62.5\n",
    "bandWidthWR15 = 12.4\n",
    "centerFreqWR10 = 92.5\n",
    "bandWidthWR10 = 17.4"
   ]
  },
  {
   "cell_type": "markdown",
   "metadata": {},
   "source": [
    "# WR15"
   ]
  },
  {
   "cell_type": "code",
   "execution_count": 4,
   "metadata": {},
   "outputs": [
    {
     "name": "stdout",
     "output_type": "stream",
     "text": [
      "/home/pleroy/DATA/CAMILL/WR15_v2/processing/wr15/data/WR15_S11_fond_de_chambre.txt\n",
      "/home/pleroy/DATA/CAMILL/WR15_v2/processing/wr15/data/WR15_S11_plaque_ref.txt\n"
     ]
    }
   ],
   "source": [
    "file_f2c_wr15 = os.path.join(conf15.out_path, \"data\", \"WR15_S11_fond_de_chambre.txt\")\n",
    "tmp = np.loadtxt(file_f2c_wr15, skiprows=1)\n",
    "print(file_f2c_wr15)\n",
    "S11_f2c_wr15 = tmp[:,1] + 1j * tmp[:,2]\n",
    "\n",
    "file_ref = os.path.join(conf15.out_path, \"data\", \"WR15_S11_plaque_ref.txt\")\n",
    "tmp = np.loadtxt(file_ref, skiprows=1)\n",
    "print(file_ref)\n",
    "S11_ref_wr15 = tmp[:, 1] + 1j * tmp[:, 2]\n",
    "\n",
    "probe = Probe(os.path.join(conf15.base_path, \"S11FDC_WR15.s1p\"))\n",
    "probe_2020_08_19 = Probe(os.path.join(conf15.base_path, \"S11_PROBE_WR15_2020_08_19.s1p\"))\n",
    "probe_SUPPORT_AU_MAX_PLUS_ABS = Probe(os.path.join(conf15.base_path, \"S11_SUPPORT_AU_MAX_PLUS_ABS_2020_08_19.s1p\"))\n",
    "probe_SUPPORT_AU_MAX_SANS_ABS = Probe(os.path.join(conf15.base_path, \"S11_SUPPORT_AU_MAX_SANS_ABS_2020_08_19.s1p\"))\n",
    "probe_SUPPORT_A_ZERO_SANS_ABS = Probe(os.path.join(conf15.base_path, \"S11_SUPPORT_A_ZERO_SANS_ABS_2020_08_19.s1p\"))\n",
    "\n",
    "S11_prb_wr15 = probe_2020_08_19.S11"
   ]
  },
  {
   "cell_type": "code",
   "execution_count": 36,
   "metadata": {},
   "outputs": [],
   "source": [
    "dir_J_wr15 = os.path.join(conf15.base_path, \"20200703\", \"012_J\")\n",
    "dir_N_wr15 = os.path.join(conf15.base_path, \"20200703\", \"014_N\")\n",
    "dir_O_wr15 = os.path.join(conf15.base_path, \"20200703\", \"013_O\")\n",
    "freq_wr15, S11_J_wr15 = ser.getData_ssb(conf15.nb_elev, conf15.nb_freq, conf15.nb_ssb, dir_J_wr15)\n",
    "freq_wr15, S11_N_wr15 = ser.getData_ssb(conf15.nb_elev, conf15.nb_freq, conf15.nb_ssb, dir_N_wr15)\n",
    "freq_wr15, S11_O_wr15 = ser.getData_ssb(conf15.nb_elev, conf15.nb_freq, conf15.nb_ssb, dir_O_wr15)\n",
    "\n",
    "d_wr15 = np.linspace(0, 300 / (freq_wr15[1] - freq_wr15[0]), conf15.nb_freq) * 0.5"
   ]
  },
  {
   "cell_type": "code",
   "execution_count": 37,
   "metadata": {},
   "outputs": [],
   "source": [
    "s11_J_wr15 = np.fft.ifft(S11_J_wr15, axis=1)\n",
    "s11_minus_f2c_J_wr15 = np.fft.ifft(S11_J_wr15 - S11_f2c_wr15, axis=1)\n",
    "\n",
    "s11_N_wr15 = np.fft.ifft(S11_N_wr15, axis=1)\n",
    "s11_minus_f2c_N_wr15 = np.fft.ifft(S11_N_wr15 - S11_f2c_wr15, axis=1)\n",
    "\n",
    "s11_O_wr15 = np.fft.ifft(S11_O_wr15, axis=1)\n",
    "s11_minus_f2c_O_wr15 = np.fft.ifft(S11_O_wr15 - S11_f2c_wr15, axis=1)\n",
    "\n",
    "s11_ref_wr15 = np.fft.ifft(S11_ref_wr15)"
   ]
  },
  {
   "cell_type": "code",
   "execution_count": 38,
   "metadata": {},
   "outputs": [
    {
     "data": {
      "text/plain": [
       "Text(0.5, 1.0, 'WR15, élévation 0.7°')"
      ]
     },
     "execution_count": 38,
     "metadata": {},
     "output_type": "execute_result"
    }
   ],
   "source": [
    "idx = iWR15\n",
    "\n",
    "plt.figure()\n",
    "plt.plot(d_wr15, ser.dB(s11_J_wr15[idx, :]), label=\"s11_J_wr15 (6x6)\")\n",
    "plt.plot(d_wr15, ser.dB(s11_minus_f2c_J_wr15[idx, :]), label=\"s11_minus_f2c_J_wr15\")\n",
    "\n",
    "plt.plot(d_wr15, ser.dB(s11_N_wr15[idx, :]), label=\"s11_N_wr15 (3x3)\")\n",
    "plt.plot(d_wr15, ser.dB(s11_minus_f2c_N_wr15[idx, :]), label=\"s11_minus_f2c_N_wr15\")\n",
    "\n",
    "plt.plot(d_wr15, ser.dB(s11_ref_wr15), label=\"s11_ref\")\n",
    "\n",
    "plt.legend()\n",
    "plt.grid()\n",
    "plt.title(f\"WR15, élévation {conf15.elevation[idx]}°\")"
   ]
  },
  {
   "cell_type": "code",
   "execution_count": 48,
   "metadata": {},
   "outputs": [
    {
     "data": {
      "text/plain": [
       "(6000.0, 7000.0)"
      ]
     },
     "execution_count": 48,
     "metadata": {},
     "output_type": "execute_result"
    }
   ],
   "source": [
    "idx = iWR15\n",
    "\n",
    "plt.figure()\n",
    "\n",
    "plt.plot(d_wr15, ser.dB(s11_minus_f2c_J_wr15[idx, :]), label=\"s11_minus_f2c_J_wr15 (6x6)\")\n",
    "plt.plot(d_wr15, ser.dB(s11_minus_f2c_N_wr15[idx, :]), label=\"s11_minus_f2c_N_wr15 (3x3)\")\n",
    "plt.plot(d_wr15, ser.dB(s11_minus_f2c_O_wr15[idx, :]), label=\"s11_minus_f2c_O_wr15 (3x3)\")\n",
    "\n",
    "plt.plot(d_wr15, ser.dB(s11_ref_wr15), label=\"s11_ref\")\n",
    "\n",
    "addVLine(6426, \"ref\", \"red\")\n",
    "addVLine(6363, \"J\", \"blue\")\n",
    "addVLine(6324, \"N\", \"orange\")\n",
    "\n",
    "plt.legend()\n",
    "plt.grid()\n",
    "plt.title(f\"WR15, élévation {conf10.elevation[idx]:.2f}°\")\n",
    "\n",
    "plt.xlim([6000, 7000])"
   ]
  },
  {
   "cell_type": "markdown",
   "metadata": {},
   "source": [
    "# WR10"
   ]
  },
  {
   "cell_type": "code",
   "execution_count": 10,
   "metadata": {},
   "outputs": [
    {
     "name": "stdout",
     "output_type": "stream",
     "text": [
      "/home/pleroy/DATA/CAMILL/WR15_v2/processing/wr10/data/S11_fond_de_chambre.txt\n",
      "/home/pleroy/DATA/CAMILL/WR15_v2/processing/wr10/data/S11_plaque_ref_from_scan.txt\n"
     ]
    }
   ],
   "source": [
    "file_f2c_wr10 = os.path.join(conf10.out_path, \"data\", \"S11_fond_de_chambre.txt\")\n",
    "tmp = np.loadtxt(file_f2c_wr10, skiprows=1)\n",
    "print(file_f2c_wr10)\n",
    "S11_f2c_wr10 = tmp[:,1] + 1j * tmp[:,2]\n",
    "\n",
    "file_ref_wr10 = os.path.join(conf10.out_path, \"data\", \"S11_plaque_ref_from_scan.txt\")\n",
    "tmp = np.loadtxt(file_ref_wr10, skiprows=1)\n",
    "print(file_ref_wr10)\n",
    "S11_ref_wr10 = tmp[:, 1] + 1j * tmp[:, 2]\n",
    "\n",
    "tmp = np.loadtxt(os.path.join(conf10.out_path, \"data\", \"S11_probe_interpolated.txt\"), skiprows=1)\n",
    "S11_prb_wr10 = tmp[:,1] + 1j * tmp[:,2]\n",
    "freq_prb_wr10 = tmp[:,0]"
   ]
  },
  {
   "cell_type": "code",
   "execution_count": 11,
   "metadata": {},
   "outputs": [],
   "source": [
    "dir_J_wr10 = os.path.join(conf15.base_path, \"20200716\", \"049_J\")\n",
    "dir_N_wr10 = os.path.join(conf15.base_path, \"20200715\", \"047_N\")\n",
    "dir_O_wr10 = os.path.join(conf15.base_path, \"20200715\", \"046_O\")\n",
    "freq_wr10, S11_J_wr10 = ser.getData_ssb(conf10.nb_elev, conf10.nb_freq, conf10.nb_ssb, dir_J_wr10, tag=\"WR10_\")\n",
    "freq_wr10, S11_N_wr10 = ser.getData_ssb(conf10.nb_elev, conf10.nb_freq, conf10.nb_ssb, dir_N_wr10, tag=\"WR10_\")\n",
    "freq_wr10, S11_O_wr10 = ser.getData_ssb(conf10.nb_elev, conf10.nb_freq, conf10.nb_ssb, dir_O_wr10, tag=\"WR10_\")\n",
    "\n",
    "d_wr10 = np.linspace(0, 300 / (freq_wr10[1] - freq_wr10[0]), conf10.nb_freq) * 0.5"
   ]
  },
  {
   "cell_type": "code",
   "execution_count": 12,
   "metadata": {},
   "outputs": [],
   "source": [
    "s11_J_wr10 = np.fft.ifft(S11_J_wr10, axis=1)\n",
    "s11_minus_f2c_J_wr10 = np.fft.ifft(S11_J_wr10 - S11_f2c_wr10, axis=1)\n",
    "\n",
    "s11_N_wr10 = np.fft.ifft(S11_N_wr10, axis=1)\n",
    "s11_minus_f2c_N_wr10 = np.fft.ifft(S11_N_wr10 - S11_f2c_wr10, axis=1)\n",
    "\n",
    "s11_O_wr10 = np.fft.ifft(S11_O_wr10, axis=1)\n",
    "s11_minus_f2c_O_wr10 = np.fft.ifft(S11_O_wr10 - S11_f2c_wr10, axis=1)\n",
    "\n",
    "s11_ref_wr10 = np.fft.ifft(S11_ref_wr10)"
   ]
  },
  {
   "cell_type": "code",
   "execution_count": 15,
   "metadata": {},
   "outputs": [
    {
     "data": {
      "text/plain": [
       "Text(0.5, 1.0, 'WR10, élévation 0.70°')"
      ]
     },
     "execution_count": 15,
     "metadata": {},
     "output_type": "execute_result"
    }
   ],
   "source": [
    "idx = iWR10\n",
    "\n",
    "plt.plot(d_wr10, ser.dB(s11_N_wr10[idx, :]), label=\"s11_N_wr10 (3x3)\")\n",
    "plt.plot(d_wr10, ser.dB(s11_minus_f2c_N_wr10[idx, :]), label=\"s11_minus_f2c_N_wr10 (3x3)\")\n",
    "\n",
    "plt.plot(d_wr10, ser.dB(s11_O_wr10[idx, :]), label=\"s11_O_wr10 (3x3)\")\n",
    "plt.plot(d_wr10, ser.dB(s11_minus_f2c_O_wr10[idx, :]), label=\"s11_minus_f2c_O_wr10 (3x3)\")\n",
    "\n",
    "plt.plot(d_wr10, ser.dB(s11_ref_wr10), label=\"s11_ref\")\n",
    "\n",
    "plt.legend()\n",
    "plt.grid()\n",
    "plt.title(f\"WR10, élévation {conf10.elevation[idx]:.2f}°\")"
   ]
  },
  {
   "cell_type": "code",
   "execution_count": 50,
   "metadata": {},
   "outputs": [
    {
     "data": {
      "text/plain": [
       "(6000.0, 7000.0)"
      ]
     },
     "execution_count": 50,
     "metadata": {},
     "output_type": "execute_result"
    }
   ],
   "source": [
    "idx = iWR10\n",
    "\n",
    "plt.figure()\n",
    "\n",
    "plt.plot(d_wr10, ser.dB(s11_minus_f2c_J_wr10[idx, :]), label=\"s11_minus_f2c_J_wr10 (6x6)\")\n",
    "plt.plot(d_wr10, ser.dB(s11_minus_f2c_N_wr10[idx, :]), label=\"s11_minus_f2c_N_wr10 (3x3)\")\n",
    "plt.plot(d_wr10, ser.dB(s11_minus_f2c_O_wr10[idx, :]), label=\"s11_minus_f2c_O_wr10 (3x3)\")\n",
    "\n",
    "plt.plot(d_wr10, ser.dB(s11_ref_wr10), label=\"s11_ref\")\n",
    "\n",
    "addVLine(6424, \"ref\", \"red\")\n",
    "addVLine(6360, \"J\", \"blue\")\n",
    "addVLine(6321, \"N\", \"orange\")\n",
    "\n",
    "plt.legend()\n",
    "plt.grid()\n",
    "plt.title(f\"WR10, élévation {conf10.elevation[idx]:.2f}°\")\n",
    "\n",
    "plt.xlim([6000, 7000])"
   ]
  },
  {
   "cell_type": "markdown",
   "metadata": {},
   "source": [
    "# WR15 WR10"
   ]
  },
  {
   "cell_type": "code",
   "execution_count": null,
   "metadata": {},
   "outputs": [],
   "source": [
    "freq_wr1510 = np.r_[freq_wr15, freq_wr10[1:]]\n",
    "d_wr1510 = np.linspace(0, 300 / (freq_wr1510[1] - freq_wr1510[0]), conf15.nb_freq + conf10.nb_freq - 1) * 0.5"
   ]
  },
  {
   "cell_type": "code",
   "execution_count": null,
   "metadata": {},
   "outputs": [],
   "source": [
    "S11_J_wr1510 = np.r_[S11_J_wr15[iWR15, :], S11_J_wr10[iWR10, 1:]]\n",
    "S11_f2c_wr1510 = np.r_[S11_f2c_wr15, S11_f2c_wr10[1:]]\n",
    "S11_ref_wr1510 = np.r_[S11_ref_wr15, S11_ref_wr10[1:]]\n",
    "S11_prb_wr1510 = np.r_[S11_prb_wr15, S11_prb_wr10[1:]]"
   ]
  },
  {
   "cell_type": "code",
   "execution_count": null,
   "metadata": {},
   "outputs": [],
   "source": [
    "s11_J_wr1510 = np.fft.ifft(S11_J_wr1510)\n",
    "s11_minus_f2c_J_wr1510 = np.fft.ifft(S11_J_wr1510 - S11_f2c_wr1510)\n",
    "s11_minus_prb_J_wr1510 = np.fft.ifft(S11_J_wr1510 - S11_prb_wr1510)\n",
    "s11_ref_wr1510 = np.fft.ifft(S11_ref_wr1510)"
   ]
  },
  {
   "cell_type": "code",
   "execution_count": null,
   "metadata": {},
   "outputs": [],
   "source": [
    "plt.figure()\n",
    "plt.plot(d_wr1510, ser.dB(s11_J_wr1510), label=\"s11_J_wr1510\")\n",
    "plt.plot(d_wr1510, ser.dB(s11_minus_f2c_J_wr1510), label=\"s11_minus_f2c_J_wr1510\")\n",
    "plt.plot(d_wr1510, ser.dB(s11_minus_prb_J_wr1510), label=\"s11_minus_prb_J_wr1510\")\n",
    "\n",
    "plt.plot(d_wr1510, ser.dB(s11_ref_wr1510), label=\"s11_ref_wr1510\")\n",
    "\n",
    "plt.legend()\n",
    "plt.grid()\n",
    "plt.title(f\"WR10 {absorbant} {date}, élévation {conf10.elevation[idx]:.2f}°\")"
   ]
  },
  {
   "cell_type": "code",
   "execution_count": null,
   "metadata": {},
   "outputs": [],
   "source": [
    "plt.figure()\n",
    "plt.plot(ser.dB(S11_J_wr1510), label=\"S11_J_wr1510\")\n",
    "plt.legend()\n",
    "plt.grid()"
   ]
  },
  {
   "cell_type": "code",
   "execution_count": null,
   "metadata": {},
   "outputs": [],
   "source": [
    "plt.figure()\n",
    "plt.plot(d_wr15, ser.dB(S11_J_wr15[iWR15, :]), label=\"S11_J_wr15\")\n",
    "plt.plot(d_wr10, ser.dB(S11_J_wr10[iWR10, :]), label=\"S11_J_wr10\")\n",
    "\n",
    "plt.plot(d_wr15, ser.dB(S11_ref_wr15), label=\"S11_ref_wr15\")\n",
    "plt.plot(d_wr10, ser.dB(S11_ref_wr10), label=\"S11_ref_wr10\")\n",
    "\n",
    "plt.plot(d_wr15, ser.dB(S11_prb_wr15), label=\"S11_prb_wr15\")\n",
    "plt.plot(d_wr10, ser.dB(S11_prb_wr10), label=\"S11_prb_wr10\")\n",
    "\n",
    "plt.legend()\n",
    "plt.grid()\n",
    "plt.title(f\"WR10 {absorbant} {date}\")"
   ]
  },
  {
   "cell_type": "code",
   "execution_count": null,
   "metadata": {},
   "outputs": [],
   "source": [
    "fig, (ax0, ax1) = plt.subplots(2, 1, sharex=True)\n",
    "\n",
    "ax0.plot(freq_wr1510, ser.dB(S11_J_wr1510), label=\"S11_J_wr1510\")\n",
    "ax0.plot(freq_wr1510, ser.dB(S11_J_wr1510 - S11_f2c_wr1510), label=\"S11_J_wr1510 - S11_f2c_wr1510\")\n",
    "ax0.plot(freq_wr1510, ser.dB(S11_J_wr1510 - S11_prb_wr1510), label=\"S11_J_wr1510 - S11_prb_wr1510\")\n",
    "\n",
    "ax1.plot(freq_wr1510, np.angle(S11_J_wr1510), label=\"S11_J_wr1510\")\n",
    "ax1.plot(freq_wr1510, np.angle(S11_J_wr1510 - S11_f2c_wr1510), label=\"S11_J_wr1510 - S11_f2c_wr1510\")\n",
    "ax1.plot(freq_wr1510, np.angle(S11_J_wr1510 - S11_prb_wr1510), label=\"S11_J_wr1510 - S11_prb_wr1510\")\n",
    "\n",
    "plt.legend()\n",
    "plt.grid()\n",
    "plt.title(f\"WR1510 {absorbant} {date}\")"
   ]
  },
  {
   "cell_type": "code",
   "execution_count": null,
   "metadata": {},
   "outputs": [],
   "source": [
    "fig, (ax0, ax1) = plt.subplots(2, 1, sharex=True)\n",
    "\n",
    "ax0.plot(freq_wr1510, ser.dB(S11_ref_wr1510), label=\"S11_ref_wr1510\")\n",
    "ax0.plot(freq_wr1510, ser.dB(S11_ref_wr1510 - S11_f2c_wr1510), label=\"S11_ref_wr1510 - S11_f2c_wr1510\")\n",
    "ax0.plot(freq_wr1510, ser.dB(S11_ref_wr1510 - S11_prb_wr1510), label=\"S11_ref_wr1510 - S11_prb_wr1510\")\n",
    "\n",
    "ax1.plot(freq_wr1510, np.angle(S11_ref_wr1510), '.-', label=\"S11_ref_wr1510\")\n",
    "ax1.plot(freq_wr1510, np.angle(S11_ref_wr1510 - S11_f2c_wr1510), '.-', label=\"S11_ref_wr1510 - S11_f2c_wr1510\")\n",
    "ax1.plot(freq_wr1510, np.angle(S11_ref_wr1510 - S11_prb_wr1510), '.-', label=\"S11_ref_wr1510 - S11_prb_wr1510\")\n",
    "\n",
    "plt.legend()\n",
    "plt.grid()\n",
    "plt.title(f\"WR1510 {absorbant} {date}\")"
   ]
  },
  {
   "cell_type": "code",
   "execution_count": null,
   "metadata": {},
   "outputs": [],
   "source": []
  }
 ],
 "metadata": {
  "kernelspec": {
   "display_name": "Python 3",
   "language": "python",
   "name": "python3"
  },
  "language_info": {
   "codemirror_mode": {
    "name": "ipython",
    "version": 3
   },
   "file_extension": ".py",
   "mimetype": "text/x-python",
   "name": "python",
   "nbconvert_exporter": "python",
   "pygments_lexer": "ipython3",
   "version": "3.8.5"
  }
 },
 "nbformat": 4,
 "nbformat_minor": 4
}
