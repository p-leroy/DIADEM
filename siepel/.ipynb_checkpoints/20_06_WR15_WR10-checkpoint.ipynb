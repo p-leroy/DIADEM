{
 "cells": [
  {
   "cell_type": "code",
   "execution_count": null,
   "metadata": {},
   "outputs": [],
   "source": [
    "import numpy as np\n",
    "import matplotlib.pyplot as plt"
   ]
  },
  {
   "cell_type": "code",
   "execution_count": null,
   "metadata": {},
   "outputs": [],
   "source": [
    "%matplotlib qt5"
   ]
  },
  {
   "cell_type": "code",
   "execution_count": null,
   "metadata": {},
   "outputs": [],
   "source": [
    "import sys, os"
   ]
  },
  {
   "cell_type": "code",
   "execution_count": null,
   "metadata": {},
   "outputs": [],
   "source": [
    "sys.path.insert(0, \"../\")\n",
    "import toolsdiadem.tools as dia\n",
    "import toolsdiadem.ser as ser\n",
    "#sys.path.insert(0, \"/home/pleroy/DATA/DIADEM/SIEPEL/SER\")\n",
    "#import wr15_wr10_dates"
   ]
  },
  {
   "cell_type": "code",
   "execution_count": null,
   "metadata": {},
   "outputs": [],
   "source": [
    "%load_ext autoreload\n",
    "%autoreload 2"
   ]
  },
  {
   "cell_type": "code",
   "execution_count": null,
   "metadata": {},
   "outputs": [],
   "source": [
    "dirWR15 = \"/home/pleroy/DATA/DIADEM/SIEPEL/SER/WR15/images_190920/data\"\n",
    "dirWR10 = \"/home/pleroy/DATA/DIADEM/SIEPEL/SER/WR10/processing/data\"\n",
    "prefix = \"/home/pleroy/DATA/DIADEM/SIEPEL/SER/WR15_WR10/\""
   ]
  },
  {
   "cell_type": "code",
   "execution_count": null,
   "metadata": {},
   "outputs": [],
   "source": [
    "iWR15 = 20\n",
    "iWR10 = 18\n",
    "freq_WR15 = np.load( f\"{dirWR15}/freq_WR15.npy\" )\n",
    "freq_WR10 = np.load( f\"{dirWR10}/freq_WR10.npy\" )\n",
    "elevation_WR15 = np.load( f\"{dirWR15}/elevation_WR15.npy\" )\n",
    "elevation_WR10 = np.load( f\"{dirWR10}/elevation_WR10.npy\" )"
   ]
  },
  {
   "cell_type": "markdown",
   "metadata": {},
   "source": [
    "# Compare WR15 / WR10"
   ]
  },
  {
   "cell_type": "code",
   "execution_count": null,
   "metadata": {},
   "outputs": [],
   "source": [
    "fig, ax = plt.subplots(1,1)\n",
    "title = prefix\n",
    "measurements = [(\"-\", \"190204\", \"AHP9\"),\n",
    "               (\"-\", \"190131\", \"AHP12\"),\n",
    "               (\"-\", \"190201\", \"AHP20\"),\n",
    "               (\"-\", \"190204\", \"AHP30\"),\n",
    "               (\"-\", \"190204\", \"AHP45\"),\n",
    "               (\"b\", \"191001\", \"AHP9\"),\n",
    "               (\"b\", \"190930\", \"AHP12\"),\n",
    "               (\"b\", \"190926\", \"R\"),\n",
    "               (\"b\", \"190930\", \"AHP30\"),\n",
    "               (\"b\", \"191001\", \"AHP45\")]\n",
    "getMax = 0\n",
    "\n",
    "for myAbs in wr15_wr10_dates.dictOfMeasurements[\"AHP12\"]:\n",
    "    serie, date, absorbant = myAbs\n",
    "    if int(date) < 190910:\n",
    "        # this is a WR15 measurement\n",
    "        reflectivite = np.load( f\"{dirWR15}/reflectivite_abs{absorbant}.npy\" )\n",
    "        toPlot = reflectivite[iWR15, :]\n",
    "        if getMax:\n",
    "            toPlot = np.amax(np.abs(reflectivite), axis=0)\n",
    "        ax.plot( freq_WR15, ser.dB( toPlot ), \n",
    "                label = f\"WR15, {absorbant}, {date}, elevation = {elevation_WR15[iWR15]:.2f}\" )\n",
    "    else:\n",
    "        # this is a WR10 measurement\n",
    "        reflectivite = np.load( f\"{dirWR10}/reflectivite/reflectivite_{absorbant}_{date}.npy\" )  \n",
    "        toPlot = reflectivite[iWR10, :]\n",
    "        if getMax:\n",
    "            toPlot = np.amax(np.abs(reflectivite), axis=0)\n",
    "        ax.plot( freq_WR10, ser.dB( toPlot ), \n",
    "                label = f\"WR10, {absorbant}, {date}, elevation = {elevation_WR10[iWR10]:.2f}, serie {serie}\" )\n",
    "    if title == prefix:\n",
    "        if getMax:\n",
    "            title = prefix + f\"max/{absorbant}_{date}\"\n",
    "        else:\n",
    "            title = prefix + f\"{absorbant}_{date}\"\n",
    "    else:\n",
    "        title = title + f\"_{absorbant}_{date}\"\n",
    "\n",
    "ax.legend()\n",
    "ax.grid()\n",
    "ax.set_xlabel(\"[GHz]\")\n",
    "ax.set_ylabel(\"[dB]\")\n",
    "ax.set_title(f\"Réflectivité\")\n",
    "if getMax:\n",
    "    title += \"_max\"\n",
    "fig.savefig(f\"{title}.png\")"
   ]
  },
  {
   "cell_type": "markdown",
   "metadata": {},
   "source": [
    "# Compare all"
   ]
  },
  {
   "cell_type": "code",
   "execution_count": null,
   "metadata": {},
   "outputs": [],
   "source": [
    "for root, dirs, files in os.walk(prefix):\n",
    "    for f in files:\n",
    "        if f.endswith(\".png\"):\n",
    "            os.remove(os.path.join(root, f)) # remove or unlink does the same"
   ]
  },
  {
   "cell_type": "code",
   "execution_count": null,
   "metadata": {},
   "outputs": [],
   "source": [
    "fig, ax = plt.subplots(1,1)\n",
    "\n",
    "getMax = 0\n",
    "\n",
    "for item in wr15_wr10_dates.dictOfMeasurements.items():\n",
    "    ref, tests = item\n",
    "    title = prefix\n",
    "    fig, ax = plt.subplots(1,1)\n",
    "    print(f\"{ref}, {len(tests)} measurements\")\n",
    "    for test in tests:\n",
    "        serie, date, absorbant = test\n",
    "        if int(date) < 190910:\n",
    "            # this is a WR15 measurement\n",
    "            reflectivite = np.load( f\"{dirWR15}/reflectivite_abs{absorbant}.npy\" )\n",
    "            toPlot = reflectivite[iWR15, :]\n",
    "            if getMax:\n",
    "                toPlot = np.amax(np.abs(reflectivite), axis=0)\n",
    "            ax.plot( freq_WR15, ser.dB( toPlot ), \n",
    "                    label = f\"WR15, {absorbant}, {date}, elevation = {elevation_WR15[iWR15]:.2f}\" )\n",
    "        else:\n",
    "            # this is a WR10 measurement\n",
    "            reflectivite = np.load( f\"{dirWR10}/reflectivite/{absorbant}_{date}.npy\" )    \n",
    "            toPlot = reflectivite[iWR10, :]\n",
    "            if getMax:\n",
    "                toPlot = np.amax(np.abs(reflectivite), axis=0)\n",
    "            ax.plot( freq_WR10, ser.dB( toPlot ), \n",
    "                    label = f\"WR10, {absorbant}, {date}, elevation = {elevation_WR10[iWR10]:.2f}, serie {serie}\" )\n",
    "        if getMax:\n",
    "            title = prefix + f\"max/{absorbant}_{date}\"\n",
    "        else:\n",
    "            title = prefix + f\"elev_i/{absorbant}_{date}\"\n",
    "    ax.legend()\n",
    "    ax.grid()\n",
    "    ax.set_xlabel(\"[GHz]\")\n",
    "    ax.set_ylabel(\"[dB]\")\n",
    "    ax.set_title(f\"Réflectivité\")\n",
    "    if getMax:\n",
    "        title += \"_max\"\n",
    "    fig.savefig(f\"{title}.png\")\n",
    "    plt.close()"
   ]
  },
  {
   "cell_type": "markdown",
   "metadata": {},
   "source": [
    "# Plot cmap"
   ]
  },
  {
   "cell_type": "markdown",
   "metadata": {},
   "source": [
    "## One"
   ]
  },
  {
   "cell_type": "code",
   "execution_count": null,
   "metadata": {},
   "outputs": [],
   "source": [
    "fig, ax = plt.subplots(1,1)\n",
    "vmin = -90\n",
    "vmax = -40\n",
    "cmap='jet'\n",
    "# wr15\n",
    "centerFreqWR15 = 62.5\n",
    "bandWidthWR15 = 12.4\n",
    "idxWR15 = np.where( np.abs( freq_WR15 - centerFreqWR15 ) < bandWidthWR15 )\n",
    "idxAltWR15 = np.where( np.abs( freq_WR15 - centerFreqWR15 ) >= bandWidthWR15 )\n",
    "# wr10\n",
    "centerFreqWR10 = 92.5\n",
    "bandWidthWR10 = 17.4\n",
    "idxWR10 = np.where( np.abs( freq_WR10 - centerFreqWR10 ) < bandWidthWR10 )\n",
    "idxAltWR10 = np.where( np.abs( freq_WR10 - centerFreqWR10 ) >= bandWidthWR10 )\n",
    "\n",
    "refAbs = \"AHP12\"\n",
    "meas0 = wr15_wr10_dates.dictOfMeasurements[refAbs][0]\n",
    "meas1 = wr15_wr10_dates.dictOfMeasurements[refAbs][-1]\n",
    "for meas in meas0, meas1:\n",
    "    serie, date, absorbant = meas\n",
    "    if int(date) < 190910:\n",
    "        # this is a WR15 measurement\n",
    "        reflectivite = np.load( f\"{dirWR15}/reflectivite_abs{absorbant}.npy\" )\n",
    "        # drop lower and higher frequencies values\n",
    "        toPlot = np.zeros(reflectivite.shape)\n",
    "        toPlot[:,idxWR15]    = 20 * np.log10( 1e-12 + np.abs( reflectivite[:,idxWR15] ) )\n",
    "        toPlot[:,idxAltWR15] = np.nan\n",
    "        im = ax.pcolormesh( elevation_WR15, np.flip( freq_WR15 ), np.rot90(toPlot), cmap=cmap, vmin=vmin, vmax=vmax )\n",
    "    else:\n",
    "        # this is a WR10 measurement\n",
    "        reflectivite = np.load( f\"{dirWR10}/reflectivite/{absorbant}_{date}.npy\" ) \n",
    "        # drop lower and higher frequencies values\n",
    "        toPlot = np.zeros(reflectivite.shape)\n",
    "        toPlot[:,idxWR10]    = 20 * np.log10( 1e-12 + np.abs( reflectivite[:,idxWR10] ) )\n",
    "        toPlot[:,idxAltWR10] = np.nan\n",
    "        im = ax.pcolormesh( elevation_WR10, np.flip( freq_WR10 ), np.rot90(toPlot), cmap=cmap, vmin=vmin, vmax=vmax )\n",
    "    \n",
    "title = f\"Réflectivité {refAbs}: {meas0[1]} / {meas1[1]}\"\n",
    "ax.set_title(title)\n",
    "ax.set_xlabel( \"Elévation [°]\" )\n",
    "ax.set_ylabel( \"Fréquence [GHz]\" )\n",
    "dia.addColorBar(  im, ax, aspect='auto' )\n",
    "fig.savefig(f\"{prefix}/pcolormesh/reflectivite_{refAbs}.png\")"
   ]
  },
  {
   "cell_type": "markdown",
   "metadata": {},
   "source": [
    "## All"
   ]
  },
  {
   "cell_type": "code",
   "execution_count": null,
   "metadata": {},
   "outputs": [],
   "source": [
    "vmin = -90\n",
    "vmax = -40\n",
    "cmap='jet'\n",
    "# wr15\n",
    "centerFreqWR15 = 62.5\n",
    "bandWidthWR15 = 12.4\n",
    "idxWR15 = np.where( np.abs( freq_WR15 - centerFreqWR15 ) < bandWidthWR15 )\n",
    "idxAltWR15 = np.where( np.abs( freq_WR15 - centerFreqWR15 ) >= bandWidthWR15 )\n",
    "# wr10\n",
    "centerFreqWR10 = 92.5\n",
    "bandWidthWR10 = 17.4\n",
    "idxWR10 = np.where( np.abs( freq_WR10 - centerFreqWR10 ) < bandWidthWR10 )\n",
    "idxAltWR10 = np.where( np.abs( freq_WR10 - centerFreqWR10 ) >= bandWidthWR10 )\n",
    "\n",
    "for refAbs in wr15_wr10_dates.dictOfMeasurements.keys():\n",
    "    fig, ax = plt.subplots(1,1)\n",
    "    meas0 = wr15_wr10_dates.dictOfMeasurements[refAbs][0]\n",
    "    meas1 = wr15_wr10_dates.dictOfMeasurements[refAbs][-1]\n",
    "    for meas in meas0, meas1:\n",
    "        serie, date, absorbant = meas\n",
    "        if int(date) < 190910:\n",
    "            # this is a WR15 measurement\n",
    "            reflectivite = np.load( f\"{dirWR15}/reflectivite_abs{absorbant}.npy\" )\n",
    "            # drop lower and higher frequencies values\n",
    "            toPlot = np.zeros(reflectivite.shape)\n",
    "            toPlot[:,idxWR15]    = 20 * np.log10( 1e-12 + np.abs( reflectivite[:,idxWR15] ) )\n",
    "            toPlot[:,idxAltWR15] = np.nan\n",
    "            im = ax.pcolormesh( elevation_WR15, np.flip( freq_WR15 ), np.rot90(toPlot), cmap=cmap, vmin=vmin, vmax=vmax )\n",
    "        else:\n",
    "            # this is a WR10 measurement\n",
    "            reflectivite = np.load( f\"{dirWR10}/reflectivite_{absorbant}_{date}.npy\" ) \n",
    "            # drop lower and higher frequencies values\n",
    "            toPlot = np.zeros(reflectivite.shape)\n",
    "            toPlot[:,idxWR10]    = 20 * np.log10( 1e-12 + np.abs( reflectivite[:,idxWR10] ) )\n",
    "            toPlot[:,idxAltWR10] = np.nan\n",
    "            im = ax.pcolormesh( elevation_WR10, np.flip( freq_WR10 ), np.rot90(toPlot), cmap=cmap, vmin=vmin, vmax=vmax )\n",
    "    \n",
    "    title = f\"Réflectivité {refAbs}: {meas0[1]} / {meas1[1]}\"\n",
    "    ax.set_title(title)\n",
    "    ax.set_xlabel( \"Elévation [°]\" )\n",
    "    ax.set_ylabel( \"Fréquence [GHz]\" )\n",
    "    dia.addColorBar(  im, ax, aspect='auto' )\n",
    "    fig.savefig(f\"{prefix}/pcolormesh/reflectivite_{refAbs}.png\")\n",
    "    plt.close()"
   ]
  },
  {
   "cell_type": "markdown",
   "metadata": {},
   "source": [
    "# Remove all"
   ]
  },
  {
   "cell_type": "code",
   "execution_count": null,
   "metadata": {},
   "outputs": [],
   "source": [
    "for root, dirs, files in os.walk(f\"{prefix}\"):\n",
    "    for f in files:\n",
    "        if f.endswith(\".png\") or f.endswith(\".npy\"):\n",
    "            os.remove(os.path.join(root, f)) # remove or unlink does the same"
   ]
  },
  {
   "cell_type": "code",
   "execution_count": null,
   "metadata": {},
   "outputs": [],
   "source": []
  }
 ],
 "metadata": {
  "kernelspec": {
   "display_name": "Python 3",
   "language": "python",
   "name": "python3"
  },
  "language_info": {
   "codemirror_mode": {
    "name": "ipython",
    "version": 3
   },
   "file_extension": ".py",
   "mimetype": "text/x-python",
   "name": "python",
   "nbconvert_exporter": "python",
   "pygments_lexer": "ipython3",
   "version": "3.7.6"
  },
  "toc": {
   "base_numbering": 1,
   "nav_menu": {},
   "number_sections": true,
   "sideBar": true,
   "skip_h1_title": false,
   "title_cell": "Table of Contents",
   "title_sidebar": "Contents",
   "toc_cell": false,
   "toc_position": {},
   "toc_section_display": true,
   "toc_window_display": true
  },
  "varInspector": {
   "cols": {
    "lenName": 16,
    "lenType": 16,
    "lenVar": 40
   },
   "kernels_config": {
    "python": {
     "delete_cmd_postfix": "",
     "delete_cmd_prefix": "del ",
     "library": "var_list.py",
     "varRefreshCmd": "print(var_dic_list())"
    },
    "r": {
     "delete_cmd_postfix": ") ",
     "delete_cmd_prefix": "rm(",
     "library": "var_list.r",
     "varRefreshCmd": "cat(var_dic_list()) "
    }
   },
   "types_to_exclude": [
    "module",
    "function",
    "builtin_function_or_method",
    "instance",
    "_Feature"
   ],
   "window_display": false
  }
 },
 "nbformat": 4,
 "nbformat_minor": 4
}
