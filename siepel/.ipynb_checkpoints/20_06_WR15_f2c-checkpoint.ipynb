{
 "cells": [
  {
   "cell_type": "markdown",
   "metadata": {},
   "source": [
    "# Init"
   ]
  },
  {
   "cell_type": "code",
   "execution_count": 1,
   "metadata": {},
   "outputs": [],
   "source": [
    "import sys, time\n",
    "\n",
    "import numpy as np\n",
    "import matplotlib.pyplot as plt\n",
    "\n",
    "sys.path.insert(0, \"../\")\n",
    "import toolsdiadem.tools as dia\n",
    "import toolsdiadem.ser as ser\n",
    "import toolsdiadem"
   ]
  },
  {
   "cell_type": "code",
   "execution_count": 2,
   "metadata": {},
   "outputs": [],
   "source": [
    "%matplotlib qt5\n",
    "%load_ext autoreload\n",
    "%autoreload 2"
   ]
  },
  {
   "cell_type": "code",
   "execution_count": 4,
   "metadata": {},
   "outputs": [],
   "source": [
    "cmap='jet'\n",
    "base_path = \"C:\\\\Users\\\\pleroy\\\\Documents\\\\CAMILL\\\\SER\\\\WR15_v2\""
   ]
  },
  {
   "cell_type": "markdown",
   "metadata": {},
   "source": [
    "# Données de la probe"
   ]
  },
  {
   "cell_type": "code",
   "execution_count": 5,
   "metadata": {},
   "outputs": [],
   "source": [
    "tmp = np.loadtxt( f\"{base_path}/S11FDC_WR15.s1p\", skiprows=5)\n",
    "S11_probe = ( 10 ** (0.05 * tmp[:,1]) ) * np.exp( 1j * np.pi / 180 * ( tmp[:,2] ) )\n",
    "S11_probe = S11_probe.conj()\n",
    "freq_probe = tmp[:,0] / 1e9\n",
    "d = np.linspace( 0, 300 / ( freq_probe[1] - freq_probe[0] ), freq_probe.size ) * 0.5"
   ]
  },
  {
   "cell_type": "code",
   "execution_count": null,
   "metadata": {},
   "outputs": [],
   "source": [
    "probe = "
   ]
  },
  {
   "cell_type": "markdown",
   "metadata": {},
   "source": [
    "# Calcul du fond de chambre\n",
    "ref: ser4siepel_multiband_scan_elev_F2C.sce"
   ]
  },
  {
   "cell_type": "code",
   "execution_count": null,
   "metadata": {},
   "outputs": [],
   "source": [
    "nb_elev = 41\n",
    "nb_freq = 2001\n",
    "nb_ssb  = 3\n",
    "el0 = 0.24\n",
    "elevation = np.linspace(el0-1.0, el0+1.0, nb_elev )"
   ]
  },
  {
   "cell_type": "markdown",
   "metadata": {},
   "source": [
    "## a"
   ]
  },
  {
   "cell_type": "code",
   "execution_count": null,
   "metadata": {},
   "outputs": [],
   "source": [
    "#===================================\n",
    "# /!\\ DATA CONJUGATION IS NEEDED /!\\\n",
    "#===================================\n",
    "\n",
    "dic_dir_a = {\"190911\" : [\"B\"],\n",
    "             \"190912\" : [\"F\", \"G\", \"AHP12\"], # Polar CATR 0\n",
    "             \"190913\" : [\"A\", \"E\", \"Jb\", \"D\", \"C\"],\n",
    "             \"190917\" : [\"N\", \"AHP45\", \"AHP30\", \"AHP9\", \"AHP30b\"],\n",
    "             \"190918\" : [\"F\"],\n",
    "             \"190923\" : [\"M\", \"L\", \"R\"]}\n",
    "\n",
    "S11_f2c_a = ser.computeF2C(base_path, dic_dir_a, nb_elev, nb_freq, nb_ssb).conj()"
   ]
  },
  {
   "cell_type": "code",
   "execution_count": null,
   "metadata": {},
   "outputs": [],
   "source": [
    "fig, ax = plt.subplots(1,1)\n",
    "ax.plot( d, ser.dB( np.fft.ifft( S11_f2c_a ) ), label=\"fond de chambre [a]\" )\n",
    "ax.plot( d, ser.dB( np.fft.ifft( S11_probe ) ), label=\"probe\")\n",
    "ax.plot( d, ser.dB( np.fft.ifft( S11_f2c_a - S11_probe ) ), label=\"fond de chambre [a] - probe\")\n",
    "ax.grid()\n",
    "ax.legend()\n",
    "ax.set_xlabel(\"[m]\")\n",
    "ax.set_ylabel(\"[dB]\")\n",
    "ax.set_title( \"time domain\" )"
   ]
  },
  {
   "cell_type": "markdown",
   "metadata": {},
   "source": [
    "## b"
   ]
  },
  {
   "cell_type": "code",
   "execution_count": null,
   "metadata": {},
   "outputs": [],
   "source": [
    "#========================================\n",
    "# /!\\ NO NEED TO CONJUGATE THE VALUES /!\\\n",
    "#========================================\n",
    "\n",
    "dic_dir_b = {\"190926\" : [\"R\"],\n",
    "             \"190927\" : [\"K\", \"O\", \"I\", \"H\", \"A\", \"E\"],\n",
    "             \"190930\" : [\"J\", \"D\", \"C\", \"AHP12\", \"G\", \"F\", \"B\", \"U\", \"AHP30\"],\n",
    "             \"191001\": [\"AHP9\", \"AHP45\", \"L\", \"M\", \"N\"]\n",
    "            }\n",
    "\n",
    "S11_f2c_b = ser.computeF2C(base_path, dic_dir_b, nb_elev, nb_freq, nb_ssb)"
   ]
  },
  {
   "cell_type": "markdown",
   "metadata": {},
   "source": [
    "# Comparaison fonds de chambre a et b"
   ]
  },
  {
   "cell_type": "code",
   "execution_count": null,
   "metadata": {},
   "outputs": [],
   "source": [
    "fig, ax = plt.subplots(1,1)\n",
    "ax.plot( d, ser.dB( np.fft.ifft( S11_f2c_a ) ), label=\"fond de chambre [a]\" )\n",
    "ax.plot( d, ser.dB( np.fft.ifft( S11_f2c_b ) ), label=\"fond de chambre [b]\" )\n",
    "ax.grid()\n",
    "ax.legend()\n",
    "ax.set_xlabel(\"[m]\")\n",
    "ax.set_ylabel(\"[dB]\")\n",
    "ax.set_title( \"time domain\" )"
   ]
  },
  {
   "cell_type": "markdown",
   "metadata": {},
   "source": [
    "# Sauvegarde des données"
   ]
  },
  {
   "cell_type": "code",
   "execution_count": null,
   "metadata": {},
   "outputs": [],
   "source": [
    "tmp[:,1] = np.real( S11_f2c_a )\n",
    "tmp[:,2] = np.imag( S11_f2c_a )\n",
    "np.savetxt( f\"{base_path}/processing/data/S11_fond_de_chambre_a.txt\", tmp, header=\"#GHz real imag\")\n",
    "\n",
    "tmp[:,1] = np.real( S11_f2c_b )\n",
    "tmp[:,2] = np.imag( S11_f2c_b )\n",
    "np.savetxt( f\"{base_path}/processing/data/S11_fond_de_chambre_b.txt\", tmp, header=\"#GHz real imag\")"
   ]
  },
  {
   "cell_type": "code",
   "execution_count": null,
   "metadata": {},
   "outputs": [],
   "source": []
  }
 ],
 "metadata": {
  "kernelspec": {
   "display_name": "Python 3",
   "language": "python",
   "name": "python3"
  },
  "language_info": {
   "codemirror_mode": {
    "name": "ipython",
    "version": 3
   },
   "file_extension": ".py",
   "mimetype": "text/x-python",
   "name": "python",
   "nbconvert_exporter": "python",
   "pygments_lexer": "ipython3",
   "version": "3.7.6"
  },
  "toc": {
   "base_numbering": 1,
   "nav_menu": {},
   "number_sections": true,
   "sideBar": true,
   "skip_h1_title": false,
   "title_cell": "Table of Contents",
   "title_sidebar": "Contents",
   "toc_cell": false,
   "toc_position": {
    "height": "calc(100% - 180px)",
    "left": "10px",
    "top": "150px",
    "width": "232.4px"
   },
   "toc_section_display": true,
   "toc_window_display": true
  },
  "varInspector": {
   "cols": {
    "lenName": 16,
    "lenType": 16,
    "lenVar": 40
   },
   "kernels_config": {
    "python": {
     "delete_cmd_postfix": "",
     "delete_cmd_prefix": "del ",
     "library": "var_list.py",
     "varRefreshCmd": "print(var_dic_list())"
    },
    "r": {
     "delete_cmd_postfix": ") ",
     "delete_cmd_prefix": "rm(",
     "library": "var_list.r",
     "varRefreshCmd": "cat(var_dic_list()) "
    }
   },
   "types_to_exclude": [
    "module",
    "function",
    "builtin_function_or_method",
    "instance",
    "_Feature"
   ],
   "window_display": false
  }
 },
 "nbformat": 4,
 "nbformat_minor": 4
}
