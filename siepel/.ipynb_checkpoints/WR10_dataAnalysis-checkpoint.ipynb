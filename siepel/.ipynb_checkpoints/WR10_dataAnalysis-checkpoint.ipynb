{
 "cells": [
  {
   "cell_type": "markdown",
   "metadata": {},
   "source": [
    "# Init"
   ]
  },
  {
   "cell_type": "code",
   "execution_count": 1,
   "metadata": {},
   "outputs": [],
   "source": [
    "import numpy as np\n",
    "import matplotlib.pyplot as plt\n",
    "from scipy.signal import kaiser"
   ]
  },
  {
   "cell_type": "code",
   "execution_count": 2,
   "metadata": {},
   "outputs": [],
   "source": [
    "%matplotlib qt5"
   ]
  },
  {
   "cell_type": "code",
   "execution_count": 3,
   "metadata": {},
   "outputs": [],
   "source": [
    "import sys"
   ]
  },
  {
   "cell_type": "code",
   "execution_count": 4,
   "metadata": {},
   "outputs": [],
   "source": [
    "sys.path.insert(0, \"/home/pleroy/DEV/DIADEM\")\n",
    "import toolsdiadem.tools as dia\n",
    "import toolsdiadem.ser as ser"
   ]
  },
  {
   "cell_type": "code",
   "execution_count": 5,
   "metadata": {},
   "outputs": [],
   "source": [
    "%load_ext autoreload\n",
    "%autoreload 2"
   ]
  },
  {
   "cell_type": "code",
   "execution_count": 6,
   "metadata": {},
   "outputs": [],
   "source": [
    "cmap='jet'\n",
    "withPlots = 0\n",
    "center = 6500 # old value 6650\n",
    "width = 500   # old value 500\n",
    "withPlot = 0\n",
    "idxElevation = 18 # elevation correspondant au maximum releve avec la plaque support\n",
    "centerFreq = 92.5\n",
    "bandWidth = 17.4\n",
    "nb_elev = 41\n",
    "nb_freq = 2801\n",
    "nb_ssb  = 4\n",
    "elevation = np.linspace( 0.25, 1.05, nb_elev )\n",
    "applyCorrection = 1"
   ]
  },
  {
   "cell_type": "markdown",
   "metadata": {},
   "source": [
    "**190911** B\n",
    "\n",
    "**190912** F / G / AHP12 / C / D / J / E => Sonde d'illumination dans sa position par défaut (0° au lieu de -43.3°) pendant toutes les mesures.\n",
    "\n",
    "**190913** A / E / J / Jb / D / C => Polar CATR -43.3°\n",
    "\n",
    "**190916** AHP12 / G / M / L / R / U / U2 / K / I / H / O\n",
    "\n",
    "Axe élévation du positionneur non initialisé, toutes les mesures réalisées avec la même élévation.\n",
    "* possibilité d'utiliser les mesures du 190912 pour les absorbants AHP12 G\n",
    "* refaire les mesures pour les absorbants M L R U K I H O\n",
    "\n",
    "**190917** N / AHP45 / AHP30 / AHP9 / AHP30b\n",
    "\n",
    "**190918** F\n",
    "\n",
    "**190923** M / L / R / U_x / I_x / H_x => Mauvaise cal utilisée pour U_x, I_x et H_x\n",
    "\n",
    "**190925** K_x / O_x => Mauvaise cal utilisée pour K_x et O_x\n",
    "\n",
    "**Pour les mesures qui suivent: FI à -46.5MHz et step de 8.75MHz permettant d'éviter le point à 96GHz pendant la cal**\n",
    "\n",
    "**190926** R\n",
    "\n",
    "**190927** K / O / I / H / Support / A / E\n",
    "\n",
    "**190930** J / D / C / AHP12 / G / F / B / U / AHP30\n",
    "\n",
    "**191001** "
   ]
  },
  {
   "cell_type": "code",
   "execution_count": 7,
   "metadata": {},
   "outputs": [],
   "source": [
    "base_path = \"/home/pleroy/DATA/DIADEM/SIEPEL/SER/WR10\"\n",
    "\n",
    "dic_dir_a = {\"190911\" : [\"B\"],\n",
    "             \"190912\" : [\"F\", \"G\", \"AHP12\", \"C\", \"D\", \"J\", \"E\"], # Polar CATR 0\n",
    "             \"190913\" : [\"A\", \"E\", \"J\", \"Jb\", \"D\", \"C\"],         # Polar CATR -43.3\n",
    "             \"190916\" : [\"AHP12\", \"G\", \"M\", \"L\", \"R\", \"U\", \"U2\", \"K\", \"I\", \"H\", \"O\"], # elevation 10000000\n",
    "             \"190917\" : [\"N\", \"AHP45\", \"AHP30\", \"AHP9\", \"AHP30b\"],\n",
    "             \"190918\" : [\"F\"], \n",
    "             \"190923\" : [\"M\", \"L\", \"R\", \"U_x\", \"I_x\", \"H_x\"],\n",
    "             \"190925\" : [\"K_x\", \"O_x\"]}\n",
    "\n",
    "dic_dir_b = {\"190926\" : [\"R\"],\n",
    "             \"190927\" : [\"K\", \"O\", \"I\", \"H\", \"A\", \"E\"],\n",
    "             \"190930\" : [\"J\", \"D\", \"C\", \"AHP12\", \"G\", \"F\", \"B\", \"U\", \"AHP30\"]}"
   ]
  },
  {
   "cell_type": "markdown",
   "metadata": {},
   "source": [
    "## Probe"
   ]
  },
  {
   "cell_type": "code",
   "execution_count": 8,
   "metadata": {},
   "outputs": [],
   "source": [
    "tmp = np.loadtxt( f\"{base_path}/190910/S11W_PROBE.s1p\", skiprows=5)\n",
    "S11_probe = ( 10 ** (0.05 * tmp[:,1]) ) * np.exp( 1j * np.pi / 180 * ( tmp[:,2] ) )\n",
    "S11_probe = S11_probe.conj()\n",
    "d = np.linspace( 0, 300 / ( tmp[1,0] - tmp[0,0] ), nb_freq ) * 0.5 * 1e9"
   ]
  },
  {
   "cell_type": "markdown",
   "metadata": {},
   "source": [
    "## Fond de chambre"
   ]
  },
  {
   "cell_type": "code",
   "execution_count": 94,
   "metadata": {},
   "outputs": [],
   "source": [
    "# THE DATA STORED AFTER PROCESSING ARE ALREADY CONJUGATED\n",
    "tmp = np.loadtxt(f\"{base_path}/processing/S11_fond_de_chambre_a.txt\", skiprows=1)\n",
    "S11_f2c_a = tmp[:,1] + 1j * tmp[:,2]\n",
    "tmp = np.loadtxt(f\"{base_path}/processing/S11_fond_de_chambre_b.txt\", skiprows=1)\n",
    "S11_f2c_b = tmp[:,1] + 1j * tmp[:,2]"
   ]
  },
  {
   "cell_type": "code",
   "execution_count": 95,
   "metadata": {},
   "outputs": [],
   "source": [
    "if 1:\n",
    "    fig, ax = plt.subplots(1,1)\n",
    "    plt.plot( ser.dB( np.fft.ifft( S11_f2c_a ) ), label=\"fond de chambre a\" )\n",
    "    plt.plot( ser.dB( np.fft.ifft( S11_f2c_b ) ), label=\"fond de chambre b\" )\n",
    "    plt.grid()\n",
    "    plt.legend()"
   ]
  },
  {
   "cell_type": "markdown",
   "metadata": {},
   "source": [
    "## Plaque de référence"
   ]
  },
  {
   "cell_type": "code",
   "execution_count": 96,
   "metadata": {},
   "outputs": [],
   "source": [
    "# THE DATA STORED AFTER PROCESSING ARE ALERADY CONJUGATED\n",
    "tmp = np.loadtxt(f\"{base_path}/processing/S11_plaque_ref_from_scan.txt\", skiprows=1)\n",
    "S11_plaque_raw = tmp[:,1] + 1j * tmp[:,2]"
   ]
  },
  {
   "cell_type": "code",
   "execution_count": 97,
   "metadata": {},
   "outputs": [],
   "source": [
    "if 0:\n",
    "    fig, ax = plt.subplots(1,1)\n",
    "    plt.plot( ser.dB( np.fft.ifft( S11_plaque_raw ) ), label=\"Plaque\" )\n",
    "    plt.plot( ser.dB( np.fft.ifft( S11_f2c_a ) ), label=\"fond de chambre a\" )\n",
    "    plt.plot( ser.dB( np.fft.ifft( S11_f2c_b ) ), label=\"fond de chambre b\" )\n",
    "    plt.grid()\n",
    "    plt.legend()"
   ]
  },
  {
   "cell_type": "code",
   "execution_count": 98,
   "metadata": {},
   "outputs": [],
   "source": [
    "if 1:\n",
    "    fig, ax = plt.subplots(1,1)\n",
    "    ax.plot( d, ser.dB( np.fft.ifft( S11_plaque_raw ) ), label=\"plaque\" )\n",
    "    ax.plot( d, ser.dB( np.fft.ifft( S11_f2c_a ) ), label=\"fond de chambre a\" )\n",
    "    ax.plot( d, ser.dB( np.fft.ifft( S11_probe ) ), label=\"probe\" )\n",
    "    ax.plot( d, ser.dB( np.fft.ifft( S11_plaque_raw - S11_probe ) ), label=\"plaque - probe\" )\n",
    "    ax.plot( d, ser.dB( np.fft.ifft( S11_plaque_raw - S11_f2c_a ) ), label=\"plaque - fond de chambre a\" )\n",
    "    ax.plot( d, ser.dB( np.fft.ifft( S11_plaque_raw - S11_f2c_b ) ), label=\"plaque - fond de chambre b\" )\n",
    "    ax.grid()\n",
    "    ax.legend()\n",
    "    ax.set_xlabel(\"[m]\")\n",
    "    ax.set_ylabel(\"[dB]\")\n",
    "    ax.set_title( \"time domain\" )"
   ]
  },
  {
   "cell_type": "markdown",
   "metadata": {},
   "source": [
    "# Réflectivité\n",
    "ref: ser4siepel_multiband_scan_elev_Reflectivite.sce"
   ]
  },
  {
   "cell_type": "code",
   "execution_count": 108,
   "metadata": {},
   "outputs": [],
   "source": [
    "gate = ser.getWindow( d, center, width, id=\"llc\" )"
   ]
  },
  {
   "cell_type": "markdown",
   "metadata": {},
   "source": [
    "## Lecture des données"
   ]
  },
  {
   "cell_type": "code",
   "execution_count": null,
   "metadata": {},
   "outputs": [],
   "source": [
    "idx96GHz = 1680"
   ]
  },
  {
   "cell_type": "code",
   "execution_count": 381,
   "metadata": {},
   "outputs": [],
   "source": [
    "listA = [(\"-\", \"190201\", \"A\"), (\"a\", \"190913\", \"A\"), (\"b\", \"190927\", \"A\")]\n",
    "listB = [(\"-\", \"190131\", \"B\"), (\"a\", \"190911\", \"B\"), (\"b\", \"190930\", \"B\")]\n",
    "listC = [(\"-\", \"190130\", \"C\"), (\"a\", \"190912\", \"C\"), (\"a\", \"190913\", \"C\"), (\"b\", \"190930\", \"C\")]\n",
    "listD = [(\"-\", \"190131\", \"D\"), (\"a\", \"190912\", \"D\"), (\"a\", \"190913\", \"D\"), (\"b\", \"190930\", \"D\")]\n",
    "listE = [(\"-\", \"190201\", \"E\"), (\"a\", \"190912\", \"E\"), (\"a\", \"190913\", \"E\"), (\"b\", \"190927\", \"E\")]\n",
    "listF = [(\"a\", \"190912\", \"F\"), (\"a\", \"190918\", \"F\"), (\"b\", \"190930\", \"F\")]\n",
    "listG = [(\"-\", \"190201\", \"G\"), (\"a\", \"190912\", \"G\"), (\"b\", \"190930\", \"G\")]\n",
    "listH = [(\"-\", \"190204\", \"H\"), (\"b\", \"190927\", \"H\")]\n",
    "listI = [(\"-\", \"190204\", \"I\"), (\"b\", \"190927\", \"I\")]\n",
    "listJ = [(\"-\", \"190131\", \"J\"), (\"a\", \"190912\", \"J\"), (\"a\", \"190913\", \"J\"), (\"a\", \"190913\", \"Jb\"), (\"b\", \"190930\", \"J\")]\n",
    "listK = [(\"-\", \"190204\", \"K\"), (\"b\", \"190927\", \"K\")]\n",
    "listL = [(\"-\", \"190204\", \"L\"), (\"a\", \"190923\", \"L\"), (\"b\", \"191001\", \"L\")]\n",
    "listM = [(\"-\", \"190201\", \"M\"), (\"a\", \"190923\", \"M\"), (\"b\", \"191001\", \"M\")]\n",
    "listN = [(\"-\", \"190204\", \"N\"), (\"a\", \"190917\", \"N\"), (\"b\", \"191001\", \"N\")]\n",
    "listO = [(\"-\", \"190204\", \"O\"), (\"b\", \"190927\", \"O\")]\n",
    "listU = [(\"-\", \"190204\", \"U\"), (\"b\", \"190930\", \"U\")]\n",
    "listAHP9 = [(\"-\", \"190204\", \"AHP9\"), (\"a\", \"190917\", \"AHP9\"), (\"b\", \"191001\", \"AHP9\")]\n",
    "listAHP12 = [(\"-\", \"190131\", \"AHP12\"), (\"a\", \"190912\", \"AHP12\"), (\"b\", \"190930\", \"AHP12\")]\n",
    "listAHP20 = [(\"-\", \"190201\", \"AHP20\"), (\"a\", \"190923\", \"R\"), (\"b\", \"190926\", \"R\")]\n",
    "listAHP30 = [(\"-\", \"190204\", \"AHP30\"), (\"a\", \"190917\", \"AHP30\"), (\"a\", \"190917\", \"AHP30b\"), (\"b\", \"190930\", \"AHP30\")]\n",
    "listAHP45 = [(\"-\", \"190204\", \"AHP45\"), (\"a\", \"190917\", \"AHP45\")]"
   ]
  },
  {
   "cell_type": "code",
   "execution_count": 382,
   "metadata": {},
   "outputs": [],
   "source": [
    "serie, date, absorbant = listL[2]\n",
    "data_dir = f\"{base_path}/{date}/{absorbant}\" \n",
    "freq_abs, S11 = ser.getData_ssb( nb_elev, nb_freq, nb_ssb, data_dir )\n",
    "if serie == \"a\":\n",
    "    S11_abs = S11.conj()\n",
    "    S11_fondDeChambre = S11_f2c_a\n",
    "    S11_plaque = S11_plaque_raw\n",
    "    if 0:\n",
    "        ser.correctBin( S11_abs, idx96GHz )\n",
    "        S11_fondDeChambre[idx96GHz] = (S11_f2c_a[idx96GHz-1] + S11_f2c_a[idx96GHz+1]) / 2\n",
    "        S11_plaque[idx96GHz] = (S11_plaque_raw[idx96GHz-1] + S11_plaque_raw[idx96GHz+1]) / 2\n",
    "elif serie == \"b\":\n",
    "    S11_abs = S11\n",
    "    S11_fondDeChambre = S11_f2c_b\n",
    "    S11_plaque = S11_plaque_raw\n",
    "else:\n",
    "    print(\"specify a valid serie\")"
   ]
  },
  {
   "cell_type": "markdown",
   "metadata": {},
   "source": [
    "## Calcul de la réflectivité"
   ]
  },
  {
   "cell_type": "code",
   "execution_count": 383,
   "metadata": {},
   "outputs": [],
   "source": [
    "reflectivite = ser.getReflectivite( S11_abs, S11_plaque, S11_fondDeChambre, gate )"
   ]
  },
  {
   "cell_type": "code",
   "execution_count": 384,
   "metadata": {},
   "outputs": [
    {
     "name": "stdout",
     "output_type": "stream",
     "text": [
      "valMax = -53.20 valMin = -90.00\n"
     ]
    }
   ],
   "source": [
    "toPlot = np.zeros( ( nb_elev, nb_freq ) )\n",
    "gatebis  = 0.0 * gate\n",
    "gatebis[ np.where( np.abs( freq_abs - centerFreq ) < bandWidth ) ] = 1.0\n",
    "toPlot = 20 * np.log10( 1e-12 + np.abs( reflectivite * gatebis ) )\n",
    "\n",
    "valMin = -90\n",
    "toPlot = 0.5 * ( np.abs( toPlot - valMin ) + toPlot - valMin ) + valMin\n",
    "valMax = np.amax( toPlot )\n",
    "valMin = np.amin( toPlot )\n",
    "print( f\"valMax = {valMax:.2f} valMin = {valMin:.2f}\")\n",
    "     \n",
    "vmin = -90\n",
    "vmax = -40\n",
    "\n",
    "fig, ax = plt.subplots( 1, 1 )\n",
    "im = plt.pcolormesh( elevation, np.flip( freq_abs ), np.rot90(toPlot), cmap=cmap )\n",
    "title = f\"Réflectivité absorbant {absorbant}, {date}, série {serie}\"\n",
    "ax.set_title(title)\n",
    "ax.set_xlabel( \"Elévation [°]\" )\n",
    "ax.set_ylabel( \"Fréquence [GHz]\" )\n",
    "dia.addColorBar(  im, ax, aspect='auto' )"
   ]
  },
  {
   "cell_type": "code",
   "execution_count": 385,
   "metadata": {},
   "outputs": [],
   "source": [
    "descriptor = f\"{absorbant}_{date}\"\n",
    "np.save( f\"{base_path}/processing/reflectivite/data/reflectivite_{descriptor}\", reflectivite )"
   ]
  },
  {
   "cell_type": "code",
   "execution_count": 187,
   "metadata": {},
   "outputs": [
    {
     "data": {
      "text/plain": [
       "Text(0, 0.5, 'réflectivité [dB]')"
      ]
     },
     "execution_count": 187,
     "metadata": {},
     "output_type": "execute_result"
    }
   ],
   "source": [
    "fig, ax = plt.subplots(1,1)\n",
    "ax.plot( freq_abs, toPlot[ idxElevation, : ] )\n",
    "ax.grid()\n",
    "title = f\"Réflectivité [{absorbant}]\"\n",
    "ax.set_title(title)\n",
    "ax.set_xlabel(\"f [GHz]\")\n",
    "ax.set_ylabel(\"réflectivité [dB]\")"
   ]
  },
  {
   "cell_type": "code",
   "execution_count": 188,
   "metadata": {},
   "outputs": [],
   "source": [
    "if 0:\n",
    "    fig, ax = plt.subplots(1,1)\n",
    "    ax.plot(gatebis)"
   ]
  },
  {
   "cell_type": "markdown",
   "metadata": {},
   "source": [
    "## Gating"
   ]
  },
  {
   "cell_type": "code",
   "execution_count": 39,
   "metadata": {},
   "outputs": [],
   "source": [
    "data_S11_td = np.fft.ifft( S11_abs, axis=1 )\n",
    "data_S11_tg = data_S11_td * gate"
   ]
  },
  {
   "cell_type": "code",
   "execution_count": 40,
   "metadata": {},
   "outputs": [],
   "source": [
    "if withPlot:\n",
    "    fig, ax = plt.subplots(1,1)\n",
    "    ax.plot(d, gate, label='gate')\n",
    "    ax.legend()\n",
    "    ax.grid()\n",
    "    fig.savefig(\"gate.png\")"
   ]
  },
  {
   "cell_type": "code",
   "execution_count": 41,
   "metadata": {},
   "outputs": [],
   "source": [
    "if 1:\n",
    "    fig, ax = plt.subplots(1,1)\n",
    "    ax.plot( freq_abs, ser.dB( S11_abs[idxElevation,:] ), '.', label=\"S11\" )\n",
    "    ax.plot( freq_abs[idx96GHz], ser.dB( S11[idxElevation,idx96GHz] ), 'o', label=\"S11 orig\", markeredgecolor='k' )\n",
    "    ax.plot( freq_abs, ser.dB( np.fft.fft( data_S11_tg[idxElevation,:] ) ), label=\"S11 tg LLC\" )\n",
    "    \n",
    "    ax.legend()\n",
    "    ax.grid()\n",
    "    ax.set_xlabel( \"[GHz]\" )\n",
    "    ax.set_ylabel( \"[dB]\" )\n",
    "    ax.set_title( f\"{day} / absorbant {absorbant} / frequency domain\" )"
   ]
  },
  {
   "cell_type": "code",
   "execution_count": 42,
   "metadata": {},
   "outputs": [],
   "source": [
    "if 1:\n",
    "    fig, ax = plt.subplots(1,1)\n",
    "    ax.plot( d, ser.dB( data_S11_td[idxElevation,:] ), label=\"S11 td\" )\n",
    "    ax.plot( d, ser.dB( data_S11_tg[idxElevation,:] ), label=\"S11 tg\" )\n",
    "    ax.legend()\n",
    "    ax.grid()\n",
    "    ax.set_xlabel( \"[m]\" )\n",
    "    ax.set_ylabel( \"[dB]\" )\n",
    "    ax.set_title( f\"{day} / absorbant {absorbant} / time domain\" )"
   ]
  },
  {
   "cell_type": "code",
   "execution_count": 43,
   "metadata": {},
   "outputs": [],
   "source": [
    "if 1:\n",
    "    S11 = S11_abs[idxElevation,:]\n",
    "    s11 = np.fft.ifft( S11_abs[idxElevation,:] )\n",
    "    fig, ax = plt.subplots(1,1)\n",
    "    ax.plot( d, ser.dB( np.fft.ifft( S11 ) ), label=\"s11\" )\n",
    "    ax.plot( d, ser.dB( np.fft.ifft( S11 - S11_probe ) ), label=\"s11 - probe\" )\n",
    "    ax.plot( d, ser.dB( np.fft.ifft( S11 - S11_fondDeChambre ) ), label=\"s11 - fond de chambre\" )\n",
    "    ax.grid()\n",
    "    ax.legend()\n",
    "    ax.set_xlabel(\"[m]\")\n",
    "    ax.set_ylabel(\"[dB]\")\n",
    "    ax.set_title( f\"{day} / absorbant {absorbant} / time domain\" )"
   ]
  },
  {
   "cell_type": "markdown",
   "metadata": {},
   "source": [
    "## Coefficient de réflexion"
   ]
  },
  {
   "cell_type": "code",
   "execution_count": 285,
   "metadata": {},
   "outputs": [],
   "source": [
    "S11_minus_f2c    = S11_abs - S11_fondDeChambre\n",
    "s11_minus_f2c    = np.fft.ifft( S11_minus_f2c, axis=1 )\n",
    "S11_minus_f2c_tg = np.fft.fft( s11_minus_f2c * gate, axis=1 )"
   ]
  },
  {
   "cell_type": "code",
   "execution_count": 287,
   "metadata": {},
   "outputs": [
    {
     "name": "stdout",
     "output_type": "stream",
     "text": [
      "valMax = -67.25 valMin = -140.00\n"
     ]
    },
    {
     "data": {
      "text/plain": [
       "Text(0.5, 0, 'Fréquence [GHz]')"
      ]
     },
     "execution_count": 287,
     "metadata": {},
     "output_type": "execute_result"
    }
   ],
   "source": [
    "cmap='jet'\n",
    "\n",
    "toPlot = ser.dB( S11_minus_f2c_tg )\n",
    "\n",
    "valMin = -140\n",
    "toPlot = 0.5 * ( np.abs( toPlot - valMin ) + toPlot - valMin ) + valMin\n",
    "valMax = np.amax( toPlot )\n",
    "valMin = np.amin( toPlot )\n",
    "print( f\"valMax = {valMax:.2f} valMin = {valMin:.2f}\")\n",
    "\n",
    "fig, ax = plt.subplots( 1, 1 )\n",
    "im = plt.pcolormesh( elevation, freq_abs, toPlot.T, cmap='jet' )\n",
    "dia.addColorBar(  im, ax, aspect='auto' )\n",
    "title = f\"Coefficient de réflexion de l'absorbant {absorbant}\"\n",
    "ax.set_title(title)\n",
    "ax.set_ylabel( \"Elévation [°]\" )\n",
    "ax.set_xlabel( \"Fréquence [GHz]\" )"
   ]
  },
  {
   "cell_type": "markdown",
   "metadata": {},
   "source": [
    "# Tous les absorbants série [a]"
   ]
  },
  {
   "cell_type": "code",
   "execution_count": 68,
   "metadata": {},
   "outputs": [],
   "source": [
    "idx = np.where( np.abs( freq_abs - centerFreq ) < bandWidth )\n",
    "idxAlt = np.where( np.abs( freq_abs - centerFreq ) >= bandWidth )\n",
    "valMin = -90\n",
    "vmin = -90\n",
    "vmax = -40\n",
    "dic_stats = {}"
   ]
  },
  {
   "cell_type": "code",
   "execution_count": 69,
   "metadata": {},
   "outputs": [],
   "source": [
    "np.save( f\"{base_path}/processing/reflectivite/data/freq_WR10\", freq_abs )\n",
    "np.save( f\"{base_path}/processing/reflectivite/data/elevation_WR10\", elevation )"
   ]
  },
  {
   "cell_type": "code",
   "execution_count": 122,
   "metadata": {},
   "outputs": [
    {
     "name": "stdout",
     "output_type": "stream",
     "text": [
      "======= B =======\n",
      "valMax = -52.80 valMin = -111.76\n",
      "moy = 0.000458, sigma = 0.000263\n",
      "moy = -66.79 [dB], sigma = -71.60 [dB]\n",
      "======= F =======\n",
      "valMax = -55.56 valMin = -117.38\n",
      "moy = 0.000447, sigma = 0.000216\n",
      "moy = -67.00 [dB], sigma = -73.32 [dB]\n",
      "======= G =======\n",
      "valMax = -53.44 valMin = -118.49\n",
      "moy = 0.000459, sigma = 0.000264\n",
      "moy = -66.77 [dB], sigma = -71.57 [dB]\n",
      "======= AHP12 =======\n",
      "valMax = -48.72 valMin = -90.00\n",
      "moy = 0.002022, sigma = 0.000423\n",
      "moy = -53.88 [dB], sigma = -67.47 [dB]\n",
      "======= C =======\n",
      "valMax = -53.92 valMin = -117.26\n",
      "moy = 0.000681, sigma = 0.000420\n",
      "moy = -63.34 [dB], sigma = -67.54 [dB]\n",
      "======= D =======\n",
      "valMax = -56.05 valMin = -120.12\n",
      "moy = 0.000312, sigma = 0.000173\n",
      "moy = -70.12 [dB], sigma = -75.24 [dB]\n",
      "======= J =======\n",
      "valMax = -55.08 valMin = -119.39\n",
      "moy = 0.000292, sigma = 0.000156\n",
      "moy = -70.68 [dB], sigma = -76.11 [dB]\n",
      "======= E =======\n",
      "valMax = -55.60 valMin = -115.58\n",
      "moy = 0.000391, sigma = 0.000248\n",
      "moy = -68.15 [dB], sigma = -72.11 [dB]\n",
      "======= A =======\n",
      "valMax = -41.04 valMin = -107.96\n",
      "moy = 0.002103, sigma = 0.001727\n",
      "moy = -53.54 [dB], sigma = -55.26 [dB]\n",
      "======= E =======\n",
      "valMax = -53.98 valMin = -112.85\n",
      "moy = 0.000557, sigma = 0.000349\n",
      "moy = -65.09 [dB], sigma = -69.15 [dB]\n",
      "======= J =======\n",
      "valMax = -53.97 valMin = -119.19\n",
      "moy = 0.000340, sigma = 0.000189\n",
      "moy = -69.38 [dB], sigma = -74.45 [dB]\n",
      "======= Jb =======\n",
      "valMax = -54.26 valMin = -123.97\n",
      "moy = 0.000347, sigma = 0.000194\n",
      "moy = -69.19 [dB], sigma = -74.26 [dB]\n",
      "======= D =======\n",
      "valMax = -55.54 valMin = -120.31\n",
      "moy = 0.000349, sigma = 0.000212\n",
      "moy = -69.15 [dB], sigma = -73.48 [dB]\n",
      "======= C =======\n",
      "valMax = -52.96 valMin = -110.93\n",
      "moy = 0.000794, sigma = 0.000404\n",
      "moy = -62.01 [dB], sigma = -67.88 [dB]\n",
      "======= AHP12 =======\n",
      "valMax = -46.21 valMin = -90.00\n",
      "moy = 0.002619, sigma = 0.000305\n",
      "moy = -51.64 [dB], sigma = -70.31 [dB]\n",
      "======= G =======\n",
      "valMax = -50.81 valMin = -118.54\n",
      "moy = 0.000321, sigma = 0.000186\n",
      "moy = -69.87 [dB], sigma = -74.60 [dB]\n",
      "======= M =======\n",
      "valMax = -52.14 valMin = -120.61\n",
      "moy = 0.000238, sigma = 0.000159\n",
      "moy = -72.45 [dB], sigma = -75.99 [dB]\n",
      "======= L =======\n",
      "valMax = -52.06 valMin = -114.34\n",
      "moy = 0.000379, sigma = 0.000181\n",
      "moy = -68.43 [dB], sigma = -74.83 [dB]\n",
      "======= R =======\n",
      "valMax = -50.83 valMin = -90.00\n",
      "moy = 0.001060, sigma = 0.000162\n",
      "moy = -59.50 [dB], sigma = -75.82 [dB]\n",
      "======= U =======\n",
      "valMax = -50.05 valMin = -90.00\n",
      "moy = 0.000614, sigma = 0.000178\n",
      "moy = -64.23 [dB], sigma = -75.00 [dB]\n",
      "======= U2 =======\n",
      "valMax = -52.75 valMin = -90.00\n",
      "moy = 0.000616, sigma = 0.000168\n",
      "moy = -64.20 [dB], sigma = -75.47 [dB]\n",
      "======= K =======\n",
      "valMax = -56.04 valMin = -138.21\n",
      "moy = 0.000194, sigma = 0.000120\n",
      "moy = -74.25 [dB], sigma = -78.45 [dB]\n",
      "======= I =======\n",
      "valMax = -57.12 valMin = -111.43\n",
      "moy = 0.000532, sigma = 0.000205\n",
      "moy = -65.49 [dB], sigma = -73.78 [dB]\n",
      "======= H =======\n",
      "valMax = -57.47 valMin = -120.97\n",
      "moy = 0.000307, sigma = 0.000209\n",
      "moy = -70.26 [dB], sigma = -73.58 [dB]\n",
      "======= O =======\n",
      "valMax = -57.68 valMin = -120.39\n",
      "moy = 0.000308, sigma = 0.000177\n",
      "moy = -70.23 [dB], sigma = -75.06 [dB]\n",
      "======= N =======\n",
      "valMax = -55.98 valMin = -126.66\n",
      "moy = 0.000256, sigma = 0.000145\n",
      "moy = -71.82 [dB], sigma = -76.80 [dB]\n",
      "======= AHP45 =======\n",
      "valMax = -54.50 valMin = -116.25\n",
      "moy = 0.000320, sigma = 0.000167\n",
      "moy = -69.90 [dB], sigma = -75.56 [dB]\n",
      "======= AHP30 =======\n",
      "valMax = -54.79 valMin = -127.48\n",
      "moy = 0.000284, sigma = 0.000209\n",
      "moy = -70.93 [dB], sigma = -73.61 [dB]\n",
      "======= AHP9 =======\n",
      "valMax = -47.67 valMin = -111.89\n",
      "moy = 0.001408, sigma = 0.000688\n",
      "moy = -57.03 [dB], sigma = -63.25 [dB]\n",
      "======= AHP30b =======\n",
      "valMax = -57.09 valMin = -131.42\n",
      "moy = 0.000196, sigma = 0.000126\n",
      "moy = -74.15 [dB], sigma = -77.99 [dB]\n",
      "======= F =======\n",
      "valMax = -48.59 valMin = -115.14\n",
      "moy = 0.000432, sigma = 0.000229\n",
      "moy = -67.29 [dB], sigma = -72.79 [dB]\n",
      "======= M =======\n",
      "valMax = -50.64 valMin = -116.39\n",
      "moy = 0.000298, sigma = 0.000200\n",
      "moy = -70.52 [dB], sigma = -73.99 [dB]\n",
      "======= L =======\n",
      "valMax = -50.36 valMin = -126.00\n",
      "moy = 0.000374, sigma = 0.000216\n",
      "moy = -68.54 [dB], sigma = -73.32 [dB]\n",
      "======= R =======\n",
      "valMax = -48.59 valMin = -90.00\n",
      "moy = 0.001130, sigma = 0.000187\n",
      "moy = -58.94 [dB], sigma = -74.57 [dB]\n",
      "======= U_x =======\n",
      "valMax = -34.70 valMin = -131.84\n",
      "moy = 0.000601, sigma = 0.001466\n",
      "moy = -64.42 [dB], sigma = -56.67 [dB]\n",
      "======= I_x =======\n",
      "valMax = -34.72 valMin = -136.77\n",
      "moy = 0.000602, sigma = 0.001466\n",
      "moy = -64.41 [dB], sigma = -56.68 [dB]\n",
      "======= H_x =======\n",
      "valMax = -34.71 valMin = -127.21\n",
      "moy = 0.000602, sigma = 0.001467\n",
      "moy = -64.41 [dB], sigma = -56.67 [dB]\n",
      "======= K_x =======\n",
      "valMax = -34.73 valMin = -129.79\n",
      "moy = 0.000599, sigma = 0.001458\n",
      "moy = -64.45 [dB], sigma = -56.73 [dB]\n",
      "======= O_x =======\n",
      "valMax = -34.75 valMin = -120.67\n",
      "moy = 0.000596, sigma = 0.001452\n",
      "moy = -64.49 [dB], sigma = -56.76 [dB]\n"
     ]
    }
   ],
   "source": [
    "#plt.ioff()\n",
    "#plt.ion()\n",
    "\n",
    "toPlot = np.zeros( ( nb_elev, nb_freq ) )\n",
    "\n",
    "S11_fondDeChambre = S11_f2c_a\n",
    "S11_plaque = S11_plaque_raw\n",
    "\n",
    "for date, absList in dic_dir_a.items():\n",
    "    \n",
    "    for absorbant in absList:\n",
    "\n",
    "        descriptor = f\"{absorbant}_{date}\"\n",
    "        seq = 0\n",
    "        data_dir  = f\"{base_path}/{date}/{absorbant}\"\n",
    "        print(f\"======= {absorbant} =======\")\n",
    "        freq_abs, S11_abs = ser.getData_ssb( nb_elev, nb_freq, nb_ssb, data_dir)\n",
    "        S11_abs = S11_abs.conj()\n",
    "        \n",
    "        #=============\n",
    "        # REFLECTIVITE\n",
    "        reflectivite = ser.getReflectivite( S11_abs, S11_plaque, S11_fondDeChambre, gate )\n",
    "        np.save( f\"{base_path}/processing/reflectivite/data/reflectivite_{descriptor}\", reflectivite )\n",
    "    \n",
    "        # drop lower and higher frequencies values\n",
    "        toPlot[:,idx]    = 20 * np.log10( 1e-12 + np.abs( reflectivite[:,idx] ) )\n",
    "        toPlot[:,idxAlt] = -90\n",
    "\n",
    "        fig, ax = plt.subplots( 1, 1 )\n",
    "        im = ax.pcolormesh( elevation, np.flip( freq_abs ), np.rot90(toPlot), cmap=cmap, vmin=vmin, vmax=vmax )\n",
    "        title = f\"Réflectivité [{descriptor}]\"\n",
    "        ax.set_title(title)\n",
    "        ax.set_xlabel( \"Elévation [°]\" )\n",
    "        ax.set_ylabel( \"Fréquence [GHz]\" )\n",
    "        dia.addColorBar(  im, ax, aspect='auto' )\n",
    "        fig.savefig(f\"{base_path}/processing/reflectivite/reflectivite_{descriptor}.png\")\n",
    "\n",
    "        #======\n",
    "        # STATS\n",
    "        valMax = np.amax( toPlot )\n",
    "        valMin = np.amin( toPlot )\n",
    "        print( f\"valMax = {valMax:.2f} valMin = {valMin:.2f}\")\n",
    "\n",
    "        absReflectivite   = np.abs( reflectivite )\n",
    "        reflectiviteMoy   = np.average( absReflectivite[:,idx] )\n",
    "        reflectiviteSigma = np.std( absReflectivite[:,idx] )\n",
    "\n",
    "        reflectiviteMoy_dB   = 20 * np.log10( np.abs( reflectiviteMoy ) )\n",
    "        reflectiviteSigma_dB = 20 * np.log10( np.abs( reflectiviteSigma ) )\n",
    "        print( f\"moy = {reflectiviteMoy:.6f}, sigma = {reflectiviteSigma:.6f}\" )\n",
    "        print( f\"moy = {reflectiviteMoy_dB:.2f} [dB], sigma = {reflectiviteSigma_dB:.2f} [dB]\" )\n",
    "        \n",
    "        #==========\n",
    "        # HISTOGRAM\n",
    "        fig, ax = plt.subplots(1,1)\n",
    "        ax.hist((absReflectivite[:,idx]).flatten(), 50, label=\"histogramme (valeurs linéaires)\")\n",
    "        ax.grid()\n",
    "        title = f\"Réflectivité, histogramme [{descriptor}]\"\n",
    "        ax.set_title(title)\n",
    "        ax.legend()\n",
    "        fig.savefig(f\"{base_path}/processing/histogramm/histogramm_{descriptor}.png\")\n",
    "        \n",
    "        #===========\n",
    "        # PLOT WRT F\n",
    "        fig, ax = plt.subplots(1,1)\n",
    "        ax.plot( freq_abs, toPlot[ idxElevation, : ] )\n",
    "        ax.grid()\n",
    "        title = f\"Réflectivité [{descriptor}]\"\n",
    "        ax.set_title(title)\n",
    "        ax.set_xlabel(\"f [GHz]\")\n",
    "        ax.set_ylabel(\"réflectivité [dB]\")\n",
    "        fig.savefig(f\"{base_path}/processing/reflectivite_wrt_f/reflectivite_wrt_f_{descriptor}.png\")\n",
    "    \n",
    "        plt.close(\"all\")\n",
    "    \n",
    "        dic_stats[f\"{absorbant}\"] = (valMax, valMin, reflectiviteMoy, reflectiviteSigma, reflectiviteMoy_dB)"
   ]
  },
  {
   "cell_type": "code",
   "execution_count": null,
   "metadata": {},
   "outputs": [],
   "source": [
    "for absorbant in dic_stats.keys():\n",
    "    stats = dic_stats[absorbant]\n",
    "    print(f\"{absorbant} {stats[0]:.2f} {stats[1]:.2f} {stats[2]:.6f} {stats[3]:.6f} {stats[4]:.2f}\")"
   ]
  },
  {
   "cell_type": "markdown",
   "metadata": {},
   "source": [
    "# Tous les absorbants série [b]"
   ]
  },
  {
   "cell_type": "code",
   "execution_count": null,
   "metadata": {},
   "outputs": [],
   "source": []
  }
 ],
 "metadata": {
  "kernelspec": {
   "display_name": "Python 3",
   "language": "python",
   "name": "python3"
  },
  "language_info": {
   "codemirror_mode": {
    "name": "ipython",
    "version": 3
   },
   "file_extension": ".py",
   "mimetype": "text/x-python",
   "name": "python",
   "nbconvert_exporter": "python",
   "pygments_lexer": "ipython3",
   "version": "3.7.3"
  },
  "toc": {
   "base_numbering": 1,
   "nav_menu": {},
   "number_sections": true,
   "sideBar": true,
   "skip_h1_title": false,
   "title_cell": "Table of Contents",
   "title_sidebar": "Contents",
   "toc_cell": false,
   "toc_position": {
    "height": "calc(100% - 180px)",
    "left": "10px",
    "top": "150px",
    "width": "253.4px"
   },
   "toc_section_display": true,
   "toc_window_display": true
  },
  "varInspector": {
   "cols": {
    "lenName": 16,
    "lenType": 16,
    "lenVar": 40
   },
   "kernels_config": {
    "python": {
     "delete_cmd_postfix": "",
     "delete_cmd_prefix": "del ",
     "library": "var_list.py",
     "varRefreshCmd": "print(var_dic_list())"
    },
    "r": {
     "delete_cmd_postfix": ") ",
     "delete_cmd_prefix": "rm(",
     "library": "var_list.r",
     "varRefreshCmd": "cat(var_dic_list()) "
    }
   },
   "types_to_exclude": [
    "module",
    "function",
    "builtin_function_or_method",
    "instance",
    "_Feature"
   ],
   "window_display": false
  }
 },
 "nbformat": 4,
 "nbformat_minor": 2
}
