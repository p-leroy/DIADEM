{
 "cells": [
  {
   "cell_type": "markdown",
   "metadata": {},
   "source": [
    "# Init"
   ]
  },
  {
   "cell_type": "code",
   "execution_count": 4,
   "metadata": {},
   "outputs": [],
   "source": [
    "import numpy as np\n",
    "import matplotlib.pyplot as plt"
   ]
  },
  {
   "cell_type": "code",
   "execution_count": 5,
   "metadata": {},
   "outputs": [],
   "source": [
    "%matplotlib qt5"
   ]
  },
  {
   "cell_type": "code",
   "execution_count": 6,
   "metadata": {},
   "outputs": [],
   "source": [
    "import sys"
   ]
  },
  {
   "cell_type": "code",
   "execution_count": 7,
   "metadata": {},
   "outputs": [],
   "source": [
    "sys.path.insert(0, \"/home/pleroy/DEV/DIADEM\")\n",
    "import toolsdiadem.tools as dia\n",
    "import toolsdiadem.ser as ser"
   ]
  },
  {
   "cell_type": "code",
   "execution_count": 8,
   "metadata": {},
   "outputs": [],
   "source": [
    "%load_ext autoreload\n",
    "%autoreload 2"
   ]
  },
  {
   "cell_type": "code",
   "execution_count": 9,
   "metadata": {},
   "outputs": [],
   "source": [
    "cmap='jet'"
   ]
  },
  {
   "cell_type": "code",
   "execution_count": 10,
   "metadata": {},
   "outputs": [],
   "source": [
    "base_path = \"/home/pleroy/DATA/DIADEM/SIEPEL/SER/WR10\"\n",
    "day = \"190910\""
   ]
  },
  {
   "cell_type": "code",
   "execution_count": 11,
   "metadata": {},
   "outputs": [],
   "source": [
    "nb_elev = 41\n",
    "nb_freq = 2801\n",
    "nb_ssb  = 4\n",
    "elevationPlaque  = np.linspace( -0.15, 0.65, nb_elev )\n",
    "elevationSupport = np.linspace( 0.25, 1.05, nb_elev )\n",
    "conjugate = 1"
   ]
  },
  {
   "cell_type": "markdown",
   "metadata": {},
   "source": [
    "# Données de la sonde"
   ]
  },
  {
   "cell_type": "markdown",
   "metadata": {},
   "source": [
    "## [a]"
   ]
  },
  {
   "cell_type": "code",
   "execution_count": 36,
   "metadata": {},
   "outputs": [],
   "source": [
    "tmp_probe = np.loadtxt( f\"{base_path}/190910/S11W_PROBE.s1p\", skiprows=5)\n",
    "S11_probe_a = ( 10 ** (0.05 * tmp_probe[:,1]) ) * np.exp( 1j * np.pi / 180 * ( tmp_probe[:,2] ) ).reshape(1,-1)\n",
    "if conjugate == 1:\n",
    "    S11_probe_a = S11_probe_a.conj()\n",
    "d_a = (np.linspace(0, 300 / (tmp_probe[1,0]-tmp_probe[0,0]), len(tmp_probe[:,0])) * 0.5).reshape(1,-1)*1e9\n",
    "freq_a = tmp_probe[:,0]*1e9"
   ]
  },
  {
   "cell_type": "markdown",
   "metadata": {},
   "source": [
    "## [b]\n",
    "\n",
    "Deux mesures de la sonde d'illumination avec un absorbant SIEPEL référence E monté sur une plaque placée devant la sonde par Fred."
   ]
  },
  {
   "cell_type": "code",
   "execution_count": 37,
   "metadata": {},
   "outputs": [],
   "source": [
    "tmp_probe = np.loadtxt( f\"{base_path}/PROBE/S11_PROBE_191002_a.s1p\", skiprows=5)\n",
    "S11_probe_b_0 = ( 10 ** (0.05 * tmp_probe[:,1]) ) * np.exp( 1j * np.pi / 180 * ( tmp_probe[:,2] ) ).reshape(1,-1)\n",
    "d_b = (np.linspace(0, 300 / (tmp_probe[1,0]-tmp_probe[0,0]), len(tmp_probe[:,0])) * 0.5).reshape(1,-1)*1e9\n",
    "freq_b = tmp_probe[:,0]*1e9"
   ]
  },
  {
   "cell_type": "code",
   "execution_count": 38,
   "metadata": {},
   "outputs": [],
   "source": [
    "tmp_probe = np.loadtxt( f\"{base_path}/PROBE/S11_PROBE_191002_b.s1p\", skiprows=5)\n",
    "S11_probe_b_1 = ( 10 ** (0.05 * tmp_probe[:,1]) ) * np.exp( 1j * np.pi / 180 * ( tmp_probe[:,2] ) ).reshape(1,-1)"
   ]
  },
  {
   "cell_type": "code",
   "execution_count": 39,
   "metadata": {},
   "outputs": [],
   "source": [
    "fig, ax = plt.subplots(1,1)\n",
    "ax.plot( d_a.T, ser.dB( np.fft.ifft( S11_probe_a ) ).T, label=f\"Probe a\" )\n",
    "ax.plot( d_b.T, ser.dB( np.fft.ifft( S11_probe_b_0 ) ).T, label=f\"Probe b 0\" )\n",
    "ax.plot( d_b.T, ser.dB( np.fft.ifft( S11_probe_b_1 ) ).T, label=f\"Probe b 1 \" )\n",
    "ax.legend()\n",
    "ax.grid()"
   ]
  },
  {
   "cell_type": "markdown",
   "metadata": {},
   "source": [
    "## Interpolation"
   ]
  },
  {
   "cell_type": "code",
   "execution_count": 40,
   "metadata": {},
   "outputs": [],
   "source": [
    "from scipy import interpolate"
   ]
  },
  {
   "cell_type": "code",
   "execution_count": 41,
   "metadata": {},
   "outputs": [],
   "source": [
    "f_0 = interpolate.interp1d(freq_b, S11_probe_b_0)\n",
    "f_1 = interpolate.interp1d(freq_b, S11_probe_b_1)"
   ]
  },
  {
   "cell_type": "code",
   "execution_count": 42,
   "metadata": {},
   "outputs": [],
   "source": [
    "S11_probe_b_0_interp = f_0(freq_a)\n",
    "S11_probe_b_1_interp = f_1(freq_a)"
   ]
  },
  {
   "cell_type": "code",
   "execution_count": 43,
   "metadata": {},
   "outputs": [],
   "source": [
    "fig, ax = plt.subplots(1,1)\n",
    "ax.plot( freq_b.T, ser.dB( S11_probe_b_0 ).T, label=f\"Probe b 0\" )\n",
    "ax.plot( freq_a.T, ser.dB( S11_probe_b_0_interp ).T, '.', label=f\"Probe b 0 interp1d\" )\n",
    "ax.legend()\n",
    "ax.grid()"
   ]
  },
  {
   "cell_type": "code",
   "execution_count": 44,
   "metadata": {},
   "outputs": [],
   "source": [
    "fig, ax = plt.subplots(1,1)\n",
    "ax.plot( freq_b.T, ser.dB( S11_probe_b_1 ).T, label=f\"Probe b 1\" )\n",
    "ax.plot( freq_a.T, ser.dB( S11_probe_b_1_interp ).T, '.', label=f\"Probe b 1 interp1d\" )\n",
    "ax.legend()\n",
    "ax.grid()"
   ]
  },
  {
   "cell_type": "code",
   "execution_count": 45,
   "metadata": {},
   "outputs": [],
   "source": [
    "fig, ax = plt.subplots(1,1)\n",
    "ax.plot( d_a.T, ser.dB( np.fft.ifft( S11_probe_a ) ).T, label=f\"Probe a\" )\n",
    "ax.plot( d_a.T, ser.dB( np.fft.ifft( S11_probe_b_0_interp ) ).T, label=f\"Probe b 0 interp1d\" )\n",
    "ax.plot( d_a.T, ser.dB( np.fft.ifft( S11_probe_b_1_interp ) ).T, label=f\"Probe b 1 interp1d\" )\n",
    "ax.legend()\n",
    "ax.grid()"
   ]
  },
  {
   "cell_type": "code",
   "execution_count": 46,
   "metadata": {},
   "outputs": [],
   "source": [
    "S11_probe_b = S11_probe_b_1_interp"
   ]
  },
  {
   "cell_type": "markdown",
   "metadata": {},
   "source": [
    "# Données des plaques"
   ]
  },
  {
   "cell_type": "markdown",
   "metadata": {},
   "source": [
    "## Plaque [a]"
   ]
  },
  {
   "cell_type": "code",
   "execution_count": 47,
   "metadata": {},
   "outputs": [],
   "source": [
    "data_dir = f\"{base_path}/{day}/Plaque\" \n",
    "freq_Plaque, S11_Plaque = ser.getData_ssb( nb_elev, nb_freq, nb_ssb, data_dir )\n",
    "if conjugate == 1:\n",
    "    S11_Plaque = S11_Plaque.conj()\n",
    "S11_Plaque_compensated = S11_Plaque - S11_probe_a\n",
    "nb_freq = freq_Plaque.size"
   ]
  },
  {
   "cell_type": "code",
   "execution_count": 48,
   "metadata": {},
   "outputs": [],
   "source": [
    "d = np.linspace(0, 300 / (freq_Plaque[1]-freq_Plaque[0]), nb_freq) * 0.5;"
   ]
  },
  {
   "cell_type": "code",
   "execution_count": 52,
   "metadata": {},
   "outputs": [],
   "source": [
    "fig, (ax0, ax1) = plt.subplots(1,2)\n",
    "\n",
    "im = ax0.pcolormesh( elevationPlaque, freq_Plaque, ser.dB( S11_Plaque ).T, cmap=cmap )\n",
    "title = f\"S11_Plaque\"\n",
    "ax0.set_title(title)\n",
    "ax0.set_xlabel( \"Elévation [°]\" )\n",
    "ax0.set_ylabel( \"Fréquence [GHz]\" )\n",
    "dia.addColorBar(  im, ax0, aspect='auto' )\n",
    "\n",
    "im = ax1.pcolormesh( elevationPlaque, freq_Plaque, ser.dB( S11_Plaque_compensated ).T, cmap=cmap )\n",
    "title = f\"S11_Plaque_compensated\"\n",
    "ax1.set_title(title)\n",
    "ax1.set_xlabel( \"Elévation [°]\" )\n",
    "ax1.set_ylabel( \"Fréquence [GHz]\" )\n",
    "dia.addColorBar(  im, ax1, aspect='auto' )"
   ]
  },
  {
   "cell_type": "markdown",
   "metadata": {},
   "source": [
    "## Support [a]"
   ]
  },
  {
   "cell_type": "code",
   "execution_count": 50,
   "metadata": {},
   "outputs": [],
   "source": [
    "data_dir = f\"{base_path}/{day}/Plaque support\" \n",
    "freq_Support, S11_Support = ser.getData_ssb( nb_elev, nb_freq, nb_ssb, data_dir )\n",
    "if conjugate == 1:\n",
    "    S11_Support = S11_Support.conj()\n",
    "S11_Support_compensated = S11_Support - S11_probe_a"
   ]
  },
  {
   "cell_type": "code",
   "execution_count": 51,
   "metadata": {},
   "outputs": [],
   "source": [
    "fig, (ax0, ax1) = plt.subplots(1,2)\n",
    "\n",
    "im = ax0.pcolormesh( elevationSupport, freq_Support, ser.dB( S11_Support ).T, cmap=cmap )\n",
    "title = f\"S11_Support\"\n",
    "ax0.set_title(title)\n",
    "ax0.set_xlabel( \"Elévation [°]\" )\n",
    "ax0.set_ylabel( \"Fréquence [GHz]\" )\n",
    "dia.addColorBar(  im, ax0, aspect='auto' )\n",
    "\n",
    "im = ax1.pcolormesh( elevationSupport, freq_Support, ser.dB( S11_Support_compensated ).T, cmap=cmap )\n",
    "title = f\"S11_Support_compensated\"\n",
    "ax1.set_title(title)\n",
    "ax1.set_xlabel( \"Elévation [°]\" )\n",
    "ax1.set_ylabel( \"Fréquence [GHz]\" )\n",
    "dia.addColorBar(  im, ax1, aspect='auto' )"
   ]
  },
  {
   "cell_type": "markdown",
   "metadata": {},
   "source": [
    "## Plaque [b]"
   ]
  },
  {
   "cell_type": "code",
   "execution_count": 53,
   "metadata": {},
   "outputs": [],
   "source": [
    "data_dir = f\"{base_path}/191002/PlaqueRef\" \n",
    "freq_Plaque, S11_Plaque_b = ser.getData_ssb( nb_elev, nb_freq, nb_ssb, data_dir )\n",
    "S11_Plaque_b_compensated = S11_Plaque_b - S11_probe_b"
   ]
  },
  {
   "cell_type": "code",
   "execution_count": 54,
   "metadata": {},
   "outputs": [],
   "source": [
    "fig, (ax0, ax1) = plt.subplots(1,2)\n",
    "\n",
    "im = ax0.pcolormesh( elevationPlaque, freq_Plaque, ser.dB( S11_Plaque_b ).T, cmap=cmap )\n",
    "title = f\"S11_Plaque_b\"\n",
    "ax0.set_title(title)\n",
    "ax0.set_xlabel( \"Elévation [°]\" )\n",
    "ax0.set_ylabel( \"Fréquence [GHz]\" )\n",
    "dia.addColorBar(  im, ax0, aspect='auto' )\n",
    "\n",
    "im = ax1.pcolormesh( elevationPlaque, freq_Plaque, ser.dB( S11_Plaque_b_compensated ).T, cmap=cmap )\n",
    "title = f\"S11_Plaque_b_compensated [b]\"\n",
    "ax1.set_title(title)\n",
    "ax1.set_xlabel( \"Elévation [°]\" )\n",
    "ax1.set_ylabel( \"Fréquence [GHz]\" )\n",
    "dia.addColorBar(  im, ax1, aspect='auto' )"
   ]
  },
  {
   "cell_type": "markdown",
   "metadata": {},
   "source": [
    "## Support [b]"
   ]
  },
  {
   "cell_type": "code",
   "execution_count": 55,
   "metadata": {},
   "outputs": [],
   "source": [
    "data_dir = f\"{base_path}/190927/Support\" \n",
    "freq_Support, S11_Support_b = ser.getData_ssb( nb_elev, nb_freq, nb_ssb, data_dir )\n",
    "S11_Support_b_compensated = S11_Support_b - S11_probe_b"
   ]
  },
  {
   "cell_type": "code",
   "execution_count": 56,
   "metadata": {},
   "outputs": [],
   "source": [
    "fig, (ax0, ax1) = plt.subplots(1,2)\n",
    "\n",
    "im = ax0.pcolormesh( elevationSupport, freq_Support, ser.dB( S11_Support_b ).T, cmap=cmap )\n",
    "title = f\"S11_Support_b\"\n",
    "ax0.set_title(title)\n",
    "ax0.set_xlabel( \"Elévation [°]\" )\n",
    "ax0.set_ylabel( \"Fréquence [GHz]\" )\n",
    "dia.addColorBar(  im, ax0, aspect='auto' )\n",
    "\n",
    "im = ax1.pcolormesh( elevationSupport, freq_Support, ser.dB( S11_Support_b_compensated ).T, cmap=cmap )\n",
    "title = f\"S11_Support_b_compensated\"\n",
    "ax1.set_title(title)\n",
    "ax1.set_xlabel( \"Elévation [°]\" )\n",
    "ax1.set_ylabel( \"Fréquence [GHz]\" )\n",
    "dia.addColorBar(  im, ax1, aspect='auto' )"
   ]
  },
  {
   "cell_type": "markdown",
   "metadata": {},
   "source": [
    "## Support [c] /!\\\n",
    "\n",
    "**Note**: fichier de séquence erroné (utilisation du fichier de séquence de la plaque de référence)"
   ]
  },
  {
   "cell_type": "code",
   "execution_count": 57,
   "metadata": {},
   "outputs": [],
   "source": [
    "data_dir = f\"{base_path}/191004/Support\" \n",
    "freq_Support, S11_Support_c = ser.getData_ssb( nb_elev, nb_freq, nb_ssb, data_dir )\n",
    "S11_Support_c_compensated = S11_Support_c - S11_probe_b"
   ]
  },
  {
   "cell_type": "code",
   "execution_count": 58,
   "metadata": {},
   "outputs": [],
   "source": [
    "fig, (ax0, ax1) = plt.subplots(1,2)\n",
    "\n",
    "im = ax0.pcolormesh( elevationSupport, freq_Support, ser.dB( S11_Support_c ).T, cmap=cmap )\n",
    "title = f\"S11_Support_c\"\n",
    "ax0.set_title(title)\n",
    "ax0.set_xlabel( \"Elévation [°]\" )\n",
    "ax0.set_ylabel( \"Fréquence [GHz]\" )\n",
    "dia.addColorBar(  im, ax0, aspect='auto' )\n",
    "\n",
    "im = ax1.pcolormesh( elevationSupport, freq_Support, ser.dB( S11_Support_c_compensated ).T, cmap=cmap )\n",
    "title = f\"S11_Support_c_compensated\"\n",
    "ax1.set_title(title)\n",
    "ax1.set_xlabel( \"Elévation [°]\" )\n",
    "ax1.set_ylabel( \"Fréquence [GHz]\" )\n",
    "dia.addColorBar(  im, ax1, aspect='auto' )"
   ]
  },
  {
   "cell_type": "markdown",
   "metadata": {},
   "source": [
    "## Support [d] /!\\\n",
    "Serrage supplémentaire de l'axe de translation manuel.\n",
    "\n",
    "**Note**: fichier de séquence erroné (utilisatino du fichier de séquence de la plaque de référence)"
   ]
  },
  {
   "cell_type": "code",
   "execution_count": 59,
   "metadata": {},
   "outputs": [],
   "source": [
    "data_dir = f\"{base_path}/191004/Supportb\" \n",
    "freq_Support, S11_Support_d = ser.getData_ssb( nb_elev, nb_freq, nb_ssb, data_dir )\n",
    "S11_Support_d_compensated = S11_Support_d - S11_probe_b"
   ]
  },
  {
   "cell_type": "code",
   "execution_count": 60,
   "metadata": {},
   "outputs": [],
   "source": [
    "fig, (ax0, ax1) = plt.subplots(1,2)\n",
    "\n",
    "im = ax0.pcolormesh( elevationSupport, freq_Support, ser.dB( S11_Support_d ).T, cmap=cmap )\n",
    "title = f\"S11_Support_d\"\n",
    "ax0.set_title(title)\n",
    "ax0.set_xlabel( \"Elévation [°]\" )\n",
    "ax0.set_ylabel( \"Fréquence [GHz]\" )\n",
    "dia.addColorBar(  im, ax0, aspect='auto' )\n",
    "\n",
    "im = ax1.pcolormesh( elevationSupport, freq_Support, ser.dB( S11_Support_d_compensated ).T, cmap=cmap )\n",
    "title = f\"S11_Support_d_compensated\"\n",
    "ax1.set_title(title)\n",
    "ax1.set_xlabel( \"Elévation [°]\" )\n",
    "ax1.set_ylabel( \"Fréquence [GHz]\" )\n",
    "dia.addColorBar(  im, ax1, aspect='auto' )"
   ]
  },
  {
   "cell_type": "markdown",
   "metadata": {},
   "source": [
    "## Support [e]\n",
    "\n",
    "Reprise de la mesure avec le bon fichier de séquence. Valeurs cohérentes avec le support b malgré le démontage / remontage."
   ]
  },
  {
   "cell_type": "code",
   "execution_count": 61,
   "metadata": {},
   "outputs": [],
   "source": [
    "# serrage supplémentaire de l'axe de translation manuel\n",
    "data_dir = f\"{base_path}/191004/Supportc\" \n",
    "freq_Support, S11_Support_e = ser.getData_ssb( nb_elev, nb_freq, nb_ssb, data_dir )\n",
    "S11_Support_e_compensated = S11_Support_e - S11_probe_b"
   ]
  },
  {
   "cell_type": "code",
   "execution_count": 62,
   "metadata": {},
   "outputs": [],
   "source": [
    "fig, (ax0, ax1) = plt.subplots(1,2)\n",
    "\n",
    "im = ax0.pcolormesh( elevationSupport, freq_Support, ser.dB( S11_Support_e ).T, cmap=cmap )\n",
    "title = f\"S11_Support_e\"\n",
    "ax0.set_title(title)\n",
    "ax0.set_xlabel( \"Elévation [°]\" )\n",
    "ax0.set_ylabel( \"Fréquence [GHz]\" )\n",
    "dia.addColorBar(  im, ax0, aspect='auto' )\n",
    "\n",
    "im = ax1.pcolormesh( elevationSupport, freq_Support, ser.dB( S11_Support_e_compensated ).T, cmap=cmap )\n",
    "title = f\"S11_Support_e_compensated\"\n",
    "ax1.set_title(title)\n",
    "ax1.set_xlabel( \"Elévation [°]\" )\n",
    "ax1.set_ylabel( \"Fréquence [GHz]\" )\n",
    "dia.addColorBar(  im, ax1, aspect='auto' )"
   ]
  },
  {
   "cell_type": "markdown",
   "metadata": {},
   "source": [
    "## Comparaison plaque / support"
   ]
  },
  {
   "cell_type": "markdown",
   "metadata": {},
   "source": [
    "## [a]"
   ]
  },
  {
   "cell_type": "code",
   "execution_count": 63,
   "metadata": {},
   "outputs": [],
   "source": [
    "iElevPlaque = 20\n",
    "iElevSupport = 20\n",
    "Plaque      = S11_Plaque[            iElevPlaque,:]\n",
    "PlaqueComp  = S11_Plaque_compensated[iElevPlaque,:]\n",
    "Support     = S11_Support[            iElevSupport,:]\n",
    "SupportComp = S11_Support_compensated[iElevSupport,:]"
   ]
  },
  {
   "cell_type": "code",
   "execution_count": 64,
   "metadata": {},
   "outputs": [],
   "source": [
    "fig, ax = plt.subplots(1,1)\n",
    "ax.plot( d, ser.dB( np.fft.ifft( Plaque      ) ), label=f\"Plaque, {elevationPlaque[iElevSupport]}\" )\n",
    "ax.plot( d, ser.dB( np.fft.ifft( PlaqueComp  ) ), label=f\"PlaqueComp, {elevationPlaque[iElevSupport]}\" )\n",
    "ax.plot( d, ser.dB( np.fft.ifft( Support     ) ), label=f\"Support, {elevationSupport[iElevSupport]}\" )\n",
    "ax.plot( d, ser.dB( np.fft.ifft( SupportComp ) ), label=f\"SupportComp, {elevationSupport[iElevSupport]}\" )\n",
    "ax.legend()\n",
    "ax.grid()"
   ]
  },
  {
   "cell_type": "markdown",
   "metadata": {},
   "source": [
    "## [b]"
   ]
  },
  {
   "cell_type": "code",
   "execution_count": 65,
   "metadata": {},
   "outputs": [],
   "source": [
    "iElevPlaque = 20\n",
    "iElevSupport = 20\n",
    "Plaque_b  = S11_Plaque_b[ iElevPlaque,:]\n",
    "Support_b = S11_Support_b[iElevSupport,:]\n",
    "PlaqueComp_b  = S11_Plaque_b_compensated[ iElevPlaque,:]\n",
    "SupportComp_b = S11_Support_b_compensated[iElevSupport,:]"
   ]
  },
  {
   "cell_type": "code",
   "execution_count": 66,
   "metadata": {},
   "outputs": [],
   "source": [
    "fig, ax = plt.subplots(1,1)\n",
    "ax.plot( d, ser.dB( np.fft.ifft( Plaque_b      ) ), label=f\"Plaque_b, {elevationPlaque[iElevSupport]}\" )\n",
    "ax.plot( d, ser.dB( np.fft.ifft( PlaqueComp_b  ) ), label=f\"PlaqueComp_b, {elevationPlaque[iElevSupport]}\" )\n",
    "ax.plot( d, ser.dB( np.fft.ifft( Support_b     ) ), label=f\"Support_b, {elevationSupport[iElevSupport]}\" )\n",
    "ax.plot( d, ser.dB( np.fft.ifft( SupportComp_b ) ), label=f\"SupportComp_b, {elevationSupport[iElevSupport]}\" )\n",
    "ax.legend()\n",
    "ax.grid()"
   ]
  },
  {
   "cell_type": "markdown",
   "metadata": {},
   "source": [
    "# Recherche de maximum"
   ]
  },
  {
   "cell_type": "markdown",
   "metadata": {},
   "source": [
    "## [a]"
   ]
  },
  {
   "cell_type": "markdown",
   "metadata": {},
   "source": [
    "### Plaque"
   ]
  },
  {
   "cell_type": "code",
   "execution_count": 67,
   "metadata": {},
   "outputs": [],
   "source": [
    "idx = np.where( abs( d - 6500 ) < 500 )[0]"
   ]
  },
  {
   "cell_type": "code",
   "execution_count": 76,
   "metadata": {},
   "outputs": [
    {
     "name": "stdout",
     "output_type": "stream",
     "text": [
      "maxElev = (array([20]),)\n",
      "[a] elevationPlaque at maximum: 0.21\n"
     ]
    }
   ],
   "source": [
    "maxVals = np.amax( np.abs( np.fft.ifft( S11_Plaque, axis=1 ) )[:,idx], axis=1 )\n",
    "maxElev = np.where( maxVals == np.amax( maxVals ) )\n",
    "print( f\"maxElev = {maxElev}\" )\n",
    "iElevPlaqueMax = maxElev[0][0]\n",
    "print(f\"[a] elevationPlaque at maximum: {elevationPlaque[iElevSupportMax]:.2f}\")"
   ]
  },
  {
   "cell_type": "markdown",
   "metadata": {},
   "source": [
    "### Support"
   ]
  },
  {
   "cell_type": "code",
   "execution_count": 77,
   "metadata": {},
   "outputs": [
    {
     "name": "stdout",
     "output_type": "stream",
     "text": [
      "maxElev = (array([18]),)\n",
      "[a] elevationPlaque at maximum: 0.61\n"
     ]
    }
   ],
   "source": [
    "maxVals = np.amax( np.abs( np.fft.ifft( S11_Support, axis=1 ) )[:,idx], axis=1 )\n",
    "maxElev = np.where( maxVals == np.amax( maxVals ) )\n",
    "print( f\"maxElev = {maxElev}\" )\n",
    "iElevSupportMax = maxElev[0][0]\n",
    "print(f\"[a] elevationPlaque at maximum: {elevationSupport[iElevSupportMax]:.2f}\")"
   ]
  },
  {
   "cell_type": "markdown",
   "metadata": {},
   "source": [
    "## [b]"
   ]
  },
  {
   "cell_type": "markdown",
   "metadata": {},
   "source": [
    "### Plaque"
   ]
  },
  {
   "cell_type": "code",
   "execution_count": 78,
   "metadata": {},
   "outputs": [
    {
     "name": "stdout",
     "output_type": "stream",
     "text": [
      "maxElev = (array([21]),)\n",
      "[b] elevationPlaque at maximum: 0.31\n"
     ]
    }
   ],
   "source": [
    "maxVals = np.amax( np.abs( np.fft.ifft( S11_Plaque_b, axis=1 ) )[:,idx], axis=1 )\n",
    "maxElev = np.where( maxVals == np.amax( maxVals ) )\n",
    "print( f\"maxElev = {maxElev}\" )\n",
    "iElevPlaqueMax_b = maxElev[0][0]\n",
    "print(f\"[b] elevationPlaque at maximum: {elevationPlaque[iElevSupportMax_b]:.2f}\")"
   ]
  },
  {
   "cell_type": "markdown",
   "metadata": {},
   "source": [
    "### Support"
   ]
  },
  {
   "cell_type": "code",
   "execution_count": 79,
   "metadata": {},
   "outputs": [
    {
     "name": "stdout",
     "output_type": "stream",
     "text": [
      "maxElev = (array([23]),)\n",
      "[b] elevationSupport at maximum: 0.71\n"
     ]
    }
   ],
   "source": [
    "maxVals = np.amax( np.abs( np.fft.ifft( S11_Support_b, axis=1 ) )[:,idx], axis=1 )\n",
    "maxElev = np.where( maxVals == np.amax( maxVals ) )\n",
    "print( f\"maxElev = {maxElev}\" )\n",
    "iElevSupportMax_b = maxElev[0][0]\n",
    "print(f\"[b] elevationSupport at maximum: {elevationSupport[iElevSupportMax_b]:.2f}\")"
   ]
  },
  {
   "cell_type": "markdown",
   "metadata": {},
   "source": [
    "## Plot"
   ]
  },
  {
   "cell_type": "code",
   "execution_count": 80,
   "metadata": {},
   "outputs": [],
   "source": [
    "# a\n",
    "Plaque_max      = S11_Plaque[iElevPlaqueMax,:]\n",
    "Support_max     = S11_Support[iElevSupportMax,:]\n",
    "PlaqueComp_max  = S11_Plaque_compensated[iElevPlaqueMax,:]\n",
    "SupportComp_max = S11_Support_compensated[iElevSupportMax,:]\n",
    "# b\n",
    "Plaque_max_b      = S11_Plaque[iElevPlaqueMax_b,:]\n",
    "Support_max_b     = S11_Support[iElevSupportMax_b,:]\n",
    "PlaqueComp_max_b  = S11_Plaque_compensated[iElevPlaqueMax_b,:]\n",
    "SupportComp_max_b = S11_Support_compensated[iElevSupportMax_b,:]"
   ]
  },
  {
   "cell_type": "code",
   "execution_count": 81,
   "metadata": {},
   "outputs": [],
   "source": [
    "fig, ax = plt.subplots(1,1)\n",
    "ax.plot( d, ser.dB( np.fft.ifft( Plaque_max      ) ), label=f\"Plaque_max, {elevationPlaque[iElevPlaqueMax]}\" )\n",
    "ax.plot( d, ser.dB( np.fft.ifft( PlaqueComp_max  ) ), label=f\"PlaqueComp_max, {elevationPlaque[iElevPlaqueMax]}\" )\n",
    "ax.plot( d, ser.dB( np.fft.ifft( Support_max     ) ), label=f\"Support_max, {elevationSupport[iElevSupportMax]}\" )\n",
    "ax.plot( d, ser.dB( np.fft.ifft( SupportComp_max ) ), label=f\"SupportComp_max, {elevationSupport[iElevSupportMax]}\" )\n",
    "ax.legend()\n",
    "ax.grid()"
   ]
  },
  {
   "cell_type": "code",
   "execution_count": 82,
   "metadata": {},
   "outputs": [],
   "source": [
    "fig, ax = plt.subplots(1,1)\n",
    "ax.plot( d, ser.dB( np.fft.ifft( Plaque_max_b      ) ), \n",
    "        label=f\"Plaque_max_b, {elevationPlaque[iElevPlaqueMax_b]:.2f}\" )\n",
    "ax.plot( d, ser.dB( np.fft.ifft( PlaqueComp_max_b  ) ), \n",
    "        label=f\"PlaqueComp_max_b, {elevationPlaque[iElevPlaqueMax_b]:.2f}\" )\n",
    "ax.plot( d, ser.dB( np.fft.ifft( Support_max_b     ) ), \n",
    "        label=f\"Support_max_b, {elevationSupport[iElevSupportMax_b]:.2f}\" )\n",
    "ax.plot( d, ser.dB( np.fft.ifft( SupportComp_max_b ) ), \n",
    "        label=f\"SupportComp_max_b, {elevationSupport[iElevSupportMax_b]:.2f}\" )\n",
    "ax.legend()\n",
    "ax.grid()"
   ]
  },
  {
   "cell_type": "markdown",
   "metadata": {},
   "source": [
    "# Save data"
   ]
  },
  {
   "cell_type": "code",
   "execution_count": 83,
   "metadata": {},
   "outputs": [],
   "source": [
    "tmp = np.zeros( (nb_freq, 3) )\n",
    "tmp[:,0] = freq_Plaque\n",
    "tmp[:,1] = np.real( Plaque_max )\n",
    "tmp[:,2] = np.imag( Plaque_max )\n",
    "np.savetxt( f\"{base_path}/processing/data/S11_plaque_ref_from_scan_a.txt\", tmp, header=\"GHz real imag\")"
   ]
  },
  {
   "cell_type": "code",
   "execution_count": 84,
   "metadata": {},
   "outputs": [],
   "source": [
    "tmp = np.zeros( (nb_freq, 3) )\n",
    "tmp[:,0] = freq_Plaque\n",
    "tmp[:,1] = np.real( Plaque_max_b )\n",
    "tmp[:,2] = np.imag( Plaque_max_b )\n",
    "np.savetxt( f\"{base_path}/processing/data/S11_plaque_ref_from_scan_b.txt\", tmp, header=\"GHz real imag\")"
   ]
  },
  {
   "cell_type": "code",
   "execution_count": 85,
   "metadata": {},
   "outputs": [],
   "source": [
    "tmp = np.zeros( (nb_freq, 3) )\n",
    "tmp[:,0] = freq_a\n",
    "tmp[:,1] = np.real( S11_probe_b )\n",
    "tmp[:,2] = np.imag( S11_probe_b )\n",
    "np.savetxt( f\"{base_path}/processing/data/S11_probe_b.txt\", tmp, header=\"GHz real imag\")"
   ]
  },
  {
   "cell_type": "markdown",
   "metadata": {},
   "source": [
    "# Uniform apertures / Rectangular apertures\n",
    "[Orfanidis] Electromagnetic Waves and Antennas"
   ]
  },
  {
   "cell_type": "code",
   "execution_count": 17,
   "metadata": {},
   "outputs": [],
   "source": [
    "c = 3e8"
   ]
  },
  {
   "cell_type": "code",
   "execution_count": 29,
   "metadata": {},
   "outputs": [],
   "source": [
    "def getE(f, theta, phi):\n",
    "    lambda_ = c / f\n",
    "    a = 0.6 / lambda_\n",
    "    b = a\n",
    "    vx = a * np.sin(theta) * np.cos(phi)\n",
    "    vy = b * np.sin(theta) * np.sin(phi)\n",
    "    E = np.abs(1 + np.cos(theta))/2 * np.sinc(vx) * np.sinc(vy)\n",
    "    return E"
   ]
  },
  {
   "cell_type": "code",
   "execution_count": 32,
   "metadata": {},
   "outputs": [
    {
     "name": "stdout",
     "output_type": "stream",
     "text": [
      "a = 100.0 lambda\n"
     ]
    }
   ],
   "source": [
    "f0 = 50e9\n",
    "f1 = 100e9\n",
    "lambda_ = c / f\n",
    "a = 0.6 / lambda_\n",
    "b = a\n",
    "print(f\"a = {a} lambda\")\n",
    "theta = np.arange(0, 2, 0.01).reshape(1,-1) * np.pi/180\n",
    "phi = np.arange(0, 360, 1).reshape(-1,1) * np.pi/180\n",
    "vx = a * np.sin(theta) * np.cos(phi)\n",
    "vy = b * np.sin(theta) * np.sin(phi)\n",
    "E0 = getE( f0, theta, phi)\n",
    "E1 = getE( f1, theta, phi)\n",
    "fig, ax = plt.subplots(1, 1)\n",
    "ax.pcolormesh(vx, vy, E)\n",
    "ax.set_aspect(\"equal\")"
   ]
  },
  {
   "cell_type": "code",
   "execution_count": 35,
   "metadata": {},
   "outputs": [
    {
     "data": {
      "text/plain": [
       "<matplotlib.legend.Legend at 0x7fc994ce29e8>"
      ]
     },
     "execution_count": 35,
     "metadata": {},
     "output_type": "execute_result"
    }
   ],
   "source": [
    "fig, ax = plt.subplots(1, 1)\n",
    "ax.plot( theta.ravel() * 180/np.pi, ser.dB(E0[0,:]), label=f\"{f0/1e9}\" )\n",
    "ax.plot( theta.ravel() * 180/np.pi, ser.dB(E1[0,:]), label=f\"{f1/1e9}\" )\n",
    "plt.grid()\n",
    "plt.legend()"
   ]
  },
  {
   "cell_type": "code",
   "execution_count": null,
   "metadata": {},
   "outputs": [],
   "source": []
  }
 ],
 "metadata": {
  "kernelspec": {
   "display_name": "Python 3",
   "language": "python",
   "name": "python3"
  },
  "language_info": {
   "codemirror_mode": {
    "name": "ipython",
    "version": 3
   },
   "file_extension": ".py",
   "mimetype": "text/x-python",
   "name": "python",
   "nbconvert_exporter": "python",
   "pygments_lexer": "ipython3",
   "version": "3.7.6"
  },
  "toc": {
   "base_numbering": 1,
   "nav_menu": {},
   "number_sections": true,
   "sideBar": true,
   "skip_h1_title": false,
   "title_cell": "Table of Contents",
   "title_sidebar": "Contents",
   "toc_cell": false,
   "toc_position": {
    "height": "calc(100% - 180px)",
    "left": "10px",
    "top": "150px",
    "width": "256.2px"
   },
   "toc_section_display": true,
   "toc_window_display": true
  },
  "varInspector": {
   "cols": {
    "lenName": 16,
    "lenType": 16,
    "lenVar": 40
   },
   "kernels_config": {
    "python": {
     "delete_cmd_postfix": "",
     "delete_cmd_prefix": "del ",
     "library": "var_list.py",
     "varRefreshCmd": "print(var_dic_list())"
    },
    "r": {
     "delete_cmd_postfix": ") ",
     "delete_cmd_prefix": "rm(",
     "library": "var_list.r",
     "varRefreshCmd": "cat(var_dic_list()) "
    }
   },
   "types_to_exclude": [
    "module",
    "function",
    "builtin_function_or_method",
    "instance",
    "_Feature"
   ],
   "window_display": false
  }
 },
 "nbformat": 4,
 "nbformat_minor": 2
}
