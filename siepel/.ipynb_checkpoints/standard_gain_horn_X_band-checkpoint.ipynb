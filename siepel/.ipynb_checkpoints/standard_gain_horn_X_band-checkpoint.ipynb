{
 "cells": [
  {
   "cell_type": "code",
   "execution_count": 2,
   "metadata": {},
   "outputs": [],
   "source": [
    "import configparser, os, sys\n",
    "\n",
    "import numpy as np\n",
    "import matplotlib.pyplot as plt\n",
    "from scipy.signal import kaiser\n",
    "\n",
    "sys.path.insert(0, \"/home/pleroy/DEV/DIADEM\")\n",
    "\n",
    "import toolsdiadem.tools as dia"
   ]
  },
  {
   "cell_type": "code",
   "execution_count": 3,
   "metadata": {},
   "outputs": [],
   "source": [
    "%matplotlib qt5\n",
    "%load_ext autoreload\n",
    "%autoreload 2"
   ]
  },
  {
   "cell_type": "code",
   "execution_count": 4,
   "metadata": {},
   "outputs": [],
   "source": [
    "dir_E = \"/home/pleroy/Documents/IETR/PoSAR-MC/X_band/DATASHEETS/ANT/Diagramme_antennes/bande X/E plane\"\n",
    "dir_H = \"/home/pleroy/Documents/IETR/PoSAR-MC/X_band/DATASHEETS/ANT/Diagramme_antennes/bande X/H plane\"\n",
    "root_dir = \"/home/pleroy/Documents/IETR/PoSAR-MC/X_band/DATASHEETS/ANT/Diagramme_antennes/bande X/\""
   ]
  },
  {
   "cell_type": "code",
   "execution_count": 7,
   "metadata": {},
   "outputs": [
    {
     "name": "stdout",
     "output_type": "stream",
     "text": [
      "data_dir:\n",
      "/home/pleroy/Documents/IETR/PoSAR-MC/X_band/DATASHEETS/ANT/Diagramme_antennes/bande X/E plane\n",
      "Nf = 26, Ny = 2\n"
     ]
    }
   ],
   "source": [
    "Nf, Ny = dia.get_Nf_Ny(dir_E)"
   ]
  },
  {
   "cell_type": "code",
   "execution_count": 8,
   "metadata": {},
   "outputs": [
    {
     "data": {
      "text/plain": [
       "(26, 2)"
      ]
     },
     "execution_count": 8,
     "metadata": {},
     "output_type": "execute_result"
    }
   ],
   "source": [
    "Nf, Ny"
   ]
  },
  {
   "cell_type": "code",
   "execution_count": 13,
   "metadata": {},
   "outputs": [
    {
     "name": "stdout",
     "output_type": "stream",
     "text": [
      "data_dir: /home/pleroy/Documents/IETR/PoSAR-MC/X_band/DATASHEETS/ANT/Diagramme_antennes/bande X/E plane\n",
      "Nf = 26, fmin = 8.0, fmax = 13.0\n"
     ]
    }
   ],
   "source": [
    "f = dia.getF(Nf, \"EvEh\", dir_E)"
   ]
  },
  {
   "cell_type": "code",
   "execution_count": 20,
   "metadata": {},
   "outputs": [
    {
     "name": "stdout",
     "output_type": "stream",
     "text": [
      "data_dir: /home/pleroy/Documents/IETR/PoSAR-MC/X_band/DATASHEETS/ANT/Diagramme_antennes/bande X/E plane\n",
      "Ny = 2, ymin = 0.0, ymax = 90.0\n"
     ]
    }
   ],
   "source": [
    "y = dia.getY(Ny, \"EvEh\", dir_E)"
   ]
  },
  {
   "cell_type": "code",
   "execution_count": 22,
   "metadata": {},
   "outputs": [
    {
     "data": {
      "text/plain": [
       "16"
      ]
     },
     "execution_count": 22,
     "metadata": {},
     "output_type": "execute_result"
    }
   ],
   "source": [
    "filename = \"/home/pleroy/Documents/IETR/PoSAR-MC/X_band/DATASHEETS/ANT/Diagramme_antennes/bande X/E plane/EvEh_000_000.amp\"\n",
    "dia.get_headerSize(filename)"
   ]
  },
  {
   "cell_type": "code",
   "execution_count": 28,
   "metadata": {},
   "outputs": [],
   "source": [
    "data_prefix = \"/home/pleroy/Documents/IETR/PoSAR-MC/X_band/DATASHEETS/ANT/Diagramme_antennes/bande X/E plane/EvEh\""
   ]
  },
  {
   "cell_type": "code",
   "execution_count": 30,
   "metadata": {},
   "outputs": [],
   "source": [
    "x, val = dia.get_x_val(data_prefix, 0, 0, \".amp\")"
   ]
  },
  {
   "cell_type": "code",
   "execution_count": 34,
   "metadata": {},
   "outputs": [],
   "source": [
    "Nx = x.shape[0]"
   ]
  },
  {
   "cell_type": "code",
   "execution_count": 35,
   "metadata": {},
   "outputs": [],
   "source": [
    "ampArray, phaArray = dia.getAmpPhaArrays(Nx, Ny, 0, data_prefix)"
   ]
  },
  {
   "cell_type": "code",
   "execution_count": 36,
   "metadata": {},
   "outputs": [
    {
     "data": {
      "text/plain": [
       "(2, 361)"
      ]
     },
     "execution_count": 36,
     "metadata": {},
     "output_type": "execute_result"
    }
   ],
   "source": [
    "dia.saveData(, nb, ampAndPhaArrays, X0, Y):"
   ]
  }
 ],
 "metadata": {
  "kernelspec": {
   "display_name": "Python 3",
   "language": "python",
   "name": "python3"
  },
  "language_info": {
   "codemirror_mode": {
    "name": "ipython",
    "version": 3
   },
   "file_extension": ".py",
   "mimetype": "text/x-python",
   "name": "python",
   "nbconvert_exporter": "python",
   "pygments_lexer": "ipython3",
   "version": "3.8.5"
  }
 },
 "nbformat": 4,
 "nbformat_minor": 4
}
