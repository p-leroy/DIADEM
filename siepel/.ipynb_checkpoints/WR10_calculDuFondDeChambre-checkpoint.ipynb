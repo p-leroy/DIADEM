{
 "cells": [
  {
   "cell_type": "markdown",
   "metadata": {},
   "source": [
    "# Init"
   ]
  },
  {
   "cell_type": "code",
   "execution_count": 1,
   "metadata": {},
   "outputs": [],
   "source": [
    "import numpy as np\n",
    "import matplotlib.pyplot as plt"
   ]
  },
  {
   "cell_type": "code",
   "execution_count": 2,
   "metadata": {},
   "outputs": [],
   "source": [
    "%matplotlib qt5"
   ]
  },
  {
   "cell_type": "code",
   "execution_count": 3,
   "metadata": {},
   "outputs": [],
   "source": [
    "import sys"
   ]
  },
  {
   "cell_type": "code",
   "execution_count": 4,
   "metadata": {},
   "outputs": [],
   "source": [
    "import time"
   ]
  },
  {
   "cell_type": "code",
   "execution_count": 5,
   "metadata": {},
   "outputs": [],
   "source": [
    "sys.path.insert(0, \"/home/pleroy/DEV/DIADEM\")\n",
    "import toolsdiadem.tools as dia\n",
    "import toolsdiadem.ser as ser"
   ]
  },
  {
   "cell_type": "code",
   "execution_count": 6,
   "metadata": {},
   "outputs": [],
   "source": [
    "%load_ext autoreload\n",
    "%autoreload 2"
   ]
  },
  {
   "cell_type": "code",
   "execution_count": 7,
   "metadata": {},
   "outputs": [],
   "source": [
    "cmap='jet'"
   ]
  },
  {
   "cell_type": "code",
   "execution_count": 33,
   "metadata": {},
   "outputs": [],
   "source": [
    "base_path = \"/home/pleroy/DATA/DIADEM/SIEPEL/SER/WR10\"\n",
    "\n",
    "dic_dir_a = {\"190911\" : [\"B\"],\n",
    "             \"190912\" : [\"F\", \"G\", \"AHP12\"], # Polar CATR 0\n",
    "             \"190913\" : [\"A\", \"E\", \"Jb\", \"D\", \"C\"],\n",
    "             \"190917\" : [\"N\", \"AHP45\", \"AHP30\", \"AHP9\", \"AHP30b\"],\n",
    "             \"190918\" : [\"F\"],\n",
    "             \"190923\" : [\"M\", \"L\", \"R\"]}\n",
    "\n",
    "dic_dir_b = {\"190926\" : [\"R\"],\n",
    "             \"190927\" : [\"K\", \"O\", \"I\", \"H\"]}"
   ]
  },
  {
   "cell_type": "markdown",
   "metadata": {},
   "source": [
    "# Données de la probe"
   ]
  },
  {
   "cell_type": "code",
   "execution_count": 29,
   "metadata": {},
   "outputs": [],
   "source": [
    "tmp = np.loadtxt( f\"{base_path}/190910/S11W_PROBE.s1p\", skiprows=5)\n",
    "S11_probe = ( 10 ** (0.05 * tmp[:,1]) ) * np.exp( 1j * np.pi / 180 * ( tmp[:,2] ) )\n",
    "S11_probe = S11_probe.conj()\n",
    "freq_probe = tmp[:,0] / 1e9\n",
    "d = np.linspace( 0, 300 / ( freq_probe[1] - freq_probe[0] ), freq_probe.size ) * 0.5"
   ]
  },
  {
   "cell_type": "markdown",
   "metadata": {},
   "source": [
    "# Calcul du fond de chambre\n",
    "ref: ser4siepel_multiband_scan_elev_F2C.sce"
   ]
  },
  {
   "cell_type": "code",
   "execution_count": 34,
   "metadata": {},
   "outputs": [],
   "source": [
    "nb_elev = 41\n",
    "nb_freq = 2801\n",
    "nb_ssb  = 4\n",
    "elevation = np.linspace( 0.25, 1.05, nb_elev )"
   ]
  },
  {
   "cell_type": "markdown",
   "metadata": {},
   "source": [
    "## a"
   ]
  },
  {
   "cell_type": "code",
   "execution_count": 56,
   "metadata": {},
   "outputs": [
    {
     "name": "stdout",
     "output_type": "stream",
     "text": [
      "nbAbs = 18\n",
      "190911\n",
      "B\n",
      "190912\n",
      "F\n",
      "G\n",
      "AHP12\n",
      "190913\n",
      "A\n",
      "E\n",
      "Jb\n",
      "D\n",
      "C\n",
      "190917\n",
      "N\n",
      "AHP45\n",
      "AHP30\n",
      "AHP9\n",
      "AHP30b\n",
      "190918\n",
      "F\n",
      "190923\n",
      "M\n",
      "L\n",
      "R\n"
     ]
    }
   ],
   "source": [
    "#===================================\n",
    "# /!\\ DATA CONJUGATION IS NEEDED /!\\\n",
    "#===================================\n",
    "S11_f2c_a = ser.computeF2C(base_path, dic_dir_a, nb_elev, nb_freq, nb_ssb).conj()"
   ]
  },
  {
   "cell_type": "markdown",
   "metadata": {},
   "source": [
    "## b"
   ]
  },
  {
   "cell_type": "code",
   "execution_count": 59,
   "metadata": {},
   "outputs": [
    {
     "name": "stdout",
     "output_type": "stream",
     "text": [
      "nbAbs = 5\n",
      "190926\n",
      "R\n",
      "190927\n",
      "K\n",
      "O\n",
      "I\n",
      "H\n"
     ]
    }
   ],
   "source": [
    "#========================================\n",
    "# /!\\ NO NEED TO CONJUGATE THE VALUES /!\\\n",
    "#========================================\n",
    "S11_f2c_b = ser.computeF2C(base_path, dic_dir_b, nb_elev, nb_freq, nb_ssb)"
   ]
  },
  {
   "cell_type": "markdown",
   "metadata": {},
   "source": [
    "# Comparaison fond de chambre / probe"
   ]
  },
  {
   "cell_type": "code",
   "execution_count": 57,
   "metadata": {},
   "outputs": [
    {
     "data": {
      "text/plain": [
       "Text(0.5, 1.0, 'time domain')"
      ]
     },
     "execution_count": 57,
     "metadata": {},
     "output_type": "execute_result"
    }
   ],
   "source": [
    "fig, ax = plt.subplots(1,1)\n",
    "ax.plot( d, ser.dB( np.fft.ifft( S11_f2c_a ) ), label=\"fond de chambre [a]\" )\n",
    "ax.plot( d, ser.dB( np.fft.ifft( S11_probe ) ), label=\"probe\")\n",
    "ax.plot( d, ser.dB( np.fft.ifft( S11_f2c_a - S11_probe ) ), label=\"fond de chambre [a] - probe\")\n",
    "ax.grid()\n",
    "ax.legend()\n",
    "ax.set_xlabel(\"[m]\")\n",
    "ax.set_ylabel(\"[dB]\")\n",
    "ax.set_title( \"time domain\" )"
   ]
  },
  {
   "cell_type": "code",
   "execution_count": 60,
   "metadata": {},
   "outputs": [
    {
     "data": {
      "text/plain": [
       "Text(0.5, 1.0, 'time domain')"
      ]
     },
     "execution_count": 60,
     "metadata": {},
     "output_type": "execute_result"
    }
   ],
   "source": [
    "fig, ax = plt.subplots(1,1)\n",
    "ax.plot( d, ser.dB( np.fft.ifft( S11_f2c_a ) ), label=\"fond de chambre [a]\" )\n",
    "ax.plot( d, ser.dB( np.fft.ifft( S11_f2c_b ) ), label=\"fond de chambre [b]\" )\n",
    "ax.grid()\n",
    "ax.legend()\n",
    "ax.set_xlabel(\"[m]\")\n",
    "ax.set_ylabel(\"[dB]\")\n",
    "ax.set_title( \"time domain\" )"
   ]
  },
  {
   "cell_type": "markdown",
   "metadata": {},
   "source": [
    "# Sauvegarde des données"
   ]
  },
  {
   "cell_type": "code",
   "execution_count": 32,
   "metadata": {},
   "outputs": [],
   "source": [
    "tmp[:,1] = np.real( S11_f2c_a )\n",
    "tmp[:,2] = np.imag( S11_f2c_a )\n",
    "np.savetxt( f\"{base_path}/processing/S11_fond_de_chambre_a.txt\", tmp, header=\"#GHz real imag\")\n",
    "\n",
    "tmp[:,1] = np.real( S11_f2c_b )\n",
    "tmp[:,2] = np.imag( S11_f2c_b )\n",
    "np.savetxt( f\"{base_path}/processing/S11_fond_de_chambre_b.txt\", tmp, header=\"#GHz real imag\")"
   ]
  },
  {
   "cell_type": "code",
   "execution_count": null,
   "metadata": {},
   "outputs": [],
   "source": []
  }
 ],
 "metadata": {
  "kernelspec": {
   "display_name": "Python 3",
   "language": "python",
   "name": "python3"
  },
  "language_info": {
   "codemirror_mode": {
    "name": "ipython",
    "version": 3
   },
   "file_extension": ".py",
   "mimetype": "text/x-python",
   "name": "python",
   "nbconvert_exporter": "python",
   "pygments_lexer": "ipython3",
   "version": "3.7.3"
  },
  "toc": {
   "base_numbering": 1,
   "nav_menu": {},
   "number_sections": true,
   "sideBar": true,
   "skip_h1_title": false,
   "title_cell": "Table of Contents",
   "title_sidebar": "Contents",
   "toc_cell": false,
   "toc_position": {
    "height": "calc(100% - 180px)",
    "left": "10px",
    "top": "150px",
    "width": "232.4px"
   },
   "toc_section_display": true,
   "toc_window_display": true
  },
  "varInspector": {
   "cols": {
    "lenName": 16,
    "lenType": 16,
    "lenVar": 40
   },
   "kernels_config": {
    "python": {
     "delete_cmd_postfix": "",
     "delete_cmd_prefix": "del ",
     "library": "var_list.py",
     "varRefreshCmd": "print(var_dic_list())"
    },
    "r": {
     "delete_cmd_postfix": ") ",
     "delete_cmd_prefix": "rm(",
     "library": "var_list.r",
     "varRefreshCmd": "cat(var_dic_list()) "
    }
   },
   "types_to_exclude": [
    "module",
    "function",
    "builtin_function_or_method",
    "instance",
    "_Feature"
   ],
   "window_display": false
  }
 },
 "nbformat": 4,
 "nbformat_minor": 2
}
