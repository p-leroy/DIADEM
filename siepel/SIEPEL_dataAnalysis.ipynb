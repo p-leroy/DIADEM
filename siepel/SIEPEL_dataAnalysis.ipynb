{
 "cells": [
  {
   "cell_type": "markdown",
   "metadata": {},
   "source": [
    "# Init"
   ]
  },
  {
   "cell_type": "code",
   "execution_count": 1,
   "metadata": {},
   "outputs": [],
   "source": [
    "import numpy as np\n",
    "import matplotlib.pyplot as plt\n",
    "from scipy.signal import kaiser"
   ]
  },
  {
   "cell_type": "code",
   "execution_count": 2,
   "metadata": {},
   "outputs": [],
   "source": [
    "%matplotlib qt5"
   ]
  },
  {
   "cell_type": "code",
   "execution_count": 3,
   "metadata": {},
   "outputs": [],
   "source": [
    "import sys"
   ]
  },
  {
   "cell_type": "code",
   "execution_count": 4,
   "metadata": {},
   "outputs": [],
   "source": [
    "sys.path.insert(0, \"/home/pleroy/DEV/DIADEM\")\n",
    "import toolsdiadem.tools as dia\n",
    "import toolsdiadem.ser as ser"
   ]
  },
  {
   "cell_type": "code",
   "execution_count": 5,
   "metadata": {},
   "outputs": [],
   "source": [
    "%load_ext autoreload\n",
    "%autoreload 2"
   ]
  },
  {
   "cell_type": "code",
   "execution_count": 6,
   "metadata": {},
   "outputs": [],
   "source": [
    "cmap='jet'\n",
    "withPlots = 0\n",
    "center = 6650\n",
    "width = 500"
   ]
  },
  {
   "cell_type": "code",
   "execution_count": 7,
   "metadata": {},
   "outputs": [],
   "source": [
    "base_path = \"/home/pleroy/DATA/DIADEM/SIEPEL/SER/WR15\"\n",
    "dic_dir = {\"190130\" : [\"absC\"],\n",
    "           \"190131\" : [\"absAHP12\", \"absB\", \"absD\", \"absJ\"],\n",
    "           \"190201\" : [\"absA\", \"absAHP20\", \"absE\", \"absG\", \"absM\"],\n",
    "           \"190204\" : [\"absAHP9\", \"absAHP30\", \"absAHP45\", \"absH\", \"absI\", \"absK\", \"absL\", \"absN\", \"absO\", \"absU\"]}"
   ]
  },
  {
   "cell_type": "code",
   "execution_count": 8,
   "metadata": {},
   "outputs": [],
   "source": [
    "dir_A     = \"/home/pleroy/DATA/DIADEM/SIEPEL/SER/WR15/190201/absA\"\n",
    "dir_C     = \"/home/pleroy/DATA/DIADEM/SIEPEL/SER/WR15/190128/absC\"\n",
    "dir_AHP9  = \"/home/pleroy/DATA/DIADEM/SIEPEL/SER/WR15/190204/absAHP9\"\n",
    "dir_AHP45 = \"/home/pleroy/DATA/DIADEM/SIEPEL/SER/WR15/190204/absAHP45\""
   ]
  },
  {
   "cell_type": "markdown",
   "metadata": {},
   "source": [
    "# Fond de chambre"
   ]
  },
  {
   "cell_type": "code",
   "execution_count": 9,
   "metadata": {},
   "outputs": [],
   "source": [
    "dir_fondDeChambre = \"/home/pleroy/DATA/DIADEM/SIEPEL/SER/WR15\"\n",
    "tmp = np.loadtxt(f\"{base_path}/S11_fond_de_chambre.txt\", skiprows=1)\n",
    "S11_fondDeChambre = tmp[:,1] + 1j * tmp[:,2]"
   ]
  },
  {
   "cell_type": "code",
   "execution_count": 10,
   "metadata": {},
   "outputs": [
    {
     "data": {
      "text/plain": [
       "<matplotlib.legend.Legend at 0x7fb5e0232358>"
      ]
     },
     "execution_count": 10,
     "metadata": {},
     "output_type": "execute_result"
    }
   ],
   "source": [
    "fig, ax = plt.subplots(1,1)\n",
    "plt.plot( 20 * np.log10( np.abs( np.fft.ifft( S11_fondDeChambre ) ) ), label=\"fond de chambre\" )\n",
    "plt.grid()\n",
    "plt.legend()"
   ]
  },
  {
   "cell_type": "markdown",
   "metadata": {},
   "source": [
    "# Plaque de référence"
   ]
  },
  {
   "cell_type": "code",
   "execution_count": 11,
   "metadata": {},
   "outputs": [],
   "source": [
    "dir_plaqueDeReference = \"/home/pleroy/DATA/DIADEM/SIEPEL/SER/WR15/190129/caracterisation/plaque_ref\"\n",
    "freq_all, S11_plaque_ref = ser.getFreqAndS11( dir_plaqueDeReference )"
   ]
  },
  {
   "cell_type": "markdown",
   "metadata": {},
   "source": [
    "# Réflectivité\n",
    "ref: ser4siepel_multiband_scan_elev_Reflectivite.sce"
   ]
  },
  {
   "cell_type": "markdown",
   "metadata": {},
   "source": [
    "## Initialisation des variables"
   ]
  },
  {
   "cell_type": "code",
   "execution_count": 12,
   "metadata": {},
   "outputs": [],
   "source": [
    "nb_elev = 41\n",
    "nb_freq = 2001\n",
    "\n",
    "elevation        = np.linspace( 0.76 - 1.0, 0.76 + 1.0, nb_elev )\n",
    "data_S11         = np.zeros( (nb_elev, nb_freq), dtype=complex )\n",
    "data_S11_td      = np.zeros( (nb_elev, nb_freq), dtype=complex )\n",
    "data_S11_tg      = np.zeros( (nb_elev, nb_freq), dtype=complex )\n",
    "S11_minus_moy    = np.zeros( (nb_elev, nb_freq), dtype=complex )\n",
    "S11_minus_moy_td = np.zeros( (nb_elev, nb_freq), dtype=complex )\n",
    "S11_minus_moy_tg = np.zeros( (nb_elev, nb_freq), dtype=complex )\n",
    "reflectivite     = np.zeros( (nb_elev, nb_freq), dtype=complex )\n",
    "S11_moy          = np.zeros( nb_freq,            dtype=complex )\n",
    "S11_moy_square   = np.zeros( nb_freq,            dtype=complex )"
   ]
  },
  {
   "cell_type": "markdown",
   "metadata": {},
   "source": [
    "## Lecture des données et time gating"
   ]
  },
  {
   "cell_type": "markdown",
   "metadata": {},
   "source": [
    "### Lecture des données"
   ]
  },
  {
   "cell_type": "code",
   "execution_count": 16,
   "metadata": {},
   "outputs": [],
   "source": [
    "seq = 0\n",
    "flag_gate = 1\n",
    "data_dir = dir_AHP45\n",
    "\n",
    "for ielev in range(nb_elev):\n",
    "    freq_all, S11_all = ser.getFreqAndS11( data_dir, seq0=seq, verbose=0 )\n",
    "    seq = seq + 3\n",
    "    data_S11[ ielev, : ] = S11_all\n",
    "    \n",
    "d = np.linspace( 0, 300 / ( freq_all[1] - freq_all[0] ), nb_freq ) * 0.5"
   ]
  },
  {
   "cell_type": "markdown",
   "metadata": {},
   "source": [
    "### Gate design\n",
    "\n",
    "scipy.signal.kaiser(M, beta, sym=True)\n",
    "\n",
    "**SYM** When True (default), generates a symmetric window, for use in filter design. When False, generates a periodic window, for use in spectral analysis"
   ]
  },
  {
   "cell_type": "code",
   "execution_count": 17,
   "metadata": {},
   "outputs": [
    {
     "name": "stdout",
     "output_type": "stream",
     "text": [
      "gateSize 166\n"
     ]
    }
   ],
   "source": [
    "myGate = np.zeros( nb_freq )\n",
    "myWidth = 500\n",
    "gateSize = np.where( np.abs( d - center ) < myWidth )[0].shape[0]\n",
    "myGate[ np.where( np.abs( d - center ) < myWidth ) ] = 1.0\n",
    "fftMyGate = np.fft.fft( myGate )\n",
    "print( f\"gateSize {gateSize}\" )"
   ]
  },
  {
   "cell_type": "code",
   "execution_count": 19,
   "metadata": {},
   "outputs": [
    {
     "data": {
      "text/plain": [
       "<matplotlib.legend.Legend at 0x7fb5d9c00e10>"
      ]
     },
     "execution_count": 19,
     "metadata": {},
     "output_type": "execute_result"
    }
   ],
   "source": [
    "fig, (ax0, ax1) = plt.subplots(2,1)\n",
    "ax0.plot( d, myGate, label=\"myGate\" )\n",
    "ax0.grid()\n",
    "ax0.legend()\n",
    "ax1.plot( 20 * np.log10( np.abs( fftMyGate ) ), label=\"fft( myGate )\" )\n",
    "ax1.grid()\n",
    "ax1.legend()"
   ]
  },
  {
   "cell_type": "code",
   "execution_count": 20,
   "metadata": {},
   "outputs": [],
   "source": [
    "beta = 6\n",
    "myWindow = np.zeros(nb_freq)\n",
    "myWindow[0] = 1\n",
    "myWindow[1:] = np.fft.fftshift( kaiser(nb_freq-1, beta, sym=True) )\n",
    "modMyWindow = 20 * np.log10( np.abs( myWindow ) )\n",
    "fftMyGateKaiser = np.fft.fft( myGate ) * myWindow\n",
    "gateKB = np.fft.ifft( fftMyGateKaiser )"
   ]
  },
  {
   "cell_type": "code",
   "execution_count": 21,
   "metadata": {},
   "outputs": [
    {
     "data": {
      "text/plain": [
       "<matplotlib.legend.Legend at 0x7fb5d99f9eb8>"
      ]
     },
     "execution_count": 21,
     "metadata": {},
     "output_type": "execute_result"
    }
   ],
   "source": [
    "fig, (ax0, ax1) = plt.subplots(2,1)\n",
    "ax0.plot( myWindow, '.', label='myWindow' )\n",
    "ax0.grid()\n",
    "ax0.legend()\n",
    "\n",
    "ax1.plot( 20 * np.log10( np.abs( fftMyGate ) ), label='fftshift fftMyGate' )\n",
    "ax1.plot( 20 * np.log10( np.abs( fftMyGateKaiser ) ), label='fftMyGateKaiser' )\n",
    "ax1.grid()\n",
    "ax1.legend()"
   ]
  },
  {
   "cell_type": "code",
   "execution_count": 22,
   "metadata": {},
   "outputs": [
    {
     "data": {
      "text/plain": [
       "<matplotlib.legend.Legend at 0x7fb5e0767208>"
      ]
     },
     "execution_count": 22,
     "metadata": {},
     "output_type": "execute_result"
    }
   ],
   "source": [
    "fig, ax = plt.subplots(1,1)\n",
    "ax.plot( d, 20 * np.log10( np.abs( np.real( gateKB ) ) ), '-', label='real gateKB' )\n",
    "ax.plot( d, 20 * np.log10( np.abs( np.imag( gateKB ) ) ), '-', label='imag gateKB' )\n",
    "ax.plot( d, 20 * np.log10( np.abs(          gateKB ) ), '.', label='abs gateKB')\n",
    "plt.grid()\n",
    "plt.legend()"
   ]
  },
  {
   "cell_type": "code",
   "execution_count": 23,
   "metadata": {},
   "outputs": [],
   "source": [
    "NKaiser = 200\n",
    "littleKaiser = kaiser(2*NKaiser, 6, sym=True)\n",
    "myWindowLittleKaiser = np.zeros(nb_freq)\n",
    "myWindowLittleKaiser[0] = 1\n",
    "myWindowLittleKaiser[1:NKaiser+1]      = littleKaiser[NKaiser:]\n",
    "myWindowLittleKaiser[nb_freq-NKaiser:] = littleKaiser[0:NKaiser]\n",
    "fftMyGateLittleKaiser = fftMyGate  * myWindowLittleKaiser\n",
    "gateKB2 = np.fft.ifft( fftMyGateLittleKaiser )"
   ]
  },
  {
   "cell_type": "code",
   "execution_count": 24,
   "metadata": {},
   "outputs": [
    {
     "data": {
      "text/plain": [
       "<matplotlib.legend.Legend at 0x7fb5d9e34b38>"
      ]
     },
     "execution_count": 24,
     "metadata": {},
     "output_type": "execute_result"
    }
   ],
   "source": [
    "fig, ax = plt.subplots(1,1)\n",
    "ax.plot( d, 20 * np.log10( np.abs( np.real( gateKB2 ) ) ), '-', label='real gateKB2' )\n",
    "ax.plot( d, 20 * np.log10( np.abs( np.imag( gateKB2 ) ) ), '-', label='imag gateKB2' )\n",
    "ax.plot( d, 20 * np.log10( np.abs(          gateKB2 ) ), '.', label='abs gateKB2')\n",
    "plt.grid()\n",
    "plt.legend()"
   ]
  },
  {
   "cell_type": "markdown",
   "metadata": {},
   "source": [
    "### Gating"
   ]
  },
  {
   "cell_type": "code",
   "execution_count": 25,
   "metadata": {},
   "outputs": [],
   "source": [
    "gateLLC = ser.getWindow( d, center, width, id=\"llc\" )"
   ]
  },
  {
   "cell_type": "code",
   "execution_count": 26,
   "metadata": {},
   "outputs": [],
   "source": [
    "S11_moy     = np.average( data_S11, axis=0 )\n",
    "S11_moy_td  = np.fft.ifft( S11_moy )\n",
    "S11_moy_tg_LLC  = S11_moy_td * gateLLC\n",
    "S11_moy_tg_KB   = S11_moy_td * gateKB\n",
    "\n",
    "data_S11_td = np.fft.ifft( data_S11, axis=1 )\n",
    "data_S11_tg_LLC = data_S11_td * gateLLC\n",
    "data_S11_tg_KB   = data_S11_td * gateKB"
   ]
  },
  {
   "cell_type": "code",
   "execution_count": 27,
   "metadata": {},
   "outputs": [],
   "source": [
    "fig, ax = plt.subplots(1,1)\n",
    "ax.plot( d, 20*np.log10( np.abs( data_S11_td[20,:] ) ), label=\"S11_moy_td\" )\n",
    "ax.plot( d, 20*np.log10( np.abs( data_S11_tg_LLC[20,:] ) ), label=\"S11_moy_tg_LLC\" )\n",
    "ax.plot( d, 20*np.log10( np.abs( data_S11_tg_KB[20,:] ) ),  label=\"S11_moy_tg_KB\" )\n",
    "ax.legend()\n",
    "ax.grid()"
   ]
  },
  {
   "cell_type": "code",
   "execution_count": 28,
   "metadata": {},
   "outputs": [],
   "source": [
    "fig, ax = plt.subplots(1,1)\n",
    "ax.plot( d, 20*np.log10( np.abs( np.fft.fft( data_S11_td[20,:] ) ) ), label=\"S11_moy_td\" )\n",
    "ax.plot( d, 20*np.log10( np.abs( np.fft.fft( data_S11_tg_LLC[20,:] ) ) ), label=\"S11_moy_tg_LLC\" )\n",
    "ax.plot( d, 20*np.log10( np.abs( np.fft.fft( data_S11_tg_KB[20,:] ) ) ),  label=\"S11_moy_tg_KB\" )\n",
    "ax.legend()\n",
    "ax.grid()"
   ]
  },
  {
   "cell_type": "markdown",
   "metadata": {},
   "source": [
    "## Calcul de la réflectivité"
   ]
  },
  {
   "cell_type": "code",
   "execution_count": 29,
   "metadata": {},
   "outputs": [],
   "source": [
    "gate = gateLLC"
   ]
  },
  {
   "cell_type": "code",
   "execution_count": 30,
   "metadata": {},
   "outputs": [],
   "source": [
    "fig, ax = plt.subplots(1,1)\n",
    "ax.plot(d, gate, label='gate')\n",
    "ax.legend()\n",
    "ax.grid()\n",
    "fig.savefig(\"gate.png\")"
   ]
  },
  {
   "cell_type": "code",
   "execution_count": 32,
   "metadata": {},
   "outputs": [],
   "source": [
    "S11_plaque_ref_tg = np.fft.fft( np.fft.ifft( S11_plaque_ref - S11_fondDeChambre ) * gate )\n",
    "tab_freq = freq_all\n",
    "reflectivite = np.zeros( (nb_elev, nb_freq), dtype=complex )\n",
    "S11_minus_moy    = data_S11 - S11_fondDeChambre\n",
    "S11_minus_moy_td = np.fft.ifft( S11_minus_moy, axis=1 )\n",
    "S11_minus_moy_tg = np.fft.fft( S11_minus_moy_td * gate, axis=1 )\n",
    "reflectivite     = S11_minus_moy_tg / S11_plaque_ref_tg"
   ]
  },
  {
   "cell_type": "markdown",
   "metadata": {},
   "source": [
    "## Relecture des données de la réflectivité"
   ]
  },
  {
   "cell_type": "code",
   "execution_count": 33,
   "metadata": {},
   "outputs": [],
   "source": [
    "tmp = np.loadtxt(f\"{dir_AHP45}/Reflectivite_absAHP45.txt\", skiprows=1)\n",
    "refAbsAHP45 = tmp[:,1:]\n",
    "refAbsAHP45_f = tmp[:,0]"
   ]
  },
  {
   "cell_type": "code",
   "execution_count": 34,
   "metadata": {},
   "outputs": [],
   "source": [
    "vmin = -120\n",
    "vmax = -0\n",
    "fig, ax = plt.subplots( 1, 1 )\n",
    "im = plt.pcolormesh( elevation, np.flip( freq_all ), refAbsAHP45, vmin=vmin, vmax=vmax, cmap=cmap )\n",
    "\n",
    "title = f\"refAbsAHP45\"\n",
    "ax.set_title(title)\n",
    "ax.set_xlabel( \"Elévation [°]\" )\n",
    "ax.set_ylabel( \"Fréquence [GHz]\" )\n",
    "dia.addColorBar(  im, ax, aspect='auto' )"
   ]
  },
  {
   "cell_type": "code",
   "execution_count": 35,
   "metadata": {},
   "outputs": [],
   "source": [
    "fig, ax = plt.subplots( 1, 1 )\n",
    "im = plt.pcolormesh( elevation, np.flip( freq_all ), 20*np.log10(np.abs(reflectivite)).T, \n",
    "                    vmin=vmin, vmax=vmax, cmap=cmap )\n",
    "\n",
    "title = f\"réflectivite\"\n",
    "ax.set_title(title)\n",
    "ax.set_xlabel( \"Elévation [°]\" )\n",
    "ax.set_ylabel( \"Fréquence [GHz]\" )\n",
    "dia.addColorBar(  im, ax, aspect='auto' )"
   ]
  },
  {
   "cell_type": "code",
   "execution_count": 36,
   "metadata": {},
   "outputs": [],
   "source": [
    "fig, ax = plt.subplots( 1, 1 )\n",
    "ax.plot( refAbsAHP45[:,0], label=\"refAbsAHP45\" )\n",
    "ax.plot( 20*np.log10(np.abs(reflectivite)).T[:,0], label=\"réflectivite\" )\n",
    "ax.legend()\n",
    "ax.grid()"
   ]
  },
  {
   "cell_type": "markdown",
   "metadata": {},
   "source": [
    "# Plot"
   ]
  },
  {
   "cell_type": "markdown",
   "metadata": {},
   "source": [
    "## Coefficient de réflexion"
   ]
  },
  {
   "cell_type": "code",
   "execution_count": 37,
   "metadata": {},
   "outputs": [
    {
     "name": "stdout",
     "output_type": "stream",
     "text": [
      "valMax = -78.32 valMin = -140.00\n"
     ]
    },
    {
     "data": {
      "text/plain": [
       "Text(0.5, 0, 'Fréquence [GHz]')"
      ]
     },
     "execution_count": 37,
     "metadata": {},
     "output_type": "execute_result"
    }
   ],
   "source": [
    "cmap='jet'\n",
    "\n",
    "toPlot = 20 * np.log10( np.abs( ( S11_minus_moy_tg ) ) )\n",
    "\n",
    "valMin = -140\n",
    "toPlot = 0.5 * ( np.abs( toPlot - valMin ) + toPlot - valMin ) + valMin\n",
    "valMax = np.amax( toPlot )\n",
    "valMin = np.amin( toPlot )\n",
    "print( f\"valMax = {valMax:.2f} valMin = {valMin:.2f}\")\n",
    "\n",
    "fig, ax = plt.subplots( 1, 1 )\n",
    "im = plt.pcolormesh( freq_all, elevation, toPlot, cmap='jet' )\n",
    "dia.addColorBar(  im, ax, aspect='auto' )\n",
    "title = f\"Coefficient de réflexion de l'absorbant\\n{data_dir}\"\n",
    "ax.set_title(title)\n",
    "ax.set_ylabel( \"Elévation [°]\" )\n",
    "ax.set_xlabel( \"Fréquence [GHz]\" )"
   ]
  },
  {
   "cell_type": "markdown",
   "metadata": {},
   "source": [
    "## Réflectivité de l'absorbant"
   ]
  },
  {
   "cell_type": "code",
   "execution_count": 38,
   "metadata": {},
   "outputs": [
    {
     "name": "stdout",
     "output_type": "stream",
     "text": [
      "valMax = -59.43 valMin = -90.00\n"
     ]
    }
   ],
   "source": [
    "toPlot = np.zeros( (len(elevation), len(tab_freq)) )\n",
    "gatebis  = 0.0 * gate\n",
    "gatebis[ np.where( np.abs( freq_all - 62.5 ) < 12.4 ) ] = 1.0\n",
    "toPlot = 20 * np.log10( 1e-12 + np.abs( reflectivite * gatebis ) )\n",
    "\n",
    "valMin = -90\n",
    "toPlot = 0.5 * ( np.abs( toPlot - valMin ) + toPlot - valMin ) + valMin\n",
    "valMax = np.amax( toPlot )\n",
    "valMin = np.amin( toPlot )\n",
    "print( f\"valMax = {valMax:.2f} valMin = {valMin:.2f}\")\n",
    "     \n",
    "vmin = -80\n",
    "vmax = -0\n",
    "fig, ax = plt.subplots( 1, 1 )\n",
    "im = plt.pcolormesh( elevation, np.flip( freq_all ), np.rot90(toPlot), cmap=cmap )\n",
    "\n",
    "title = f\"Réflectivité absorbant\\n{data_dir}\"\n",
    "ax.set_title(title)\n",
    "ax.set_xlabel( \"Elévation [°]\" )\n",
    "ax.set_ylabel( \"Fréquence [GHz]\" )\n",
    "dia.addColorBar(  im, ax, aspect='auto' )"
   ]
  },
  {
   "cell_type": "markdown",
   "metadata": {},
   "source": [
    "# Tous les absorbants"
   ]
  },
  {
   "cell_type": "markdown",
   "metadata": {},
   "source": [
    "190130 absC\n",
    "\n",
    "190131 absAHP12 / absB / absD / absJ\n",
    "\n",
    "190201 absA / absAHP20 / absE / absG / absM\n",
    "\n",
    "190204 absAHP9 / absAHP30 / absAHP45 / absH / absI / absK / absL / absN / absO / absU"
   ]
  },
  {
   "cell_type": "code",
   "execution_count": null,
   "metadata": {},
   "outputs": [],
   "source": [
    "idx = np.where( np.abs( freq_all - 62.5 ) < 12.4 )\n",
    "idxAlt = np.where( np.abs( freq_all - 62.5 ) >= 12.4 )\n",
    "valMin = -90\n",
    "vmin = -90\n",
    "vmax = -40\n",
    "dic_stats = {}"
   ]
  },
  {
   "cell_type": "code",
   "execution_count": null,
   "metadata": {},
   "outputs": [],
   "source": [
    "plt.ioff()\n",
    "\n",
    "# \"190130\" \n",
    "# \"190131\"\n",
    "# \"190201\"\n",
    "# \"190204\"\n",
    "date = \"190204\"\n",
    "\n",
    "for absorbant in dic_dir[date]:\n",
    "\n",
    "    seq = 0\n",
    "    flag_gate = 1\n",
    "    data_dir  = f\"{base_path}/{date}/{absorbant}\"\n",
    "    print(f\"======= {absorbant} =======\")\n",
    "\n",
    "    for ielev in range(nb_elev):\n",
    "        freq_all, S11_all = ser.getFreqAndS11( data_dir, seq0=seq, verbose=0 )\n",
    "        seq = seq + 3\n",
    "        data_S11[ ielev, : ] = S11_all\n",
    "    \n",
    "    S11_plaque_ref_tg = np.fft.fft( np.fft.ifft( S11_plaque_ref - S11_fondDeChambre ) * gate )\n",
    "    tab_freq = freq_all\n",
    "    S11_minus_moy    = data_S11 - S11_fondDeChambre\n",
    "    S11_minus_moy_td = np.fft.ifft( S11_minus_moy, axis=1 )\n",
    "    S11_minus_moy_tg = np.fft.fft( S11_minus_moy_td * gate, axis=1 )\n",
    "    #\n",
    "    reflectivite = np.zeros( (nb_elev, nb_freq), dtype=complex )\n",
    "    reflectivite = S11_minus_moy_tg / S11_plaque_ref_tg\n",
    "    \n",
    "    # drop lower and higher frequencies values\n",
    "    toPlot[:,idx]    = 20 * np.log10( 1e-12 + np.abs( reflectivite[:,idx] ) )\n",
    "    toPlot[:,idxAlt] = -90\n",
    "\n",
    "    fig, ax = plt.subplots( 1, 1 )\n",
    "    im = ax.pcolormesh( elevation, np.flip( freq_all ), np.rot90(toPlot), cmap=cmap, vmin=vmin, vmax=vmax )\n",
    "    title = f\"Réflectivité [{absorbant}]\"\n",
    "    ax.set_title(title)\n",
    "    ax.set_xlabel( \"Elévation [°]\" )\n",
    "    ax.set_ylabel( \"Fréquence [GHz]\" )\n",
    "    dia.addColorBar(  im, ax, aspect='auto' )\n",
    "    fig.savefig(f\"reflectivite_{absorbant}.png\")\n",
    "\n",
    "    # stats\n",
    "    valMax = np.amax( toPlot )\n",
    "    valMin = np.amin( toPlot )\n",
    "    print( f\"valMax = {valMax:.2f} valMin = {valMin:.2f}\")\n",
    "\n",
    "    absReflectivite   = np.abs( reflectivite )\n",
    "    reflectiviteMoy   = np.average( absReflectivite[:,idx] )\n",
    "    reflectiviteSigma = np.std( absReflectivite[:,idx] )\n",
    "\n",
    "    reflectiviteMoy_dB   = 20 * np.log10( np.abs( reflectiviteMoy ) )\n",
    "    reflectiviteSigma_dB = 20 * np.log10( np.abs( reflectiviteSigma ) )\n",
    "    print( f\"moy = {reflectiviteMoy:.6f}, sigma = {reflectiviteSigma:.6f}\" )\n",
    "    print( f\"moy = {reflectiviteMoy_dB:.2f} [dB], sigma = {reflectiviteSigma_dB:.2f} [dB]\" )\n",
    "    \n",
    "    # HISTOGRAM\n",
    "    fig, ax = plt.subplots(1,1)\n",
    "    ax.hist((absReflectivite[:,idx]).flatten(), 50, label=\"histogramme (valeurs linéaires)\")\n",
    "    ax.grid()\n",
    "    title = f\"Réflectivité, histogramme [{absorbant}]\"\n",
    "    ax.set_title(title)\n",
    "    ax.legend()\n",
    "    fig.savefig(f\"histogramm_{absorbant}.png\")\n",
    "    \n",
    "    plt.close(\"all\")\n",
    "    \n",
    "    dic_stats[f\"{absorbant}\"] = (valMax, valMin, reflectiviteMoy, reflectiviteSigma, reflectiviteMoy_dB)"
   ]
  },
  {
   "cell_type": "code",
   "execution_count": null,
   "metadata": {},
   "outputs": [],
   "source": [
    "for absorbant in dic_stats.keys():\n",
    "    stats = dic_stats[absorbant]\n",
    "    print(f\"{absorbant} {stats[0]:.2f} {stats[1]:.2f} {stats[2]:.6f} {stats[3]:.6f} {stats[4]:.2f}\")"
   ]
  },
  {
   "cell_type": "code",
   "execution_count": null,
   "metadata": {},
   "outputs": [],
   "source": []
  }
 ],
 "metadata": {
  "kernelspec": {
   "display_name": "Python 3",
   "language": "python",
   "name": "python3"
  },
  "language_info": {
   "codemirror_mode": {
    "name": "ipython",
    "version": 3
   },
   "file_extension": ".py",
   "mimetype": "text/x-python",
   "name": "python",
   "nbconvert_exporter": "python",
   "pygments_lexer": "ipython3",
   "version": "3.7.1"
  },
  "toc": {
   "base_numbering": 1,
   "nav_menu": {},
   "number_sections": true,
   "sideBar": true,
   "skip_h1_title": false,
   "title_cell": "Table of Contents",
   "title_sidebar": "Contents",
   "toc_cell": false,
   "toc_position": {
    "height": "calc(100% - 180px)",
    "left": "10px",
    "top": "150px",
    "width": "253.4px"
   },
   "toc_section_display": true,
   "toc_window_display": true
  },
  "varInspector": {
   "cols": {
    "lenName": 16,
    "lenType": 16,
    "lenVar": 40
   },
   "kernels_config": {
    "python": {
     "delete_cmd_postfix": "",
     "delete_cmd_prefix": "del ",
     "library": "var_list.py",
     "varRefreshCmd": "print(var_dic_list())"
    },
    "r": {
     "delete_cmd_postfix": ") ",
     "delete_cmd_prefix": "rm(",
     "library": "var_list.r",
     "varRefreshCmd": "cat(var_dic_list()) "
    }
   },
   "types_to_exclude": [
    "module",
    "function",
    "builtin_function_or_method",
    "instance",
    "_Feature"
   ],
   "window_display": false
  }
 },
 "nbformat": 4,
 "nbformat_minor": 2
}
