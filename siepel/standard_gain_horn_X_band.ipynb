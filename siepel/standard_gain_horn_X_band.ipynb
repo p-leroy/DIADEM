{
 "cells": [
  {
   "cell_type": "code",
   "execution_count": 1,
   "metadata": {},
   "outputs": [],
   "source": [
    "import configparser, os, sys\n",
    "\n",
    "import numpy as np\n",
    "import matplotlib.pyplot as plt\n",
    "from scipy.signal import kaiser\n",
    "\n",
    "sys.path.insert(0, \"/home/pleroy/DEV/DIADEM\")\n",
    "\n",
    "import toolsdiadem.tools as dia"
   ]
  },
  {
   "cell_type": "code",
   "execution_count": 2,
   "metadata": {},
   "outputs": [],
   "source": [
    "%matplotlib qt5\n",
    "%load_ext autoreload\n",
    "%autoreload 2"
   ]
  },
  {
   "cell_type": "code",
   "execution_count": 3,
   "metadata": {},
   "outputs": [],
   "source": [
    "dir_E = \"/home/pleroy/Documents/IETR/PoSAR-MC/X_band/DATASHEETS/ANT/Diagramme_antennes/bande X/E plane\"\n",
    "dir_H = \"/home/pleroy/Documents/IETR/PoSAR-MC/X_band/DATASHEETS/ANT/Diagramme_antennes/bande X/H plane\"\n",
    "root_dir = \"/home/pleroy/Documents/IETR/PoSAR-MC/X_band/DATASHEETS/ANT/Diagramme_antennes/bande X/\""
   ]
  },
  {
   "cell_type": "code",
   "execution_count": 4,
   "metadata": {},
   "outputs": [
    {
     "name": "stdout",
     "output_type": "stream",
     "text": [
      "data_dir: /home/pleroy/Documents/IETR/PoSAR-MC/X_band/DATASHEETS/ANT/Diagramme_antennes/bande X/E plane\n",
      "Nf = 26, Nstep = 2\n"
     ]
    }
   ],
   "source": [
    "Nf, Nstep = dia.get_Nf_Nstep(dir_E)"
   ]
  },
  {
   "cell_type": "code",
   "execution_count": 5,
   "metadata": {},
   "outputs": [
    {
     "name": "stdout",
     "output_type": "stream",
     "text": [
      "data_dir: /home/pleroy/Documents/IETR/PoSAR-MC/X_band/DATASHEETS/ANT/Diagramme_antennes/bande X/E plane\n",
      "Nf = 26, fmin = 8.0, fmax = 13.0\n"
     ]
    }
   ],
   "source": [
    "f = dia.getF(Nf, \"EvEh\", dir_E)"
   ]
  },
  {
   "cell_type": "code",
   "execution_count": 6,
   "metadata": {},
   "outputs": [
    {
     "name": "stdout",
     "output_type": "stream",
     "text": [
      "data_dir: /home/pleroy/Documents/IETR/PoSAR-MC/X_band/DATASHEETS/ANT/Diagramme_antennes/bande X/E plane\n",
      "Nstep 2 (polar), min 0.0, max 90.0\n",
      "data_dir: /home/pleroy/Documents/IETR/PoSAR-MC/X_band/DATASHEETS/ANT/Diagramme_antennes/bande X/H plane\n",
      "Nstep 2 (polar), min 0.0, max 90.0\n"
     ]
    }
   ],
   "source": [
    "stepE = dia.getStep(Nstep, \"EvEh\", dir_E)\n",
    "stepH = dia.getStep(Nstep, \"EvEh\", dir_H)"
   ]
  },
  {
   "cell_type": "code",
   "execution_count": 7,
   "metadata": {},
   "outputs": [
    {
     "data": {
      "text/plain": [
       "16"
      ]
     },
     "execution_count": 7,
     "metadata": {},
     "output_type": "execute_result"
    }
   ],
   "source": [
    "filename = \"/home/pleroy/Documents/IETR/PoSAR-MC/X_band/DATASHEETS/ANT/Diagramme_antennes/bande X/E plane/EvEh_000_000.amp\"\n",
    "dia.get_headerSize(filename)"
   ]
  },
  {
   "cell_type": "code",
   "execution_count": 8,
   "metadata": {},
   "outputs": [],
   "source": [
    "prefix_E_plane = \"/home/pleroy/Documents/IETR/PoSAR-MC/X_band/DATASHEETS/ANT/Diagramme_antennes/bande X/E plane/EvEh\"\n",
    "prefix_H_plane = \"/home/pleroy/Documents/IETR/PoSAR-MC/X_band/DATASHEETS/ANT/Diagramme_antennes/bande X/H plane/EvEh\""
   ]
  },
  {
   "cell_type": "code",
   "execution_count": 9,
   "metadata": {},
   "outputs": [
    {
     "name": "stdout",
     "output_type": "stream",
     "text": [
      "[.amp] Nscan 361 (azimuth), min -90.0, max 90.0, StepAxis polar, StepPosition 0.0\n"
     ]
    }
   ],
   "source": [
    "scan0, val0 = dia.get_scan_val(prefix_E_plane, 0, 0, \".amp\")\n",
    "scanAxis, stepAxis, stepPositiond = dia.get_axes(filename)"
   ]
  },
  {
   "cell_type": "code",
   "execution_count": 10,
   "metadata": {},
   "outputs": [],
   "source": [
    "Nscan = scan0.shape[0]"
   ]
  },
  {
   "cell_type": "code",
   "execution_count": 26,
   "metadata": {},
   "outputs": [
    {
     "name": "stdout",
     "output_type": "stream",
     "text": [
      "[.amp] 10.0 GHz, Nscan 361 (azimuth), min -90.0, max 90.0, StepAxis polar, StepPosition 0.0\n",
      "[.pha] 10.0 GHz, Nscan 361 (azimuth), min -90.0, max 90.0, StepAxis polar, StepPosition 0.0\n",
      "[.amp] 10.0 GHz, Nscan 361 (azimuth), min -90.0, max 90.0, StepAxis polar, StepPosition 90.0\n",
      "[.pha] 10.0 GHz, Nscan 361 (azimuth), min -90.0, max 90.0, StepAxis polar, StepPosition 90.0\n"
     ]
    }
   ],
   "source": [
    "amp_E_plane, pha_E_plane, freq = dia.getAmpPhaArrays(Nscan, Nstep, 10, prefix_E_plane)"
   ]
  },
  {
   "cell_type": "code",
   "execution_count": 27,
   "metadata": {},
   "outputs": [
    {
     "name": "stdout",
     "output_type": "stream",
     "text": [
      "[.amp] 10.0 GHz, Nscan 361 (azimuth), min -90.0, max 90.0, StepAxis polar, StepPosition 0.0\n",
      "[.pha] 10.0 GHz, Nscan 361 (azimuth), min -90.0, max 90.0, StepAxis polar, StepPosition 0.0\n",
      "[.amp] 10.0 GHz, Nscan 361 (azimuth), min -90.0, max 90.0, StepAxis polar, StepPosition 90.0\n",
      "[.pha] 10.0 GHz, Nscan 361 (azimuth), min -90.0, max 90.0, StepAxis polar, StepPosition 90.0\n"
     ]
    }
   ],
   "source": [
    "amp_H_plane, pha_H_plane, freq  = dia.getAmpPhaArrays(Nscan, Nstep, 10, prefix_H_plane)"
   ]
  },
  {
   "cell_type": "code",
   "execution_count": 35,
   "metadata": {},
   "outputs": [
    {
     "name": "stdout",
     "output_type": "stream",
     "text": [
      "save /home/pleroy/Documents/IETR/PoSAR-MC/X_band/DATASHEETS/ANT/Diagramme_antennes/bande X/10.0_step0_amp_pha_32GHz.data\n"
     ]
    }
   ],
   "source": [
    "step = 0\n",
    "dia.saveData(root_dir, (amp_E_plane, pha_E_plane), scan0, freq, step)"
   ]
  },
  {
   "cell_type": "code",
   "execution_count": 36,
   "metadata": {},
   "outputs": [],
   "source": [
    "maxE = np.amax(amp_E_plane)\n",
    "maxE_3dB = maxE - 3\n",
    "maxH = np.amax(amp_H_plane)\n",
    "maxH_3dB = maxH - 3"
   ]
  },
  {
   "cell_type": "code",
   "execution_count": 37,
   "metadata": {},
   "outputs": [],
   "source": [
    "fig, ax = plt.subplots(1, 1)\n",
    "ax.plot(scan0, amp_E_plane[0, :], label=f\"E plane, {stepAxis} {stepE[0]}\")\n",
    "ax.plot(scan0, amp_E_plane[1, :], label=f\"E plane, {stepAxis} {stepE[1]}\")\n",
    "ax.axhline(maxE_3dB, ls='-.', c='orange')\n",
    "ax.plot(scan0, amp_H_plane[0, :], label=f\"H plane, {stepAxis} {stepH[0]}\")\n",
    "ax.plot(scan0, amp_H_plane[1, :], label=f\"H plane, {stepAxis} {stepH[1]}\")\n",
    "ax.set_xlabel(scanAxis)\n",
    "ax.legend()\n",
    "ax.grid()"
   ]
  },
  {
   "cell_type": "code",
   "execution_count": 38,
   "metadata": {},
   "outputs": [],
   "source": [
    "def get_aperture_3dB(angle, dB):\n",
    "    maxdB = np.amax(dB)\n",
    "    _3dB = maxdB - 3\n",
    "    idx = np.where(dB - _3dB > 0)[0]\n",
    "    return angle[idx[-1]] - angle[idx[0]]"
   ]
  },
  {
   "cell_type": "code",
   "execution_count": 39,
   "metadata": {},
   "outputs": [],
   "source": [
    "aperture_E = get_aperture_3dB(scan0, amp_E_plane[1, :])\n",
    "aperture_H = get_aperture_3dB(scan0, amp_H_plane[0, :])"
   ]
  },
  {
   "cell_type": "code",
   "execution_count": 44,
   "metadata": {},
   "outputs": [],
   "source": [
    "fig, ax = plt.subplots(1, 1)\n",
    "ax.plot(scan0, amp_E_plane[1, :], label=f\"polarisation verticale / élévation (plan E)\\nouverture {aperture_E}°\")\n",
    "ax.axhline(maxE_3dB, ls='-.', c='C0')\n",
    "ax.set_xlabel(f\"{scanAxis} [°]\")\n",
    "ax.set_ylabel(\"[dB]\")\n",
    "ax.set_title(f\"Flann 16240-20-02, {freq} GHz\")\n",
    "ax.legend()\n",
    "ax.grid()"
   ]
  },
  {
   "cell_type": "code",
   "execution_count": 45,
   "metadata": {},
   "outputs": [],
   "source": [
    "fig, ax = plt.subplots(1, 1)\n",
    "ax.plot(scan0, amp_H_plane[0, :], label=f\"polarisation verticale / azimut (plan H)\\nouverture {aperture_H}°\")\n",
    "ax.axhline(maxH_3dB, ls='-.', c='C0')\n",
    "ax.set_xlabel(f\"{scanAxis} [°]\")\n",
    "ax.set_ylabel(\"[dB]\")\n",
    "ax.set_title(f\"Flann 16240-20-02, {freq} GHz\")\n",
    "ax.legend()\n",
    "ax.grid()"
   ]
  },
  {
   "cell_type": "code",
   "execution_count": null,
   "metadata": {},
   "outputs": [],
   "source": []
  }
 ],
 "metadata": {
  "kernelspec": {
   "display_name": "Python 3",
   "language": "python",
   "name": "python3"
  },
  "language_info": {
   "codemirror_mode": {
    "name": "ipython",
    "version": 3
   },
   "file_extension": ".py",
   "mimetype": "text/x-python",
   "name": "python",
   "nbconvert_exporter": "python",
   "pygments_lexer": "ipython3",
   "version": "3.8.5"
  }
 },
 "nbformat": 4,
 "nbformat_minor": 4
}
