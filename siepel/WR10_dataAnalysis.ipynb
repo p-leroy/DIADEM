{
 "cells": [
  {
   "cell_type": "markdown",
   "metadata": {},
   "source": [
    "# Init"
   ]
  },
  {
   "cell_type": "code",
   "execution_count": 1,
   "metadata": {},
   "outputs": [],
   "source": [
    "import numpy as np\n",
    "import matplotlib.pyplot as plt\n",
    "from scipy.signal import kaiser"
   ]
  },
  {
   "cell_type": "code",
   "execution_count": 2,
   "metadata": {},
   "outputs": [],
   "source": [
    "%matplotlib qt5"
   ]
  },
  {
   "cell_type": "code",
   "execution_count": 3,
   "metadata": {},
   "outputs": [],
   "source": [
    "import sys\n",
    "import os"
   ]
  },
  {
   "cell_type": "code",
   "execution_count": 4,
   "metadata": {},
   "outputs": [],
   "source": [
    "sys.path.insert(0, \"/home/pleroy/DEV/DIADEM\")\n",
    "import toolsdiadem.tools as dia\n",
    "import toolsdiadem.ser as ser\n",
    "sys.path.insert(0, \"/home/pleroy/DATA/DIADEM/SIEPEL/SER\")\n",
    "import wr15_wr10_dates"
   ]
  },
  {
   "cell_type": "code",
   "execution_count": 5,
   "metadata": {},
   "outputs": [],
   "source": [
    "%load_ext autoreload\n",
    "%autoreload 2"
   ]
  },
  {
   "cell_type": "code",
   "execution_count": 6,
   "metadata": {},
   "outputs": [],
   "source": [
    "cmap='jet'\n",
    "withPlots = 0\n",
    "center = 6500 # old value 6650\n",
    "width = 500   # old value 500\n",
    "withPlot = 0\n",
    "idxElevation = 18 # elevation correspondant au maximum releve avec la plaque support\n",
    "centerFreq = 92.5\n",
    "bandWidth = 17.4\n",
    "nb_elev = 41\n",
    "nb_freq = 2801\n",
    "nb_ssb  = 4\n",
    "elevation = np.linspace( 0.25, 1.05, nb_elev )\n",
    "applyCorrection = 1"
   ]
  },
  {
   "cell_type": "markdown",
   "metadata": {},
   "source": [
    "**190911** B\n",
    "\n",
    "**190912** F / G / AHP12 / C / D / J / E => Sonde d'illumination dans sa position par défaut (0° au lieu de -43.3°) pendant toutes les mesures.\n",
    "\n",
    "**190913** A / E / J / Jb / D / C => Polar CATR -43.3°\n",
    "\n",
    "**190916** AHP12 / G / M / L / R / U / U2 / K / I / H / O\n",
    "\n",
    "Axe élévation du positionneur non initialisé, toutes les mesures réalisées avec la même élévation.\n",
    "* possibilité d'utiliser les mesures du 190912 pour les absorbants AHP12 G\n",
    "* refaire les mesures pour les absorbants M L R U K I H O\n",
    "\n",
    "**190917** N / AHP45 / AHP30 / AHP9 / AHP30b\n",
    "\n",
    "**190918** F\n",
    "\n",
    "**190923** M / L / R / U_x / I_x / H_x => Mauvaise cal utilisée pour U_x, I_x et H_x\n",
    "\n",
    "**190925** K_x / O_x => Mauvaise cal utilisée pour K_x et O_x\n",
    "\n",
    "**Pour les mesures qui suivent: FI à -46.5MHz et step de 8.75MHz permettant d'éviter le point à 96GHz pendant la cal**\n",
    "\n",
    "**190926** R\n",
    "\n",
    "**190927** K / O / I / H / Support / A / E\n",
    "\n",
    "**190930** J / D / C / AHP12 / G / F / B / U / AHP30\n",
    "\n",
    "**191001** AHP9 / AHP45 / L / M / N / SupportMax\n",
    "\n",
    "**191002** Plaque / PlaqueRef\n",
    "\n",
    "**191004** Support_x / AHP12_x / Supportb_x / Supportc / AHP12b / AHP9 / AHP20 / AHP30 / AHP45\n",
    "\n",
    "Pour les x, le fichier de séquence utilisé était celui de la plaque de référence et pas celui de la plaque support."
   ]
  },
  {
   "cell_type": "code",
   "execution_count": 7,
   "metadata": {},
   "outputs": [],
   "source": [
    "base_path = \"/home/pleroy/DATA/DIADEM/SIEPEL/SER/WR10\"\n",
    "processing_path = \"/home/pleroy/DATA/DIADEM/SIEPEL/SER/WR10_processing\""
   ]
  },
  {
   "cell_type": "markdown",
   "metadata": {},
   "source": [
    "## Probe"
   ]
  },
  {
   "cell_type": "code",
   "execution_count": 8,
   "metadata": {},
   "outputs": [],
   "source": [
    "tmp = np.loadtxt( f\"{base_path}/190910/S11W_PROBE.s1p\", skiprows=5)\n",
    "S11_probe_a = ( 10 ** (0.05 * tmp[:,1]) ) * np.exp( 1j * np.pi / 180 * ( tmp[:,2] ) )\n",
    "S11_probe_a = S11_probe_a.conj()\n",
    "d = np.linspace( 0, 300 / ( tmp[1,0] - tmp[0,0] ), nb_freq ) * 0.5 * 1e9"
   ]
  },
  {
   "cell_type": "code",
   "execution_count": 11,
   "metadata": {},
   "outputs": [],
   "source": [
    "tmp = np.loadtxt(f\"{processing_path}/data/S11_probe_b.txt\", skiprows=1)\n",
    "S11_probe_b = tmp[:,1] + 1j * tmp[:,2]"
   ]
  },
  {
   "cell_type": "markdown",
   "metadata": {},
   "source": [
    "## Fond de chambre"
   ]
  },
  {
   "cell_type": "code",
   "execution_count": 13,
   "metadata": {},
   "outputs": [],
   "source": [
    "# THE DATA STORED AFTER PROCESSING ARE ALREADY CONJUGATED\n",
    "tmp = np.loadtxt(f\"{processing_path}/data/S11_fond_de_chambre_a.txt\", skiprows=1)\n",
    "S11_f2c_a = tmp[:,1] + 1j * tmp[:,2]\n",
    "tmp = np.loadtxt(f\"{processing_path}/data/S11_fond_de_chambre_b.txt\", skiprows=1)\n",
    "S11_f2c_b = tmp[:,1] + 1j * tmp[:,2]"
   ]
  },
  {
   "cell_type": "code",
   "execution_count": 14,
   "metadata": {},
   "outputs": [],
   "source": [
    "if 1:\n",
    "    fig, ax = plt.subplots(1,1)\n",
    "    plt.plot( ser.dB( np.fft.ifft( S11_f2c_a ) ), label=\"fond de chambre a\" )\n",
    "    plt.plot( ser.dB( np.fft.ifft( S11_f2c_b ) ), label=\"fond de chambre b\" )\n",
    "    plt.grid()\n",
    "    plt.legend()"
   ]
  },
  {
   "cell_type": "markdown",
   "metadata": {},
   "source": [
    "## Plaque de référence"
   ]
  },
  {
   "cell_type": "code",
   "execution_count": 15,
   "metadata": {},
   "outputs": [],
   "source": [
    "# THE DATA STORED AFTER PROCESSING ARE ALERADY CONJUGATED\n",
    "tmp = np.loadtxt(f\"{processing_path}/data/S11_plaque_ref_from_scan_a.txt\", skiprows=1)\n",
    "S11_plaque_a = tmp[:,1] + 1j * tmp[:,2]\n",
    "tmp = np.loadtxt(f\"{processing_path}/data/S11_plaque_ref_from_scan_b.txt\", skiprows=1)\n",
    "S11_plaque_b = tmp[:,1] + 1j * tmp[:,2]"
   ]
  },
  {
   "cell_type": "code",
   "execution_count": 16,
   "metadata": {},
   "outputs": [],
   "source": [
    "if 0:\n",
    "    fig, ax = plt.subplots(1,1)\n",
    "    plt.plot( ser.dB( np.fft.ifft( S11_plaque_a ) ), label=\"plaque_a\" )\n",
    "    plt.plot( ser.dB( np.fft.ifft( S11_f2c_a ) ), label=\"fond de chambre a\" )\n",
    "    plt.plot( ser.dB( np.fft.ifft( S11_f2c_b ) ), label=\"fond de chambre b\" )\n",
    "    plt.grid()\n",
    "    plt.legend()"
   ]
  },
  {
   "cell_type": "code",
   "execution_count": 17,
   "metadata": {},
   "outputs": [],
   "source": [
    "if 1:\n",
    "    fig, ax = plt.subplots(1,1)\n",
    "    ax.plot( d, ser.dB( np.fft.ifft( S11_plaque_a ) ), label=\"plaque_a\" )\n",
    "    ax.plot( d, ser.dB( np.fft.ifft( S11_f2c_a ) ), label=\"fond de chambre a\" )\n",
    "    ax.plot( d, ser.dB( np.fft.ifft( S11_probe_a ) ), label=\"probe_a\" )\n",
    "    ax.plot( d, ser.dB( np.fft.ifft( S11_plaque_a - S11_probe_a ) ), label=\"plaque_a - probe_a\" )\n",
    "    ax.plot( d, ser.dB( np.fft.ifft( S11_plaque_a - S11_f2c_a ) ), label=\"plaque_a - fond de chambre a\" )\n",
    "    ax.plot( d, ser.dB( np.fft.ifft( S11_plaque_a - S11_f2c_b ) ), label=\"plaque_a - fond de chambre b\" )\n",
    "    ax.grid()\n",
    "    ax.legend()\n",
    "    ax.set_xlabel(\"[m]\")\n",
    "    ax.set_ylabel(\"[dB]\")\n",
    "    ax.set_title( \"time domain\" )"
   ]
  },
  {
   "cell_type": "markdown",
   "metadata": {},
   "source": [
    "# Réflectivité\n",
    "ref: ser4siepel_multiband_scan_elev_Reflectivite.sce"
   ]
  },
  {
   "cell_type": "code",
   "execution_count": 18,
   "metadata": {},
   "outputs": [],
   "source": [
    "gate = ser.getWindow( d, center, width, id=\"llc\" )"
   ]
  },
  {
   "cell_type": "markdown",
   "metadata": {},
   "source": [
    "## Lecture des données"
   ]
  },
  {
   "cell_type": "code",
   "execution_count": 19,
   "metadata": {},
   "outputs": [],
   "source": [
    "idx96GHz = 1680"
   ]
  },
  {
   "cell_type": "code",
   "execution_count": 20,
   "metadata": {},
   "outputs": [],
   "source": [
    "def get_S11_FondDeChambre_S11_plaque( serie, f2cEN ):\n",
    "    if serie == \"a\":\n",
    "        if f2cEn:\n",
    "            S11_fondDeChambre = S11_f2c_a\n",
    "        else:\n",
    "            S11_fondDeChambre = S11_probe_a\n",
    "        S11_plaque = S11_plaque_a\n",
    "    elif serie == \"b\":\n",
    "        if f2cEn:\n",
    "            S11_fondDeChambre = S11_f2c_b\n",
    "        else:\n",
    "            S11_fondDeChambre = S11_probe_b\n",
    "        S11_plaque = S11_plaque_b\n",
    "    else:\n",
    "        print(\"specify a valid serie\")\n",
    "    return S11_fondDeChambre, S11_plaque"
   ]
  },
  {
   "cell_type": "code",
   "execution_count": 22,
   "metadata": {},
   "outputs": [],
   "source": [
    "f2cEn = 0\n",
    "\n",
    "if f2cEn:\n",
    "    suffix = \"\"\n",
    "else:\n",
    "    suffix = \"_pr\"\n",
    "\n",
    "serie, date, absorbant = wr15_wr10_dates.dictOfMeasurements[\"AHP12\"][3]\n",
    "data_dir = f\"{base_path}/{date}/{absorbant}\" \n",
    "freq_abs, S11 = ser.getData_ssb( nb_elev, nb_freq, nb_ssb, data_dir )\n",
    "if serie == \"a\":\n",
    "    S11_abs = S11.conj()\n",
    "elif serie == \"b\":\n",
    "    S11_abs = S11\n",
    "else:\n",
    "    print(\"specify a valid serie\")\n",
    "S11_fondDeChambre, S11_plaque = get_S11_FondDeChambre_S11_plaque( serie, f2cEn )"
   ]
  },
  {
   "cell_type": "markdown",
   "metadata": {},
   "source": [
    "## Calcul de la réflectivité"
   ]
  },
  {
   "cell_type": "code",
   "execution_count": null,
   "metadata": {},
   "outputs": [],
   "source": [
    "reflectivite = ser.getReflectivite( S11_abs, S11_plaque, S11_fondDeChambre, gate )"
   ]
  },
  {
   "cell_type": "code",
   "execution_count": null,
   "metadata": {},
   "outputs": [],
   "source": [
    "toPlot = np.zeros( ( nb_elev, nb_freq ) )\n",
    "gatebis  = 0.0 * gate\n",
    "gatebis[ np.where( np.abs( freq_abs - centerFreq ) < bandWidth ) ] = 1.0\n",
    "toPlot = 20 * np.log10( 1e-12 + np.abs( reflectivite * gatebis ) )\n",
    "\n",
    "valMin = -90\n",
    "toPlot = 0.5 * ( np.abs( toPlot - valMin ) + toPlot - valMin ) + valMin\n",
    "valMax = np.amax( toPlot )\n",
    "valMin = np.amin( toPlot )\n",
    "print( f\"valMax = {valMax:.2f} valMin = {valMin:.2f}\")\n",
    "\n",
    "fig, ax = plt.subplots( 1, 1 )\n",
    "im = plt.pcolormesh( elevation, np.flip( freq_abs ), np.rot90(toPlot), cmap=cmap )\n",
    "title = f\"Réflectivité absorbant {absorbant}, {date}, série {serie}\"\n",
    "ax.set_title(title)\n",
    "ax.set_xlabel( \"Elévation [°]\" )\n",
    "ax.set_ylabel( \"Fréquence [GHz]\" )\n",
    "dia.addColorBar(  im, ax, aspect='auto' )"
   ]
  },
  {
   "cell_type": "code",
   "execution_count": null,
   "metadata": {},
   "outputs": [],
   "source": [
    "descriptor = f\"{absorbant}_{date}\"\n",
    "filename = f\"{base_path}/processing/data_reflectivite{suffix}/reflectivite_{descriptor}{suffix}\"\n",
    "np.save( filename, reflectivite )"
   ]
  },
  {
   "cell_type": "code",
   "execution_count": null,
   "metadata": {},
   "outputs": [],
   "source": [
    "fig, ax = plt.subplots(1,1)\n",
    "ax.plot( freq_abs, toPlot[ idxElevation, : ] )\n",
    "ax.grid()\n",
    "title = f\"Réflectivité [{absorbant}]\"\n",
    "ax.set_title(title)\n",
    "ax.set_xlabel(\"f [GHz]\")\n",
    "ax.set_ylabel(\"réflectivité [dB]\")"
   ]
  },
  {
   "cell_type": "code",
   "execution_count": null,
   "metadata": {},
   "outputs": [],
   "source": [
    "if 0:\n",
    "    fig, ax = plt.subplots(1,1)\n",
    "    ax.plot(gatebis)"
   ]
  },
  {
   "cell_type": "code",
   "execution_count": null,
   "metadata": {},
   "outputs": [],
   "source": [
    "np.save( f\"{base_path}/processing/data/freq_WR10\", freq_abs )\n",
    "np.save( f\"{base_path}/processing/data/elevation_WR10\", elevation )"
   ]
  },
  {
   "cell_type": "markdown",
   "metadata": {},
   "source": [
    "# Tous les absorbants"
   ]
  },
  {
   "cell_type": "code",
   "execution_count": 26,
   "metadata": {},
   "outputs": [
    {
     "name": "stdout",
     "output_type": "stream",
     "text": [
      "a === 190913 === A\n",
      "b === 190927 === A\n",
      "a === 190911 === B\n",
      "b === 190930 === B\n",
      "a === 190912 === C\n",
      "a === 190913 === C\n",
      "b === 190930 === C\n",
      "a === 190912 === D\n",
      "a === 190913 === D\n",
      "b === 190930 === D\n",
      "a === 190912 === E\n",
      "a === 190913 === E\n",
      "b === 190927 === E\n",
      "a === 190912 === F\n",
      "a === 190918 === F\n",
      "b === 190930 === F\n",
      "a === 190912 === G\n",
      "b === 190930 === G\n",
      "b === 190927 === H\n",
      "b === 190927 === I\n",
      "a === 190912 === J\n",
      "a === 190913 === J\n",
      "a === 190913 === Jb\n",
      "b === 190930 === J\n",
      "b === 190927 === K\n",
      "a === 190923 === L\n",
      "b === 191001 === L\n",
      "a === 190923 === M\n",
      "b === 191001 === M\n",
      "a === 190917 === N\n",
      "b === 191001 === N\n",
      "b === 190927 === O\n",
      "b === 190930 === U\n",
      "a === 190917 === AHP9\n",
      "b === 191001 === AHP9\n",
      "b === 191004 === AHP9\n",
      "a === 190912 === AHP12\n",
      "b === 190930 === AHP12\n",
      "b === 191004 === AHP12b\n",
      "a === 190923 === R\n",
      "b === 190926 === R\n",
      "b === 191004 === AHP20\n",
      "a === 190917 === AHP30\n",
      "a === 190917 === AHP30b\n",
      "b === 190930 === AHP30\n",
      "b === 191004 === AHP30\n",
      "a === 190917 === AHP45\n",
      "b === 191001 === AHP45\n",
      "b === 191004 === AHP45\n"
     ]
    }
   ],
   "source": [
    "idx = np.where( np.abs( freq_abs - centerFreq ) < bandWidth )\n",
    "idxAlt = np.where( np.abs( freq_abs - centerFreq ) >= bandWidth )\n",
    "vmin = -90\n",
    "vmax = -40\n",
    "dic_stats = {}\n",
    "toPlot = np.zeros( ( nb_elev, nb_freq ) )\n",
    "myAbs = \"H\"\n",
    "myDict = {myAbs: wr15_wr10_dates.dictOfMeasurements[myAbs]}\n",
    "\n",
    "f2cEn = 1\n",
    "\n",
    "if f2cEn:\n",
    "    suffix = \"\"\n",
    "else:\n",
    "    suffix = \"_pr\"\n",
    "\n",
    "for item in wr15_wr10_dates.dictOfMeasurements.items(): # all => wr15_wr10_dates.dictOfMeasurements.items()\n",
    "    ref, tests = item\n",
    "    for test in tests:\n",
    "        serie, date, absorbant = test\n",
    "        data_dir = f\"{base_path}/{date}/{absorbant}\"\n",
    "        descriptor = f\"{absorbant}_{date}\"\n",
    "        if serie == \"-\":\n",
    "            pass\n",
    "        else:\n",
    "            freq_abs, S11 = ser.getData_ssb( nb_elev, nb_freq, nb_ssb, data_dir )\n",
    "            \n",
    "            if serie == \"a\":\n",
    "                S11_abs = S11.conj()\n",
    "                print(f\"{serie} === {date} === {absorbant}\")\n",
    "            elif serie == \"b\":\n",
    "                S11_abs = S11\n",
    "                print(f\"{serie} === {date} === {absorbant}\")\n",
    "            else:\n",
    "                print(f\"{serie} === {date} === {absorbant} === NOT PROCESSED\")\n",
    "            S11_fondDeChambre, S11_plaque = get_S11_FondDeChambre_S11_plaque( serie, f2cEn )\n",
    "            \n",
    "            #=============\n",
    "            # REFLECTIVITE\n",
    "            reflectivite = ser.getReflectivite( S11_abs, S11_plaque, S11_fondDeChambre, gate )\n",
    "            np.save( \n",
    "                f\"{processing_path}/data/reflectivite{suffix}/{descriptor}{suffix}\",\n",
    "                reflectivite \n",
    "            )\n",
    "    \n",
    "            # drop lower and higher frequencies values\n",
    "            toPlot[:,idx]    = 20 * np.log10( 1e-12 + np.abs( reflectivite[:,idx] ) )\n",
    "            toPlot[:,idxAlt] = -90\n",
    "\n",
    "            fig, ax = plt.subplots( 1, 1 )\n",
    "            im = ax.pcolormesh( elevation, np.flip( freq_abs ), np.rot90(toPlot), cmap=cmap, vmin=vmin, vmax=vmax )\n",
    "            title = f\"Réflectivité [{descriptor}]{suffix}\"\n",
    "            ax.set_title(title)\n",
    "            ax.set_xlabel( \"Elévation [°]\" )\n",
    "            ax.set_ylabel( \"Fréquence [GHz]\" )\n",
    "            dia.addColorBar(  im, ax, aspect='auto' )\n",
    "            fig.savefig(\n",
    "                f\"{processing_path}/plot/reflectivite{suffix}/reflectivite_{descriptor}{suffix}.png\"\n",
    "            )\n",
    "\n",
    "            #======\n",
    "            # STATS\n",
    "            valMax = np.amax( toPlot )\n",
    "            valMin = np.amin( toPlot )\n",
    "\n",
    "            absReflectivite   = np.abs( reflectivite )\n",
    "            reflectiviteMoy   = np.average( absReflectivite[:,idx] )\n",
    "            reflectiviteSigma = np.std( absReflectivite[:,idx] )\n",
    "\n",
    "            reflectiviteMoy_dB   = 20 * np.log10( np.abs( reflectiviteMoy ) )\n",
    "            reflectiviteSigma_dB = 20 * np.log10( np.abs( reflectiviteSigma ) )\n",
    "        \n",
    "            #==========\n",
    "            # HISTOGRAM\n",
    "            fig, ax = plt.subplots(1,1)\n",
    "            ax.hist((absReflectivite[:,idx]).flatten(), 50, label=\"histogramme (valeurs linéaires)\")\n",
    "            ax.grid()\n",
    "            title = f\"Réflectivité, histogramme [{descriptor}]{suffix}\"\n",
    "            ax.set_title(title)\n",
    "            ax.legend()\n",
    "            fig.savefig(\n",
    "                f\"{processing_path}/plot/hist{suffix}/hist_{descriptor}{suffix}.png\"\n",
    "            )\n",
    "        \n",
    "            #===========\n",
    "            # PLOT WRT F\n",
    "            fig, ax = plt.subplots(1,1)\n",
    "            ax.plot( freq_abs, toPlot[ idxElevation, : ] )\n",
    "            ax.grid()\n",
    "            title = f\"Réflectivité [{descriptor}]{suffix}\"\n",
    "            ax.set_title(title)\n",
    "            ax.set_xlabel(\"f [GHz]\")\n",
    "            ax.set_ylabel(\"réflectivité [dB]\")\n",
    "            fig.savefig(\n",
    "                f\"{processing_path}/plot/reflectivite_vs_f{suffix}/reflectivite_vs_f_{descriptor}{suffix}.png\"\n",
    "            )\n",
    "    \n",
    "            plt.close(\"all\")\n",
    "    \n",
    "            dic_stats[f\"{descriptor}\"] = (valMax, valMin, reflectiviteMoy, reflectiviteSigma, reflectiviteMoy_dB)"
   ]
  },
  {
   "cell_type": "code",
   "execution_count": 27,
   "metadata": {},
   "outputs": [
    {
     "name": "stdout",
     "output_type": "stream",
     "text": [
      "A_190913 -41.04 -107.96 0.002103 0.001727 -53.54\n",
      "A_190927 -39.22 -107.97 0.002174 0.001887 -53.26\n",
      "B_190911 -52.80 -111.76 0.000458 0.000263 -66.79\n",
      "B_190930 -52.44 -122.23 0.000497 0.000262 -66.08\n",
      "C_190912 -53.92 -117.26 0.000681 0.000420 -63.34\n",
      "C_190913 -52.96 -110.93 0.000794 0.000404 -62.01\n",
      "C_190930 -49.38 -106.13 0.001140 0.000486 -58.86\n",
      "D_190912 -56.05 -120.12 0.000312 0.000173 -70.12\n",
      "D_190913 -55.54 -120.31 0.000349 0.000212 -69.15\n",
      "D_190930 -52.65 -124.11 0.000349 0.000225 -69.13\n",
      "E_190912 -55.60 -115.58 0.000391 0.000248 -68.15\n",
      "E_190913 -53.98 -112.85 0.000557 0.000349 -65.09\n",
      "E_190927 -53.30 -116.91 0.000596 0.000333 -64.50\n",
      "F_190912 -55.56 -117.38 0.000447 0.000216 -67.00\n",
      "F_190918 -48.59 -115.14 0.000432 0.000229 -67.29\n",
      "F_190930 -53.53 -120.34 0.000359 0.000177 -68.91\n",
      "G_190912 -53.44 -118.49 0.000459 0.000264 -66.77\n",
      "G_190930 -52.11 -114.77 0.000533 0.000242 -65.46\n",
      "H_190927 -52.07 -121.96 0.000657 0.000546 -63.65\n",
      "I_190927 -52.99 -114.53 0.000643 0.000366 -63.84\n",
      "J_190912 -55.08 -119.39 0.000292 0.000156 -70.68\n",
      "J_190913 -53.97 -119.19 0.000340 0.000189 -69.38\n",
      "Jb_190913 -54.26 -123.97 0.000347 0.000194 -69.19\n",
      "J_190930 -47.82 -120.01 0.000366 0.000206 -68.73\n",
      "K_190927 -54.43 -131.04 0.000256 0.000147 -71.83\n",
      "L_190923 -50.36 -126.00 0.000374 0.000216 -68.54\n",
      "L_191001 -53.12 -121.09 0.000318 0.000181 -69.94\n",
      "M_190923 -50.64 -116.39 0.000298 0.000200 -70.52\n",
      "M_191001 -54.10 -117.32 0.000275 0.000162 -71.20\n",
      "N_190917 -55.98 -126.66 0.000256 0.000145 -71.82\n",
      "N_191001 -53.00 -116.85 0.000285 0.000174 -70.89\n",
      "O_190927 -54.04 -118.47 0.000287 0.000161 -70.84\n",
      "U_190930 -45.87 -90.00 0.002587 0.000449 -51.75\n",
      "AHP9_190917 -47.67 -111.89 0.001408 0.000688 -57.03\n",
      "AHP9_191001 -48.74 -105.56 0.001191 0.000490 -58.48\n",
      "AHP9_191004 -49.28 -113.27 0.001118 0.000408 -59.03\n",
      "AHP12_190912 -48.72 -90.00 0.002022 0.000423 -53.88\n",
      "AHP12_190930 -47.25 -90.00 0.002695 0.000421 -51.39\n",
      "AHP12b_191004 -49.36 -110.84 0.000891 0.000419 -61.00\n",
      "R_190923 -48.59 -90.00 0.001130 0.000187 -58.94\n",
      "R_190926 -50.98 -90.20 0.001148 0.000206 -58.80\n",
      "AHP20_191004 -49.12 -90.00 0.001159 0.000232 -58.72\n",
      "AHP30_190917 -54.79 -127.48 0.000284 0.000209 -70.93\n",
      "AHP30b_190917 -57.09 -131.42 0.000196 0.000126 -74.15\n",
      "AHP30_190930 -52.98 -137.22 0.000395 0.000196 -68.06\n",
      "AHP30_191004 -53.63 -132.28 0.000238 0.000147 -72.45\n",
      "AHP45_190917 -54.50 -116.25 0.000320 0.000167 -69.90\n",
      "AHP45_191001 -53.43 -115.72 0.000295 0.000165 -70.60\n",
      "AHP45_191004 -52.98 -122.72 0.000359 0.000196 -68.89\n"
     ]
    }
   ],
   "source": [
    "for absorbant in dic_stats.keys():\n",
    "    stats = dic_stats[absorbant]\n",
    "    print(f\"{absorbant} {stats[0]:.2f} {stats[1]:.2f} {stats[2]:.6f} {stats[3]:.6f} {stats[4]:.2f}\")"
   ]
  },
  {
   "cell_type": "markdown",
   "metadata": {},
   "source": [
    "# Remove all"
   ]
  },
  {
   "cell_type": "code",
   "execution_count": null,
   "metadata": {},
   "outputs": [],
   "source": [
    "for root, dirs, files in os.walk(f\"{base_path}/processing\"):\n",
    "    for f in files:\n",
    "        if f.endswith(\".png\") or f.endswith(\".npy\"):\n",
    "            os.remove(os.path.join(root, f)) # remove or unlink does the same"
   ]
  },
  {
   "cell_type": "code",
   "execution_count": null,
   "metadata": {},
   "outputs": [],
   "source": [
    "os.walk(f\"{base_path}/processing\")"
   ]
  },
  {
   "cell_type": "markdown",
   "metadata": {},
   "source": [
    "# getAzSlRoElPolFFPolCATR"
   ]
  },
  {
   "cell_type": "code",
   "execution_count": null,
   "metadata": {},
   "outputs": [],
   "source": [
    "el = ser.getAzSlRoElPolFFPolCATR( \"/home/pleroy/DATA/DIADEM/SIEPEL/SER/WR10/190910/Plaque\" )[:,3]\n",
    "print(f\"elevation goes from {np.amin(el)} to {np.amax(el)}\")"
   ]
  },
  {
   "cell_type": "code",
   "execution_count": null,
   "metadata": {},
   "outputs": [],
   "source": []
  }
 ],
 "metadata": {
  "kernelspec": {
   "display_name": "Python 3",
   "language": "python",
   "name": "python3"
  },
  "language_info": {
   "codemirror_mode": {
    "name": "ipython",
    "version": 3
   },
   "file_extension": ".py",
   "mimetype": "text/x-python",
   "name": "python",
   "nbconvert_exporter": "python",
   "pygments_lexer": "ipython3",
   "version": "3.7.3"
  },
  "toc": {
   "base_numbering": 1,
   "nav_menu": {},
   "number_sections": true,
   "sideBar": true,
   "skip_h1_title": false,
   "title_cell": "Table of Contents",
   "title_sidebar": "Contents",
   "toc_cell": false,
   "toc_position": {
    "height": "calc(100% - 180px)",
    "left": "10px",
    "top": "150px",
    "width": "253.4px"
   },
   "toc_section_display": true,
   "toc_window_display": true
  },
  "varInspector": {
   "cols": {
    "lenName": 16,
    "lenType": 16,
    "lenVar": 40
   },
   "kernels_config": {
    "python": {
     "delete_cmd_postfix": "",
     "delete_cmd_prefix": "del ",
     "library": "var_list.py",
     "varRefreshCmd": "print(var_dic_list())"
    },
    "r": {
     "delete_cmd_postfix": ") ",
     "delete_cmd_prefix": "rm(",
     "library": "var_list.r",
     "varRefreshCmd": "cat(var_dic_list()) "
    }
   },
   "types_to_exclude": [
    "module",
    "function",
    "builtin_function_or_method",
    "instance",
    "_Feature"
   ],
   "window_display": false
  }
 },
 "nbformat": 4,
 "nbformat_minor": 2
}
