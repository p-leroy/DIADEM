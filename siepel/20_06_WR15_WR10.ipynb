{
 "cells": [
  {
   "cell_type": "code",
   "execution_count": 1,
   "metadata": {},
   "outputs": [],
   "source": [
    "import sys, os\n",
    "import numpy as np\n",
    "import matplotlib.pyplot as plt\n",
    "\n",
    "config = \"bruz\"\n",
    "if config == \"ur1\":\n",
    "    sys.path.insert(0, \"../\")\n",
    "    siepelDir = \"C:/Users/pleroy/Documents/CAMILL/SER/WR15_v2\"\n",
    "elif config == \"bruz\":\n",
    "    sys.path.insert(0, \"/home/pleroy/DEV/DIADEM\")\n",
    "    siepelDir = \"/home/pleroy/DATA/CAMILL/WR15_v2\"\n",
    "\n",
    "import toolsdiadem.tools as dia\n",
    "import toolsdiadem.ser as ser\n",
    "from toolsdiadem.ConfigSer2 import ConfigSer2"
   ]
  },
  {
   "cell_type": "code",
   "execution_count": 2,
   "metadata": {},
   "outputs": [],
   "source": [
    "#%matplotlib qt5\n",
    "%load_ext autoreload\n",
    "%autoreload 2"
   ]
  },
  {
   "cell_type": "code",
   "execution_count": 3,
   "metadata": {},
   "outputs": [],
   "source": [
    "cmap = 'jet'\n",
    "conf15 = ConfigSer2(os.path.join(siepelDir, \"wr15.ini\"))\n",
    "conf10 = ConfigSer2(os.path.join(siepelDir, \"wr10.ini\"))\n",
    "vmin = conf10.vmin\n",
    "vmax = conf10.vmax"
   ]
  },
  {
   "cell_type": "code",
   "execution_count": 4,
   "metadata": {},
   "outputs": [],
   "source": [
    "dirWR15 = f\"{conf15.out_path}/data\"\n",
    "dirWR10 = f\"{conf10.out_path}/data\"\n",
    "prefix = f\"{conf10.base_path}/processing/wr15_wr10/\""
   ]
  },
  {
   "cell_type": "code",
   "execution_count": 5,
   "metadata": {},
   "outputs": [],
   "source": [
    "freq_WR15 = np.load( f\"{dirWR15}/freq_WR15.npy\" )\n",
    "freq_WR10 = np.load( f\"{dirWR10}/freq_WR10.npy\" )\n",
    "elevation_WR15 = np.load( f\"{dirWR15}/elevation_WR15.npy\" )\n",
    "elevation_WR10 = np.load( f\"{dirWR10}/elevation_WR10.npy\" )"
   ]
  },
  {
   "cell_type": "markdown",
   "metadata": {},
   "source": [
    "# Compare WR15 / WR10"
   ]
  },
  {
   "cell_type": "code",
   "execution_count": 6,
   "metadata": {},
   "outputs": [],
   "source": [
    "dictOfMeasurements = {\n",
    "    \"A\": ((\"20200701\", \"000_A\"), (\"20200709\", \"036_A\")),\n",
    "    \"C\": ((\"20200701\", \"001_C\"), (\"20200709\", \"037_C\")),\n",
    "    \"E\": ((\"20200701\", \"002_E\"), (\"20200715\", \"038_E\")),\n",
    "    \"W\": ((\"20200701\", \"003_W\"), (\"20200715\", \"040_W_v2\")), # (\"20200715\", \"039_W_u\")\n",
    "    \"V\": ((\"20200701\", \"004_V\"), (\"20200715\", \"041_V\")),\n",
    "    \"G\": ((\"20200701\", \"005_G\"), (\"20200715\", \"042_G\")),\n",
    "    \"L\": ((\"20200703\", \"006_L\"), (\"20200715\", \"043_L\")),\n",
    "    \"M\": ((\"20200703\", \"007_M\"), (\"20200715\", \"044_M\")),\n",
    "    \"X\": ((\"20200703\", \"008_X\"), (\"20200715\", \"045_X\")),\n",
    "    \"H\": ((\"20200703\", \"009_H\"), (\"20200716\", \"051_H\")),\n",
    "    \"I\": ((\"20200703\", \"010_I\"), (\"20200716\", \"050_I\")),\n",
    "    \"K\": ((\"20200703\", \"011_K\"), (\"20200715\", \"048_K\")),\n",
    "    \"J\": ((\"20200703\", \"012_J\"), (\"20200716\", \"049_J\")),\n",
    "    \"O\": ((\"20200703\", \"013_O\"), (\"20200715\", \"046_O\")),\n",
    "    \"N\": ((\"20200703\", \"014_N\"), (\"20200715\", \"047_N\")),\n",
    "    \"AA\": ((\"20200703\", \"015_AA\"), (\"20200716\", \"053_AA\")),\n",
    "    \"Y\": ((\"20200703\", \"016_Y\"), (\"20200716\", \"054_Y\")),\n",
    "    \"AB\": ((\"20200703\", \"017_AB\"), (\"20200716\", \"052_AB\")),\n",
    "    \"Z\": ((\"20200703\", \"018_Z\"), (\"20200716\", \"055_Z\")),\n",
    "    \"AC\": ((\"20200819\", \"065_AC\"), (\"20200818\", \"060_AC\")),\n",
    "    \"AD\": ((\"20200819\", \"066_AD\"), (\"20200818\", \"061_AD\")),\n",
    "}\n",
    "\n",
    "wr15_to_wr10_date = 20200709\n",
    "wr10_to_wr15_date = 20200818"
   ]
  },
  {
   "cell_type": "code",
   "execution_count": 7,
   "metadata": {},
   "outputs": [
    {
     "data": {
      "image/png": "[encoded data removed]",
      "text/plain": [
       "<Figure size 432x288 with 1 Axes>"
      ]
     },
     "metadata": {
      "needs_background": "light"
     },
     "output_type": "display_data"
    }
   ],
   "source": [
    "fig, ax = plt.subplots(1,1)\n",
    "title = prefix\n",
    "\n",
    "getMax = 0\n",
    "\n",
    "for myAbs in dictOfMeasurements[\"A\"]:\n",
    "    date, absorbant = myAbs\n",
    "    if int(date) < wr15_to_wr10_date or int(date) > wr10_to_wr15_date:\n",
    "        # this is a WR15 measurement\n",
    "        iWR15 = conf15.idxElevation\n",
    "        reflectivite = np.load( f\"{dirWR15}/reflectivite/{absorbant}_{date}.npy\" )\n",
    "        toPlot = reflectivite[iWR15, :]\n",
    "        if getMax:\n",
    "            toPlot = np.amax(np.abs(reflectivite), axis=0)\n",
    "        ax.plot( freq_WR15, ser.dB( toPlot ), \n",
    "                label = f\"WR15, {absorbant}, {date}, elevation = {elevation_WR15[iWR15]:.2f}\" )\n",
    "    else:\n",
    "        # this is a WR10 measurement\n",
    "        iWR10 = conf10.idxElevation\n",
    "        reflectivite = np.load( f\"{dirWR10}/reflectivite/{absorbant}_{date}.npy\" )  \n",
    "        toPlot = reflectivite[iWR10, :]\n",
    "        if getMax:\n",
    "            toPlot = np.amax(np.abs(reflectivite), axis=0)\n",
    "        ax.plot( freq_WR10, ser.dB( toPlot ), \n",
    "                label = f\"WR10, {absorbant}, {date}, elevation = {elevation_WR10[iWR10]:.2f}\" )\n",
    "    if title == prefix:\n",
    "        if getMax:\n",
    "            title = prefix + f\"max/{absorbant}_{date}\"\n",
    "        else:\n",
    "            title = prefix + f\"{absorbant}_{date}\"\n",
    "    else:\n",
    "        title = title + f\"_{absorbant}_{date}\"\n",
    "\n",
    "ax.legend()\n",
    "ax.grid()\n",
    "ax.set_xlabel(\"[GHz]\")\n",
    "ax.set_ylabel(\"[dB]\")\n",
    "ax.set_title(f\"Réflectivité\")\n",
    "if getMax:\n",
    "    title += \"_max\"\n",
    "fig.savefig(f\"{title}.png\")"
   ]
  },
  {
   "cell_type": "markdown",
   "metadata": {},
   "source": [
    "# Compare all"
   ]
  },
  {
   "cell_type": "code",
   "execution_count": 8,
   "metadata": {},
   "outputs": [],
   "source": [
    "for root, dirs, files in os.walk(prefix):\n",
    "    for f in files:\n",
    "        if f.endswith(\".png\"):\n",
    "            os.remove(os.path.join(root, f)) # remove or unlink does the same"
   ]
  },
  {
   "cell_type": "code",
   "execution_count": 9,
   "metadata": {},
   "outputs": [
    {
     "name": "stdout",
     "output_type": "stream",
     "text": [
      "A, 2 measurements\n",
      "C, 2 measurements\n",
      "E, 2 measurements\n",
      "W, 2 measurements\n",
      "V, 2 measurements\n",
      "G, 2 measurements\n",
      "L, 2 measurements\n",
      "M, 2 measurements\n",
      "X, 2 measurements\n",
      "H, 2 measurements\n",
      "I, 2 measurements\n",
      "K, 2 measurements\n",
      "J, 2 measurements\n",
      "O, 2 measurements\n",
      "N, 2 measurements\n",
      "AA, 2 measurements\n",
      "Y, 2 measurements\n",
      "AB, 2 measurements\n",
      "Z, 2 measurements\n",
      "AC, 2 measurements\n",
      "AD, 2 measurements\n"
     ]
    },
    {
     "data": {
      "image/png": "[encoded data removed]",
      "text/plain": [
       "<Figure size 432x288 with 1 Axes>"
      ]
     },
     "metadata": {
      "needs_background": "light"
     },
     "output_type": "display_data"
    }
   ],
   "source": [
    "fig, ax = plt.subplots(1,1)\n",
    "\n",
    "getMax = 1\n",
    "\n",
    "for item in dictOfMeasurements.items():\n",
    "    ref, tests = item\n",
    "    title = prefix\n",
    "    fig, ax = plt.subplots(1,1)\n",
    "    print(f\"{ref}, {len(tests)} measurements\")\n",
    "    for test in tests:\n",
    "        date, absorbant = test\n",
    "        if int(date) < wr15_to_wr10_date or int(date) > wr10_to_wr15_date:\n",
    "            # this is a WR15 measurement\n",
    "            iWR15 = conf15.idxElevation\n",
    "            reflectivite = np.load( f\"{dirWR15}/reflectivite/{absorbant}_{date}.npy\" )\n",
    "            toPlot = reflectivite[iWR15, :]\n",
    "            if getMax:\n",
    "                toPlot = np.amax(np.abs(reflectivite), axis=0)\n",
    "            ax.plot( freq_WR15, ser.dB( toPlot ), \n",
    "                    label = f\"WR15, {absorbant}, {date}, elevation = {elevation_WR15[iWR15]:.2f}\" )\n",
    "        else:\n",
    "            # this is a WR10 measurement\n",
    "            iWR10 = conf10.idxElevation\n",
    "            reflectivite = np.load( f\"{dirWR10}/reflectivite/{absorbant}_{date}.npy\" )    \n",
    "            toPlot = reflectivite[iWR10, :]\n",
    "            if getMax:\n",
    "                toPlot = np.amax(np.abs(reflectivite), axis=0)\n",
    "            ax.plot( freq_WR10, ser.dB( toPlot ), \n",
    "                    label = f\"WR10, {absorbant}, {date}, elevation = {elevation_WR10[iWR10]:.2f}\" )\n",
    "        if getMax:\n",
    "            title = prefix + f\"max/{absorbant}_{date}\"\n",
    "        else:\n",
    "            title = prefix + f\"elev_i/{absorbant}_{date}\"\n",
    "    ax.legend()\n",
    "    ax.grid()\n",
    "    ax.set_xlabel(\"[GHz]\")\n",
    "    ax.set_ylabel(\"[dB]\")\n",
    "    ax.set_title(f\"Réflectivité\")\n",
    "    if getMax:\n",
    "        title += \"_max\"\n",
    "    fig.savefig(f\"{title}.png\")\n",
    "    plt.close()"
   ]
  },
  {
   "cell_type": "markdown",
   "metadata": {},
   "source": [
    "# Plot cmap"
   ]
  },
  {
   "cell_type": "markdown",
   "metadata": {},
   "source": [
    "## One"
   ]
  },
  {
   "cell_type": "code",
   "execution_count": 11,
   "metadata": {},
   "outputs": [
    {
     "data": {
      "image/png": "[encoded data removed]",
      "text/plain": [
       "<Figure size 432x288 with 2 Axes>"
      ]
     },
     "metadata": {
      "needs_background": "light"
     },
     "output_type": "display_data"
    }
   ],
   "source": [
    "fig, ax = plt.subplots(1,1)\n",
    "# wr15\n",
    "idxWR15 = np.where(np.abs(freq_WR15 - conf15.centerFreq) < conf15.bandWidth)\n",
    "idxAltWR15 = np.where(np.abs(freq_WR15 - conf15.centerFreq) >= conf15.bandWidth)\n",
    "# wr10\n",
    "idxWR10 = np.where(np.abs(freq_WR10 - conf10.centerFreq) < conf10.bandWidth)\n",
    "idxAltWR10 = np.where(np.abs(freq_WR10 - conf10.centerFreq) >= conf10.bandWidth)\n",
    "\n",
    "refAbs = \"A\"\n",
    "meas0 = dictOfMeasurements[refAbs][0]\n",
    "meas1 = dictOfMeasurements[refAbs][-1]\n",
    "\n",
    "for meas in meas0, meas1:\n",
    "    date, absorbant = meas\n",
    "    if int(date) < wr15_to_wr10_date or int(date) > wr10_to_wr15_date:\n",
    "        # this is a WR15 measurement\n",
    "        reflectivite = np.load( f\"{dirWR15}/reflectivite/{absorbant}_{date}.npy\" )\n",
    "        # drop lower and higher frequencies values\n",
    "        toPlot = np.zeros(reflectivite.shape)\n",
    "        toPlot[:,idxWR15]    = 20 * np.log10( 1e-12 + np.abs( reflectivite[:,idxWR15] ) )\n",
    "        toPlot[:,idxAltWR15] = np.nan\n",
    "        im = ax.pcolormesh(elevation_WR15, np.flip( freq_WR15 ), np.rot90(toPlot), cmap=cmap, vmin=vmin, vmax=vmax, shading='auto')\n",
    "    else:\n",
    "        # this is a WR10 measurement\n",
    "        reflectivite = np.load( f\"{dirWR10}/reflectivite/{absorbant}_{date}.npy\" ) \n",
    "        # drop lower and higher frequencies values\n",
    "        toPlot = np.zeros(reflectivite.shape)\n",
    "        toPlot[:,idxWR10]    = 20 * np.log10( 1e-12 + np.abs( reflectivite[:,idxWR10] ) )\n",
    "        toPlot[:,idxAltWR10] = np.nan\n",
    "        im = ax.pcolormesh(elevation_WR10, np.flip( freq_WR10 ), np.rot90(toPlot), cmap=cmap, vmin=vmin, vmax=vmax, shading='auto')\n",
    "    \n",
    "title = f\"Réflectivité {refAbs}: {meas0[1]} / {meas1[1]}\"\n",
    "ax.set_title(title)\n",
    "ax.set_xlabel( \"Elévation [°]\" )\n",
    "ax.set_ylabel( \"Fréquence [GHz]\" )\n",
    "dia.addColorBar(  im, ax, aspect='auto' )\n",
    "fig.savefig(f\"{prefix}/pcolormesh/reflectivite_{refAbs}.png\")"
   ]
  },
  {
   "cell_type": "markdown",
   "metadata": {},
   "source": [
    "## All"
   ]
  },
  {
   "cell_type": "code",
   "execution_count": 13,
   "metadata": {},
   "outputs": [
    {
     "name": "stdout",
     "output_type": "stream",
     "text": [
      "000_A_20200701\n",
      "036_A_20200709\n",
      "001_C_20200701\n",
      "037_C_20200709\n",
      "002_E_20200701\n",
      "038_E_20200715\n",
      "003_W_20200701\n",
      "040_W_v2_20200715\n",
      "004_V_20200701\n",
      "041_V_20200715\n",
      "005_G_20200701\n",
      "042_G_20200715\n",
      "006_L_20200703\n",
      "043_L_20200715\n",
      "007_M_20200703\n",
      "044_M_20200715\n",
      "008_X_20200703\n",
      "045_X_20200715\n",
      "009_H_20200703\n",
      "051_H_20200716\n",
      "010_I_20200703\n",
      "050_I_20200716\n",
      "011_K_20200703\n",
      "048_K_20200715\n",
      "012_J_20200703\n",
      "049_J_20200716\n",
      "013_O_20200703\n",
      "046_O_20200715\n",
      "014_N_20200703\n",
      "047_N_20200715\n",
      "015_AA_20200703\n",
      "053_AA_20200716\n",
      "016_Y_20200703\n",
      "054_Y_20200716\n",
      "017_AB_20200703\n",
      "052_AB_20200716\n",
      "018_Z_20200703\n",
      "055_Z_20200716\n",
      "065_AC_20200819\n",
      "060_AC_20200818\n",
      "066_AD_20200819\n",
      "061_AD_20200818\n"
     ]
    }
   ],
   "source": [
    "idxWR15 = np.where(np.abs(freq_WR15 - conf15.centerFreq) < conf15.bandWidth)\n",
    "idxAltWR15 = np.where(np.abs(freq_WR15 - conf15.centerFreq) >= conf15.bandWidth)\n",
    "\n",
    "idxWR10 = np.where(np.abs(freq_WR10 - conf10.centerFreq) < conf10.bandWidth)\n",
    "idxAltWR10 = np.where(np.abs(freq_WR10 - conf10.centerFreq) >= conf10.bandWidth)\n",
    "\n",
    "for refAbs in dictOfMeasurements.keys():\n",
    "    fig, ax = plt.subplots(1,1)\n",
    "    meas0 = dictOfMeasurements[refAbs][0]\n",
    "    meas1 = dictOfMeasurements[refAbs][-1]\n",
    "    for meas in meas0, meas1:\n",
    "        date, absorbant = meas\n",
    "        print(f\"{absorbant}_{date}\")\n",
    "        if int(date) < wr15_to_wr10_date or int(date) > wr10_to_wr15_date:\n",
    "            # this is a WR15 measurement\n",
    "            reflectivite = np.load( f\"{dirWR15}/reflectivite/{absorbant}_{date}.npy\" )\n",
    "            # drop lower and higher frequencies values\n",
    "            toPlot = np.zeros(reflectivite.shape)\n",
    "            toPlot[:,idxWR15]    = 20 * np.log10( 1e-12 + np.abs( reflectivite[:,idxWR15] ) )\n",
    "            toPlot[:,idxAltWR15] = np.nan\n",
    "            im = ax.pcolormesh( elevation_WR15, np.flip( freq_WR15 ), np.rot90(toPlot), cmap=cmap, vmin=vmin, vmax=vmax, shading='auto')\n",
    "        else:\n",
    "            # this is a WR10 measurement\n",
    "            reflectivite = np.load( f\"{dirWR10}/reflectivite/{absorbant}_{date}.npy\" ) \n",
    "            # drop lower and higher frequencies values\n",
    "            toPlot = np.zeros(reflectivite.shape)\n",
    "            toPlot[:,idxWR10]    = 20 * np.log10( 1e-12 + np.abs( reflectivite[:,idxWR10] ) )\n",
    "            toPlot[:,idxAltWR10] = np.nan\n",
    "            im = ax.pcolormesh( elevation_WR10, np.flip( freq_WR10 ), np.rot90(toPlot), cmap=cmap, vmin=vmin, vmax=vmax, shading='auto')\n",
    "    \n",
    "    title = f\"Réflectivité {refAbs}: {meas0[1]} / {meas1[1]}\"\n",
    "    ax.set_title(title)\n",
    "    ax.set_xlabel( \"Elévation [°]\" )\n",
    "    ax.set_ylabel( \"Fréquence [GHz]\" )\n",
    "    dia.addColorBar(  im, ax, aspect='auto' )\n",
    "    fig.savefig(f\"{prefix}/pcolormesh/reflectivite_{refAbs}.png\")\n",
    "    plt.close()"
   ]
  },
  {
   "cell_type": "markdown",
   "metadata": {},
   "source": [
    "# Remove all"
   ]
  },
  {
   "cell_type": "code",
   "execution_count": null,
   "metadata": {},
   "outputs": [],
   "source": [
    "for root, dirs, files in os.walk(f\"{prefix}\"):\n",
    "    for f in files:\n",
    "        if f.endswith(\".png\") or f.endswith(\".npy\"):\n",
    "            os.remove(os.path.join(root, f)) # remove or unlink does the same"
   ]
  },
  {
   "cell_type": "code",
   "execution_count": 14,
   "metadata": {},
   "outputs": [
    {
     "data": {
      "text/plain": [
       "'/home/pleroy/DATA/CAMILL/WR15_v2/processing/wr15_wr10/'"
      ]
     },
     "execution_count": 14,
     "metadata": {},
     "output_type": "execute_result"
    }
   ],
   "source": [
    "prefix"
   ]
  },
  {
   "cell_type": "code",
   "execution_count": null,
   "metadata": {},
   "outputs": [],
   "source": []
  }
 ],
 "metadata": {
  "kernelspec": {
   "display_name": "Python 3",
   "language": "python",
   "name": "python3"
  },
  "language_info": {
   "codemirror_mode": {
    "name": "ipython",
    "version": 3
   },
   "file_extension": ".py",
   "mimetype": "text/x-python",
   "name": "python",
   "nbconvert_exporter": "python",
   "pygments_lexer": "ipython3",
   "version": "3.9.0"
  },
  "toc": {
   "base_numbering": 1,
   "nav_menu": {},
   "number_sections": true,
   "sideBar": true,
   "skip_h1_title": false,
   "title_cell": "Table of Contents",
   "title_sidebar": "Contents",
   "toc_cell": false,
   "toc_position": {},
   "toc_section_display": true,
   "toc_window_display": true
  },
  "varInspector": {
   "cols": {
    "lenName": 16,
    "lenType": 16,
    "lenVar": 40
   },
   "kernels_config": {
    "python": {
     "delete_cmd_postfix": "",
     "delete_cmd_prefix": "del ",
     "library": "var_list.py",
     "varRefreshCmd": "print(var_dic_list())"
    },
    "r": {
     "delete_cmd_postfix": ") ",
     "delete_cmd_prefix": "rm(",
     "library": "var_list.r",
     "varRefreshCmd": "cat(var_dic_list()) "
    }
   },
   "types_to_exclude": [
    "module",
    "function",
    "builtin_function_or_method",
    "instance",
    "_Feature"
   ],
   "window_display": false
  }
 },
 "nbformat": 4,
 "nbformat_minor": 4
}
