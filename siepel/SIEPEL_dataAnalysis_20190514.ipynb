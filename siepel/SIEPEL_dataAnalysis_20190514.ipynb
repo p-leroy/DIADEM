{
 "cells": [
  {
   "cell_type": "markdown",
   "metadata": {},
   "source": [
    "# Init"
   ]
  },
  {
   "cell_type": "code",
   "execution_count": null,
   "metadata": {},
   "outputs": [],
   "source": [
    "import numpy as np\n",
    "import matplotlib.pyplot as plt\n",
    "from scipy.signal import kaiser"
   ]
  },
  {
   "cell_type": "code",
   "execution_count": null,
   "metadata": {},
   "outputs": [],
   "source": [
    "%matplotlib qt5"
   ]
  },
  {
   "cell_type": "code",
   "execution_count": null,
   "metadata": {},
   "outputs": [],
   "source": [
    "import sys"
   ]
  },
  {
   "cell_type": "code",
   "execution_count": null,
   "metadata": {},
   "outputs": [],
   "source": [
    "sys.path.insert(0, \"/home/pleroy/DEV/DIADEM\")\n",
    "import toolsdiadem.tools as dia\n",
    "import toolsdiadem.ser as ser"
   ]
  },
  {
   "cell_type": "code",
   "execution_count": null,
   "metadata": {},
   "outputs": [],
   "source": [
    "%load_ext autoreload\n",
    "%autoreload 2"
   ]
  },
  {
   "cell_type": "code",
   "execution_count": null,
   "metadata": {},
   "outputs": [],
   "source": [
    "cmap='jet'\n",
    "withPlots = 0\n",
    "center = 6650\n",
    "width = 500"
   ]
  },
  {
   "cell_type": "code",
   "execution_count": null,
   "metadata": {},
   "outputs": [],
   "source": [
    "base_path = \"/home/pleroy/DATA/DIADEM/SIEPEL/SER/WR15\"\n",
    "dic_dir = {\"190130\" : [\"absC\"],\n",
    "           \"190131\" : [\"absAHP12\", \"absB\", \"absD\", \"absJ\"],\n",
    "           \"190201\" : [\"absA\", \"absAHP20\", \"absE\", \"absG\", \"absM\"],\n",
    "           \"190204\" : [\"absAHP9\", \"absAHP30\", \"absAHP45\", \"absH\", \"absI\", \"absK\", \"absL\", \"absN\", \"absO\", \"absU\"]}"
   ]
  },
  {
   "cell_type": "code",
   "execution_count": null,
   "metadata": {},
   "outputs": [],
   "source": [
    "dir_A     = \"/home/pleroy/DATA/DIADEM/SIEPEL/SER/WR15/190201/absA\"\n",
    "dir_C     = \"/home/pleroy/DATA/DIADEM/SIEPEL/SER/WR15/190128/absC\"\n",
    "dir_AHP9  = \"/home/pleroy/DATA/DIADEM/SIEPEL/SER/WR15/190204/absAHP9\"\n",
    "dir_AHP45 = \"/home/pleroy/DATA/DIADEM/SIEPEL/SER/WR15/190204/absAHP45\""
   ]
  },
  {
   "cell_type": "markdown",
   "metadata": {},
   "source": [
    "# Fond de chambre"
   ]
  },
  {
   "cell_type": "code",
   "execution_count": null,
   "metadata": {},
   "outputs": [],
   "source": [
    "tmp = np.loadtxt(f\"{base_path}/S11_fond_de_chambre.txt\", skiprows=1)\n",
    "S11_fondDeChambre = tmp[:,1] + 1j * tmp[:,2]\n",
    "tmp = np.loadtxt(f\"{base_path}/S11_fond_de_chambre_withoutAHP45.txt\", skiprows=1)\n",
    "S11_fondDeChambre_withoutAHP45 = tmp[:,1] + 1j * tmp[:,2]"
   ]
  },
  {
   "cell_type": "code",
   "execution_count": null,
   "metadata": {},
   "outputs": [],
   "source": [
    "fig, ax = plt.subplots(1,1)\n",
    "plt.plot( 20 * np.log10( np.abs( np.fft.ifft( S11_fondDeChambre ) ) ),\n",
    "         label=\"fond de chambre\" )\n",
    "plt.plot( 20 * np.log10( np.abs( np.fft.ifft( S11_fondDeChambre_withoutAHP45 ) ) ),\n",
    "         label=\"fond de chambre without AHP45\" )\n",
    "plt.grid()\n",
    "plt.legend()"
   ]
  },
  {
   "cell_type": "markdown",
   "metadata": {},
   "source": [
    "# Plaque de référence"
   ]
  },
  {
   "cell_type": "code",
   "execution_count": null,
   "metadata": {},
   "outputs": [],
   "source": [
    "dir_plaqueDeReference = f\"{base_path}/190129/caracterisation/plaque_ref\"\n",
    "freq_all, S11_plaque_ref = ser.getFreqAndS11( dir_plaqueDeReference )\n",
    "S11_plaque_ref_sans_fondDeChambre = S11_plaque_ref - S11_fondDeChambre\n",
    "d_plaqueDeReference = np.linspace( 0, 300 / ( freq_all[1] - freq_all[0] ), freq_all.size ) * 0.5"
   ]
  },
  {
   "cell_type": "code",
   "execution_count": null,
   "metadata": {},
   "outputs": [],
   "source": [
    "idxElevation = 20\n",
    "fig, ax = plt.subplots(1,1)\n",
    "ax.plot( d_plaqueDeReference, 20 * np.log10( np.abs( np.fft.ifft( S11_plaque_ref ) ) ),\n",
    "         label=\"S11, plaque_ref, time domain\" )\n",
    "ax.plot( d_plaqueDeReference, 20 * np.log10( np.abs( np.fft.ifft( S11_plaque_ref_sans_fondDeChambre ) ) ),\n",
    "         label=\"S11, plaque_ref moins fond de chambre, time domain\" )\n",
    "ax.grid()\n",
    "ax.legend()\n",
    "ax.set_xlabel(\"distance[mm]\")"
   ]
  },
  {
   "cell_type": "markdown",
   "metadata": {},
   "source": [
    "# Réflectivité\n",
    "ref: ser4siepel_multiband_scan_elev_Reflectivite.sce"
   ]
  },
  {
   "cell_type": "markdown",
   "metadata": {},
   "source": [
    "## Initialisation des variables"
   ]
  },
  {
   "cell_type": "code",
   "execution_count": null,
   "metadata": {},
   "outputs": [],
   "source": [
    "nb_elev = 41\n",
    "nb_freq = 2001\n",
    "\n",
    "elevation        = np.linspace( 0.76 - 1.0, 0.76 + 1.0, nb_elev )\n",
    "data_S11         = np.zeros( (nb_elev, nb_freq), dtype=complex )\n",
    "data_S11_td      = np.zeros( (nb_elev, nb_freq), dtype=complex )\n",
    "data_S11_tg      = np.zeros( (nb_elev, nb_freq), dtype=complex )\n",
    "S11_minus_moy    = np.zeros( (nb_elev, nb_freq), dtype=complex )\n",
    "S11_minus_moy_td = np.zeros( (nb_elev, nb_freq), dtype=complex )\n",
    "S11_minus_moy_tg = np.zeros( (nb_elev, nb_freq), dtype=complex )\n",
    "reflectivite     = np.zeros( (nb_elev, nb_freq), dtype=complex )\n",
    "S11_moy          = np.zeros( nb_freq,            dtype=complex )\n",
    "S11_moy_square   = np.zeros( nb_freq,            dtype=complex )"
   ]
  },
  {
   "cell_type": "markdown",
   "metadata": {},
   "source": [
    "## Lecture des données et time gating"
   ]
  },
  {
   "cell_type": "markdown",
   "metadata": {},
   "source": [
    "### Lecture des données"
   ]
  },
  {
   "cell_type": "code",
   "execution_count": null,
   "metadata": {},
   "outputs": [],
   "source": [
    "seq = 0\n",
    "flag_gate = 1\n",
    "data_dir = dir_AHP45\n",
    "\n",
    "for ielev in range(nb_elev):\n",
    "    freq_all, S11_all = ser.getFreqAndS11( data_dir, seq0=seq, verbose=0 )\n",
    "    seq = seq + 3\n",
    "    data_S11[ ielev, : ] = S11_all\n",
    "    \n",
    "d = np.linspace( 0, 300 / ( freq_all[1] - freq_all[0] ), nb_freq ) * 0.5"
   ]
  },
  {
   "cell_type": "markdown",
   "metadata": {},
   "source": [
    "### Gating"
   ]
  },
  {
   "cell_type": "code",
   "execution_count": null,
   "metadata": {},
   "outputs": [],
   "source": [
    "gate = ser.getWindow( d, center, width, id=\"llc\" )"
   ]
  },
  {
   "cell_type": "code",
   "execution_count": null,
   "metadata": {},
   "outputs": [],
   "source": [
    "fig, ax = plt.subplots(1,1)\n",
    "ax.plot(d, gate, label='gate')\n",
    "ax.legend()\n",
    "ax.grid()\n",
    "fig.savefig(\"gate.png\")"
   ]
  },
  {
   "cell_type": "code",
   "execution_count": null,
   "metadata": {},
   "outputs": [],
   "source": [
    "S11_moy     = np.average( data_S11, axis=0 )\n",
    "S11_moy_td  = np.fft.ifft( S11_moy )\n",
    "S11_moy_tg  = S11_moy_td * gate\n",
    "\n",
    "data_S11_td = np.fft.ifft( data_S11, axis=1 )\n",
    "data_S11_tg = data_S11_td * gate"
   ]
  },
  {
   "cell_type": "code",
   "execution_count": null,
   "metadata": {},
   "outputs": [],
   "source": [
    "idxElevation = 20\n",
    "fig, ax = plt.subplots(1,1)\n",
    "ax.plot( d, 20*np.log10( np.abs( data_S11_td[idxElevation,:] ) ), label=\"S11, time domain\" )\n",
    "ax.plot( d, 20*np.log10( np.abs( data_S11_tg[idxElevation,:] ) ), label=\"S11, time domain, gated\" )\n",
    "ax.legend()\n",
    "ax.grid()\n",
    "ax.set_xlabel( \"distance [mm]\" )\n",
    "ax.set_title( f\"elevation {elevation[idxElevation]}°\" )"
   ]
  },
  {
   "cell_type": "code",
   "execution_count": null,
   "metadata": {},
   "outputs": [],
   "source": [
    "idxElevation = 20\n",
    "fig, ax = plt.subplots(1,1)\n",
    "ax.plot( freq_all, 20*np.log10( np.abs( np.fft.fft( data_S11_td[idxElevation,:] ) ) ), label=\"S11\" )\n",
    "ax.plot( freq_all, 20*np.log10( np.abs( np.fft.fft( data_S11_tg[idxElevation,:] ) ) ), label=\"S11, time gated\" )\n",
    "ax.legend()\n",
    "ax.grid()\n",
    "ax.set_xlabel( \"frequence [GHz]\" )\n",
    "ax.set_title( f\"elevation {elevation[idxElevation]}°\" )"
   ]
  },
  {
   "cell_type": "markdown",
   "metadata": {},
   "source": [
    "## Calcul de la réflectivité"
   ]
  },
  {
   "cell_type": "code",
   "execution_count": null,
   "metadata": {},
   "outputs": [],
   "source": [
    "def getReflectivite( S11, plaqueRef, fondDeChambre, gate ):\n",
    "    S11_plaque_ref_tg = np.fft.fft( np.fft.ifft( plaqueRef - fondDeChambre ) * gate )\n",
    "    S11_minus_fdc    = S11 - fondDeChambre\n",
    "    s11_minus_fdc_td = np.fft.ifft( S11_minus_fdc, axis=1 )\n",
    "    s11_minus_fdc_tg = s11_minus_moy_td * gate\n",
    "    S11_minus_moy_tg = np.fft.fft( s11_minus_fdc_tg, axis=1 )\n",
    "    reflectivite     = S11_minus_moy_tg / S11_plaque_ref_tg\n",
    "    return reflectivite"
   ]
  },
  {
   "cell_type": "markdown",
   "metadata": {},
   "source": [
    "### Avec fond de chambre complet"
   ]
  },
  {
   "cell_type": "code",
   "execution_count": null,
   "metadata": {},
   "outputs": [],
   "source": [
    "S11_plaque_ref_tg = np.fft.fft( np.fft.ifft( S11_plaque_ref - S11_fondDeChambre ) * gate )\n",
    "reflectivite = np.zeros( (nb_elev, nb_freq), dtype=complex )\n",
    "S11_minus_moy    = data_S11 - S11_fondDeChambre\n",
    "s11_minus_moy_td = np.fft.ifft( S11_minus_moy, axis=1 )\n",
    "s11_minus_moy_tg = s11_minus_moy_td * gate\n",
    "S11_minus_moy_tg = np.fft.fft( s11_minus_moy_tg, axis=1 )\n",
    "reflectivite     = S11_minus_moy_tg / S11_plaque_ref_tg"
   ]
  },
  {
   "cell_type": "code",
   "execution_count": null,
   "metadata": {},
   "outputs": [],
   "source": [
    "fig, ax = plt.subplots(1,1)\n",
    "ax.plot( d, 20*np.log10( np.abs( data_S11_td[20,:] ) ), label=\"S11, time domain\" )\n",
    "ax.plot( d, 20*np.log10( np.abs( data_S11_tg[20,:] ) ), label=\"S11, time domain, gated\" )\n",
    "ax.plot( d, 20*np.log10( np.abs( s11_minus_moy_td[20,:] ) ), label=\"S11 moins fond de chambre, time domain\" )\n",
    "ax.plot( d, 20*np.log10( np.abs( s11_minus_moy_tg[20,:] ) ), label=\"S11 moins fond de chambre, time domain, gated\" )\n",
    "ax.legend()\n",
    "ax.grid()"
   ]
  },
  {
   "cell_type": "markdown",
   "metadata": {},
   "source": [
    "### Calcul de la réflectivité avec fond de chambre sans AHP45"
   ]
  },
  {
   "cell_type": "code",
   "execution_count": null,
   "metadata": {},
   "outputs": [],
   "source": [
    "reflectivite_a = ser.getReflectivite( data_S11, S11_plaque_ref, S11_fondDeChambre, gate )\n",
    "reflectivite_b = ser.getReflectivite( data_S11, S11_plaque_ref, S11_fondDeChambre_withoutAHP45, gate )"
   ]
  },
  {
   "cell_type": "code",
   "execution_count": null,
   "metadata": {},
   "outputs": [],
   "source": [
    "fig, ax = plt.subplots(1,1)\n",
    "ax.plot( d, 20*np.log10( np.abs( reflectivite_a[20,:] ) ), label=\"reflectivite_a\" )\n",
    "ax.plot( d, 20*np.log10( np.abs( reflectivite_b[20,:] ) ), label=\"reflectivite_a\" )\n",
    "ax.legend()\n",
    "ax.grid()"
   ]
  },
  {
   "cell_type": "markdown",
   "metadata": {},
   "source": [
    "# Plot"
   ]
  },
  {
   "cell_type": "markdown",
   "metadata": {},
   "source": [
    "## Coefficient de réflexion"
   ]
  },
  {
   "cell_type": "code",
   "execution_count": null,
   "metadata": {},
   "outputs": [],
   "source": [
    "cmap='jet'\n",
    "\n",
    "toPlot = 20 * np.log10( np.abs( ( S11_minus_moy_tg ) ) )\n",
    "\n",
    "valMin = -140\n",
    "toPlot = 0.5 * ( np.abs( toPlot - valMin ) + toPlot - valMin ) + valMin\n",
    "valMax = np.amax( toPlot )\n",
    "valMin = np.amin( toPlot )\n",
    "print( f\"valMax = {valMax:.2f} valMin = {valMin:.2f}\")\n",
    "\n",
    "fig, ax = plt.subplots( 1, 1 )\n",
    "im = plt.pcolormesh( freq_all, elevation, toPlot, cmap='jet' )\n",
    "dia.addColorBar(  im, ax, aspect='auto' )\n",
    "title = f\"Coefficient de réflexion de l'absorbant\\n{data_dir}\"\n",
    "ax.set_title(title)\n",
    "ax.set_ylabel( \"Elévation [°]\" )\n",
    "ax.set_xlabel( \"Fréquence [GHz]\" )"
   ]
  },
  {
   "cell_type": "markdown",
   "metadata": {},
   "source": [
    "## Réflectivité de l'absorbant"
   ]
  },
  {
   "cell_type": "code",
   "execution_count": null,
   "metadata": {},
   "outputs": [],
   "source": [
    "toPlot = np.zeros( (len(elevation), len(tab_freq)) )\n",
    "gatebis  = 0.0 * gate\n",
    "gatebis[ np.where( np.abs( freq_all - 62.5 ) < 12.4 ) ] = 1.0\n",
    "toPlot = 20 * np.log10( 1e-12 + np.abs( reflectivite * gatebis ) )\n",
    "\n",
    "valMin = -90\n",
    "toPlot = 0.5 * ( np.abs( toPlot - valMin ) + toPlot - valMin ) + valMin\n",
    "valMax = np.amax( toPlot )\n",
    "valMin = np.amin( toPlot )\n",
    "print( f\"valMax = {valMax:.2f} valMin = {valMin:.2f}\")\n",
    "     \n",
    "vmin = -80\n",
    "vmax = -0\n",
    "fig, ax = plt.subplots( 1, 1 )\n",
    "im = plt.pcolormesh( elevation, np.flip( freq_all ), np.rot90(toPlot), cmap=cmap )\n",
    "\n",
    "title = f\"Réflectivité absorbant\\n{data_dir}\"\n",
    "ax.set_title(title)\n",
    "ax.set_xlabel( \"Elévation [°]\" )\n",
    "ax.set_ylabel( \"Fréquence [GHz]\" )\n",
    "dia.addColorBar(  im, ax, aspect='auto' )"
   ]
  }
 ],
 "metadata": {
  "kernelspec": {
   "display_name": "Python 3",
   "language": "python",
   "name": "python3"
  },
  "language_info": {
   "codemirror_mode": {
    "name": "ipython",
    "version": 3
   },
   "file_extension": ".py",
   "mimetype": "text/x-python",
   "name": "python",
   "nbconvert_exporter": "python",
   "pygments_lexer": "ipython3",
   "version": "3.7.3"
  },
  "toc": {
   "base_numbering": 1,
   "nav_menu": {},
   "number_sections": true,
   "sideBar": true,
   "skip_h1_title": false,
   "title_cell": "Table of Contents",
   "title_sidebar": "Contents",
   "toc_cell": false,
   "toc_position": {
    "height": "calc(100% - 180px)",
    "left": "10px",
    "top": "150px",
    "width": "253.4px"
   },
   "toc_section_display": true,
   "toc_window_display": true
  },
  "varInspector": {
   "cols": {
    "lenName": 16,
    "lenType": 16,
    "lenVar": 40
   },
   "kernels_config": {
    "python": {
     "delete_cmd_postfix": "",
     "delete_cmd_prefix": "del ",
     "library": "var_list.py",
     "varRefreshCmd": "print(var_dic_list())"
    },
    "r": {
     "delete_cmd_postfix": ") ",
     "delete_cmd_prefix": "rm(",
     "library": "var_list.r",
     "varRefreshCmd": "cat(var_dic_list()) "
    }
   },
   "types_to_exclude": [
    "module",
    "function",
    "builtin_function_or_method",
    "instance",
    "_Feature"
   ],
   "window_display": false
  }
 },
 "nbformat": 4,
 "nbformat_minor": 2
}
