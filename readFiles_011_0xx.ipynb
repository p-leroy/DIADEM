{
 "cells": [
  {
   "cell_type": "markdown",
   "metadata": {},
   "source": [
    "# Init"
   ]
  },
  {
   "cell_type": "code",
   "execution_count": 1,
   "metadata": {},
   "outputs": [],
   "source": [
    "import numpy as np\n",
    "import matplotlib.pyplot as plt\n",
    "%matplotlib qt5"
   ]
  },
  {
   "cell_type": "code",
   "execution_count": 2,
   "metadata": {},
   "outputs": [],
   "source": [
    "from scipy import interpolate\n",
    "from mpl_toolkits.axes_grid1 import make_axes_locatable"
   ]
  },
  {
   "cell_type": "code",
   "execution_count": 20,
   "metadata": {},
   "outputs": [],
   "source": [
    "import parula as par"
   ]
  },
  {
   "cell_type": "code",
   "execution_count": 29,
   "metadata": {},
   "outputs": [],
   "source": [
    "import toolsdiadem.tools as dia"
   ]
  },
  {
   "cell_type": "code",
   "execution_count": 3,
   "metadata": {},
   "outputs": [],
   "source": [
    "root_dir = \"/home/pleroy/DATA/DIADEM/bfu\"\n",
    "# 011 ===== 3l +45\n",
    "dir_011 = \"/20181015/011_3l_05l_+45\"\n",
    "pre_011 = \"ey\"\n",
    "dat_011 = root_dir + dir_011 + \"/\" + pre_011\n",
    "# 012 ===== 3l -45\n",
    "dir_012 = \"/20181015/012_3l_05l_-45\"\n",
    "pre_012 = \"ey\"\n",
    "dat_012 = root_dir + dir_012 + \"/\" + pre_012\n",
    "# 013_0 ===== 7l +45\n",
    "dir_013_0 = \"/20181016/013_seq/SEQ_0_7l_+45\"\n",
    "pre_013_0 = \"ey\"\n",
    "dat_013_0 = root_dir + dir_013_0 + \"/\" + pre_013_0\n",
    "# 013_1 ===== 7l -45\n",
    "dir_013_1 = \"/20181016/013_seq/SEQ_1_7l_-45\"\n",
    "pre_013_1 = \"ey\"\n",
    "dat_013_1 = root_dir + dir_013_1 + \"/\" + pre_013_1\n",
    "# 014_0 ===== 5l +45\n",
    "dir_014_0 = \"/20181017/014_5l_05l/SEQ_0_5l_+45\"\n",
    "pre_014_0 = \"ey\"\n",
    "dat_014_0 = root_dir + dir_014_0 + \"/\" + pre_014_0\n",
    "# 014_1 ===== 5l +-5\n",
    "dir_014_1 = \"/20181017/014_5l_05l/SEQ_1_5l_-45\"\n",
    "pre_014_1 = \"ey\"\n",
    "dat_014_1 = root_dir + dir_014_1 + \"/\" + pre_014_1"
   ]
  },
  {
   "cell_type": "code",
   "execution_count": 4,
   "metadata": {},
   "outputs": [],
   "source": [
    "import os\n",
    "import fnmatch"
   ]
  },
  {
   "cell_type": "code",
   "execution_count": 5,
   "metadata": {},
   "outputs": [],
   "source": [
    "x0y0 = (211, 244.5)"
   ]
  },
  {
   "cell_type": "markdown",
   "metadata": {},
   "source": [
    "# Get frequencies and y values"
   ]
  },
  {
   "cell_type": "markdown",
   "metadata": {},
   "source": [
    "## Get Nf and Ny"
   ]
  },
  {
   "cell_type": "code",
   "execution_count": 6,
   "metadata": {},
   "outputs": [],
   "source": [
    "def get_Nf_Ny(data_dir):\n",
    "    f_y = []\n",
    "    for file in os.listdir(data_dir):\n",
    "        if fnmatch.fnmatch(file, \"*.amp\"):\n",
    "            sfile = file.split(\".amp\")[0].split(\"_\")\n",
    "            f_y.append( (sfile[1], sfile[2]) )\n",
    "    Nf = max( [int(f_y[0]) for f_y in f_y if f_y[1] == '000'] ) + 1\n",
    "    Ny = max( [int(f_y[1]) for f_y in f_y if f_y[0] == '000'] ) + 1\n",
    "    print(data_dir)\n",
    "    print(\"Nf = {}, Ny = {}\".format(Nf, Ny))\n",
    "    return Nf, Ny"
   ]
  },
  {
   "cell_type": "code",
   "execution_count": 7,
   "metadata": {},
   "outputs": [
    {
     "name": "stdout",
     "output_type": "stream",
     "text": [
      "/home/pleroy/DATA/DIADEM/bfu/20181015/011_3l_05l_+45\n",
      "Nf = 9, Ny = 81\n"
     ]
    }
   ],
   "source": [
    "Nf, Ny = get_Nf_Ny(root_dir + dir_011)"
   ]
  },
  {
   "cell_type": "markdown",
   "metadata": {},
   "source": [
    "## Get f and y"
   ]
  },
  {
   "cell_type": "code",
   "execution_count": 8,
   "metadata": {},
   "outputs": [],
   "source": [
    "def getF(nbFreq, data_prefix):\n",
    "    f = np.zeros(nbFreq)\n",
    "    for freqIdx in range( nbFreq ):\n",
    "        filename = data_prefix + f\"_{freqIdx:03d}_000.amp\"\n",
    "        with open(filename) as file:\n",
    "            for line in file:\n",
    "                if \"FreqValue\" in line:\n",
    "                    f[freqIdx] = float(line.split(\"=\")[1])\n",
    "                elif \"Data#1\" in line:\n",
    "                    break\n",
    "    print(root_dir + \" Nf = {}, fmin = {}, fmax = {}\".format(f.size, np.amin(f), np.amax(f)))\n",
    "    return f"
   ]
  },
  {
   "cell_type": "code",
   "execution_count": 9,
   "metadata": {},
   "outputs": [],
   "source": [
    "def getY(nbY, data_prefix):\n",
    "    y = np.zeros(nbY)\n",
    "    for yIdx in range( nbY ):\n",
    "        filename = data_prefix + f\"_000_{yIdx:03d}.amp\"\n",
    "        with open(filename) as file:\n",
    "            for line in file:\n",
    "                if \"StepAxis=y\" in line:\n",
    "                    y[yIdx] = float(line.split(\" \")[-2])\n",
    "                elif \"Data#1\" in line:\n",
    "                    break\n",
    "    print(root_dir + \" Ny = {}, ymin = {}, ymax = {}\".format(y.size, np.amin(y), np.amax(y)))\n",
    "    return y"
   ]
  },
  {
   "cell_type": "code",
   "execution_count": 10,
   "metadata": {},
   "outputs": [
    {
     "name": "stdout",
     "output_type": "stream",
     "text": [
      "/home/pleroy/DATA/DIADEM/bfu Nf = 9, fmin = 28.0, fmax = 36.0\n",
      "/home/pleroy/DATA/DIADEM/bfu Ny = 81, ymin = 56.9, ymax = 432.1\n"
     ]
    }
   ],
   "source": [
    "f = getF( Nf, dat_011)\n",
    "y = getY( Ny, dat_011)"
   ]
  },
  {
   "cell_type": "markdown",
   "metadata": {},
   "source": [
    "# Get amplitudes and phases"
   ]
  },
  {
   "cell_type": "code",
   "execution_count": 12,
   "metadata": {},
   "outputs": [],
   "source": [
    "def get_headerSize(filename):\n",
    "    with open(filename) as file:\n",
    "        for counter, line in enumerate(file):\n",
    "            if \"Data#1\" in line:\n",
    "                break\n",
    "    return counter + 1"
   ]
  },
  {
   "cell_type": "code",
   "execution_count": 13,
   "metadata": {},
   "outputs": [],
   "source": [
    "def get_x_val(data_prefix, fi, yi, ext):\n",
    "    filename = data_prefix + f\"_{fi:03d}_{yi:03d}\" + ext\n",
    "    headerSize = get_headerSize(filename)\n",
    "    # read the data\n",
    "    x, val = np.genfromtxt(filename, skip_header=headerSize, unpack=True)\n",
    "    return x, val\n",
    "\n",
    "def getAmpPhaArrays(Nx, Ny, fi, data_prefix):\n",
    "    ampArray = np.zeros((Ny, Nx))\n",
    "    phaArray = np.zeros((Ny, Nx))\n",
    "    for yi in range(Ny):\n",
    "        x, amp = get_x_val(data_prefix, fi, yi, \".amp\")\n",
    "        ampArray[yi, :] = amp[:]\n",
    "        x, pha = get_x_val(data_prefix, fi, yi, \".pha\")\n",
    "        phaArray[yi, :] = pha[:]\n",
    "    return ampArray, phaArray"
   ]
  },
  {
   "cell_type": "code",
   "execution_count": 14,
   "metadata": {},
   "outputs": [],
   "source": [
    "fi = 0\n",
    "yi = 0\n",
    "x0, amp0 = get_x_val(dat_011, fi, yi, \".amp\")\n",
    "x0_setpoints = np.arange(23.4, 398.6 + 4.69, 4.69)\n",
    "Nx = x0.size\n",
    "# (left, right, bottom, top)\n",
    "extent = [ x0[-1], x0[0], y[-1], y[0] ]\n",
    "extent = [ x0[-1]-x0y0[0], x0[0]-x0y0[0], y[-1]-x0y0[1], y[0]-x0y0[1] ]\n",
    "cmap='jet'"
   ]
  },
  {
   "cell_type": "code",
   "execution_count": 17,
   "metadata": {},
   "outputs": [
    {
     "data": {
      "text/plain": [
       "((81,), (81,), (81, 81), (81, 81))"
      ]
     },
     "execution_count": 17,
     "metadata": {},
     "output_type": "execute_result"
    }
   ],
   "source": [
    "X0, Y = np.meshgrid(x0_setpoints, y)\n",
    "x0.shape, y.shape, X0.shape, Y.shape"
   ]
  },
  {
   "cell_type": "code",
   "execution_count": 18,
   "metadata": {},
   "outputs": [
    {
     "name": "stdout",
     "output_type": "stream",
     "text": [
      "get data for f = 32.0\n"
     ]
    }
   ],
   "source": [
    "fi = 4\n",
    "print(\"get data for f = {}\".format(f[fi]))\n",
    "\n",
    "ampAndPhaArrays = {}\n",
    "ampAndPhaArrays[\"011\"] = ( *getAmpPhaArrays(Nx, Ny, fi, dat_011), dir_011, pre_011 )\n",
    "ampAndPhaArrays[\"012\"] = ( *getAmpPhaArrays(Nx, Ny, fi, dat_012), dir_012, pre_012 )\n",
    "ampAndPhaArrays[\"013_0\"] = ( *getAmpPhaArrays(Nx, Ny, fi, dat_013_0), dir_013_0, pre_013_0 )\n",
    "ampAndPhaArrays[\"013_1\"] = ( *getAmpPhaArrays(Nx, Ny, fi, dat_013_1), dir_013_1, pre_013_1 )\n",
    "ampAndPhaArrays[\"014_0\"] = ( *getAmpPhaArrays(Nx, Ny, fi, dat_014_0), dir_014_0, pre_014_0 )\n",
    "ampAndPhaArrays[\"014_1\"] = ( *getAmpPhaArrays(Nx, Ny, fi, dat_014_1), dir_014_1, pre_014_1 )"
   ]
  },
  {
   "cell_type": "code",
   "execution_count": 19,
   "metadata": {},
   "outputs": [],
   "source": [
    "allAmpArrays = ( [ampAndPhaArrays[i][0] for i in ampAndPhaArrays.keys()] )\n",
    "vmaxAll = np.amax(allAmpArrays)\n",
    "vminAll = np.amin(allAmpArrays)\n",
    "myVmax = 10\n",
    "myVmin = -40\n",
    "cmap='viridis'"
   ]
  },
  {
   "cell_type": "code",
   "execution_count": 54,
   "metadata": {},
   "outputs": [
    {
     "data": {
      "text/plain": [
       "Text(0.5,0.98,'Ey /20181015/011_3l_05l_+45')"
      ]
     },
     "execution_count": 54,
     "metadata": {},
     "output_type": "execute_result"
    }
   ],
   "source": [
    "fig, ((ax0,ax1), (ax2, ax3)) = plt.subplots(2,2)\n",
    "\n",
    "im = ax0.pcolor(X0, Y, ampAndPhaArrays[\"011\"][0], vmin=myVmin, vmax=myVmax, cmap=cmap )\n",
    "dia.addColorBar(im, ax0)\n",
    "ax0.set_title(\"pcolor\")\n",
    "ax0.set_xlabel(\"x\")\n",
    "ax0.set_ylabel(\"y\")\n",
    "\n",
    "im = ax2.imshow(ampAndPhaArrays[\"011\"][0], vmin=myVmin, vmax=myVmax, cmap=cmap, origin='lower' )\n",
    "dia.addColorBar(im, ax1)\n",
    "ax2.set_title(\"imshow origin='lower'\")\n",
    "ax2.set_xlabel(\"xn\")\n",
    "ax2.set_ylabel(\"yn\")\n",
    "\n",
    "fig.suptitle(\"Ey \" + dir_011)\n",
    "\n"
   ]
  },
  {
   "cell_type": "code",
   "execution_count": 57,
   "metadata": {},
   "outputs": [
    {
     "data": {
      "text/plain": [
       "Text(0.5,0.98,'Ey /20181015/011_3l_05l_+45')"
      ]
     },
     "execution_count": 57,
     "metadata": {},
     "output_type": "execute_result"
    }
   ],
   "source": [
    "fig, (ax0,ax1) = plt.subplots(1,2)\n",
    "\n",
    "im = ax0.pcolor(X0, Y, ampAndPhaArrays[\"011\"][0], vmin=myVmin, vmax=myVmax, cmap=cmap )\n",
    "dia.addColorBar(im, ax0)\n",
    "ax0.set_title(\"pcolor\")\n",
    "ax0.set_xlabel(\"x\")\n",
    "ax0.set_ylabel(\"y\")\n",
    "\n",
    "im = ax1.imshow(ampAndPhaArrays[\"011\"][0], vmin=myVmin, vmax=myVmax, cmap=cmap, origin='lower' )\n",
    "dia.addColorBar(im, ax1)\n",
    "ax1.set_title(\"imshow origin='lower'\")\n",
    "ax1.set_xlabel(\"xn\")\n",
    "ax1.set_ylabel(\"yn\")\n",
    "\n",
    "fig.suptitle(\"Ey \" + dir_011)"
   ]
  },
  {
   "cell_type": "code",
   "execution_count": 58,
   "metadata": {},
   "outputs": [
    {
     "data": {
      "text/plain": [
       "Text(0.5,0.98,'Ex /20181015/011_3l_05l_+45')"
      ]
     },
     "execution_count": 58,
     "metadata": {},
     "output_type": "execute_result"
    }
   ],
   "source": [
    "fig, (ax0,ax1) = plt.subplots(1,2)\n",
    "\n",
    "im = ax0.pcolor(X0, Y, ampAndPhaArrays[\"012\"][0], vmin=myVmin, vmax=myVmax, cmap=cmap )\n",
    "dia.addColorBar(im, ax0)\n",
    "ax0.set_title(\"pcolor\")\n",
    "ax0.set_xlabel(\"x\")\n",
    "ax0.set_ylabel(\"y\")\n",
    "\n",
    "im = ax1.imshow(ampAndPhaArrays[\"012\"][0], vmin=myVmin, vmax=myVmax, cmap=cmap, origin='lower' )\n",
    "dia.addColorBar(im, ax1)\n",
    "ax1.set_title(\"imshow origin='lower'\")\n",
    "ax1.set_xlabel(\"xn\")\n",
    "ax1.set_ylabel(\"yn\")\n",
    "\n",
    "fig.suptitle(\"Ex \" + dir_011)"
   ]
  },
  {
   "cell_type": "code",
   "execution_count": 60,
   "metadata": {},
   "outputs": [
    {
     "data": {
      "text/plain": [
       "Text(0.5,0.98,'Ex /20181015/011_3l_05l_+45')"
      ]
     },
     "execution_count": 60,
     "metadata": {},
     "output_type": "execute_result"
    }
   ],
   "source": [
    "fig, (ax0,ax1) = plt.subplots(1,2)\n",
    "\n",
    "im = ax0.pcolor(X0, Y, np.rot90(ampAndPhaArrays[\"012\"][0],k=-1), vmin=myVmin, vmax=myVmax, cmap=cmap )\n",
    "dia.addColorBar(im, ax0)\n",
    "ax0.set_title(\"pcolor\")\n",
    "ax0.set_xlabel(\"x\")\n",
    "ax0.set_ylabel(\"y\")\n",
    "\n",
    "im = ax1.imshow(np.rot90(ampAndPhaArrays[\"012\"][0],k=-1), vmin=myVmin, vmax=myVmax, cmap=cmap, origin='lower' )\n",
    "dia.addColorBar(im, ax1)\n",
    "ax1.set_title(\"imshow origin='lower'\")\n",
    "ax1.set_xlabel(\"xn\")\n",
    "ax1.set_ylabel(\"yn\")\n",
    "\n",
    "fig.suptitle(\"Ex \" + dir_011)"
   ]
  },
  {
   "cell_type": "code",
   "execution_count": 53,
   "metadata": {},
   "outputs": [
    {
     "data": {
      "text/plain": [
       "Text(0.5,0.98,'Ex /20181015/011_3l_05l_+45/ey')"
      ]
     },
     "execution_count": 53,
     "metadata": {},
     "output_type": "execute_result"
    }
   ],
   "source": [
    "fig, (ax0,ax1) = plt.subplots(1,2)\n",
    "\n",
    "im = ax0.pcolor(X0, Y, ampAndPhaArrays[\"012\"][0], vmin=myVmin, vmax=myVmax, cmap=cmap )\n",
    "dia.addColorBar(im, ax0)\n",
    "ax0.set_title(\"pcolor\")\n",
    "ax0.set_xlabel(\"x\")\n",
    "ax0.set_ylabel(\"y\")\n",
    "\n",
    "im = ax1.imshow(ampAndPhaArrays[\"012\"][0], vmin=myVmin, vmax=myVmax, cmap=cmap, origin='lower' )\n",
    "dia.addColorBar(im, ax1)\n",
    "ax1.set_title(\"imshow origin='lower'\")\n",
    "ax1.set_xlabel(\"xn\")\n",
    "ax1.set_ylabel(\"yn\")\n",
    "\n",
    "fig.suptitle(\"Ex \" + dir_012)"
   ]
  },
  {
   "cell_type": "code",
   "execution_count": 43,
   "metadata": {},
   "outputs": [
    {
     "data": {
      "text/plain": [
       "<matplotlib.colorbar.Colorbar at 0x7f72969d1dd8>"
      ]
     },
     "execution_count": 43,
     "metadata": {},
     "output_type": "execute_result"
    }
   ],
   "source": [
    "plt.figure()\n",
    "plt.imshow(ampAndPhaArrays[\"011\"][1], extent=extent)\n",
    "title = \"amplitudes\"\n",
    "plt.colorbar()"
   ]
  },
  {
   "cell_type": "code",
   "execution_count": 45,
   "metadata": {},
   "outputs": [],
   "source": [
    "def addSubPlotAmp(sub, nb, extent, vmin, vmax, cmap, k=0):\n",
    "    ax = plt.subplot(sub)\n",
    "    if k == 0:\n",
    "        ampArray = ampAndPhaArrays[nb][0]\n",
    "    else:\n",
    "        ampArray = np.rot90(ampAndPhaArrays[nb][0], k=k)\n",
    "    im = ax.imshow(ampArray, extent=extent, vmin=vmin, vmax=vmax, cmap=cmap)\n",
    "    title = \"amplitude\\n\" + ampAndPhaArrays[nb][2] + \"/\" + ampAndPhaArrays[nb][3]\n",
    "    divider = make_axes_locatable(ax)\n",
    "    cax = divider.append_axes(\"right\", size=\"5%\", pad=\"5%\")\n",
    "    plt.colorbar(im, cax=cax)\n",
    "    ax.set_title(title)\n",
    "    ax.grid(color='k',linestyle='--')\n",
    "    \n",
    "def addSubPlotPha(sub, nb, cmap, k=0):\n",
    "    plt.subplot(sub)\n",
    "    if k == 0:\n",
    "        ampArray = ampAndPhaArrays[nb][1]\n",
    "    else:\n",
    "        ampArray = np.rot90(ampAndPhaArrays[nb][1],k=k)\n",
    "    plt.imshow(ampArray, cmap=cmap)\n",
    "    title = \"phase\\n\" + ampAndPhaArrays[nb][2] + \"/\" + ampAndPhaArrays[nb][3]\n",
    "    plt.colorbar()\n",
    "    plt.title(title)"
   ]
  },
  {
   "cell_type": "code",
   "execution_count": 46,
   "metadata": {},
   "outputs": [],
   "source": [
    "plt.figure()\n",
    "\n",
    "addSubPlotAmp(121, \"011\", extent, myVmin, myVmax, cmap)\n",
    "addSubPlotAmp(122, \"012\", extent, myVmin, myVmax, cmap, -1)"
   ]
  },
  {
   "cell_type": "code",
   "execution_count": 47,
   "metadata": {},
   "outputs": [],
   "source": [
    "plt.figure()\n",
    "\n",
    "addSubPlotPha(121, \"011\", cmap)\n",
    "addSubPlotPha(122, \"012\", cmap)"
   ]
  },
  {
   "cell_type": "markdown",
   "metadata": {},
   "source": [
    "# Save data"
   ]
  },
  {
   "cell_type": "code",
   "execution_count": null,
   "metadata": {},
   "outputs": [],
   "source": [
    "def saveData(root_dir, nb):\n",
    "    header = \"x y amp pha\"\n",
    "    filename = root_dir + ampAndPhaArrays[nb][2] + \"_amp_pha_32GHz.data\"\n",
    "    print(\"save \" + filename)\n",
    "    np.savetxt(filename, \n",
    "               np.column_stack(( \n",
    "                   X0.flatten(), \n",
    "                   Y.flatten(), \n",
    "                   ampAndPhaArrays[nb][0].flatten(), \n",
    "                   ampAndPhaArrays[nb][1].flatten())),\n",
    "               header=header,\n",
    "               comments=\"\"\n",
    "              )"
   ]
  },
  {
   "cell_type": "code",
   "execution_count": null,
   "metadata": {},
   "outputs": [],
   "source": [
    "saveData(root_dir, \"011\")\n",
    "saveData(root_dir, \"012\")\n",
    "saveData(root_dir, \"013_0\")\n",
    "saveData(root_dir, \"013_1\")\n",
    "saveData(root_dir, \"014_0\")\n",
    "saveData(root_dir, \"014_1\")"
   ]
  }
 ],
 "metadata": {
  "kernelspec": {
   "display_name": "Python 3",
   "language": "python",
   "name": "python3"
  },
  "language_info": {
   "codemirror_mode": {
    "name": "ipython",
    "version": 3
   },
   "file_extension": ".py",
   "mimetype": "text/x-python",
   "name": "python",
   "nbconvert_exporter": "python",
   "pygments_lexer": "ipython3",
   "version": "3.7.2"
  },
  "toc": {
   "base_numbering": 1,
   "nav_menu": {},
   "number_sections": true,
   "sideBar": true,
   "skip_h1_title": false,
   "title_cell": "Table of Contents",
   "title_sidebar": "Contents",
   "toc_cell": false,
   "toc_position": {},
   "toc_section_display": true,
   "toc_window_display": true
  }
 },
 "nbformat": 4,
 "nbformat_minor": 2
}
