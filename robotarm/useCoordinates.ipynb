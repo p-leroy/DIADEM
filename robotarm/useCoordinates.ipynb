{
 "cells": [
  {
   "cell_type": "code",
   "execution_count": 1,
   "metadata": {},
   "outputs": [
    {
     "data": {
      "text/plain": [
       "elevation2cart2 (generic function with 1 method)"
      ]
     },
     "execution_count": 1,
     "metadata": {},
     "output_type": "execute_result"
    }
   ],
   "source": [
    "using Distributed, Printf, Primes\n",
    "include(\"igloo.jl\")\n",
    "include(\"coordinates.jl\")"
   ]
  },
  {
   "cell_type": "markdown",
   "metadata": {},
   "source": [
    "# compute_increment"
   ]
  },
  {
   "cell_type": "code",
   "execution_count": null,
   "metadata": {},
   "outputs": [],
   "source": [
    "angle_max = 35\n",
    "increments = compute_increment(angle_max);"
   ]
  },
  {
   "cell_type": "code",
   "execution_count": null,
   "metadata": {},
   "outputs": [],
   "source": [
    "increments"
   ]
  },
  {
   "cell_type": "code",
   "execution_count": null,
   "metadata": {},
   "outputs": [],
   "source": [
    "angle_max ./ increments"
   ]
  },
  {
   "cell_type": "code",
   "execution_count": null,
   "metadata": {},
   "outputs": [],
   "source": [
    "angle_max = 360\n",
    "tab_elem_init = [ 1; Primes.factor(Vector, round(Int, angle_max)) ];\n",
    "tmp1 = [ 1 ];\n",
    "tmp2 = collect( 0 : 1 : length(tab_elem_init) - 1);"
   ]
  },
  {
   "cell_type": "code",
   "execution_count": null,
   "metadata": {},
   "outputs": [],
   "source": [
    "tmp1, tmp2, tab_elem_init"
   ]
  },
  {
   "cell_type": "code",
   "execution_count": null,
   "metadata": {},
   "outputs": [],
   "source": [
    "for id = 0 : length(tab_elem_init) - 1\n",
    "    tab_elem = tab_elem_init[1 .+ mod.(tmp2 .+ id, length(tab_elem_init))];\n",
    "    print( tab_elem )\n",
    "    print(\"\\n\")\n",
    "    for ie = 1 : length(tab_elem) - 1\n",
    "        tmp = prod( tab_elem[1:ie] ) * tab_elem[ ie + 1 : length(tab_elem) ];\n",
    "        tmp1 = [ tmp1; tmp ];\n",
    "    end\n",
    "end\n",
    "print( tmp1 )"
   ]
  },
  {
   "cell_type": "code",
   "execution_count": null,
   "metadata": {},
   "outputs": [],
   "source": [
    "tab_root = unique( tmp1[ findall( tmp1 .<= (0.5 * round(Int, angle_max) ) ) ] );\n",
    "tab_div = [1 2 4 5 6 8 9 10 16 20 32 40 50 100];"
   ]
  },
  {
   "cell_type": "code",
   "execution_count": null,
   "metadata": {},
   "outputs": [],
   "source": [
    "tab_root"
   ]
  },
  {
   "cell_type": "markdown",
   "metadata": {},
   "source": [
    "# compute_igloo"
   ]
  },
  {
   "cell_type": "code",
   "execution_count": null,
   "metadata": {},
   "outputs": [],
   "source": [
    "theta_max = 90;\n",
    "delta_theta = 5;"
   ]
  },
  {
   "cell_type": "code",
   "execution_count": null,
   "metadata": {},
   "outputs": [],
   "source": [
    "theta_phi = compute_igloo(delta_theta, theta_max);"
   ]
  },
  {
   "cell_type": "code",
   "execution_count": null,
   "metadata": {},
   "outputs": [],
   "source": [
    "theta_phi_v2 = compute_igloo_v2(delta_theta, theta_max);"
   ]
  },
  {
   "cell_type": "code",
   "execution_count": null,
   "metadata": {},
   "outputs": [],
   "source": [
    "igloo[findall(igloo[:,1] .== 45 ), :]"
   ]
  },
  {
   "cell_type": "code",
   "execution_count": null,
   "metadata": {},
   "outputs": [],
   "source": [
    "unique(igloo[:,1])"
   ]
  },
  {
   "cell_type": "code",
   "execution_count": null,
   "metadata": {},
   "outputs": [],
   "source": [
    "findmin([8,0.1,-9,pi])[1]"
   ]
  },
  {
   "cell_type": "code",
   "execution_count": null,
   "metadata": {},
   "outputs": [],
   "source": [
    "findmin([8,0.1,-9,pi])"
   ]
  },
  {
   "cell_type": "markdown",
   "metadata": {},
   "source": [
    "# Plots"
   ]
  },
  {
   "cell_type": "markdown",
   "metadata": {},
   "source": [
    "## PyPlot"
   ]
  },
  {
   "cell_type": "code",
   "execution_count": null,
   "metadata": {},
   "outputs": [],
   "source": [
    "#import Pkg; Pkg.add(\"Plots\")\n",
    "using PyPlot"
   ]
  },
  {
   "cell_type": "code",
   "execution_count": null,
   "metadata": {},
   "outputs": [],
   "source": [
    "x, y, z = spherical2cart( theta_phi[:,1], theta_phi[:,2] );"
   ]
  },
  {
   "cell_type": "code",
   "execution_count": null,
   "metadata": {},
   "outputs": [],
   "source": [
    "fig = figure()\n",
    "ax = fig.add_subplot(111, projection=\"3d\")\n",
    "ax.scatter(x, y, z)"
   ]
  },
  {
   "cell_type": "markdown",
   "metadata": {},
   "source": [
    "# igloo_seq_file"
   ]
  },
  {
   "cell_type": "code",
   "execution_count": 6,
   "metadata": {},
   "outputs": [],
   "source": [
    "# positional arguments\n",
    "theta_max = 45\n",
    "freq_min = 8.2\n",
    "freq_max = 12.4\n",
    "nb_freq = 11\n",
    "AUT_depth = 128.52\n",
    "AUT_heigh = 59.44\n",
    "AUT_width = 78.49\n",
    "facility = \"CACENDRA\"\n",
    "PATH_FILE = \"/home/pleroy/DATA/DIADEM/robotarm\"\n",
    "PATH_SEQFILE = \"/home/pleroy/DATA/DIADEM/robotarm\"\n",
    "# keyword arguments\n",
    "polar_angles = [0.0 90.0]\n",
    "azimuth_offset = 0.0\n",
    "roll_offset = 0.0\n",
    "DataFiles_prefixe = \"EvEh\"\n",
    "ProjectName = \"3D\"\n",
    "Operator = \"LLC\"\n",
    "flag_half_sphere = 1\n",
    "tdrift_periodicity = 450\n",
    "freq_list = [];"
   ]
  },
  {
   "cell_type": "code",
   "execution_count": 5,
   "metadata": {},
   "outputs": [
    {
     "ename": "UndefVarError",
     "evalue": "UndefVarError: find not defined",
     "output_type": "error",
     "traceback": [
      "UndefVarError: find not defined",
      "",
      "Stacktrace:",
      " [1] #igloo_seq_file#5(::Array{Float64,2}, ::Float64, ::Float64, ::String, ::String, ::String, ::Int64, ::Int64, ::Array{Any,1}, ::typeof(igloo_seq_file), ::Int64, ::Float64, ::Float64, ::Int64, ::Float64, ::Float64, ::Float64, ::String, ::String, ::String) at /home/pleroy/DEV/DIADEM/robotarm/igloo.jl:317",
      " [2] (::var\"#kw##igloo_seq_file\")(::NamedTuple{(:polar_angles, :azimuth_offset, :roll_offset, :DataFiles_prefixe, :ProjectName, :Operator, :flag_half_sphere, :tdrift_periodicity, :freq_list),Tuple{Array{Float64,2},Float64,Float64,String,String,String,Int64,Int64,Array{Any,1}}}, ::typeof(igloo_seq_file), ::Int64, ::Float64, ::Float64, ::Int64, ::Float64, ::Float64, ::Float64, ::String, ::String, ::String) at ./none:0",
      " [3] top-level scope at In[5]:1"
     ]
    }
   ],
   "source": [
    "igloo_seq_file(theta_max, freq_min, freq_max, nb_freq,\n",
    "    AUT_depth, AUT_heigh, AUT_width,\n",
    "    facility,\n",
    "    PATH_FILE,\n",
    "    PATH_SEQFILE;\n",
    "    polar_angles = [0.0 90.0],\n",
    "    azimuth_offset = 0.0,\n",
    "    roll_offset = 0.0,\n",
    "    DataFiles_prefixe = \"EvEh\",\n",
    "    ProjectName = \"3D\",\n",
    "    Operator = \"LLC\",\n",
    "    flag_half_sphere = 1,\n",
    "    tdrift_periodicity = 450,\n",
    "    freq_list = [])"
   ]
  },
  {
   "cell_type": "code",
   "execution_count": 7,
   "metadata": {},
   "outputs": [
    {
     "data": {
      "text/plain": [
       "3×3 Array{Int64,2}:\n",
       "  7   3  5\n",
       " -1   6  4\n",
       "  9  -2  8"
      ]
     },
     "execution_count": 7,
     "metadata": {},
     "output_type": "execute_result"
    }
   ],
   "source": [
    "A = [7 3 5; -1 6 4; 9 -2 8]"
   ]
  },
  {
   "cell_type": "code",
   "execution_count": 10,
   "metadata": {},
   "outputs": [
    {
     "data": {
      "text/plain": [
       "3×3 Array{Int64,2}:\n",
       " -1  -2  4\n",
       "  7   3  5\n",
       "  9   6  8"
      ]
     },
     "execution_count": 10,
     "metadata": {},
     "output_type": "execute_result"
    }
   ],
   "source": [
    "sort(A, dims=1)"
   ]
  },
  {
   "cell_type": "code",
   "execution_count": 11,
   "metadata": {},
   "outputs": [
    {
     "data": {
      "text/plain": [
       "3×3 Array{Int64,2}:\n",
       "  3  5  7\n",
       " -1  4  6\n",
       " -2  8  9"
      ]
     },
     "execution_count": 11,
     "metadata": {},
     "output_type": "execute_result"
    }
   ],
   "source": [
    "sort(A, dims=2)"
   ]
  },
  {
   "cell_type": "code",
   "execution_count": 13,
   "metadata": {},
   "outputs": [
    {
     "data": {
      "text/plain": [
       "3×3 Array{Int64,2}:\n",
       " -1   6  4\n",
       "  7   3  5\n",
       "  9  -2  8"
      ]
     },
     "execution_count": 13,
     "metadata": {},
     "output_type": "execute_result"
    }
   ],
   "source": [
    "sortslices(A, dims=1)"
   ]
  },
  {
   "cell_type": "code",
   "execution_count": null,
   "metadata": {},
   "outputs": [],
   "source": []
  }
 ],
 "metadata": {
  "kernelspec": {
   "display_name": "Julia 1.3.1",
   "language": "julia",
   "name": "julia-1.3"
  },
  "language_info": {
   "file_extension": ".jl",
   "mimetype": "application/julia",
   "name": "julia",
   "version": "1.3.1"
  },
  "toc": {
   "base_numbering": 1,
   "nav_menu": {},
   "number_sections": true,
   "sideBar": true,
   "skip_h1_title": false,
   "title_cell": "Table of Contents",
   "title_sidebar": "Contents",
   "toc_cell": false,
   "toc_position": {},
   "toc_section_display": true,
   "toc_window_display": true
  },
  "varInspector": {
   "cols": {
    "lenName": 16,
    "lenType": 16,
    "lenVar": 40
   },
   "kernels_config": {
    "python": {
     "delete_cmd_postfix": "",
     "delete_cmd_prefix": "del ",
     "library": "var_list.py",
     "varRefreshCmd": "print(var_dic_list())"
    },
    "r": {
     "delete_cmd_postfix": ") ",
     "delete_cmd_prefix": "rm(",
     "library": "var_list.r",
     "varRefreshCmd": "cat(var_dic_list()) "
    }
   },
   "types_to_exclude": [
    "module",
    "function",
    "builtin_function_or_method",
    "instance",
    "_Feature"
   ],
   "window_display": false
  }
 },
 "nbformat": 4,
 "nbformat_minor": 2
}
