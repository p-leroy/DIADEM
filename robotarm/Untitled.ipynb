{
 "cells": [
  {
   "cell_type": "code",
   "execution_count": 1,
   "metadata": {},
   "outputs": [],
   "source": [
    "import numpy as np\n",
    "import matplotlib.pyplot as plt"
   ]
  },
  {
   "cell_type": "code",
   "execution_count": 2,
   "metadata": {},
   "outputs": [],
   "source": [
    "%matplotlib qt"
   ]
  },
  {
   "cell_type": "code",
   "execution_count": null,
   "metadata": {},
   "outputs": [],
   "source": [
    "def compute_increment( angle_max ):\n",
    "    \n",
    "    tab_elem_init = [1;Primes.factor(Vector,round(Int,angle_max))]\n",
    "    tmp1 = [1]\n",
    "    tmp2 = collect(0:1:length(tab_elem_init)-1)\n",
    "    \n",
    "    for id=0:length(tab_elem_init)-1\n",
    "        tab_elem = tab_elem_init[1+mod.(tmp2+id,length(tab_elem_init))]\n",
    "        \n",
    "    for ie=1:length(tab_elem)-1\n",
    "        tmp = prod(tab_elem[1:ie])*tab_elem[ie+1:length(tab_elem)]\n",
    "        tmp1 = [tmp1; tmp]\n",
    "        \n",
    "    tab_root = unique(tmp1[find(tmp1.<=(0.5*round(Int,angle_max)))])\n",
    "    tab_div = [1 2 4 5 6 8 9 10 16 20 32 40 50 100]\n",
    "    \n",
    "    tmp=[]\n",
    "    \n",
    "    for ir=1:length(tab_root)\n",
    "        cur_val = tab_root[ir]./tab_div\n",
    "    \n",
    "    for jr=1:length(cur_val)\n",
    "        if (cur_val[jr]*50==round(Int,cur_val[jr]*50))\n",
    "            tmp=[tmp; cur_val[jr]]\n",
    "            \n",
    "    tab_increment=sort(unique(tmp))\n",
    "    \n",
    "    return tab_increment\n"
   ]
  }
 ],
 "metadata": {
  "kernelspec": {
   "display_name": "Python 3",
   "language": "python",
   "name": "python3"
  },
  "language_info": {
   "codemirror_mode": {
    "name": "ipython",
    "version": 3
   },
   "file_extension": ".py",
   "mimetype": "text/x-python",
   "name": "python",
   "nbconvert_exporter": "python",
   "pygments_lexer": "ipython3",
   "version": "3.7.3"
  },
  "toc": {
   "base_numbering": 1,
   "nav_menu": {},
   "number_sections": true,
   "sideBar": true,
   "skip_h1_title": false,
   "title_cell": "Table of Contents",
   "title_sidebar": "Contents",
   "toc_cell": false,
   "toc_position": {},
   "toc_section_display": true,
   "toc_window_display": true
  },
  "varInspector": {
   "cols": {
    "lenName": 16,
    "lenType": 16,
    "lenVar": 40
   },
   "kernels_config": {
    "python": {
     "delete_cmd_postfix": "",
     "delete_cmd_prefix": "del ",
     "library": "var_list.py",
     "varRefreshCmd": "print(var_dic_list())"
    },
    "r": {
     "delete_cmd_postfix": ") ",
     "delete_cmd_prefix": "rm(",
     "library": "var_list.r",
     "varRefreshCmd": "cat(var_dic_list()) "
    }
   },
   "types_to_exclude": [
    "module",
    "function",
    "builtin_function_or_method",
    "instance",
    "_Feature"
   ],
   "window_display": false
  }
 },
 "nbformat": 4,
 "nbformat_minor": 2
}
