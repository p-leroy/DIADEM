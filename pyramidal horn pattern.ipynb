{
 "cells": [
  {
   "cell_type": "code",
   "execution_count": 1,
   "metadata": {},
   "outputs": [],
   "source": [
    "import numpy as np\n",
    "import matplotlib.pyplot as plt\n",
    "%matplotlib qt5"
   ]
  },
  {
   "cell_type": "code",
   "execution_count": 2,
   "metadata": {},
   "outputs": [],
   "source": [
    "import toolsdiadem.tools as dia"
   ]
  },
  {
   "cell_type": "code",
   "execution_count": 95,
   "metadata": {},
   "outputs": [],
   "source": [
    "pi = np.pi\n",
    "E0 = 1\n",
    "f0 = 10e9\n",
    "omega0 = 2 * np.pi * f0\n",
    "lambda0 = c / f0\n",
    "k0 = 2 * np.pi / lambda0"
   ]
  },
  {
   "cell_type": "markdown",
   "metadata": {},
   "source": [
    "$ E_{a_y} = E_0 cos \\left( \\frac{\\pi}{A}x \\right) e^{ -j \\frac{\\beta}{2} \\left( \\frac{x^2}{R_0^{E^2}}  + \\frac{y^2}{R_0^{H^2}} \\right) } $"
   ]
  },
  {
   "cell_type": "code",
   "execution_count": 304,
   "metadata": {},
   "outputs": [
    {
     "name": "stdout",
     "output_type": "stream",
     "text": [
      "theta_E = 9.97, theta_H = 8.00\n",
      "R0_E = 0.31, R0_H = 0.28\n",
      "Nx = 7, Ny = 5\n"
     ]
    }
   ],
   "source": [
    "c = 3e8\n",
    "A = 0.109\n",
    "B = 0.079\n",
    "R = 0.245\n",
    "a = 0.0229 # WR90 WG16\n",
    "b = 0.0102 # WR90 WG16\n",
    "dx = lambda0 / 2\n",
    "dy = lambda0 / 2\n",
    "theta_E = np.arctan( (A-a)/2 / R )\n",
    "theta_H = np.arctan( (B-b)/2 / R )\n",
    "print( f\"theta_E = {theta_E*180/3.14:.2f}, theta_H = {theta_H*180/3.14:.2f}\" )\n",
    "R0_E = A / 2 / np.sin(theta_E)\n",
    "R0_H = B / 2 / np.sin(theta_H)\n",
    "beta0 = 2 * np.pi / lambda0\n",
    "beta =  beta0 * ( 1 - (lambda0 / (2*a))**2 )**0.5 # propagation constant of the TE10 mode\n",
    "print( f\"R0_E = {R0_E:.2f}, R0_H = {R0_H:.2f}\" )\n",
    "x = np.concatenate( \n",
    "    (np.flip(np.arange(0, -A/2, -dx)[1:],0), \n",
    "              np.arange(0, A/2, dx)) ).reshape(1,-1)\n",
    "y = np.concatenate( \n",
    "    (np.flip(np.arange(0, -B/2, -dy)[1:],0), \n",
    "              np.arange(0, B/2, dy)) ).reshape(-1,1)\n",
    "Nx = x.shape[1]\n",
    "Ny = y.shape[0]\n",
    "print(f\"Nx = {Nx}, Ny = {Ny}\")"
   ]
  },
  {
   "cell_type": "markdown",
   "metadata": {},
   "source": [
    "The phase error occurs due to the difference between the length from the center of the feeder to the center of the horn aperture and the length from the center of the feeder to the horn edge.  This complicates the analysis, and makes the results for the waveguide apertures invalid.\n",
    "\n",
    "The tangential fields arriving at the input of the horn are the transverse field components of the waveguide dominant mode TE10.\n",
    "\n",
    "Huygens source (Balanis p.807)."
   ]
  },
  {
   "cell_type": "code",
   "execution_count": 305,
   "metadata": {},
   "outputs": [],
   "source": [
    "# beta is the waveguide transverse impedance\n",
    "E_a_y = E0 * np.cos(np.pi/A * x) * np.exp( -1j * beta / 2 * (x**2/R0_E**2 + y**2/R0_H**2) )"
   ]
  },
  {
   "cell_type": "code",
   "execution_count": 306,
   "metadata": {},
   "outputs": [],
   "source": [
    "hires = 1"
   ]
  },
  {
   "cell_type": "code",
   "execution_count": 307,
   "metadata": {},
   "outputs": [],
   "source": [
    "pointsToAdd = 100\n",
    "E_a_y_extended = np.zeros((E_a_y.shape[0]+2*pointsToAdd, E_a_y.shape[1]+2*pointsToAdd), dtype=complex)\n",
    "E_a_y_extended[pointsToAdd:pointsToAdd+Ny, pointsToAdd:pointsToAdd+Nx] = E_a_y[:,:]\n",
    "hiresNx = Nx + 2 * pointsToAdd\n",
    "hiresNy = Ny + 2 * pointsToAdd"
   ]
  },
  {
   "cell_type": "code",
   "execution_count": 308,
   "metadata": {},
   "outputs": [],
   "source": [
    "if hires:\n",
    "    kx = np.fft.fftshift(np.fft.fftfreq(hiresNx,dx)) * 2 * np.pi\n",
    "    ky = np.fft.fftshift(np.fft.fftfreq(hiresNy,dy)) * 2 * np.pi\n",
    "else:\n",
    "    kx = np.fft.fftshift(np.fft.fftfreq(Nx,dx)) * 2 * np.pi\n",
    "    ky = np.fft.fftshift(np.fft.fftfreq(Ny,dy)) * 2 * np.pi\n",
    "\n",
    "mesh_kx, mesh_ky = np.meshgrid(kx, ky)\n",
    "\n",
    "validIdx = np.where( k0**2 >= (mesh_kx**2 + mesh_ky**2) )\n",
    "nonValidIdx = np.where( k0**2 < (mesh_kx**2 + mesh_ky**2) )\n",
    "kz = np.zeros(mesh_kx.shape)\n",
    "kz[validIdx] = np.power( k0**2 - mesh_kx[validIdx]**2 - mesh_ky[validIdx]**2, 0.5 )"
   ]
  },
  {
   "cell_type": "code",
   "execution_count": 309,
   "metadata": {},
   "outputs": [],
   "source": [
    "theta, phi = dia.getThetaPhi(mesh_kx, mesh_ky, kz, k0)\n",
    "u = np.sin(theta) * np.cos(phi)\n",
    "v = np.sin(theta) * np.sin(phi)\n",
    "w = np.cos(theta)"
   ]
  },
  {
   "cell_type": "code",
   "execution_count": 310,
   "metadata": {},
   "outputs": [],
   "source": [
    "fig, (ax0, ax1) = plt.subplots(2,1)\n",
    "idx_x = int(Nx/2)\n",
    "idx_y = int(Ny/2)\n",
    "\n",
    "ax0.plot(np.abs(E_a_y[:,idx_x]), label=\"H plane\")\n",
    "ax0.legend()\n",
    "ax0.grid()\n",
    "\n",
    "ax1.plot(np.abs(E_a_y[idx_y,:]), label=\"E plane\")\n",
    "ax1.legend()\n",
    "ax1.grid()"
   ]
  },
  {
   "cell_type": "markdown",
   "metadata": {},
   "source": [
    "# Orfanidis (18. Radiation from Apertures p.805)"
   ]
  },
  {
   "cell_type": "code",
   "execution_count": 311,
   "metadata": {},
   "outputs": [],
   "source": [
    "if hires:\n",
    "    fx = 0\n",
    "    fy = np.fft.fftshift(np.fft.fft2(E_a_y_extended))\n",
    "else:\n",
    "    fx = 0\n",
    "    fy = np.fft.fftshift(np.fft.fft2(E_a_y))"
   ]
  },
  {
   "cell_type": "code",
   "execution_count": 312,
   "metadata": {},
   "outputs": [
    {
     "data": {
      "text/plain": [
       "<matplotlib.collections.PolyCollection at 0x7fc77efefe48>"
      ]
     },
     "execution_count": 312,
     "metadata": {},
     "output_type": "execute_result"
    }
   ],
   "source": [
    "idx = np.where(theta==pi/2)\n",
    "aux = np.zeros(theta.shape)\n",
    "aux[idx] = 1\n",
    "plt.figure()\n",
    "plt.pcolor(aux)"
   ]
  },
  {
   "cell_type": "code",
   "execution_count": 313,
   "metadata": {},
   "outputs": [],
   "source": [
    "r = 1\n",
    "orfa_E_theta = 1j * k0 * np.exp(-1j*k0*r) / (2*pi*r)                 * (fx * np.cos(phi) + fy * np.sin(phi))\n",
    "orfa_E_phi   = 1j * k0 * np.exp(-1j*k0*r) / (2*pi*r) * np.cos(theta) * (fy * np.cos(phi) - fx * np.sin(phi))\n",
    "orfa_E_tot   = (orfa_E_theta**2 + orfa_E_phi**2)**0.5\n",
    "orfa_E_tot_norm = orfa_E_tot / np.amax( np.abs(orfa_E_tot ) )\n",
    "dBmin = -30\n",
    "dBmax = 0"
   ]
  },
  {
   "cell_type": "code",
   "execution_count": 314,
   "metadata": {},
   "outputs": [],
   "source": [
    "fig, (ax0, ax1) = plt.subplots(1,2)\n",
    "\n",
    "im = ax0.pcolor(u, v, 20 * np.log10(np.abs(orfa_E_tot_norm)), vmin=dBmin, vmax=dBmax)\n",
    "ax0.set_aspect(\"equal\")\n",
    "dia.addColorBar(im, ax0)\n",
    "\n",
    "im = ax1.pcolor(kx, ky, 20 * np.log10(np.abs(orfa_E_tot_norm)), vmin=dBmin, vmax=dBmax)\n",
    "ax1.set_aspect(\"equal\")\n",
    "dia.addColorBar(im, ax1)"
   ]
  },
  {
   "cell_type": "code",
   "execution_count": 315,
   "metadata": {},
   "outputs": [],
   "source": [
    "fig, (ax0, ax1) = plt.subplots(1,2)\n",
    "\n",
    "im = ax0.pcolor(u, v, theta, label=\"theta\")\n",
    "ax0.set_aspect(\"equal\")\n",
    "ax0.legend()\n",
    "dia.addColorBar(im, ax0)\n",
    "\n",
    "im = ax1.pcolor(u, v, phi, label=\"phi\")\n",
    "ax1.set_aspect(\"equal\")\n",
    "ax1.legend()\n",
    "dia.addColorBar(im, ax1)"
   ]
  },
  {
   "cell_type": "code",
   "execution_count": 317,
   "metadata": {},
   "outputs": [
    {
     "data": {
      "text/plain": [
       "(-30, 0)"
      ]
     },
     "execution_count": 317,
     "metadata": {},
     "output_type": "execute_result"
    }
   ],
   "source": [
    "fig, ax = plt.subplots(1, 1)\n",
    "\n",
    "idx_x = int(hiresNx/2)\n",
    "idx_y = int(hiresNy/2)\n",
    "\n",
    "ax.plot(v[:,idx_x]*180/pi, 20*np.log10(np.abs(orfa_E_tot_norm[:,idx_x])), '.-', label=\"H plane\")\n",
    "ax.plot(u[idx_y,:]*180/pi, 20*np.log10(np.abs(orfa_E_tot_norm[idx_y,:])), '.-', label=\"E plane\")\n",
    "ax.legend()\n",
    "ax.grid()\n",
    "ax.set_ylim(dBmin, dBmax)"
   ]
  },
  {
   "cell_type": "code",
   "execution_count": 286,
   "metadata": {},
   "outputs": [
    {
     "data": {
      "text/plain": [
       "(208, 206)"
      ]
     },
     "execution_count": 286,
     "metadata": {},
     "output_type": "execute_result"
    }
   ],
   "source": [
    "hiresNx, hiresNy"
   ]
  },
  {
   "cell_type": "markdown",
   "metadata": {},
   "source": [
    "## Rectangular apertures"
   ]
  },
  {
   "cell_type": "code",
   "execution_count": 320,
   "metadata": {},
   "outputs": [
    {
     "name": "stdout",
     "output_type": "stream",
     "text": [
      "delta_theta_x = 13.97, delta_theta_y = 19.28\n"
     ]
    }
   ],
   "source": [
    "delta_theta_x = 0.886 * lambda0 / A *180 / pi\n",
    "delta_theta_y = 0.886 * lambda0 / B *180 / pi\n",
    "print(f\"delta_theta_x = {delta_theta_x:.2f}, delta_theta_y = {delta_theta_y:.2f}\")"
   ]
  },
  {
   "cell_type": "code",
   "execution_count": null,
   "metadata": {},
   "outputs": [],
   "source": []
  }
 ],
 "metadata": {
  "kernelspec": {
   "display_name": "Python 3",
   "language": "python",
   "name": "python3"
  },
  "language_info": {
   "codemirror_mode": {
    "name": "ipython",
    "version": 3
   },
   "file_extension": ".py",
   "mimetype": "text/x-python",
   "name": "python",
   "nbconvert_exporter": "python",
   "pygments_lexer": "ipython3",
   "version": "3.6.6"
  },
  "toc": {
   "base_numbering": 1,
   "nav_menu": {},
   "number_sections": true,
   "sideBar": true,
   "skip_h1_title": false,
   "title_cell": "Table of Contents",
   "title_sidebar": "Contents",
   "toc_cell": false,
   "toc_position": {},
   "toc_section_display": true,
   "toc_window_display": true
  }
 },
 "nbformat": 4,
 "nbformat_minor": 2
}
