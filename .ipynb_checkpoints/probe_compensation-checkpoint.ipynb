{
 "cells": [
  {
   "cell_type": "code",
   "execution_count": 1,
   "metadata": {},
   "outputs": [],
   "source": [
    "import numpy as np\n",
    "import matplotlib.pyplot as plt\n",
    "%matplotlib qt5"
   ]
  },
  {
   "cell_type": "code",
   "execution_count": 2,
   "metadata": {},
   "outputs": [],
   "source": [
    "def E_E_yaghjian(theta, k, a, b, AE):\n",
    "    beta_over_k = (1 - np.pi / (k*a)**2)**0.5 # normalized propagation constant for the TE10 mode\n",
    "    E_E_theta = AE * ( 1 + beta_over_k*np.cos(theta) ) / ( 1 + beta_over_k ) \\\n",
    "                   * np.sin( k*b/2 * np.sin(theta) ) / ( k*b/2 * np.sin(theta) )"
   ]
  },
  {
   "cell_type": "code",
   "execution_count": 5,
   "metadata": {},
   "outputs": [],
   "source": [
    "# L\n",
    "a_L = 16.51e-2\n",
    "b_L = 8.255e-2\n",
    "# C\n",
    "a_C = 4.755e-2\n",
    "b_C = 2.215e-2\n",
    "# X\n",
    "a_X = 2.286e-2\n",
    "b_X = 1.016e-2\n",
    "# Ka 26.5-40 GHz\n",
    "a_Ka = 7.112e-3\n",
    "b_Ka = 3.556e-3"
   ]
  },
  {
   "cell_type": "code",
   "execution_count": 4,
   "metadata": {},
   "outputs": [
    {
     "data": {
      "text/plain": [
       "0.02286"
      ]
     },
     "execution_count": 4,
     "metadata": {},
     "output_type": "execute_result"
    }
   ],
   "source": [
    "a_X"
   ]
  },
  {
   "cell_type": "code",
   "execution_count": null,
   "metadata": {},
   "outputs": [],
   "source": []
  }
 ],
 "metadata": {
  "kernelspec": {
   "display_name": "Python 3",
   "language": "python",
   "name": "python3"
  },
  "language_info": {
   "codemirror_mode": {
    "name": "ipython",
    "version": 3
   },
   "file_extension": ".py",
   "mimetype": "text/x-python",
   "name": "python",
   "nbconvert_exporter": "python",
   "pygments_lexer": "ipython3",
   "version": "3.6.6"
  },
  "toc": {
   "base_numbering": 1,
   "nav_menu": {},
   "number_sections": true,
   "sideBar": true,
   "skip_h1_title": false,
   "title_cell": "Table of Contents",
   "title_sidebar": "Contents",
   "toc_cell": false,
   "toc_position": {},
   "toc_section_display": true,
   "toc_window_display": true
  }
 },
 "nbformat": 4,
 "nbformat_minor": 2
}
