{
 "cells": [
  {
   "cell_type": "markdown",
   "metadata": {},
   "source": [
    "# Init"
   ]
  },
  {
   "cell_type": "code",
   "execution_count": null,
   "metadata": {},
   "outputs": [],
   "source": [
    "import numpy as np\n",
    "import matplotlib.pyplot as plt\n",
    "%matplotlib qt5"
   ]
  },
  {
   "cell_type": "code",
   "execution_count": null,
   "metadata": {},
   "outputs": [],
   "source": [
    "from scipy import interpolate\n",
    "from mpl_toolkits.axes_grid1 import make_axes_locatable"
   ]
  },
  {
   "cell_type": "code",
   "execution_count": null,
   "metadata": {},
   "outputs": [],
   "source": [
    "root_dir = \"/home/pleroy/DATA/DIADEM/bfu\"\n",
    "# 011 ===== 3l +45\n",
    "dir_011 = \"/20181015/011_3l_05l_+45\"\n",
    "pre_011 = \"ey\"\n",
    "dat_011 = root_dir + dir_011 + \"/\" + pre_011\n",
    "# 012 ===== 3l -45\n",
    "dir_012 = \"/20181015/012_3l_05l_-45\"\n",
    "pre_012 = \"ey\"\n",
    "dat_012 = root_dir + dir_012 + \"/\" + pre_012\n",
    "# 013_0 ===== 7l +45\n",
    "dir_013_0 = \"/20181016/013_seq/SEQ_0_7l_+45\"\n",
    "pre_013_0 = \"ey\"\n",
    "dat_013_0 = root_dir + dir_013_0 + \"/\" + pre_013_0\n",
    "# 013_1 ===== 7l -45\n",
    "dir_013_1 = \"/20181016/013_seq/SEQ_1_7l_-45\"\n",
    "pre_013_1 = \"ey\"\n",
    "dat_013_1 = root_dir + dir_013_1 + \"/\" + pre_013_1\n",
    "# 014_0 ===== 5l +45\n",
    "dir_014_0 = \"/20181017/014_5l_05l/SEQ_0_5l_+45\"\n",
    "pre_014_0 = \"ey\"\n",
    "dat_014_0 = root_dir + dir_014_0 + \"/\" + pre_014_0\n",
    "# 014_1 ===== 5l +-5\n",
    "dir_014_1 = \"/20181017/014_5l_05l/SEQ_1_5l_-45\"\n",
    "pre_014_1 = \"ey\"\n",
    "dat_014_1 = root_dir + dir_014_1 + \"/\" + pre_014_1"
   ]
  },
  {
   "cell_type": "code",
   "execution_count": null,
   "metadata": {},
   "outputs": [],
   "source": [
    "import os\n",
    "import fnmatch"
   ]
  },
  {
   "cell_type": "code",
   "execution_count": null,
   "metadata": {},
   "outputs": [],
   "source": [
    "x0y0 = (211, 244.5)"
   ]
  },
  {
   "cell_type": "markdown",
   "metadata": {},
   "source": [
    "# Get frequencies and y values"
   ]
  },
  {
   "cell_type": "markdown",
   "metadata": {},
   "source": [
    "## Get Nf and Ny"
   ]
  },
  {
   "cell_type": "code",
   "execution_count": null,
   "metadata": {},
   "outputs": [],
   "source": [
    "def get_Nf_Ny(data_dir):\n",
    "    f_y = []\n",
    "    for file in os.listdir(data_dir):\n",
    "        if fnmatch.fnmatch(file, \"*.amp\"):\n",
    "            sfile = file.split(\".amp\")[0].split(\"_\")\n",
    "            f_y.append( (sfile[1], sfile[2]) )\n",
    "    Nf = max( [int(f_y[0]) for f_y in f_y if f_y[1] == '000'] ) + 1\n",
    "    Ny = max( [int(f_y[1]) for f_y in f_y if f_y[0] == '000'] ) + 1\n",
    "    print(data_dir)\n",
    "    print(\"Nf = {}, Ny = {}\".format(Nf, Ny))\n",
    "    return Nf, Ny"
   ]
  },
  {
   "cell_type": "code",
   "execution_count": null,
   "metadata": {},
   "outputs": [],
   "source": [
    "Nf, Ny = get_Nf_Ny(root_dir + dir_011)"
   ]
  },
  {
   "cell_type": "markdown",
   "metadata": {},
   "source": [
    "## Get f and y"
   ]
  },
  {
   "cell_type": "code",
   "execution_count": null,
   "metadata": {},
   "outputs": [],
   "source": [
    "def getF(nbFreq, data_prefix):\n",
    "    f = np.zeros(nbFreq)\n",
    "    for freqIdx in range( nbFreq ):\n",
    "        filename = data_prefix + f\"_{freqIdx:03d}_000.amp\"\n",
    "        with open(filename) as file:\n",
    "            for line in file:\n",
    "                if \"FreqValue\" in line:\n",
    "                    f[freqIdx] = float(line.split(\"=\")[1])\n",
    "                elif \"Data#1\" in line:\n",
    "                    break\n",
    "    print(root_dir + \" Nf = {}, fmin = {}, fmax = {}\".format(f.size, np.amin(f), np.amax(f)))\n",
    "    return f"
   ]
  },
  {
   "cell_type": "code",
   "execution_count": null,
   "metadata": {},
   "outputs": [],
   "source": [
    "def getY(nbY, data_prefix):\n",
    "    y = np.zeros(nbY)\n",
    "    for yIdx in range( nbY ):\n",
    "        filename = data_prefix + f\"_000_{yIdx:03d}.amp\"\n",
    "        with open(filename) as file:\n",
    "            for line in file:\n",
    "                if \"StepAxis=y\" in line:\n",
    "                    y[yIdx] = float(line.split(\" \")[-2])\n",
    "                elif \"Data#1\" in line:\n",
    "                    break\n",
    "    print(root_dir + \" Ny = {}, ymin = {}, ymax = {}\".format(y.size, np.amin(y), np.amax(y)))\n",
    "    return y"
   ]
  },
  {
   "cell_type": "code",
   "execution_count": null,
   "metadata": {},
   "outputs": [],
   "source": [
    "f = getF( Nf, dat_011)\n",
    "y = getY( Ny, dat_011)"
   ]
  },
  {
   "cell_type": "markdown",
   "metadata": {},
   "source": [
    "# Get amplitudes and phases"
   ]
  },
  {
   "cell_type": "code",
   "execution_count": null,
   "metadata": {},
   "outputs": [],
   "source": [
    "def get_headerSize(filename):\n",
    "    with open(filename) as file:\n",
    "        for counter, line in enumerate(file):\n",
    "            if \"Data#1\" in line:\n",
    "                break\n",
    "    return counter + 1"
   ]
  },
  {
   "cell_type": "code",
   "execution_count": null,
   "metadata": {},
   "outputs": [],
   "source": [
    "def get_x_val(data_prefix, fi, yi, ext):\n",
    "    filename = data_prefix + f\"_{fi:03d}_{yi:03d}\" + ext\n",
    "    headerSize = get_headerSize(filename)\n",
    "    # read the data\n",
    "    x, val = np.genfromtxt(filename, skip_header=headerSize, unpack=True)\n",
    "    return x, val\n",
    "\n",
    "def getAmpPhaArrays(Nx, Ny, fi, data_prefix):\n",
    "    ampArray = np.zeros((Ny, Nx))\n",
    "    phaArray = np.zeros((Ny, Nx))\n",
    "    for yi in range(Ny):\n",
    "        x, amp = get_x_val(data_prefix, fi, yi, \".amp\")\n",
    "        ampArray[yi, :] = amp[:]\n",
    "        x, pha = get_x_val(data_prefix, fi, yi, \".pha\")\n",
    "        phaArray[yi, :] = pha[:]\n",
    "    return ampArray, phaArray"
   ]
  },
  {
   "cell_type": "code",
   "execution_count": null,
   "metadata": {},
   "outputs": [],
   "source": [
    "fi = 0\n",
    "yi = 0\n",
    "x0, amp0 = get_x_val(dat_011, fi, yi, \".amp\")\n",
    "x0_setpoints = np.arange(23.4, 398.6 + 4.69, 4.69)\n",
    "Nx = x0.size\n",
    "# (left, right, bottom, top)\n",
    "extent = [ x0[-1], x0[0], y[-1], y[0] ]\n",
    "extent = [ x0[-1]-x0y0[0], x0[0]-x0y0[0], y[-1]-x0y0[1], y[0]-x0y0[1] ]\n",
    "cmap='jet'"
   ]
  },
  {
   "cell_type": "code",
   "execution_count": null,
   "metadata": {},
   "outputs": [],
   "source": [
    "X0, Y = np.meshgrid(x0_setpoints, y)\n",
    "x0.shape, y.shape, X0.shape, Y.shape"
   ]
  },
  {
   "cell_type": "code",
   "execution_count": null,
   "metadata": {},
   "outputs": [],
   "source": [
    "fi = 4\n",
    "print(\"get data for f = {}\".format(f[fi]))\n",
    "\n",
    "ampAndPhaArrays = {}\n",
    "ampAndPhaArrays[\"011\"] = ( *getAmpPhaArrays(Nx, Ny, fi, dat_011), dir_011, pre_011 )\n",
    "ampAndPhaArrays[\"012\"] = ( *getAmpPhaArrays(Nx, Ny, fi, dat_012), dir_012, pre_012 )\n",
    "ampAndPhaArrays[\"013_0\"] = ( *getAmpPhaArrays(Nx, Ny, fi, dat_013_0), dir_013_0, pre_013_0 )\n",
    "ampAndPhaArrays[\"013_1\"] = ( *getAmpPhaArrays(Nx, Ny, fi, dat_013_1), dir_013_1, pre_013_1 )\n",
    "ampAndPhaArrays[\"014_0\"] = ( *getAmpPhaArrays(Nx, Ny, fi, dat_014_0), dir_014_0, pre_014_0 )\n",
    "ampAndPhaArrays[\"014_1\"] = ( *getAmpPhaArrays(Nx, Ny, fi, dat_014_1), dir_014_1, pre_014_1 )"
   ]
  },
  {
   "cell_type": "code",
   "execution_count": null,
   "metadata": {},
   "outputs": [],
   "source": [
    "allAmpArrays = ( [ampAndPhaArrays[i][0] for i in ampAndPhaArrays.keys()])\n",
    "vmaxAll = np.amax(allAmpArrays)\n",
    "vminAll = np.amin(allAmpArrays)\n",
    "myVmax = 10\n",
    "myVmin = -40\n",
    "cmap='viridis'"
   ]
  },
  {
   "cell_type": "code",
   "execution_count": null,
   "metadata": {},
   "outputs": [],
   "source": [
    "import parula as par"
   ]
  },
  {
   "cell_type": "code",
   "execution_count": null,
   "metadata": {},
   "outputs": [],
   "source": [
    "plt.figure()\n",
    "plt.imshow(ampAndPhaArrays[\"011\"][0], extent=extent, vmin=myVmin, vmax=myVmax, cmap=cmap )\n",
    "title = \"amplitudes\\n\" + dir_011 + \"/\" + pre_011\n",
    "plt.gca().set_aspect(\"equal\")\n",
    "plt.colorbar()\n",
    "plt.title(title)"
   ]
  },
  {
   "cell_type": "code",
   "execution_count": null,
   "metadata": {},
   "outputs": [],
   "source": [
    "plt.figure()\n",
    "plt.imshow(ampAndPhaArrays[\"011\"][1], extent=extent)\n",
    "title = \"amplitudes\"\n",
    "plt.colorbar()"
   ]
  },
  {
   "cell_type": "code",
   "execution_count": null,
   "metadata": {},
   "outputs": [],
   "source": [
    "plt.figure()\n",
    "plt.pcolor(X0, Y, ampAndPhaArrays[\"011\"][0], vmin=myVmin, vmax=myVmax)\n",
    "plt.gca().set_aspect('equal')\n",
    "plt.colorbar()\n",
    "plt.title(\"pcolor\")"
   ]
  },
  {
   "cell_type": "code",
   "execution_count": null,
   "metadata": {},
   "outputs": [],
   "source": [
    "def addSubPlotAmp(sub, nb, extent, vmin, vmax, cmap, k=0):\n",
    "    ax = plt.subplot(sub)\n",
    "    if k == 0:\n",
    "        ampArray = ampAndPhaArrays[nb][0]\n",
    "    else:\n",
    "        ampArray = np.rot90(ampAndPhaArrays[nb][0], k=k)\n",
    "    im = ax.imshow(ampArray, extent=extent, vmin=vmin, vmax=vmax, cmap=cmap)\n",
    "    title = \"amplitude\\n\" + ampAndPhaArrays[nb][2] + \"/\" + ampAndPhaArrays[nb][3]\n",
    "    divider = make_axes_locatable(ax)\n",
    "    cax = divider.append_axes(\"right\", size=\"5%\", pad=\"5%\")\n",
    "    plt.colorbar(im, cax=cax)\n",
    "    ax.set_title(title)\n",
    "    ax.grid(color='k',linestyle='--')\n",
    "    \n",
    "def addSubPlotPha(sub, nb, cmap, k=0):\n",
    "    plt.subplot(sub)\n",
    "    if k == 0:\n",
    "        ampArray = ampAndPhaArrays[nb][1]\n",
    "    else:\n",
    "        ampArray = np.rot90(ampAndPhaArrays[nb][1],k=k)\n",
    "    plt.imshow(ampArray, cmap=cmap)\n",
    "    title = \"phase\\n\" + ampAndPhaArrays[nb][2] + \"/\" + ampAndPhaArrays[nb][3]\n",
    "    plt.colorbar()\n",
    "    plt.title(title)"
   ]
  },
  {
   "cell_type": "code",
   "execution_count": null,
   "metadata": {},
   "outputs": [],
   "source": [
    "plt.figure()\n",
    "\n",
    "addSubPlotAmp(131, \"011\", extent, myVmin, myVmax, cmap)\n",
    "addSubPlotAmp(132, \"012\", extent, myVmin, myVmax, cmap, -1)\n",
    "#addSubPlotAmp(133, \"006\", extent, vmin, vmax, cmap)"
   ]
  },
  {
   "cell_type": "code",
   "execution_count": null,
   "metadata": {},
   "outputs": [],
   "source": [
    "plt.figure()\n",
    "\n",
    "addSubPlotPha(131, \"011\", cmap)\n",
    "addSubPlotPha(132, \"012\", cmap)\n",
    "#addSubPlotPha(133, \"006\", cmap)"
   ]
  },
  {
   "cell_type": "markdown",
   "metadata": {},
   "source": [
    "# Save data"
   ]
  },
  {
   "cell_type": "code",
   "execution_count": null,
   "metadata": {},
   "outputs": [],
   "source": [
    "def saveData(root_dir, nb):\n",
    "    header = \"x y amp pha\"\n",
    "    filename = root_dir + ampAndPhaArrays[nb][2] + \"_amp_pha_32GHz.data\"\n",
    "    print(\"save \" + filename)\n",
    "    np.savetxt(filename, \n",
    "               np.column_stack(( \n",
    "                   X0.flatten(), \n",
    "                   Y.flatten(), \n",
    "                   ampAndPhaArrays[nb][0].flatten(), \n",
    "                   ampAndPhaArrays[nb][1].flatten())),\n",
    "               header=header,\n",
    "               comments=\"\"\n",
    "              )"
   ]
  },
  {
   "cell_type": "code",
   "execution_count": null,
   "metadata": {},
   "outputs": [],
   "source": [
    "saveData(root_dir, \"011\")\n",
    "saveData(root_dir, \"012\")\n",
    "saveData(root_dir, \"013_0\")\n",
    "saveData(root_dir, \"013_1\")\n",
    "saveData(root_dir, \"014_0\")\n",
    "saveData(root_dir, \"014_1\")"
   ]
  },
  {
   "cell_type": "markdown",
   "metadata": {},
   "source": [
    "# Near Field to Far Field\n",
    "Take the example of 5 lambda: \n",
    "* 002 +45°\n",
    "* 003 -45°"
   ]
  },
  {
   "cell_type": "code",
   "execution_count": null,
   "metadata": {},
   "outputs": [],
   "source": [
    "def getReIm(amp, pha):\n",
    "    linAmp = np.power( 10, amp / 20 )\n",
    "    re = linAmp * np.cos( pha * np.pi / 180 )\n",
    "    im = linAmp * np.sin( pha * np.pi / 180 )\n",
    "    return re, im\n",
    "\n",
    "def getComplex(amp, pha):\n",
    "    linAmp = np.power( 10, amp / 20 )\n",
    "    re = linAmp * np.cos( pha * np.pi / 180 )\n",
    "    im = linAmp * np.sin( pha * np.pi / 180 )\n",
    "    return re + 1j * im"
   ]
  },
  {
   "cell_type": "code",
   "execution_count": null,
   "metadata": {},
   "outputs": [],
   "source": [
    "c_011 = getComplex( ampAndPhaArrays[\"011\"][0], ampAndPhaArrays[\"011\"][1] )\n",
    "c_012 = np.rot90(getComplex( ampAndPhaArrays[\"012\"][0], ampAndPhaArrays[\"012\"][1] ), k=-1)\n",
    "c_013_0 = getComplex( ampAndPhaArrays[\"013_0\"][0], ampAndPhaArrays[\"013_0\"][1] )\n",
    "c_013_1 = np.rot90(getComplex( ampAndPhaArrays[\"013_1\"][0], ampAndPhaArrays[\"013_1\"][1] ), k=-1)\n",
    "c_014_0 = getComplex( ampAndPhaArrays[\"014_0\"][0], ampAndPhaArrays[\"014_0\"][1] )\n",
    "c_014_1 = np.rot90(getComplex( ampAndPhaArrays[\"014_1\"][0], ampAndPhaArrays[\"014_1\"][1] ), k=-1)"
   ]
  },
  {
   "cell_type": "code",
   "execution_count": null,
   "metadata": {},
   "outputs": [],
   "source": [
    "X_ey = X0 - x0y0[0]\n",
    "Y_ey = Y - x0y0[1]\n",
    "X_ex = np.rot90(Y_ey, k=-1)\n",
    "Y_ex = np.rot90(-X_ey, k=-1)"
   ]
  },
  {
   "cell_type": "code",
   "execution_count": null,
   "metadata": {},
   "outputs": [],
   "source": [
    "plt.figure()\n",
    "plt.plot(X_ey[0,:], \".-\", label=\"X_ey\")\n",
    "plt.plot(Y_ey[:,0], \".-\", label=\"X_ex\")\n",
    "plt.legend()"
   ]
  },
  {
   "cell_type": "code",
   "execution_count": null,
   "metadata": {},
   "outputs": [],
   "source": [
    "plt.figure()\n",
    "ey = np.abs( c_011 )\n",
    "ex = np.abs( c_012 )\n",
    "e_tot = 20 * np.log10( (ex**2 + ey**2)**0.5 )\n",
    "plt.imshow( e_tot, vmin=vminAll, vmax=vmaxAll, cmap=cmap )\n",
    "plt.colorbar()"
   ]
  },
  {
   "cell_type": "code",
   "execution_count": null,
   "metadata": {},
   "outputs": [],
   "source": [
    "ey = np.abs( c_011 )\n",
    "ex = np.abs( c_012 )\n",
    "e_tot = 20 * np.log10( (ex**2 + ey**2)**0.5 )\n",
    "\n",
    "plt.figure()\n",
    "addSubPlotAmp(131, \"011\", extent, myVmin, myVmax, cmap)\n",
    "addSubPlotAmp(132, \"012\", extent, myVmin, myVmax, cmap)\n",
    "\n",
    "ax = plt.subplot(133)\n",
    "im = ax.imshow(e_tot, extent=extent, vmin=myVmin, vmax=myVmax, cmap=cmap)\n",
    "divider = make_axes_locatable(ax)\n",
    "cax = divider.append_axes(\"right\", size=\"5%\", pad=\"5%\")\n",
    "plt.colorbar(im, cax=cax)\n",
    "ax.set_title(\"total e field, 3 $\\lambda$\")\n",
    "ax.grid(color='k',linestyle='--')"
   ]
  },
  {
   "cell_type": "code",
   "execution_count": null,
   "metadata": {},
   "outputs": [],
   "source": [
    "ey = np.abs( c_013_0 )\n",
    "ex = np.abs( c_013_1 )\n",
    "e_tot = 20 * np.log10( (ex**2 + ey**2)**0.5 )\n",
    "\n",
    "plt.figure()\n",
    "addSubPlotAmp(131, \"013_0\", extent, myVmin, myVmax, cmap)\n",
    "addSubPlotAmp(132, \"013_1\", extent, myVmin, myVmax, cmap)\n",
    "\n",
    "ax = plt.subplot(133)\n",
    "im = ax.imshow(e_tot, extent=extent, vmin=myVmin, vmax=myVmax, cmap=cmap)\n",
    "divider = make_axes_locatable(ax)\n",
    "cax = divider.append_axes(\"right\", size=\"5%\", pad=\"5%\")\n",
    "plt.colorbar(im, cax=cax)\n",
    "ax.set_title(\"total e field, 7 $\\lambda$\")\n",
    "ax.grid(color='k',linestyle='--')"
   ]
  },
  {
   "cell_type": "code",
   "execution_count": null,
   "metadata": {},
   "outputs": [],
   "source": [
    "ey = np.abs( c_014_0 )\n",
    "ex = np.abs( c_014_1 )\n",
    "e_tot = 20 * np.log10( (ex**2 + ey**2)**0.5 )\n",
    "\n",
    "plt.figure()\n",
    "addSubPlotAmp(131, \"014_0\", extent, myVmin, myVmax, cmap)\n",
    "addSubPlotAmp(132, \"014_1\", extent, myVmin, myVmax, cmap)\n",
    "\n",
    "ax = plt.subplot(133)\n",
    "im = ax.imshow(e_tot, extent=extent, vmin=myVmin, vmax=myVmax, cmap=cmap)\n",
    "divider = make_axes_locatable(ax)\n",
    "cax = divider.append_axes(\"right\", size=\"5%\", pad=\"5%\")\n",
    "plt.colorbar(im, cax=cax)\n",
    "ax.set_title(\"total e field, 5 $\\lambda$\")\n",
    "ax.grid(color='k',linestyle='--')"
   ]
  },
  {
   "cell_type": "markdown",
   "metadata": {},
   "source": [
    "# Stranger things"
   ]
  },
  {
   "cell_type": "code",
   "execution_count": null,
   "metadata": {},
   "outputs": [],
   "source": [
    "n = 8\n",
    "X, Y = np.mgrid[0:n, 0:n]\n",
    "T = np.arctan2(Y - n / 2., X - n/2.)\n",
    "R = 10 + np.sqrt((Y - n / 2.0) ** 2 + (X - n / 2.0) ** 2)\n",
    "U, V = R * np.cos(T), R * np.sin(T)\n",
    "\n",
    "plt.figure()\n",
    "\n",
    "plt.axes([0.025, 0.025, 0.95, 0.95])\n",
    "plt.quiver(X, Y, U, V, R, alpha=.5)\n",
    "plt.quiver(X, Y, U, V, edgecolor='k', facecolor='None', linewidth=.5)\n",
    "\n",
    "plt.xlim(-1, n)\n",
    "plt.xticks(())\n",
    "plt.ylim(-1, n)\n",
    "plt.yticks(())"
   ]
  },
  {
   "cell_type": "code",
   "execution_count": null,
   "metadata": {},
   "outputs": [],
   "source": [
    "plt.figure()\n",
    "\n",
    "plt.quiver(X_ey, Y_ey, ey, ex, R, alpha=.5)\n",
    "plt.quiver(X_ey, Y_ey, ey, ex, edgecolor='k', facecolor='None', linewidth=.5)\n",
    "\n",
    "#plt.xlim(-1, n)\n",
    "#plt.xticks(())\n",
    "#plt.ylim(-1, n)\n",
    "#plt.yticks(())"
   ]
  },
  {
   "cell_type": "code",
   "execution_count": null,
   "metadata": {},
   "outputs": [],
   "source": [
    "import matplotlib as mpl"
   ]
  },
  {
   "cell_type": "code",
   "execution_count": null,
   "metadata": {},
   "outputs": [],
   "source": [
    "fig, axes = plt.subplots(nrows=2, ncols=2, sharex=True, sharey=True)\n",
    "for ax in axes.flat:\n",
    "    im = ax.imshow(np.random.random((10,10)), vmin=0, vmax=1)\n",
    "\n",
    "cax,kw = mpl.colorbar.make_axes([ax for ax in axes.flat])\n",
    "plt.colorbar(im, cax=cax, **kw)"
   ]
  },
  {
   "cell_type": "code",
   "execution_count": null,
   "metadata": {},
   "outputs": [],
   "source": [
    "for ax in axes.flat:\n",
    "    print(ax)"
   ]
  },
  {
   "cell_type": "code",
   "execution_count": null,
   "metadata": {},
   "outputs": [],
   "source": [
    "for ax in axes:\n",
    "    print(ax)"
   ]
  },
  {
   "cell_type": "code",
   "execution_count": null,
   "metadata": {},
   "outputs": [],
   "source": [
    "axes"
   ]
  },
  {
   "cell_type": "code",
   "execution_count": null,
   "metadata": {},
   "outputs": [],
   "source": [
    "axes.flat.__next__()"
   ]
  },
  {
   "cell_type": "code",
   "execution_count": null,
   "metadata": {},
   "outputs": [],
   "source": [
    "fig, axes = plt.subplots(nrows=2, ncols=1, sharex=True, sharey=True)\n",
    "for ax in axes.flat:\n",
    "    im = ax.imshow(np.random.random((10,10)), vmin=0, vmax=1)\n",
    "\n",
    "cax,kw = mpl.colorbar.make_axes([ax for ax in axes.flat])\n",
    "plt.colorbar(im, cax=cax, **kw)\n"
   ]
  },
  {
   "cell_type": "code",
   "execution_count": null,
   "metadata": {},
   "outputs": [],
   "source": []
  }
 ],
 "metadata": {
  "kernelspec": {
   "display_name": "Python 3",
   "language": "python",
   "name": "python3"
  },
  "language_info": {
   "codemirror_mode": {
    "name": "ipython",
    "version": 3
   },
   "file_extension": ".py",
   "mimetype": "text/x-python",
   "name": "python",
   "nbconvert_exporter": "python",
   "pygments_lexer": "ipython3",
   "version": "3.6.6"
  },
  "toc": {
   "base_numbering": 1,
   "nav_menu": {},
   "number_sections": true,
   "sideBar": true,
   "skip_h1_title": false,
   "title_cell": "Table of Contents",
   "title_sidebar": "Contents",
   "toc_cell": false,
   "toc_position": {},
   "toc_section_display": true,
   "toc_window_display": true
  }
 },
 "nbformat": 4,
 "nbformat_minor": 2
}
