{
 "cells": [
  {
   "cell_type": "markdown",
   "metadata": {},
   "source": [
    "# Init"
   ]
  },
  {
   "cell_type": "code",
   "execution_count": 1,
   "metadata": {},
   "outputs": [],
   "source": [
    "import numpy as np\n",
    "import matplotlib.pyplot as plt\n",
    "%matplotlib qt5"
   ]
  },
  {
   "cell_type": "code",
   "execution_count": 2,
   "metadata": {},
   "outputs": [],
   "source": [
    "from scipy import interpolate"
   ]
  },
  {
   "cell_type": "code",
   "execution_count": 3,
   "metadata": {},
   "outputs": [],
   "source": [
    "root_dir = \"/home/pleroy/DATA/DIADEM/bfu\"\n",
    "# 002\n",
    "dir_002 = \"/20181009/002_5l_05l_+45\"\n",
    "pre_002 = \"ey\"\n",
    "dat_002 = root_dir + dir_002 + \"/\" + pre_002\n",
    "# 003\n",
    "dir_003 = \"/20181009/003_5l_05l_-45\"\n",
    "pre_003 = \"ex\"\n",
    "dat_003 = root_dir + dir_003 + \"/\" + pre_003\n",
    "# 004\n",
    "dir_004 = \"/20181010/004_3l_05l_+45\"\n",
    "pre_004 = \"ey\"\n",
    "dat_004 = root_dir + dir_004 + \"/\" + pre_004\n",
    "# 005\n",
    "dir_005 = \"/20181010/005_3l_05l_-45\"\n",
    "pre_005 = \"ey\"\n",
    "dat_005 = root_dir + dir_005 + \"/\" + pre_005\n",
    "# 006\n",
    "dir_006 = \"/20181011/006_7l_05l_+45\"\n",
    "pre_006 = \"ey\"\n",
    "dat_006 = root_dir + dir_006 + \"/\" + pre_006\n",
    "# 007\n",
    "dir_007 = \"/20181011/007_7l_05l_-45\"\n",
    "pre_007 = \"ey\"\n",
    "dat_007 = root_dir + dir_007 + \"/\" + pre_007\n",
    "# 008\n",
    "dir_008 = \"/20181011/008_7l_05l_-45_scotch\"\n",
    "pre_008 = \"ey\"\n",
    "dat_008 = root_dir + dir_008 + \"/\" + pre_008"
   ]
  },
  {
   "cell_type": "code",
   "execution_count": 4,
   "metadata": {},
   "outputs": [],
   "source": [
    "import os\n",
    "import fnmatch"
   ]
  },
  {
   "cell_type": "code",
   "execution_count": 5,
   "metadata": {},
   "outputs": [],
   "source": [
    "x0y0 = (211, 244.5)"
   ]
  },
  {
   "cell_type": "markdown",
   "metadata": {},
   "source": [
    "# Get frequencies and y values"
   ]
  },
  {
   "cell_type": "markdown",
   "metadata": {},
   "source": [
    "## Get Nf and Ny"
   ]
  },
  {
   "cell_type": "code",
   "execution_count": 6,
   "metadata": {},
   "outputs": [],
   "source": [
    "def get_Nf_Ny(data_dir):\n",
    "    f_y = []\n",
    "    for file in os.listdir(data_dir):\n",
    "        if fnmatch.fnmatch(file, \"*.amp\"):\n",
    "            sfile = file.split(\".amp\")[0].split(\"_\")\n",
    "            f_y.append( (sfile[1], sfile[2]) )\n",
    "    Nf = max( [int(f_y[0]) for f_y in f_y if f_y[1] == '000'] ) + 1\n",
    "    Ny = max( [int(f_y[1]) for f_y in f_y if f_y[0] == '000'] ) + 1\n",
    "    print(data_dir)\n",
    "    print(\"Nf = {}, Ny = {}\".format(Nf, Ny))\n",
    "    return Nf, Ny"
   ]
  },
  {
   "cell_type": "code",
   "execution_count": 7,
   "metadata": {},
   "outputs": [
    {
     "name": "stdout",
     "output_type": "stream",
     "text": [
      "/home/pleroy/DATA/DIADEM/bfu/20181009/002_5l_05l_+45\n",
      "Nf = 9, Ny = 81\n"
     ]
    }
   ],
   "source": [
    "Nf, Ny = get_Nf_Ny(root_dir + dir_002)"
   ]
  },
  {
   "cell_type": "markdown",
   "metadata": {},
   "source": [
    "## Get f and y"
   ]
  },
  {
   "cell_type": "code",
   "execution_count": 8,
   "metadata": {},
   "outputs": [],
   "source": [
    "def getF(nbFreq, data_prefix):\n",
    "    f = np.zeros(nbFreq)\n",
    "    for freqIdx in range( nbFreq ):\n",
    "        filename = data_prefix + f\"_{freqIdx:03d}_000.amp\"\n",
    "        with open(filename) as file:\n",
    "            for line in file:\n",
    "                if \"FreqValue\" in line:\n",
    "                    f[freqIdx] = float(line.split(\"=\")[1])\n",
    "                elif \"Data#1\" in line:\n",
    "                    break\n",
    "    print(root_dir + \" Nf = {}, fmin = {}, fmax = {}\".format(f.size, np.amin(f), np.amax(f)))\n",
    "    return f"
   ]
  },
  {
   "cell_type": "code",
   "execution_count": 9,
   "metadata": {},
   "outputs": [],
   "source": [
    "def getY(nbY, data_prefix):\n",
    "    y = np.zeros(nbY)\n",
    "    for yIdx in range( nbY ):\n",
    "        filename = data_prefix + f\"_000_{yIdx:03d}.amp\"\n",
    "        with open(filename) as file:\n",
    "            for line in file:\n",
    "                if \"StepAxis=y\" in line:\n",
    "                    y[yIdx] = float(line.split(\" \")[-2])\n",
    "                elif \"Data#1\" in line:\n",
    "                    break\n",
    "    print(root_dir + \" Ny = {}, ymin = {}, ymax = {}\".format(y.size, np.amin(y), np.amax(y)))\n",
    "    return y"
   ]
  },
  {
   "cell_type": "code",
   "execution_count": 10,
   "metadata": {},
   "outputs": [
    {
     "name": "stdout",
     "output_type": "stream",
     "text": [
      "/home/pleroy/DATA/DIADEM/bfu Nf = 9, fmin = 28.0, fmax = 36.0\n",
      "/home/pleroy/DATA/DIADEM/bfu Ny = 81, ymin = 57.0, ymax = 432.0\n"
     ]
    }
   ],
   "source": [
    "f = getF( Nf, dat_002)\n",
    "y = getY( Ny, dat_002)"
   ]
  },
  {
   "cell_type": "markdown",
   "metadata": {},
   "source": [
    "# Get amplitudes and phases"
   ]
  },
  {
   "cell_type": "code",
   "execution_count": 11,
   "metadata": {},
   "outputs": [],
   "source": [
    "def get_headerSize(filename):\n",
    "    with open(filename) as file:\n",
    "        for counter, line in enumerate(file):\n",
    "            if \"Data#1\" in line:\n",
    "                break\n",
    "    return counter + 1"
   ]
  },
  {
   "cell_type": "code",
   "execution_count": 12,
   "metadata": {},
   "outputs": [],
   "source": [
    "def get_x_val(data_prefix, fi, yi, ext):\n",
    "    filename = data_prefix + f\"_{fi:03d}_{yi:03d}\" + ext\n",
    "    headerSize = get_headerSize(filename)\n",
    "    # read the data\n",
    "    x, val = np.genfromtxt(filename, skip_header=headerSize, unpack=True)\n",
    "    return x, val\n",
    "\n",
    "def getAmpPhaArrays(Nx, Ny, fi, data_prefix):\n",
    "    ampArray = np.zeros((Ny, Nx))\n",
    "    phaArray = np.zeros((Ny, Nx))\n",
    "    for yi in range(Ny):\n",
    "        x, amp = get_x_val(data_prefix, fi, yi, \".amp\")\n",
    "        ampArray[yi, :] = amp[:]\n",
    "        x, pha = get_x_val(data_prefix, fi, yi, \".pha\")\n",
    "        phaArray[yi, :] = pha[:]\n",
    "    return ampArray, phaArray"
   ]
  },
  {
   "cell_type": "code",
   "execution_count": 13,
   "metadata": {},
   "outputs": [],
   "source": [
    "fi = 0\n",
    "yi = 0\n",
    "x0, amp0 = get_x_val(dat_002, fi, yi, \".amp\")\n",
    "Nx = x0.size\n",
    "# (left, right, bottom, top)\n",
    "extent = [ x0[-1], x0[0], y[-1], y[0] ]\n",
    "cmap='jet'"
   ]
  },
  {
   "cell_type": "code",
   "execution_count": 14,
   "metadata": {},
   "outputs": [
    {
     "data": {
      "text/plain": [
       "((80,), (81,), (81, 80), (81, 80))"
      ]
     },
     "execution_count": 14,
     "metadata": {},
     "output_type": "execute_result"
    }
   ],
   "source": [
    "X0, Y = np.meshgrid(x0, y)\n",
    "x0.shape, y.shape, X0.shape, Y.shape"
   ]
  },
  {
   "cell_type": "code",
   "execution_count": 15,
   "metadata": {},
   "outputs": [
    {
     "name": "stdout",
     "output_type": "stream",
     "text": [
      "get data for f = 32.0\n"
     ]
    }
   ],
   "source": [
    "fi = 4\n",
    "print(\"get data for f = {}\".format(f[fi]))\n",
    "\n",
    "ampAndPhaArrays = {}\n",
    "ampAndPhaArrays[\"002\"] = ( *getAmpPhaArrays(Nx, Ny, fi, dat_002), dir_002, pre_002 )\n",
    "ampAndPhaArrays[\"003\"] = ( *getAmpPhaArrays(Nx, Ny, fi, dat_003), dir_003, pre_003 )\n",
    "ampAndPhaArrays[\"004\"] = ( *getAmpPhaArrays(Nx, Ny, fi, dat_004), dir_004, pre_004 )\n",
    "ampAndPhaArrays[\"005\"] = ( *getAmpPhaArrays(Nx, Ny, fi, dat_005), dir_005, pre_005 )\n",
    "ampAndPhaArrays[\"006\"] = ( *getAmpPhaArrays(Nx, Ny, fi, dat_006), dir_006, pre_006 )\n",
    "ampAndPhaArrays[\"007\"] = ( *getAmpPhaArrays(Nx, Ny, fi, dat_007), dir_007, pre_007 )\n",
    "ampAndPhaArrays[\"008\"] = ( *getAmpPhaArrays(Nx, Ny, fi, dat_008), dir_008, pre_008 )"
   ]
  },
  {
   "cell_type": "code",
   "execution_count": 22,
   "metadata": {},
   "outputs": [],
   "source": [
    "allAmpArrays = (ampAndPhaArrays[\"002\"][0],\n",
    "                ampAndPhaArrays[\"003\"][0],\n",
    "                ampAndPhaArrays[\"004\"][0],\n",
    "                ampAndPhaArrays[\"005\"][0],\n",
    "                ampAndPhaArrays[\"006\"][0],\n",
    "                ampAndPhaArrays[\"007\"][0],\n",
    "                ampAndPhaArrays[\"008\"][0])\n",
    "vmax = np.amax(allAmpArrays)\n",
    "vmin = np.amin(allAmpArrays)"
   ]
  },
  {
   "cell_type": "code",
   "execution_count": 24,
   "metadata": {},
   "outputs": [
    {
     "data": {
      "text/plain": [
       "<matplotlib.colorbar.Colorbar at 0x7f163012d390>"
      ]
     },
     "execution_count": 24,
     "metadata": {},
     "output_type": "execute_result"
    }
   ],
   "source": [
    "plt.figure()\n",
    "plt.imshow(ampAndPhaArrays[\"008\"][0], extent=extent, vmin=vmin, vmax=vmax, cmap='jet', )\n",
    "title = \"amplitudes\\n\" + dir_004 + \"/\" + pre_004\n",
    "plt.gca().set_aspect(\"equal\")\n",
    "plt.colorbar()"
   ]
  },
  {
   "cell_type": "code",
   "execution_count": 26,
   "metadata": {},
   "outputs": [
    {
     "data": {
      "text/plain": [
       "<matplotlib.colorbar.Colorbar at 0x7f1630075a20>"
      ]
     },
     "execution_count": 26,
     "metadata": {},
     "output_type": "execute_result"
    }
   ],
   "source": [
    "plt.figure()\n",
    "plt.imshow(ampAndPhaArrays[\"008\"][1], extent=extent)\n",
    "title = \"amplitudes\"\n",
    "plt.colorbar()"
   ]
  },
  {
   "cell_type": "code",
   "execution_count": 27,
   "metadata": {},
   "outputs": [],
   "source": [
    "def addSubPlotAmp(sub, nb, extent, vmin, vmax, cmap, k=0):\n",
    "    plt.subplot(sub)\n",
    "    if k == 0:\n",
    "        ampArray = ampAndPhaArrays[nb][0]\n",
    "    else\n",
    "        ampArray = np.rot90(ampAndPhaArrays[nb][0], k=k)\n",
    "    plt.imshow(ampArray, extent=extent, vmin=vmin, vmax=vmax, cmap=cmap)\n",
    "    title = \"amplitude\\n\" + ampAndPhaArrays[nb][2] + \"/\" + ampAndPhaArrays[nb][3]\n",
    "    plt.colorbar()\n",
    "    plt.title(title)\n",
    "    \n",
    "def addSubPlotPha(sub, nb, cmap, k=0):\n",
    "    plt.subplot(sub)\n",
    "    if k == 0:\n",
    "        ampArray = ampAndPhaArrays[nb][1]\n",
    "    else:\n",
    "        ampArray = np.rot90(ampAndPhaArrays[nb][1],k=k)\n",
    "    plt.imshow(ampArray, cmap=cmap)\n",
    "    title = \"phase\\n\" + ampAndPhaArrays[nb][2] + \"/\" + ampAndPhaArrays[nb][3]\n",
    "    plt.colorbar()\n",
    "    plt.title(title)"
   ]
  },
  {
   "cell_type": "code",
   "execution_count": 28,
   "metadata": {},
   "outputs": [],
   "source": [
    "plt.figure()\n",
    "\n",
    "vmin = -30\n",
    "vmax = 10\n",
    "\n",
    "addSubPlotAmp(231, \"004\", extent, vmin, vmax, cmap)\n",
    "addSubPlotAmp(232, \"002\", extent, vmin, vmax, cmap)\n",
    "addSubPlotAmp(233, \"006\", extent, vmin, vmax, cmap)\n",
    "addSubPlotAmp(234, \"005\", extent, vmin, vmax, cmap)\n",
    "addSubPlotAmp(235, \"003\", extent, vmin, vmax, cmap)\n",
    "addSubPlotAmp(236, \"007\", extent, vmin, vmax, cmap)"
   ]
  },
  {
   "cell_type": "code",
   "execution_count": 29,
   "metadata": {},
   "outputs": [],
   "source": [
    "plt.figure()\n",
    "\n",
    "addSubPlotPha(231, \"004\", cmap)\n",
    "addSubPlotPha(232, \"002\", cmap)\n",
    "addSubPlotPha(233, \"006\", cmap)\n",
    "addSubPlotPha(234, \"005\", cmap)\n",
    "addSubPlotPha(235, \"003\", cmap)\n",
    "addSubPlotPha(236, \"007\", cmap)"
   ]
  },
  {
   "cell_type": "markdown",
   "metadata": {},
   "source": [
    "# Save data"
   ]
  },
  {
   "cell_type": "code",
   "execution_count": null,
   "metadata": {},
   "outputs": [],
   "source": [
    "def saveData(root_dir, nb):\n",
    "    header = \"x y amp pha\"\n",
    "    filename = root_dir + ampAndPhaArrays[nb][2] + \"_amp_pha_32GHz.data\"\n",
    "    print(\"save \" + filename)\n",
    "    np.savetxt(filename, \n",
    "               np.column_stack(( \n",
    "                   X0.flatten(), \n",
    "                   Y.flatten(), \n",
    "                   ampAndPhaArrays[nb][0].flatten(), \n",
    "                   ampAndPhaArrays[nb][1].flatten())),\n",
    "               header=header,\n",
    "               comments=\"\"\n",
    "              )"
   ]
  },
  {
   "cell_type": "code",
   "execution_count": null,
   "metadata": {},
   "outputs": [],
   "source": [
    "saveData(root_dir, \"002\")\n",
    "saveData(root_dir, \"003\")\n",
    "saveData(root_dir, \"004\")\n",
    "saveData(root_dir, \"005\")\n",
    "saveData(root_dir, \"006\")\n",
    "saveData(root_dir, \"007\")\n",
    "saveData(root_dir, \"008\")"
   ]
  },
  {
   "cell_type": "markdown",
   "metadata": {},
   "source": [
    "# Near Field to Far Field\n",
    "Take the example of 5 lambda: \n",
    "* 002 +45°\n",
    "* 003 -45°"
   ]
  },
  {
   "cell_type": "code",
   "execution_count": 40,
   "metadata": {},
   "outputs": [],
   "source": [
    "def getReIm(amp, pha):\n",
    "    linAmp = np.power( 10, amp / 10 )\n",
    "    re = linAmp * np.cos( pha * np.pi / 180 )\n",
    "    im = linAmp * np.sin( pha * np.pi / 180 )\n",
    "    return re, im\n",
    "\n",
    "def getComplex(amp, pha):\n",
    "    linAmp = np.power( 10, amp / 10 )\n",
    "    re = linAmp * np.cos( pha * np.pi / 180 )\n",
    "    im = linAmp * np.sin( pha * np.pi / 180 )\n",
    "    return re + 1j * im"
   ]
  },
  {
   "cell_type": "code",
   "execution_count": 41,
   "metadata": {},
   "outputs": [],
   "source": [
    "reIm_002 = getReIm( ampAndPhaArrays[\"002\"][0], ampAndPhaArrays[\"002\"][1] )\n",
    "reIm_003 = getReIm( ampAndPhaArrays[\"003\"][0], ampAndPhaArrays[\"003\"][1] )"
   ]
  },
  {
   "cell_type": "code",
   "execution_count": 57,
   "metadata": {},
   "outputs": [],
   "source": [
    "X_ey = X0 - x0y0[0]\n",
    "Y_ey = Y - x0y0[1]\n",
    "X_ex = np.rot90(Y_ey, k=-1)\n",
    "Y_ex = np.rot90(-X_ey, k=-1)"
   ]
  },
  {
   "cell_type": "code",
   "execution_count": 58,
   "metadata": {},
   "outputs": [],
   "source": [
    "c_003 = np.rot90(getComplex( ampAndPhaArrays[\"003\"][0], ampAndPhaArrays[\"003\"][1] ), k=-1)"
   ]
  },
  {
   "cell_type": "code",
   "execution_count": 59,
   "metadata": {},
   "outputs": [
    {
     "data": {
      "text/plain": [
       "((80, 81), (80, 81), (80, 81))"
      ]
     },
     "execution_count": 59,
     "metadata": {},
     "output_type": "execute_result"
    }
   ],
   "source": [
    "c_003.shape, X_ex.shape, Y_ex.shape"
   ]
  },
  {
   "cell_type": "code",
   "execution_count": 48,
   "metadata": {},
   "outputs": [
    {
     "name": "stderr",
     "output_type": "stream",
     "text": [
      "/usr/lib64/python3.6/site-packages/scipy/interpolate/_fitpack_impl.py:974: RuntimeWarning: No more knots can be added because the number of B-spline\n",
      "coefficients already exceeds the number of data points m.\n",
      "Probable causes: either s or m too small. (fp>s)\n",
      "\tkx,ky=1,1 nx,ny=140,49 m=6480 fp=3.205995 s=0.000000\n",
      "  warnings.warn(RuntimeWarning(_iermess2[ierm][0] + _mess))\n"
     ]
    }
   ],
   "source": [
    "f = interpolate.interp2d( X_ex, Y_ex, np.real(c_003), kind='linear')"
   ]
  },
  {
   "cell_type": "code",
   "execution_count": 38,
   "metadata": {},
   "outputs": [
    {
     "ename": "AttributeError",
     "evalue": "'tuple' object has no attribute 'shape'",
     "output_type": "error",
     "traceback": [
      "\u001b[0;31m---------------------------------------------------------------------------\u001b[0m",
      "\u001b[0;31mAttributeError\u001b[0m                            Traceback (most recent call last)",
      "\u001b[0;32m<ipython-input-38-4682f1b4e8e4>\u001b[0m in \u001b[0;36m<module>\u001b[0;34m()\u001b[0m\n\u001b[0;32m----> 1\u001b[0;31m \u001b[0mreIm_003\u001b[0m\u001b[0;34m.\u001b[0m\u001b[0mshape\u001b[0m\u001b[0;34m\u001b[0m\u001b[0m\n\u001b[0m",
      "\u001b[0;31mAttributeError\u001b[0m: 'tuple' object has no attribute 'shape'"
     ]
    }
   ],
   "source": [
    "reIm_003.shape"
   ]
  },
  {
   "cell_type": "markdown",
   "metadata": {},
   "source": [
    "# Stranger things"
   ]
  },
  {
   "cell_type": "code",
   "execution_count": 49,
   "metadata": {},
   "outputs": [],
   "source": [
    " m = np.array([[1,2],[3,4]], int)"
   ]
  },
  {
   "cell_type": "code",
   "execution_count": 52,
   "metadata": {},
   "outputs": [
    {
     "data": {
      "text/plain": [
       "array([[1, 2],\n",
       "       [3, 4]])"
      ]
     },
     "execution_count": 52,
     "metadata": {},
     "output_type": "execute_result"
    }
   ],
   "source": [
    "m"
   ]
  },
  {
   "cell_type": "code",
   "execution_count": 53,
   "metadata": {},
   "outputs": [
    {
     "data": {
      "text/plain": [
       "array([[3, 1],\n",
       "       [4, 2]])"
      ]
     },
     "execution_count": 53,
     "metadata": {},
     "output_type": "execute_result"
    }
   ],
   "source": [
    "np.rot90(m, k=-1)"
   ]
  },
  {
   "cell_type": "code",
   "execution_count": null,
   "metadata": {},
   "outputs": [],
   "source": []
  }
 ],
 "metadata": {
  "kernelspec": {
   "display_name": "Python 3",
   "language": "python",
   "name": "python3"
  },
  "language_info": {
   "codemirror_mode": {
    "name": "ipython",
    "version": 3
   },
   "file_extension": ".py",
   "mimetype": "text/x-python",
   "name": "python",
   "nbconvert_exporter": "python",
   "pygments_lexer": "ipython3",
   "version": "3.6.6"
  },
  "toc": {
   "base_numbering": 1,
   "nav_menu": {},
   "number_sections": true,
   "sideBar": true,
   "skip_h1_title": false,
   "title_cell": "Table of Contents",
   "title_sidebar": "Contents",
   "toc_cell": false,
   "toc_position": {},
   "toc_section_display": true,
   "toc_window_display": true
  }
 },
 "nbformat": 4,
 "nbformat_minor": 2
}
