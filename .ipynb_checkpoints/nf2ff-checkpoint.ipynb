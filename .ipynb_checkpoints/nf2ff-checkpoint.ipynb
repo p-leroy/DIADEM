{
 "cells": [
  {
   "cell_type": "markdown",
   "metadata": {},
   "source": [
    "# Init"
   ]
  },
  {
   "cell_type": "code",
   "execution_count": 1,
   "metadata": {},
   "outputs": [],
   "source": [
    "import numpy as np\n",
    "import matplotlib.pyplot as plt\n",
    "%matplotlib qt5"
   ]
  },
  {
   "cell_type": "code",
   "execution_count": 2,
   "metadata": {},
   "outputs": [],
   "source": [
    "from scipy import interpolate\n",
    "from scipy import signal\n",
    "from mpl_toolkits.axes_grid1 import make_axes_locatable"
   ]
  },
  {
   "cell_type": "code",
   "execution_count": 3,
   "metadata": {},
   "outputs": [],
   "source": [
    "import parula as par"
   ]
  },
  {
   "cell_type": "code",
   "execution_count": 153,
   "metadata": {},
   "outputs": [],
   "source": [
    "import numexpr as ne"
   ]
  },
  {
   "cell_type": "code",
   "execution_count": 4,
   "metadata": {},
   "outputs": [],
   "source": [
    "root_dir = \"/home/pleroy/DATA/DIADEM/bfu\"\n",
    "# 011 ===== 3l +45\n",
    "dir_011 = \"/20181015\"\n",
    "nam_011 = \"011_3l_05l_+45_amp_pha_32GHz.data\"\n",
    "dat_011 = root_dir + dir_011 + \"/\" + nam_011\n",
    "# 012 ===== 3l -45\n",
    "dir_012 = \"/20181015\"\n",
    "nam_012 = \"012_3l_05l_-45_amp_pha_32GHz.data\"\n",
    "dat_012 = root_dir + dir_012 + \"/\" + nam_012\n",
    "# 013_0 ===== 7l +45\n",
    "dir_013_0 = \"/20181016/013_seq\"\n",
    "nam_013_0 = \"SEQ_0_7l_+45_amp_pha_32GHz.data\"\n",
    "dat_013_0 = root_dir + dir_013_0 + \"/\" + nam_013_0\n",
    "# 013_1 ===== 7l -45\n",
    "dir_013_1 = \"/20181016/013_seq\"\n",
    "nam_013_1 = \"SEQ_1_7l_-45_amp_pha_32GHz.data\"\n",
    "dat_013_1 = root_dir + dir_013_1 + \"/\" + nam_013_1\n",
    "# 014_0 ===== 5l +45\n",
    "dir_014_0 = \"/20181017/014_5l_05l\"\n",
    "nam_014_0 = \"SEQ_0_5l_+45_amp_pha_32GHz\"\n",
    "dat_014_0 = root_dir + dir_014_0 + \"/\" + nam_014_0\n",
    "# 014_1 ===== 5l +-5\n",
    "dir_014_1 = \"/20181017/014_5l_05l\"\n",
    "nam_014_1 = \"SEQ_1_5l_-45_amp_pha_32GHz\"\n",
    "dat_014_1 = root_dir + dir_014_1 + \"/\" + nam_014_1"
   ]
  },
  {
   "cell_type": "code",
   "execution_count": 5,
   "metadata": {},
   "outputs": [],
   "source": [
    "import os"
   ]
  },
  {
   "cell_type": "code",
   "execution_count": 6,
   "metadata": {},
   "outputs": [],
   "source": [
    "x0y0 = (211, 244.5)"
   ]
  },
  {
   "cell_type": "code",
   "execution_count": 7,
   "metadata": {},
   "outputs": [],
   "source": [
    "f0 = 32e9\n",
    "c = 3e8\n",
    "lambda0 = c / f0\n",
    "k0 = 2 * np.pi / lambda0\n",
    "w0 = 2 * np.pi * f0\n",
    "mu = 4 * np.pi * 1e-7\n",
    "epsilon = 8.854187817e-12 # 1 / (mu * c**2)"
   ]
  },
  {
   "cell_type": "markdown",
   "metadata": {},
   "source": [
    "# Read data"
   ]
  },
  {
   "cell_type": "code",
   "execution_count": 8,
   "metadata": {},
   "outputs": [],
   "source": [
    "ex_3l = np.genfromtxt( dat_012, skip_header=True )\n",
    "ey_3l = np.genfromtxt( dat_011, skip_header=True )"
   ]
  },
  {
   "cell_type": "code",
   "execution_count": 96,
   "metadata": {},
   "outputs": [],
   "source": [
    "dx = 4.69e-3\n",
    "dy = 4.69e-3\n",
    "fsx = 1 / dx\n",
    "fsy = 1 / dy\n",
    "ksx = 2 * np.pi * fsx\n",
    "ksy = 2 * np.pi * fsy\n",
    "Nx = 81\n",
    "Ny = 81"
   ]
  },
  {
   "cell_type": "code",
   "execution_count": 97,
   "metadata": {},
   "outputs": [],
   "source": [
    "xx = (ey_3l[:,0].reshape((81,81)) - x0y0[0]) / 1000\n",
    "yy = (ey_3l[:,1].reshape((81,81)) - x0y0[1]) / 1000\n",
    "XX = xx / lambda0\n",
    "YY = yy / lambda0\n",
    "Ax = np.rot90(ex_3l[:,2].reshape((81,81)), k=-1)\n",
    "Ay = ey_3l[:,2].reshape((81,81))"
   ]
  },
  {
   "cell_type": "code",
   "execution_count": 72,
   "metadata": {},
   "outputs": [],
   "source": [
    "myVmax = 10\n",
    "myVmin = -30"
   ]
  },
  {
   "cell_type": "code",
   "execution_count": 73,
   "metadata": {},
   "outputs": [],
   "source": [
    "def addColorBar(im, ax):\n",
    "    ax.grid()\n",
    "    divider = make_axes_locatable(ax)\n",
    "    cax = divider.append_axes(\"right\", size=\"5%\", pad=\"5%\")\n",
    "    plt.colorbar(im, cax=cax)\n",
    "    ax.set_aspect('equal')"
   ]
  },
  {
   "cell_type": "code",
   "execution_count": 74,
   "metadata": {},
   "outputs": [
    {
     "data": {
      "text/plain": [
       "Text(0.5,0.98,'011_3l_05l_+45_amp_pha_32GHz.data\\n012_3l_05l_-45_amp_pha_32GHz.data')"
      ]
     },
     "execution_count": 74,
     "metadata": {},
     "output_type": "execute_result"
    }
   ],
   "source": [
    "fig, (ax0, ax1) = plt.subplots(1, 2)\n",
    "\n",
    "im0 = ax0.pcolor(XX, YY, Ax, vmin=myVmin, vmax=myVmax)\n",
    "ax0.set_title(\"Ax\")\n",
    "addColorBar(im0, ax0)\n",
    "\n",
    "im1 = ax1.pcolor(XX, YY, Ay, vmin=myVmin, vmax=myVmax)\n",
    "ax1.set_title(\"Ay\")\n",
    "addColorBar(im1, ax1)\n",
    "\n",
    "title = nam_011 +\"\\n\" + nam_012\n",
    "fig.suptitle(title)"
   ]
  },
  {
   "cell_type": "markdown",
   "metadata": {},
   "source": [
    "## Compute complex values"
   ]
  },
  {
   "cell_type": "code",
   "execution_count": 75,
   "metadata": {},
   "outputs": [],
   "source": [
    "def getComplex(amp, pha):\n",
    "    linAmp = np.power( 10, amp / 20 )\n",
    "    re = linAmp * np.cos( pha * np.pi / 180 )\n",
    "    im = linAmp * np.sin( pha * np.pi / 180 )\n",
    "    return re + 1j * im"
   ]
  },
  {
   "cell_type": "code",
   "execution_count": 76,
   "metadata": {},
   "outputs": [],
   "source": [
    "c_ex_3l = np.rot90(getComplex(ex_3l[:,2],ex_3l[:,3]).reshape((81,81)), k=-1)\n",
    "c_ey_3l =          getComplex(ey_3l[:,2],ey_3l[:,3]).reshape((81,81))"
   ]
  },
  {
   "cell_type": "markdown",
   "metadata": {},
   "source": [
    "## Resample"
   ]
  },
  {
   "cell_type": "code",
   "execution_count": 207,
   "metadata": {},
   "outputs": [],
   "source": [
    "def resample(E, xx, yy, M, N, ksx, ksy, ): # balanis p.977\n",
    "    Er = np.zeros(xx.shape, dtype=complex)\n",
    "    for n in range( int(-N/2), int(N/2) + 1 ):\n",
    "        for m in range( int(-M/2), int(M/2) + 1 ):\n",
    "            Er = Er \\\n",
    "                + E[n+int(N/2), m+int(M/2)] \\\n",
    "                * np.sin(ksx / 2 * xx - m * np.pi) / (ksx / 2 * xx - m * np.pi) \\\n",
    "                * np.sin(ksy / 2 * yy - n * np.pi) / (ksy / 2 * yy - n * np.pi)\n",
    "    return Er\n",
    "\n",
    "def resample_b(E, xx, yy, M, N, ksx, ksy, ): # balanis p.977\n",
    "    Er = np.zeros(xx.shape, dtype=complex)\n",
    "    for n in range( int(-N/2), int(N/2) + 1 ):\n",
    "        for m in range( int(-M/2), int(M/2) + 1 ):\n",
    "            E_m_n = E[m+int(M/2), n+int(N/2)]\n",
    "            pi = np.pi\n",
    "            ne.evaluate(\"Er\"\n",
    "                        + \"+ E_m_n\"\n",
    "                        + \"* sin(ksx / 2 * xx - m * pi) / (ksx / 2 * xx - m * pi)\"\n",
    "                        + \"* sin(ksy / 2 * yy - n * pi) / (ksy / 2 * yy - n * pi)\", out = Er)\n",
    "    return Er"
   ]
  },
  {
   "cell_type": "code",
   "execution_count": 208,
   "metadata": {},
   "outputs": [
    {
     "name": "stderr",
     "output_type": "stream",
     "text": [
      "/opt/Py3-6-Venv/lib/python3.6/site-packages/ipykernel_launcher.py:5: RuntimeWarning: invalid value encountered in true_divide\n",
      "  \"\"\"\n"
     ]
    }
   ],
   "source": [
    "Nover = 2\n",
    "xmin = np.amin(xx)\n",
    "xmax = np.amax(xx)\n",
    "ymin = np.amin(xx)\n",
    "ymax = np.amax(yy)\n",
    "new_xx, new_yy = np.meshgrid( np.linspace(xmin, xmax, Nover*Nx),\n",
    "                              np.linspace(ymin, ymax, Nover*Ny) )\n",
    "e_resample = resample(c_ey_3l, new_xx, new_yy, Nx, Ny, ksx, ksy, )"
   ]
  },
  {
   "cell_type": "code",
   "execution_count": 213,
   "metadata": {},
   "outputs": [],
   "source": [
    "fig, (ax0, ax1) = plt.subplots(1,2)\n",
    "\n",
    "ax0.pcolor(xx,     yy,     20*np.log10(np.abs(c_ey_3l)))\n",
    "ax0.set_aspect(\"equal\")\n",
    "\n",
    "ax1.pcolor(new_xx, new_yy, 20*np.log10(np.abs(e_resample)))\n",
    "ax1.set_aspect(\"equal\")"
   ]
  },
  {
   "cell_type": "code",
   "execution_count": 210,
   "metadata": {},
   "outputs": [],
   "source": [
    "# spacing of len(x) / num * (spacing of x)\n",
    "Nover = 2\n",
    "myWindow = signal.get_window(\"hann\", Nx)\n",
    "e_resample_b = signal.resample(c_ey_3l,      Nover*Nx, axis=0)\n",
    "e_resample_c = signal.resample(e_resample_b, Nover*Ny, axis=1)"
   ]
  },
  {
   "cell_type": "code",
   "execution_count": 212,
   "metadata": {},
   "outputs": [],
   "source": [
    "fig, (ax0, ax1) = plt.subplots(1,2)\n",
    "\n",
    "ax0.pcolor(xx,     yy,     20*np.log10(np.abs(c_ey_3l)))\n",
    "ax0.set_aspect(\"equal\")\n",
    "\n",
    "ax1.pcolor(new_xx, new_yy, 20*np.log10(np.abs(e_resample_c)))\n",
    "ax1.set_aspect(\"equal\")"
   ]
  },
  {
   "cell_type": "markdown",
   "metadata": {},
   "source": [
    "## Compute $F_x(k_x,k_y)$ and $F_y(k_x,k_y)$"
   ]
  },
  {
   "cell_type": "code",
   "execution_count": 29,
   "metadata": {},
   "outputs": [],
   "source": [
    "Nover = 10\n",
    "kx_init = np.fft.fftshift(np.fft.fftfreq(Nx,dx)) * 2 * np.pi\n",
    "ky_init = np.fft.fftshift(np.fft.fftfreq(Ny,dy)) * 2 * np.pi\n",
    "kx = np.fft.fftshift(np.fft.fftfreq(Nover*Nx,dx/Nover)) * 2 * np.pi\n",
    "ky = np.fft.fftshift(np.fft.fftfreq(Nover*Ny,dy/Nover)) * 2 * np.pi\n",
    "mesh_kx, mesh_ky = np.meshgrid(kx, ky)"
   ]
  },
  {
   "cell_type": "code",
   "execution_count": 30,
   "metadata": {},
   "outputs": [],
   "source": [
    "Fx_init = np.fft.fftshift(np.fft.fft2(c_ex_3l))\n",
    "Fx = signal.resample(Fx_init, Nover*Nx, axis=1)\n",
    "#Fx = signal.resample(Fx, Nover, axis=0)\n",
    "Fy_init = np.fft.fftshift(np.fft.fft2(c_ey_3l))\n",
    "Fy = signal.resample(Fy_init, Nover*Nx, axis=1)\n",
    "#Fy = signal.resample(Fy, Nover, axis=0)"
   ]
  },
  {
   "cell_type": "code",
   "execution_count": 31,
   "metadata": {},
   "outputs": [],
   "source": [
    "plt.figure()\n",
    "plt.plot(np.arange(Nx)*Nover, np.real(Fx_init[0,:]), '.-', label=\"init\")\n",
    "plt.plot(np.arange(Nx*Nover), np.real(Fx[0,:]),      '.-', label=\"over\")\n",
    "plt.legend()\n",
    "plt.grid()"
   ]
  },
  {
   "cell_type": "code",
   "execution_count": null,
   "metadata": {},
   "outputs": [],
   "source": [
    "fig, (ax0, ax1) = plt.subplots(1, 2)\n",
    "\n",
    "im0 = ax0.pcolor(kx, ky, 20*np.log10(np.abs(Fx)))\n",
    "ax0.set_title(\"Fx\")\n",
    "addColorBar(im0, ax0)\n",
    "\n",
    "im1 = ax1.pcolor(kx, ky, 20*np.log10(np.abs(Fy)))\n",
    "ax1.set_title(\"Fy\")\n",
    "addColorBar(im1, ax1)\n",
    "\n",
    "title = nam_011 +\"\\n\" + nam_012\n",
    "fig.suptitle(title)"
   ]
  },
  {
   "cell_type": "markdown",
   "metadata": {},
   "source": [
    "## Compute $F_z(k_x,k_y)$"
   ]
  },
  {
   "cell_type": "markdown",
   "metadata": {},
   "source": [
    "$F_z(k_x,k_y) = -\\frac{\\underline{k_T}.\\underline{F_T}(k_x,k_y)}{k_z}$"
   ]
  },
  {
   "cell_type": "code",
   "execution_count": null,
   "metadata": {},
   "outputs": [],
   "source": [
    "def getThetaPhi(kx, ky, kz, k0):\n",
    "    theta = np.arccos( kz / k0 )\n",
    "    phi = np.empty(kx.shape)\n",
    "    phi = np.arctan2(ky, kx)\n",
    "    return theta, phi\n",
    "\n",
    "def getFz(kx, ky, kz, Fx, Fy):\n",
    "    Fz = np.zeros(Fx.shape, dtype=complex)\n",
    "    idx = np.where(kz!=0)\n",
    "    Fz[idx] = - ( kx[idx] * Fx[idx] + ky[idx] * Fy[idx] ) / kz[idx]\n",
    "    return Fz"
   ]
  },
  {
   "cell_type": "code",
   "execution_count": null,
   "metadata": {},
   "outputs": [],
   "source": [
    "validIdx = np.where( k0**2 >= (mesh_kx**2 + mesh_ky**2) )\n",
    "nonValidIdx = np.where( k0**2 < (mesh_kx**2 + mesh_ky**2) )\n",
    "kz = np.zeros(mesh_kx.shape)\n",
    "kz[validIdx] = np.power( k0**2 - mesh_kx[validIdx]**2 - mesh_ky[validIdx]**2, 0.5 )"
   ]
  },
  {
   "cell_type": "code",
   "execution_count": null,
   "metadata": {},
   "outputs": [],
   "source": [
    "Fz = getFz(mesh_kx, mesh_ky, kz, Fx, Fy)"
   ]
  },
  {
   "cell_type": "code",
   "execution_count": null,
   "metadata": {},
   "outputs": [],
   "source": [
    "aux = mesh_kx * Fx + mesh_ky * Fy + kz * Fz # == 0 only for validIdx"
   ]
  },
  {
   "cell_type": "markdown",
   "metadata": {},
   "source": [
    "## Compute $\\underline{E}(k_x,k_y)$\n",
    "\n",
    "$\\underline{E}(k_x,k_y) \\approx j \\frac{e^{-jk_0r}}{\\lambda r} \\frac{k_z}{k_0} \\underline{F}(k_x,k_y)$"
   ]
  },
  {
   "cell_type": "code",
   "execution_count": null,
   "metadata": {},
   "outputs": [],
   "source": [
    "Ex = kz / k0 * Fx\n",
    "Ey = kz / k0 * Fy\n",
    "Ez = kz / k0 * Fz\n",
    "vmax = np.amax( ( np.abs(Ex[validIdx]), np.abs(Ey[validIdx]), np.abs(Ez[validIdx]) ) )\n",
    "vmin = np.amin( ( np.abs(Ex[validIdx]), np.abs(Ey[validIdx]), np.abs(Ez[validIdx]) ) )\n",
    "print(f\"vmax = {vmax}, vmin = {vmin}\")\n",
    "vmax = 20 * np.log10( vmax )\n",
    "vmin = 0\n",
    "print(f\"vmax = {vmax}, vmin = {vmin} [dB]\")"
   ]
  },
  {
   "cell_type": "code",
   "execution_count": null,
   "metadata": {},
   "outputs": [],
   "source": [
    "fig, (ax0, ax1, ax2) = plt.subplots(1, 3)\n",
    "\n",
    "im0 = ax0.pcolor(X, Y, 20*np.log10(np.abs(Ex)), vmax=vmax, vmin=vmin)\n",
    "ax0.set_title(\"Ex\")\n",
    "addColorBar(im0, ax0)\n",
    "\n",
    "im1 = ax1.pcolor(X, Y, 20*np.log10(np.abs(Ey)), vmax=vmax, vmin=vmin)\n",
    "ax1.set_title(\"Ey\")\n",
    "addColorBar(im1, ax1)\n",
    "\n",
    "im2 = ax2.pcolor(X, Y, 20*np.log10(np.abs(Ez)), vmax=vmax, vmin=vmin)\n",
    "ax2.set_title(\"Ez\")\n",
    "addColorBar(im2, ax2)"
   ]
  },
  {
   "cell_type": "code",
   "execution_count": null,
   "metadata": {},
   "outputs": [],
   "source": [
    "fig, ax0 = plt.subplots(1, 1)\n",
    "\n",
    "im0 = ax0.pcolor(X, Y, 10*np.log10(np.abs(Ex)**2+np.abs(Ey)**2+np.abs(Ez)**2))\n",
    "ax0.set_title(\"E\")\n",
    "addColorBar(im0, ax0)"
   ]
  },
  {
   "cell_type": "code",
   "execution_count": null,
   "metadata": {},
   "outputs": [],
   "source": [
    "theta, phi = getThetaPhi(mesh_kx, mesh_ky, kz, k0)"
   ]
  },
  {
   "cell_type": "code",
   "execution_count": null,
   "metadata": {},
   "outputs": [],
   "source": [
    "E_r     =   Ex * np.sin(theta) * np.cos(phi) + Ey * np.sin(theta) * np.sin(phi) + Ez * np.cos(theta) # almost 0\n",
    "E_theta =   Ex * np.cos(theta) * np.cos(phi) + Ey * np.cos(theta) * np.sin(phi) - Ez * np.sin(theta)\n",
    "E_phi   = - Ex * np.sin(theta)               + Ey * np.cos(phi)"
   ]
  },
  {
   "cell_type": "code",
   "execution_count": null,
   "metadata": {},
   "outputs": [],
   "source": [
    "u = np.sin(theta) * np.cos(phi)\n",
    "v = np.sin(theta) * np.sin(phi)\n",
    "w = np.cos(theta)"
   ]
  },
  {
   "cell_type": "code",
   "execution_count": null,
   "metadata": {},
   "outputs": [],
   "source": [
    "fig, (ax0, ax1) = plt.subplots(1, 2)\n",
    "\n",
    "im0 = ax0.pcolor(u, v, 20*np.log10(np.abs(E_theta)), vmax=vmax, vmin=vmin)\n",
    "ax0.set_title(\"E_theta\")\n",
    "ax0.set_xlabel(\"u\")\n",
    "ax0.set_ylabel(\"v\")\n",
    "addColorBar(im0, ax0)\n",
    "\n",
    "im1 = ax1.pcolor(u, v, 20*np.log10(np.abs(E_phi)), vmax=vmax, vmin=vmin)\n",
    "ax1.set_title(\"E_phi\")\n",
    "ax1.set_xlabel(\"u\")\n",
    "ax1.set_ylabel(\"v\")\n",
    "addColorBar(im1, ax1)\n",
    "\n",
    "title = nam_011 +\"\\n\" + nam_012\n",
    "fig.suptitle(title)"
   ]
  },
  {
   "cell_type": "markdown",
   "metadata": {},
   "source": [
    "## $E_{RHCP}$ and $E_{LHCP}$"
   ]
  },
  {
   "cell_type": "code",
   "execution_count": null,
   "metadata": {},
   "outputs": [],
   "source": [
    "E_RHCP = (E_theta + 1j * E_phi) / 2 # /!\\ bfu /!\\\n",
    "E_LHCP = (E_theta - 1j * E_phi) / 2 # /!\\ bfu /!\\\n",
    "\n",
    "max_rhcp_lhcp = np.amax((np.abs(E_LHCP), np.abs(E_RHCP)))\n",
    "\n",
    "E_LHCP = E_LHCP / max_rhcp_lhcp\n",
    "E_RHCP = E_RHCP / max_rhcp_lhcp"
   ]
  },
  {
   "cell_type": "code",
   "execution_count": null,
   "metadata": {},
   "outputs": [],
   "source": [
    "fig, (ax0, ax1) = plt.subplots(1, 2)\n",
    "\n",
    "im0 = ax0.pcolor(u, v, 20*np.log10(np.abs(E_LHCP)), vmax=0, vmin=-40, cmap=par.parula_map)\n",
    "ax0.set_title(\"E_LHCP\")\n",
    "ax0.set_xlabel(\"u\")\n",
    "ax0.set_ylabel(\"v\")\n",
    "addColorBar(im0, ax0)\n",
    "\n",
    "im1 = ax1.pcolor(u, v, 20*np.log10(np.abs(E_RHCP)), vmax=0, vmin=-40, cmap=par.parula_map)\n",
    "ax1.set_title(\"E_RHCP\")\n",
    "ax1.set_xlabel(\"u\")\n",
    "ax1.set_ylabel(\"v\")\n",
    "addColorBar(im1, ax1)\n",
    "\n",
    "title = nam_011 +\"\\n\" + nam_012\n",
    "fig.suptitle(title)"
   ]
  },
  {
   "cell_type": "markdown",
   "metadata": {},
   "source": [
    "# Annex"
   ]
  },
  {
   "cell_type": "code",
   "execution_count": null,
   "metadata": {},
   "outputs": [],
   "source": [
    "x = np.sin(theta)*np.cos(phi)\n",
    "y = np.sin(theta)*np.sin(phi)\n",
    "z = np.cos(theta)"
   ]
  },
  {
   "cell_type": "code",
   "execution_count": null,
   "metadata": {},
   "outputs": [],
   "source": [
    "plt.figure()\n",
    "plt.pcolor(x,y,z)\n",
    "plt.gca().set_aspect(\"equal\")\n",
    "plt.grid()"
   ]
  },
  {
   "cell_type": "code",
   "execution_count": null,
   "metadata": {},
   "outputs": [],
   "source": [
    "plt.figure()\n",
    "plt.pcolor(kx, ky, kz)\n",
    "plt.gca().set_aspect(\"equal\")"
   ]
  },
  {
   "cell_type": "code",
   "execution_count": null,
   "metadata": {},
   "outputs": [],
   "source": [
    "from mpl_toolkits.mplot3d import Axes3D"
   ]
  },
  {
   "cell_type": "code",
   "execution_count": null,
   "metadata": {},
   "outputs": [],
   "source": [
    "fig = plt.figure()\n",
    "ax = fig.gca(projection='3d')\n",
    "#ax.plot_surface(x, y, z, linewidth=0, antialiased=False)\n",
    "#ax.scatter(x, y, z)\n",
    "ax.plot_surface(mesh_kx, mesh_ky, np.abs(Fz))\n",
    "ax.set_xlabel(\"x\")\n",
    "ax.set_ylabel(\"y\")\n",
    "ax.set_zlabel(\"z\")"
   ]
  },
  {
   "cell_type": "code",
   "execution_count": null,
   "metadata": {},
   "outputs": [],
   "source": [
    "plt.figure()\n",
    "plt.pcolor(kx, ky, theta)\n",
    "plt.colorbar()"
   ]
  },
  {
   "cell_type": "code",
   "execution_count": null,
   "metadata": {},
   "outputs": [],
   "source": [
    "plt.figure()\n",
    "plt.pcolor(kx, ky, phi)\n",
    "plt.colorbar()"
   ]
  },
  {
   "cell_type": "code",
   "execution_count": null,
   "metadata": {},
   "outputs": [],
   "source": [
    "plt.figure()\n",
    "plt.plot(theta.flatten()*180/np.pi, phi.flatten()*180/np.pi, '.')\n",
    "plt.gca().set_aspect(\"equal\")\n",
    "plt.xlabel(\"theta\")\n",
    "plt.ylabel(\"phi\")\n",
    "plt.grid()"
   ]
  }
 ],
 "metadata": {
  "kernelspec": {
   "display_name": "Python 3",
   "language": "python",
   "name": "python3"
  },
  "language_info": {
   "codemirror_mode": {
    "name": "ipython",
    "version": 3
   },
   "file_extension": ".py",
   "mimetype": "text/x-python",
   "name": "python",
   "nbconvert_exporter": "python",
   "pygments_lexer": "ipython3",
   "version": "3.6.6"
  },
  "toc": {
   "base_numbering": 1,
   "nav_menu": {},
   "number_sections": true,
   "sideBar": true,
   "skip_h1_title": false,
   "title_cell": "Table of Contents",
   "title_sidebar": "Contents",
   "toc_cell": false,
   "toc_position": {},
   "toc_section_display": true,
   "toc_window_display": true
  }
 },
 "nbformat": 4,
 "nbformat_minor": 2
}
