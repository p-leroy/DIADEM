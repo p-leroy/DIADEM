{
 "cells": [
  {
   "cell_type": "code",
   "execution_count": 1,
   "metadata": {},
   "outputs": [],
   "source": [
    "import numpy as np\n",
    "import matplotlib.pyplot as plt\n",
    "%matplotlib qt5"
   ]
  },
  {
   "cell_type": "code",
   "execution_count": 2,
   "metadata": {},
   "outputs": [],
   "source": [
    "import toolsdiadem.tools as dia"
   ]
  },
  {
   "cell_type": "code",
   "execution_count": 3,
   "metadata": {},
   "outputs": [],
   "source": [
    "%load_ext autoreload\n",
    "%autoreload 2"
   ]
  },
  {
   "cell_type": "code",
   "execution_count": 4,
   "metadata": {},
   "outputs": [],
   "source": [
    "AE = 1\n",
    "c = 3e8\n",
    "pi = np.pi\n",
    "# L\n",
    "a_L = 16.51e-2\n",
    "b_L = 8.255e-2\n",
    "f_L = 1e9\n",
    "lambda_L = c / f_L\n",
    "k_L = 2 * np.pi / lambda_L\n",
    "# C\n",
    "a_C = 4.755e-2\n",
    "b_C = 2.215e-2\n",
    "# X\n",
    "a_X = 2.286e-2\n",
    "b_X = 1.016e-2\n",
    "f_X = 9.32e9\n",
    "lambda_X = c / f_X\n",
    "k_X = 2 * np.pi / lambda_X\n",
    "# Ka 26.5-40 GHz\n",
    "a_Ka = 7.112e-3\n",
    "b_Ka = 3.556e-3\n",
    "f_Ka = 32e9\n",
    "lambda_Ka = c / f_Ka\n",
    "k_Ka = 2 * np.pi / lambda_Ka"
   ]
  },
  {
   "cell_type": "code",
   "execution_count": 5,
   "metadata": {},
   "outputs": [],
   "source": [
    "theta = np.linspace(0, np.pi/2,   50).reshape(1,-1)\n",
    "phi   = np.linspace(0, 2 * np.pi,100).reshape(-1,1)\n",
    "u = np.sin(theta) * np.cos(phi)\n",
    "v = np.sin(theta) * np.sin(phi)"
   ]
  },
  {
   "cell_type": "code",
   "execution_count": 6,
   "metadata": {},
   "outputs": [],
   "source": [
    "E_E_L = dia.E_E_yaghjian(theta, k_L, a_L, b_L, AE)\n",
    "E_H_L = dia.E_H_yaghjian(theta, k_L, a_L, b_L, AE)\n",
    "\n",
    "E_E_X = dia.E_E_yaghjian(theta, k_X, a_X, b_X, AE)\n",
    "E_H_X = dia.E_H_yaghjian(theta, k_X, a_X, b_X, AE)\n",
    "\n",
    "E_E_Ka = dia.E_E_yaghjian(theta, k_Ka, a_Ka, b_Ka, AE)\n",
    "E_H_Ka = dia.E_H_yaghjian(theta, k_Ka, a_Ka, b_Ka, AE)\n",
    "\n",
    "E_E = E_E_X\n",
    "E_H = E_H_X"
   ]
  },
  {
   "cell_type": "markdown",
   "metadata": {},
   "source": [
    "Yaghjian, *Approximate Formulas for the Far Field and Gain of Open-Ended Rectangular Waveguide*\n",
    "\n",
    "$ \\overline{E}(\\overline{r}\\rightarrow\\infty) \n",
    "= \\frac{e^{jkr}}{kr} \\left[ E_E(\\theta)\\,sin\\phi\\,\\hat{e}_\\theta + E_H(\\theta)\\,cos\\phi\\,\\hat{e}_\\phi \\right]$\n",
    "\n",
    "When the probe is vertically polarized (small side of the guide along the y axis)\n",
    "\n",
    "$ E^V(\\theta,\\phi) = E_{\\theta}^V(\\theta,\\phi)\\,\\hat{\\theta} + E_{\\phi}^V(\\theta,\\phi)\\,\\hat{\\phi} $\n",
    "\n",
    "with\n",
    "\n",
    "$ E_{\\theta}^V(\\theta,\\phi) = E_E(\\theta)\\,sin\\phi $ \n",
    "\n",
    "and \n",
    "\n",
    "$ E_{\\phi}^V(\\theta,\\phi) = E_E(\\theta)\\,cos\\phi $\n",
    "\n",
    "When the probe is horizontally polarized, rotated by $-\\pi/2$ around z, $\\phi'=(\\pi/2+\\phi)$\n",
    "\n",
    "$ E^H(\\theta,\\phi) = E_{\\theta}^H(\\theta,\\phi)\\,\\hat{\\theta} + E_{\\phi}^H(\\theta,\\phi)\\,\\hat{\\phi} $\n",
    "\n",
    "with\n",
    "\n",
    "$ E_{\\theta}^H(\\theta,\\phi) = E_E(\\theta)\\,sin\\phi' = E_E(\\theta)\\,cos\\phi$ \n",
    "\n",
    "and \n",
    "\n",
    "$ E_{\\phi}^H(\\theta,\\phi) = E_E(\\theta)\\,cos\\phi' = -E_E(\\theta)\\,sin\\phi $"
   ]
  },
  {
   "cell_type": "code",
   "execution_count": 7,
   "metadata": {},
   "outputs": [],
   "source": [
    "a = a_X\n",
    "b = b_X\n",
    "k = k_X\n",
    "\n",
    "E_V_probe_theta_phi = dia.E_theta_phi_yaghjian(theta, phi, k, a, b, AE)\n",
    "E_V_probe = (E_V_probe_theta_phi[0]**2 + E_V_probe_theta_phi[1]**2)**0.5\n",
    "\n",
    "E_H_probe_theta_phi = dia.E_theta_phi_yaghjian(theta, -pi/2+phi, k, a, b, AE) # rotate the probe by pi/2 around z\n",
    "E_H_probe = (E_H_probe_theta_phi[0]**2 + E_H_probe_theta_phi[1]**2)**0.5"
   ]
  },
  {
   "cell_type": "code",
   "execution_count": 8,
   "metadata": {},
   "outputs": [],
   "source": [
    "fig, (ax0, ax1) = plt.subplots(1,2)\n",
    "\n",
    "im = ax0.pcolor(theta * 180 / np.pi, phi * 180 / np.pi, np.abs(E_V_probe))\n",
    "ax0.grid()\n",
    "ax0.set_xlabel('theta')\n",
    "ax0.set_ylabel('phi')\n",
    "dia.addColorBar(im, ax0)\n",
    "\n",
    "im = ax1.pcolor(theta * 180 / np.pi, phi * 180 / np.pi, np.abs(E_H_probe))\n",
    "ax1.grid()\n",
    "ax1.set_xlabel('theta')\n",
    "ax1.set_ylabel('phi')\n",
    "dia.addColorBar(im, ax1)"
   ]
  },
  {
   "cell_type": "code",
   "execution_count": 9,
   "metadata": {},
   "outputs": [
    {
     "data": {
      "text/plain": [
       "<matplotlib.legend.Legend at 0x7fa750dcf630>"
      ]
     },
     "execution_count": 9,
     "metadata": {},
     "output_type": "execute_result"
    }
   ],
   "source": [
    "fig, (ax0, ax1) = plt.subplots(1,2)\n",
    "\n",
    "ax0.pcolor(u, v, np.abs(E_V_probe), label=\"E_V_probe\")\n",
    "ax0.set_aspect('equal')\n",
    "ax0.grid()\n",
    "ax0.set_xlabel('u')\n",
    "ax0.set_ylabel('v')\n",
    "ax0.legend()\n",
    "\n",
    "ax1.pcolor(u, v, np.abs(E_H_probe), label=\"E_H_probe\")\n",
    "ax1.set_aspect('equal')\n",
    "ax1.grid()\n",
    "ax1.set_xlabel('u')\n",
    "ax1.set_ylabel('v')\n",
    "ax1.legend()"
   ]
  },
  {
   "cell_type": "code",
   "execution_count": 10,
   "metadata": {},
   "outputs": [
    {
     "data": {
      "text/plain": [
       "<matplotlib.legend.Legend at 0x7fa7508e84e0>"
      ]
     },
     "execution_count": 10,
     "metadata": {},
     "output_type": "execute_result"
    }
   ],
   "source": [
    "fig, ax = plt.subplots(1,1)\n",
    "ax.plot(theta.flatten() * 180 / np.pi, 20*np.log10(np.abs(E_E_X.flatten())), label='E_E')\n",
    "ax.set_ylim(-30, 0)\n",
    "ax.grid()\n",
    "ax.legend()"
   ]
  },
  {
   "cell_type": "code",
   "execution_count": 11,
   "metadata": {},
   "outputs": [
    {
     "data": {
      "text/plain": [
       "<matplotlib.legend.Legend at 0x7fa750729160>"
      ]
     },
     "execution_count": 11,
     "metadata": {},
     "output_type": "execute_result"
    }
   ],
   "source": [
    "fig, (ax0, ax1) = plt.subplots(2,1)\n",
    "\n",
    "ax0.plot(theta.flatten() * 180 / np.pi, 20*np.log10(np.abs(E_H_X.flatten())), label='E_H')\n",
    "ax0.set_ylim(-30, 0)\n",
    "ax0.grid()\n",
    "ax0.legend()\n",
    "\n",
    "ax1.plot(theta.flatten() * 180 / np.pi, 20*np.log10(np.abs(E_H_L.flatten())), label='E_H')\n",
    "ax1.set_ylim(-30, 0)\n",
    "ax1.grid()\n",
    "ax1.legend()"
   ]
  },
  {
   "cell_type": "markdown",
   "metadata": {},
   "source": [
    "From:\n",
    "\n",
    "[1] Basic Theory of Probe-Compensated Near-Field Measurements\n",
    "\n",
    "[2] Applications of Probe-Compensated Near-Field Measurements\n",
    "\n",
    "Equation (37) in [1] may be erroneous, one should read \n",
    "$ E_{\\theta}(\\theta, \\phi) \\, E_{\\theta}(\\pi-\\theta, \\phi) + E_{\\phi}(\\theta, \\phi) \\, E_{\\phi}(\\pi-\\theta,\\phi)$ \n",
    "instead of \n",
    "$ E_{\\theta}(\\theta, \\phi) \\, E_{\\theta}(\\pi-\\theta, \\phi) - E_{\\phi}(r, \\phi) \\, E_{\\phi}(\\pi-\\theta,\\phi)$\n",
    "\n",
    "**With $\\theta$ and $\\phi$ the elevation and azimuth angles (azimuth over elevation with elevation taken from z axis pointing upwards), one has**\n",
    "\n",
    "$ E_{\\theta}^H(\\pi-\\theta, \\phi) \\, E_{\\theta}(\\theta, \\phi) + E_{\\phi}^H(\\pi-\\theta,\\phi) \\, E_{\\phi}(\\theta, \\phi)\n",
    "= sin\\theta \\, cos\\phi \\, I^H(k_y, k_z)$\n",
    "\n",
    "$ E_{\\theta}^V(\\pi-\\theta, \\phi) \\, E_{\\theta}(\\theta, \\phi) + E_{\\phi}^V(\\pi-\\theta,\\phi) \\, E_{\\phi}(\\theta, \\phi)\n",
    "= sin\\theta \\, cos\\phi \\, I^V(k_y, k_z)$\n",
    "\n",
    "with:\n",
    "\n",
    "$ I_V(k_y, k_z) = exp(jk_x x_0) \\int_{-\\infty}^{\\infty} \\int_{-\\infty}^{\\infty} \n",
    "                    v_V(x_0, y, z) \\, exp(jk_y y + jk_z z) \\, dx \\, dy $\n",
    "                    \n",
    "$ I_H(k_y, k_z) = exp(jk_x x_0) \\int_{-\\infty}^{\\infty} \\int_{-\\infty}^{\\infty} \n",
    "                    v_H(x_0, y, z) \\, exp(jk_y y + jk_z z) \\, dx \\, dy $"
   ]
  },
  {
   "cell_type": "markdown",
   "metadata": {},
   "source": [
    "Cramer's rule:\n",
    "\n",
    "$\n",
    "\\left\\{ \\begin{aligned} a\\,x + b\\,y & = e\\\\ c\\,x + d\\,y & = f\\\\ \\end{aligned} \\right. \\quad\\quad\n",
    "x = \\frac{\\begin{vmatrix} e & b \\\\ f & d \\end{vmatrix}}{\\Delta} \\quad\\quad\n",
    "y = \\frac{\\begin{vmatrix} a & e \\\\ c & f \\end{vmatrix}}{\\Delta} \\quad\\quad\n",
    "\\Delta = \\begin{vmatrix} a & b \\\\ c & d \\end{vmatrix} $\n",
    "\n",
    "$ E(\\theta, \\phi) = E_{\\theta}(\\theta, \\phi) \\hat{\\theta} + E_{\\phi}(\\theta, \\phi) \\hat{\\phi} $\n",
    "\n",
    "$ E_{\\theta}(\\theta, \\phi)=\\frac{sin \\theta\\,cos \\phi}{\\Delta (\\theta,\\phi)} \n",
    "[ I_H(\\theta, \\phi) \\, E_{\\phi}^V (\\pi - \\theta, \\phi) - I_V(\\theta, \\phi) \\, E_{\\phi}^H (\\pi - \\theta, \\phi) ] $\n",
    "\n",
    "$ E_{\\phi}(\\theta, \\phi)=\\frac{sin \\theta\\,cos \\phi}{\\Delta (\\theta,\\phi)} \n",
    "[ I_H(\\theta, \\phi) \\, E_{\\theta}^V (\\pi - \\theta, \\phi) - I_V(\\theta, \\phi) \\, E_{\\theta}^H (\\pi - \\theta, \\phi) ] $\n",
    "\n",
    "with\n",
    "\n",
    "$\\Delta(\\theta,\\phi) = E_{\\theta}^H(\\pi-\\theta, \\phi) \\, E_{\\phi}^V(\\pi-\\theta,\\phi)\n",
    "                      -E_{\\theta}^V(\\pi-\\theta, \\phi) \\, E_{\\phi}^H(\\pi-\\theta,\\phi)$"
   ]
  },
  {
   "cell_type": "markdown",
   "metadata": {},
   "source": [
    "**With $\\theta$ and $\\phi$ the polar spherical angles as described in Stuart/McCormic/Parini p.157, one gets**\n",
    "\n",
    "$ E_{\\theta}^H(\\theta, -\\phi) \\, E_{\\theta}(\\theta, \\phi) + E_{\\phi}^H(\\theta,-\\phi) \\, E_{\\phi}(\\theta, \\phi)\n",
    "= cos\\theta \\, I_H(k_y, k_z)$\n",
    "\n",
    "$ E_{\\theta}^V(\\theta, -\\phi) \\, E_{\\theta}(\\theta, \\phi) + E_{\\phi}^V(\\theta,-\\phi) \\, E_{\\phi}(\\theta, \\phi)\n",
    "= cos\\theta \\, I_V(k_y, k_z)$\n",
    "\n",
    "with\n",
    "\n",
    "$ I_V(k_x, k_y) = exp(jk_z z_0) \\int_{-\\infty}^{\\infty} \\int_{-\\infty}^{\\infty} \n",
    "                    v_V(x, y, z_0) \\, exp(jk_x x + jk_y y) \\, dx \\, dy $\n",
    "                    \n",
    "$ I_H(k_x, k_y) = exp(jk_z z_0) \\int_{-\\infty}^{\\infty} \\int_{-\\infty}^{\\infty} \n",
    "                    v_H(x, y, z_0) \\, exp(jk_x x + jk_y y) \\, dx \\, dy $\n",
    "                    \n",
    "If the phase of the pattern is not of interest, $z_0$ can be taken as zero.                    \n",
    "\n",
    "$ E_{\\theta}(\\theta, \\phi)=\\frac{cos\\theta}{\\Delta (\\theta,\\phi)} \n",
    "[ I_H(\\theta, \\phi) \\, E_{\\phi}^V (\\theta, -\\phi) - I_V(\\theta, \\phi) \\, E_{\\phi}^H (\\theta, -\\phi) ] $\n",
    "\n",
    "$ E_{\\phi}(\\theta, \\phi)=\\frac{cos\\theta}{\\Delta (\\theta,\\phi)} \n",
    "[ I_H(\\theta, \\phi) \\, E_{\\theta}^V (\\theta, -\\phi) - I_V(\\theta, \\phi) \\, E_{\\theta}^H (\\theta, -\\phi) ] $\n",
    "\n",
    "with\n",
    "\n",
    "$\\Delta(\\theta,\\phi) = E_{\\theta}^H(\\theta,-\\phi) \\, E_{\\phi}^V(\\theta,-\\phi)\n",
    "                      -E_{\\theta}^V(\\theta,-\\phi) \\, E_{\\phi}^H(\\theta,-\\phi)$"
   ]
  },
  {
   "cell_type": "code",
   "execution_count": 12,
   "metadata": {},
   "outputs": [],
   "source": [
    "Delta_theta_phi = E_H_probe_theta_phi[0]*E_V_probe_theta_phi[1]-E_V_probe_theta_phi[0]*E_H_probe_theta_phi[1]"
   ]
  },
  {
   "cell_type": "code",
   "execution_count": 13,
   "metadata": {},
   "outputs": [
    {
     "data": {
      "text/plain": [
       "Text(0,0.5,'v')"
      ]
     },
     "execution_count": 13,
     "metadata": {},
     "output_type": "execute_result"
    }
   ],
   "source": [
    "fig, ax = plt.subplots(1,1)\n",
    "\n",
    "im = ax.pcolor(u, v, np.abs(Delta_theta_phi), label=\"Delta_theta_phi\")\n",
    "dia.addColorBar(im, ax)\n",
    "ax.set_aspect('equal')\n",
    "ax.legend()\n",
    "ax.grid()\n",
    "ax.set_xlabel('u')\n",
    "ax.set_ylabel('v')"
   ]
  },
  {
   "cell_type": "markdown",
   "metadata": {},
   "source": [
    "# Probe compensation alternate"
   ]
  },
  {
   "cell_type": "markdown",
   "metadata": {},
   "source": [
    "Yaghjian, *Approximate Formulas for the Far Field and Gain of Open-Ended Rectangular Waveguide*\n",
    "\n",
    "$ \\overline{E}(\\overline{r}\\rightarrow\\infty) \n",
    "= \\frac{e^{jkr}}{kr} \\left[ E_E(\\theta)\\,\\sin\\phi\\,\\hat{e}_\\theta + E_H(\\theta)\\,\\cos\\phi\\,\\hat{e}_\\phi \\right]\n",
    "$\n",
    "\n",
    "$\n",
    "\\left\\{\\begin{aligned}\n",
    "E_\\theta = E_E(\\theta)\\sin\\phi \\\\\n",
    "E_\\phi = E_H(\\theta)\\cos\\phi\n",
    "\\end{aligned}\\right.\n",
    "$\n",
    "\n",
    "$ \\hat{\\theta} = \\cos\\theta\\cos\\phi\\,\\hat{x} + \\cos\\theta\\sin\\phi\\,\\hat{y} - \\sin\\theta\\,\\hat{z}\\\\\n",
    "  \\hat{\\phi}  = -\\sin\\phi\\,\\hat{x} + \\cos\\phi\\,\\hat{y} $\n",
    "\n",
    "Ludwig I\n",
    "\n",
    "$ \\left\\{\\begin{matrix}\n",
    "E_x &=& E_\\theta\\cos\\theta\\,\\cos\\phi - E_\\phi\\sin\\phi \\\\\n",
    "E_y &=& E_\\theta\\cos\\theta\\,\\sin\\phi + E_\\phi\\cos\\phi \\\\\n",
    "E_z &=& -E_\\theta\\sin\\theta\n",
    "\\end{matrix}\\right. $"
   ]
  },
  {
   "cell_type": "code",
   "execution_count": 14,
   "metadata": {},
   "outputs": [],
   "source": [
    "a = a_X\n",
    "b = b_X\n",
    "k = k_X\n",
    "\n",
    "E_V_probe_theta, E_V_probe_phi = dia.E_theta_phi_yaghjian(theta, phi, k, a, b, AE)\n",
    "\n",
    "E_V_probe_x = E_V_probe_theta * np.cos(theta) * np.cos(phi) - E_V_probe_phi * np.sin(phi)\n",
    "E_V_probe_y = E_V_probe_theta * np.cos(theta) * np.sin(phi) + E_V_probe_phi * np.cos(phi)\n",
    "E_V_probe_z = -E_V_probe_theta * np.sin(theta)\n",
    "\n",
    "# rotate the probe by pi/2 around z\n",
    "E_H_probe_theta, E_H_probe_phi = dia.E_theta_phi_yaghjian(theta, -pi/2+phi, k, a, b, AE)\n",
    "\n",
    "E_H_probe_x = E_H_probe_theta * np.cos(theta) * np.cos(phi) - E_H_probe_phi * np.sin(phi)\n",
    "E_H_probe_y = E_H_probe_theta * np.cos(theta) * np.sin(phi) + E_H_probe_phi * np.cos(phi)\n",
    "E_H_probe_z = -E_H_probe_theta * np.sin(theta)"
   ]
  },
  {
   "cell_type": "code",
   "execution_count": 15,
   "metadata": {},
   "outputs": [
    {
     "data": {
      "text/plain": [
       "Text(0.5,0.98,'Ludwig I')"
      ]
     },
     "execution_count": 15,
     "metadata": {},
     "output_type": "execute_result"
    }
   ],
   "source": [
    "fig, ((ax0, ax1, ax2),(ax3, ax4, ax5)) = plt.subplots(2,3)\n",
    "\n",
    "im0 = ax0.pcolor(u, v, np.abs(E_V_probe_x), label=\"E_V_probe_x\")\n",
    "ax0.set_xlabel('u')\n",
    "ax0.set_ylabel('v')\n",
    "ax0.legend()\n",
    "dia.addColorBar(im0, ax0)\n",
    "\n",
    "im1 = ax1.pcolor(u, v, np.abs(E_V_probe_y), label=\"E_V_probe_y\")\n",
    "ax1.set_xlabel('u')\n",
    "ax1.set_ylabel('v')\n",
    "ax1.legend()\n",
    "dia.addColorBar(im1, ax1)\n",
    "\n",
    "im2 = ax2.pcolor(u, v, np.abs(E_V_probe_z), label=\"E_V_probe_z\")\n",
    "ax2.set_xlabel('u')\n",
    "ax2.set_ylabel('v')\n",
    "ax2.legend()\n",
    "dia.addColorBar(im2, ax2)\n",
    "\n",
    "lim = im1.get_clim()\n",
    "im0.set_clim(lim)\n",
    "im2.set_clim(lim)\n",
    "\n",
    "im3 = ax3.pcolor(u, v, np.abs(E_H_probe_x), label=\"E_H_probe_x\")\n",
    "ax3.set_xlabel('u')\n",
    "ax3.set_ylabel('v')\n",
    "ax3.legend()\n",
    "dia.addColorBar(im3, ax3)\n",
    "\n",
    "im4 = ax4.pcolor(u, v, np.abs(E_H_probe_y), label=\"E_H_probe_y\")\n",
    "ax4.set_xlabel('u')\n",
    "ax4.set_ylabel('v')\n",
    "ax4.legend()\n",
    "dia.addColorBar(im4, ax4)\n",
    "\n",
    "im5 = ax5.pcolor(u, v, np.abs(E_H_probe_z), label=\"E_H_probe_z\")\n",
    "ax5.set_xlabel('u')\n",
    "ax5.set_ylabel('v')\n",
    "ax5.legend()\n",
    "dia.addColorBar(im5, ax5)\n",
    "\n",
    "lim = im3.get_clim()\n",
    "im4.set_clim(lim)\n",
    "im5.set_clim(lim)\n",
    "\n",
    "fig.suptitle(\"Ludwig I\")"
   ]
  },
  {
   "cell_type": "markdown",
   "metadata": {},
   "source": [
    "Ludwig III\n",
    "\n",
    "$ \n",
    "\\left\\{\\begin{matrix}\n",
    "\\hat{\\underline{e}}_{co}    &=& \\cos\\phi\\,\\hat{\\underline{e}}_\\theta - \\sin\\phi\\,\\hat{\\underline{e}}_\\phi\\\\\n",
    "\\hat{\\underline{e}}_{cross} &=& \\sin\\phi\\,\\hat{\\underline{e}}_\\theta + \\cos\\phi\\,\\hat{\\underline{e}}_\\phi\n",
    "\\end{matrix}\\right.\n",
    "$"
   ]
  },
  {
   "cell_type": "code",
   "execution_count": 16,
   "metadata": {},
   "outputs": [],
   "source": [
    "E_V_co    = E_V_probe_theta * np.cos(phi) - E_V_probe_phi * np.sin(phi)\n",
    "E_V_cross = E_V_probe_theta * np.sin(phi) + E_V_probe_phi * np.cos(phi)\n",
    "\n",
    "E_H_co    = E_H_probe_theta * np.cos(phi) - E_H_probe_phi * np.sin(phi)\n",
    "E_H_cross = E_H_probe_theta * np.sin(phi) + E_H_probe_phi * np.cos(phi)"
   ]
  },
  {
   "cell_type": "code",
   "execution_count": 17,
   "metadata": {},
   "outputs": [
    {
     "data": {
      "text/plain": [
       "Text(0.5,0.98,'Ludwig III')"
      ]
     },
     "execution_count": 17,
     "metadata": {},
     "output_type": "execute_result"
    }
   ],
   "source": [
    "fig, ((ax0, ax1),(ax2, ax3)) = plt.subplots(2,2)\n",
    "\n",
    "im0 = ax0.pcolor(u, v, np.abs(E_V_co), label=\"E_V_co\")\n",
    "ax0.set_xlabel('u')\n",
    "ax0.set_ylabel('v')\n",
    "ax0.legend()\n",
    "dia.addColorBar(im0, ax0)\n",
    "\n",
    "im1 = ax1.pcolor(u, v, np.abs(E_V_cross), label=\"E_V_cross\")\n",
    "ax1.set_xlabel('u')\n",
    "ax1.set_ylabel('v')\n",
    "ax1.legend()\n",
    "dia.addColorBar(im1, ax1)\n",
    "\n",
    "im2 = ax2.pcolor(u, v, np.abs(E_H_co), label=\"E_H_co\")\n",
    "ax2.set_xlabel('u')\n",
    "ax2.set_ylabel('v')\n",
    "ax2.legend()\n",
    "dia.addColorBar(im2, ax2)\n",
    "\n",
    "im3 = ax3.pcolor(u, v, np.abs(E_H_cross), label=\"E_H_cross\")\n",
    "ax3.set_xlabel('u')\n",
    "ax3.set_ylabel('v')\n",
    "ax3.legend()\n",
    "dia.addColorBar(im3, ax3)\n",
    "\n",
    "lim = im1.get_clim()\n",
    "im0.set_clim(lim)\n",
    "im2.set_clim(lim)\n",
    "im3.set_clim(lim)\n",
    "\n",
    "fig.suptitle(\"Ludwig III\")"
   ]
  },
  {
   "cell_type": "code",
   "execution_count": null,
   "metadata": {},
   "outputs": [],
   "source": []
  }
 ],
 "metadata": {
  "kernelspec": {
   "display_name": "Python 3",
   "language": "python",
   "name": "python3"
  },
  "language_info": {
   "codemirror_mode": {
    "name": "ipython",
    "version": 3
   },
   "file_extension": ".py",
   "mimetype": "text/x-python",
   "name": "python",
   "nbconvert_exporter": "python",
   "pygments_lexer": "ipython3",
   "version": "3.7.1"
  },
  "toc": {
   "base_numbering": 1,
   "nav_menu": {},
   "number_sections": true,
   "sideBar": true,
   "skip_h1_title": false,
   "title_cell": "Table of Contents",
   "title_sidebar": "Contents",
   "toc_cell": false,
   "toc_position": {},
   "toc_section_display": true,
   "toc_window_display": true
  },
  "varInspector": {
   "cols": {
    "lenName": 16,
    "lenType": 16,
    "lenVar": 40
   },
   "kernels_config": {
    "python": {
     "delete_cmd_postfix": "",
     "delete_cmd_prefix": "del ",
     "library": "var_list.py",
     "varRefreshCmd": "print(var_dic_list())"
    },
    "r": {
     "delete_cmd_postfix": ") ",
     "delete_cmd_prefix": "rm(",
     "library": "var_list.r",
     "varRefreshCmd": "cat(var_dic_list()) "
    }
   },
   "types_to_exclude": [
    "module",
    "function",
    "builtin_function_or_method",
    "instance",
    "_Feature"
   ],
   "window_display": false
  }
 },
 "nbformat": 4,
 "nbformat_minor": 2
}
