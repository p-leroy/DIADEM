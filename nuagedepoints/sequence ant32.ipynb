{
 "cells": [
  {
   "cell_type": "code",
   "execution_count": null,
   "metadata": {},
   "outputs": [],
   "source": [
    "import os"
   ]
  },
  {
   "cell_type": "code",
   "execution_count": null,
   "metadata": {},
   "outputs": [],
   "source": [
    "firstLine = \"Ant32 RasterScan Setup File V3.0\"\n",
    "date = \"0001-01-01\"\n",
    "operator = \"LLC\"\n",
    "XyzImgAxis = 0\n",
    "XyzImgLabel = 0\n",
    "ScanAxis = 3\n",
    "ScanStart = 0.000000\n",
    "ScanStop = 356.400000\n",
    "ScanInc = 3.600000\n",
    "ScanSpeed = 100\n",
    "ScanMode = \"StepMode\"\n",
    "ScanMotionMode = \"BiDirectional\"\n",
    "ScanFreeRotation = False\n",
    "AxisLatency = 10\n",
    "StepAxis = 4\n",
    "MeasParam = 0\n",
    "Step = 2\n",
    "Step_1 = 0.000000\n",
    "Step_2 = 90.000000\n",
    "SweepStart = 8.200000\n",
    "SweepStop = 12.400000\n",
    "SweepPoints = 83\n",
    "DataFiles = \"D:\\\\llecoq\\\\CACENDRA\\\\SGH\\\\20200527\\\\3D\\\\EvEh_scan1.amp\""
   ]
  },
  {
   "cell_type": "code",
   "execution_count": null,
   "metadata": {},
   "outputs": [],
   "source": [
    "lines0 = [\n",
    "    f\"{firstLine}\",\n",
    "    f\"{date}\",\n",
    "    \"Data#1\",\n",
    "    \"Project=3D\",\n",
    "    f\"Operator={operator}\",\n",
    "    \"Remarks1=\",\n",
    "    \"Remarks2=\" ,\n",
    "    \"Remarks3=\" ,\n",
    "    f\"XyzImgAxis={XyzImgAxis}\",\n",
    "    f\"Xyz ImgLabel={XyzImgLabel}\",\n",
    "    f\"ScanAxis={ScanAxis}\",\n",
    "]\n",
    "lines1 = [\n",
    "    f\"ScanSpeed= {ScanSpeed}\",\n",
    "    f\"ScanMode= {ScanMode}\",\n",
    "    f\"ScanMotionMode= {ScanMotionMode}\",\n",
    "    f\"ScanFreeRotation= {ScanFreeRotation}\",\n",
    "    f\"AxisLatency= {AxisLatency}\",\n",
    "    f\"StepAxis= {StepAxis}\",\n",
    "    f\"MeasParam#={MeasParam}\",\n",
    "    f\"Step#= {Step}\",\n",
    "    f\"Step 1= {Step_1}\",\n",
    "    f\"Step 2= {Step_2}\",\n",
    "    f\"SweepStart={SweepStart}\",\n",
    "    f\"SweepStop={SweepStop}\",\n",
    "    f\"SweepPoints={SweepPoints}\",\n",
    "    f\"DataFiles = {DataFiles}\",\n",
    "    \"#End\",\n",
    "]"
   ]
  },
  {
   "cell_type": "code",
   "execution_count": null,
   "metadata": {},
   "outputs": [],
   "source": [
    "rssDir = \"/home/pleroy/DATA/DIADEM/RobotArm/3D\"\n",
    "ScanStart = []\n",
    "ScanStop = []\n",
    "ScanInc = []\n",
    "for idx in range(1, 28):\n",
    "    with open(os.path.join(rssDir, f\"config{idx}.rss\")) as file:\n",
    "        for line in file.readlines():\n",
    "            if \"ScanStart\" in line:\n",
    "                ScanStart.append(float(line.split(\"=\")[-1]))\n",
    "            if \"ScanStop\" in line:\n",
    "                ScanStop.append(float(line.split(\"=\")[-1]))\n",
    "            if \"ScanInc\" in line:\n",
    "                ScanInc.append(float(line.split(\"=\")[-1]))"
   ]
  },
  {
   "cell_type": "code",
   "execution_count": null,
   "metadata": {},
   "outputs": [],
   "source": [
    "rssOut = \"/home/pleroy/DATA/DIADEM/RobotArm\"\n",
    "for idx, (start, stop, inc) in enumerate(zip(ScanStart, ScanStop, ScanInc)):\n",
    "    with open(os.path.join(rssOut, f\"config{idx+1}.rss\"), 'w') as file:\n",
    "        for line in lines0:\n",
    "            file.write(line + \"\\n\")\n",
    "        file.write(f\"ScanStart= {start}\\nScanStop= {stop}\\nScanInc= {inc}\\n\")\n",
    "        for line in lines1:\n",
    "            file.write(line + \"\\n\")"
   ]
  },
  {
   "cell_type": "code",
   "execution_count": null,
   "metadata": {},
   "outputs": [],
   "source": []
  }
 ],
 "metadata": {
  "kernelspec": {
   "display_name": "Python 3",
   "language": "python",
   "name": "python3"
  },
  "language_info": {
   "codemirror_mode": {
    "name": "ipython",
    "version": 3
   },
   "file_extension": ".py",
   "mimetype": "text/x-python",
   "name": "python",
   "nbconvert_exporter": "python",
   "pygments_lexer": "ipython3",
   "version": "3.8.6"
  }
 },
 "nbformat": 4,
 "nbformat_minor": 4
}
