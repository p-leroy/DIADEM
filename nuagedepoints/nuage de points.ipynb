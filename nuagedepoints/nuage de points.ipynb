{
 "cells": [
  {
   "cell_type": "code",
   "execution_count": 1,
   "metadata": {},
   "outputs": [],
   "source": [
    "from mpl_toolkits.mplot3d import Axes3D\n",
    "\n",
    "import numpy as np\n",
    "import matplotlib.pyplot as plt\n",
    "\n",
    "%matplotlib qt5"
   ]
  },
  {
   "cell_type": "code",
   "execution_count": 2,
   "metadata": {},
   "outputs": [],
   "source": [
    "import configparser, os"
   ]
  },
  {
   "cell_type": "markdown",
   "metadata": {},
   "source": [
    "# Génération du fichier de configuration"
   ]
  },
  {
   "cell_type": "markdown",
   "metadata": {},
   "source": [
    "## Lecture des données igoo / config"
   ]
  },
  {
   "cell_type": "code",
   "execution_count": 3,
   "metadata": {},
   "outputs": [],
   "source": [
    "igloofile = \"/home/pleroy/DATA/DIADEM/RobotArm/3D/igloo.txt\"\n",
    "iniFile = \"/home/pleroy/DATA/DIADEM/RobotArm/cloudScanSweep.ini\"\n",
    "axes = [\"1\", \"3\", \"4\"] # CACENDRA => 1 azimuth, 2 translation, 3 roll, 4 polar\n",
    "config = configparser.ConfigParser()\n",
    "config.optionxform = str # case senstitive\n",
    "config.read(iniFile)\n",
    "theta_phi = np.genfromtxt(igloofile)"
   ]
  },
  {
   "cell_type": "code",
   "execution_count": 4,
   "metadata": {},
   "outputs": [],
   "source": [
    "def buildFile(outputfile, az_pr_rl, config, axes):\n",
    "    header = \"\".join([f\"{key}={config['header'][key]}\\n\" for key in config['header']])\n",
    "    with open(outputfile, 'w') as file:  # Use file to refer to the file object\n",
    "        file.write(\"Ant32 CloudScan Setup File V4.1\\n\")\n",
    "        file.write(header)\n",
    "        file.write(\"#CloudList\\n\")\n",
    "        file.write(\" \".join(axes) + \"\\n\")\n",
    "        for row in az_pr_rl:\n",
    "            file.write(f\"{row[0]:.2f} {row[1]:.2f} {row[2]:.2f}\\n\")"
   ]
  },
  {
   "cell_type": "markdown",
   "metadata": {},
   "source": [
    "## igloo V"
   ]
  },
  {
   "cell_type": "code",
   "execution_count": 5,
   "metadata": {},
   "outputs": [],
   "source": [
    "# add a row for the polarization axis, constant value 0° or 90°\n",
    "polarVal = 0\n",
    "polar = np.ones((theta_phi.shape[0], 1)) * polarVal"
   ]
  },
  {
   "cell_type": "code",
   "execution_count": 6,
   "metadata": {},
   "outputs": [],
   "source": [
    "outputfile = os.path.join(\"/home/pleroy/DATA/DIADEM\", \"iglooV.css\")\n",
    "az_rl_pl = np.c_[theta_phi, polar]\n",
    "buildFile(outputfile, az_rl_pl, config, axes)"
   ]
  },
  {
   "cell_type": "markdown",
   "metadata": {},
   "source": [
    "## roulis 360 V / igloo V / igloo H / roulis 360 H"
   ]
  },
  {
   "cell_type": "code",
   "execution_count": 7,
   "metadata": {},
   "outputs": [],
   "source": [
    "polarV = np.ones((theta_phi.shape[0], 1)) * 0\n",
    "polarH = np.ones((theta_phi.shape[0], 1)) * 90\n",
    "igloo_V = np.c_[theta_phi, polarV]\n",
    "igloo_H = np.c_[theta_phi[::-1,:], polarH]"
   ]
  },
  {
   "cell_type": "code",
   "execution_count": 8,
   "metadata": {},
   "outputs": [],
   "source": [
    "rl = np.arange(0, 360, 3.6).reshape(-1, 1)\n",
    "rl_V = np.c_[np.zeros(rl.shape), rl, np.zeros(rl.shape)]\n",
    "rl_H = np.c_[np.zeros(rl.shape), rl, np.ones(rl.shape) * 90]"
   ]
  },
  {
   "cell_type": "code",
   "execution_count": 9,
   "metadata": {},
   "outputs": [],
   "source": [
    "outputfile = os.path.join(\"/home/pleroy/DATA/DIADEM\", \"rlV_iglooV_iglooH_rlH.css\")\n",
    "az_rl_pl = np.r_[rl_V, igloo_V, igloo_H, rl_H]\n",
    "buildFile(outputfile, az_rl_pl, config, axes)"
   ]
  },
  {
   "cell_type": "markdown",
   "metadata": {},
   "source": [
    "## roulis 360 V / igloo V / igloo H / roulis 360 H"
   ]
  },
  {
   "cell_type": "code",
   "execution_count": 42,
   "metadata": {},
   "outputs": [],
   "source": [
    "polarV = np.ones((theta_phi.shape[0], 1)) * 0\n",
    "polarH = np.ones((theta_phi.shape[0], 1)) * 90\n",
    "igloo_V = np.c_[theta_phi, polarV]\n",
    "igloo_H = np.c_[theta_phi, polarH]\n",
    "igloo_VH = None"
   ]
  },
  {
   "cell_type": "code",
   "execution_count": 43,
   "metadata": {},
   "outputs": [
    {
     "name": "stdout",
     "output_type": "stream",
     "text": [
      "theta 0.0, phis.shape 6\n",
      "theta 7.5, phis.shape 8\n",
      "theta 15.0, phis.shape 15\n",
      "theta 22.5, phis.shape 20\n",
      "theta 30.0, phis.shape 24\n",
      "theta 37.5, phis.shape 30\n",
      "theta 45.0, phis.shape 36\n",
      "theta 52.5, phis.shape 40\n",
      "theta 60.0, phis.shape 45\n",
      "theta 67.5, phis.shape 45\n",
      "theta 75.0, phis.shape 48\n",
      "theta 82.5, phis.shape 48\n",
      "theta 90.0, phis.shape 48\n",
      "theta 97.5, phis.shape 48\n",
      "theta 105.0, phis.shape 48\n",
      "theta 112.5, phis.shape 45\n",
      "theta 120.0, phis.shape 45\n",
      "theta 127.5, phis.shape 40\n",
      "theta 135.0, phis.shape 36\n",
      "theta 142.5, phis.shape 30\n",
      "theta 150.0, phis.shape 24\n",
      "theta 157.5, phis.shape 20\n",
      "theta 165.0, phis.shape 15\n",
      "theta 172.5, phis.shape 8\n",
      "theta 180.0, phis.shape 6\n"
     ]
    }
   ],
   "source": [
    "for theta in sorted(set(theta_phi[:, 0])):\n",
    "    idx = np.where(theta_phi[:, 0] == theta)[0]\n",
    "    phis = theta_phi[idx, 1]\n",
    "    print(f\"theta {theta}, phis.shape {phis.size}\")\n",
    "    igloo_VH_tmp = np.zeros((phis.size * 2, igloo_V.shape[1]))\n",
    "    for k, phi in enumerate(phis):\n",
    "        igloo_VH_tmp[k, :] = [theta, phi, 0]\n",
    "        igloo_VH_tmp[k + phis.size, :] = [theta, phi, 90]\n",
    "    if igloo_VH is None:\n",
    "        igloo_VH = igloo_VH_tmp\n",
    "    else:\n",
    "        igloo_VH = np.r_[igloo_VH, igloo_VH_tmp]"
   ]
  },
  {
   "cell_type": "code",
   "execution_count": 44,
   "metadata": {},
   "outputs": [],
   "source": [
    "rl = np.arange(0, 360, 3.6).reshape(-1, 1)\n",
    "rl_V = np.c_[np.zeros(rl.shape), rl, np.zeros(rl.shape)]\n",
    "rl_H = np.c_[np.zeros(rl.shape), rl, np.ones(rl.shape) * 90]"
   ]
  },
  {
   "cell_type": "code",
   "execution_count": 45,
   "metadata": {},
   "outputs": [],
   "source": [
    "outputfile = os.path.join(\"/home/pleroy/DATA/DIADEM\", \"rlV_rlH_iglooVH_rlV_rlH.css\")\n",
    "az_rl_pl = np.r_[rl_V, rl_H, igloo_VH, rl_V, rl_H]\n",
    "buildFile(outputfile, az_rl_pl, config, axes)"
   ]
  },
  {
   "cell_type": "code",
   "execution_count": 48,
   "metadata": {},
   "outputs": [
    {
     "data": {
      "text/plain": [
       "[<matplotlib.lines.Line2D at 0x7fa0f380e040>]"
      ]
     },
     "execution_count": 48,
     "metadata": {},
     "output_type": "execute_result"
    }
   ],
   "source": [
    "plt.figure()\n",
    "plt.plot(az_rl_pl[:, 0], '.-')\n",
    "plt.plot(az_rl_pl[:, 1], '.-')"
   ]
  },
  {
   "cell_type": "markdown",
   "metadata": {},
   "source": [
    "# Plot des données"
   ]
  },
  {
   "cell_type": "code",
   "execution_count": null,
   "metadata": {},
   "outputs": [],
   "source": [
    "theta = theta_phi[:, 0]\n",
    "phi = theta_phi[:, 1]\n",
    "xs = np.sin(theta) * np.cos(phi)\n",
    "ys = np.sin(theta) * np.sin(phi)\n",
    "zs = np.cos(theta)"
   ]
  },
  {
   "cell_type": "code",
   "execution_count": null,
   "metadata": {},
   "outputs": [],
   "source": [
    "fig = plt.figure()\n",
    "ax = fig.add_subplot(111, projection='3d')\n",
    "ax.scatter(xs, ys, zs)\n",
    "ax.set_xlabel(\"theta\")\n",
    "ax.set_ylabel(\"phi\")"
   ]
  }
 ],
 "metadata": {
  "kernelspec": {
   "display_name": "Python 3",
   "language": "python",
   "name": "python3"
  },
  "language_info": {
   "codemirror_mode": {
    "name": "ipython",
    "version": 3
   },
   "file_extension": ".py",
   "mimetype": "text/x-python",
   "name": "python",
   "nbconvert_exporter": "python",
   "pygments_lexer": "ipython3",
   "version": "3.8.6"
  }
 },
 "nbformat": 4,
 "nbformat_minor": 4
}
