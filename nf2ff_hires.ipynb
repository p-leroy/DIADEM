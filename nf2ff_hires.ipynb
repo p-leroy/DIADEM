{
 "cells": [
  {
   "cell_type": "markdown",
   "metadata": {},
   "source": [
    "# Init"
   ]
  },
  {
   "cell_type": "code",
   "execution_count": 1,
   "metadata": {},
   "outputs": [],
   "source": [
    "import numpy as np\n",
    "import numexpr as ne\n",
    "import matplotlib.pyplot as plt\n",
    "%matplotlib qt5"
   ]
  },
  {
   "cell_type": "code",
   "execution_count": 2,
   "metadata": {},
   "outputs": [],
   "source": [
    "from scipy import interpolate\n",
    "from scipy import signal\n",
    "from mpl_toolkits.axes_grid1 import make_axes_locatable"
   ]
  },
  {
   "cell_type": "code",
   "execution_count": 3,
   "metadata": {},
   "outputs": [],
   "source": [
    "import parula as par"
   ]
  },
  {
   "cell_type": "code",
   "execution_count": 5,
   "metadata": {},
   "outputs": [],
   "source": [
    "import toolsdiadem.tools as dia"
   ]
  },
  {
   "cell_type": "code",
   "execution_count": 6,
   "metadata": {},
   "outputs": [],
   "source": [
    "%load_ext autoreload\n",
    "%autoreload 2"
   ]
  },
  {
   "cell_type": "code",
   "execution_count": 7,
   "metadata": {},
   "outputs": [],
   "source": [
    "root_dir = \"/home/pleroy/DATA/DIADEM/bfu\"\n",
    "# 011 ===== 3l +45\n",
    "dir_011 = \"/20181015\"\n",
    "nam_011 = \"011_3l_05l_+45_amp_pha_32GHz.data\"\n",
    "dat_011 = root_dir + dir_011 + \"/\" + nam_011\n",
    "# 012 ===== 3l -45\n",
    "dir_012 = \"/20181015\"\n",
    "nam_012 = \"012_3l_05l_-45_amp_pha_32GHz.data\"\n",
    "dat_012 = root_dir + dir_012 + \"/\" + nam_012\n",
    "# 013_0 ===== 7l +45\n",
    "dir_013_0 = \"/20181016/013_seq\"\n",
    "nam_013_0 = \"SEQ_0_7l_+45_amp_pha_32GHz.data\"\n",
    "dat_013_0 = root_dir + dir_013_0 + \"/\" + nam_013_0\n",
    "# 013_1 ===== 7l -45\n",
    "dir_013_1 = \"/20181016/013_seq\"\n",
    "nam_013_1 = \"SEQ_1_7l_-45_amp_pha_32GHz.data\"\n",
    "dat_013_1 = root_dir + dir_013_1 + \"/\" + nam_013_1\n",
    "# 014_0 ===== 5l +45\n",
    "dir_014_0 = \"/20181017/014_5l_05l\"\n",
    "nam_014_0 = \"SEQ_0_5l_+45_amp_pha_32GHz\"\n",
    "dat_014_0 = root_dir + dir_014_0 + \"/\" + nam_014_0\n",
    "# 014_1 ===== 5l +-5\n",
    "dir_014_1 = \"/20181017/014_5l_05l\"\n",
    "nam_014_1 = \"SEQ_1_5l_-45_amp_pha_32GHz\"\n",
    "dat_014_1 = root_dir + dir_014_1 + \"/\" + nam_014_1"
   ]
  },
  {
   "cell_type": "code",
   "execution_count": 8,
   "metadata": {},
   "outputs": [],
   "source": [
    "import os"
   ]
  },
  {
   "cell_type": "code",
   "execution_count": 9,
   "metadata": {},
   "outputs": [],
   "source": [
    "x0y0 = (211, 244.5)"
   ]
  },
  {
   "cell_type": "code",
   "execution_count": 10,
   "metadata": {},
   "outputs": [],
   "source": [
    "pi = np.pi\n",
    "f0 = 32e9\n",
    "c = 3e8\n",
    "lambda0 = c / f0\n",
    "k0 = 2 * np.pi / lambda0\n",
    "w0 = 2 * np.pi * f0\n",
    "mu = 4 * np.pi * 1e-7\n",
    "epsilon = 8.854187817e-12 # 1 / (mu * c**2)"
   ]
  },
  {
   "cell_type": "markdown",
   "metadata": {},
   "source": [
    "# Read data"
   ]
  },
  {
   "cell_type": "code",
   "execution_count": 11,
   "metadata": {},
   "outputs": [],
   "source": [
    "ex_3l = np.genfromtxt( dat_012, skip_header=True )\n",
    "ey_3l = np.genfromtxt( dat_011, skip_header=True )"
   ]
  },
  {
   "cell_type": "code",
   "execution_count": 12,
   "metadata": {},
   "outputs": [],
   "source": [
    "dx = 4.69e-3\n",
    "dy = 4.69e-3\n",
    "fsx = 1 / dx\n",
    "fsy = 1 / dy\n",
    "ksx = 2 * np.pi * fsx\n",
    "ksy = 2 * np.pi * fsy\n",
    "Nx = 81\n",
    "Ny = 81"
   ]
  },
  {
   "cell_type": "code",
   "execution_count": 13,
   "metadata": {},
   "outputs": [],
   "source": [
    "xx = (ey_3l[:,0].reshape((81,81)) - x0y0[0]) / 1000\n",
    "yy = (ey_3l[:,1].reshape((81,81)) - x0y0[1]) / 1000\n",
    "XX = xx / lambda0\n",
    "YY = yy / lambda0\n",
    "Ax = np.rot90(ex_3l[:,2].reshape((81,81)), k=-1)\n",
    "Ay = ey_3l[:,2].reshape((81,81))"
   ]
  },
  {
   "cell_type": "code",
   "execution_count": 14,
   "metadata": {},
   "outputs": [],
   "source": [
    "myVmax = 10\n",
    "myVmin = -30"
   ]
  },
  {
   "cell_type": "code",
   "execution_count": 15,
   "metadata": {},
   "outputs": [
    {
     "data": {
      "text/plain": [
       "Text(0.5,0.98,'011_3l_05l_+45_amp_pha_32GHz.data\\n012_3l_05l_-45_amp_pha_32GHz.data')"
      ]
     },
     "execution_count": 15,
     "metadata": {},
     "output_type": "execute_result"
    }
   ],
   "source": [
    "fig, (ax0, ax1) = plt.subplots(1, 2)\n",
    "\n",
    "im0 = ax0.pcolor(XX, YY, Ax, vmin=myVmin, vmax=myVmax, cmap=par.parula_map)\n",
    "ax0.set_title(\"Ax\")\n",
    "dia.addColorBar(im0, ax0)\n",
    "\n",
    "im1 = ax1.pcolor(XX, YY, Ay, vmin=myVmin, vmax=myVmax, cmap=par.parula_map)\n",
    "ax1.set_title(\"Ay\")\n",
    "dia.addColorBar(im1, ax1)\n",
    "\n",
    "title = nam_011 +\"\\n\" + nam_012\n",
    "fig.suptitle(title)"
   ]
  },
  {
   "cell_type": "markdown",
   "metadata": {},
   "source": [
    "## Compute complex values"
   ]
  },
  {
   "cell_type": "code",
   "execution_count": 16,
   "metadata": {},
   "outputs": [],
   "source": [
    "c_ex_3l = np.rot90(dia.getComplex(ex_3l[:,2],ex_3l[:,3]).reshape((81,81)), k=-1) + 1e-3\n",
    "c_ey_3l =          dia.getComplex(ey_3l[:,2],ey_3l[:,3]).reshape((81,81))"
   ]
  },
  {
   "cell_type": "markdown",
   "metadata": {},
   "source": [
    "## Add points"
   ]
  },
  {
   "cell_type": "code",
   "execution_count": 17,
   "metadata": {},
   "outputs": [],
   "source": [
    "pointsToAdd = 80\n",
    "c_ex_3l_extended = np.zeros((c_ex_3l.shape[0]+2*pointsToAdd, c_ex_3l.shape[1]+2*pointsToAdd), dtype=complex)\n",
    "c_ex_3l_extended[pointsToAdd:pointsToAdd+Ny, pointsToAdd:pointsToAdd+Nx] = c_ex_3l[:,:]\n",
    "c_ey_3l_extended = np.zeros((c_ey_3l.shape[0]+2*pointsToAdd, c_ey_3l.shape[1]+2*pointsToAdd), dtype=complex)\n",
    "c_ey_3l_extended[pointsToAdd:pointsToAdd+Ny, pointsToAdd:pointsToAdd+Nx] = c_ey_3l[:,:]\n",
    "hiresNx = Nx + 2 * pointsToAdd\n",
    "hiresNy = Ny + 2 * pointsToAdd"
   ]
  },
  {
   "cell_type": "code",
   "execution_count": 18,
   "metadata": {},
   "outputs": [
    {
     "name": "stderr",
     "output_type": "stream",
     "text": [
      "/opt/Py3-6-Venv/lib/python3.6/site-packages/ipykernel_launcher.py:3: RuntimeWarning: divide by zero encountered in log10\n",
      "  This is separate from the ipykernel package so we can avoid doing imports until\n",
      "/opt/Py3-6-Venv/lib/python3.6/site-packages/ipykernel_launcher.py:7: RuntimeWarning: divide by zero encountered in log10\n",
      "  import sys\n"
     ]
    },
    {
     "data": {
      "text/plain": [
       "Text(0.5,1,'Im c_ex_3l_extended')"
      ]
     },
     "execution_count": 18,
     "metadata": {},
     "output_type": "execute_result"
    }
   ],
   "source": [
    "fig, (ax0, ax1) = plt.subplots(1,2)\n",
    "\n",
    "ax0.pcolor(20*np.log10(np.abs(np.real(c_ex_3l_extended))))\n",
    "ax0.set_aspect(\"equal\")\n",
    "ax0.set_title(\"Re c_ex_3l_extended\")\n",
    "\n",
    "ax1.pcolor(20*np.log10(np.abs(np.imag(c_ex_3l_extended))))\n",
    "ax1.set_aspect(\"equal\")\n",
    "ax1.set_title(\"Im c_ex_3l_extended\")"
   ]
  },
  {
   "cell_type": "markdown",
   "metadata": {},
   "source": [
    "## Plane wave spectrum"
   ]
  },
  {
   "cell_type": "code",
   "execution_count": 19,
   "metadata": {},
   "outputs": [],
   "source": [
    "hires = 0"
   ]
  },
  {
   "cell_type": "markdown",
   "metadata": {},
   "source": [
    "### Define $k_x$ and $k_y$"
   ]
  },
  {
   "cell_type": "code",
   "execution_count": 20,
   "metadata": {},
   "outputs": [],
   "source": [
    "if hires:\n",
    "    kx = np.fft.fftshift(np.fft.fftfreq(hiresNx,dx)) * 2 * np.pi\n",
    "    ky = np.fft.fftshift(np.fft.fftfreq(hiresNy,dy)) * 2 * np.pi\n",
    "else:\n",
    "    kx = np.fft.fftshift(np.fft.fftfreq(Nx,dx)) * 2 * np.pi\n",
    "    ky = np.fft.fftshift(np.fft.fftfreq(Ny,dy)) * 2 * np.pi\n",
    "    \n",
    "mesh_kx, mesh_ky = np.meshgrid(kx, ky)"
   ]
  },
  {
   "cell_type": "code",
   "execution_count": 21,
   "metadata": {},
   "outputs": [],
   "source": [
    "validIdx = np.where( k0**2 >= (mesh_kx**2 + mesh_ky**2) )\n",
    "nonValidIdx = np.where( k0**2 < (mesh_kx**2 + mesh_ky**2) )\n",
    "kz = np.zeros(mesh_kx.shape)\n",
    "kz[validIdx] = np.power( k0**2 - mesh_kx[validIdx]**2 - mesh_ky[validIdx]**2, 0.5 )"
   ]
  },
  {
   "cell_type": "markdown",
   "metadata": {},
   "source": [
    "### Compute $\\theta$ and $\\phi$"
   ]
  },
  {
   "cell_type": "code",
   "execution_count": 22,
   "metadata": {},
   "outputs": [],
   "source": [
    "theta, phi = dia.getThetaPhi(mesh_kx, mesh_ky, kz, k0)"
   ]
  },
  {
   "cell_type": "code",
   "execution_count": 23,
   "metadata": {},
   "outputs": [],
   "source": [
    "u = np.sin(theta) * np.cos(phi)\n",
    "v = np.sin(theta) * np.sin(phi)\n",
    "w = np.cos(theta)"
   ]
  },
  {
   "cell_type": "code",
   "execution_count": 24,
   "metadata": {},
   "outputs": [],
   "source": [
    "if hires:\n",
    "    centerU = int(Ny/2) + 1 + pointsToAdd\n",
    "    centerV = int(Nx/2) + 1 + pointsToAdd\n",
    "else:\n",
    "    centerU = int(Ny/2) + 1\n",
    "    centerV = int(Nx/2) + 1"
   ]
  },
  {
   "cell_type": "markdown",
   "metadata": {},
   "source": [
    "### Compute $F_x(k_x,k_y)$ and $F_y(k_x,k_y)$"
   ]
  },
  {
   "cell_type": "code",
   "execution_count": 25,
   "metadata": {},
   "outputs": [],
   "source": [
    "if hires:\n",
    "    Fx = np.fft.fftshift(np.fft.fft2(c_ex_3l_extended))\n",
    "    Fy = np.fft.fftshift(np.fft.fft2(c_ey_3l_extended))\n",
    "else:\n",
    "    Fx = np.fft.fftshift(np.fft.fft2(c_ex_3l))\n",
    "    Fy = np.fft.fftshift(np.fft.fft2(c_ey_3l))"
   ]
  },
  {
   "cell_type": "code",
   "execution_count": 26,
   "metadata": {},
   "outputs": [
    {
     "data": {
      "text/plain": [
       "2.6025555018262474"
      ]
     },
     "execution_count": 26,
     "metadata": {},
     "output_type": "execute_result"
    }
   ],
   "source": [
    "np.amax(np.abs(c_ey_3l))"
   ]
  },
  {
   "cell_type": "code",
   "execution_count": 27,
   "metadata": {},
   "outputs": [
    {
     "data": {
      "text/plain": [
       "Text(0.5,0.98,'011_3l_05l_+45_amp_pha_32GHz.data\\n012_3l_05l_-45_amp_pha_32GHz.data')"
      ]
     },
     "execution_count": 27,
     "metadata": {},
     "output_type": "execute_result"
    }
   ],
   "source": [
    "fig, (ax0, ax1) = plt.subplots(1, 2)\n",
    "\n",
    "vmin=-30\n",
    "vmax=50\n",
    "\n",
    "im0 = ax0.pcolor(kx, ky, 20*np.log10(np.abs(Fx)), vmin=vmin, vmax=vmax)\n",
    "ax0.set_title(\"Fx\")\n",
    "dia.addColorBar(im0, ax0)\n",
    "\n",
    "im1 = ax1.pcolor(kx, ky, 20*np.log10(np.abs(Fy)), vmin=vmin, vmax=vmax)\n",
    "ax1.set_title(\"Fy\")\n",
    "dia.addColorBar(im1, ax1)\n",
    "\n",
    "title = nam_011 +\"\\n\" + nam_012\n",
    "fig.suptitle(title)"
   ]
  },
  {
   "cell_type": "markdown",
   "metadata": {},
   "source": [
    "## Compute $E_{\\theta}$ and $E_{\\phi}$"
   ]
  },
  {
   "cell_type": "markdown",
   "metadata": {},
   "source": [
    "Balanis, p.976\n",
    "\n",
    "$ E(r,\\theta,\\phi) = j\\frac{ke^{-jkr}}{2\\pi r}[cos\\theta\\,F(k_x,k_y)] $\n",
    "\n",
    "$ E_{\\theta} = j \\frac{k e^{-jkr}}{2 \\pi r} (F_x\\,cos\\phi + F_y\\,sin\\phi) $\n",
    "\n",
    "$ E_{\\phi}   = j \\frac{k e^{-jkr}}{2 \\pi r} cos \\theta (-F_x\\,sin\\phi + F_y\\,cos\\phi) $"
   ]
  },
  {
   "cell_type": "code",
   "execution_count": 63,
   "metadata": {},
   "outputs": [],
   "source": [
    "E_theta    =                   Fx * np.cos(phi) + Fy * np.sin(phi)\n",
    "E_phi      = np.cos(theta) * (-Fx * np.sin(phi) + Fy * np.cos(phi))\n",
    "E_theta_dB = 20*np.log10(np.abs(E_theta))\n",
    "E_phi_dB   = 20*np.log10(np.abs(E_phi))\n",
    "\n",
    "E_co       = E_theta * np.cos(phi) - E_phi * np.sin(phi)\n",
    "E_cross    = E_theta * np.sin(phi) + E_phi * np.cos(phi)\n",
    "E_co_dB    = 20*np.log10(np.abs(E_co))\n",
    "E_cross_dB = 20*np.log10(np.abs(E_cross))\n",
    "\n",
    "Ex_ff = E_theta * np.cos(theta) * np.cos(phi) - E_phi * np.sin(phi)\n",
    "Ey_ff = E_theta * np.cos(theta) * np.sin(phi) + E_phi * np.cos(phi)\n",
    "Ex_ff_dB = 20*np.log10(np.abs(Ex_ff))\n",
    "Ey_ff_dB = 20*np.log10(np.abs(Ey_ff))\n",
    "max_ff_dB = np.amax((Ex_ff_dB, Ey_ff_dB))\n",
    "min_ff_dB = max_ff_dB - 40"
   ]
  },
  {
   "cell_type": "code",
   "execution_count": 30,
   "metadata": {},
   "outputs": [
    {
     "data": {
      "text/plain": [
       "Text(0.5,0.98,'011_3l_05l_+45_amp_pha_32GHz.data\\n012_3l_05l_-45_amp_pha_32GHz.data')"
      ]
     },
     "execution_count": 30,
     "metadata": {},
     "output_type": "execute_result"
    }
   ],
   "source": [
    "fig, (ax0, ax1) = plt.subplots(1, 2)\n",
    "\n",
    "im0 = ax0.pcolor(XX, YY, Ex_ff_dB, vmin=min_ff_dB, vmax=max_ff_dB, cmap=par.parula_map)\n",
    "ax0.set_title(\"Ex_ff\")\n",
    "dia.addColorBar(im0, ax0)\n",
    "\n",
    "im1 = ax1.pcolor(XX, YY, Ey_ff_dB, vmin=min_ff_dB, vmax=max_ff_dB, cmap=par.parula_map)\n",
    "ax1.set_title(\"Ey_ff\")\n",
    "dia.addColorBar(im1, ax1)\n",
    "\n",
    "title = nam_011 +\"\\n\" + nam_012\n",
    "fig.suptitle(title)"
   ]
  },
  {
   "cell_type": "code",
   "execution_count": 31,
   "metadata": {},
   "outputs": [
    {
     "data": {
      "text/plain": [
       "Text(0.5,0.98,'011_3l_05l_+45_amp_pha_32GHz.data\\n012_3l_05l_-45_amp_pha_32GHz.data')"
      ]
     },
     "execution_count": 31,
     "metadata": {},
     "output_type": "execute_result"
    }
   ],
   "source": [
    "fig, (ax0, ax1) = plt.subplots(1, 2)\n",
    "\n",
    "im0 = ax0.pcolor(u, v, 20*np.log10(np.abs(E_theta)), vmax=vmax, vmin=vmin)\n",
    "ax0.set_title(\"E_theta\")\n",
    "ax0.set_xlabel(\"u\")\n",
    "ax0.set_ylabel(\"v\")\n",
    "dia.addColorBar(im0, ax0)\n",
    "\n",
    "im1 = ax1.pcolor(u, v, 20*np.log10(np.abs(E_phi)), vmax=vmax, vmin=vmin)\n",
    "ax1.set_title(\"E_phi\")\n",
    "ax1.set_xlabel(\"u\")\n",
    "ax1.set_ylabel(\"v\")\n",
    "dia.addColorBar(im1, ax1)\n",
    "\n",
    "title = nam_011 +\"\\n\" + nam_012\n",
    "fig.suptitle(title)"
   ]
  },
  {
   "cell_type": "markdown",
   "metadata": {},
   "source": [
    "# Probe compensation I"
   ]
  },
  {
   "cell_type": "markdown",
   "metadata": {},
   "source": [
    "Yaghjian *Approximate formulas for the Far Field and Gain of Open-Ended Rectangular Waveguide*\n",
    "\n",
    "$\\overline{E} = \\frac{e^{jkr}}{kr} [ E_E(\\theta) \\, sin\\phi \\, \\hat{e}_{\\theta} \n",
    "+ E_H(\\theta) \\, cos\\phi \\, \\hat{e}_{\\phi}]$"
   ]
  },
  {
   "cell_type": "code",
   "execution_count": 54,
   "metadata": {},
   "outputs": [],
   "source": [
    "AE = 1\n",
    "a_WR28 = 7.112e-3 # WR28\n",
    "b_WR28 = 3.556e-3 # WR28\n",
    "a_X = 2.286e-2\n",
    "b_X = 1.016e-2\n",
    "a = a_WR28\n",
    "b = b_WR28\n",
    "k = k0\n",
    "\n",
    "# Far field radiated by the probe when it is oriented along Y\n",
    "E_V_theta, E_V_phi = dia.E_theta_phi_yaghjian(theta, phi, k, a, b, AE)\n",
    "E_V_probe = np.abs((E_V_theta**2 + E_V_phi**2)**0.5)\n",
    "\n",
    "# Far field radiated by the probe when it is oriented along X (i.e. rotated along z by pi/2, /!\\ z of the probe /!\\)\n",
    "E_H_theta, E_H_phi = dia.E_theta_phi_yaghjian(theta, (pi/2+phi), k, a, b, AE) # rotate the probe by pi/2 around z\n",
    "E_H_probe = np.abs((E_H_theta**2 + E_H_phi**2)**0.5)"
   ]
  },
  {
   "cell_type": "code",
   "execution_count": 55,
   "metadata": {},
   "outputs": [
    {
     "data": {
      "text/plain": [
       "Text(0,0.5,'v')"
      ]
     },
     "execution_count": 55,
     "metadata": {},
     "output_type": "execute_result"
    }
   ],
   "source": [
    "fig, (ax0, ax1) = plt.subplots(1,2)\n",
    "\n",
    "im = ax0.pcolor(u, v, E_V_probe, label=\"E_V_probe\")\n",
    "dia.addColorBar(im, ax0)\n",
    "ax0.set_aspect('equal')\n",
    "ax0.legend()\n",
    "ax0.grid()\n",
    "ax0.set_xlabel('u')\n",
    "ax0.set_ylabel('v')\n",
    "\n",
    "im = ax1.pcolor(u, v, E_H_probe, label=\"E_H_probe\")\n",
    "dia.addColorBar(im, ax1)\n",
    "ax1.set_aspect('equal')\n",
    "ax1.legend()\n",
    "ax1.grid()\n",
    "ax1.set_xlabel('u')\n",
    "ax1.set_ylabel('v')"
   ]
  },
  {
   "cell_type": "markdown",
   "metadata": {},
   "source": [
    "**With $\\theta$ and $\\phi$ the polar spherical angles as described in Stuart/McCormic/Parini p.157, one gets**\n",
    "\n",
    "$ E_{\\theta}^H(\\theta, -\\phi) \\, E_{\\theta}(\\theta, \\phi) - E_{\\phi}^H(\\theta,-\\phi) \\, E_{\\phi}(\\theta, \\phi)\n",
    "= cos\\theta \\, I_H(\\theta,\\phi)$\n",
    "\n",
    "$ E_{\\theta}^V(\\theta, -\\phi) \\, E_{\\theta}(\\theta, \\phi) - E_{\\phi}^V(\\theta,-\\phi) \\, E_{\\phi}(\\theta, \\phi)\n",
    "= cos\\theta \\, I_V(\\theta,\\phi)$\n",
    "\n",
    "i.e.\n",
    "\n",
    "$ E_{\\theta}^H(\\theta, \\phi) \\, E_{\\theta}(\\theta, \\phi) + E_{\\phi}^H(\\theta,\\phi) \\, E_{\\phi}(\\theta, \\phi)\n",
    "= cos\\theta \\, I_H(\\theta,\\phi)$\n",
    "\n",
    "$ -E_{\\theta}^V(\\theta, \\phi) \\, E_{\\theta}(\\theta, \\phi) - E_{\\phi}^V(\\theta,\\phi) \\, E_{\\phi}(\\theta, \\phi)\n",
    "= cos\\theta \\, I_V(\\theta,\\phi)$\n",
    "\n",
    "with\n",
    "\n",
    "$ I_V(k_x, k_y) = exp(jk_z z_0) \\int_{-\\infty}^{\\infty} \\int_{-\\infty}^{\\infty} \n",
    "                    v_Y(x, y, z_0) \\, exp(jk_x x + jk_y y) \\, dx \\, dy $\n",
    "\n",
    "$ I_H(k_x, k_y) = exp(jk_z z_0) \\int_{-\\infty}^{\\infty} \\int_{-\\infty}^{\\infty} \n",
    "                    v_X(x, y, z_0) \\, exp(jk_x x + jk_y y) \\, dx \\, dy $\n",
    "                    \n",
    "If the phase of the pattern is not of interest, $z_0$ can be taken as zero.         \n",
    "                    \n",
    "$ E_{\\theta}(\\theta, \\phi)=\\frac{cos\\theta}{\\Delta (\\theta,\\phi)} \n",
    "[ -I_H(\\theta,\\phi) \\, E_{\\phi}^V (\\theta,\\phi) + I_V(\\theta, \\phi) \\, E_{\\phi}^H (\\theta,\\phi) ] $\n",
    "\n",
    "$ E_{\\phi}(\\theta, \\phi)=\\frac{cos\\theta}{\\Delta (\\theta,\\phi)} \n",
    "[ -E_{\\theta}^H (\\theta,\\phi) \\, I_V(\\theta,\\phi) + E_{\\theta}^V (\\theta,\\phi) \\, I_H(\\theta,\\phi) ] $\n",
    "\n",
    "with\n",
    "                    \n",
    "$ \n",
    "\\begin{aligned} \n",
    "\\Delta(\\theta,\\phi) & = E_{\\theta}^H(\\theta,-\\phi) \\, E_{\\phi}^V(\\theta,-\\phi) -E_{\\theta}^V(\\theta,-\\phi) \\, E_{\\phi}^H(\\theta,-\\phi)\\\\ \n",
    "                    & = E_{\\theta}^H(\\theta,\\phi) \\, E_{\\phi}^V(\\theta,\\phi) -E_{\\theta}^V(\\theta,\\phi) \\, E_{\\phi}^H(\\theta,\\phi)\\\\ \n",
    "\\end{aligned}\n",
    "$"
   ]
  },
  {
   "cell_type": "code",
   "execution_count": 56,
   "metadata": {},
   "outputs": [],
   "source": [
    "Delta_theta_phi = E_H_theta * E_phi_V - E_V_theta * E_phi_H"
   ]
  },
  {
   "cell_type": "code",
   "execution_count": 36,
   "metadata": {},
   "outputs": [],
   "source": [
    "fig, (ax0, ax1) = plt.subplots(1,2)\n",
    "\n",
    "im = ax0.pcolor(u, v, np.abs(Delta_theta_phi), label=\"Delta_theta_phi\")\n",
    "dia.addColorBar(im, ax0)\n",
    "ax0.set_aspect('equal')\n",
    "ax0.legend()\n",
    "ax0.grid()\n",
    "ax0.set_xlabel('u')\n",
    "ax0.set_ylabel('v')\n",
    "\n",
    "ax1.plot(v[:,centerU], Delta_theta_phi[:,centerU],label=f\"v, column {centerU}\")\n",
    "ax1.plot(u[centerV,:], Delta_theta_phi[centerV,:], label=f\"u, row {centerV}\")\n",
    "ax1.legend()\n",
    "ax1.grid()"
   ]
  },
  {
   "cell_type": "markdown",
   "metadata": {},
   "source": [
    "## $E_{\\theta}\\,E_{\\phi}$"
   ]
  },
  {
   "cell_type": "code",
   "execution_count": 57,
   "metadata": {},
   "outputs": [],
   "source": [
    "E_theta_comp = np.cos(theta) / Delta_theta_phi * (-Fx * E_V_phi   + Fy * E_H_phi)\n",
    "E_phi_comp   = np.cos(theta) / Delta_theta_phi * (-E_H_theta * Fy + E_V_theta * Fx)\n",
    "\n",
    "E_theta_comp_dB = 20*np.log10(np.abs(E_theta_comp))\n",
    "E_phi_comp_dB = 20*np.log10(np.abs(E_phi_comp))"
   ]
  },
  {
   "cell_type": "code",
   "execution_count": 38,
   "metadata": {},
   "outputs": [
    {
     "data": {
      "text/plain": [
       "Text(0.5,0,'u')"
      ]
     },
     "execution_count": 38,
     "metadata": {},
     "output_type": "execute_result"
    }
   ],
   "source": [
    "fig, ((ax0, ax1), (ax2, ax3)) = plt.subplots(2, 2)\n",
    "\n",
    "ax0.plot(v[:,centerU], E_theta_dB[:,centerU], label=f\"E_theta u = 0\")\n",
    "ax0.plot(v[:,centerU], E_theta_comp_dB[:,centerU], label=f\"E_theta u = 0 comp\")\n",
    "ax0.legend()\n",
    "ax0.grid()\n",
    "#ax0.set_ylim(-60,0)\n",
    "ax0.set_xlabel(\"v\")\n",
    "\n",
    "ax1.plot(v[:,centerU], E_phi_dB[:,centerU], label=f\"E_phi u = 0\")\n",
    "ax1.plot(v[:,centerU], E_phi_comp_dB[:,centerU], label=f\"E_phi u = 0 comp\")\n",
    "ax1.legend()\n",
    "ax1.grid()\n",
    "#ax1.set_ylim(-60,0)\n",
    "ax1.set_xlabel(\"v\")\n",
    "\n",
    "ax2.plot(u[centerV,:], E_theta_dB[centerV,:], label=f\"E_theta v = 0\")\n",
    "ax2.plot(u[centerV,:], E_theta_comp_dB[centerV,:], label=f\"E_theta v = 0 comp\")\n",
    "ax2.legend()\n",
    "ax2.grid()\n",
    "#ax2.set_ylim(-60,0)\n",
    "ax2.set_xlabel(\"u\")\n",
    "\n",
    "ax3.plot(u[centerV,:], E_phi_dB[centerV,:], label=f\"E_phi v = 0\")\n",
    "ax3.plot(u[centerV,:], E_phi_comp_dB[centerV,:], label=f\"E_phi v = 0 comp\")\n",
    "ax3.legend()\n",
    "ax3.grid()\n",
    "#ax3.set_ylim(-60,0)\n",
    "ax3.set_xlabel(\"u\")"
   ]
  },
  {
   "cell_type": "code",
   "execution_count": 39,
   "metadata": {},
   "outputs": [
    {
     "data": {
      "text/plain": [
       "Text(0.5,0.98,'011_3l_05l_+45_amp_pha_32GHz.data\\n012_3l_05l_-45_amp_pha_32GHz.data')"
      ]
     },
     "execution_count": 39,
     "metadata": {},
     "output_type": "execute_result"
    }
   ],
   "source": [
    "fig, (ax0, ax1) = plt.subplots(1, 2)\n",
    "\n",
    "im0 = ax0.pcolor(u, v, 20*np.log10(np.abs(E_theta_comp)), vmax=vmax, vmin=vmin, cmap=par.parula_map)\n",
    "ax0.set_title(\"E_theta_comp\")\n",
    "ax0.set_xlabel(\"u\")\n",
    "ax0.set_ylabel(\"v\")\n",
    "dia.addColorBar(im0, ax0)\n",
    "\n",
    "im1 = ax1.pcolor(u, v, 20*np.log10(np.abs(E_phi_comp)), vmax=vmax, vmin=vmin, cmap=par.parula_map)\n",
    "ax1.set_title(\"E_phi_comp\")\n",
    "ax1.set_xlabel(\"u\")\n",
    "ax1.set_ylabel(\"v\")\n",
    "dia.addColorBar(im1, ax1)\n",
    "\n",
    "title = nam_011 +\"\\n\" + nam_012\n",
    "fig.suptitle(title)"
   ]
  },
  {
   "cell_type": "code",
   "execution_count": 40,
   "metadata": {},
   "outputs": [
    {
     "data": {
      "text/plain": [
       "Text(0.5,0,'theta')"
      ]
     },
     "execution_count": 40,
     "metadata": {},
     "output_type": "execute_result"
    }
   ],
   "source": [
    "fig, ((ax0, ax1), (ax2, ax3)) = plt.subplots(2, 2)\n",
    "\n",
    "ax0.plot(phi[:,centerU]*180/pi, 20*np.log10(np.abs(E_theta[:,centerU])), label=f\"E theta theta = 0\")\n",
    "ax0.plot(phi[:,centerU]*180/pi, 20*np.log10(np.abs(E_theta_comp[:,centerU])), label=f\"E theta theta = 0 comp\")\n",
    "ax0.legend()\n",
    "ax0.grid()\n",
    "#ax0.set_ylim(-60,0)\n",
    "ax0.set_xlabel(\"phi\")\n",
    "\n",
    "ax1.plot(phi[:,centerU]*180/pi, 20*np.log10(np.abs(E_phi[:,centerU])), label=f\"E phi theta = 0\")\n",
    "ax1.plot(phi[:,centerU]*180/pi, 20*np.log10(np.abs(E_phi_comp[:,centerU])), label=f\"E phi theta = 0 comp\")\n",
    "ax1.legend()\n",
    "ax1.grid()\n",
    "#ax1.set_ylim(-60,0)\n",
    "ax1.set_xlabel(\"phi\")\n",
    "\n",
    "ax2.plot(theta[centerV,:]*180/pi, 20*np.log10(np.abs(E_theta[centerV,:])), label=f\"E theta phi = 0\")\n",
    "ax2.plot(theta[centerV,:]*180/pi, 20*np.log10(np.abs(E_theta_comp[centerV,:])), label=f\"E theta phi = 0 comp\")\n",
    "ax2.legend()\n",
    "ax2.grid()\n",
    "#ax2.set_ylim(-60,0)\n",
    "ax2.set_xlabel(\"theta\")\n",
    "\n",
    "ax3.plot(theta[centerV,:]*180/pi, 20*np.log10(np.abs(E_phi[centerV,:])), label=f\"E phi phi = 0\")\n",
    "ax3.plot(theta[centerV,:]*180/pi, 20*np.log10(np.abs(E_phi_comp[centerV,:])), label=f\"E phi phi = 0 comp\")\n",
    "ax3.legend()\n",
    "ax3.grid()\n",
    "#ax3.set_ylim(-60,0)\n",
    "ax3.set_xlabel(\"theta\")"
   ]
  },
  {
   "cell_type": "markdown",
   "metadata": {},
   "source": [
    "## $E_x\\,E_y$"
   ]
  },
  {
   "cell_type": "code",
   "execution_count": 46,
   "metadata": {},
   "outputs": [],
   "source": [
    "Eco    = E_theta * np.cos(phi) - E_phi * np.sin(phi)\n",
    "Ecross = E_theta * np.sin(phi) + E_phi * np.cos(phi)\n",
    "Eco_dB    = 20 * np.log10( np.abs(Eco) )\n",
    "Ecross_dB = 20 * np.log10( np.abs(Ecross) )\n",
    "\n",
    "Eco_comp    = E_theta_comp * np.cos(phi) - E_phi_comp * np.sin(phi)\n",
    "Ecross_comp = E_theta_comp * np.sin(phi) + E_phi_comp * np.cos(phi)\n",
    "Eco_comp_dB    = 20 * np.log10( np.abs(Eco_comp) )\n",
    "Ecross_comp_dB = 20 * np.log10( np.abs(Ecross_comp) )\n",
    "\n",
    "\n",
    "max_dB = np.amax((Eco_comp_dB, Ecross_comp_dB))\n",
    "min_dB = max_dB - 40"
   ]
  },
  {
   "cell_type": "code",
   "execution_count": 47,
   "metadata": {},
   "outputs": [
    {
     "data": {
      "text/plain": [
       "Text(0.5,0.98,'011_3l_05l_+45_amp_pha_32GHz.data\\n012_3l_05l_-45_amp_pha_32GHz.data')"
      ]
     },
     "execution_count": 47,
     "metadata": {},
     "output_type": "execute_result"
    }
   ],
   "source": [
    "fig, ((ax0, ax1),(ax2,ax3)) = plt.subplots(2, 2)\n",
    "\n",
    "im0 = ax0.pcolor(XX, YY, Eco_dB, vmin=min_dB, vmax=max_dB, cmap=par.parula_map)\n",
    "ax0.set_title(\"Eco\")\n",
    "dia.addColorBar(im0, ax0)\n",
    "\n",
    "im1 = ax1.pcolor(XX, YY, Ecross_dB, vmin=min_dB, vmax=max_dB, cmap=par.parula_map)\n",
    "ax1.set_title(\"Ecross\")\n",
    "dia.addColorBar(im1, ax1)\n",
    "\n",
    "im2 = ax2.pcolor(XX, YY, Eco_comp_dB, vmin=min_dB, vmax=max_dB, cmap=par.parula_map)\n",
    "ax2.set_title(\"Eco_comp\")\n",
    "dia.addColorBar(im2, ax2)\n",
    "\n",
    "im3 = ax3.pcolor(XX, YY, Ecross_comp_dB, vmin=min_dB, vmax=max_dB, cmap=par.parula_map)\n",
    "ax3.set_title(\"Ecross_comp\")\n",
    "dia.addColorBar(im3, ax3)\n",
    "\n",
    "title = nam_011 +\"\\n\" + nam_012\n",
    "fig.suptitle(title)"
   ]
  },
  {
   "cell_type": "code",
   "execution_count": 48,
   "metadata": {},
   "outputs": [
    {
     "data": {
      "text/plain": [
       "Text(0.5,0,'u')"
      ]
     },
     "execution_count": 48,
     "metadata": {},
     "output_type": "execute_result"
    }
   ],
   "source": [
    "fig, ((ax0, ax1), (ax2, ax3)) = plt.subplots(2, 2)\n",
    "\n",
    "ax0.plot(v[:,centerU], Eco_dB[:,centerU], label=f\"Eco u = 0\")\n",
    "ax0.plot(v[:,centerU], Eco_comp_dB[:,centerU], label=f\"Eco_comp u = 0 comp\")\n",
    "ax0.legend()\n",
    "ax0.grid()\n",
    "#ax0.set_ylim(-60,0)\n",
    "ax0.set_xlabel(\"v\")\n",
    "\n",
    "ax1.plot(v[:,centerU], Ecross_dB[:,centerU], label=f\"Ecross_ u = 0\")\n",
    "ax1.plot(v[:,centerU], Ecross_comp_dB[:,centerU], label=f\"Ecross_comp u = 0 comp\")\n",
    "ax1.legend()\n",
    "ax1.grid()\n",
    "#ax1.set_ylim(-60,0)\n",
    "ax1.set_xlabel(\"v\")\n",
    "\n",
    "ax2.plot(u[centerV,:], Eco_dB[centerV,:], label=f\"Eco v = 0\")\n",
    "ax2.plot(u[centerV,:], Eco_comp_dB[centerV,:], label=f\"Eco_comp v = 0 comp\")\n",
    "ax2.legend()\n",
    "ax2.grid()\n",
    "#ax2.set_ylim(-60,0)\n",
    "ax2.set_xlabel(\"u\")\n",
    "\n",
    "ax3.plot(u[centerV,:], Ecross_dB[centerV,:], label=f\"Ecross v = 0\")\n",
    "ax3.plot(u[centerV,:], Ecross_comp_dB[centerV,:], label=f\"Ecross_comp v = 0 comp\")\n",
    "ax3.legend()\n",
    "ax3.grid()\n",
    "#ax3.set_ylim(-60,0)\n",
    "ax3.set_xlabel(\"u\")"
   ]
  },
  {
   "cell_type": "markdown",
   "metadata": {},
   "source": [
    "## $E_{RHCP}\\,E_{LHCP}$"
   ]
  },
  {
   "cell_type": "code",
   "execution_count": 49,
   "metadata": {},
   "outputs": [],
   "source": [
    "E_RHCP_comp = (E_theta_comp + 1j * E_phi_comp) / 2\n",
    "E_LHCP_comp = (E_theta_comp - 1j * E_phi_comp) / 2\n",
    "\n",
    "E_RHCP = (E_theta + 1j * E_phi) / 2\n",
    "E_LHCP = (E_theta - 1j * E_phi) / 2\n",
    "\n",
    "max_rhcp_lhcp      = np.amax((np.abs(E_LHCP),      np.abs(E_RHCP)     ))\n",
    "max_rhcp_lhcp_comp = np.amax((np.abs(E_LHCP_comp), np.abs(E_RHCP_comp)))\n",
    "\n",
    "E_LHCP      = E_LHCP      / max_rhcp_lhcp\n",
    "E_RHCP      = E_RHCP      / max_rhcp_lhcp\n",
    "E_LHCP_comp = E_LHCP_comp / max_rhcp_lhcp\n",
    "E_RHCP_comp = E_RHCP_comp / max_rhcp_lhcp"
   ]
  },
  {
   "cell_type": "code",
   "execution_count": 50,
   "metadata": {},
   "outputs": [],
   "source": [
    "dia.plot_E_LHCP_E_RHCP(u, v, E_LHCP, E_RHCP, nam_012, nam_011, vmax=0, vmin=-40)"
   ]
  },
  {
   "cell_type": "code",
   "execution_count": 51,
   "metadata": {},
   "outputs": [],
   "source": [
    "dia.plot_E_LHCP_E_RHCP(u, v, E_LHCP_comp, E_RHCP_comp, nam_012, nam_011, vmax=0, vmin=-40, suffix=\" comp\")"
   ]
  },
  {
   "cell_type": "code",
   "execution_count": 52,
   "metadata": {},
   "outputs": [
    {
     "data": {
      "text/plain": [
       "Text(0.5,0,'u')"
      ]
     },
     "execution_count": 52,
     "metadata": {},
     "output_type": "execute_result"
    }
   ],
   "source": [
    "fig, ((ax0, ax1), (ax2, ax3)) = plt.subplots(2, 2)\n",
    "\n",
    "ax0.plot(v[:,centerU], 20*np.log10(np.abs(E_LHCP[:,centerU])), label=f\"LHCP u = 0\")\n",
    "ax0.plot(v[:,centerU], 20*np.log10(np.abs(E_LHCP_comp[:,centerU])), label=f\"LHCP u = 0 comp\")\n",
    "ax0.legend()\n",
    "ax0.grid()\n",
    "ax0.set_ylim(-60,0)\n",
    "ax0.set_xlabel(\"v\")\n",
    "\n",
    "ax1.plot(v[:,centerU], 20*np.log10(np.abs(E_RHCP[:,centerU])), label=f\"RHCP u = 0\")\n",
    "ax1.plot(v[:,centerU], 20*np.log10(np.abs(E_RHCP_comp[:,centerU])), label=f\"RHCP u = 0 comp\")\n",
    "ax1.legend()\n",
    "ax1.grid()\n",
    "ax1.set_ylim(-60,0)\n",
    "ax1.set_xlabel(\"v\")\n",
    "\n",
    "ax2.plot(u[centerV,:], 20*np.log10(np.abs(E_LHCP[centerV,:])), label=f\"LHCP v = 0\")\n",
    "ax2.plot(u[centerV,:], 20*np.log10(np.abs(E_LHCP_comp[centerV,:])), label=f\"LHCP v = 0 comp\")\n",
    "ax2.legend()\n",
    "ax2.grid()\n",
    "ax2.set_ylim(-60,0)\n",
    "ax2.set_xlabel(\"u\")\n",
    "\n",
    "ax3.plot(u[centerV,:], 20*np.log10(np.abs(E_RHCP[centerV,:])), label=f\"RHCP v = 0\")\n",
    "ax3.plot(u[centerV,:], 20*np.log10(np.abs(E_RHCP_comp[centerV,:])), label=f\"RHCP v = 0 comp\")\n",
    "ax3.legend()\n",
    "ax3.grid()\n",
    "ax3.set_ylim(-60,0)\n",
    "ax3.set_xlabel(\"u\")"
   ]
  },
  {
   "cell_type": "code",
   "execution_count": 53,
   "metadata": {},
   "outputs": [
    {
     "data": {
      "text/plain": [
       "Text(0.5,0,'theta')"
      ]
     },
     "execution_count": 53,
     "metadata": {},
     "output_type": "execute_result"
    }
   ],
   "source": [
    "fig, ((ax0, ax1), (ax2, ax3)) = plt.subplots(2, 2)\n",
    "\n",
    "ax0.plot(phi[:,centerU]*180/pi, 20*np.log10(np.abs(E_LHCP[:,centerU])), label=f\"LHCP theta = 0\")\n",
    "ax0.plot(phi[:,centerU]*180/pi, 20*np.log10(np.abs(E_LHCP_comp[:,centerU])), label=f\"LHCP theta = 0 comp\")\n",
    "ax0.legend()\n",
    "ax0.grid()\n",
    "ax0.set_ylim(-60,0)\n",
    "ax0.set_xlabel(\"phi\")\n",
    "\n",
    "ax1.plot(phi[:,centerU]*180/pi, 20*np.log10(np.abs(E_RHCP[:,centerU])), label=f\"RHCP theta = 0\")\n",
    "ax1.plot(phi[:,centerU]*180/pi, 20*np.log10(np.abs(E_RHCP_comp[:,centerU])), label=f\"RHCP theta = 0 comp\")\n",
    "ax1.legend()\n",
    "ax1.grid()\n",
    "ax1.set_ylim(-60,0)\n",
    "ax1.set_xlabel(\"phi\")\n",
    "\n",
    "ax2.plot(theta[centerV,:]*180/pi, 20*np.log10(np.abs(E_LHCP[centerV,:])), label=f\"LHCP phi = 0\")\n",
    "ax2.plot(theta[centerV,:]*180/pi, 20*np.log10(np.abs(E_LHCP_comp[centerV,:])), label=f\"LHCP phi = 0 comp\")\n",
    "ax2.legend()\n",
    "ax2.grid()\n",
    "ax2.set_ylim(-60,0)\n",
    "ax2.set_xlabel(\"theta\")\n",
    "\n",
    "ax3.plot(theta[centerV,:]*180/pi, 20*np.log10(np.abs(E_RHCP[centerV,:])), label=f\"RHCP phi = 0\")\n",
    "ax3.plot(theta[centerV,:]*180/pi, 20*np.log10(np.abs(E_RHCP_comp[centerV,:])), label=f\"RHCP phi = 0 comp\")\n",
    "ax3.legend()\n",
    "ax3.grid()\n",
    "ax3.set_ylim(-60,0)\n",
    "ax3.set_xlabel(\"theta\")"
   ]
  },
  {
   "cell_type": "markdown",
   "metadata": {},
   "source": [
    "# Probe compensation II"
   ]
  },
  {
   "cell_type": "markdown",
   "metadata": {},
   "source": [
    "## Compute probe pattern"
   ]
  },
  {
   "cell_type": "code",
   "execution_count": 68,
   "metadata": {},
   "outputs": [],
   "source": [
    "E_V_x =  E_V_theta * np.cos(theta) * np.cos(phi) - E_V_phi * np.sin(phi)\n",
    "E_V_y =  E_V_theta * np.cos(theta) * np.sin(phi) + E_V_phi * np.cos(phi)\n",
    "E_V_z = -E_V_theta * np.sin(theta)\n",
    "\n",
    "Ey_probe = E_V_theta * np.cos(theta) * np.sin(phi) + E_V_phi * np.cos(phi)\n",
    "\n",
    "E_H_x =  E_H_theta * np.cos(theta) * np.cos(phi) - E_H_phi * np.sin(phi)\n",
    "E_H_y =  E_H_theta * np.cos(theta) * np.sin(phi) + E_H_phi * np.cos(phi)\n",
    "E_H_z = -E_H_theta * np.sin(theta)\n",
    "\n",
    "Ex_probe = E_H_theta * np.cos(theta) * np.cos(phi) - E_H_phi * np.sin(phi)"
   ]
  },
  {
   "cell_type": "markdown",
   "metadata": {},
   "source": [
    "## $E_x\\,E_y$\n",
    "\n",
    "$F_z$ is not considered."
   ]
  },
  {
   "cell_type": "code",
   "execution_count": null,
   "metadata": {},
   "outputs": [],
   "source": [
    "def getFz(kx, ky, kz, Fx, Fy):\n",
    "    Fz = np.zeros(Fx.shape, dtype=complex)\n",
    "    idx = np.where(kz!=0)\n",
    "    Fz[idx] = - ( kx[idx] * Fx[idx] + ky[idx] * Fy[idx] ) / kz[idx]\n",
    "    return Fz"
   ]
  },
  {
   "cell_type": "code",
   "execution_count": null,
   "metadata": {},
   "outputs": [],
   "source": [
    "Fz = getFz(mesh_kx, mesh_ky, kz, Fx, Fy)"
   ]
  },
  {
   "cell_type": "code",
   "execution_count": null,
   "metadata": {},
   "outputs": [],
   "source": [
    "E2x_comp = kz / k0 * Fx / Ex_probe\n",
    "E2y_comp = kz / k0 * Fy / Ey_probe\n",
    "E2z_comp = 0\n",
    "E2x_comp_dB = 20 * np.log10( np.abs( E2x_comp ) )\n",
    "E2y_comp_dB = 20 * np.log10( np.abs( E2y_comp ) )\n",
    "\n",
    "Ex = np.cos(theta) * Fx\n",
    "Ey = np.cos(theta) * Fy\n",
    "Ez = np.cos(theta) * Fz\n",
    "Ex_dB = 20 * np.log10( np.abs( E2x ) )\n",
    "Ey_dB = 20 * np.log10( np.abs( E2y ) )\n",
    "\n",
    "vmax = np.amax( ( np.abs(E2x_comp[validIdx]), np.abs(E2y_comp[validIdx]) ) )\n",
    "vmin = np.amin( ( np.abs(E2x_comp[validIdx]), np.abs(E2y_comp[validIdx]) ) )\n",
    "print(f\"vmax = {vmax:.3f}, vmin = {vmin:.3f}\")\n",
    "vmax = 20 * np.log10( vmax )\n",
    "vmin = 0\n",
    "print(f\"vmax = {vmax:.1f}, vmin = {vmin} [dB]\")"
   ]
  },
  {
   "cell_type": "code",
   "execution_count": null,
   "metadata": {},
   "outputs": [],
   "source": [
    "fig, ((ax0, ax1), (ax2, ax3)) = plt.subplots(2, 2)\n",
    "\n",
    "ax0.plot(v[:,centerU], Ex_dB[:,centerU], label=f\"E_x u = 0\")\n",
    "ax0.plot(v[:,centerU], E2x_comp_dB[:,centerU], label=f\"E2x_comp_dB u = 0 comp\")\n",
    "ax0.legend()\n",
    "ax0.grid()\n",
    "#ax0.set_ylim(-60,0)\n",
    "ax0.set_xlabel(\"v\")\n",
    "\n",
    "ax1.plot(v[:,centerU], Ey_dB[:,centerU], label=f\"E_y u = 0\")\n",
    "ax1.plot(v[:,centerU], E2y_comp_dB[:,centerU], label=f\"E2y_comp_dB u = 0 comp\")\n",
    "ax1.legend()\n",
    "ax1.grid()\n",
    "#ax1.set_ylim(-60,0)\n",
    "ax1.set_xlabel(\"v\")\n",
    "\n",
    "ax2.plot(u[centerV,:], Ex_dB[centerV,:], label=f\"Ex_dB v = 0\")\n",
    "ax2.plot(u[centerV,:], E2x_comp_dB[centerV,:], label=f\"E2x_comp_dB v = 0 comp\")\n",
    "ax2.legend()\n",
    "ax2.grid()\n",
    "#ax2.set_ylim(-60,0)\n",
    "ax2.set_xlabel(\"u\")\n",
    "\n",
    "ax3.plot(u[centerV,:], Ey_dB[centerV,:], label=f\"Ey_dB v = 0\")\n",
    "ax3.plot(u[centerV,:], E2y_comp_dB[centerV,:], label=f\"E2y_comp_dB v = 0 comp\")\n",
    "ax3.legend()\n",
    "ax3.grid()\n",
    "#ax3.set_ylim(-60,0)\n",
    "ax3.set_xlabel(\"u\")"
   ]
  },
  {
   "cell_type": "markdown",
   "metadata": {},
   "source": [
    "## $E_{\\theta}\\,E_{\\phi}$"
   ]
  },
  {
   "cell_type": "code",
   "execution_count": null,
   "metadata": {},
   "outputs": [],
   "source": [
    "E2_r     =   Ex_comp * np.sin(theta) * np.cos(phi) + Ey_comp * np.sin(theta) * np.sin(phi) + Ez_comp * np.cos(theta)\n",
    "E2_theta =   Ex_comp * np.cos(theta) * np.cos(phi) + Ey_comp * np.cos(theta) * np.sin(phi) - Ez_comp * np.sin(theta)\n",
    "E2_phi   = - Ex_comp * np.sin(phi)                 + Ey_comp * np.cos(phi)\n",
    "\n",
    "E2_theta_dB = 20 * np.log10( np.abs( E2_theta ) )\n",
    "E2_phi_dB = 20 * np.log10( np.abs( E2_phi ) )"
   ]
  },
  {
   "cell_type": "code",
   "execution_count": null,
   "metadata": {},
   "outputs": [],
   "source": [
    "fig, ((ax0, ax1), (ax2, ax3)) = plt.subplots(2, 2)\n",
    "\n",
    "ax0.plot(v[:,centerU], E_theta_dB[:,centerU], label=f\"E_theta u = 0\")\n",
    "ax0.plot(v[:,centerU], E2_theta_dB[:,centerU], label=f\"E2_theta u = 0 comp\")\n",
    "ax0.legend()\n",
    "ax0.grid()\n",
    "#ax0.set_ylim(-60,0)\n",
    "ax0.set_xlabel(\"v\")\n",
    "\n",
    "ax1.plot(v[:,centerU], E_phi_dB[:,centerU], label=f\"E_phi u = 0\")\n",
    "ax1.plot(v[:,centerU], E2_phi_dB[:,centerU], label=f\"E2_phi u = 0 comp\")\n",
    "ax1.legend()\n",
    "ax1.grid()\n",
    "#ax1.set_ylim(-60,0)\n",
    "ax1.set_xlabel(\"v\")\n",
    "\n",
    "ax2.plot(u[centerV,:], E_theta_dB[centerV,:], label=f\"E_theta v = 0\")\n",
    "ax2.plot(u[centerV,:], E2_theta_dB[centerV,:], label=f\"E2_theta v = 0 comp\")\n",
    "ax2.legend()\n",
    "ax2.grid()\n",
    "#ax2.set_ylim(-60,0)\n",
    "ax2.set_xlabel(\"u\")\n",
    "\n",
    "ax3.plot(u[centerV,:], E_phi_dB[centerV,:], label=f\"E_phi v = 0\")\n",
    "ax3.plot(u[centerV,:], E2_phi_dB[centerV,:], label=f\"E2_phi v = 0 comp\")\n",
    "ax3.legend()\n",
    "ax3.grid()\n",
    "#ax3.set_ylim(-60,0)\n",
    "ax3.set_xlabel(\"u\")"
   ]
  },
  {
   "cell_type": "code",
   "execution_count": null,
   "metadata": {},
   "outputs": [],
   "source": [
    "fig, (ax0, ax1) = plt.subplots(1, 2)\n",
    "\n",
    "im0 = ax0.pcolor(u, v, 20*np.log10(np.abs(E2_theta)), vmax=vmax, vmin=vmin)\n",
    "ax0.set_title(\"E2_theta\")\n",
    "ax0.set_xlabel(\"u\")\n",
    "ax0.set_ylabel(\"v\")\n",
    "dia.addColorBar(im0, ax0)\n",
    "\n",
    "im1 = ax1.pcolor(u, v, 20*np.log10(np.abs(E2_phi)), vmax=vmax, vmin=vmin)\n",
    "ax1.set_title(\"E2_phi\")\n",
    "ax1.set_xlabel(\"u\")\n",
    "ax1.set_ylabel(\"v\")\n",
    "dia.addColorBar(im1, ax1)\n",
    "\n",
    "title = nam_011 +\"\\n\" + nam_012\n",
    "fig.suptitle(title)"
   ]
  },
  {
   "cell_type": "markdown",
   "metadata": {},
   "source": [
    "## $E_{RHCP}\\,E_{LHCP}$"
   ]
  },
  {
   "cell_type": "code",
   "execution_count": null,
   "metadata": {},
   "outputs": [],
   "source": [
    "E2_RHCP = (E2_theta + 1j * E2_phi) / 2\n",
    "E2_LHCP = (E2_theta - 1j * E2_phi) / 2\n",
    "\n",
    "max_rhcp_lhcp = np.amax((np.abs(E2_LHCP), np.abs(E2_RHCP)))\n",
    "\n",
    "E2_RHCP = E2_RHCP / max_rhcp_lhcp\n",
    "E2_LHCP = E2_LHCP / max_rhcp_lhcp"
   ]
  },
  {
   "cell_type": "code",
   "execution_count": null,
   "metadata": {},
   "outputs": [],
   "source": [
    "fig, ((ax0, ax1), (ax2, ax3)) = plt.subplots(2, 2)\n",
    "\n",
    "ax0.plot(v[:,centerU], 20*np.log10(np.abs(E_LHCP[:,centerU])), label=f\"LHCP u = 0\")\n",
    "ax0.plot(v[:,centerU], 20*np.log10(np.abs(E2_LHCP[:,centerU])), label=f\"LHCP2 u = 0 comp\")\n",
    "ax0.legend()\n",
    "ax0.grid()\n",
    "#ax0.set_ylim(-60,0)\n",
    "ax0.set_xlabel(\"v\")\n",
    "\n",
    "ax1.plot(v[:,centerU], 20*np.log10(np.abs(E_RHCP[:,centerU])), label=f\"RHCP u = 0\")\n",
    "ax1.plot(v[:,centerU], 20*np.log10(np.abs(E2_RHCP[:,centerU])), label=f\"RHCP2 u = 0 comp\")\n",
    "ax1.legend()\n",
    "ax1.grid()\n",
    "#ax1.set_ylim(-60,0)\n",
    "ax1.set_xlabel(\"v\")\n",
    "\n",
    "ax2.plot(u[centerV,:], 20*np.log10(np.abs(E_LHCP[centerV,:])), label=f\"LHCP v = 0\")\n",
    "ax2.plot(u[centerV,:], 20*np.log10(np.abs(E2_LHCP[centerV,:])), label=f\"LHCP2 v = 0 comp\")\n",
    "ax2.legend()\n",
    "ax2.grid()\n",
    "#ax2.set_ylim(-60,0)\n",
    "ax2.set_xlabel(\"u\")\n",
    "\n",
    "ax3.plot(u[centerV,:], 20*np.log10(np.abs(E_RHCP[centerV,:])), label=f\"RHCP v = 0\")\n",
    "ax3.plot(u[centerV,:], 20*np.log10(np.abs(E2_RHCP[centerV,:])), label=f\"RHCP2 v = 0 comp\")\n",
    "ax3.legend()\n",
    "ax3.grid()\n",
    "#ax3.set_ylim(-60,0)\n",
    "ax3.set_xlabel(\"u\")"
   ]
  },
  {
   "cell_type": "markdown",
   "metadata": {},
   "source": [
    "# Probe compensation III"
   ]
  },
  {
   "cell_type": "markdown",
   "metadata": {},
   "source": [
    "## Compute probe pattern"
   ]
  },
  {
   "cell_type": "code",
   "execution_count": 58,
   "metadata": {},
   "outputs": [],
   "source": [
    "E_V_co    = E_V_theta * np.cos(phi) - E_V_phi * np.sin(phi)\n",
    "E_V_cross = E_V_theta * np.sin(phi) + E_V_phi * np.cos(phi)\n",
    "\n",
    "E_H_co    = E_H_theta * np.cos(phi) - E_H_phi * np.sin(phi)\n",
    "E_H_cross = E_H_theta * np.sin(phi) + E_H_phi * np.cos(phi)"
   ]
  },
  {
   "cell_type": "markdown",
   "metadata": {},
   "source": [
    "## $E_{co}\\,E_{cross}$"
   ]
  },
  {
   "cell_type": "code",
   "execution_count": 69,
   "metadata": {},
   "outputs": [],
   "source": [
    "E3_co       = np.cos(theta) * Fx / E_H_co\n",
    "E3_cross    = np.cos(theta) * Fy / E_V_cross\n",
    "E3_co_dB    = 20 * np.log10( np.abs( E3_co ) )\n",
    "E3_cross_dB = 20 * np.log10( np.abs( E3_cross ) )"
   ]
  },
  {
   "cell_type": "code",
   "execution_count": 70,
   "metadata": {},
   "outputs": [
    {
     "data": {
      "text/plain": [
       "Text(0.5,0,'u')"
      ]
     },
     "execution_count": 70,
     "metadata": {},
     "output_type": "execute_result"
    }
   ],
   "source": [
    "fig, ((ax0, ax1), (ax2, ax3)) = plt.subplots(2, 2)\n",
    "\n",
    "ax0.plot(v[:,centerU], E_co_dB[:,centerU], label=f\"E_co u = 0\")\n",
    "ax0.plot(v[:,centerU], E3_co_dB[:,centerU], label=f\"E3_cross u = 0 comp\")\n",
    "ax0.legend()\n",
    "ax0.grid()\n",
    "#ax0.set_ylim(-60,0)\n",
    "ax0.set_xlabel(\"v\")\n",
    "\n",
    "ax1.plot(v[:,centerU], E_cross_dB[:,centerU], label=f\"E_cross u = 0\")\n",
    "ax1.plot(v[:,centerU], E3_cross_dB[:,centerU], label=f\"E3_cross u = 0 comp\")\n",
    "ax1.legend()\n",
    "ax1.grid()\n",
    "#ax1.set_ylim(-60,0)\n",
    "ax1.set_xlabel(\"v\")\n",
    "\n",
    "ax2.plot(u[centerV,:], E_co_dB[centerV,:], label=f\"Eco v = 0\")\n",
    "ax2.plot(u[centerV,:], E3_co_dB[centerV,:], label=f\"E3_co v = 0 comp\")\n",
    "ax2.legend()\n",
    "ax2.grid()\n",
    "#ax2.set_ylim(-60,0)\n",
    "ax2.set_xlabel(\"u\")\n",
    "\n",
    "ax3.plot(u[centerV,:], E_cross_dB[centerV,:], label=f\"E_cross v = 0\")\n",
    "ax3.plot(u[centerV,:], E3_cross_dB[centerV,:], label=f\"E3_cross_dB v = 0 comp\")\n",
    "ax3.legend()\n",
    "ax3.grid()\n",
    "#ax3.set_ylim(-60,0)\n",
    "ax3.set_xlabel(\"u\")"
   ]
  },
  {
   "cell_type": "markdown",
   "metadata": {},
   "source": [
    "## $E_{RHCP}\\,E_{LHCP}$"
   ]
  },
  {
   "cell_type": "code",
   "execution_count": 71,
   "metadata": {},
   "outputs": [],
   "source": [
    "E3_RHCP = (E3_co + 1j * E3_cross) / 2\n",
    "E3_LHCP = (E3_co - 1j * E3_cross) / 2\n",
    "\n",
    "max_rhcp_lhcp = np.amax((np.abs(E3_LHCP), np.abs(E3_RHCP)))\n",
    "\n",
    "E3_RHCP = E3_RHCP / max_rhcp_lhcp\n",
    "E3_LHCP = E3_LHCP / max_rhcp_lhcp"
   ]
  },
  {
   "cell_type": "code",
   "execution_count": 72,
   "metadata": {},
   "outputs": [
    {
     "data": {
      "text/plain": [
       "Text(0.5,0,'u')"
      ]
     },
     "execution_count": 72,
     "metadata": {},
     "output_type": "execute_result"
    }
   ],
   "source": [
    "fig, ((ax0, ax1), (ax2, ax3)) = plt.subplots(2, 2)\n",
    "\n",
    "ax0.plot(v[:,centerU], 20*np.log10(np.abs(E_LHCP[:,centerU])), label=f\"LHCP u = 0\")\n",
    "ax0.plot(v[:,centerU], 20*np.log10(np.abs(E3_LHCP[:,centerU])), label=f\"LHCP3 u = 0 comp\")\n",
    "ax0.legend()\n",
    "ax0.grid()\n",
    "#ax0.set_ylim(-60,0)\n",
    "ax0.set_xlabel(\"v\")\n",
    "\n",
    "ax1.plot(v[:,centerU], 20*np.log10(np.abs(E_RHCP[:,centerU])), label=f\"RHCP u = 0\")\n",
    "ax1.plot(v[:,centerU], 20*np.log10(np.abs(E3_RHCP[:,centerU])), label=f\"RHCP3 u = 0 comp\")\n",
    "ax1.legend()\n",
    "ax1.grid()\n",
    "#ax1.set_ylim(-60,0)\n",
    "ax1.set_xlabel(\"v\")\n",
    "\n",
    "ax2.plot(u[centerV,:], 20*np.log10(np.abs(E_LHCP[centerV,:])), label=f\"LHCP v = 0\")\n",
    "ax2.plot(u[centerV,:], 20*np.log10(np.abs(E3_LHCP[centerV,:])), label=f\"LHCP3 v = 0 comp\")\n",
    "ax2.legend()\n",
    "ax2.grid()\n",
    "#ax2.set_ylim(-60,0)\n",
    "ax2.set_xlabel(\"u\")\n",
    "\n",
    "ax3.plot(u[centerV,:], 20*np.log10(np.abs(E_RHCP[centerV,:])), label=f\"RHCP v = 0\")\n",
    "ax3.plot(u[centerV,:], 20*np.log10(np.abs(E3_RHCP[centerV,:])), label=f\"RHCP3 v = 0 comp\")\n",
    "ax3.legend()\n",
    "ax3.grid()\n",
    "#ax3.set_ylim(-60,0)\n",
    "ax3.set_xlabel(\"u\")"
   ]
  },
  {
   "cell_type": "markdown",
   "metadata": {},
   "source": [
    "## $E_{\\theta}\\,E_{\\phi}$"
   ]
  },
  {
   "cell_type": "code",
   "execution_count": 73,
   "metadata": {},
   "outputs": [],
   "source": [
    "E3_theta =  E3_co * np.cos(phi) + E3_cross * np.sin(phi)\n",
    "E3_phi   = -E3_co * np.sin(phi) + E3_cross * np.cos(phi)"
   ]
  },
  {
   "cell_type": "markdown",
   "metadata": {},
   "source": [
    "## $E_x\\,E_y$"
   ]
  },
  {
   "cell_type": "code",
   "execution_count": null,
   "metadata": {},
   "outputs": [],
   "source": [
    "E3_x = \n",
    "E3_y = "
   ]
  }
 ],
 "metadata": {
  "kernelspec": {
   "display_name": "Python 3",
   "language": "python",
   "name": "python3"
  },
  "language_info": {
   "codemirror_mode": {
    "name": "ipython",
    "version": 3
   },
   "file_extension": ".py",
   "mimetype": "text/x-python",
   "name": "python",
   "nbconvert_exporter": "python",
   "pygments_lexer": "ipython3",
   "version": "3.6.6"
  },
  "toc": {
   "base_numbering": 1,
   "nav_menu": {},
   "number_sections": true,
   "sideBar": true,
   "skip_h1_title": false,
   "title_cell": "Table of Contents",
   "title_sidebar": "Contents",
   "toc_cell": false,
   "toc_position": {
    "height": "calc(100% - 180px)",
    "left": "10px",
    "top": "150px",
    "width": "323px"
   },
   "toc_section_display": true,
   "toc_window_display": true
  }
 },
 "nbformat": 4,
 "nbformat_minor": 2
}
